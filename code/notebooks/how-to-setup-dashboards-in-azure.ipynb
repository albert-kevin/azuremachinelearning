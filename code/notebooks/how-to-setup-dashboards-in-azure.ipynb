{
 "cells": [
  {
   "cell_type": "markdown",
   "metadata": {},
   "source": [
    "Author: Kevin ALBERT  \n",
    "\n",
    "Created: May 2020 "
   ]
  },
  {
   "cell_type": "markdown",
   "metadata": {},
   "source": [
    "# Dashboard\n",
    "_**how to deploy a Dash app to Azure App Service in the cloud using containers**_\n",
    "\n",
    "## Contents\n",
    "1. [Setup](#Setup)\n",
    "1. [Develop](#Develop)\n",
    "1. [Verify](#Verify)\n",
    "1. [Public](#Public)\n",
    "1. [Private](#Private)\n",
    "1. [Cleanup](#Cleanup)"
   ]
  },
  {
   "cell_type": "markdown",
   "metadata": {},
   "source": [
    "# Setup"
   ]
  },
  {
   "cell_type": "markdown",
   "metadata": {},
   "source": [
    "* required\n",
    "  * open a ssh putty session to this VM\n",
    "  * open a cloud powershell session\n",
    "* optional\n",
    "  * [register](https://hub.docker.com/) docker hub account"
   ]
  },
  {
   "cell_type": "markdown",
   "metadata": {},
   "source": [
    "# Develop"
   ]
  },
  {
   "cell_type": "markdown",
   "metadata": {},
   "source": [
    "Development files and directory for containerization.  \n",
    "Asuming the dashboard python code already developed using VSCode and debugger.\n",
    "\n",
    "1. parameters\n",
    "1. project folder\n",
    "1. project files\n",
    "  * requirements.txt\n",
    "  * application.py\n",
    "  * Dockerfile"
   ]
  },
  {
   "cell_type": "markdown",
   "metadata": {},
   "source": [
    "### parameters"
   ]
  },
  {
   "cell_type": "code",
   "execution_count": 2,
   "metadata": {},
   "outputs": [],
   "source": [
    "IPADDR           = \"51.136.61.6\" # this VM IP\n",
    "PROJNAME         = \"dash-azure\" # docker image name and project folder name\n",
    "DOCKERHUB_USER   = \"beire2018\" # docker hub account name\n",
    "AZUREDOCKER_USER = \"container2804206\" # azure docker container registry account name\n",
    "DOCKER_TAG       = \"latest\" # {v1.0.0, latest}\n",
    "WEBAPP_PORT      = \"80\" # {default 80, 8050}"
   ]
  },
  {
   "cell_type": "code",
   "execution_count": 3,
   "metadata": {},
   "outputs": [],
   "source": [
    "RESOURCE_GROUP                = \"myResourceGroup6\"\n",
    "LOCATION                      = \"northeurope\" # {westeurope, northeurope, eastus}\n",
    "APPSERVICEPLAN_NAME           = \"myAppServicePlan6\"\n",
    "APPSERVICEPLAN_COMPUTE        = \"F1\" # {F1 free 1G, B1 €11/m 1.7G, B2 3.5G, B3 7G}=DEV, {P1V2}=PROD \n",
    "WEBAPP_NAME                   = \"kevin2404206\"\n",
    "DOCKER_HUB_CONTAINER_NAME     = DOCKERHUB_USER + \"/\" + PROJNAME + \":\" + DOCKER_TAG # <username>/<container-or-image>:<tag>\n",
    "AZURE_CONTAINER_REGISTRY_NAME = AZUREDOCKER_USER + \".azurecr.io/\" + PROJNAME + \":\" + DOCKER_TAG"
   ]
  },
  {
   "cell_type": "markdown",
   "metadata": {},
   "source": [
    "### project folder"
   ]
  },
  {
   "cell_type": "code",
   "execution_count": 4,
   "metadata": {},
   "outputs": [
    {
     "name": "stdout",
     "output_type": "stream",
     "text": [
      "dash-azure folder created\n"
     ]
    }
   ],
   "source": [
    "import os\n",
    "project_folder = '../dashboards/' + PROJNAME\n",
    "os.makedirs(project_folder, exist_ok=True)\n",
    "print(PROJNAME, 'folder created')"
   ]
  },
  {
   "cell_type": "markdown",
   "metadata": {},
   "source": [
    "### project files"
   ]
  },
  {
   "cell_type": "markdown",
   "metadata": {},
   "source": [
    "**requirements.txt**  \n",
    "python packages list to be installed in container"
   ]
  },
  {
   "cell_type": "code",
   "execution_count": 5,
   "metadata": {},
   "outputs": [
    {
     "name": "stdout",
     "output_type": "stream",
     "text": [
      "Writing ../dashboards/dash-azure/requirements.txt\n"
     ]
    }
   ],
   "source": [
    "%%writefile $project_folder/requirements.txt\n",
    "dash"
   ]
  },
  {
   "cell_type": "markdown",
   "metadata": {},
   "source": [
    "**application.py**  \n",
    "plotly dash code to run a flask service in python (port: 80)"
   ]
  },
  {
   "cell_type": "code",
   "execution_count": 6,
   "metadata": {},
   "outputs": [
    {
     "name": "stdout",
     "output_type": "stream",
     "text": [
      "Writing ../dashboards/dash-azure/application.py\n"
     ]
    }
   ],
   "source": [
    "%%writefile $project_folder/application.py\n",
    "import dash\n",
    "import dash_core_components as dcc\n",
    "import dash_html_components as html\n",
    "\n",
    "app = dash.Dash()\n",
    "application = app.server\n",
    "\n",
    "app.layout = html.Div(children=[\n",
    "    html.H1(children='Hello Dash'),\n",
    "\n",
    "    html.Div(children='''This is Dash running on Azure App Service.'''),\n",
    "\n",
    "    dcc.Graph(\n",
    "        id='example-graph',\n",
    "        figure={\n",
    "            'data': [\n",
    "                {'x': [1, 2, 3], 'y': [4, 1, 2], 'type': 'bar', 'name': 'SF'},\n",
    "                {'x': [1, 2, 3], 'y': [2, 4, 5], 'type': 'bar', 'name': u'Montréal'},\n",
    "            ],\n",
    "            'layout': {\n",
    "                'title': 'Dash Data Visualization'\n",
    "            }\n",
    "        }\n",
    "    )\n",
    "])\n",
    "\n",
    "if __name__ == '__main__':\n",
    "    application.run(debug=True, host='0.0.0.0', port='80')  # use port 80 for Azure Web App service"
   ]
  },
  {
   "cell_type": "markdown",
   "metadata": {},
   "source": [
    "**Dockerfile**  \n",
    "docker container build steps, open an interactive shell to develop steps and remove upon exit\n",
    "```sh\n",
    "sudo docker container run -p 8050:80 --rm -it python:3.6-alpine /bin/sh\n",
    "    pip -V\n",
    "    mkdir /app\n",
    "    cd /app\n",
    "    vi requirements.txt\n",
    "    pip install -r requirements.txt\n",
    "    vi application.py\n",
    "    python application.py\n",
    "```"
   ]
  },
  {
   "cell_type": "code",
   "execution_count": 7,
   "metadata": {},
   "outputs": [
    {
     "name": "stdout",
     "output_type": "stream",
     "text": [
      "Writing ../dashboards/dash-azure/Dockerfile\n"
     ]
    }
   ],
   "source": [
    "%%writefile $project_folder/Dockerfile\n",
    "FROM python:3.6-slim\n",
    "\n",
    "RUN mkdir /app\n",
    "WORKDIR /app\n",
    "ADD . /app/\n",
    "RUN pip install -r requirements.txt\n",
    "\n",
    "ENTRYPOINT [ \"python\" ]\n",
    "CMD [\"application.py\"]"
   ]
  },
  {
   "cell_type": "markdown",
   "metadata": {},
   "source": [
    "# Verify"
   ]
  },
  {
   "cell_type": "markdown",
   "metadata": {},
   "source": [
    "Test run the docker container on the cloud VM (local)\n",
    "\n",
    "1. build image\n",
    "1. run image"
   ]
  },
  {
   "cell_type": "markdown",
   "metadata": {},
   "source": [
    "### build image"
   ]
  },
  {
   "cell_type": "code",
   "execution_count": 8,
   "metadata": {},
   "outputs": [
    {
     "name": "stdout",
     "output_type": "stream",
     "text": [
      "sudo docker build -t dash-azure ../dashboards/dash-azure/.\n"
     ]
    }
   ],
   "source": [
    "print(\"sudo docker build -t \" + PROJNAME + \" \" + project_folder +\"/.\")"
   ]
  },
  {
   "cell_type": "code",
   "execution_count": 9,
   "metadata": {},
   "outputs": [
    {
     "name": "stdout",
     "output_type": "stream",
     "text": [
      "Sending build context to Docker daemon  4.608kB\n",
      "Step 1/8 : FROM python:3.6-alpine\n",
      "3.6-alpine: Pulling from library/python\n",
      "Digest: sha256:50c53d4419a5049e35009691c43d3dbf0cb6c29c14be25965af480ba77a8367f\n",
      "Status: Downloaded newer image for python:3.6-alpine\n",
      " ---> 2bb6435d63d9\n",
      "Step 2/8 : RUN mkdir /app\n",
      " ---> Using cache\n",
      " ---> feb9dd301a9b\n",
      "Step 3/8 : WORKDIR /app\n",
      " ---> Using cache\n",
      " ---> 9a898320a08e\n",
      "Step 4/8 : ADD . /app/\n",
      " ---> 65846955f534\n",
      "Step 5/8 : RUN apk add g++\n",
      " ---> Running in 625a2abef457\n",
      "fetch http://dl-cdn.alpinelinux.org/alpine/v3.11/main/x86_64/APKINDEX.tar.gz\n",
      "fetch http://dl-cdn.alpinelinux.org/alpine/v3.11/community/x86_64/APKINDEX.tar.gz\n",
      "(1/13) Installing libgcc (9.2.0-r4)\n",
      "(2/13) Installing libstdc++ (9.2.0-r4)\n",
      "(3/13) Installing binutils (2.33.1-r0)\n",
      "(4/13) Installing gmp (6.1.2-r1)\n",
      "(5/13) Installing isl (0.18-r0)\n",
      "(6/13) Installing libgomp (9.2.0-r4)\n",
      "(7/13) Installing libatomic (9.2.0-r4)\n",
      "(8/13) Installing mpfr4 (4.0.2-r1)\n",
      "(9/13) Installing mpc1 (1.1.0-r1)\n",
      "(10/13) Installing gcc (9.2.0-r4)\n",
      "(11/13) Installing musl-dev (1.1.24-r2)\n",
      "(12/13) Installing libc-dev (0.7.2-r0)\n",
      "(13/13) Installing g++ (9.2.0-r4)\n",
      "Executing busybox-1.31.1-r9.trigger\n",
      "OK: 177 MiB in 46 packages\n",
      "Removing intermediate container 625a2abef457\n",
      " ---> eda5da76a925\n",
      "Step 6/8 : RUN pip install -r requirements.txt\n",
      " ---> Running in 9d4000ec7c8e\n",
      "Collecting dash\n",
      "  Downloading dash-1.11.0.tar.gz (64 kB)\n",
      "Collecting Flask>=1.0.2\n",
      "  Downloading Flask-1.1.2-py2.py3-none-any.whl (94 kB)\n",
      "Collecting flask-compress\n",
      "  Downloading Flask-Compress-1.5.0.tar.gz (6.5 kB)\n",
      "Collecting plotly\n",
      "  Downloading plotly-4.6.0-py2.py3-none-any.whl (7.1 MB)\n",
      "Collecting dash_renderer==1.4.0\n",
      "  Downloading dash_renderer-1.4.0.tar.gz (1.2 MB)\n",
      "Collecting dash-core-components==1.9.1\n",
      "  Downloading dash_core_components-1.9.1.tar.gz (3.4 MB)\n",
      "Collecting dash-html-components==1.0.3\n",
      "  Downloading dash_html_components-1.0.3.tar.gz (187 kB)\n",
      "Collecting dash-table==4.6.2\n",
      "  Downloading dash_table-4.6.2.tar.gz (1.8 MB)\n",
      "Collecting future\n",
      "  Downloading future-0.18.2.tar.gz (829 kB)\n",
      "Collecting Jinja2>=2.10.1\n",
      "  Downloading Jinja2-2.11.2-py2.py3-none-any.whl (125 kB)\n",
      "Collecting click>=5.1\n",
      "  Downloading click-7.1.2-py2.py3-none-any.whl (82 kB)\n",
      "Collecting Werkzeug>=0.15\n",
      "  Downloading Werkzeug-1.0.1-py2.py3-none-any.whl (298 kB)\n",
      "Collecting itsdangerous>=0.24\n",
      "  Downloading itsdangerous-1.1.0-py2.py3-none-any.whl (16 kB)\n",
      "Collecting brotli\n",
      "  Downloading Brotli-1.0.7.zip (496 kB)\n",
      "Collecting six\n",
      "  Downloading six-1.14.0-py2.py3-none-any.whl (10 kB)\n",
      "Collecting retrying>=1.3.3\n",
      "  Downloading retrying-1.3.3.tar.gz (10 kB)\n",
      "Collecting MarkupSafe>=0.23\n",
      "  Downloading MarkupSafe-1.1.1.tar.gz (19 kB)\n",
      "Building wheels for collected packages: dash, flask-compress, dash-renderer, dash-core-components, dash-html-components, dash-table, future, brotli, retrying, MarkupSafe\n",
      "  Building wheel for dash (setup.py): started\n",
      "  Building wheel for dash (setup.py): finished with status 'done'\n",
      "  Created wheel for dash: filename=dash-1.11.0-py3-none-any.whl size=72525 sha256=f9d2f81bbf3166f175a94600acf8a9c69a9f879b1dd96f0ecb3b95a642cc1757\n",
      "  Stored in directory: /root/.cache/pip/wheels/62/4e/c3/64cbaff4cd731cda0384b630ba3c62dbcf6de39981075f7c2c\n",
      "  Building wheel for flask-compress (setup.py): started\n",
      "  Building wheel for flask-compress (setup.py): finished with status 'done'\n",
      "  Created wheel for flask-compress: filename=Flask_Compress-1.5.0-py3-none-any.whl size=5271 sha256=9c397ee956058677a16804a52c1c89df42bfa558d6b394b306756e13a82a4983\n",
      "  Stored in directory: /root/.cache/pip/wheels/16/2c/19/f840d605a062246c5569086df3694f5d1123f7f3f3a1c82f72\n",
      "  Building wheel for dash-renderer (setup.py): started\n",
      "  Building wheel for dash-renderer (setup.py): finished with status 'done'\n",
      "  Created wheel for dash-renderer: filename=dash_renderer-1.4.0-py3-none-any.whl size=1164166 sha256=80a17e22946c576f72d32e55fcbcb33a58486bef997fb1a8947e7a59b7291f28\n",
      "  Stored in directory: /root/.cache/pip/wheels/21/f5/fd/5f31406828d789ab8122213f5c17a4fe7a6ea09bb4cbeb4bb3\n",
      "  Building wheel for dash-core-components (setup.py): started\n",
      "  Building wheel for dash-core-components (setup.py): finished with status 'done'\n",
      "  Created wheel for dash-core-components: filename=dash_core_components-1.9.1-py3-none-any.whl size=3407354 sha256=d2287f620a399a6d8e562a64f366ee119aba8e95872b0bad31e36636859dc6a6\n",
      "  Stored in directory: /root/.cache/pip/wheels/e8/e4/14/208d2b40d14de1f61bf3092c0aebdb35b734c2b758baf335d2\n",
      "  Building wheel for dash-html-components (setup.py): started\n",
      "  Building wheel for dash-html-components (setup.py): finished with status 'done'\n",
      "  Created wheel for dash-html-components: filename=dash_html_components-1.0.3-py3-none-any.whl size=427304 sha256=cefcd1185dfab435165138abdc3dba92ec7c0b34a41d97620c5e47b22e2ecf73\n",
      "  Stored in directory: /root/.cache/pip/wheels/ce/17/98/d19bba6bb5893297ad4220f3dfdd2ecc44327379b4fbfc519a\n",
      "  Building wheel for dash-table (setup.py): started\n",
      "  Building wheel for dash-table (setup.py): finished with status 'done'\n",
      "  Created wheel for dash-table: filename=dash_table-4.6.2-py3-none-any.whl size=1769390 sha256=958f96406669a7a70b8d886e96339965632b7543bc6bc399f8e89181ff9b474e\n",
      "  Stored in directory: /root/.cache/pip/wheels/cf/ce/65/3e4150e6d7f76d78883e07b9bf1aa628a1d36fdde8c4f307fd\n",
      "  Building wheel for future (setup.py): started\n",
      "  Building wheel for future (setup.py): finished with status 'done'\n",
      "  Created wheel for future: filename=future-0.18.2-py3-none-any.whl size=491058 sha256=384f3a73890c281926835637b2b5a6e40761dff590f67325a2b6cb98189251e4\n",
      "  Stored in directory: /root/.cache/pip/wheels/6e/9c/ed/4499c9865ac1002697793e0ae05ba6be33553d098f3347fb94\n",
      "  Building wheel for brotli (setup.py): started\n",
      "  Building wheel for brotli (setup.py): finished with status 'done'\n",
      "  Created wheel for brotli: filename=Brotli-1.0.7-cp36-cp36m-linux_x86_64.whl size=2545108 sha256=42f5804acf174787fae2c624641dfb1092847c088433f68d62da62a5aa486e47\n",
      "  Stored in directory: /root/.cache/pip/wheels/40/ef/b5/c7d59270646235d0048a3328b4feabd912cde874944f4b8d19\n",
      "  Building wheel for retrying (setup.py): started\n",
      "  Building wheel for retrying (setup.py): finished with status 'done'\n",
      "  Created wheel for retrying: filename=retrying-1.3.3-py3-none-any.whl size=11430 sha256=8016524087dff3d969287cfa75205389108c42eaf07dcea930c9555f87003d94\n",
      "  Stored in directory: /root/.cache/pip/wheels/ac/cb/8a/b27bf6323e2f4c462dcbf77d70b7c5e7868a7fbe12871770cf\n",
      "  Building wheel for MarkupSafe (setup.py): started\n",
      "  Building wheel for MarkupSafe (setup.py): finished with status 'done'\n",
      "  Created wheel for MarkupSafe: filename=MarkupSafe-1.1.1-cp36-cp36m-linux_x86_64.whl size=31678 sha256=62ec3510565a358d3aac72b715ce781a38940c8b7ac4cfe78bb328a4bb2efb4d\n",
      "  Stored in directory: /root/.cache/pip/wheels/ca/85/2f/4c3a8ca6fb5eec7b43ec1e5666c7274dcdb86d6c32231aaa9d\n",
      "Successfully built dash flask-compress dash-renderer dash-core-components dash-html-components dash-table future brotli retrying MarkupSafe\n",
      "Installing collected packages: MarkupSafe, Jinja2, click, Werkzeug, itsdangerous, Flask, brotli, flask-compress, six, retrying, plotly, dash-renderer, dash-core-components, dash-html-components, dash-table, future, dash\n",
      "Successfully installed Flask-1.1.2 Jinja2-2.11.2 MarkupSafe-1.1.1 Werkzeug-1.0.1 brotli-1.0.7 click-7.1.2 dash-1.11.0 dash-core-components-1.9.1 dash-html-components-1.0.3 dash-renderer-1.4.0 dash-table-4.6.2 flask-compress-1.5.0 future-0.18.2 itsdangerous-1.1.0 plotly-4.6.0 retrying-1.3.3 six-1.14.0\n",
      "Removing intermediate container 9d4000ec7c8e\n",
      " ---> d76fdbab75c9\n",
      "Step 7/8 : ENTRYPOINT [ \"python\" ]\n",
      " ---> Running in 62f592602388\n",
      "Removing intermediate container 62f592602388\n",
      " ---> 481d3f2576f9\n",
      "Step 8/8 : CMD [\"application.py\"]\n",
      " ---> Running in 2224ef1c290e\n",
      "Removing intermediate container 2224ef1c290e\n",
      " ---> 7d39d3496fe1\n",
      "Successfully built 7d39d3496fe1\n",
      "Successfully tagged dash-azure:latest\n"
     ]
    }
   ],
   "source": [
    "! sudo docker build -t $PROJNAME $project_folder/."
   ]
  },
  {
   "cell_type": "markdown",
   "metadata": {},
   "source": [
    "### run image"
   ]
  },
  {
   "cell_type": "code",
   "execution_count": 10,
   "metadata": {},
   "outputs": [
    {
     "name": "stdout",
     "output_type": "stream",
     "text": [
      "===>  http://51.136.61.6:8050/ \n",
      "\n",
      " * Serving Flask app \"application\" (lazy loading)\n",
      " * Environment: production\n",
      "\u001b[31m   WARNING: This is a development server. Do not use it in a production deployment.\u001b[0m\n",
      "\u001b[2m   Use a production WSGI server instead.\u001b[0m\n",
      " * Debug mode: on\n",
      " * Running on http://0.0.0.0:80/ (Press CTRL+C to quit)\n",
      " * Restarting with stat\n",
      " * Debugger is active!\n",
      " * Debugger PIN: 834-696-868\n",
      "84.198.32.146 - - [28/Apr/2020 06:33:57] \"\u001b[37mGET / HTTP/1.1\u001b[0m\" 200 -\n",
      "84.198.32.146 - - [28/Apr/2020 06:33:58] \"\u001b[37mGET /_dash-component-suites/dash_renderer/polyfill@7.v1_3_0m1588055601.8.7.min.js HTTP/1.1\u001b[0m\" 200 -\n",
      "84.198.32.146 - - [28/Apr/2020 06:33:58] \"\u001b[37mGET /_dash-component-suites/dash_renderer/react@16.v1_3_0m1588055601.13.0.min.js HTTP/1.1\u001b[0m\" 200 -\n",
      "84.198.32.146 - - [28/Apr/2020 06:33:58] \"\u001b[37mGET /_dash-component-suites/dash_renderer/react-dom@16.v1_3_0m1588055601.13.0.min.js HTTP/1.1\u001b[0m\" 200 -\n",
      "84.198.32.146 - - [28/Apr/2020 06:33:58] \"\u001b[37mGET /_dash-component-suites/dash_renderer/prop-types@15.v1_3_0m1588055601.7.2.min.js HTTP/1.1\u001b[0m\" 200 -\n",
      "84.198.32.146 - - [28/Apr/2020 06:33:58] \"\u001b[37mGET /_dash-component-suites/dash_core_components/dash_core_components-shared.v1_9_0m1588055601.js HTTP/1.1\u001b[0m\" 200 -\n",
      "84.198.32.146 - - [28/Apr/2020 06:33:58] \"\u001b[37mGET /_dash-component-suites/dash_core_components/dash_core_components.v1_9_0m1588055601.min.js HTTP/1.1\u001b[0m\" 200 -\n",
      "84.198.32.146 - - [28/Apr/2020 06:33:58] \"\u001b[37mGET /_dash-component-suites/dash_html_components/dash_html_components.v1_0_3m1588055601.min.js HTTP/1.1\u001b[0m\" 200 -\n",
      "84.198.32.146 - - [28/Apr/2020 06:33:58] \"\u001b[37mGET /_dash-component-suites/dash_renderer/dash_renderer.v1_3_0m1588055601.min.js HTTP/1.1\u001b[0m\" 200 -\n",
      "84.198.32.146 - - [28/Apr/2020 06:33:59] \"\u001b[37mGET /_dash-layout HTTP/1.1\u001b[0m\" 200 -\n",
      "84.198.32.146 - - [28/Apr/2020 06:33:59] \"\u001b[37mGET /_dash-dependencies HTTP/1.1\u001b[0m\" 200 -\n",
      "^C\n"
     ]
    }
   ],
   "source": [
    "print(\"===>  http://\" + IPADDR + \":8050/\", \"\\n\")\n",
    "! sudo docker run -it --rm -p 8050:80 $PROJNAME   # bridge application.py port 80 to external port 8050\n",
    "\n",
    "    # stop cell when done to continue..."
   ]
  },
  {
   "cell_type": "markdown",
   "metadata": {},
   "source": [
    "# Public\n",
    "**option 1:** login, build and deploy the web app using **docker hub**\n",
    "\n",
    "1. login\n",
    "1. build image\n",
    "1. push image\n",
    "1. deploy web app"
   ]
  },
  {
   "cell_type": "markdown",
   "metadata": {},
   "source": [
    "### login\n",
    "open a putty session and execute this command"
   ]
  },
  {
   "cell_type": "code",
   "execution_count": 11,
   "metadata": {},
   "outputs": [
    {
     "name": "stdout",
     "output_type": "stream",
     "text": [
      "sudo docker login --username beire2018\n"
     ]
    }
   ],
   "source": [
    "# login to your personal docker hub account\n",
    "print(\"sudo docker login --username \" + DOCKERHUB_USER)"
   ]
  },
  {
   "cell_type": "markdown",
   "metadata": {},
   "source": [
    "### build image"
   ]
  },
  {
   "cell_type": "code",
   "execution_count": 12,
   "metadata": {},
   "outputs": [
    {
     "name": "stdout",
     "output_type": "stream",
     "text": [
      "sudo docker build -t beire2018/dash-azure ../dashboards/dash-azure/.\n"
     ]
    }
   ],
   "source": [
    "print(\"sudo docker build -t \" + DOCKERHUB_USER + \"/\" + PROJNAME + \" \" + project_folder +\"/.\")"
   ]
  },
  {
   "cell_type": "code",
   "execution_count": 13,
   "metadata": {},
   "outputs": [
    {
     "name": "stdout",
     "output_type": "stream",
     "text": [
      "Sending build context to Docker daemon  4.608kB\n",
      "Step 1/8 : FROM python:3.6-alpine\n",
      " ---> 2bb6435d63d9\n",
      "Step 2/8 : RUN mkdir /app\n",
      " ---> Using cache\n",
      " ---> feb9dd301a9b\n",
      "Step 3/8 : WORKDIR /app\n",
      " ---> Using cache\n",
      " ---> 9a898320a08e\n",
      "Step 4/8 : ADD . /app/\n",
      " ---> Using cache\n",
      " ---> 65846955f534\n",
      "Step 5/8 : RUN apk add g++\n",
      " ---> Using cache\n",
      " ---> eda5da76a925\n",
      "Step 6/8 : RUN pip install -r requirements.txt\n",
      " ---> Using cache\n",
      " ---> d76fdbab75c9\n",
      "Step 7/8 : ENTRYPOINT [ \"python\" ]\n",
      " ---> Using cache\n",
      " ---> 481d3f2576f9\n",
      "Step 8/8 : CMD [\"application.py\"]\n",
      " ---> Using cache\n",
      " ---> 7d39d3496fe1\n",
      "Successfully built 7d39d3496fe1\n",
      "Successfully tagged beire2018/dash-azure:latest\n"
     ]
    }
   ],
   "source": [
    "! sudo docker build -t $DOCKERHUB_USER/$PROJNAME $project_folder/."
   ]
  },
  {
   "cell_type": "markdown",
   "metadata": {},
   "source": [
    "### push image"
   ]
  },
  {
   "cell_type": "code",
   "execution_count": 14,
   "metadata": {},
   "outputs": [
    {
     "name": "stdout",
     "output_type": "stream",
     "text": [
      "sudo docker push beire2018/dash-azure\n"
     ]
    }
   ],
   "source": [
    "print(\"sudo docker push \" + DOCKERHUB_USER + \"/\" + PROJNAME)"
   ]
  },
  {
   "cell_type": "code",
   "execution_count": 15,
   "metadata": {},
   "outputs": [
    {
     "name": "stdout",
     "output_type": "stream",
     "text": [
      "The push refers to repository [docker.io/beire2018/dash-azure]\n",
      "\n",
      "\u001b[1Bde9733a8: Preparing \n",
      "\u001b[1B8c13a0f3: Preparing \n",
      "\u001b[1B2e4d5b30: Preparing \n",
      "\u001b[1B2c0b805b: Preparing \n",
      "\u001b[1Ba45a13cc: Preparing \n",
      "\u001b[1B9655bf6d: Preparing \n",
      "\u001b[1B6063a67d: Preparing \n",
      "\u001b[1Bb76feca4: Preparing \n",
      "\u001b[8B8c13a0f3: Pushed     172MB/170.6MBA\u001b[2K\u001b[8A\u001b[2K\u001b[9A\u001b[2K\u001b[8A\u001b[2K\u001b[9A\u001b[2K\u001b[9A\u001b[2K\u001b[8A\u001b[2K\u001b[9A\u001b[2K\u001b[2A\u001b[2K\u001b[8A\u001b[2K\u001b[8A\u001b[2K\u001b[8A\u001b[2K\u001b[8A\u001b[2K\u001b[9A\u001b[2K\u001b[9A\u001b[2K\u001b[8A\u001b[2K\u001b[9A\u001b[2K\u001b[8A\u001b[2K\u001b[8A\u001b[2K\u001b[9A\u001b[2K\u001b[8A\u001b[2K\u001b[9A\u001b[2K\u001b[8A\u001b[2K\u001b[9A\u001b[2K\u001b[8A\u001b[2K\u001b[9A\u001b[2K\u001b[9A\u001b[2K\u001b[8A\u001b[2K\u001b[9A\u001b[2K\u001b[8A\u001b[2K\u001b[8A\u001b[2K\u001b[9A\u001b[2K\u001b[8A\u001b[2K\u001b[9A\u001b[2K\u001b[8A\u001b[2K\u001b[8A\u001b[2K\u001b[9A\u001b[2K\u001b[8A\u001b[2K\u001b[9A\u001b[2K\u001b[8A\u001b[2K\u001b[7A\u001b[2K\u001b[8A\u001b[2K\u001b[9A\u001b[2K\u001b[8A\u001b[2K\u001b[9A\u001b[2K\u001b[8A\u001b[2K\u001b[9A\u001b[2K\u001b[8A\u001b[2K\u001b[9A\u001b[2K\u001b[8A\u001b[2K\u001b[9A\u001b[2K\u001b[9A\u001b[2K\u001b[8A\u001b[2K\u001b[9A\u001b[2K\u001b[8A\u001b[2K\u001b[8A\u001b[2K\u001b[9A\u001b[2K\u001b[9A\u001b[2K\u001b[9A\u001b[2K\u001b[9A\u001b[2K\u001b[8A\u001b[2K\u001b[9A\u001b[2K\u001b[9A\u001b[2K\u001b[9A\u001b[2K\u001b[8A\u001b[2K\u001b[9A\u001b[2K\u001b[9A\u001b[2K\u001b[8A\u001b[2K\u001b[9A\u001b[2K\u001b[8A\u001b[2K\u001b[9A\u001b[2K\u001b[8A\u001b[2K\u001b[9A\u001b[2K\u001b[9A\u001b[2K\u001b[8A\u001b[2K\u001b[9A\u001b[2K\u001b[8A\u001b[2K\u001b[9A\u001b[2K\u001b[8A\u001b[2K\u001b[9A\u001b[2K\u001b[8A\u001b[2K\u001b[9A\u001b[2K\u001b[8A\u001b[2K\u001b[9A\u001b[2K\u001b[8A\u001b[2K\u001b[9A\u001b[2K\u001b[8A\u001b[2K\u001b[8A\u001b[2K\u001b[8A\u001b[2K\u001b[9A\u001b[2K\u001b[9A\u001b[2K\u001b[9A\u001b[2K\u001b[9A\u001b[2K\u001b[9A\u001b[2K\u001b[8A\u001b[2K\u001b[9A\u001b[2K\u001b[8A\u001b[2K\u001b[9A\u001b[2K\u001b[8A\u001b[2K\u001b[8A\u001b[2K\u001b[9A\u001b[2K\u001b[8A\u001b[2K\u001b[9A\u001b[2K\u001b[8A\u001b[2K\u001b[9A\u001b[2K\u001b[8A\u001b[2K\u001b[9A\u001b[2K\u001b[8A\u001b[2K\u001b[9A\u001b[2K\u001b[8A\u001b[2K\u001b[9A\u001b[2K\u001b[8A\u001b[2K\u001b[8A\u001b[2K\u001b[9A\u001b[2K\u001b[9A\u001b[2K\u001b[8A\u001b[2K\u001b[8A\u001b[2K\u001b[9A\u001b[2K\u001b[8A\u001b[2K\u001b[8A\u001b[2K\u001b[8A\u001b[2K\u001b[9A\u001b[2K\u001b[8A\u001b[2K\u001b[9A\u001b[2K\u001b[8A\u001b[2K\u001b[9A\u001b[2K\u001b[9A\u001b[2K\u001b[8A\u001b[2K\u001b[8A\u001b[2K\u001b[8A\u001b[2K\u001b[8A\u001b[2K\u001b[8A\u001b[2K\u001b[8A\u001b[2K\u001b[8A\u001b[2K\u001b[8A\u001b[2K\u001b[8A\u001b[2K\u001b[8A\u001b[2K\u001b[8A\u001b[2K\u001b[8A\u001b[2K\u001b[8A\u001b[2K\u001b[8A\u001b[2K\u001b[8A\u001b[2K\u001b[8A\u001b[2K\u001b[8A\u001b[2K\u001b[8A\u001b[2K\u001b[8A\u001b[2K\u001b[8A\u001b[2K\u001b[8A\u001b[2K\u001b[8A\u001b[2K\u001b[8A\u001b[2K\u001b[8A\u001b[2K\u001b[8A\u001b[2K\u001b[8A\u001b[2K\u001b[8A\u001b[2K\u001b[8A\u001b[2K\u001b[8A\u001b[2K\u001b[8A\u001b[2K\u001b[8A\u001b[2K\u001b[8A\u001b[2K\u001b[9A\u001b[2K\u001b[8A\u001b[2Klatest: digest: sha256:6733c907d50bc8b40d50b980b0dc50a8ae9d1fac3d42cc7c7ec5aed82ca1ed98 size: 2205\n"
     ]
    }
   ],
   "source": [
    "# upload the container image\n",
    "! sudo docker push $DOCKERHUB_USER/$PROJNAME"
   ]
  },
  {
   "cell_type": "markdown",
   "metadata": {},
   "source": [
    "### deploy web app\n",
    "update the parameters and run the cell to generate a deployment script  \n",
    "connect to cloud powershell, upload script, make executable and run"
   ]
  },
  {
   "cell_type": "code",
   "execution_count": 16,
   "metadata": {},
   "outputs": [
    {
     "name": "stdout",
     "output_type": "stream",
     "text": [
      "RESOURCE_GROUP=\"myResourceGroup6\"\n",
      "LOCATION=\"northeurope\"\n",
      "APPSERVICEPLAN_NAME=\"myAppServicePlan6\"\n",
      "APPSERVICEPLAN_COMPUTE=\"B1\"\n",
      "WEBAPP_NAME=\"kevin2404206\"\n",
      "DOCKER_HUB_CONTAINER_NAME=\"beire2018/dash-azure:latest\"\n"
     ]
    }
   ],
   "source": [
    "# parameters\n",
    "print('RESOURCE_GROUP=\"' + RESOURCE_GROUP + '\"')\n",
    "print('LOCATION=\"' + LOCATION + '\"')\n",
    "print('APPSERVICEPLAN_NAME=\"' + APPSERVICEPLAN_NAME + '\"')\n",
    "print('APPSERVICEPLAN_COMPUTE=\"' + APPSERVICEPLAN_COMPUTE + '\"')\n",
    "print('WEBAPP_NAME=\"' + WEBAPP_NAME + '\"')\n",
    "print('DOCKER_HUB_CONTAINER_NAME=\"' + DOCKER_HUB_CONTAINER_NAME + '\"')"
   ]
  },
  {
   "cell_type": "code",
   "execution_count": 17,
   "metadata": {},
   "outputs": [
    {
     "name": "stdout",
     "output_type": "stream",
     "text": [
      "Writing ../dashboards/dash-azure/publicDashboard_deploy.azcli\n"
     ]
    }
   ],
   "source": [
    "%%writefile $project_folder/publicDashboard_deploy.azcli\n",
    "#!/bin/bash\n",
    "\n",
    "# you will need to login first\n",
    "az login\n",
    "\n",
    "# update these parameters\n",
    "RESOURCE_GROUP=\"myResourceGroup6\"\n",
    "LOCATION=\"northeurope\"\n",
    "APPSERVICEPLAN_NAME=\"myAppServicePlan6\"\n",
    "APPSERVICEPLAN_COMPUTE=\"B1\"\n",
    "WEBAPP_NAME=\"kevin2404206\"\n",
    "DOCKER_HUB_CONTAINER_NAME=\"beire2018/dash-azure:latest\"\n",
    "\n",
    "# create a resource group\n",
    "az group create --name $RESOURCE_GROUP --location $LOCATION\n",
    "\n",
    "# create an app service plan\n",
    "az appservice plan create \\\n",
    "  --name $APPSERVICEPLAN_NAME \\\n",
    "  --resource-group $RESOURCE_GROUP \\\n",
    "  --sku $APPSERVICEPLAN_COMPUTE \\\n",
    "  --is-linux \\\n",
    "  --location $LOCATION\n",
    "\n",
    "# create a web app with Docker Hub\n",
    "az webapp create \\\n",
    "  --resource-group $RESOURCE_GROUP \\\n",
    "  --plan $APPSERVICEPLAN_NAME \\\n",
    "  --name $WEBAPP_NAME \\\n",
    "  --deployment-container-image-name $DOCKER_HUB_CONTAINER_NAME\n",
    "\n",
    "# web app URL\n",
    "echo \"services loading... (~2min)\"\n",
    "echo \"http://${WEBAPP_NAME}.azurewebsites.net\""
   ]
  },
  {
   "cell_type": "markdown",
   "metadata": {},
   "source": [
    "# Private\n",
    "**option 2:** login, build and deploy the web app using **azure container registry**  \n",
    "\n",
    "1. create azure container registry\n",
    "1. login \n",
    "1. build image\n",
    "1. push image\n",
    "1. deploy web app"
   ]
  },
  {
   "cell_type": "markdown",
   "metadata": {},
   "source": [
    "### create azure container registry\n",
    "update the parameters and run the cell to generate a deployment script  \n",
    "connect to cloud powershell, upload script, make executable and run"
   ]
  },
  {
   "cell_type": "code",
   "execution_count": 18,
   "metadata": {},
   "outputs": [
    {
     "name": "stdout",
     "output_type": "stream",
     "text": [
      "RESOURCE_GROUP=\"myResourceGroup6\"\n",
      "LOCATION=\"northeurope\"\n",
      "CONTAINER_NAME=\"container2804206\"\n"
     ]
    }
   ],
   "source": [
    "# parameters\n",
    "print('RESOURCE_GROUP=\"' + RESOURCE_GROUP + '\"')\n",
    "print('LOCATION=\"' + LOCATION + '\"')\n",
    "print('CONTAINER_NAME=\"' + AZUREDOCKER_USER + '\"')"
   ]
  },
  {
   "cell_type": "code",
   "execution_count": 19,
   "metadata": {},
   "outputs": [
    {
     "name": "stdout",
     "output_type": "stream",
     "text": [
      "Writing ../dashboards/dash-azure/containerRegistry_deploy.azcli\n"
     ]
    }
   ],
   "source": [
    "%%writefile $project_folder/containerRegistry_deploy.azcli\n",
    "#!/bin/bash\n",
    "\n",
    "# you will need to login first\n",
    "az login\n",
    "\n",
    "# update these parameters\n",
    "RESOURCE_GROUP=\"myResourceGroup6\"\n",
    "LOCATION=\"northeurope\"\n",
    "CONTAINER_NAME=\"container2804206\"\n",
    "\n",
    "# Create an Azure Resource group\n",
    "az group create --name $RESOURCE_GROUP --location $LOCATION\n",
    "# Create an Azure Container Registry\n",
    "az acr create --name $CONTAINER_NAME --resource-group $RESOURCE_GROUP --sku Basic --admin-enabled true\n",
    "# Retrieve Azure Container Registry Credentials\n",
    "az acr credential show --name $CONTAINER_NAME"
   ]
  },
  {
   "cell_type": "markdown",
   "metadata": {},
   "source": [
    "### login\n",
    "open a putty session and execute this command"
   ]
  },
  {
   "cell_type": "code",
   "execution_count": 20,
   "metadata": {},
   "outputs": [
    {
     "name": "stdout",
     "output_type": "stream",
     "text": [
      "sudo docker login container2804206.azurecr.io --username container2804206\n"
     ]
    }
   ],
   "source": [
    "# login to your private azure container registry account\n",
    "print(\"sudo docker login \" + AZUREDOCKER_USER + \".azurecr.io --username \" + AZUREDOCKER_USER)"
   ]
  },
  {
   "cell_type": "markdown",
   "metadata": {},
   "source": [
    "### build image"
   ]
  },
  {
   "cell_type": "code",
   "execution_count": 21,
   "metadata": {},
   "outputs": [
    {
     "name": "stdout",
     "output_type": "stream",
     "text": [
      "sudo docker build -t container2804206.azurecr.io/dash-azure ../dashboards/dash-azure/.\n"
     ]
    }
   ],
   "source": [
    "print(\"sudo docker build -t \" + AZUREDOCKER_USER + \".azurecr.io/\" + PROJNAME + \" \" + project_folder +\"/.\")"
   ]
  },
  {
   "cell_type": "code",
   "execution_count": 22,
   "metadata": {},
   "outputs": [
    {
     "name": "stdout",
     "output_type": "stream",
     "text": [
      "Sending build context to Docker daemon  7.168kB\n",
      "Step 1/8 : FROM python:3.6-alpine\n",
      " ---> 2bb6435d63d9\n",
      "Step 2/8 : RUN mkdir /app\n",
      " ---> Using cache\n",
      " ---> feb9dd301a9b\n",
      "Step 3/8 : WORKDIR /app\n",
      " ---> Using cache\n",
      " ---> 9a898320a08e\n",
      "Step 4/8 : ADD . /app/\n",
      " ---> 54bc44a9e72e\n",
      "Step 5/8 : RUN apk add g++\n",
      " ---> Running in 49c35f902b2d\n",
      "fetch http://dl-cdn.alpinelinux.org/alpine/v3.11/main/x86_64/APKINDEX.tar.gz\n",
      "fetch http://dl-cdn.alpinelinux.org/alpine/v3.11/community/x86_64/APKINDEX.tar.gz\n",
      "(1/13) Installing libgcc (9.2.0-r4)\n",
      "(2/13) Installing libstdc++ (9.2.0-r4)\n",
      "(3/13) Installing binutils (2.33.1-r0)\n",
      "(4/13) Installing gmp (6.1.2-r1)\n",
      "(5/13) Installing isl (0.18-r0)\n",
      "(6/13) Installing libgomp (9.2.0-r4)\n",
      "(7/13) Installing libatomic (9.2.0-r4)\n",
      "(8/13) Installing mpfr4 (4.0.2-r1)\n",
      "(9/13) Installing mpc1 (1.1.0-r1)\n",
      "(10/13) Installing gcc (9.2.0-r4)\n",
      "(11/13) Installing musl-dev (1.1.24-r2)\n",
      "(12/13) Installing libc-dev (0.7.2-r0)\n",
      "(13/13) Installing g++ (9.2.0-r4)\n",
      "Executing busybox-1.31.1-r9.trigger\n",
      "OK: 177 MiB in 46 packages\n",
      "Removing intermediate container 49c35f902b2d\n",
      " ---> c572c5f6d476\n",
      "Step 6/8 : RUN pip install -r requirements.txt\n",
      " ---> Running in 25f68354563b\n",
      "Collecting dash\n",
      "  Downloading dash-1.11.0.tar.gz (64 kB)\n",
      "Collecting Flask>=1.0.2\n",
      "  Downloading Flask-1.1.2-py2.py3-none-any.whl (94 kB)\n",
      "Collecting flask-compress\n",
      "  Downloading Flask-Compress-1.5.0.tar.gz (6.5 kB)\n",
      "Collecting plotly\n",
      "  Downloading plotly-4.6.0-py2.py3-none-any.whl (7.1 MB)\n",
      "Collecting dash_renderer==1.4.0\n",
      "  Downloading dash_renderer-1.4.0.tar.gz (1.2 MB)\n",
      "Collecting dash-core-components==1.9.1\n",
      "  Downloading dash_core_components-1.9.1.tar.gz (3.4 MB)\n",
      "Collecting dash-html-components==1.0.3\n",
      "  Downloading dash_html_components-1.0.3.tar.gz (187 kB)\n",
      "Collecting dash-table==4.6.2\n",
      "  Downloading dash_table-4.6.2.tar.gz (1.8 MB)\n",
      "Collecting future\n",
      "  Downloading future-0.18.2.tar.gz (829 kB)\n",
      "Collecting Werkzeug>=0.15\n",
      "  Downloading Werkzeug-1.0.1-py2.py3-none-any.whl (298 kB)\n",
      "Collecting click>=5.1\n",
      "  Downloading click-7.1.2-py2.py3-none-any.whl (82 kB)\n",
      "Collecting itsdangerous>=0.24\n",
      "  Downloading itsdangerous-1.1.0-py2.py3-none-any.whl (16 kB)\n",
      "Collecting Jinja2>=2.10.1\n",
      "  Downloading Jinja2-2.11.2-py2.py3-none-any.whl (125 kB)\n",
      "Collecting brotli\n",
      "  Downloading Brotli-1.0.7.zip (496 kB)\n",
      "Collecting retrying>=1.3.3\n",
      "  Downloading retrying-1.3.3.tar.gz (10 kB)\n",
      "Collecting six\n",
      "  Downloading six-1.14.0-py2.py3-none-any.whl (10 kB)\n",
      "Collecting MarkupSafe>=0.23\n",
      "  Downloading MarkupSafe-1.1.1.tar.gz (19 kB)\n",
      "Building wheels for collected packages: dash, flask-compress, dash-renderer, dash-core-components, dash-html-components, dash-table, future, brotli, retrying, MarkupSafe\n",
      "  Building wheel for dash (setup.py): started\n",
      "  Building wheel for dash (setup.py): finished with status 'done'\n",
      "  Created wheel for dash: filename=dash-1.11.0-py3-none-any.whl size=72525 sha256=2e1f7a3dd304758f57f78dc1d1dffe3c23514dd8965ec697781558fcff93b7e9\n",
      "  Stored in directory: /root/.cache/pip/wheels/62/4e/c3/64cbaff4cd731cda0384b630ba3c62dbcf6de39981075f7c2c\n",
      "  Building wheel for flask-compress (setup.py): started\n",
      "  Building wheel for flask-compress (setup.py): finished with status 'done'\n",
      "  Created wheel for flask-compress: filename=Flask_Compress-1.5.0-py3-none-any.whl size=5271 sha256=709cc4a1cdc1b3f6941049099c57326debfa29a7968c0340ce2042fed786f501\n",
      "  Stored in directory: /root/.cache/pip/wheels/16/2c/19/f840d605a062246c5569086df3694f5d1123f7f3f3a1c82f72\n",
      "  Building wheel for dash-renderer (setup.py): started\n",
      "  Building wheel for dash-renderer (setup.py): finished with status 'done'\n",
      "  Created wheel for dash-renderer: filename=dash_renderer-1.4.0-py3-none-any.whl size=1164166 sha256=f55abafca98540cebae8be707cacec297682c80e3543a2be22d24ba80eb3d77d\n",
      "  Stored in directory: /root/.cache/pip/wheels/21/f5/fd/5f31406828d789ab8122213f5c17a4fe7a6ea09bb4cbeb4bb3\n",
      "  Building wheel for dash-core-components (setup.py): started\n",
      "  Building wheel for dash-core-components (setup.py): finished with status 'done'\n",
      "  Created wheel for dash-core-components: filename=dash_core_components-1.9.1-py3-none-any.whl size=3407354 sha256=9b645612a9e1281c6f8180a2dfa8b67f8d5cf4b4c8f747f039d93483b0c24d1b\n",
      "  Stored in directory: /root/.cache/pip/wheels/e8/e4/14/208d2b40d14de1f61bf3092c0aebdb35b734c2b758baf335d2\n",
      "  Building wheel for dash-html-components (setup.py): started\n",
      "  Building wheel for dash-html-components (setup.py): finished with status 'done'\n",
      "  Created wheel for dash-html-components: filename=dash_html_components-1.0.3-py3-none-any.whl size=427304 sha256=f9cabe1d781ec65299cdeaf82d0da3583aebfed87f6a4d0c1fbcd4f57189c87c\n",
      "  Stored in directory: /root/.cache/pip/wheels/ce/17/98/d19bba6bb5893297ad4220f3dfdd2ecc44327379b4fbfc519a\n",
      "  Building wheel for dash-table (setup.py): started\n",
      "  Building wheel for dash-table (setup.py): finished with status 'done'\n",
      "  Created wheel for dash-table: filename=dash_table-4.6.2-py3-none-any.whl size=1769390 sha256=fe8fcd894d4c2f5281db12b4b82e657017ada142d3d01f0d61af5c2f8f7249d2\n",
      "  Stored in directory: /root/.cache/pip/wheels/cf/ce/65/3e4150e6d7f76d78883e07b9bf1aa628a1d36fdde8c4f307fd\n",
      "  Building wheel for future (setup.py): started\n",
      "  Building wheel for future (setup.py): finished with status 'done'\n",
      "  Created wheel for future: filename=future-0.18.2-py3-none-any.whl size=491058 sha256=04e180a7844c662d091da66c1b05192160c377972cbe4c3b8bf94a94798f1170\n",
      "  Stored in directory: /root/.cache/pip/wheels/6e/9c/ed/4499c9865ac1002697793e0ae05ba6be33553d098f3347fb94\n",
      "  Building wheel for brotli (setup.py): started\n",
      "  Building wheel for brotli (setup.py): finished with status 'done'\n",
      "  Created wheel for brotli: filename=Brotli-1.0.7-cp36-cp36m-linux_x86_64.whl size=2545084 sha256=62a27480dc8ba277f9be8381bfbc495ba76cf1f12672f261a8ab2f6dfc1bcf5b\n",
      "  Stored in directory: /root/.cache/pip/wheels/40/ef/b5/c7d59270646235d0048a3328b4feabd912cde874944f4b8d19\n",
      "  Building wheel for retrying (setup.py): started\n",
      "  Building wheel for retrying (setup.py): finished with status 'done'\n",
      "  Created wheel for retrying: filename=retrying-1.3.3-py3-none-any.whl size=11430 sha256=9fa28e2c04229f7f592e9f3de4833620b72d03d19e74a438222761a1ddc794bf\n",
      "  Stored in directory: /root/.cache/pip/wheels/ac/cb/8a/b27bf6323e2f4c462dcbf77d70b7c5e7868a7fbe12871770cf\n",
      "  Building wheel for MarkupSafe (setup.py): started\n",
      "  Building wheel for MarkupSafe (setup.py): finished with status 'done'\n",
      "  Created wheel for MarkupSafe: filename=MarkupSafe-1.1.1-cp36-cp36m-linux_x86_64.whl size=31662 sha256=316bcbfcccb6bcd8b7166300d7311919a55b749008c15f15848b83c089f53ab3\n",
      "  Stored in directory: /root/.cache/pip/wheels/ca/85/2f/4c3a8ca6fb5eec7b43ec1e5666c7274dcdb86d6c32231aaa9d\n",
      "Successfully built dash flask-compress dash-renderer dash-core-components dash-html-components dash-table future brotli retrying MarkupSafe\n",
      "Installing collected packages: Werkzeug, click, itsdangerous, MarkupSafe, Jinja2, Flask, brotli, flask-compress, six, retrying, plotly, dash-renderer, dash-core-components, dash-html-components, dash-table, future, dash\n",
      "Successfully installed Flask-1.1.2 Jinja2-2.11.2 MarkupSafe-1.1.1 Werkzeug-1.0.1 brotli-1.0.7 click-7.1.2 dash-1.11.0 dash-core-components-1.9.1 dash-html-components-1.0.3 dash-renderer-1.4.0 dash-table-4.6.2 flask-compress-1.5.0 future-0.18.2 itsdangerous-1.1.0 plotly-4.6.0 retrying-1.3.3 six-1.14.0\n",
      "Removing intermediate container 25f68354563b\n",
      " ---> 8b39a59e334f\n",
      "Step 7/8 : ENTRYPOINT [ \"python\" ]\n",
      " ---> Running in 716e239585fd\n",
      "Removing intermediate container 716e239585fd\n",
      " ---> 839eadec17f2\n",
      "Step 8/8 : CMD [\"application.py\"]\n",
      " ---> Running in cc13304f4aa8\n",
      "Removing intermediate container cc13304f4aa8\n",
      " ---> 5962f69d5e8e\n",
      "Successfully built 5962f69d5e8e\n",
      "Successfully tagged container2804206.azurecr.io/dash-azure:latest\n"
     ]
    }
   ],
   "source": [
    "! sudo docker build -t $AZUREDOCKER_USER'.azurecr.io/'$PROJNAME $project_folder/."
   ]
  },
  {
   "cell_type": "markdown",
   "metadata": {},
   "source": [
    "### push image"
   ]
  },
  {
   "cell_type": "code",
   "execution_count": 23,
   "metadata": {},
   "outputs": [
    {
     "name": "stdout",
     "output_type": "stream",
     "text": [
      "sudo docker push container2804206.azurecr.io/dash-azure\n"
     ]
    }
   ],
   "source": [
    "print(\"sudo docker push \" + AZUREDOCKER_USER + \".azurecr.io/\" + PROJNAME)"
   ]
  },
  {
   "cell_type": "code",
   "execution_count": 24,
   "metadata": {},
   "outputs": [
    {
     "name": "stdout",
     "output_type": "stream",
     "text": [
      "The push refers to repository [container2804206.azurecr.io/dash-azure]\n",
      "\n",
      "\u001b[1Be5494b82: Preparing \n",
      "\u001b[1B40269b55: Preparing \n",
      "\u001b[1B63611e10: Preparing \n",
      "\u001b[1B2c0b805b: Preparing \n",
      "\u001b[1Ba45a13cc: Preparing \n",
      "\u001b[1B9655bf6d: Preparing \n",
      "\u001b[1B6063a67d: Preparing \n",
      "\u001b[1Bb76feca4: Preparing \n",
      "\u001b[8B40269b55: Pushed     172MB/170.6MB\u001b[8A\u001b[2K\u001b[8A\u001b[2K\u001b[9A\u001b[2K\u001b[8A\u001b[2K\u001b[9A\u001b[2K\u001b[8A\u001b[2K\u001b[5A\u001b[2K\u001b[9A\u001b[2K\u001b[8A\u001b[2K\u001b[9A\u001b[2K\u001b[8A\u001b[2K\u001b[9A\u001b[2K\u001b[5A\u001b[2K\u001b[9A\u001b[2K\u001b[5A\u001b[2K\u001b[5A\u001b[2K\u001b[8A\u001b[2K\u001b[5A\u001b[2K\u001b[8A\u001b[2K\u001b[9A\u001b[2K\u001b[8A\u001b[2K\u001b[9A\u001b[2K\u001b[5A\u001b[2K\u001b[8A\u001b[2K\u001b[9A\u001b[2K\u001b[9A\u001b[2K\u001b[8A\u001b[2K\u001b[9A\u001b[2K\u001b[5A\u001b[2K\u001b[9A\u001b[2K\u001b[5A\u001b[2K\u001b[8A\u001b[2K\u001b[9A\u001b[2K\u001b[8A\u001b[2K\u001b[5A\u001b[2K\u001b[9A\u001b[2K\u001b[8A\u001b[2K\u001b[8A\u001b[2K\u001b[9A\u001b[2K\u001b[8A\u001b[2K\u001b[9A\u001b[2K\u001b[8A\u001b[2K\u001b[9A\u001b[2K\u001b[4A\u001b[2K\u001b[8A\u001b[2K\u001b[9A\u001b[2K\u001b[8A\u001b[2K\u001b[9A\u001b[2K\u001b[9A\u001b[2K\u001b[8A\u001b[2K\u001b[9A\u001b[2K\u001b[8A\u001b[2K\u001b[3A\u001b[2K\u001b[9A\u001b[2K\u001b[9A\u001b[2K\u001b[8A\u001b[2K\u001b[9A\u001b[2K\u001b[3A\u001b[2K\u001b[8A\u001b[2K\u001b[9A\u001b[2K\u001b[9A\u001b[2K\u001b[8A\u001b[2K\u001b[8A\u001b[2K\u001b[3A\u001b[2K\u001b[8A\u001b[2K\u001b[3A\u001b[2K\u001b[8A\u001b[2K\u001b[3A\u001b[2K\u001b[8A\u001b[2K\u001b[3A\u001b[2K\u001b[8A\u001b[2K\u001b[3A\u001b[2K\u001b[3A\u001b[2K\u001b[8A\u001b[2K\u001b[9A\u001b[2K\u001b[3A\u001b[2K\u001b[9A\u001b[2K\u001b[3A\u001b[2K\u001b[8A\u001b[2K\u001b[9A\u001b[2K\u001b[8A\u001b[2K\u001b[2A\u001b[2K\u001b[8A\u001b[2K\u001b[2A\u001b[2K\u001b[8A\u001b[2K\u001b[3A\u001b[2K\u001b[8A\u001b[2K\u001b[2A\u001b[2K\u001b[9A\u001b[2K\u001b[2A\u001b[2K\u001b[3A\u001b[2K\u001b[9A\u001b[2K\u001b[9A\u001b[2K\u001b[3A\u001b[2K\u001b[8A\u001b[2K\u001b[3A\u001b[2K\u001b[3A\u001b[2K\u001b[8A\u001b[2K\u001b[3A\u001b[2K\u001b[9A\u001b[2K\u001b[8A\u001b[2K\u001b[3A\u001b[2K\u001b[8A\u001b[2K\u001b[3A\u001b[2K\u001b[1A\u001b[2K\u001b[3A\u001b[2K\u001b[9A\u001b[2K\u001b[8A\u001b[2K\u001b[9A\u001b[2K\u001b[3A\u001b[2K\u001b[1A\u001b[2K\u001b[3A\u001b[2K\u001b[1A\u001b[2K\u001b[1A\u001b[2K\u001b[9A\u001b[2K\u001b[1A\u001b[2K\u001b[3A\u001b[2K\u001b[1A\u001b[2K\u001b[9A\u001b[2K\u001b[1A\u001b[2K\u001b[8A\u001b[2K\u001b[1A\u001b[2K\u001b[8A\u001b[2K\u001b[8A\u001b[2K\u001b[3A\u001b[2K\u001b[1A\u001b[2K\u001b[3A\u001b[2K\u001b[9A\u001b[2K\u001b[8A\u001b[2K\u001b[3A\u001b[2K\u001b[3A\u001b[2K\u001b[9A\u001b[2K\u001b[1A\u001b[2K\u001b[8A\u001b[2K\u001b[3A\u001b[2K\u001b[1A\u001b[2K\u001b[9A\u001b[2K\u001b[3A\u001b[2K\u001b[1A\u001b[2K\u001b[8A\u001b[2K\u001b[9A\u001b[2K\u001b[8A\u001b[2K\u001b[3A\u001b[2K\u001b[8A\u001b[2K\u001b[3A\u001b[2K\u001b[8A\u001b[2K\u001b[3A\u001b[2K\u001b[8A\u001b[2K\u001b[3A\u001b[2K\u001b[8A\u001b[2K\u001b[8A\u001b[2K\u001b[3A\u001b[2K\u001b[8A\u001b[2K\u001b[3A\u001b[2K\u001b[8A\u001b[2K\u001b[3A\u001b[2K\u001b[8A\u001b[2K\u001b[9A\u001b[2K\u001b[3A\u001b[2K\u001b[8A\u001b[2K\u001b[3A\u001b[2K\u001b[9A\u001b[2K\u001b[8A\u001b[2K\u001b[3A\u001b[2K\u001b[3A\u001b[2K\u001b[8A\u001b[2K\u001b[1A\u001b[2K\u001b[8A\u001b[2K\u001b[8A\u001b[2K\u001b[8A\u001b[2K\u001b[3A\u001b[2K\u001b[8A\u001b[2K\u001b[8A\u001b[2K\u001b[3A\u001b[2K\u001b[8A\u001b[2K\u001b[3A\u001b[2K\u001b[3A\u001b[2K\u001b[9A\u001b[2K\u001b[9A\u001b[2K\u001b[8A\u001b[2K\u001b[9A\u001b[2K\u001b[8A\u001b[2K\u001b[9A\u001b[2K\u001b[8A\u001b[2K\u001b[9A\u001b[2K\u001b[8A\u001b[2K\u001b[9A\u001b[2K\u001b[9A\u001b[2K\u001b[8A\u001b[2K\u001b[9A\u001b[2K\u001b[8A\u001b[2K\u001b[9A\u001b[2K\u001b[8A\u001b[2K\u001b[9A\u001b[2K\u001b[8A\u001b[2K\u001b[8A\u001b[2K\u001b[8A\u001b[2K\u001b[9A\u001b[2K\u001b[8A\u001b[2K\u001b[9A\u001b[2K\u001b[9A\u001b[2K\u001b[8A\u001b[2K\u001b[9A\u001b[2K\u001b[8A\u001b[2K\u001b[9A\u001b[2K\u001b[8A\u001b[2K\u001b[9A\u001b[2K\u001b[8A\u001b[2K\u001b[8A\u001b[2K\u001b[8A\u001b[2K\u001b[9A\u001b[2K\u001b[8A\u001b[2K\u001b[9A\u001b[2K\u001b[8A\u001b[2K\u001b[9A\u001b[2K\u001b[8A\u001b[2K\u001b[9A\u001b[2K\u001b[8A\u001b[2K\u001b[9A\u001b[2K\u001b[9A\u001b[2K\u001b[9A\u001b[2K\u001b[8A\u001b[2K\u001b[9A\u001b[2K\u001b[8A\u001b[2K\u001b[9A\u001b[2K\u001b[9A\u001b[2K\u001b[8A\u001b[2K\u001b[9A\u001b[2K\u001b[8A\u001b[2K\u001b[9A\u001b[2K\u001b[8A\u001b[2K\u001b[9A\u001b[2K\u001b[8A\u001b[2K\u001b[8A\u001b[2K\u001b[9A\u001b[2K\u001b[9A\u001b[2K\u001b[8A\u001b[2K\u001b[8A\u001b[2K\u001b[9A\u001b[2K\u001b[8A\u001b[2Klatest: digest: sha256:9e0473fe716d984cd3e180d3d9949e15d10830c276b0b18342a841a40574104b size: 2206\n"
     ]
    }
   ],
   "source": [
    "# upload the container image\n",
    "! sudo docker push $AZUREDOCKER_USER'.azurecr.io/'$PROJNAME"
   ]
  },
  {
   "cell_type": "markdown",
   "metadata": {},
   "source": [
    "### deploy web app\n",
    "update the parameters and run the cell to generate a deployment script  \n",
    "connect to cloud shell, upload, make executable and run"
   ]
  },
  {
   "cell_type": "code",
   "execution_count": 25,
   "metadata": {},
   "outputs": [
    {
     "name": "stdout",
     "output_type": "stream",
     "text": [
      "RESOURCE_GROUP=\"myResourceGroup6\"\n",
      "LOCATION=\"northeurope\"\n",
      "APPSERVICEPLAN_NAME=\"myAppServicePlan6\"\n",
      "APPSERVICEPLAN_COMPUTE=\"B1\"\n",
      "WEBAPP_NAME=\"kevin2404206\"\n",
      "AZURE_CONTAINER_REGISTRY_NAME=\"container2804206.azurecr.io/dash-azure:latest\"\n",
      "WEBAPP_PORT=\"80\"\n"
     ]
    }
   ],
   "source": [
    "# parameters\n",
    "print('RESOURCE_GROUP=\"' + RESOURCE_GROUP + '\"')\n",
    "print('LOCATION=\"' + LOCATION + '\"')\n",
    "print('APPSERVICEPLAN_NAME=\"' + APPSERVICEPLAN_NAME + '\"')\n",
    "print('APPSERVICEPLAN_COMPUTE=\"' + APPSERVICEPLAN_COMPUTE + '\"')\n",
    "print('WEBAPP_NAME=\"' + WEBAPP_NAME + '\"')\n",
    "print('AZURE_CONTAINER_REGISTRY_NAME=\"' + AZURE_CONTAINER_REGISTRY_NAME + '\"')\n",
    "print('WEBAPP_PORT=\"' + WEBAPP_PORT + '\"')"
   ]
  },
  {
   "cell_type": "code",
   "execution_count": 26,
   "metadata": {},
   "outputs": [
    {
     "name": "stdout",
     "output_type": "stream",
     "text": [
      "Writing ../dashboards/dash-azure/privateDashboard_deploy.azcli\n"
     ]
    }
   ],
   "source": [
    "%%writefile $project_folder/privateDashboard_deploy.azcli\n",
    "#!/bin/bash\n",
    "\n",
    "# update these parameters\n",
    "RESOURCE_GROUP=\"myResourceGroup6\"\n",
    "LOCATION=\"northeurope\"\n",
    "APPSERVICEPLAN_NAME=\"myAppServicePlan6\"\n",
    "APPSERVICEPLAN_COMPUTE=\"B1\"\n",
    "WEBAPP_NAME=\"kevin2404206\"\n",
    "AZURE_CONTAINER_REGISTRY_NAME=\"container2804206.azurecr.io/dash-azure:latest\"\n",
    "WEBAPP_PORT=\"80\"\n",
    "\n",
    "az group create --name $RESOURCE_GROUP --location $LOCATION\n",
    "\n",
    "az appservice plan create \\\n",
    "  --name $APPSERVICEPLAN_NAME \\\n",
    "  --resource-group $RESOURCE_GROUP \\\n",
    "  --is-linux \\\n",
    "  --location $LOCATION \\\n",
    "  --sku $APPSERVICEPLAN_COMPUTE\n",
    "\n",
    "az webapp create \\\n",
    "  --name $WEBAPP_NAME \\\n",
    "  --resource-group $RESOURCE_GROUP \\\n",
    "  --plan $APPSERVICEPLAN_NAME \\\n",
    "  --deployment-container-image-name $AZURE_CONTAINER_REGISTRY_NAME\n",
    "\n",
    "az webapp config appsettings set \\\n",
    "  --name $WEBAPP_NAME \\\n",
    "  --resource-group $RESOURCE_GROUP \\\n",
    "  --settings \\\n",
    "      PORT=$WEBAPP_PORT\n",
    "\n",
    "# web app URL\n",
    "echo \"services loading... (~2min)\"\n",
    "echo \"http://${WEBAPP_NAME}.azurewebsites.net\"\n",
    "\n",
    "az webapp log tail --name $WEBAPP_NAME --resource-group $RESOURCE_GROUP"
   ]
  },
  {
   "cell_type": "markdown",
   "metadata": {},
   "source": [
    "# Cleanup\n",
    "remove docker images and login credentials"
   ]
  },
  {
   "cell_type": "code",
   "execution_count": 27,
   "metadata": {},
   "outputs": [
    {
     "name": "stdout",
     "output_type": "stream",
     "text": [
      "Deleted Images:\r\n",
      "untagged: beire2018/dash-azure:latest\r\n",
      "untagged: beire2018/dash-azure@sha256:6733c907d50bc8b40d50b980b0dc50a8ae9d1fac3d42cc7c7ec5aed82ca1ed98\r\n",
      "untagged: dash-azure:latest\r\n",
      "deleted: sha256:7d39d3496fe1cdd018f751423ccff8d9106bcb0581a604660f037746639c18ba\r\n",
      "deleted: sha256:481d3f2576f980e0382ba51f1750443754954ddc210a61c7c39ebcae5069303c\r\n",
      "deleted: sha256:d76fdbab75c9dafecf90de2d5f4bc5fb379fcff20f76cc315bbaa9a97b894c2b\r\n",
      "deleted: sha256:889cb0249417902ec9960ef9ae1fc7d88a3ee36a0a4e99c3f3619fc3bed8a2f4\r\n",
      "deleted: sha256:eda5da76a9252133976436e95a5ac39608f33468f0d1d34b2092d057ad7637a4\r\n",
      "deleted: sha256:d7d0a7538110e7b05fc584793c780db5e09a8fd078f7effbeef7ffd51073836a\r\n",
      "deleted: sha256:65846955f5349232334afc7eed2e1f69116442dbf56dec9bec36b90502478eaf\r\n",
      "deleted: sha256:309765812719bc4a960283d2fced5e7dd3e3d2afbc81f51035bd160a9a44d2fc\r\n",
      "untagged: container2804206.azurecr.io/dash-azure:latest\r\n",
      "untagged: container2804206.azurecr.io/dash-azure@sha256:9e0473fe716d984cd3e180d3d9949e15d10830c276b0b18342a841a40574104b\r\n",
      "deleted: sha256:5962f69d5e8e4ee4147afbb9359cbe9c2b67e675d30d30a67351245cb9cb15e1\r\n",
      "deleted: sha256:839eadec17f2e8b4932df65192e3e956c9e13bdcec741e424b781352fe56bd48\r\n",
      "deleted: sha256:8b39a59e334f28a84857f18c14b21b4a0bb89d8584a587f5f4d3390e311e35ae\r\n",
      "deleted: sha256:5bedf7fd3c094972443bedd2c202d3a8e8335dfa2f7a4abd45a5e4e5698dbbfc\r\n",
      "deleted: sha256:c572c5f6d476dc8cbce47d20d3863c1469150a5e11bc7b4365475a585b635fcc\r\n",
      "deleted: sha256:900fbb22f3f8ed83853edbdaa02acc18d51dd5d2e866004e7993db243bcc5f75\r\n",
      "deleted: sha256:54bc44a9e72e28d85a57cbed7c1b149360d5eff4fc424bd952626112b31d035e\r\n",
      "deleted: sha256:8eae9978260c86323ee2bcf44556b086bbfd47741cf1b854ec4a966d34daebf2\r\n",
      "untagged: python:3.6-alpine\r\n",
      "untagged: python@sha256:50c53d4419a5049e35009691c43d3dbf0cb6c29c14be25965af480ba77a8367f\r\n",
      "\r\n",
      "Total reclaimed space: 604.9MB\r\n"
     ]
    }
   ],
   "source": [
    "# remove all local docker image(s)\n",
    "! sudo docker image prune -f -a"
   ]
  },
  {
   "cell_type": "code",
   "execution_count": 28,
   "metadata": {},
   "outputs": [],
   "source": [
    "# remove docker login file\n",
    "! sudo rm ~/.docker/config.json"
   ]
  },
  {
   "cell_type": "code",
   "execution_count": null,
   "metadata": {},
   "outputs": [],
   "source": [
    "# delete all local files that were created ?!"
   ]
  },
  {
   "cell_type": "code",
   "execution_count": null,
   "metadata": {},
   "outputs": [],
   "source": [
    "# remove the azure container registry, save costs ?!"
   ]
  }
 ],
 "metadata": {
  "kernelspec": {
   "display_name": "azureml_py36_automl",
   "language": "python",
   "name": "conda-env-azureml_py36_automl-py"
  },
  "language_info": {
   "codemirror_mode": {
    "name": "ipython",
    "version": 3
   },
   "file_extension": ".py",
   "mimetype": "text/x-python",
   "name": "python",
   "nbconvert_exporter": "python",
   "pygments_lexer": "ipython3",
   "version": "3.6.10"
  }
 },
 "nbformat": 4,
 "nbformat_minor": 4
}
