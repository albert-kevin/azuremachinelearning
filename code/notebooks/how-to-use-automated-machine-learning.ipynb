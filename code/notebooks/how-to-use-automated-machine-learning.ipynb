{
 "cells": [
  {
   "cell_type": "markdown",
   "metadata": {},
   "source": [
    "Author: Kevin ALBERT  \n",
    "\n",
    "Created: April 2020  "
   ]
  },
  {
   "cell_type": "markdown",
   "metadata": {},
   "source": [
    "# Automated Machine Learning\n",
    "_**Classification project with data residing on a data lake gen2 using remote compute with autoML and model registration**_\n",
    "\n",
    "## Contents\n",
    "1. [Introduction](#Introduction)\n",
    "1. [Setup](#Setup)\n",
    "1. [Train](#Train)\n",
    "1. [Results](#Results)\n",
    "1. [Deploy](#Deploy)\n",
    "1. [Test](#Test)"
   ]
  },
  {
   "cell_type": "markdown",
   "metadata": {},
   "source": [
    "## Introduction\n",
    "\n",
    "Cleaned datasets created in datafactory onto a delta lake Gen2.  \n",
    "This notebook is using delta lake data and remote compute to autoML train a classification model.  \n",
    "We use example data to detect diabetic or non-diabetic based on 8 features.  \n",
    "\n",
    "This notebook show how to:\n",
    "1. Setup packages\n",
    "2. Setup workspace\n",
    "3. Create an experiment\n",
    "4. Load data\n",
    "5. Setup compute\n",
    "6. Configure AutoML\n",
    "7. Train models\n",
    "8. Explore the pipelines\n",
    "9. Deploy model\n",
    "9. Test the fitted model"
   ]
  },
  {
   "cell_type": "markdown",
   "metadata": {},
   "source": [
    "## Setup"
   ]
  },
  {
   "cell_type": "markdown",
   "metadata": {},
   "source": [
    "* required\n",
    "  * disable shield on Brave webbrowser for the widgets to work\n",
    "  * download **config.json** from the machine learning workspace portal\n",
    "  * install extra azureml packages on **py37_default** when using **'local'** compute  \n",
    "  * split the data up in train and test dataset on data lake, validation dataset is not needed due to cross_validation\n",
    "* optional\n",
    "  * register datastore(s) manually\n",
    "  * register dataset(s) manually\n",
    "  * register compute cluster(s) manually"
   ]
  },
  {
   "cell_type": "code",
   "execution_count": null,
   "metadata": {},
   "outputs": [],
   "source": [
    "! /anaconda/envs/py37_default/bin/python -m pip install -U azureml-sdk[explain,automl] azureml-widgets"
   ]
  },
  {
   "cell_type": "markdown",
   "metadata": {},
   "source": [
    "### Import open-source packages"
   ]
  },
  {
   "cell_type": "code",
   "execution_count": 1,
   "metadata": {},
   "outputs": [],
   "source": [
    "import logging\n",
    "# import os\n",
    "# import random\n",
    "# import re\n",
    "# import lightgbm\n",
    "import pandas as pd\n",
    "# import numpy as np\n",
    "# import json\n",
    "# import csv\n",
    "# from matplotlib import pyplot as plt\n",
    "# from matplotlib.pyplot import imshow\n",
    "# from sklearn import datasets\n",
    "# from shutil import copy2\n",
    "# import seaborn as sns\n",
    "# sns.set(color_codes='True')\n",
    "\n",
    "# import warnings\n",
    "# warnings.filterwarnings('ignore')"
   ]
  },
  {
   "cell_type": "markdown",
   "metadata": {},
   "source": [
    "### Import azure machine learning SDK packages"
   ]
  },
  {
   "cell_type": "code",
   "execution_count": 2,
   "metadata": {},
   "outputs": [],
   "source": [
    "#import azureml.core\n",
    "from azureml.core import Workspace\n",
    "#from azureml.core.authentication import InteractiveLoginAuthentication\n",
    "from azureml.core.experiment import Experiment\n",
    "from azureml.core import Dataset\n",
    "from azureml.core import Datastore\n",
    "from azureml.data.datapath import DataPath\n",
    "from azureml.core.compute import ComputeTarget\n",
    "from azureml.core.compute import AmlCompute\n",
    "from azureml.core.compute import AksCompute\n",
    "# from azureml.core.compute_target import ComputeTargetException\n",
    "# from azureml.core.image import Image\n",
    "from azureml.core.model import Model\n",
    "from azureml.train.automl import AutoMLConfig\n",
    "from azureml.train.automl.run import AutoMLRun\n",
    "from azureml.widgets import RunDetails\n",
    "from azureml.core import Run\n",
    "from azureml.core.webservice import Webservice\n",
    "from azureml.core.webservice import AciWebservice\n",
    "from azureml.core.webservice import AksWebservice\n",
    "from azureml.core.model import InferenceConfig\n",
    "from azureml.core.environment import Environment"
   ]
  },
  {
   "cell_type": "markdown",
   "metadata": {},
   "source": [
    "### Workspace"
   ]
  },
  {
   "cell_type": "code",
   "execution_count": 4,
   "metadata": {},
   "outputs": [],
   "source": [
    "# load the workspace\n",
    "ws = Workspace.from_config()"
   ]
  },
  {
   "cell_type": "markdown",
   "metadata": {},
   "source": [
    "### Experiment"
   ]
  },
  {
   "cell_type": "code",
   "execution_count": 5,
   "metadata": {},
   "outputs": [],
   "source": [
    "# choose an experiment name\n",
    "experiment = Experiment(ws, 'automl-classification')"
   ]
  },
  {
   "cell_type": "markdown",
   "metadata": {},
   "source": [
    "### Data"
   ]
  },
  {
   "cell_type": "markdown",
   "metadata": {},
   "source": [
    "Data Factory has prepped data from /bronze to /silver to /gold and /platinum for model training  \n",
    "**note:** this demonstration had files in the Data Lake Gen2 datalake container /platinum folder  \n",
    "  * /datalake/platinum/diabetes.csv\n",
    "  * /datalake/platinum/diabetes.parquet\n",
    "  * copy from ../data/platinum/*"
   ]
  },
  {
   "cell_type": "markdown",
   "metadata": {},
   "source": [
    "Register the datastore 'data lake gen2' as a **blob container**  \n",
    "**optional:** manually register in ML workspace"
   ]
  },
  {
   "cell_type": "code",
   "execution_count": null,
   "metadata": {},
   "outputs": [],
   "source": [
    "ds = Datastore.register_azure_blob_container(\n",
    "    workspace=ws,\n",
    "    datastore_name=\"datalakestoragegen2\",\n",
    "    container_name=\"datalake\",\n",
    "    account_name=\"datalake21032020\",\n",
    "    account_key=\"Ck/4hMq3Zrzq5toZ96zE6cDncjbw2VdkR9ny1xXA3GLBwQXIv7V1ycSc/KpqyNRcoPWKtzKljjpcZVqjWOu+3Q==\",\n",
    "    create_if_not_exists=False)\n",
    "# list available datastores\n",
    "ws.datastores"
   ]
  },
  {
   "cell_type": "markdown",
   "metadata": {},
   "source": [
    "Register file(s) into a tabular dataset  \n",
    "**Note:** do not import Delta lake parquet file(s)  \n",
    "**Fix:** you can import pandas single gold/*.csv or gold/*.parquet file(s)  "
   ]
  },
  {
   "cell_type": "code",
   "execution_count": 6,
   "metadata": {},
   "outputs": [
    {
     "data": {
      "text/plain": [
       "{\n",
       "  \"name\": \"datalakestoragegen2\",\n",
       "  \"container_name\": \"datalake\",\n",
       "  \"account_name\": \"datalake21032020\",\n",
       "  \"protocol\": \"https\",\n",
       "  \"endpoint\": \"core.windows.net\"\n",
       "}"
      ]
     },
     "execution_count": 6,
     "metadata": {},
     "output_type": "execute_result"
    }
   ],
   "source": [
    "# load datastore\n",
    "ds = Datastore.get(ws, 'datalakestoragegen2')\n",
    "# show datastore settings\n",
    "ds"
   ]
  },
  {
   "cell_type": "markdown",
   "metadata": {},
   "source": [
    "option 1: loading *.parquet"
   ]
  },
  {
   "cell_type": "code",
   "execution_count": 7,
   "metadata": {},
   "outputs": [
    {
     "data": {
      "text/plain": [
       "{\n",
       "  \"source\": [\n",
       "    \"('datalakestoragegen2', 'platinum/diabetes.parquet')\"\n",
       "  ],\n",
       "  \"definition\": [\n",
       "    \"GetDatastoreFiles\",\n",
       "    \"ReadParquetFile\",\n",
       "    \"DropColumns\"\n",
       "  ]\n",
       "}"
      ]
     },
     "execution_count": 7,
     "metadata": {},
     "output_type": "execute_result"
    }
   ],
   "source": [
    "# setup parquet file(s) into a tabular dataset\n",
    "ds_path = [DataPath(ds, 'platinum/diabetes.parquet')]\n",
    "dataset = Dataset.Tabular.from_parquet_files(path=ds_path)\n",
    "# show dataset settings\n",
    "dataset"
   ]
  },
  {
   "cell_type": "markdown",
   "metadata": {},
   "source": [
    "option 2: loading *.csv"
   ]
  },
  {
   "cell_type": "code",
   "execution_count": null,
   "metadata": {},
   "outputs": [],
   "source": [
    "# setup csv file(s) into a tabular dataset\n",
    "ds_path = [DataPath(ds, 'platinum/diabetes.csv')]\n",
    "dataset = Dataset.Tabular.from_delimited_files(path=ds_path)\n",
    "# show dataset settings\n",
    "dataset"
   ]
  },
  {
   "cell_type": "markdown",
   "metadata": {},
   "source": [
    "option 3: loading a registered dataset (manually register in ML workspace)"
   ]
  },
  {
   "cell_type": "code",
   "execution_count": null,
   "metadata": {},
   "outputs": [],
   "source": [
    "# list available datasets\n",
    "ws.datasets"
   ]
  },
  {
   "cell_type": "code",
   "execution_count": null,
   "metadata": {},
   "outputs": [],
   "source": [
    "# load a registered dataset\n",
    "dataset = Dataset.get_by_name(ws, 'diabetes_parquet_from_datastore_datalakegen2')\n",
    "# show dataset settings\n",
    "dataset"
   ]
  },
  {
   "cell_type": "markdown",
   "metadata": {},
   "source": [
    "### Compute"
   ]
  },
  {
   "cell_type": "markdown",
   "metadata": {},
   "source": [
    "Check possible compute type **names** to create auto-scaling cluster"
   ]
  },
  {
   "cell_type": "code",
   "execution_count": 8,
   "metadata": {},
   "outputs": [
    {
     "data": {
      "text/html": [
       "<div>\n",
       "<style scoped>\n",
       "    .dataframe tbody tr th:only-of-type {\n",
       "        vertical-align: middle;\n",
       "    }\n",
       "\n",
       "    .dataframe tbody tr th {\n",
       "        vertical-align: top;\n",
       "    }\n",
       "\n",
       "    .dataframe thead th {\n",
       "        text-align: right;\n",
       "    }\n",
       "</style>\n",
       "<table border=\"1\" class=\"dataframe\">\n",
       "  <thead>\n",
       "    <tr style=\"text-align: right;\">\n",
       "      <th></th>\n",
       "      <th>gpus</th>\n",
       "      <th>maxResourceVolumeMB</th>\n",
       "      <th>memoryGB</th>\n",
       "      <th>name</th>\n",
       "      <th>vCPUs</th>\n",
       "    </tr>\n",
       "  </thead>\n",
       "  <tbody>\n",
       "    <tr>\n",
       "      <th>0</th>\n",
       "      <td>0</td>\n",
       "      <td>51200</td>\n",
       "      <td>3.50</td>\n",
       "      <td>Standard_D1_v2</td>\n",
       "      <td>1</td>\n",
       "    </tr>\n",
       "    <tr>\n",
       "      <th>8</th>\n",
       "      <td>0</td>\n",
       "      <td>7168</td>\n",
       "      <td>3.50</td>\n",
       "      <td>Standard_DS1_v2</td>\n",
       "      <td>1</td>\n",
       "    </tr>\n",
       "    <tr>\n",
       "      <th>18</th>\n",
       "      <td>0</td>\n",
       "      <td>51200</td>\n",
       "      <td>3.50</td>\n",
       "      <td>Standard_D1</td>\n",
       "      <td>1</td>\n",
       "    </tr>\n",
       "  </tbody>\n",
       "</table>\n",
       "</div>"
      ],
      "text/plain": [
       "    gpus  maxResourceVolumeMB  memoryGB             name  vCPUs\n",
       "0      0                51200      3.50   Standard_D1_v2      1\n",
       "8      0                 7168      3.50  Standard_DS1_v2      1\n",
       "18     0                51200      3.50      Standard_D1      1"
      ]
     },
     "execution_count": 8,
     "metadata": {},
     "output_type": "execute_result"
    }
   ],
   "source": [
    "# example: list all with 1 vCPUs and no-GPU\n",
    "vm_df = pd.DataFrame(AmlCompute.supported_vmsizes(ws))\n",
    "vm_df[(vm_df.vCPUs == 1) & (vm_df.gpus == 0)]"
   ]
  },
  {
   "cell_type": "markdown",
   "metadata": {},
   "source": [
    "option 1: Create training cluster  "
   ]
  },
  {
   "cell_type": "code",
   "execution_count": null,
   "metadata": {},
   "outputs": [],
   "source": [
    "# Specify a name for the compute (unique within the workspace)\n",
    "compute_name = 'aml-cluster'\n",
    "# Define compute configuration\n",
    "compute_config = AmlCompute.provisioning_configuration(vm_size='Standard_D1_v2',\n",
    "                                                       min_nodes=0, # you are not paying if not using\n",
    "                                                       max_nodes=10, # depending quota limits\n",
    "                                                       vm_priority='dedicated', # {lowpriority, dedicated}\n",
    "                                                       admin_username='ubuntu',\n",
    "                                                       admin_user_password='ABCD1234abcd',\n",
    "                                                       idle_seconds_before_scaledown=120, # {default: 120}\n",
    "                                                      )\n",
    "# Create the compute\n",
    "training_cluster = ComputeTarget.create(ws, compute_name, compute_config)\n",
    "training_cluster.wait_for_completion(show_output=True)"
   ]
  },
  {
   "cell_type": "markdown",
   "metadata": {},
   "source": [
    "option 2: Load already known training cluster"
   ]
  },
  {
   "cell_type": "code",
   "execution_count": 9,
   "metadata": {},
   "outputs": [
    {
     "name": "stdout",
     "output_type": "stream",
     "text": [
      "aml-cluster\n"
     ]
    }
   ],
   "source": [
    "# list all available training cluster(s):\n",
    "for cluster in ws.compute_targets:\n",
    "    print(cluster)"
   ]
  },
  {
   "cell_type": "code",
   "execution_count": 10,
   "metadata": {},
   "outputs": [],
   "source": [
    "# load the training cluster\n",
    "compute_name = 'aml-cluster'\n",
    "training_cluster = ComputeTarget(ws, name=compute_name)"
   ]
  },
  {
   "cell_type": "markdown",
   "metadata": {},
   "source": [
    "## Train"
   ]
  },
  {
   "cell_type": "markdown",
   "metadata": {},
   "source": [
    "### Configure autoML\n",
    "Define settings to run the experiment.\n",
    "\n",
    "|Property|Description|Options|\n",
    "|-|-|-|\n",
    "|**task**||<i>classification</i><br><i>regression</i><br><i>forecasting</i>|\n",
    "|**compute_target**|execution on local DSVM serialized<br>execution on remote AML or AKS parallel|<i>local</i><br><i>training_cluster</i>|\n",
    "|**primary_metric**|the metric you want to optimize|**classification:**<br><i>accuracy</i><br><i>AUC_weighted</i><br><i>average_precision_score_weighted</i><br><i>norm_macro_recall</i><br><i>precision_score_weighted</i><br><br>**regression:**<br><i>spearman_correlation</i><br><i>normalized_root_mean_squared_error</i><br><i>r2_score</i><br><i>normalized_mean_absolute_error</i>|\n",
    "|**training_data**|input dataset, containing both X_train and y_train|<i>DataFrame</i><br><i>Dataset</i><br><i>DatasetDefinition</i><br><i>TabularDataset</i>|\n",
    "|**validation_data**|input dataset, covered with cross validation|N/A|\n",
    "|**label_column_name**|the name of the 'target' or 'label' column||\n",
    "|**enable_early_stopping**|stop the run if metric score is not improving|<i>True</i><br><i>False</i>|\n",
    "|**n_cross_validations**|number of cross validation splits|5|\n",
    "|**experiment_timeout_hours**|max time in hours the experiment terminates (+15min)|<i>0.25</i>|\n",
    "|**max_concurrent_iterations**|less or equal to the number of cores per node|2|\n",
    "\n",
    "\n",
    "\n",
    "**_You can find more information_** [here](https://docs.microsoft.com/en-us/azure/machine-learning/service/how-to-configure-auto-train)"
   ]
  },
  {
   "cell_type": "code",
   "execution_count": 11,
   "metadata": {},
   "outputs": [],
   "source": [
    "automl_settings = {\n",
    "    \"enable_early_stopping\":True,\n",
    "    #\"experiment_timeout_hours\":0.25,\n",
    "    \"iterations\":10, # number of runs\n",
    "    \"iteration_timeout_minutes\":5,\n",
    "    \"max_concurrent_iterations\":1,\n",
    "    \"max_cores_per_iteration\":-1,\n",
    "    \"experiment_exit_score\":0.9920,\n",
    "    \"model_explainability\":True,\n",
    "    \"n_cross_validations\":5,\n",
    "    \"primary_metric\":'AUC_weighted',\n",
    "    \"featurization\":'auto',\n",
    "    \"verbosity\":logging.INFO, # {INFO, DEBUG, CRITICAL, ERROR, WARNING} -- debug_log=<*.log>\n",
    "}\n",
    "\n",
    "automl_config = AutoMLConfig(task='classification',\n",
    "                             debug_log='automl_errors.log',\n",
    "                             compute_target='local', # {training_cluster or 'local'}\n",
    "                             blacklist_models=['KNN','LinearSVM'],\n",
    "                             enable_onnx_compatible_models=True,\n",
    "                             training_data=dataset,\n",
    "                             label_column_name=\"Diabetic\",\n",
    "                             **automl_settings\n",
    "                            )\n",
    "# ouputs \"model.pkl\" and \"automl_errors.log\""
   ]
  },
  {
   "cell_type": "markdown",
   "metadata": {},
   "source": [
    "### Train models"
   ]
  },
  {
   "cell_type": "code",
   "execution_count": 12,
   "metadata": {},
   "outputs": [
    {
     "name": "stdout",
     "output_type": "stream",
     "text": [
      "Running on local machine\n",
      "Parent Run ID: AutoML_0a57b191-f184-41a3-b093-5e49d9a159eb\n",
      "\n",
      "Current status: DatasetEvaluation. Gathering dataset statistics.\n",
      "Current status: FeaturesGeneration. Generating features for the dataset.\n",
      "Current status: DatasetFeaturization. Beginning to fit featurizers and featurize the dataset.\n",
      "Current status: DatasetFeaturizationCompleted. Completed fit featurizers and featurizing the dataset.\n",
      "Current status: DatasetCrossValidationSplit. Generating individually featurized CV splits.\n",
      "\n",
      "****************************************************************************************************\n",
      "DATA GUARDRAILS: \n",
      "\n",
      "TYPE:         Class balancing detection\n",
      "STATUS:       PASSED\n",
      "DESCRIPTION:  Classes are balanced in the training data.\n",
      "\n",
      "TYPE:         High cardinality feature detection\n",
      "STATUS:       PASSED\n",
      "DESCRIPTION:  Your inputs were analyzed, and no high cardinality features were detected.\n",
      "\n",
      "****************************************************************************************************\n",
      "Current status: ModelSelection. Beginning model selection.\n",
      "\n",
      "****************************************************************************************************\n",
      "ITERATION: The iteration being evaluated.\n",
      "PIPELINE: A summary description of the pipeline being evaluated.\n",
      "DURATION: Time taken for the current iteration.\n",
      "METRIC: The result of computing score on the fitted pipeline.\n",
      "BEST: The best observed score thus far.\n",
      "****************************************************************************************************\n",
      "\n",
      " ITERATION   PIPELINE                                       DURATION      METRIC      BEST\n",
      "         0   MaxAbsScaler LightGBM                          0:00:18       0.9904    0.9904\n",
      "         1   MaxAbsScaler XGBoostClassifier                 0:00:15       0.9901    0.9904\n",
      "         2   MaxAbsScaler LightGBM                          0:00:16       0.9800    0.9904\n",
      "         3   StandardScalerWrapper XGBoostClassifier        0:00:18       0.9729    0.9904\n",
      "         4   MaxAbsScaler SGD                               0:00:12       0.9322    0.9904\n",
      "         5   StandardScalerWrapper LightGBM                 0:00:13       0.9799    0.9904\n",
      "         6   SparseNormalizer XGBoostClassifier             0:00:12       0.9383    0.9904\n",
      "         7   MaxAbsScaler RandomForest                      0:00:19       0.9636    0.9904\n",
      "         8   MaxAbsScaler SGD                               0:00:16       0.9338    0.9904\n",
      "         9   VotingEnsemble                                 0:00:16       0.9901    0.9904\n",
      "****************************************************************************************************\n",
      "Current status: BestRunExplainModel. Best run model explanations started\n",
      "Current status: ModelExplanationDataSetSetup. Model explanations data setup completed\n",
      "Current status: EngineeredFeatureExplanations. Computation of engineered features started\n",
      "Current status: EngineeredFeatureExplanations. Computation of engineered features completed\n",
      "Current status: BestRunExplainModel. Best run model explanations completed\n",
      "****************************************************************************************************\n"
     ]
    }
   ],
   "source": [
    "automl_run = experiment.submit(automl_config, show_output=True)"
   ]
  },
  {
   "cell_type": "markdown",
   "metadata": {},
   "source": [
    "### Optional: retrieve a run"
   ]
  },
  {
   "cell_type": "code",
   "execution_count": 12,
   "metadata": {},
   "outputs": [],
   "source": [
    "runId = 'AutoML_a2a3083f-88d4-4094-8806-ab010e5ad643'\n",
    "automl_run = AutoMLRun(experiment, run_id=runId)"
   ]
  },
  {
   "cell_type": "markdown",
   "metadata": {},
   "source": [
    "## Results"
   ]
  },
  {
   "cell_type": "markdown",
   "metadata": {},
   "source": [
    "### Explore the pipelines"
   ]
  },
  {
   "cell_type": "code",
   "execution_count": 13,
   "metadata": {},
   "outputs": [
    {
     "data": {
      "application/vnd.jupyter.widget-view+json": {
       "model_id": "37ccf443cecc4e8b81f5eb26429459c9",
       "version_major": 2,
       "version_minor": 0
      },
      "text/plain": [
       "_AutoMLWidget(widget_settings={'childWidgetDisplay': 'popup', 'send_telemetry': False, 'log_level': 'INFO', 's…"
      ]
     },
     "metadata": {},
     "output_type": "display_data"
    },
    {
     "data": {
      "application/aml.mini.widget.v1": "{\"status\": \"Completed\", \"workbench_run_details_uri\": \"https://ml.azure.com/experiments/automl-classification/runs/AutoML_a2a3083f-88d4-4094-8806-ab010e5ad643?wsid=/subscriptions/43c1f93a-903d-4b23-a4bf-92bd7a150627/resourcegroups/myResourceGroup/workspaces/alehanwagaatetnuzijn\", \"run_id\": \"AutoML_a2a3083f-88d4-4094-8806-ab010e5ad643\", \"run_properties\": {\"run_id\": \"AutoML_a2a3083f-88d4-4094-8806-ab010e5ad643\", \"created_utc\": \"2020-04-06T09:29:03.074027Z\", \"properties\": {\"num_iterations\": \"50\", \"training_type\": \"TrainFull\", \"acquisition_function\": \"EI\", \"primary_metric\": \"AUC_weighted\", \"train_split\": \"0\", \"acquisition_parameter\": \"0\", \"num_cross_validation\": \"5\", \"target\": \"aml-cluster-2\", \"RawAMLSettingsString\": \"{'name': 'automl-classification', 'path': None, 'subscription_id': '43c1f93a-903d-4b23-a4bf-92bd7a150627', 'resource_group': 'myResourceGroup', 'workspace_name': 'alehanwagaatetnuzijn', 'region': 'northeurope', 'compute_target': 'aml-cluster-2', 'spark_service': None, 'azure_service': 'remote', 'iterations': 50, 'primary_metric': 'AUC_weighted', 'task_type': 'classification', 'data_script': None, 'validation_size': 0.0, 'n_cross_validations': 5, 'y_min': None, 'y_max': None, 'num_classes': None, 'featurization': 'auto', 'lag_length': 0, 'is_timeseries': False, 'max_cores_per_iteration': 1, 'max_concurrent_iterations': 10, 'iteration_timeout_minutes': 5, 'mem_in_mb': None, 'enforce_time_on_windows': False, 'experiment_timeout_minutes': 10080, 'experiment_exit_score': 0.992, 'whitelist_models': None, 'blacklist_algos': ['KNN', 'LinearSVM', 'XGBoostClassifier'], 'supported_models': ['SVM', 'MultinomialNaiveBayes', 'XGBoostClassifier', 'TensorFlowDNN', 'AveragedPerceptronClassifier', 'GradientBoosting', 'LinearSVM', 'BernoulliNaiveBayes', 'ExtremeRandomTrees', 'DecisionTree', 'RandomForest', 'TensorFlowLinearClassifier', 'KNN', 'LogisticRegression', 'LightGBM', 'SGD'], 'auto_blacklist': True, 'blacklist_samples_reached': False, 'exclude_nan_labels': True, 'verbosity': 10, 'debug_log': 'azureml_automl.log', 'show_warnings': False, 'model_explainability': True, 'service_url': None, 'sdk_url': None, 'sdk_packages': None, 'enable_onnx_compatible_models': True, 'enable_split_onnx_featurizer_estimator_models': False, 'vm_type': 'STANDARD_D1_V2', 'telemetry_verbosity': 'INFO', 'send_telemetry': True, 'enable_dnn': False, 'force_text_dnn': False, 'enable_feature_sweeping': False, 'enable_early_stopping': True, 'early_stopping_n_iters': 10, 'metrics': None, 'enable_ensembling': True, 'enable_stack_ensembling': False, 'ensemble_iterations': 15, 'enable_tf': False, 'enable_cache': True, 'enable_subsampling': False, 'subsample_seed': None, 'enable_nimbusml': False, 'enable_streaming': False, 'force_streaming': False, 'label_column_name': 'Diabetic', 'weight_column_name': None, 'cost_mode': 1, 'metric_operation': 'maximize', 'preprocess': True, 'scenario': 'SDK'}\", \"AMLSettingsJsonString\": \"{\\\"name\\\": \\\"automl-classification\\\", \\\"path\\\": null, \\\"subscription_id\\\": \\\"43c1f93a-903d-4b23-a4bf-92bd7a150627\\\", \\\"resource_group\\\": \\\"myResourceGroup\\\", \\\"workspace_name\\\": \\\"alehanwagaatetnuzijn\\\", \\\"region\\\": \\\"northeurope\\\", \\\"compute_target\\\": \\\"aml-cluster-2\\\", \\\"spark_service\\\": null, \\\"azure_service\\\": \\\"remote\\\", \\\"iterations\\\": 50, \\\"primary_metric\\\": \\\"AUC_weighted\\\", \\\"task_type\\\": \\\"classification\\\", \\\"data_script\\\": null, \\\"validation_size\\\": 0.0, \\\"n_cross_validations\\\": 5, \\\"y_min\\\": null, \\\"y_max\\\": null, \\\"num_classes\\\": null, \\\"featurization\\\": \\\"auto\\\", \\\"lag_length\\\": 0, \\\"is_timeseries\\\": false, \\\"max_cores_per_iteration\\\": 1, \\\"max_concurrent_iterations\\\": 10, \\\"iteration_timeout_minutes\\\": 5, \\\"mem_in_mb\\\": null, \\\"enforce_time_on_windows\\\": false, \\\"experiment_timeout_minutes\\\": 10080, \\\"experiment_exit_score\\\": 0.992, \\\"whitelist_models\\\": null, \\\"blacklist_algos\\\": [\\\"KNN\\\", \\\"LinearSVM\\\", \\\"XGBoostClassifier\\\"], \\\"supported_models\\\": [\\\"SVM\\\", \\\"MultinomialNaiveBayes\\\", \\\"XGBoostClassifier\\\", \\\"TensorFlowDNN\\\", \\\"AveragedPerceptronClassifier\\\", \\\"GradientBoosting\\\", \\\"LinearSVM\\\", \\\"BernoulliNaiveBayes\\\", \\\"ExtremeRandomTrees\\\", \\\"DecisionTree\\\", \\\"RandomForest\\\", \\\"TensorFlowLinearClassifier\\\", \\\"KNN\\\", \\\"LogisticRegression\\\", \\\"LightGBM\\\", \\\"SGD\\\"], \\\"auto_blacklist\\\": true, \\\"blacklist_samples_reached\\\": false, \\\"exclude_nan_labels\\\": true, \\\"verbosity\\\": 10, \\\"debug_log\\\": \\\"azureml_automl.log\\\", \\\"show_warnings\\\": false, \\\"model_explainability\\\": true, \\\"service_url\\\": null, \\\"sdk_url\\\": null, \\\"sdk_packages\\\": null, \\\"enable_onnx_compatible_models\\\": true, \\\"enable_split_onnx_featurizer_estimator_models\\\": false, \\\"vm_type\\\": \\\"STANDARD_D1_V2\\\", \\\"telemetry_verbosity\\\": \\\"INFO\\\", \\\"send_telemetry\\\": true, \\\"enable_dnn\\\": false, \\\"force_text_dnn\\\": false, \\\"enable_feature_sweeping\\\": false, \\\"enable_early_stopping\\\": true, \\\"early_stopping_n_iters\\\": 10, \\\"metrics\\\": null, \\\"enable_ensembling\\\": true, \\\"enable_stack_ensembling\\\": false, \\\"ensemble_iterations\\\": 15, \\\"enable_tf\\\": false, \\\"enable_cache\\\": true, \\\"enable_subsampling\\\": false, \\\"subsample_seed\\\": null, \\\"enable_nimbusml\\\": false, \\\"enable_streaming\\\": false, \\\"force_streaming\\\": false, \\\"label_column_name\\\": \\\"Diabetic\\\", \\\"weight_column_name\\\": null, \\\"cost_mode\\\": 1, \\\"metric_operation\\\": \\\"maximize\\\", \\\"preprocess\\\": true, \\\"scenario\\\": \\\"SDK\\\"}\", \"DataPrepJsonString\": \"{\\\\\\\"training_data\\\\\\\": \\\\\\\"{\\\\\\\\\\\\\\\"blocks\\\\\\\\\\\\\\\": [{\\\\\\\\\\\\\\\"id\\\\\\\\\\\\\\\": \\\\\\\\\\\\\\\"804638e5-335a-4845-82ec-9142f02174a1\\\\\\\\\\\\\\\", \\\\\\\\\\\\\\\"type\\\\\\\\\\\\\\\": \\\\\\\\\\\\\\\"Microsoft.DPrep.GetDatastoreFilesBlock\\\\\\\\\\\\\\\", \\\\\\\\\\\\\\\"arguments\\\\\\\\\\\\\\\": {\\\\\\\\\\\\\\\"datastores\\\\\\\\\\\\\\\": [{\\\\\\\\\\\\\\\"datastoreName\\\\\\\\\\\\\\\": \\\\\\\\\\\\\\\"datalakestoragegen2\\\\\\\\\\\\\\\", \\\\\\\\\\\\\\\"path\\\\\\\\\\\\\\\": \\\\\\\\\\\\\\\"platinum/diabetes.parquet\\\\\\\\\\\\\\\", \\\\\\\\\\\\\\\"resourceGroup\\\\\\\\\\\\\\\": \\\\\\\\\\\\\\\"myResourceGroup\\\\\\\\\\\\\\\", \\\\\\\\\\\\\\\"subscription\\\\\\\\\\\\\\\": \\\\\\\\\\\\\\\"43c1f93a-903d-4b23-a4bf-92bd7a150627\\\\\\\\\\\\\\\", \\\\\\\\\\\\\\\"workspaceName\\\\\\\\\\\\\\\": \\\\\\\\\\\\\\\"alehanwagaatetnuzijn\\\\\\\\\\\\\\\"}]}, \\\\\\\\\\\\\\\"localData\\\\\\\\\\\\\\\": {}, \\\\\\\\\\\\\\\"isEnabled\\\\\\\\\\\\\\\": true, \\\\\\\\\\\\\\\"name\\\\\\\\\\\\\\\": null, \\\\\\\\\\\\\\\"annotation\\\\\\\\\\\\\\\": null}, {\\\\\\\\\\\\\\\"id\\\\\\\\\\\\\\\": \\\\\\\\\\\\\\\"fab2ed9b-fc03-4490-bc90-3a36a0b1cf57\\\\\\\\\\\\\\\", \\\\\\\\\\\\\\\"type\\\\\\\\\\\\\\\": \\\\\\\\\\\\\\\"Microsoft.DPrep.ReadParquetFileBlock\\\\\\\\\\\\\\\", \\\\\\\\\\\\\\\"arguments\\\\\\\\\\\\\\\": {\\\\\\\\\\\\\\\"preview\\\\\\\\\\\\\\\": false}, \\\\\\\\\\\\\\\"localData\\\\\\\\\\\\\\\": {}, \\\\\\\\\\\\\\\"isEnabled\\\\\\\\\\\\\\\": true, \\\\\\\\\\\\\\\"name\\\\\\\\\\\\\\\": null, \\\\\\\\\\\\\\\"annotation\\\\\\\\\\\\\\\": null}, {\\\\\\\\\\\\\\\"id\\\\\\\\\\\\\\\": \\\\\\\\\\\\\\\"5cfb5e1a-4eab-4bac-99ef-52a676ebbfbe\\\\\\\\\\\\\\\", \\\\\\\\\\\\\\\"type\\\\\\\\\\\\\\\": \\\\\\\\\\\\\\\"Microsoft.DPrep.DropColumnsBlock\\\\\\\\\\\\\\\", \\\\\\\\\\\\\\\"arguments\\\\\\\\\\\\\\\": {\\\\\\\\\\\\\\\"columns\\\\\\\\\\\\\\\": {\\\\\\\\\\\\\\\"type\\\\\\\\\\\\\\\": 0, \\\\\\\\\\\\\\\"details\\\\\\\\\\\\\\\": {\\\\\\\\\\\\\\\"selectedColumns\\\\\\\\\\\\\\\": [\\\\\\\\\\\\\\\"Path\\\\\\\\\\\\\\\"]}}}, \\\\\\\\\\\\\\\"localData\\\\\\\\\\\\\\\": {}, \\\\\\\\\\\\\\\"isEnabled\\\\\\\\\\\\\\\": true, \\\\\\\\\\\\\\\"name\\\\\\\\\\\\\\\": null, \\\\\\\\\\\\\\\"annotation\\\\\\\\\\\\\\\": null}], \\\\\\\\\\\\\\\"inspectors\\\\\\\\\\\\\\\": [], \\\\\\\\\\\\\\\"meta\\\\\\\\\\\\\\\": {\\\\\\\\\\\\\\\"savedDatasetId\\\\\\\\\\\\\\\": \\\\\\\\\\\\\\\"58eb7bf5-237b-4432-84f7-2fd7692a35cd\\\\\\\\\\\\\\\", \\\\\\\\\\\\\\\"datasetType\\\\\\\\\\\\\\\": \\\\\\\\\\\\\\\"tabular\\\\\\\\\\\\\\\", \\\\\\\\\\\\\\\"subscriptionId\\\\\\\\\\\\\\\": \\\\\\\\\\\\\\\"43c1f93a-903d-4b23-a4bf-92bd7a150627\\\\\\\\\\\\\\\", \\\\\\\\\\\\\\\"workspaceId\\\\\\\\\\\\\\\": \\\\\\\\\\\\\\\"b02eb652-86d9-4686-a295-28fda46cf559\\\\\\\\\\\\\\\", \\\\\\\\\\\\\\\"workspaceLocation\\\\\\\\\\\\\\\": \\\\\\\\\\\\\\\"northeurope\\\\\\\\\\\\\\\"}}\\\\\\\", \\\\\\\"activities\\\\\\\": 0}\", \"EnableSubsampling\": \"False\", \"runTemplate\": \"AutoML\", \"azureml.runsource\": \"automl\", \"display_task_type\": \"classification\", \"dependencies_versions\": \"{\\\"azureml-widgets\\\": \\\"1.2.0\\\", \\\"azureml-train\\\": \\\"1.2.0\\\", \\\"azureml-train-restclients-hyperdrive\\\": \\\"1.2.0\\\", \\\"azureml-train-core\\\": \\\"1.2.0\\\", \\\"azureml-train-automl\\\": \\\"1.2.0\\\", \\\"azureml-train-automl-runtime\\\": \\\"1.2.0\\\", \\\"azureml-train-automl-client\\\": \\\"1.2.0\\\", \\\"azureml-tensorboard\\\": \\\"1.0.85\\\", \\\"azureml-telemetry\\\": \\\"1.2.0\\\", \\\"azureml-sdk\\\": \\\"1.2.0\\\", \\\"azureml-pipeline\\\": \\\"1.2.0\\\", \\\"azureml-pipeline-steps\\\": \\\"1.2.0\\\", \\\"azureml-pipeline-core\\\": \\\"1.2.0\\\", \\\"azureml-opendatasets\\\": \\\"1.0.85\\\", \\\"azureml-model-management-sdk\\\": \\\"1.0.1b6.post1\\\", \\\"azureml-interpret\\\": \\\"1.2.0\\\", \\\"azureml-explain-model\\\": \\\"1.2.0\\\", \\\"azureml-defaults\\\": \\\"1.2.0\\\", \\\"azureml-dataprep\\\": \\\"1.3.5\\\", \\\"azureml-dataprep-native\\\": \\\"14.1.0\\\", \\\"azureml-datadrift\\\": \\\"1.0.85\\\", \\\"azureml-core\\\": \\\"1.2.0.post1\\\", \\\"azureml-contrib-reinforcementlearning\\\": \\\"0.1.0.5919674\\\", \\\"azureml-contrib-notebook\\\": \\\"1.0.85\\\", \\\"azureml-contrib-interpret\\\": \\\"1.0.85\\\", \\\"azureml-contrib-functions\\\": \\\"1.2.0\\\", \\\"azureml-automl-runtime\\\": \\\"1.2.0\\\", \\\"azureml-automl-core\\\": \\\"1.2.0\\\"}\", \"ClientType\": \"SDK\", \"ClientSdkVersion\": \"1.2.0\", \"environment_cpu_name\": \"\", \"environment_cpu_version\": \"\", \"environment_gpu_name\": \"\", \"environment_gpu_version\": \"\", \"snapshotId\": \"\", \"SetupRunId\": \"AutoML_a2a3083f-88d4-4094-8806-ab010e5ad643_setup\", \"SetupRunContainerId\": \"dcid.AutoML_a2a3083f-88d4-4094-8806-ab010e5ad643_setup\", \"ProblemInfoJsonString\": \"{\\\"dataset_num_categorical\\\": 0, \\\"is_sparse\\\": false, \\\"subsampling\\\": false, \\\"dataset_classes\\\": 2, \\\"dataset_features\\\": 9, \\\"dataset_samples\\\": 10000, \\\"single_frequency_class_detected\\\": false}\", \"ModelExplainRunId\": \"AutoML_a2a3083f-88d4-4094-8806-ab010e5ad643_ModelExplain\", \"azureml.git.repository_uri\": \"https://github.com/albert-kevin/azuremachinelearning.git\", \"mlflow.source.git.repoURL\": \"https://github.com/albert-kevin/azuremachinelearning.git\", \"azureml.git.branch\": \"master\", \"mlflow.source.git.branch\": \"master\", \"azureml.git.commit\": \"15101dddab45d414ddb46675d78b35f36a14c1fe\", \"mlflow.source.git.commit\": \"15101dddab45d414ddb46675d78b35f36a14c1fe\", \"azureml.git.dirty\": \"True\"}, \"tags\": {\"model_explain_run\": \"best_run\", \"pipeline_id\": \"<f2f08837edc96ada39aee31331227c92b06f8bd7>;<47ed65de3ecdba5de05d461c51f642b6b6932965>;<f873311e8cfb2bcdbeb6c20367cf912f4ee6733e>;<5dfac790c5c209f98a1da2dc1c7fb76f0397324f>;<c28c67900f2431c7fba35813a772eb634ed9e8c2>;<8a1ddc2a681ae3757a422f88e7903b24c3b74a18>;<59dc38673c6cec5b60ee6d97376815f22e670c99>;<d9be42186dd2ac9ef8b4e7d32d05996b7fda61e8>;<8291d61f356e12e392880f6a3c7422ced1a2e9b8>;<fc458caef1af1a907c9958484a5909cf538b016d>;<ec792268422094a3dbe09a0d94ec727a8057c203>;<3fcd5994fbc5693af6cf93d54810a746b5646707>;<dbbac62423083471f5eb230f41e6763e90defcdf>;<75cc4131135a51744d748dedb03da83cafd8f63d>;<b9a9758dc56d63d5ec8e267e495dee03cefac61c>;<a5d861aefb105396a929c0817e3a3db317462f77>;<b2e4fba732ac46c06ea06debe11392b92416b97d>;<bb4b825b2e1f80e2b1eb1dcaa93171bfce10c4a5>;<b19eeb61727e9c4fbb5aa45fb6e9fe3fab5b1f04>;<5bf6f8493d8ee69b2c3499b4cd8ae10b35c33435>;<a1fa4ec4a406b88281333721dc75926dd5e2cd0a>;<60eafb19a2247d7472425068bd9d949d1a0c88ce>;<a9bc0296d11b90b6f992a3cf46e792afed782ec8>;<8de8c085d2a4b23d3f4cc392a2f2660d23d38c14>;<d1a70ce9d0ba1ace39432e88f7076df4ca7ad396>;<547fc2c2b8d9f1175e274ddc635c4380571c55d3>;<f9cea9161cd005fc23bd15d78273edc92c00f73b>;<95d0f633d8fba906e72432bff44043a95e20a265>;<876a95a5b8a88b468c727b99e16020ee153ff516>;<7ab5d5f0428b0da59a44f49a278099d3c0d5c2d5>;<51856ea208774cc3d4e536625eda64cb219f6694>;<d0f1df945887f9020094a0aac3b0b4af78bc2526>;<b865d56483cb23ed5d3c2bc220752baad394b57e>;<16761da91bca0762769a38e9343dd64b98214b79>;<e1d0e8ce31f65be12259c09757b3160878f2f4ff>;<4581a82b2faa6f8c14118059d6a1829aad87aa56>;<cac421611546ff9f7ce06faa74989f70327e420d>;<f8a527b934afce19cefac48165d9398335c950d5>;<08698835970af0b0fdccf7f069d61f0e5e5d1fad>;<06740571eb88610e8dc2eeba34c9207b622957a3>;<29bfa08d069cb6b7a2debab53ef67fd97555abac>;<106c527be20945945b130d11f82b95bcdbd2c62b>;<1eee225429a3081a3ae4df77e6d95a45d4e17e09>;<03143395a21ed57857951128a916eea8ed1d7344>;<02c8df697c95821a9c09118cb0c5b22e6aefafb5>;<0bac02011df3e49c2adbd23ae5cce5632c077543>;<0345071d77761aa37b1b2bbff0d7a36e6f08d8f7>;<1f92499e301660daebdb8703c7c53c4c5972be63>;<0aa047973b85033f5c3c58f80a98f1c281e4cc81>;<__AutoML_Ensemble__>;\", \"score\": \"<0.856844456648572>;<0.85553446130659>;<0.856299969215169>;<0.990081135327154>;<0.979675801006572>;<0.959474893187891>;<0.932369554253629>;<0.800763709731087>;<0.912790042896973>;<0.928771008271392>;<0.856928060320698>;<0.981348983592329>;<0.960263038223175>;<0.85694813149478>;<0.910313452902933>;<0.962274461815028>;<0.857193069211031>;<0.856997952005176>;<0.962960136620679>;<0.96279948611383>;<0.987729009336366>;<0.970157145164817>;<0.798651984089845>;<0.9459258431117>;<0.856269601406083>;<0.790724426935005>;<0.83411717621536>;<0.922653463509899>;<0.952314906019831>;<NaN>;<0.987226239056717>;<0.96147179092268>;<NaN>;<NaN>;<0.991963983654352>;<0.990415962205806>;<NaN>;<NaN>;<NaN>;<0.972032945200483>;<0.982334890750214>;<0.857119688490601>;<0.857174011117728>;<0.85717693606304>;<0.857055848059459>;<0.857055848059459>;<0.857187548895367>;<0.857058004346363>;<0.857174706018018>;<0.991722909899753>;\", \"predicted_cost\": \"<0.5>;<0.5>;<0.5>;<0>;<0.5>;<0.0449924028590977>;<0.0585428243566988>;<0.0508701298097026>;<0.0806656791799361>;<0.5>;<0.5>;<0.5>;<0.5>;<0.5>;<0.0219012>;<0.0253142115086322>;<0.0264429603998534>;<0.0265748505897839>;<0.085168461492136>;<0.0726345658210991>;<0.0901507743465215>;<0.0750856149525987>;<0.0484990086025137>;<0.0793425236864281>;<0.027905502358098>;<0.047242174378754>;<0.0398092335253569>;<0.102193954764426>;<0.0942713492588952>;<0.0205650630233258>;<0.081120095957302>;<0.0824295554000909>;<0.127463214894058>;<0.0844608422262063>;<0.105654200240882>;<0.106400013149392>;<0.118163226180668>;<0.128566765646492>;<0.125952002668666>;<0.114235715982034>;<0.237824864431979>;<0.00923448148681966>;<0.00350925237924337>;<0.00218448911925357>;<0.00485435297024569>;<0.0131119059818781>;<0.00280378366027425>;<0.00875828758604297>;<0.00382842175014258>;<0>;\", \"fit_time\": \"<0.0219012>;<0.0301724>;<0.0286638>;<0.6712914>;<0.1705874>;<0.137163>;<0.1300062>;<0.0450578>;<0.1812624>;<0.0487918>;<0.0238102>;<0.0986044>;<0.3038326>;<0.026089>;<0.0602964>;<0.2948154>;<0.0260348>;<0.0477092>;<0.0896598>;<0.0495128>;<0.1673572>;<0.066671>;<0.0183416>;<0.0504962>;<0.0527664>;<0.0161534>;<0.0398104>;<0.209132>;<0.224799>;<NaN>;<0.1231692>;<0.0637014>;<NaN>;<NaN>;<0.4848354>;<0.7371654>;<NaN>;<NaN>;<NaN>;<0.17255>;<0.4390358>;<2.2589072>;<0.152385>;<0.1454258>;<0.118321>;<0.037866>;<2.3906224>;<0.0684626>;<0.0614994>;<69>;\", \"training_percent\": \"<100>;<100>;<100>;<100>;<100>;<100>;<100>;<100>;<100>;<100>;<100>;<100>;<100>;<100>;<100>;<100>;<100>;<100>;<100>;<100>;<100>;<100>;<100>;<100>;<100>;<100>;<100>;<100>;<100>;<100>;<100>;<100>;<100>;<100>;<100>;<100>;<100>;<100>;<100>;<100>;<100>;<100>;<100>;<100>;<100>;<100>;<100>;<100>;<100>;<100>;\", \"iteration\": \"<1>;<9>;<2>;<0>;<7>;<14>;<15>;<16>;<17>;<8>;<4>;<3>;<5>;<6>;<10>;<11>;<12>;<13>;<18>;<19>;<20>;<26>;<27>;<23>;<25>;<21>;<22>;<24>;<28>;<29>;<30>;<31>;<32>;<33>;<34>;<35>;<36>;<37>;<38>;<39>;<40>;<43>;<46>;<45>;<41>;<42>;<48>;<44>;<47>;<49>;\", \"run_preprocessor\": \"<StandardScalerWrapper>;<StandardScalerWrapper>;<StandardScalerWrapper>;<MaxAbsScaler>;<StandardScalerWrapper>;<StandardScalerWrapper>;<MinMaxScaler>;<MinMaxScaler>;<StandardScalerWrapper>;<StandardScalerWrapper>;<StandardScalerWrapper>;<MinMaxScaler>;<StandardScalerWrapper>;<MinMaxScaler>;<RobustScaler>;<MinMaxScaler>;<StandardScalerWrapper>;<MinMaxScaler>;<MinMaxScaler>;<MaxAbsScaler>;<MinMaxScaler>;<MinMaxScaler>;<StandardScalerWrapper>;<MinMaxScaler>;<MinMaxScaler>;<MinMaxScaler>;<MaxAbsScaler>;<MinMaxScaler>;<MinMaxScaler>;<RobustScaler>;<RobustScaler>;<MaxAbsScaler>;<MaxAbsScaler>;<StandardScalerWrapper>;<RobustScaler>;<MinMaxScaler>;<StandardScalerWrapper>;<RobustScaler>;<RobustScaler>;<RobustScaler>;<StandardScalerWrapper>;<RobustScaler>;<MinMaxScaler>;<StandardScalerWrapper>;<MaxAbsScaler>;<StandardScalerWrapper>;<RobustScaler>;<MaxAbsScaler>;<StandardScalerWrapper>;<>;\", \"run_algorithm\": \"<SGD>;<SGD>;<SGD>;<LightGBM>;<LightGBM>;<RandomForest>;<ExtremeRandomTrees>;<SGD>;<ExtremeRandomTrees>;<ExtremeRandomTrees>;<SGD>;<LightGBM>;<ExtremeRandomTrees>;<SGD>;<ExtremeRandomTrees>;<RandomForest>;<SGD>;<SGD>;<RandomForest>;<LightGBM>;<LightGBM>;<LightGBM>;<BernoulliNaiveBayes>;<ExtremeRandomTrees>;<SGD>;<BernoulliNaiveBayes>;<SGD>;<ExtremeRandomTrees>;<RandomForest>;<SVM>;<LightGBM>;<ExtremeRandomTrees>;<LightGBM>;<LightGBM>;<LightGBM>;<LightGBM>;<LightGBM>;<LightGBM>;<LightGBM>;<LightGBM>;<LightGBM>;<LogisticRegression>;<LogisticRegression>;<LogisticRegression>;<LogisticRegression>;<LogisticRegression>;<LogisticRegression>;<LogisticRegression>;<LogisticRegression>;<VotingEnsemble>;\", \"dynamic_whitelisting_iterations\": \"<20>;<30>;<33>;<39>;<40>;\", \"model_explain_best_run_child_id\": \"AutoML_a2a3083f-88d4-4094-8806-ab010e5ad643_49\"}, \"end_time_utc\": \"2020-04-06T10:18:01.57733Z\", \"status\": \"Completed\", \"log_files\": {}, \"log_groups\": [], \"run_duration\": \"0:48:58\"}, \"child_runs\": [{\"run_id\": \"AutoML_a2a3083f-88d4-4094-8806-ab010e5ad643_1\", \"run_number\": 30, \"metric\": null, \"status\": \"Completed\", \"run_type\": \"azureml.scriptrun\", \"training_percent\": \"100\", \"start_time\": \"2020-04-06T09:46:36.093562Z\", \"end_time\": \"2020-04-06T09:48:11.184808Z\", \"created_time\": \"2020-04-06T09:46:03.132546Z\", \"created_time_dt\": \"2020-04-06T09:46:03.132546Z\", \"duration\": \"0:02:08\", \"iteration\": \"1\", \"goal\": \"AUC_weighted_max\", \"run_name\": \"StandardScalerWrapper, SGD\", \"run_properties\": \"<azureml.automl.runtime.shared.model_wrappers.StandardScalerWrapper object at 0x7f3a4e8adeb8\", \"primary_metric\": 0.85684446, \"best_metric\": 0.99008114}, {\"run_id\": \"AutoML_a2a3083f-88d4-4094-8806-ab010e5ad643_4\", \"run_number\": 31, \"metric\": null, \"status\": \"Completed\", \"run_type\": \"azureml.scriptrun\", \"training_percent\": \"100\", \"start_time\": \"2020-04-06T09:55:38.784328Z\", \"end_time\": \"2020-04-06T10:06:55.41011Z\", \"created_time\": \"2020-04-06T09:46:03.208161Z\", \"created_time_dt\": \"2020-04-06T09:46:03.208161Z\", \"duration\": \"0:20:52\", \"iteration\": \"4\", \"goal\": \"AUC_weighted_max\", \"run_name\": \"StandardScalerWrapper, SGD\", \"run_properties\": \"<azureml.automl.runtime.shared.model_wrappers.StandardScalerWrapper object at 0x7f638ef7f3c8\", \"primary_metric\": 0.85692806, \"best_metric\": 0.99008114}, {\"run_id\": \"AutoML_a2a3083f-88d4-4094-8806-ab010e5ad643_8\", \"run_number\": 32, \"metric\": null, \"status\": \"Completed\", \"run_type\": \"azureml.scriptrun\", \"training_percent\": \"100\", \"start_time\": \"2020-04-06T09:55:28.994621Z\", \"end_time\": \"2020-04-06T10:06:37.923831Z\", \"created_time\": \"2020-04-06T09:46:03.216364Z\", \"created_time_dt\": \"2020-04-06T09:46:03.216364Z\", \"duration\": \"0:20:34\", \"iteration\": \"8\", \"goal\": \"AUC_weighted_max\", \"run_name\": \"StandardScalerWrapper, ExtremeRandomTrees\", \"run_properties\": \"<azureml.automl.runtime.shared.model_wrappers.StandardScalerWrapper object at 0x7f4342d59a58\", \"primary_metric\": 0.92877101, \"best_metric\": 0.99008114}, {\"run_id\": \"AutoML_a2a3083f-88d4-4094-8806-ab010e5ad643_9\", \"run_number\": 33, \"metric\": null, \"status\": \"Completed\", \"run_type\": \"azureml.scriptrun\", \"training_percent\": \"100\", \"start_time\": \"2020-04-06T09:48:13.345841Z\", \"end_time\": \"2020-04-06T09:49:58.942611Z\", \"created_time\": \"2020-04-06T09:46:03.321159Z\", \"created_time_dt\": \"2020-04-06T09:46:03.321159Z\", \"duration\": \"0:03:55\", \"iteration\": \"9\", \"goal\": \"AUC_weighted_max\", \"run_name\": \"StandardScalerWrapper, SGD\", \"run_properties\": \"<azureml.automl.runtime.shared.model_wrappers.StandardScalerWrapper object at 0x7f6521ff39e8\", \"primary_metric\": 0.85553446, \"best_metric\": 0.99008114}, {\"run_id\": \"AutoML_a2a3083f-88d4-4094-8806-ab010e5ad643_3\", \"run_number\": 34, \"metric\": null, \"status\": \"Completed\", \"run_type\": \"azureml.scriptrun\", \"training_percent\": \"100\", \"start_time\": \"2020-04-06T09:55:44.16749Z\", \"end_time\": \"2020-04-06T10:06:47.921094Z\", \"created_time\": \"2020-04-06T09:46:03.139539Z\", \"created_time_dt\": \"2020-04-06T09:46:03.139539Z\", \"duration\": \"0:20:44\", \"iteration\": \"3\", \"goal\": \"AUC_weighted_max\", \"run_name\": \"MinMaxScaler, LightGBM\", \"run_properties\": \"copy=True, feature_range=(0, 1\", \"primary_metric\": 0.98134898, \"best_metric\": 0.99008114}, {\"run_id\": \"AutoML_a2a3083f-88d4-4094-8806-ab010e5ad643_5\", \"run_number\": 35, \"metric\": null, \"status\": \"Completed\", \"run_type\": \"azureml.scriptrun\", \"training_percent\": \"100\", \"start_time\": \"2020-04-06T09:55:40.034921Z\", \"end_time\": \"2020-04-06T10:06:58.421182Z\", \"created_time\": \"2020-04-06T09:46:03.208427Z\", \"created_time_dt\": \"2020-04-06T09:46:03.208427Z\", \"duration\": \"0:20:55\", \"iteration\": \"5\", \"goal\": \"AUC_weighted_max\", \"run_name\": \"StandardScalerWrapper, ExtremeRandomTrees\", \"run_properties\": \"<azureml.automl.runtime.shared.model_wrappers.StandardScalerWrapper object at 0x7f3b7d348550\", \"primary_metric\": 0.96026304, \"best_metric\": 0.99008114}, {\"run_id\": \"AutoML_a2a3083f-88d4-4094-8806-ab010e5ad643_7\", \"run_number\": 36, \"metric\": null, \"status\": \"Completed\", \"run_type\": \"azureml.scriptrun\", \"training_percent\": \"100\", \"start_time\": \"2020-04-06T09:54:03.280732Z\", \"end_time\": \"2020-04-06T09:55:54.332171Z\", \"created_time\": \"2020-04-06T09:46:03.211766Z\", \"created_time_dt\": \"2020-04-06T09:46:03.211766Z\", \"duration\": \"0:09:51\", \"iteration\": \"7\", \"goal\": \"AUC_weighted_max\", \"run_name\": \"StandardScalerWrapper, LightGBM\", \"run_properties\": \"<azureml.automl.runtime.shared.model_wrappers.StandardScalerWrapper object at 0x7f62192d1da0\", \"primary_metric\": 0.9796758, \"best_metric\": 0.99008114}, {\"run_id\": \"AutoML_a2a3083f-88d4-4094-8806-ab010e5ad643_2\", \"run_number\": 37, \"metric\": null, \"status\": \"Completed\", \"run_type\": \"azureml.scriptrun\", \"training_percent\": \"100\", \"start_time\": \"2020-04-06T09:50:02.703567Z\", \"end_time\": \"2020-04-06T09:51:43.529478Z\", \"created_time\": \"2020-04-06T09:46:03.322192Z\", \"created_time_dt\": \"2020-04-06T09:46:03.322192Z\", \"duration\": \"0:05:40\", \"iteration\": \"2\", \"goal\": \"AUC_weighted_max\", \"run_name\": \"StandardScalerWrapper, SGD\", \"run_properties\": \"<azureml.automl.runtime.shared.model_wrappers.StandardScalerWrapper object at 0x7f9f63427588\", \"primary_metric\": 0.85629997, \"best_metric\": 0.99008114}, {\"run_id\": \"AutoML_a2a3083f-88d4-4094-8806-ab010e5ad643_0\", \"run_number\": 38, \"metric\": null, \"status\": \"Completed\", \"run_type\": \"azureml.scriptrun\", \"training_percent\": \"100\", \"start_time\": \"2020-04-06T09:51:46.056215Z\", \"end_time\": \"2020-04-06T09:53:55.627253Z\", \"created_time\": \"2020-04-06T09:46:03.557158Z\", \"created_time_dt\": \"2020-04-06T09:46:03.557158Z\", \"duration\": \"0:07:52\", \"iteration\": \"0\", \"goal\": \"AUC_weighted_max\", \"run_name\": \"MaxAbsScaler, LightGBM\", \"run_properties\": \"copy=True\", \"primary_metric\": 0.99008114, \"best_metric\": 0.99008114}, {\"run_id\": \"AutoML_a2a3083f-88d4-4094-8806-ab010e5ad643_6\", \"run_number\": 39, \"metric\": null, \"status\": \"Completed\", \"run_type\": \"azureml.scriptrun\", \"training_percent\": \"100\", \"start_time\": \"2020-04-06T09:55:42.21412Z\", \"end_time\": \"2020-04-06T10:06:59.464141Z\", \"created_time\": \"2020-04-06T09:46:03.206965Z\", \"created_time_dt\": \"2020-04-06T09:46:03.206965Z\", \"duration\": \"0:20:56\", \"iteration\": \"6\", \"goal\": \"AUC_weighted_max\", \"run_name\": \"MinMaxScaler, SGD\", \"run_properties\": \"copy=True, feature_range=(0, 1\", \"primary_metric\": 0.85694813, \"best_metric\": 0.99008114}, {\"run_id\": \"AutoML_a2a3083f-88d4-4094-8806-ab010e5ad643_10\", \"run_number\": 40, \"metric\": null, \"status\": \"Completed\", \"run_type\": \"azureml.scriptrun\", \"training_percent\": \"100\", \"start_time\": \"2020-04-06T09:55:46.339077Z\", \"end_time\": \"2020-04-06T10:06:47.526635Z\", \"created_time\": \"2020-04-06T09:48:19.005322Z\", \"created_time_dt\": \"2020-04-06T09:48:19.005322Z\", \"duration\": \"0:18:28\", \"iteration\": \"10\", \"goal\": \"AUC_weighted_max\", \"run_name\": \"RobustScaler, ExtremeRandomTrees\", \"run_properties\": \"copy=True, quantile_range=[25, 75], with_centering=False,\\n       with_scaling=False\", \"primary_metric\": 0.91031345, \"best_metric\": 0.99008114}, {\"run_id\": \"AutoML_a2a3083f-88d4-4094-8806-ab010e5ad643_11\", \"run_number\": 41, \"metric\": null, \"status\": \"Completed\", \"run_type\": \"azureml.scriptrun\", \"training_percent\": \"100\", \"start_time\": \"2020-04-06T09:55:49.182146Z\", \"end_time\": \"2020-04-06T10:06:52.135171Z\", \"created_time\": \"2020-04-06T09:50:13.171779Z\", \"created_time_dt\": \"2020-04-06T09:50:13.171779Z\", \"duration\": \"0:16:38\", \"iteration\": \"11\", \"goal\": \"AUC_weighted_max\", \"run_name\": \"MinMaxScaler, RandomForest\", \"run_properties\": \"copy=True, feature_range=(0, 1\", \"primary_metric\": 0.96227446, \"best_metric\": 0.99008114}, {\"run_id\": \"AutoML_a2a3083f-88d4-4094-8806-ab010e5ad643_12\", \"run_number\": 42, \"metric\": null, \"status\": \"Completed\", \"run_type\": \"azureml.scriptrun\", \"training_percent\": \"100\", \"start_time\": \"2020-04-06T09:55:50.961577Z\", \"end_time\": \"2020-04-06T10:06:47.403484Z\", \"created_time\": \"2020-04-06T09:51:58.700015Z\", \"created_time_dt\": \"2020-04-06T09:51:58.700015Z\", \"duration\": \"0:14:48\", \"iteration\": \"12\", \"goal\": \"AUC_weighted_max\", \"run_name\": \"StandardScalerWrapper, SGD\", \"run_properties\": \"<azureml.automl.runtime.shared.model_wrappers.StandardScalerWrapper object at 0x7f040a44ab70\", \"primary_metric\": 0.85719307, \"best_metric\": 0.99008114}, {\"run_id\": \"AutoML_a2a3083f-88d4-4094-8806-ab010e5ad643_13\", \"run_number\": 43, \"metric\": null, \"status\": \"Completed\", \"run_type\": \"azureml.scriptrun\", \"training_percent\": \"100\", \"start_time\": \"2020-04-06T09:55:47.539946Z\", \"end_time\": \"2020-04-06T10:06:59.414203Z\", \"created_time\": \"2020-04-06T09:54:10.05278Z\", \"created_time_dt\": \"2020-04-06T09:54:10.05278Z\", \"duration\": \"0:12:49\", \"iteration\": \"13\", \"goal\": \"AUC_weighted_max\", \"run_name\": \"MinMaxScaler, SGD\", \"run_properties\": \"copy=True, feature_range=(0, 1\", \"primary_metric\": 0.85699795, \"best_metric\": 0.99008114}, {\"run_id\": \"AutoML_a2a3083f-88d4-4094-8806-ab010e5ad643_14\", \"run_number\": 44, \"metric\": null, \"status\": \"Completed\", \"run_type\": \"azureml.scriptrun\", \"training_percent\": \"100\", \"start_time\": \"2020-04-06T09:56:35.303012Z\", \"end_time\": \"2020-04-06T09:58:17.905594Z\", \"created_time\": \"2020-04-06T09:56:01.326723Z\", \"created_time_dt\": \"2020-04-06T09:56:01.326723Z\", \"duration\": \"0:02:16\", \"iteration\": \"14\", \"goal\": \"AUC_weighted_max\", \"run_name\": \"StandardScalerWrapper, RandomForest\", \"run_properties\": \"<azureml.automl.runtime.shared.model_wrappers.StandardScalerWrapper object at 0x7f09f8080f98\", \"primary_metric\": 0.95947489, \"best_metric\": 0.99008114}, {\"run_id\": \"AutoML_a2a3083f-88d4-4094-8806-ab010e5ad643_15\", \"run_number\": 45, \"metric\": null, \"status\": \"Completed\", \"run_type\": \"azureml.scriptrun\", \"training_percent\": \"100\", \"start_time\": \"2020-04-06T09:59:01.698728Z\", \"end_time\": \"2020-04-06T10:01:03.493955Z\", \"created_time\": \"2020-04-06T09:58:27.550349Z\", \"created_time_dt\": \"2020-04-06T09:58:27.550349Z\", \"duration\": \"0:02:35\", \"iteration\": \"15\", \"goal\": \"AUC_weighted_max\", \"run_name\": \"MinMaxScaler, ExtremeRandomTrees\", \"run_properties\": \"copy=True, feature_range=(0, 1\", \"primary_metric\": 0.93236955, \"best_metric\": 0.99008114}, {\"run_id\": \"AutoML_a2a3083f-88d4-4094-8806-ab010e5ad643_16\", \"run_number\": 46, \"metric\": null, \"status\": \"Completed\", \"run_type\": \"azureml.scriptrun\", \"training_percent\": \"100\", \"start_time\": \"2020-04-06T10:01:43.283543Z\", \"end_time\": \"2020-04-06T10:03:24.97482Z\", \"created_time\": \"2020-04-06T10:01:09.681188Z\", \"created_time_dt\": \"2020-04-06T10:01:09.681188Z\", \"duration\": \"0:02:15\", \"iteration\": \"16\", \"goal\": \"AUC_weighted_max\", \"run_name\": \"MinMaxScaler, SGD\", \"run_properties\": \"copy=True, feature_range=(0, 1\", \"primary_metric\": 0.80076371, \"best_metric\": 0.99008114}, {\"run_id\": \"AutoML_a2a3083f-88d4-4094-8806-ab010e5ad643_17\", \"run_number\": 47, \"metric\": null, \"status\": \"Completed\", \"run_type\": \"azureml.scriptrun\", \"training_percent\": \"100\", \"start_time\": \"2020-04-06T10:04:04.091411Z\", \"end_time\": \"2020-04-06T10:05:42.454281Z\", \"created_time\": \"2020-04-06T10:03:30.128334Z\", \"created_time_dt\": \"2020-04-06T10:03:30.128334Z\", \"duration\": \"0:02:12\", \"iteration\": \"17\", \"goal\": \"AUC_weighted_max\", \"run_name\": \"StandardScalerWrapper, ExtremeRandomTrees\", \"run_properties\": \"<azureml.automl.runtime.shared.model_wrappers.StandardScalerWrapper object at 0x7fd1132b2b38\", \"primary_metric\": 0.91279004, \"best_metric\": 0.99008114}, {\"run_id\": \"AutoML_a2a3083f-88d4-4094-8806-ab010e5ad643_18\", \"run_number\": 48, \"metric\": null, \"status\": \"Completed\", \"run_type\": \"azureml.scriptrun\", \"training_percent\": \"100\", \"start_time\": \"2020-04-06T10:06:47.852378Z\", \"end_time\": \"2020-04-06T10:08:13.074246Z\", \"created_time\": \"2020-04-06T10:05:57.48627Z\", \"created_time_dt\": \"2020-04-06T10:05:57.48627Z\", \"duration\": \"0:02:15\", \"iteration\": \"18\", \"goal\": \"AUC_weighted_max\", \"run_name\": \"MinMaxScaler, RandomForest\", \"run_properties\": \"copy=True, feature_range=(0, 1\", \"primary_metric\": 0.96296014, \"best_metric\": 0.99008114}, {\"run_id\": \"AutoML_a2a3083f-88d4-4094-8806-ab010e5ad643_19\", \"run_number\": 49, \"metric\": null, \"status\": \"Completed\", \"run_type\": \"azureml.scriptrun\", \"training_percent\": \"100\", \"start_time\": \"2020-04-06T10:07:24.311209Z\", \"end_time\": \"2020-04-06T10:08:53.55086Z\", \"created_time\": \"2020-04-06T10:06:50.708198Z\", \"created_time_dt\": \"2020-04-06T10:06:50.708198Z\", \"duration\": \"0:02:02\", \"iteration\": \"19\", \"goal\": \"AUC_weighted_max\", \"run_name\": \"MaxAbsScaler, LightGBM\", \"run_properties\": \"copy=True\", \"primary_metric\": 0.96279949, \"best_metric\": 0.99008114}, {\"run_id\": \"AutoML_a2a3083f-88d4-4094-8806-ab010e5ad643_20\", \"run_number\": 50, \"metric\": null, \"status\": \"Completed\", \"run_type\": \"azureml.scriptrun\", \"training_percent\": \"100\", \"start_time\": \"2020-04-06T10:07:44.094964Z\", \"end_time\": \"2020-04-06T10:09:20.346195Z\", \"created_time\": \"2020-04-06T10:07:09.903688Z\", \"created_time_dt\": \"2020-04-06T10:07:09.903688Z\", \"duration\": \"0:02:10\", \"iteration\": \"20\", \"goal\": \"AUC_weighted_max\", \"run_name\": \"MinMaxScaler, LightGBM\", \"run_properties\": \"copy=True, feature_range=(0, 1\", \"primary_metric\": 0.98772901, \"best_metric\": 0.99008114}, {\"run_id\": \"AutoML_a2a3083f-88d4-4094-8806-ab010e5ad643_23\", \"run_number\": 51, \"metric\": null, \"status\": \"Completed\", \"run_type\": \"azureml.scriptrun\", \"training_percent\": \"100\", \"start_time\": \"2020-04-06T10:07:45.371079Z\", \"end_time\": \"2020-04-06T10:09:23.348147Z\", \"created_time\": \"2020-04-06T10:07:10.013206Z\", \"created_time_dt\": \"2020-04-06T10:07:10.013206Z\", \"duration\": \"0:02:13\", \"iteration\": \"23\", \"goal\": \"AUC_weighted_max\", \"run_name\": \"MinMaxScaler, ExtremeRandomTrees\", \"run_properties\": \"copy=True, feature_range=(0, 1\", \"primary_metric\": 0.94592584, \"best_metric\": 0.99008114}, {\"run_id\": \"AutoML_a2a3083f-88d4-4094-8806-ab010e5ad643_24\", \"run_number\": 52, \"metric\": null, \"status\": \"Completed\", \"run_type\": \"azureml.scriptrun\", \"training_percent\": \"100\", \"start_time\": \"2020-04-06T10:07:43.866122Z\", \"end_time\": \"2020-04-06T10:09:40.745351Z\", \"created_time\": \"2020-04-06T10:07:10.03139Z\", \"created_time_dt\": \"2020-04-06T10:07:10.03139Z\", \"duration\": \"0:02:30\", \"iteration\": \"24\", \"goal\": \"AUC_weighted_max\", \"run_name\": \"MinMaxScaler, ExtremeRandomTrees\", \"run_properties\": \"copy=True, feature_range=(0, 1\", \"primary_metric\": 0.92265346, \"best_metric\": 0.99008114}, {\"run_id\": \"AutoML_a2a3083f-88d4-4094-8806-ab010e5ad643_25\", \"run_number\": 53, \"metric\": null, \"status\": \"Completed\", \"run_type\": \"azureml.scriptrun\", \"training_percent\": \"100\", \"start_time\": \"2020-04-06T10:07:43.532539Z\", \"end_time\": \"2020-04-06T10:09:31.652989Z\", \"created_time\": \"2020-04-06T10:07:10.179779Z\", \"created_time_dt\": \"2020-04-06T10:07:10.179779Z\", \"duration\": \"0:02:21\", \"iteration\": \"25\", \"goal\": \"AUC_weighted_max\", \"run_name\": \"MinMaxScaler, SGD\", \"run_properties\": \"copy=True, feature_range=(0, 1\", \"primary_metric\": 0.8562696, \"best_metric\": 0.99008114}, {\"run_id\": \"AutoML_a2a3083f-88d4-4094-8806-ab010e5ad643_21\", \"run_number\": 54, \"metric\": null, \"status\": \"Completed\", \"run_type\": \"azureml.scriptrun\", \"training_percent\": \"100\", \"start_time\": \"2020-04-06T10:07:44.381987Z\", \"end_time\": \"2020-04-06T10:09:25.188074Z\", \"created_time\": \"2020-04-06T10:07:10.041775Z\", \"created_time_dt\": \"2020-04-06T10:07:10.041775Z\", \"duration\": \"0:02:15\", \"iteration\": \"21\", \"goal\": \"AUC_weighted_max\", \"run_name\": \"MinMaxScaler, BernoulliNaiveBayes\", \"run_properties\": \"copy=True, feature_range=(0, 1\", \"primary_metric\": 0.79072443, \"best_metric\": 0.99008114}, {\"run_id\": \"AutoML_a2a3083f-88d4-4094-8806-ab010e5ad643_26\", \"run_number\": 55, \"metric\": null, \"status\": \"Completed\", \"run_type\": \"azureml.scriptrun\", \"training_percent\": \"100\", \"start_time\": \"2020-04-06T10:07:43.760353Z\", \"end_time\": \"2020-04-06T10:09:20.748199Z\", \"created_time\": \"2020-04-06T10:07:10.111821Z\", \"created_time_dt\": \"2020-04-06T10:07:10.111821Z\", \"duration\": \"0:02:10\", \"iteration\": \"26\", \"goal\": \"AUC_weighted_max\", \"run_name\": \"MinMaxScaler, LightGBM\", \"run_properties\": \"copy=True, feature_range=(0, 1\", \"primary_metric\": 0.97015715, \"best_metric\": 0.99008114}, {\"run_id\": \"AutoML_a2a3083f-88d4-4094-8806-ab010e5ad643_22\", \"run_number\": 56, \"metric\": null, \"status\": \"Completed\", \"run_type\": \"azureml.scriptrun\", \"training_percent\": \"100\", \"start_time\": \"2020-04-06T10:07:43.120874Z\", \"end_time\": \"2020-04-06T10:09:31.651474Z\", \"created_time\": \"2020-04-06T10:07:10.108607Z\", \"created_time_dt\": \"2020-04-06T10:07:10.108607Z\", \"duration\": \"0:02:21\", \"iteration\": \"22\", \"goal\": \"AUC_weighted_max\", \"run_name\": \"MaxAbsScaler, SGD\", \"run_properties\": \"copy=True\", \"primary_metric\": 0.83411718, \"best_metric\": 0.99008114}, {\"run_id\": \"AutoML_a2a3083f-88d4-4094-8806-ab010e5ad643_27\", \"run_number\": 57, \"metric\": null, \"status\": \"Completed\", \"run_type\": \"azureml.scriptrun\", \"training_percent\": \"100\", \"start_time\": \"2020-04-06T10:07:44.442866Z\", \"end_time\": \"2020-04-06T10:09:20.030894Z\", \"created_time\": \"2020-04-06T10:07:10.047389Z\", \"created_time_dt\": \"2020-04-06T10:07:10.047389Z\", \"duration\": \"0:02:09\", \"iteration\": \"27\", \"goal\": \"AUC_weighted_max\", \"run_name\": \"StandardScalerWrapper, BernoulliNaiveBayes\", \"run_properties\": \"<azureml.automl.runtime.shared.model_wrappers.StandardScalerWrapper object at 0x7f547823e550\", \"primary_metric\": 0.79865198, \"best_metric\": 0.99008114}, {\"run_id\": \"AutoML_a2a3083f-88d4-4094-8806-ab010e5ad643_28\", \"run_number\": 58, \"metric\": null, \"status\": \"Completed\", \"run_type\": \"azureml.scriptrun\", \"training_percent\": \"100\", \"start_time\": \"2020-04-06T10:08:54.372769Z\", \"end_time\": \"2020-04-06T10:10:25.324113Z\", \"created_time\": \"2020-04-06T10:08:19.830039Z\", \"created_time_dt\": \"2020-04-06T10:08:19.830039Z\", \"duration\": \"0:02:05\", \"iteration\": \"28\", \"goal\": \"AUC_weighted_max\", \"run_name\": \"MinMaxScaler, RandomForest\", \"run_properties\": \"copy=True, feature_range=(0, 1\", \"primary_metric\": 0.95231491, \"best_metric\": 0.99008114}, {\"run_id\": \"AutoML_a2a3083f-88d4-4094-8806-ab010e5ad643_29\", \"run_number\": 59, \"metric\": null, \"status\": \"Canceled\", \"run_type\": \"azureml.scriptrun\", \"training_percent\": \"100\", \"start_time\": \"2020-04-06T10:09:41.683476Z\", \"end_time\": \"2020-04-06T10:11:40.798751Z\", \"created_time\": \"2020-04-06T10:09:08.848422Z\", \"created_time_dt\": \"2020-04-06T10:09:08.848422Z\", \"duration\": \"0:02:31\", \"iteration\": \"29\", \"goal\": null, \"run_name\": \"RobustScaler, SVM\", \"run_properties\": null}, {\"run_id\": \"AutoML_a2a3083f-88d4-4094-8806-ab010e5ad643_30\", \"run_number\": 60, \"metric\": null, \"status\": \"Canceled\", \"run_type\": \"azureml.scriptrun\", \"training_percent\": \"100\", \"start_time\": \"2020-04-06T10:09:59.136375Z\", \"end_time\": \"2020-04-06T10:11:36.664596Z\", \"created_time\": \"2020-04-06T10:09:24.324858Z\", \"created_time_dt\": \"2020-04-06T10:09:24.324858Z\", \"duration\": \"0:02:12\", \"iteration\": \"30\", \"goal\": \"AUC_weighted_max\", \"run_name\": \"RobustScaler, LightGBM\", \"run_properties\": \"copy=True, quantile_range=[25, 75], with_centering=True,\\n       with_scaling=True\", \"primary_metric\": 0.98722624, \"best_metric\": 0.99008114}, {\"run_id\": \"AutoML_a2a3083f-88d4-4094-8806-ab010e5ad643_31\", \"run_number\": 61, \"metric\": null, \"status\": \"Completed\", \"run_type\": \"azureml.scriptrun\", \"training_percent\": \"100\", \"start_time\": \"2020-04-06T10:09:58.655144Z\", \"end_time\": \"2020-04-06T10:11:29.282151Z\", \"created_time\": \"2020-04-06T10:09:24.341673Z\", \"created_time_dt\": \"2020-04-06T10:09:24.341673Z\", \"duration\": \"0:02:04\", \"iteration\": \"31\", \"goal\": \"AUC_weighted_max\", \"run_name\": \"MaxAbsScaler, ExtremeRandomTrees\", \"run_properties\": \"copy=True\", \"primary_metric\": 0.96147179, \"best_metric\": 0.99008114}, {\"run_id\": \"AutoML_a2a3083f-88d4-4094-8806-ab010e5ad643_32\", \"run_number\": 62, \"metric\": null, \"status\": \"Canceled\", \"run_type\": \"azureml.scriptrun\", \"training_percent\": \"100\", \"start_time\": \"2020-04-06T10:09:58.096218Z\", \"end_time\": \"2020-04-06T10:11:41.98441Z\", \"created_time\": \"2020-04-06T10:09:24.491927Z\", \"created_time_dt\": \"2020-04-06T10:09:24.491927Z\", \"duration\": \"0:02:17\", \"iteration\": \"32\", \"goal\": null, \"run_name\": \"MaxAbsScaler, LightGBM\", \"run_properties\": null, \"primary_metric\": 0.9893832, \"best_metric\": 0.99008114}, {\"run_id\": \"AutoML_a2a3083f-88d4-4094-8806-ab010e5ad643_33\", \"run_number\": 63, \"metric\": null, \"status\": \"Canceled\", \"run_type\": \"azureml.scriptrun\", \"training_percent\": \"100\", \"start_time\": \"2020-04-06T10:10:14.709172Z\", \"end_time\": \"2020-04-06T10:11:39.74631Z\", \"created_time\": \"2020-04-06T10:09:40.290069Z\", \"created_time_dt\": \"2020-04-06T10:09:40.290069Z\", \"duration\": \"0:01:59\", \"iteration\": \"33\", \"goal\": null, \"run_name\": \"StandardScalerWrapper, LightGBM\", \"run_properties\": null, \"primary_metric\": 0.98742829, \"best_metric\": 0.99008114}, {\"run_id\": \"AutoML_a2a3083f-88d4-4094-8806-ab010e5ad643_34\", \"run_number\": 64, \"metric\": null, \"status\": \"Canceled\", \"run_type\": \"azureml.scriptrun\", \"training_percent\": \"100\", \"start_time\": \"2020-04-06T10:10:14.638088Z\", \"end_time\": \"2020-04-06T10:11:40.530757Z\", \"created_time\": \"2020-04-06T10:09:40.349486Z\", \"created_time_dt\": \"2020-04-06T10:09:40.349486Z\", \"duration\": \"0:02:00\", \"iteration\": \"34\", \"goal\": \"AUC_weighted_max\", \"run_name\": \"RobustScaler, LightGBM\", \"run_properties\": \"copy=True, quantile_range=[25, 75], with_centering=True,\\n       with_scaling=True\", \"primary_metric\": 0.99196398, \"best_metric\": 0.99196398}, {\"run_id\": \"AutoML_a2a3083f-88d4-4094-8806-ab010e5ad643_35\", \"run_number\": 65, \"metric\": null, \"status\": \"Canceled\", \"run_type\": \"azureml.scriptrun\", \"training_percent\": \"100\", \"start_time\": \"2020-04-06T10:10:14.609337Z\", \"end_time\": \"2020-04-06T10:11:40.437277Z\", \"created_time\": \"2020-04-06T10:09:40.39153Z\", \"created_time_dt\": \"2020-04-06T10:09:40.39153Z\", \"duration\": \"0:02:00\", \"iteration\": \"35\", \"goal\": \"AUC_weighted_max\", \"run_name\": \"MinMaxScaler, LightGBM\", \"run_properties\": \"copy=True, feature_range=(0, 1\", \"primary_metric\": 0.99041596, \"best_metric\": 0.99196398}, {\"run_id\": \"AutoML_a2a3083f-88d4-4094-8806-ab010e5ad643_36\", \"run_number\": 66, \"metric\": null, \"status\": \"Canceled\", \"run_type\": \"azureml.scriptrun\", \"training_percent\": \"100\", \"start_time\": \"2020-04-06T10:10:13.720548Z\", \"end_time\": \"2020-04-06T10:11:42.779296Z\", \"created_time\": \"2020-04-06T10:09:40.332997Z\", \"created_time_dt\": \"2020-04-06T10:09:40.332997Z\", \"duration\": \"0:02:02\", \"iteration\": \"36\", \"goal\": null, \"run_name\": \"StandardScalerWrapper, LightGBM\", \"run_properties\": null, \"primary_metric\": 0.99083292, \"best_metric\": 0.99196398}, {\"run_id\": \"AutoML_a2a3083f-88d4-4094-8806-ab010e5ad643_37\", \"run_number\": 67, \"metric\": null, \"status\": \"Canceled\", \"run_type\": \"azureml.scriptrun\", \"training_percent\": \"100\", \"start_time\": \"2020-04-06T10:10:28.78662Z\", \"end_time\": \"2020-04-06T10:11:42.364531Z\", \"created_time\": \"2020-04-06T10:09:55.023313Z\", \"created_time_dt\": \"2020-04-06T10:09:55.023313Z\", \"duration\": \"0:01:47\", \"iteration\": \"37\", \"goal\": null, \"run_name\": \"RobustScaler, LightGBM\", \"run_properties\": null, \"primary_metric\": 0.99064658, \"best_metric\": 0.99196398}, {\"run_id\": \"AutoML_a2a3083f-88d4-4094-8806-ab010e5ad643_38\", \"run_number\": 68, \"metric\": null, \"status\": \"Canceled\", \"run_type\": \"azureml.scriptrun\", \"training_percent\": \"100\", \"start_time\": \"2020-04-06T10:11:03.122125Z\", \"end_time\": \"2020-04-06T10:11:40.250376Z\", \"created_time\": \"2020-04-06T10:10:29.223152Z\", \"created_time_dt\": \"2020-04-06T10:10:29.223152Z\", \"duration\": \"0:01:11\", \"iteration\": \"38\", \"goal\": null, \"run_name\": \"RobustScaler, LightGBM\", \"run_properties\": null}, {\"run_id\": \"AutoML_a2a3083f-88d4-4094-8806-ab010e5ad643_39\", \"run_number\": 69, \"metric\": null, \"status\": \"Canceled\", \"run_type\": \"azureml.scriptrun\", \"training_percent\": \"100\", \"start_time\": \"2020-04-06T10:12:21.963257Z\", \"end_time\": \"2020-04-06T10:14:13.779686Z\", \"created_time\": \"2020-04-06T10:11:47.69459Z\", \"created_time_dt\": \"2020-04-06T10:11:47.69459Z\", \"duration\": \"0:02:26\", \"iteration\": \"39\", \"goal\": \"AUC_weighted_max\", \"run_name\": \"RobustScaler, LightGBM\", \"run_properties\": \"copy=True, quantile_range=[10, 90], with_centering=False,\\n       with_scaling=True\", \"primary_metric\": 0.97203295, \"best_metric\": 0.99196398}, {\"run_id\": \"AutoML_a2a3083f-88d4-4094-8806-ab010e5ad643_43\", \"run_number\": 70, \"metric\": null, \"status\": \"Canceled\", \"run_type\": \"azureml.scriptrun\", \"training_percent\": \"100\", \"start_time\": \"2020-04-06T10:12:20.978517Z\", \"end_time\": \"2020-04-06T10:14:15.692673Z\", \"created_time\": \"2020-04-06T10:11:47.73624Z\", \"created_time_dt\": \"2020-04-06T10:11:47.73624Z\", \"duration\": \"0:02:27\", \"iteration\": \"43\", \"goal\": \"AUC_weighted_max\", \"run_name\": \"RobustScaler, LogisticRegression\", \"run_properties\": \"copy=True, quantile_range=[10, 90], with_centering=False,\\n       with_scaling=False\", \"primary_metric\": 0.85711969, \"best_metric\": 0.99196398}, {\"run_id\": \"AutoML_a2a3083f-88d4-4094-8806-ab010e5ad643_41\", \"run_number\": 71, \"metric\": null, \"status\": \"Completed\", \"run_type\": \"azureml.scriptrun\", \"training_percent\": \"100\", \"start_time\": \"2020-04-06T10:12:21.759874Z\", \"end_time\": \"2020-04-06T10:14:01.054892Z\", \"created_time\": \"2020-04-06T10:11:47.747412Z\", \"created_time_dt\": \"2020-04-06T10:11:47.747412Z\", \"duration\": \"0:02:13\", \"iteration\": \"41\", \"goal\": \"AUC_weighted_max\", \"run_name\": \"MaxAbsScaler, LogisticRegression\", \"run_properties\": \"copy=True\", \"primary_metric\": 0.85705585, \"best_metric\": 0.99196398}, {\"run_id\": \"AutoML_a2a3083f-88d4-4094-8806-ab010e5ad643_45\", \"run_number\": 72, \"metric\": null, \"status\": \"Canceled\", \"run_type\": \"azureml.scriptrun\", \"training_percent\": \"100\", \"start_time\": \"2020-04-06T10:12:21.21522Z\", \"end_time\": \"2020-04-06T10:14:12.075241Z\", \"created_time\": \"2020-04-06T10:11:47.758731Z\", \"created_time_dt\": \"2020-04-06T10:11:47.758731Z\", \"duration\": \"0:02:24\", \"iteration\": \"45\", \"goal\": \"AUC_weighted_max\", \"run_name\": \"StandardScalerWrapper, LogisticRegression\", \"run_properties\": \"<azureml.automl.runtime.shared.model_wrappers.StandardScalerWrapper object at 0x7faf8a273f98\", \"primary_metric\": 0.85717694, \"best_metric\": 0.99196398}, {\"run_id\": \"AutoML_a2a3083f-88d4-4094-8806-ab010e5ad643_46\", \"run_number\": 73, \"metric\": null, \"status\": \"Completed\", \"run_type\": \"azureml.scriptrun\", \"training_percent\": \"100\", \"start_time\": \"2020-04-06T10:12:21.54629Z\", \"end_time\": \"2020-04-06T10:13:56.092202Z\", \"created_time\": \"2020-04-06T10:11:47.782956Z\", \"created_time_dt\": \"2020-04-06T10:11:47.782956Z\", \"duration\": \"0:02:08\", \"iteration\": \"46\", \"goal\": \"AUC_weighted_max\", \"run_name\": \"MinMaxScaler, LogisticRegression\", \"run_properties\": \"copy=True, feature_range=(0, 1\", \"primary_metric\": 0.85717401, \"best_metric\": 0.99196398}, {\"run_id\": \"AutoML_a2a3083f-88d4-4094-8806-ab010e5ad643_40\", \"run_number\": 74, \"metric\": null, \"status\": \"Completed\", \"run_type\": \"azureml.scriptrun\", \"training_percent\": \"100\", \"start_time\": \"2020-04-06T10:12:21.783638Z\", \"end_time\": \"2020-04-06T10:14:01.468868Z\", \"created_time\": \"2020-04-06T10:11:47.793426Z\", \"created_time_dt\": \"2020-04-06T10:11:47.793426Z\", \"duration\": \"0:02:13\", \"iteration\": \"40\", \"goal\": \"AUC_weighted_max\", \"run_name\": \"StandardScalerWrapper, LightGBM\", \"run_properties\": \"<azureml.automl.runtime.shared.model_wrappers.StandardScalerWrapper object at 0x7fe424293eb8\", \"primary_metric\": 0.98233489, \"best_metric\": 0.99196398}, {\"run_id\": \"AutoML_a2a3083f-88d4-4094-8806-ab010e5ad643_42\", \"run_number\": 75, \"metric\": null, \"status\": \"Completed\", \"run_type\": \"azureml.scriptrun\", \"training_percent\": \"100\", \"start_time\": \"2020-04-06T10:12:22.005812Z\", \"end_time\": \"2020-04-06T10:13:52.764416Z\", \"created_time\": \"2020-04-06T10:11:47.789862Z\", \"created_time_dt\": \"2020-04-06T10:11:47.789862Z\", \"duration\": \"0:02:04\", \"iteration\": \"42\", \"goal\": \"AUC_weighted_max\", \"run_name\": \"StandardScalerWrapper, LogisticRegression\", \"run_properties\": \"<azureml.automl.runtime.shared.model_wrappers.StandardScalerWrapper object at 0x7fbf659dbf98\", \"primary_metric\": 0.85705585, \"best_metric\": 0.99196398}, {\"run_id\": \"AutoML_a2a3083f-88d4-4094-8806-ab010e5ad643_48\", \"run_number\": 76, \"metric\": null, \"status\": \"Canceled\", \"run_type\": \"azureml.scriptrun\", \"training_percent\": \"100\", \"start_time\": \"2020-04-06T10:12:21.207671Z\", \"end_time\": \"2020-04-06T10:14:15.694703Z\", \"created_time\": \"2020-04-06T10:11:47.744681Z\", \"created_time_dt\": \"2020-04-06T10:11:47.744681Z\", \"duration\": \"0:02:27\", \"iteration\": \"48\", \"goal\": \"AUC_weighted_max\", \"run_name\": \"RobustScaler, LogisticRegression\", \"run_properties\": \"copy=True, quantile_range=[10, 90], with_centering=True,\\n       with_scaling=False\", \"primary_metric\": 0.85718755, \"best_metric\": 0.99196398}, {\"run_id\": \"AutoML_a2a3083f-88d4-4094-8806-ab010e5ad643_44\", \"run_number\": 77, \"metric\": null, \"status\": \"Completed\", \"run_type\": \"azureml.scriptrun\", \"training_percent\": \"100\", \"start_time\": \"2020-04-06T10:12:21.722042Z\", \"end_time\": \"2020-04-06T10:14:02.711669Z\", \"created_time\": \"2020-04-06T10:11:47.950208Z\", \"created_time_dt\": \"2020-04-06T10:11:47.950208Z\", \"duration\": \"0:02:14\", \"iteration\": \"44\", \"goal\": \"AUC_weighted_max\", \"run_name\": \"MaxAbsScaler, LogisticRegression\", \"run_properties\": \"copy=True\", \"primary_metric\": 0.857058, \"best_metric\": 0.99196398}, {\"run_id\": \"AutoML_a2a3083f-88d4-4094-8806-ab010e5ad643_47\", \"run_number\": 78, \"metric\": null, \"status\": \"Completed\", \"run_type\": \"azureml.scriptrun\", \"training_percent\": \"100\", \"start_time\": \"2020-04-06T10:12:22.054315Z\", \"end_time\": \"2020-04-06T10:14:00.796487Z\", \"created_time\": \"2020-04-06T10:11:47.881317Z\", \"created_time_dt\": \"2020-04-06T10:11:47.881317Z\", \"duration\": \"0:02:12\", \"iteration\": \"47\", \"goal\": \"AUC_weighted_max\", \"run_name\": \"StandardScalerWrapper, LogisticRegression\", \"run_properties\": \"<azureml.automl.runtime.shared.model_wrappers.StandardScalerWrapper object at 0x7f0deacf09e8\", \"primary_metric\": 0.85717471, \"best_metric\": 0.99196398}, {\"run_id\": \"AutoML_a2a3083f-88d4-4094-8806-ab010e5ad643_49\", \"run_number\": 79, \"metric\": null, \"status\": \"Completed\", \"run_type\": \"azureml.scriptrun\", \"training_percent\": \"100\", \"start_time\": \"2020-04-06T10:14:51.93423Z\", \"end_time\": \"2020-04-06T10:17:58.250958Z\", \"created_time\": \"2020-04-06T10:14:18.051981Z\", \"created_time_dt\": \"2020-04-06T10:14:18.051981Z\", \"duration\": \"0:03:40\", \"iteration\": \"49\", \"goal\": \"AUC_weighted_max\", \"run_name\": \"VotingEnsemble\", \"run_properties\": \"classification_labels=None,\\n               estimators=[('34', Pipeline(memory=None,\\n     steps=[('robustscaler', RobustScaler(copy=True, quantile_range=[25, 75], with_centering=True,\\n       with_scaling=True\", \"primary_metric\": 0.99172291, \"best_metric\": 0.99196398}], \"children_metrics\": {\"categories\": [0], \"series\": {\"recall_score_micro\": [{\"categories\": [\"0\", \"1\", \"2\", \"3\", \"4\", \"5\", \"6\", \"7\", \"8\", \"9\", \"10\", \"11\", \"12\", \"13\", \"14\", \"15\", \"16\", \"17\", \"18\", \"19\", \"20\", \"21\", \"22\", \"23\", \"24\", \"25\", \"26\", \"27\", \"28\", \"30\", \"31\", \"32\", \"33\", \"34\", \"35\", \"36\", \"37\", \"39\", \"40\", \"41\", \"42\", \"43\", \"44\", \"45\", \"46\", \"47\", \"48\", \"49\"], \"mode\": \"markers\", \"name\": \"recall_score_micro\", \"stepped\": false, \"type\": \"scatter\", \"data\": [0.9522999999999999, 0.7861999999999999, 0.7859, 0.9323, 0.7578, 0.8683, 0.768, 0.9286000000000001, 0.8276, 0.7856000000000001, 0.8134, 0.8879000000000001, 0.7579999999999999, 0.7831, 0.8756999999999999, 0.8392, 0.7429, 0.8210000000000001, 0.9025000000000001, 0.9009, 0.9433999999999999, 0.7233, 0.3344, 0.8615, 0.6666000000000001, 0.7790000000000001, 0.8995000000000001, 0.725, 0.8532, 0.943, 0.9023999999999999, 0.9496, 0.9436, 0.9556000000000001, 0.9531000000000001, 0.9539, 0.953, 0.9161000000000001, 0.9342, 0.7857000000000001, 0.7857000000000001, 0.7693, 0.7857999999999999, 0.7716000000000001, 0.7716000000000001, 0.7716000000000001, 0.7716000000000001, 0.9554]}, {\"categories\": [\"0\", \"1\", \"2\", \"3\", \"4\", \"5\", \"6\", \"7\", \"8\", \"9\", \"10\", \"11\", \"12\", \"13\", \"14\", \"15\", \"16\", \"17\", \"18\", \"19\", \"20\", \"21\", \"22\", \"23\", \"24\", \"25\", \"26\", \"27\", \"28\", \"30\", \"31\", \"32\", \"33\", \"34\", \"35\", \"36\", \"37\", \"39\", \"40\", \"41\", \"42\", \"43\", \"44\", \"45\", \"46\", \"47\", \"48\", \"49\"], \"mode\": \"lines\", \"name\": \"recall_score_micro_max\", \"stepped\": true, \"type\": \"scatter\", \"data\": [0.9522999999999999, 0.9522999999999999, 0.9522999999999999, 0.9522999999999999, 0.9522999999999999, 0.9522999999999999, 0.9522999999999999, 0.9522999999999999, 0.9522999999999999, 0.9522999999999999, 0.9522999999999999, 0.9522999999999999, 0.9522999999999999, 0.9522999999999999, 0.9522999999999999, 0.9522999999999999, 0.9522999999999999, 0.9522999999999999, 0.9522999999999999, 0.9522999999999999, 0.9522999999999999, 0.9522999999999999, 0.9522999999999999, 0.9522999999999999, 0.9522999999999999, 0.9522999999999999, 0.9522999999999999, 0.9522999999999999, 0.9522999999999999, 0.9522999999999999, 0.9522999999999999, 0.9522999999999999, 0.9522999999999999, 0.9556000000000001, 0.9556000000000001, 0.9556000000000001, 0.9556000000000001, 0.9556000000000001, 0.9556000000000001, 0.9556000000000001, 0.9556000000000001, 0.9556000000000001, 0.9556000000000001, 0.9556000000000001, 0.9556000000000001, 0.9556000000000001, 0.9556000000000001, 0.9556000000000001]}], \"recall_score_macro\": [{\"categories\": [\"0\", \"1\", \"2\", \"3\", \"4\", \"5\", \"6\", \"7\", \"8\", \"9\", \"10\", \"11\", \"12\", \"13\", \"14\", \"15\", \"16\", \"17\", \"18\", \"19\", \"20\", \"21\", \"22\", \"23\", \"24\", \"25\", \"26\", \"27\", \"28\", \"30\", \"31\", \"32\", \"33\", \"34\", \"35\", \"36\", \"37\", \"39\", \"40\", \"41\", \"42\", \"43\", \"44\", \"45\", \"46\", \"47\", \"48\", \"49\"], \"mode\": \"markers\", \"name\": \"recall_score_macro\", \"stepped\": false, \"type\": \"scatter\", \"data\": [0.9451640880646736, 0.7389847135894824, 0.7366044141529341, 0.9199366329535016, 0.7745988044421144, 0.8179226608923413, 0.770146814369515, 0.916190430412894, 0.8499440017150215, 0.7373857050193469, 0.8253516470723452, 0.8934486335484586, 0.7735652420210802, 0.7394978402201954, 0.8871458627049591, 0.8546003895701052, 0.6785825626336733, 0.8320512953473529, 0.8822578428501904, 0.871399538717011, 0.9351582149498195, 0.7225959104665233, 0.5, 0.8191736578484307, 0.5015009479365846, 0.7210213859021226, 0.8620117560803993, 0.7222879500888754, 0.8733935939053723, 0.9346445997421113, 0.8873252047630208, 0.9428873055282567, 0.9352041858731746, 0.9495051446287393, 0.9461502832560018, 0.9477248265322025, 0.9461060583177356, 0.899575382001346, 0.9240926969094773, 0.7397683401801473, 0.7397683401801473, 0.7676210167507497, 0.7398431904795485, 0.7695021530903535, 0.7695021530903535, 0.7695021530903535, 0.7696390157289084, 0.9490746837008428]}, {\"categories\": [\"0\", \"1\", \"2\", \"3\", \"4\", \"5\", \"6\", \"7\", \"8\", \"9\", \"10\", \"11\", \"12\", \"13\", \"14\", \"15\", \"16\", \"17\", \"18\", \"19\", \"20\", \"21\", \"22\", \"23\", \"24\", \"25\", \"26\", \"27\", \"28\", \"30\", \"31\", \"32\", \"33\", \"34\", \"35\", \"36\", \"37\", \"39\", \"40\", \"41\", \"42\", \"43\", \"44\", \"45\", \"46\", \"47\", \"48\", \"49\"], \"mode\": \"lines\", \"name\": \"recall_score_macro_max\", \"stepped\": true, \"type\": \"scatter\", \"data\": [0.9451640880646736, 0.9451640880646736, 0.9451640880646736, 0.9451640880646736, 0.9451640880646736, 0.9451640880646736, 0.9451640880646736, 0.9451640880646736, 0.9451640880646736, 0.9451640880646736, 0.9451640880646736, 0.9451640880646736, 0.9451640880646736, 0.9451640880646736, 0.9451640880646736, 0.9451640880646736, 0.9451640880646736, 0.9451640880646736, 0.9451640880646736, 0.9451640880646736, 0.9451640880646736, 0.9451640880646736, 0.9451640880646736, 0.9451640880646736, 0.9451640880646736, 0.9451640880646736, 0.9451640880646736, 0.9451640880646736, 0.9451640880646736, 0.9451640880646736, 0.9451640880646736, 0.9451640880646736, 0.9451640880646736, 0.9495051446287393, 0.9495051446287393, 0.9495051446287393, 0.9495051446287393, 0.9495051446287393, 0.9495051446287393, 0.9495051446287393, 0.9495051446287393, 0.9495051446287393, 0.9495051446287393, 0.9495051446287393, 0.9495051446287393, 0.9495051446287393, 0.9495051446287393, 0.9495051446287393]}], \"log_loss\": [{\"categories\": [\"0\", \"1\", \"2\", \"3\", \"4\", \"5\", \"6\", \"7\", \"8\", \"9\", \"10\", \"11\", \"12\", \"13\", \"14\", \"15\", \"16\", \"17\", \"18\", \"19\", \"20\", \"21\", \"22\", \"23\", \"24\", \"25\", \"26\", \"27\", \"28\", \"30\", \"31\", \"32\", \"33\", \"34\", \"35\", \"36\", \"37\", \"39\", \"40\", \"41\", \"42\", \"43\", \"44\", \"45\", \"46\", \"47\", \"48\", \"49\"], \"mode\": \"markers\", \"name\": \"log_loss\", \"stepped\": false, \"type\": \"scatter\", \"data\": [0.12001234282988918, 0.5497824863455668, 0.44342948869566223, 0.1911317483694769, 0.8145108481415221, 0.3867861104960036, 0.4845675693616215, 0.2100043664949943, 0.4560946420463301, 0.4448243936667297, 0.5453686489003721, 0.31033718707089586, 0.6730591728982667, 0.44429506612331365, 0.3621258146339164, 0.5499988690494388, 0.5080480239850267, 0.6579300777337415, 0.28099356518790064, 0.3367694760847598, 0.14408865384218394, 0.6433206433632501, 0.694806887223153, 0.3656518942419128, 0.556110301816132, 0.45471024612439803, 0.3680257344700325, 0.5721813582769518, 0.4856795521400478, 0.1523636247173889, 0.28177106981090555, 0.12968830428205952, 0.14910717050394434, 0.10873273736022057, 0.11768762115839457, 0.11568829219827029, 0.11658459408031178, 0.2432618556737281, 0.16753481061346331, 0.4415449063247646, 0.4415448964119599, 0.4774836015275853, 0.4415435073166075, 0.4765745686634906, 0.4765869163088022, 0.4765693114685289, 0.47659460939155124, 0.11217641416499095]}, {\"categories\": [\"0\", \"1\", \"2\", \"3\", \"4\", \"5\", \"6\", \"7\", \"8\", \"9\", \"10\", \"11\", \"12\", \"13\", \"14\", \"15\", \"16\", \"17\", \"18\", \"19\", \"20\", \"21\", \"22\", \"23\", \"24\", \"25\", \"26\", \"27\", \"28\", \"30\", \"31\", \"32\", \"33\", \"34\", \"35\", \"36\", \"37\", \"39\", \"40\", \"41\", \"42\", \"43\", \"44\", \"45\", \"46\", \"47\", \"48\", \"49\"], \"mode\": \"lines\", \"name\": \"log_loss_min\", \"stepped\": true, \"type\": \"scatter\", \"data\": [0.12001234282988918, 0.12001234282988918, 0.12001234282988918, 0.12001234282988918, 0.12001234282988918, 0.12001234282988918, 0.12001234282988918, 0.12001234282988918, 0.12001234282988918, 0.12001234282988918, 0.12001234282988918, 0.12001234282988918, 0.12001234282988918, 0.12001234282988918, 0.12001234282988918, 0.12001234282988918, 0.12001234282988918, 0.12001234282988918, 0.12001234282988918, 0.12001234282988918, 0.12001234282988918, 0.12001234282988918, 0.12001234282988918, 0.12001234282988918, 0.12001234282988918, 0.12001234282988918, 0.12001234282988918, 0.12001234282988918, 0.12001234282988918, 0.12001234282988918, 0.12001234282988918, 0.12001234282988918, 0.12001234282988918, 0.10873273736022057, 0.10873273736022057, 0.10873273736022057, 0.10873273736022057, 0.10873273736022057, 0.10873273736022057, 0.10873273736022057, 0.10873273736022057, 0.10873273736022057, 0.10873273736022057, 0.10873273736022057, 0.10873273736022057, 0.10873273736022057, 0.10873273736022057, 0.10873273736022057]}], \"f1_score_weighted\": [{\"categories\": [\"0\", \"1\", \"2\", \"3\", \"4\", \"5\", \"6\", \"7\", \"8\", \"9\", \"10\", \"11\", \"12\", \"13\", \"14\", \"15\", \"16\", \"17\", \"18\", \"19\", \"20\", \"21\", \"22\", \"23\", \"24\", \"25\", \"26\", \"27\", \"28\", \"30\", \"31\", \"32\", \"33\", \"34\", \"35\", \"36\", \"37\", \"39\", \"40\", \"41\", \"42\", \"43\", \"44\", \"45\", \"46\", \"47\", \"48\", \"49\"], \"mode\": \"markers\", \"name\": \"f1_score_weighted\", \"stepped\": false, \"type\": \"scatter\", \"data\": [0.9522385265771138, 0.7806868073926927, 0.7797895900157462, 0.9320202600344853, 0.7643815169834525, 0.8618990853966263, 0.7730241113309461, 0.9283411245238684, 0.8318528883995941, 0.779632668002366, 0.8176679422592888, 0.8896768784150169, 0.7645062067481426, 0.7785539477396556, 0.8781774413562582, 0.843027215094535, 0.7312059700353368, 0.8251040284757961, 0.901618819882635, 0.8988536962095204, 0.9433263336346135, 0.7297328946177968, 0.16772322181825353, 0.8567984366452034, 0.5343326385624537, 0.7677645102488171, 0.8962537543866883, 0.7311276146161433, 0.8568556334670336, 0.9429219254184236, 0.902095312308947, 0.9495773028578508, 0.9435192110156125, 0.9555724329685855, 0.9530456051525201, 0.9538770915715711, 0.9529462149360965, 0.9155684172453473, 0.9340646783506139, 0.7805605168443439, 0.7805605168443439, 0.7739369370258917, 0.780650580178221, 0.7761167507475972, 0.7761167507475972, 0.7761167507475972, 0.7761362711307666, 0.9553619043715094]}, {\"categories\": [\"0\", \"1\", \"2\", \"3\", \"4\", \"5\", \"6\", \"7\", \"8\", \"9\", \"10\", \"11\", \"12\", \"13\", \"14\", \"15\", \"16\", \"17\", \"18\", \"19\", \"20\", \"21\", \"22\", \"23\", \"24\", \"25\", \"26\", \"27\", \"28\", \"30\", \"31\", \"32\", \"33\", \"34\", \"35\", \"36\", \"37\", \"39\", \"40\", \"41\", \"42\", \"43\", \"44\", \"45\", \"46\", \"47\", \"48\", \"49\"], \"mode\": \"lines\", \"name\": \"f1_score_weighted_max\", \"stepped\": true, \"type\": \"scatter\", \"data\": [0.9522385265771138, 0.9522385265771138, 0.9522385265771138, 0.9522385265771138, 0.9522385265771138, 0.9522385265771138, 0.9522385265771138, 0.9522385265771138, 0.9522385265771138, 0.9522385265771138, 0.9522385265771138, 0.9522385265771138, 0.9522385265771138, 0.9522385265771138, 0.9522385265771138, 0.9522385265771138, 0.9522385265771138, 0.9522385265771138, 0.9522385265771138, 0.9522385265771138, 0.9522385265771138, 0.9522385265771138, 0.9522385265771138, 0.9522385265771138, 0.9522385265771138, 0.9522385265771138, 0.9522385265771138, 0.9522385265771138, 0.9522385265771138, 0.9522385265771138, 0.9522385265771138, 0.9522385265771138, 0.9522385265771138, 0.9555724329685855, 0.9555724329685855, 0.9555724329685855, 0.9555724329685855, 0.9555724329685855, 0.9555724329685855, 0.9555724329685855, 0.9555724329685855, 0.9555724329685855, 0.9555724329685855, 0.9555724329685855, 0.9555724329685855, 0.9555724329685855, 0.9555724329685855, 0.9555724329685855]}], \"f1_score_micro\": [{\"categories\": [\"0\", \"1\", \"2\", \"3\", \"4\", \"5\", \"6\", \"7\", \"8\", \"9\", \"10\", \"11\", \"12\", \"13\", \"14\", \"15\", \"16\", \"17\", \"18\", \"19\", \"20\", \"21\", \"22\", \"23\", \"24\", \"25\", \"26\", \"27\", \"28\", \"30\", \"31\", \"32\", \"33\", \"34\", \"35\", \"36\", \"37\", \"39\", \"40\", \"41\", \"42\", \"43\", \"44\", \"45\", \"46\", \"47\", \"48\", \"49\"], \"mode\": \"markers\", \"name\": \"f1_score_micro\", \"stepped\": false, \"type\": \"scatter\", \"data\": [0.9522999999999999, 0.7861999999999999, 0.7859, 0.9323, 0.7578, 0.8683, 0.768, 0.9286000000000001, 0.8276, 0.7856000000000001, 0.8134, 0.8879000000000001, 0.7579999999999999, 0.7831, 0.8756999999999999, 0.8392, 0.7428999999999999, 0.8210000000000001, 0.9025000000000001, 0.9009, 0.9433999999999999, 0.7233, 0.3344, 0.8615, 0.6666000000000001, 0.7790000000000001, 0.8995000000000001, 0.725, 0.8532, 0.943, 0.9023999999999999, 0.9496, 0.9436, 0.9556000000000001, 0.9531000000000001, 0.9539, 0.953, 0.9160999999999999, 0.9342, 0.7857000000000001, 0.7857000000000001, 0.7693000000000001, 0.7858, 0.7716000000000001, 0.7716000000000001, 0.7716000000000001, 0.7716000000000001, 0.9554]}, {\"categories\": [\"0\", \"1\", \"2\", \"3\", \"4\", \"5\", \"6\", \"7\", \"8\", \"9\", \"10\", \"11\", \"12\", \"13\", \"14\", \"15\", \"16\", \"17\", \"18\", \"19\", \"20\", \"21\", \"22\", \"23\", \"24\", \"25\", \"26\", \"27\", \"28\", \"30\", \"31\", \"32\", \"33\", \"34\", \"35\", \"36\", \"37\", \"39\", \"40\", \"41\", \"42\", \"43\", \"44\", \"45\", \"46\", \"47\", \"48\", \"49\"], \"mode\": \"lines\", \"name\": \"f1_score_micro_max\", \"stepped\": true, \"type\": \"scatter\", \"data\": [0.9522999999999999, 0.9522999999999999, 0.9522999999999999, 0.9522999999999999, 0.9522999999999999, 0.9522999999999999, 0.9522999999999999, 0.9522999999999999, 0.9522999999999999, 0.9522999999999999, 0.9522999999999999, 0.9522999999999999, 0.9522999999999999, 0.9522999999999999, 0.9522999999999999, 0.9522999999999999, 0.9522999999999999, 0.9522999999999999, 0.9522999999999999, 0.9522999999999999, 0.9522999999999999, 0.9522999999999999, 0.9522999999999999, 0.9522999999999999, 0.9522999999999999, 0.9522999999999999, 0.9522999999999999, 0.9522999999999999, 0.9522999999999999, 0.9522999999999999, 0.9522999999999999, 0.9522999999999999, 0.9522999999999999, 0.9556000000000001, 0.9556000000000001, 0.9556000000000001, 0.9556000000000001, 0.9556000000000001, 0.9556000000000001, 0.9556000000000001, 0.9556000000000001, 0.9556000000000001, 0.9556000000000001, 0.9556000000000001, 0.9556000000000001, 0.9556000000000001, 0.9556000000000001, 0.9556000000000001]}], \"precision_score_macro\": [{\"categories\": [\"0\", \"1\", \"2\", \"3\", \"4\", \"5\", \"6\", \"7\", \"8\", \"9\", \"10\", \"11\", \"12\", \"13\", \"14\", \"15\", \"16\", \"17\", \"18\", \"19\", \"20\", \"21\", \"22\", \"23\", \"24\", \"25\", \"26\", \"27\", \"28\", \"30\", \"31\", \"32\", \"33\", \"34\", \"35\", \"36\", \"37\", \"39\", \"40\", \"41\", \"42\", \"43\", \"44\", \"45\", \"46\", \"47\", \"48\", \"49\"], \"mode\": \"markers\", \"name\": \"precision_score_macro\", \"stepped\": false, \"type\": \"scatter\", \"data\": [0.9474599147059504, 0.7649759279113031, 0.7652257332196449, 0.9270767342816004, 0.7460328469429128, 0.8850966572925476, 0.747704876919681, 0.9223934043591726, 0.8167312572159883, 0.7658385378994796, 0.7965585599492713, 0.869614265012145, 0.7453134462011206, 0.760034648200971, 0.8586353173553419, 0.8223600069051094, 0.7148636553841379, 0.8028819917743373, 0.8959254583228218, 0.9032522092147508, 0.9373745136262602, 0.7028419914321784, 0.1672, 0.8637369948840412, 0.6331344811964215, 0.7676227676178348, 0.912095183054533, 0.7034160163775639, 0.8380106814898456, 0.9369886317765287, 0.8923108362599417, 0.9437600385381565, 0.9377227954073593, 0.9505830318419924, 0.9482170935602257, 0.9486233540901313, 0.9481098240419741, 0.9101573244838554, 0.9275725440230864, 0.7638897028208447, 0.7638897028208447, 0.7469478527997819, 0.7640278695054933, 0.7489888051979882, 0.7489888051979882, 0.7489888051979882, 0.7490398458298237, 0.9505294456109737]}, {\"categories\": [\"0\", \"1\", \"2\", \"3\", \"4\", \"5\", \"6\", \"7\", \"8\", \"9\", \"10\", \"11\", \"12\", \"13\", \"14\", \"15\", \"16\", \"17\", \"18\", \"19\", \"20\", \"21\", \"22\", \"23\", \"24\", \"25\", \"26\", \"27\", \"28\", \"30\", \"31\", \"32\", \"33\", \"34\", \"35\", \"36\", \"37\", \"39\", \"40\", \"41\", \"42\", \"43\", \"44\", \"45\", \"46\", \"47\", \"48\", \"49\"], \"mode\": \"lines\", \"name\": \"precision_score_macro_max\", \"stepped\": true, \"type\": \"scatter\", \"data\": [0.9474599147059504, 0.9474599147059504, 0.9474599147059504, 0.9474599147059504, 0.9474599147059504, 0.9474599147059504, 0.9474599147059504, 0.9474599147059504, 0.9474599147059504, 0.9474599147059504, 0.9474599147059504, 0.9474599147059504, 0.9474599147059504, 0.9474599147059504, 0.9474599147059504, 0.9474599147059504, 0.9474599147059504, 0.9474599147059504, 0.9474599147059504, 0.9474599147059504, 0.9474599147059504, 0.9474599147059504, 0.9474599147059504, 0.9474599147059504, 0.9474599147059504, 0.9474599147059504, 0.9474599147059504, 0.9474599147059504, 0.9474599147059504, 0.9474599147059504, 0.9474599147059504, 0.9474599147059504, 0.9474599147059504, 0.9505830318419924, 0.9505830318419924, 0.9505830318419924, 0.9505830318419924, 0.9505830318419924, 0.9505830318419924, 0.9505830318419924, 0.9505830318419924, 0.9505830318419924, 0.9505830318419924, 0.9505830318419924, 0.9505830318419924, 0.9505830318419924, 0.9505830318419924, 0.9505830318419924]}], \"AUC_micro\": [{\"categories\": [\"0\", \"1\", \"2\", \"3\", \"4\", \"5\", \"6\", \"7\", \"8\", \"9\", \"10\", \"11\", \"12\", \"13\", \"14\", \"15\", \"16\", \"17\", \"18\", \"19\", \"20\", \"21\", \"22\", \"23\", \"24\", \"25\", \"26\", \"27\", \"28\", \"30\", \"31\", \"32\", \"33\", \"34\", \"35\", \"36\", \"37\", \"39\", \"40\", \"41\", \"42\", \"43\", \"44\", \"45\", \"46\", \"47\", \"48\", \"49\"], \"mode\": \"markers\", \"name\": \"AUC_micro\", \"stepped\": false, \"type\": \"scatter\", \"data\": [0.99119865, 0.8752903, 0.87480705, 0.9831980999999999, 0.8300240499999999, 0.9512942500000001, 0.8495299, 0.98162425, 0.9138318, 0.8736592000000002, 0.9044786, 0.95886515, 0.8305481, 0.87431815, 0.9518130500000002, 0.9245978000000001, 0.8295897499999999, 0.9066928000000001, 0.9666431, 0.9620827999999999, 0.9890596, 0.7844616500000001, 0.4830791, 0.9460063, 0.8535790999999999, 0.8698591999999999, 0.9606750500000001, 0.7854555, 0.93905785, 0.9885909500000001, 0.9656979, 0.990585, 0.9888123999999999, 0.9928588000000002, 0.9914994500000001, 0.9918459499999999, 0.9916842000000001, 0.9747250000000001, 0.9842821, 0.87551965, 0.8755197499999999, 0.8540881499999999, 0.8755196999999999, 0.8546088000000001, 0.8546040999999999, 0.8546102000000001, 0.8545994, 0.9926484]}, {\"categories\": [\"0\", \"1\", \"2\", \"3\", \"4\", \"5\", \"6\", \"7\", \"8\", \"9\", \"10\", \"11\", \"12\", \"13\", \"14\", \"15\", \"16\", \"17\", \"18\", \"19\", \"20\", \"21\", \"22\", \"23\", \"24\", \"25\", \"26\", \"27\", \"28\", \"30\", \"31\", \"32\", \"33\", \"34\", \"35\", \"36\", \"37\", \"39\", \"40\", \"41\", \"42\", \"43\", \"44\", \"45\", \"46\", \"47\", \"48\", \"49\"], \"mode\": \"lines\", \"name\": \"AUC_micro_max\", \"stepped\": true, \"type\": \"scatter\", \"data\": [0.99119865, 0.99119865, 0.99119865, 0.99119865, 0.99119865, 0.99119865, 0.99119865, 0.99119865, 0.99119865, 0.99119865, 0.99119865, 0.99119865, 0.99119865, 0.99119865, 0.99119865, 0.99119865, 0.99119865, 0.99119865, 0.99119865, 0.99119865, 0.99119865, 0.99119865, 0.99119865, 0.99119865, 0.99119865, 0.99119865, 0.99119865, 0.99119865, 0.99119865, 0.99119865, 0.99119865, 0.99119865, 0.99119865, 0.9928588000000002, 0.9928588000000002, 0.9928588000000002, 0.9928588000000002, 0.9928588000000002, 0.9928588000000002, 0.9928588000000002, 0.9928588000000002, 0.9928588000000002, 0.9928588000000002, 0.9928588000000002, 0.9928588000000002, 0.9928588000000002, 0.9928588000000002, 0.9928588000000002]}], \"recall_score_weighted\": [{\"categories\": [\"0\", \"1\", \"2\", \"3\", \"4\", \"5\", \"6\", \"7\", \"8\", \"9\", \"10\", \"11\", \"12\", \"13\", \"14\", \"15\", \"16\", \"17\", \"18\", \"19\", \"20\", \"21\", \"22\", \"23\", \"24\", \"25\", \"26\", \"27\", \"28\", \"30\", \"31\", \"32\", \"33\", \"34\", \"35\", \"36\", \"37\", \"39\", \"40\", \"41\", \"42\", \"43\", \"44\", \"45\", \"46\", \"47\", \"48\", \"49\"], \"mode\": \"markers\", \"name\": \"recall_score_weighted\", \"stepped\": false, \"type\": \"scatter\", \"data\": [0.9522999999999999, 0.7861999999999999, 0.7859, 0.9323, 0.7578, 0.8683, 0.768, 0.9286000000000001, 0.8276, 0.7856000000000001, 0.8134, 0.8879000000000001, 0.7579999999999999, 0.7831, 0.8756999999999999, 0.8392, 0.7429, 0.8210000000000001, 0.9025000000000001, 0.9009, 0.9433999999999999, 0.7233, 0.3344, 0.8615, 0.6666000000000001, 0.7790000000000001, 0.8995000000000001, 0.725, 0.8532, 0.943, 0.9023999999999999, 0.9496, 0.9436, 0.9556000000000001, 0.9531000000000001, 0.9539, 0.953, 0.9161000000000001, 0.9342, 0.7857000000000001, 0.7857000000000001, 0.7693, 0.7857999999999999, 0.7716000000000001, 0.7716000000000001, 0.7716000000000001, 0.7716000000000001, 0.9554]}, {\"categories\": [\"0\", \"1\", \"2\", \"3\", \"4\", \"5\", \"6\", \"7\", \"8\", \"9\", \"10\", \"11\", \"12\", \"13\", \"14\", \"15\", \"16\", \"17\", \"18\", \"19\", \"20\", \"21\", \"22\", \"23\", \"24\", \"25\", \"26\", \"27\", \"28\", \"30\", \"31\", \"32\", \"33\", \"34\", \"35\", \"36\", \"37\", \"39\", \"40\", \"41\", \"42\", \"43\", \"44\", \"45\", \"46\", \"47\", \"48\", \"49\"], \"mode\": \"lines\", \"name\": \"recall_score_weighted_max\", \"stepped\": true, \"type\": \"scatter\", \"data\": [0.9522999999999999, 0.9522999999999999, 0.9522999999999999, 0.9522999999999999, 0.9522999999999999, 0.9522999999999999, 0.9522999999999999, 0.9522999999999999, 0.9522999999999999, 0.9522999999999999, 0.9522999999999999, 0.9522999999999999, 0.9522999999999999, 0.9522999999999999, 0.9522999999999999, 0.9522999999999999, 0.9522999999999999, 0.9522999999999999, 0.9522999999999999, 0.9522999999999999, 0.9522999999999999, 0.9522999999999999, 0.9522999999999999, 0.9522999999999999, 0.9522999999999999, 0.9522999999999999, 0.9522999999999999, 0.9522999999999999, 0.9522999999999999, 0.9522999999999999, 0.9522999999999999, 0.9522999999999999, 0.9522999999999999, 0.9556000000000001, 0.9556000000000001, 0.9556000000000001, 0.9556000000000001, 0.9556000000000001, 0.9556000000000001, 0.9556000000000001, 0.9556000000000001, 0.9556000000000001, 0.9556000000000001, 0.9556000000000001, 0.9556000000000001, 0.9556000000000001, 0.9556000000000001, 0.9556000000000001]}], \"AUC_macro\": [{\"categories\": [\"0\", \"1\", \"2\", \"3\", \"4\", \"5\", \"6\", \"7\", \"8\", \"9\", \"10\", \"11\", \"12\", \"13\", \"14\", \"15\", \"16\", \"17\", \"18\", \"19\", \"20\", \"21\", \"22\", \"23\", \"24\", \"25\", \"26\", \"27\", \"28\", \"30\", \"31\", \"32\", \"33\", \"34\", \"35\", \"36\", \"37\", \"39\", \"40\", \"41\", \"42\", \"43\", \"44\", \"45\", \"46\", \"47\", \"48\", \"49\"], \"mode\": \"markers\", \"name\": \"AUC_macro\", \"stepped\": false, \"type\": \"scatter\", \"data\": [0.9900811353271542, 0.856844456648572, 0.856299969215169, 0.9813489835923292, 0.8569280603206982, 0.9602630382231755, 0.8569481314947801, 0.9796758010065716, 0.9287710082713915, 0.85553446130659, 0.9103134529029328, 0.9622744618150278, 0.8571930692110314, 0.8569979520051764, 0.9594748931878907, 0.932369554253629, 0.8007637097310871, 0.9127900428969733, 0.9629601366206793, 0.9627994861138301, 0.9877290093363655, 0.7907244269350053, 0.8341171762153602, 0.9459258431116997, 0.922653463509899, 0.8562696014060833, 0.9701571451648169, 0.7986519840898448, 0.9523149060198314, 0.9872262390567166, 0.9614717909226804, 0.9893832012136349, 0.9874282924627092, 0.9919639836543521, 0.9904159622058059, 0.9908329240939701, 0.9906465751847368, 0.972032945200483, 0.9823348907502144, 0.8570558480594593, 0.8570558480594593, 0.8571196884906007, 0.8570580043463633, 0.8571769360630401, 0.857174011117728, 0.8571747060180182, 0.8571875488953669, 0.9917229098997534]}, {\"categories\": [\"0\", \"1\", \"2\", \"3\", \"4\", \"5\", \"6\", \"7\", \"8\", \"9\", \"10\", \"11\", \"12\", \"13\", \"14\", \"15\", \"16\", \"17\", \"18\", \"19\", \"20\", \"21\", \"22\", \"23\", \"24\", \"25\", \"26\", \"27\", \"28\", \"30\", \"31\", \"32\", \"33\", \"34\", \"35\", \"36\", \"37\", \"39\", \"40\", \"41\", \"42\", \"43\", \"44\", \"45\", \"46\", \"47\", \"48\", \"49\"], \"mode\": \"lines\", \"name\": \"AUC_macro_max\", \"stepped\": true, \"type\": \"scatter\", \"data\": [0.9900811353271542, 0.9900811353271542, 0.9900811353271542, 0.9900811353271542, 0.9900811353271542, 0.9900811353271542, 0.9900811353271542, 0.9900811353271542, 0.9900811353271542, 0.9900811353271542, 0.9900811353271542, 0.9900811353271542, 0.9900811353271542, 0.9900811353271542, 0.9900811353271542, 0.9900811353271542, 0.9900811353271542, 0.9900811353271542, 0.9900811353271542, 0.9900811353271542, 0.9900811353271542, 0.9900811353271542, 0.9900811353271542, 0.9900811353271542, 0.9900811353271542, 0.9900811353271542, 0.9900811353271542, 0.9900811353271542, 0.9900811353271542, 0.9900811353271542, 0.9900811353271542, 0.9900811353271542, 0.9900811353271542, 0.9919639836543521, 0.9919639836543521, 0.9919639836543521, 0.9919639836543521, 0.9919639836543521, 0.9919639836543521, 0.9919639836543521, 0.9919639836543521, 0.9919639836543521, 0.9919639836543521, 0.9919639836543521, 0.9919639836543521, 0.9919639836543521, 0.9919639836543521, 0.9919639836543521]}], \"average_precision_score_macro\": [{\"categories\": [\"0\", \"1\", \"2\", \"3\", \"4\", \"5\", \"6\", \"7\", \"8\", \"9\", \"10\", \"11\", \"12\", \"13\", \"14\", \"15\", \"16\", \"17\", \"18\", \"19\", \"20\", \"21\", \"22\", \"23\", \"24\", \"25\", \"26\", \"27\", \"28\", \"30\", \"31\", \"32\", \"33\", \"34\", \"35\", \"36\", \"37\", \"39\", \"40\", \"41\", \"42\", \"43\", \"44\", \"45\", \"46\", \"47\", \"48\", \"49\"], \"mode\": \"markers\", \"name\": \"average_precision_score_macro\", \"stepped\": false, \"type\": \"scatter\", \"data\": [0.98827349383726, 0.8324005954561746, 0.832445827153464, 0.9777310434087845, 0.8289535042073075, 0.9502879421361274, 0.8324894787196666, 0.9760864013825973, 0.908702070978407, 0.8320872663712624, 0.8922320959655874, 0.9553362337530713, 0.8338628934306257, 0.8325028295400412, 0.9525213564780023, 0.9163621599458726, 0.7695603720203833, 0.8954760775329065, 0.9561514597168117, 0.9567341580126696, 0.985225389035379, 0.7586132295689365, 0.7989781121536229, 0.9276174758200689, 0.9076538048701501, 0.8328540923532437, 0.965684982342052, 0.7618070881550083, 0.9371704718787688, 0.9848454939218119, 0.9528824417306823, 0.9873915535986674, 0.9850735701186121, 0.9904007300924069, 0.9884194897044856, 0.9890317822981881, 0.9887806951593575, 0.9674237343684482, 0.97916422060074, 0.8337643307215593, 0.8337643307215593, 0.8331392384797656, 0.8337636983743815, 0.8333754094685896, 0.833372994218918, 0.8333761792319905, 0.8333793145909729, 0.9901031726701672]}, {\"categories\": [\"0\", \"1\", \"2\", \"3\", \"4\", \"5\", \"6\", \"7\", \"8\", \"9\", \"10\", \"11\", \"12\", \"13\", \"14\", \"15\", \"16\", \"17\", \"18\", \"19\", \"20\", \"21\", \"22\", \"23\", \"24\", \"25\", \"26\", \"27\", \"28\", \"30\", \"31\", \"32\", \"33\", \"34\", \"35\", \"36\", \"37\", \"39\", \"40\", \"41\", \"42\", \"43\", \"44\", \"45\", \"46\", \"47\", \"48\", \"49\"], \"mode\": \"lines\", \"name\": \"average_precision_score_macro_max\", \"stepped\": true, \"type\": \"scatter\", \"data\": [0.98827349383726, 0.98827349383726, 0.98827349383726, 0.98827349383726, 0.98827349383726, 0.98827349383726, 0.98827349383726, 0.98827349383726, 0.98827349383726, 0.98827349383726, 0.98827349383726, 0.98827349383726, 0.98827349383726, 0.98827349383726, 0.98827349383726, 0.98827349383726, 0.98827349383726, 0.98827349383726, 0.98827349383726, 0.98827349383726, 0.98827349383726, 0.98827349383726, 0.98827349383726, 0.98827349383726, 0.98827349383726, 0.98827349383726, 0.98827349383726, 0.98827349383726, 0.98827349383726, 0.98827349383726, 0.98827349383726, 0.98827349383726, 0.98827349383726, 0.9904007300924069, 0.9904007300924069, 0.9904007300924069, 0.9904007300924069, 0.9904007300924069, 0.9904007300924069, 0.9904007300924069, 0.9904007300924069, 0.9904007300924069, 0.9904007300924069, 0.9904007300924069, 0.9904007300924069, 0.9904007300924069, 0.9904007300924069, 0.9904007300924069]}], \"weighted_accuracy\": [{\"categories\": [\"0\", \"1\", \"2\", \"3\", \"4\", \"5\", \"6\", \"7\", \"8\", \"9\", \"10\", \"11\", \"12\", \"13\", \"14\", \"15\", \"16\", \"17\", \"18\", \"19\", \"20\", \"21\", \"22\", \"23\", \"24\", \"25\", \"26\", \"27\", \"28\", \"30\", \"31\", \"32\", \"33\", \"34\", \"35\", \"36\", \"37\", \"39\", \"40\", \"41\", \"42\", \"43\", \"44\", \"45\", \"46\", \"47\", \"48\", \"49\"], \"mode\": \"markers\", \"name\": \"weighted_accuracy\", \"stepped\": false, \"type\": \"scatter\", \"data\": [0.9580217809168993, 0.8240227585363069, 0.8253231681282095, 0.9421996708827816, 0.7443724505736524, 0.9086107403788184, 0.7663923927125366, 0.9385190499009368, 0.8095396102282425, 0.824306429250381, 0.8040538160702979, 0.8834299686060547, 0.7455751339066972, 0.8179306134546744, 0.8665792214430675, 0.8268928937069664, 0.7944778643125744, 0.8121938741742554, 0.9186389993492542, 0.9245212500251455, 0.9499915979965085, 0.7238580754594311, 0.201945844330434, 0.8954383723967467, 0.7986539789289451, 0.8258090830567053, 0.9295279086043904, 0.7272039548918657, 0.8370410914066311, 0.9497069127815534, 0.9144601907382013, 0.9549783544998229, 0.9503317302515152, 0.9604699121557644, 0.9586566651581159, 0.9588370888059448, 0.9585195154690271, 0.9293115119371244, 0.9422828819585758, 0.8225243099321151, 0.8225243099321151, 0.7706948306879807, 0.8226443570883634, 0.7733076054583716, 0.7733076054583716, 0.7733076054583716, 0.7731951707882695, 0.9604599701095635]}, {\"categories\": [\"0\", \"1\", \"2\", \"3\", \"4\", \"5\", \"6\", \"7\", \"8\", \"9\", \"10\", \"11\", \"12\", \"13\", \"14\", \"15\", \"16\", \"17\", \"18\", \"19\", \"20\", \"21\", \"22\", \"23\", \"24\", \"25\", \"26\", \"27\", \"28\", \"30\", \"31\", \"32\", \"33\", \"34\", \"35\", \"36\", \"37\", \"39\", \"40\", \"41\", \"42\", \"43\", \"44\", \"45\", \"46\", \"47\", \"48\", \"49\"], \"mode\": \"lines\", \"name\": \"weighted_accuracy_max\", \"stepped\": true, \"type\": \"scatter\", \"data\": [0.9580217809168993, 0.9580217809168993, 0.9580217809168993, 0.9580217809168993, 0.9580217809168993, 0.9580217809168993, 0.9580217809168993, 0.9580217809168993, 0.9580217809168993, 0.9580217809168993, 0.9580217809168993, 0.9580217809168993, 0.9580217809168993, 0.9580217809168993, 0.9580217809168993, 0.9580217809168993, 0.9580217809168993, 0.9580217809168993, 0.9580217809168993, 0.9580217809168993, 0.9580217809168993, 0.9580217809168993, 0.9580217809168993, 0.9580217809168993, 0.9580217809168993, 0.9580217809168993, 0.9580217809168993, 0.9580217809168993, 0.9580217809168993, 0.9580217809168993, 0.9580217809168993, 0.9580217809168993, 0.9580217809168993, 0.9604699121557644, 0.9604699121557644, 0.9604699121557644, 0.9604699121557644, 0.9604699121557644, 0.9604699121557644, 0.9604699121557644, 0.9604699121557644, 0.9604699121557644, 0.9604699121557644, 0.9604699121557644, 0.9604699121557644, 0.9604699121557644, 0.9604699121557644, 0.9604699121557644]}], \"AUC_weighted\": [{\"categories\": [\"0\", \"1\", \"2\", \"3\", \"4\", \"5\", \"6\", \"7\", \"8\", \"9\", \"10\", \"11\", \"12\", \"13\", \"14\", \"15\", \"16\", \"17\", \"18\", \"19\", \"20\", \"21\", \"22\", \"23\", \"24\", \"25\", \"26\", \"27\", \"28\", \"30\", \"31\", \"32\", \"33\", \"34\", \"35\", \"36\", \"37\", \"39\", \"40\", \"41\", \"42\", \"43\", \"44\", \"45\", \"46\", \"47\", \"48\", \"49\"], \"mode\": \"markers\", \"name\": \"AUC_weighted\", \"stepped\": false, \"type\": \"scatter\", \"data\": [0.9900811353271542, 0.856844456648572, 0.856299969215169, 0.9813489835923292, 0.8569280603206982, 0.9602630382231755, 0.8569481314947801, 0.9796758010065716, 0.9287710082713916, 0.85553446130659, 0.9103134529029328, 0.9622744618150276, 0.8571930692110314, 0.8569979520051765, 0.9594748931878907, 0.932369554253629, 0.8007637097310871, 0.9127900428969733, 0.9629601366206793, 0.9627994861138299, 0.9877290093363655, 0.7907244269350053, 0.8341171762153602, 0.9459258431116997, 0.922653463509899, 0.8562696014060833, 0.9701571451648168, 0.7986519840898448, 0.9523149060198314, 0.9872262390567166, 0.9614717909226804, 0.9893832012136349, 0.9874282924627094, 0.9919639836543521, 0.9904159622058059, 0.9908329240939701, 0.9906465751847368, 0.972032945200483, 0.9823348907502144, 0.8570558480594593, 0.8570558480594593, 0.8571196884906007, 0.8570580043463633, 0.8571769360630401, 0.8571740111177281, 0.8571747060180182, 0.8571875488953669, 0.9917229098997534]}, {\"categories\": [\"0\", \"1\", \"2\", \"3\", \"4\", \"5\", \"6\", \"7\", \"8\", \"9\", \"10\", \"11\", \"12\", \"13\", \"14\", \"15\", \"16\", \"17\", \"18\", \"19\", \"20\", \"21\", \"22\", \"23\", \"24\", \"25\", \"26\", \"27\", \"28\", \"30\", \"31\", \"32\", \"33\", \"34\", \"35\", \"36\", \"37\", \"39\", \"40\", \"41\", \"42\", \"43\", \"44\", \"45\", \"46\", \"47\", \"48\", \"49\"], \"mode\": \"lines\", \"name\": \"AUC_weighted_max\", \"stepped\": true, \"type\": \"scatter\", \"data\": [0.9900811353271542, 0.9900811353271542, 0.9900811353271542, 0.9900811353271542, 0.9900811353271542, 0.9900811353271542, 0.9900811353271542, 0.9900811353271542, 0.9900811353271542, 0.9900811353271542, 0.9900811353271542, 0.9900811353271542, 0.9900811353271542, 0.9900811353271542, 0.9900811353271542, 0.9900811353271542, 0.9900811353271542, 0.9900811353271542, 0.9900811353271542, 0.9900811353271542, 0.9900811353271542, 0.9900811353271542, 0.9900811353271542, 0.9900811353271542, 0.9900811353271542, 0.9900811353271542, 0.9900811353271542, 0.9900811353271542, 0.9900811353271542, 0.9900811353271542, 0.9900811353271542, 0.9900811353271542, 0.9900811353271542, 0.9919639836543521, 0.9919639836543521, 0.9919639836543521, 0.9919639836543521, 0.9919639836543521, 0.9919639836543521, 0.9919639836543521, 0.9919639836543521, 0.9919639836543521, 0.9919639836543521, 0.9919639836543521, 0.9919639836543521, 0.9919639836543521, 0.9919639836543521, 0.9919639836543521]}], \"norm_macro_recall\": [{\"categories\": [\"0\", \"1\", \"2\", \"3\", \"4\", \"5\", \"6\", \"7\", \"8\", \"9\", \"10\", \"11\", \"12\", \"13\", \"14\", \"15\", \"16\", \"17\", \"18\", \"19\", \"20\", \"21\", \"22\", \"23\", \"24\", \"25\", \"26\", \"27\", \"28\", \"30\", \"31\", \"32\", \"33\", \"34\", \"35\", \"36\", \"37\", \"39\", \"40\", \"41\", \"42\", \"43\", \"44\", \"45\", \"46\", \"47\", \"48\", \"49\"], \"mode\": \"markers\", \"name\": \"norm_macro_recall\", \"stepped\": false, \"type\": \"scatter\", \"data\": [0.8903281761293469, 0.4779694271789648, 0.47320882830586825, 0.8398732659070032, 0.5491976088842285, 0.6358453217846826, 0.54029362873903, 0.8323808608257883, 0.699888003430043, 0.4747714100386936, 0.6507032941446903, 0.7868972670969171, 0.5471304840421605, 0.4789956804403907, 0.7742917254099185, 0.7092007791402102, 0.3571651252673468, 0.6641025906947058, 0.7645156857003808, 0.7427990774340222, 0.8703164298996391, 0.4451918209330465, 0.0, 0.6383473156968612, 0.0030018958731691026, 0.4420427718042452, 0.7240235121607984, 0.4445759001777505, 0.7467871878107445, 0.8692891994842228, 0.7746504095260415, 0.8857746110565137, 0.8704083717463487, 0.8990102892574787, 0.8923005665120035, 0.8954496530644048, 0.8922121166354717, 0.7991507640026917, 0.8481853938189549, 0.4795366803602946, 0.4795366803602946, 0.5352420335014992, 0.47968638095909705, 0.539004306180707, 0.539004306180707, 0.539004306180707, 0.5392780314578168, 0.8981493674016858]}, {\"categories\": [\"0\", \"1\", \"2\", \"3\", \"4\", \"5\", \"6\", \"7\", \"8\", \"9\", \"10\", \"11\", \"12\", \"13\", \"14\", \"15\", \"16\", \"17\", \"18\", \"19\", \"20\", \"21\", \"22\", \"23\", \"24\", \"25\", \"26\", \"27\", \"28\", \"30\", \"31\", \"32\", \"33\", \"34\", \"35\", \"36\", \"37\", \"39\", \"40\", \"41\", \"42\", \"43\", \"44\", \"45\", \"46\", \"47\", \"48\", \"49\"], \"mode\": \"lines\", \"name\": \"norm_macro_recall_max\", \"stepped\": true, \"type\": \"scatter\", \"data\": [0.8903281761293469, 0.8903281761293469, 0.8903281761293469, 0.8903281761293469, 0.8903281761293469, 0.8903281761293469, 0.8903281761293469, 0.8903281761293469, 0.8903281761293469, 0.8903281761293469, 0.8903281761293469, 0.8903281761293469, 0.8903281761293469, 0.8903281761293469, 0.8903281761293469, 0.8903281761293469, 0.8903281761293469, 0.8903281761293469, 0.8903281761293469, 0.8903281761293469, 0.8903281761293469, 0.8903281761293469, 0.8903281761293469, 0.8903281761293469, 0.8903281761293469, 0.8903281761293469, 0.8903281761293469, 0.8903281761293469, 0.8903281761293469, 0.8903281761293469, 0.8903281761293469, 0.8903281761293469, 0.8903281761293469, 0.8990102892574787, 0.8990102892574787, 0.8990102892574787, 0.8990102892574787, 0.8990102892574787, 0.8990102892574787, 0.8990102892574787, 0.8990102892574787, 0.8990102892574787, 0.8990102892574787, 0.8990102892574787, 0.8990102892574787, 0.8990102892574787, 0.8990102892574787, 0.8990102892574787]}], \"accuracy\": [{\"categories\": [\"0\", \"1\", \"2\", \"3\", \"4\", \"5\", \"6\", \"7\", \"8\", \"9\", \"10\", \"11\", \"12\", \"13\", \"14\", \"15\", \"16\", \"17\", \"18\", \"19\", \"20\", \"21\", \"22\", \"23\", \"24\", \"25\", \"26\", \"27\", \"28\", \"30\", \"31\", \"32\", \"33\", \"34\", \"35\", \"36\", \"37\", \"39\", \"40\", \"41\", \"42\", \"43\", \"44\", \"45\", \"46\", \"47\", \"48\", \"49\"], \"mode\": \"markers\", \"name\": \"accuracy\", \"stepped\": false, \"type\": \"scatter\", \"data\": [0.9522999999999999, 0.7861999999999999, 0.7859, 0.9323, 0.7578, 0.8683, 0.768, 0.9286000000000001, 0.8276, 0.7856000000000001, 0.8134, 0.8879000000000001, 0.7579999999999999, 0.7831, 0.8756999999999999, 0.8392, 0.7429, 0.8210000000000001, 0.9025000000000001, 0.9009, 0.9433999999999999, 0.7233, 0.3344, 0.8615, 0.6666000000000001, 0.7790000000000001, 0.8995000000000001, 0.725, 0.8532, 0.943, 0.9023999999999999, 0.9496, 0.9436, 0.9556000000000001, 0.9531000000000001, 0.9539, 0.953, 0.9161000000000001, 0.9342, 0.7857000000000001, 0.7857000000000001, 0.7693, 0.7857999999999999, 0.7716000000000001, 0.7716000000000001, 0.7716000000000001, 0.7716000000000001, 0.9554]}, {\"categories\": [\"0\", \"1\", \"2\", \"3\", \"4\", \"5\", \"6\", \"7\", \"8\", \"9\", \"10\", \"11\", \"12\", \"13\", \"14\", \"15\", \"16\", \"17\", \"18\", \"19\", \"20\", \"21\", \"22\", \"23\", \"24\", \"25\", \"26\", \"27\", \"28\", \"30\", \"31\", \"32\", \"33\", \"34\", \"35\", \"36\", \"37\", \"39\", \"40\", \"41\", \"42\", \"43\", \"44\", \"45\", \"46\", \"47\", \"48\", \"49\"], \"mode\": \"lines\", \"name\": \"accuracy_max\", \"stepped\": true, \"type\": \"scatter\", \"data\": [0.9522999999999999, 0.9522999999999999, 0.9522999999999999, 0.9522999999999999, 0.9522999999999999, 0.9522999999999999, 0.9522999999999999, 0.9522999999999999, 0.9522999999999999, 0.9522999999999999, 0.9522999999999999, 0.9522999999999999, 0.9522999999999999, 0.9522999999999999, 0.9522999999999999, 0.9522999999999999, 0.9522999999999999, 0.9522999999999999, 0.9522999999999999, 0.9522999999999999, 0.9522999999999999, 0.9522999999999999, 0.9522999999999999, 0.9522999999999999, 0.9522999999999999, 0.9522999999999999, 0.9522999999999999, 0.9522999999999999, 0.9522999999999999, 0.9522999999999999, 0.9522999999999999, 0.9522999999999999, 0.9522999999999999, 0.9556000000000001, 0.9556000000000001, 0.9556000000000001, 0.9556000000000001, 0.9556000000000001, 0.9556000000000001, 0.9556000000000001, 0.9556000000000001, 0.9556000000000001, 0.9556000000000001, 0.9556000000000001, 0.9556000000000001, 0.9556000000000001, 0.9556000000000001, 0.9556000000000001]}], \"precision_score_weighted\": [{\"categories\": [\"0\", \"1\", \"2\", \"3\", \"4\", \"5\", \"6\", \"7\", \"8\", \"9\", \"10\", \"11\", \"12\", \"13\", \"14\", \"15\", \"16\", \"17\", \"18\", \"19\", \"20\", \"21\", \"22\", \"23\", \"24\", \"25\", \"26\", \"27\", \"28\", \"30\", \"31\", \"32\", \"33\", \"34\", \"35\", \"36\", \"37\", \"39\", \"40\", \"41\", \"42\", \"43\", \"44\", \"45\", \"46\", \"47\", \"48\", \"49\"], \"mode\": \"markers\", \"name\": \"precision_score_weighted\", \"stepped\": false, \"type\": \"scatter\", \"data\": [0.9522848838706641, 0.7812043826056019, 0.7804724956083889, 0.9320775755932568, 0.794578037262967, 0.8745102072455765, 0.7891767522878744, 0.928331650921562, 0.8612715930949838, 0.7813983620761913, 0.8376851284206175, 0.8967389300345158, 0.7933094856063063, 0.7789327551322601, 0.8912044387826205, 0.8621724531791737, 0.7339340652942022, 0.8424221808154103, 0.9017966749087906, 0.9015710807507646, 0.9433117493809619, 0.7477611016335027, 0.1119689, 0.8625241035965949, 0.6453149771085341, 0.7785167468457089, 0.903354989401209, 0.7474999117759697, 0.8788973104216738, 0.9429295542330781, 0.9020922428614095, 0.9496170496881104, 0.9435308827262154, 0.9555775878369867, 0.9530465325829244, 0.9539198132409046, 0.9529891864730426, 0.9156641875698984, 0.9340151809851835, 0.7808517534584768, 0.7808517534584768, 0.7867296705848483, 0.7809525530784731, 0.7883290412396325, 0.7883290412396325, 0.7883290412396325, 0.7884401560152423, 0.9553726554310519]}, {\"categories\": [\"0\", \"1\", \"2\", \"3\", \"4\", \"5\", \"6\", \"7\", \"8\", \"9\", \"10\", \"11\", \"12\", \"13\", \"14\", \"15\", \"16\", \"17\", \"18\", \"19\", \"20\", \"21\", \"22\", \"23\", \"24\", \"25\", \"26\", \"27\", \"28\", \"30\", \"31\", \"32\", \"33\", \"34\", \"35\", \"36\", \"37\", \"39\", \"40\", \"41\", \"42\", \"43\", \"44\", \"45\", \"46\", \"47\", \"48\", \"49\"], \"mode\": \"lines\", \"name\": \"precision_score_weighted_max\", \"stepped\": true, \"type\": \"scatter\", \"data\": [0.9522848838706641, 0.9522848838706641, 0.9522848838706641, 0.9522848838706641, 0.9522848838706641, 0.9522848838706641, 0.9522848838706641, 0.9522848838706641, 0.9522848838706641, 0.9522848838706641, 0.9522848838706641, 0.9522848838706641, 0.9522848838706641, 0.9522848838706641, 0.9522848838706641, 0.9522848838706641, 0.9522848838706641, 0.9522848838706641, 0.9522848838706641, 0.9522848838706641, 0.9522848838706641, 0.9522848838706641, 0.9522848838706641, 0.9522848838706641, 0.9522848838706641, 0.9522848838706641, 0.9522848838706641, 0.9522848838706641, 0.9522848838706641, 0.9522848838706641, 0.9522848838706641, 0.9522848838706641, 0.9522848838706641, 0.9555775878369867, 0.9555775878369867, 0.9555775878369867, 0.9555775878369867, 0.9555775878369867, 0.9555775878369867, 0.9555775878369867, 0.9555775878369867, 0.9555775878369867, 0.9555775878369867, 0.9555775878369867, 0.9555775878369867, 0.9555775878369867, 0.9555775878369867, 0.9555775878369867]}], \"matthews_correlation\": [{\"categories\": [\"0\", \"1\", \"2\", \"3\", \"4\", \"5\", \"6\", \"7\", \"8\", \"9\", \"10\", \"11\", \"12\", \"13\", \"14\", \"15\", \"16\", \"17\", \"18\", \"19\", \"20\", \"21\", \"22\", \"23\", \"24\", \"25\", \"26\", \"27\", \"28\", \"30\", \"31\", \"32\", \"33\", \"34\", \"35\", \"36\", \"37\", \"39\", \"40\", \"41\", \"42\", \"43\", \"44\", \"45\", \"46\", \"47\", \"48\", \"49\"], \"mode\": \"markers\", \"name\": \"matthews_correlation\", \"stepped\": false, \"type\": \"scatter\", \"data\": [0.8926108465680563, 0.5032502444489827, 0.5010034857948041, 0.8469722125211787, 0.5198295774579031, 0.6996600248036134, 0.5173253111081504, 0.8385534661494841, 0.665821667249822, 0.5022401726061759, 0.6211738012207026, 0.7626737513671437, 0.5180909157148331, 0.498913684352814, 0.7451589034201291, 0.6761716979282101, 0.3916429873916684, 0.6342406930376361, 0.778044716519914, 0.7739749022845903, 0.8725259658753475, 0.42496625371428154, 0.0, 0.6813203247204138, 0.030501652516310006, 0.48503580296730275, 0.772449970058636, 0.4252668040953875, 0.7105021806962393, 0.8716235508621046, 0.7795981806602292, 0.8866396323783381, 0.8729159651838305, 0.9000841411101934, 0.8943606627558445, 0.8963400830072832, 0.8942042571494927, 0.8096555850479646, 0.85165477204844, 0.5030352614728189, 0.5030352614728189, 0.514129462802398, 0.5032453104563972, 0.5180669432956557, 0.5180669432956557, 0.5180669432956557, 0.518252146624184, 0.8995982190032044]}, {\"categories\": [\"0\", \"1\", \"2\", \"3\", \"4\", \"5\", \"6\", \"7\", \"8\", \"9\", \"10\", \"11\", \"12\", \"13\", \"14\", \"15\", \"16\", \"17\", \"18\", \"19\", \"20\", \"21\", \"22\", \"23\", \"24\", \"25\", \"26\", \"27\", \"28\", \"30\", \"31\", \"32\", \"33\", \"34\", \"35\", \"36\", \"37\", \"39\", \"40\", \"41\", \"42\", \"43\", \"44\", \"45\", \"46\", \"47\", \"48\", \"49\"], \"mode\": \"lines\", \"name\": \"matthews_correlation_max\", \"stepped\": true, \"type\": \"scatter\", \"data\": [0.8926108465680563, 0.8926108465680563, 0.8926108465680563, 0.8926108465680563, 0.8926108465680563, 0.8926108465680563, 0.8926108465680563, 0.8926108465680563, 0.8926108465680563, 0.8926108465680563, 0.8926108465680563, 0.8926108465680563, 0.8926108465680563, 0.8926108465680563, 0.8926108465680563, 0.8926108465680563, 0.8926108465680563, 0.8926108465680563, 0.8926108465680563, 0.8926108465680563, 0.8926108465680563, 0.8926108465680563, 0.8926108465680563, 0.8926108465680563, 0.8926108465680563, 0.8926108465680563, 0.8926108465680563, 0.8926108465680563, 0.8926108465680563, 0.8926108465680563, 0.8926108465680563, 0.8926108465680563, 0.8926108465680563, 0.9000841411101934, 0.9000841411101934, 0.9000841411101934, 0.9000841411101934, 0.9000841411101934, 0.9000841411101934, 0.9000841411101934, 0.9000841411101934, 0.9000841411101934, 0.9000841411101934, 0.9000841411101934, 0.9000841411101934, 0.9000841411101934, 0.9000841411101934, 0.9000841411101934]}], \"precision_score_micro\": [{\"categories\": [\"0\", \"1\", \"2\", \"3\", \"4\", \"5\", \"6\", \"7\", \"8\", \"9\", \"10\", \"11\", \"12\", \"13\", \"14\", \"15\", \"16\", \"17\", \"18\", \"19\", \"20\", \"21\", \"22\", \"23\", \"24\", \"25\", \"26\", \"27\", \"28\", \"30\", \"31\", \"32\", \"33\", \"34\", \"35\", \"36\", \"37\", \"39\", \"40\", \"41\", \"42\", \"43\", \"44\", \"45\", \"46\", \"47\", \"48\", \"49\"], \"mode\": \"markers\", \"name\": \"precision_score_micro\", \"stepped\": false, \"type\": \"scatter\", \"data\": [0.9522999999999999, 0.7861999999999999, 0.7859, 0.9323, 0.7578, 0.8683, 0.768, 0.9286000000000001, 0.8276, 0.7856000000000001, 0.8134, 0.8879000000000001, 0.7579999999999999, 0.7831, 0.8756999999999999, 0.8392, 0.7429, 0.8210000000000001, 0.9025000000000001, 0.9009, 0.9433999999999999, 0.7233, 0.3344, 0.8615, 0.6666000000000001, 0.7790000000000001, 0.8995000000000001, 0.725, 0.8532, 0.943, 0.9023999999999999, 0.9496, 0.9436, 0.9556000000000001, 0.9531000000000001, 0.9539, 0.953, 0.9161000000000001, 0.9342, 0.7857000000000001, 0.7857000000000001, 0.7693, 0.7857999999999999, 0.7716000000000001, 0.7716000000000001, 0.7716000000000001, 0.7716000000000001, 0.9554]}, {\"categories\": [\"0\", \"1\", \"2\", \"3\", \"4\", \"5\", \"6\", \"7\", \"8\", \"9\", \"10\", \"11\", \"12\", \"13\", \"14\", \"15\", \"16\", \"17\", \"18\", \"19\", \"20\", \"21\", \"22\", \"23\", \"24\", \"25\", \"26\", \"27\", \"28\", \"30\", \"31\", \"32\", \"33\", \"34\", \"35\", \"36\", \"37\", \"39\", \"40\", \"41\", \"42\", \"43\", \"44\", \"45\", \"46\", \"47\", \"48\", \"49\"], \"mode\": \"lines\", \"name\": \"precision_score_micro_max\", \"stepped\": true, \"type\": \"scatter\", \"data\": [0.9522999999999999, 0.9522999999999999, 0.9522999999999999, 0.9522999999999999, 0.9522999999999999, 0.9522999999999999, 0.9522999999999999, 0.9522999999999999, 0.9522999999999999, 0.9522999999999999, 0.9522999999999999, 0.9522999999999999, 0.9522999999999999, 0.9522999999999999, 0.9522999999999999, 0.9522999999999999, 0.9522999999999999, 0.9522999999999999, 0.9522999999999999, 0.9522999999999999, 0.9522999999999999, 0.9522999999999999, 0.9522999999999999, 0.9522999999999999, 0.9522999999999999, 0.9522999999999999, 0.9522999999999999, 0.9522999999999999, 0.9522999999999999, 0.9522999999999999, 0.9522999999999999, 0.9522999999999999, 0.9522999999999999, 0.9556000000000001, 0.9556000000000001, 0.9556000000000001, 0.9556000000000001, 0.9556000000000001, 0.9556000000000001, 0.9556000000000001, 0.9556000000000001, 0.9556000000000001, 0.9556000000000001, 0.9556000000000001, 0.9556000000000001, 0.9556000000000001, 0.9556000000000001, 0.9556000000000001]}], \"balanced_accuracy\": [{\"categories\": [\"0\", \"1\", \"2\", \"3\", \"4\", \"5\", \"6\", \"7\", \"8\", \"9\", \"10\", \"11\", \"12\", \"13\", \"14\", \"15\", \"16\", \"17\", \"18\", \"19\", \"20\", \"21\", \"22\", \"23\", \"24\", \"25\", \"26\", \"27\", \"28\", \"30\", \"31\", \"32\", \"33\", \"34\", \"35\", \"36\", \"37\", \"39\", \"40\", \"41\", \"42\", \"43\", \"44\", \"45\", \"46\", \"47\", \"48\", \"49\"], \"mode\": \"markers\", \"name\": \"balanced_accuracy\", \"stepped\": false, \"type\": \"scatter\", \"data\": [0.9451640880646736, 0.7389847135894824, 0.7366044141529341, 0.9199366329535016, 0.7745988044421144, 0.8179226608923413, 0.770146814369515, 0.916190430412894, 0.8499440017150215, 0.7373857050193469, 0.8253516470723452, 0.8934486335484586, 0.7735652420210802, 0.7394978402201954, 0.8871458627049591, 0.8546003895701052, 0.6785825626336733, 0.8320512953473529, 0.8822578428501904, 0.871399538717011, 0.9351582149498195, 0.7225959104665233, 0.5, 0.8191736578484307, 0.5015009479365846, 0.7210213859021226, 0.8620117560803993, 0.7222879500888754, 0.8733935939053723, 0.9346445997421113, 0.8873252047630208, 0.9428873055282567, 0.9352041858731746, 0.9495051446287393, 0.9461502832560018, 0.9477248265322025, 0.9461060583177356, 0.899575382001346, 0.9240926969094773, 0.7397683401801473, 0.7397683401801473, 0.7676210167507497, 0.7398431904795485, 0.7695021530903535, 0.7695021530903535, 0.7695021530903535, 0.7696390157289084, 0.9490746837008428]}, {\"categories\": [\"0\", \"1\", \"2\", \"3\", \"4\", \"5\", \"6\", \"7\", \"8\", \"9\", \"10\", \"11\", \"12\", \"13\", \"14\", \"15\", \"16\", \"17\", \"18\", \"19\", \"20\", \"21\", \"22\", \"23\", \"24\", \"25\", \"26\", \"27\", \"28\", \"30\", \"31\", \"32\", \"33\", \"34\", \"35\", \"36\", \"37\", \"39\", \"40\", \"41\", \"42\", \"43\", \"44\", \"45\", \"46\", \"47\", \"48\", \"49\"], \"mode\": \"lines\", \"name\": \"balanced_accuracy_max\", \"stepped\": true, \"type\": \"scatter\", \"data\": [0.9451640880646736, 0.9451640880646736, 0.9451640880646736, 0.9451640880646736, 0.9451640880646736, 0.9451640880646736, 0.9451640880646736, 0.9451640880646736, 0.9451640880646736, 0.9451640880646736, 0.9451640880646736, 0.9451640880646736, 0.9451640880646736, 0.9451640880646736, 0.9451640880646736, 0.9451640880646736, 0.9451640880646736, 0.9451640880646736, 0.9451640880646736, 0.9451640880646736, 0.9451640880646736, 0.9451640880646736, 0.9451640880646736, 0.9451640880646736, 0.9451640880646736, 0.9451640880646736, 0.9451640880646736, 0.9451640880646736, 0.9451640880646736, 0.9451640880646736, 0.9451640880646736, 0.9451640880646736, 0.9451640880646736, 0.9495051446287393, 0.9495051446287393, 0.9495051446287393, 0.9495051446287393, 0.9495051446287393, 0.9495051446287393, 0.9495051446287393, 0.9495051446287393, 0.9495051446287393, 0.9495051446287393, 0.9495051446287393, 0.9495051446287393, 0.9495051446287393, 0.9495051446287393, 0.9495051446287393]}], \"f1_score_macro\": [{\"categories\": [\"0\", \"1\", \"2\", \"3\", \"4\", \"5\", \"6\", \"7\", \"8\", \"9\", \"10\", \"11\", \"12\", \"13\", \"14\", \"15\", \"16\", \"17\", \"18\", \"19\", \"20\", \"21\", \"22\", \"23\", \"24\", \"25\", \"26\", \"27\", \"28\", \"30\", \"31\", \"32\", \"33\", \"34\", \"35\", \"36\", \"37\", \"39\", \"40\", \"41\", \"42\", \"43\", \"44\", \"45\", \"46\", \"47\", \"48\", \"49\"], \"mode\": \"markers\", \"name\": \"f1_score_macro\", \"stepped\": false, \"type\": \"scatter\", \"data\": [0.9462449095459288, 0.7482532036224246, 0.7466854770608334, 0.9232973204348733, 0.7469724904819945, 0.8392282400928842, 0.752481432875095, 0.9191368725759403, 0.8192318896965427, 0.7468126438158249, 0.801846611346295, 0.8783859170738808, 0.7468070042239682, 0.7466968484204756, 0.8667059298440458, 0.8295980186138298, 0.6877467075861303, 0.8097884516908307, 0.8884254804323024, 0.8843219448704873, 0.9362300006588689, 0.7060748688964861, 0.2505383890908732, 0.834841274058172, 0.4027970083770933, 0.7304207742217896, 0.8804453812449463, 0.7069564355709008, 0.8450882391666091, 0.9357639734779738, 0.8896288214186503, 0.9432845418606233, 0.9364060266812743, 0.9500236481029024, 0.9471492828580514, 0.9481330939403062, 0.9470479584567254, 0.9044763053413621, 0.925779092984088, 0.7484869242251723, 0.7484869242251723, 0.7525188868781674, 0.7485802618728841, 0.754744165103375, 0.754744165103375, 0.754744165103375, 0.7547973954337561, 0.9497716749688514]}, {\"categories\": [\"0\", \"1\", \"2\", \"3\", \"4\", \"5\", \"6\", \"7\", \"8\", \"9\", \"10\", \"11\", \"12\", \"13\", \"14\", \"15\", \"16\", \"17\", \"18\", \"19\", \"20\", \"21\", \"22\", \"23\", \"24\", \"25\", \"26\", \"27\", \"28\", \"30\", \"31\", \"32\", \"33\", \"34\", \"35\", \"36\", \"37\", \"39\", \"40\", \"41\", \"42\", \"43\", \"44\", \"45\", \"46\", \"47\", \"48\", \"49\"], \"mode\": \"lines\", \"name\": \"f1_score_macro_max\", \"stepped\": true, \"type\": \"scatter\", \"data\": [0.9462449095459288, 0.9462449095459288, 0.9462449095459288, 0.9462449095459288, 0.9462449095459288, 0.9462449095459288, 0.9462449095459288, 0.9462449095459288, 0.9462449095459288, 0.9462449095459288, 0.9462449095459288, 0.9462449095459288, 0.9462449095459288, 0.9462449095459288, 0.9462449095459288, 0.9462449095459288, 0.9462449095459288, 0.9462449095459288, 0.9462449095459288, 0.9462449095459288, 0.9462449095459288, 0.9462449095459288, 0.9462449095459288, 0.9462449095459288, 0.9462449095459288, 0.9462449095459288, 0.9462449095459288, 0.9462449095459288, 0.9462449095459288, 0.9462449095459288, 0.9462449095459288, 0.9462449095459288, 0.9462449095459288, 0.9500236481029024, 0.9500236481029024, 0.9500236481029024, 0.9500236481029024, 0.9500236481029024, 0.9500236481029024, 0.9500236481029024, 0.9500236481029024, 0.9500236481029024, 0.9500236481029024, 0.9500236481029024, 0.9500236481029024, 0.9500236481029024, 0.9500236481029024, 0.9500236481029024]}], \"average_precision_score_micro\": [{\"categories\": [\"0\", \"1\", \"2\", \"3\", \"4\", \"5\", \"6\", \"7\", \"8\", \"9\", \"10\", \"11\", \"12\", \"13\", \"14\", \"15\", \"16\", \"17\", \"18\", \"19\", \"20\", \"21\", \"22\", \"23\", \"24\", \"25\", \"26\", \"27\", \"28\", \"30\", \"31\", \"32\", \"33\", \"34\", \"35\", \"36\", \"37\", \"39\", \"40\", \"41\", \"42\", \"43\", \"44\", \"45\", \"46\", \"47\", \"48\", \"49\"], \"mode\": \"markers\", \"name\": \"average_precision_score_micro\", \"stepped\": false, \"type\": \"scatter\", \"data\": [0.991395053912308, 0.8755613463509893, 0.8758203475468054, 0.983624819875185, 0.8158667446908812, 0.9531763682539012, 0.8409734918427197, 0.9820163286265249, 0.9146418103263668, 0.8748594725170277, 0.9050268262251873, 0.9597869346220295, 0.8178733195428091, 0.87495528433769, 0.9533950121898986, 0.9257748652453645, 0.8277936707608161, 0.9072504212187826, 0.9669609252264699, 0.9610536276511269, 0.9893404672877614, 0.7606575148189123, 0.5403577087140822, 0.9477167983743854, 0.8684833094400057, 0.8718984325385966, 0.9612253606589821, 0.7624635248673483, 0.9388377970383892, 0.9888754246130109, 0.9661671193793403, 0.9907829509449945, 0.989027819963092, 0.9930308596804277, 0.9916968004859346, 0.9920311726993647, 0.991847520133963, 0.9751966700431179, 0.9847151105223515, 0.8764272866808487, 0.8764274381207716, 0.8470870379501554, 0.8764346506896887, 0.84796829097652, 0.847969385362801, 0.8479757334294155, 0.8479570017228493, 0.9928108653035392]}, {\"categories\": [\"0\", \"1\", \"2\", \"3\", \"4\", \"5\", \"6\", \"7\", \"8\", \"9\", \"10\", \"11\", \"12\", \"13\", \"14\", \"15\", \"16\", \"17\", \"18\", \"19\", \"20\", \"21\", \"22\", \"23\", \"24\", \"25\", \"26\", \"27\", \"28\", \"30\", \"31\", \"32\", \"33\", \"34\", \"35\", \"36\", \"37\", \"39\", \"40\", \"41\", \"42\", \"43\", \"44\", \"45\", \"46\", \"47\", \"48\", \"49\"], \"mode\": \"lines\", \"name\": \"average_precision_score_micro_max\", \"stepped\": true, \"type\": \"scatter\", \"data\": [0.991395053912308, 0.991395053912308, 0.991395053912308, 0.991395053912308, 0.991395053912308, 0.991395053912308, 0.991395053912308, 0.991395053912308, 0.991395053912308, 0.991395053912308, 0.991395053912308, 0.991395053912308, 0.991395053912308, 0.991395053912308, 0.991395053912308, 0.991395053912308, 0.991395053912308, 0.991395053912308, 0.991395053912308, 0.991395053912308, 0.991395053912308, 0.991395053912308, 0.991395053912308, 0.991395053912308, 0.991395053912308, 0.991395053912308, 0.991395053912308, 0.991395053912308, 0.991395053912308, 0.991395053912308, 0.991395053912308, 0.991395053912308, 0.991395053912308, 0.9930308596804277, 0.9930308596804277, 0.9930308596804277, 0.9930308596804277, 0.9930308596804277, 0.9930308596804277, 0.9930308596804277, 0.9930308596804277, 0.9930308596804277, 0.9930308596804277, 0.9930308596804277, 0.9930308596804277, 0.9930308596804277, 0.9930308596804277, 0.9930308596804277]}], \"average_precision_score_weighted\": [{\"categories\": [\"0\", \"1\", \"2\", \"3\", \"4\", \"5\", \"6\", \"7\", \"8\", \"9\", \"10\", \"11\", \"12\", \"13\", \"14\", \"15\", \"16\", \"17\", \"18\", \"19\", \"20\", \"21\", \"22\", \"23\", \"24\", \"25\", \"26\", \"27\", \"28\", \"30\", \"31\", \"32\", \"33\", \"34\", \"35\", \"36\", \"37\", \"39\", \"40\", \"41\", \"42\", \"43\", \"44\", \"45\", \"46\", \"47\", \"48\", \"49\"], \"mode\": \"markers\", \"name\": \"average_precision_score_weighted\", \"stepped\": false, \"type\": \"scatter\", \"data\": [0.9905142157062603, 0.862356352332936, 0.8629142126939646, 0.9820285933444189, 0.8607293073616159, 0.9603405899664571, 0.8632864879725586, 0.980599643359286, 0.9274239275921335, 0.8624726126227419, 0.9129960297134883, 0.963758096227307, 0.8638093140125498, 0.8633537489003654, 0.9613482706956076, 0.9329823637359205, 0.808940053427271, 0.9151500694920903, 0.9642712187228302, 0.9640405767510188, 0.9881145088054248, 0.7977273360718746, 0.8396479507736693, 0.9429423873386987, 0.9252943780422871, 0.8630936147900401, 0.971866935608795, 0.8071116214001137, 0.9493055326445601, 0.9877662920685506, 0.9620592780103541, 0.9898073449079353, 0.9879189461849662, 0.992268740969789, 0.9907023977186127, 0.9911619087724542, 0.9909527195849073, 0.9734673885092338, 0.9831258717309433, 0.8638178255456512, 0.8638178255456512, 0.8636554938214125, 0.8638185548866621, 0.863760919751029, 0.8637576490117065, 0.8637588060824457, 0.8637715576268301, 0.992025634556071]}, {\"categories\": [\"0\", \"1\", \"2\", \"3\", \"4\", \"5\", \"6\", \"7\", \"8\", \"9\", \"10\", \"11\", \"12\", \"13\", \"14\", \"15\", \"16\", \"17\", \"18\", \"19\", \"20\", \"21\", \"22\", \"23\", \"24\", \"25\", \"26\", \"27\", \"28\", \"30\", \"31\", \"32\", \"33\", \"34\", \"35\", \"36\", \"37\", \"39\", \"40\", \"41\", \"42\", \"43\", \"44\", \"45\", \"46\", \"47\", \"48\", \"49\"], \"mode\": \"lines\", \"name\": \"average_precision_score_weighted_max\", \"stepped\": true, \"type\": \"scatter\", \"data\": [0.9905142157062603, 0.9905142157062603, 0.9905142157062603, 0.9905142157062603, 0.9905142157062603, 0.9905142157062603, 0.9905142157062603, 0.9905142157062603, 0.9905142157062603, 0.9905142157062603, 0.9905142157062603, 0.9905142157062603, 0.9905142157062603, 0.9905142157062603, 0.9905142157062603, 0.9905142157062603, 0.9905142157062603, 0.9905142157062603, 0.9905142157062603, 0.9905142157062603, 0.9905142157062603, 0.9905142157062603, 0.9905142157062603, 0.9905142157062603, 0.9905142157062603, 0.9905142157062603, 0.9905142157062603, 0.9905142157062603, 0.9905142157062603, 0.9905142157062603, 0.9905142157062603, 0.9905142157062603, 0.9905142157062603, 0.992268740969789, 0.992268740969789, 0.992268740969789, 0.992268740969789, 0.992268740969789, 0.992268740969789, 0.992268740969789, 0.992268740969789, 0.992268740969789, 0.992268740969789, 0.992268740969789, 0.992268740969789, 0.992268740969789, 0.992268740969789, 0.992268740969789]}]}, \"metricName\": null, \"primaryMetricName\": \"AUC_weighted\", \"showLegend\": false}, \"run_metrics\": [{\"name\": \"experiment_status\", \"run_id\": \"AutoML_a2a3083f-88d4-4094-8806-ab010e5ad643\", \"categories\": [0, 1, 2, 3, 4, 5, 6, 7, 8, 9, 10, 11, 12], \"series\": [{\"data\": [\"DatasetEvaluation\", \"FeaturesGeneration\", \"DatasetFeaturization\", \"DatasetFeaturizationCompleted\", \"DatasetCrossValidationSplit\", \"ModelSelection\", \"BestRunExplainModel\", \"ModelExplanationDataSetSetup\", \"EngineeredFeatureExplanations\", \"EngineeredFeatureExplanations\", \"RawFeaturesExplanations\", \"RawFeaturesExplanations\", \"BestRunExplainModel\"]}]}, {\"name\": \"experiment_status_description\", \"run_id\": \"AutoML_a2a3083f-88d4-4094-8806-ab010e5ad643\", \"categories\": [0, 1, 2, 3, 4, 5, 6, 7, 8, 9, 10, 11, 12], \"series\": [{\"data\": [\"Gathering dataset statistics.\", \"Generating features for the dataset.\", \"Beginning to fit featurizers and featurize the dataset.\", \"Completed fit featurizers and featurizing the dataset.\", \"Generating individually featurized CV splits.\", \"Beginning model selection.\", \"Best run model explanations started\", \"Model explanations data setup completed\", \"Computation of engineered features started\", \"Computation of engineered features completed\", \"Computation of raw features started\", \"Computation of raw features completed\", \"Best run model explanations completed\"]}]}], \"run_logs\": \"\\nRun is completed.\", \"graph\": {}, \"widget_settings\": {\"childWidgetDisplay\": \"popup\", \"send_telemetry\": false, \"log_level\": \"INFO\", \"sdk_version\": \"1.2.0\"}, \"loading\": false}"
     },
     "metadata": {},
     "output_type": "display_data"
    }
   ],
   "source": [
    "RunDetails(automl_run).show()\n",
    "#automl_run.wait_for_completion()"
   ]
  },
  {
   "cell_type": "markdown",
   "metadata": {},
   "source": [
    "### option 1: select any pipeline iteration "
   ]
  },
  {
   "cell_type": "code",
   "execution_count": null,
   "metadata": {},
   "outputs": [],
   "source": [
    "best_run, fitted_model = automl_run.get_output(iteration=49)"
   ]
  },
  {
   "cell_type": "markdown",
   "metadata": {},
   "source": [
    "### option 2: select best pipeline iteration automatically"
   ]
  },
  {
   "cell_type": "code",
   "execution_count": 14,
   "metadata": {},
   "outputs": [],
   "source": [
    "best_run, fitted_model = automl_run.get_output()"
   ]
  },
  {
   "cell_type": "markdown",
   "metadata": {},
   "source": [
    "### inspect iteration"
   ]
  },
  {
   "cell_type": "code",
   "execution_count": null,
   "metadata": {},
   "outputs": [],
   "source": [
    "# pipeline steps\n",
    "for step in fitted_model.named_steps:\n",
    "    print(step)"
   ]
  },
  {
   "cell_type": "code",
   "execution_count": null,
   "metadata": {},
   "outputs": [],
   "source": [
    "# model properties\n",
    "fitted_model.named_steps"
   ]
  },
  {
   "cell_type": "code",
   "execution_count": null,
   "metadata": {},
   "outputs": [],
   "source": [
    "# all run metrics\n",
    "best_run.get_metrics()"
   ]
  },
  {
   "cell_type": "markdown",
   "metadata": {},
   "source": [
    "## Deploy"
   ]
  },
  {
   "cell_type": "markdown",
   "metadata": {},
   "source": [
    "### Register the model"
   ]
  },
  {
   "cell_type": "code",
   "execution_count": 15,
   "metadata": {},
   "outputs": [],
   "source": [
    "# get the score and environment files\n",
    "model_name = best_run.properties['model_name'] # score.py script will look for the name of the registered model\n",
    "\n",
    "# make a local copy of the best scoring script, environment file and the model file\n",
    "script_file_name = 'inference/score.py'\n",
    "conda_env_file_name = 'inference/env.yml'\n",
    "model_file_name = 'inference/model.pkl'\n",
    "best_run.download_file('outputs/scoring_file_v_1_0_0.py', script_file_name)\n",
    "best_run.download_file('outputs/conda_env_v_1_0_0.yml', conda_env_file_name)\n",
    "best_run.download_file('outputs/model.pkl', model_file_name)"
   ]
  },
  {
   "cell_type": "code",
   "execution_count": 16,
   "metadata": {},
   "outputs": [],
   "source": [
    "model = best_run.register_model(model_name=model_name, # registered model name used in scoring script init()\n",
    "                                model_path='outputs/model.pkl', # fixed path in workspace\n",
    "                                tags={'Training context':'autoML Training'},\n",
    "                                properties={'AUC': best_run.get_metrics()['AUC_weighted'],\n",
    "                                            'Accuracy': best_run.get_metrics()['accuracy']})"
   ]
  },
  {
   "cell_type": "markdown",
   "metadata": {},
   "source": [
    "### Load the model"
   ]
  },
  {
   "cell_type": "code",
   "execution_count": 21,
   "metadata": {},
   "outputs": [
    {
     "name": "stdout",
     "output_type": "stream",
     "text": [
      "AutoMLa2a3083f849 version: 1\n",
      "\t Training context : autoML Training\n",
      "\t AUC : 0.9917229098997534\n",
      "\t Accuracy : 0.9554\n",
      "\n",
      "\n"
     ]
    }
   ],
   "source": [
    "# list all registered models\n",
    "for model in Model.list(ws):\n",
    "    print(model.name, 'version:', model.version)\n",
    "    for tag_name in model.tags:\n",
    "        tag = model.tags[tag_name]\n",
    "        print ('\\t',tag_name, ':', tag)\n",
    "    for prop_name in model.properties:\n",
    "        prop = model.properties[prop_name]\n",
    "        print ('\\t',prop_name, ':', prop)\n",
    "    print('\\n')"
   ]
  },
  {
   "cell_type": "code",
   "execution_count": 23,
   "metadata": {},
   "outputs": [
    {
     "data": {
      "text/plain": [
       "Model(workspace=Workspace.create(name='alehanwagaatetnuzijn', subscription_id='43c1f93a-903d-4b23-a4bf-92bd7a150627', resource_group='myResourceGroup'), name=AutoMLa2a3083f849, id=AutoMLa2a3083f849:1, version=1, tags={'Training context': 'autoML Training'}, properties={'AUC': '0.9917229098997534', 'Accuracy': '0.9554'})"
      ]
     },
     "execution_count": 23,
     "metadata": {},
     "output_type": "execute_result"
    }
   ],
   "source": [
    "# load the registered model for deployment\n",
    "model = ws.models[model_name] # or replace with any registered modelname from Model.list(ws)\n",
    "model"
   ]
  },
  {
   "cell_type": "markdown",
   "metadata": {},
   "source": [
    "### option 1: deploy on Azure Container Instance (ACI)\n",
    "Linux ACI instance with 1 vCPU and 1GB of RAM cost €28 per month"
   ]
  },
  {
   "cell_type": "code",
   "execution_count": 17,
   "metadata": {},
   "outputs": [
    {
     "name": "stdout",
     "output_type": "stream",
     "text": [
      "Running.......................................................\n",
      "Succeeded\n",
      "ACI service creation operation finished, operation \"Succeeded\"\n",
      "Healthy\n"
     ]
    }
   ],
   "source": [
    "# Configure the scoring environment\n",
    "service_name = \"automl-projname-service\" # only lowercase letters, numbers, or dashes\n",
    "\n",
    "myenv = Environment.from_conda_specification(name=\"myenv\", file_path=conda_env_file_name)\n",
    "inference_config = InferenceConfig(entry_script=script_file_name, environment=myenv)\n",
    "\n",
    "deployment_config = AciWebservice.deploy_configuration(cpu_cores=1,\n",
    "                                                       memory_gb=1)\n",
    "\n",
    "# build container from environment, start webservice ACI and deploy inference scrips \n",
    "service = Model.deploy(ws, service_name, [model], inference_config, deployment_config)\n",
    "service.wait_for_deployment(True)"
   ]
  },
  {
   "cell_type": "code",
   "execution_count": 27,
   "metadata": {},
   "outputs": [
    {
     "name": "stdout",
     "output_type": "stream",
     "text": [
      "/usr/sbin/nginx: /azureml-envs/azureml_29526d93bcbca0513e9c1ca0d57832a0/lib/libcrypto.so.1.0.0: no version information available (required by /usr/sbin/nginx)\n",
      "/usr/sbin/nginx: /azureml-envs/azureml_29526d93bcbca0513e9c1ca0d57832a0/lib/libcrypto.so.1.0.0: no version information available (required by /usr/sbin/nginx)\n",
      "/usr/sbin/nginx: /azureml-envs/azureml_29526d93bcbca0513e9c1ca0d57832a0/lib/libssl.so.1.0.0: no version information available (required by /usr/sbin/nginx)\n",
      "/usr/sbin/nginx: /azureml-envs/azureml_29526d93bcbca0513e9c1ca0d57832a0/lib/libssl.so.1.0.0: no version information available (required by /usr/sbin/nginx)\n",
      "/usr/sbin/nginx: /azureml-envs/azureml_29526d93bcbca0513e9c1ca0d57832a0/lib/libssl.so.1.0.0: no version information available (required by /usr/sbin/nginx)\n",
      "2020-04-07T13:37:14,623165703+00:00 - rsyslog/run \n",
      "2020-04-07T13:37:14,624618601+00:00 - iot-server/run \n",
      "2020-04-07T13:37:14,625049301+00:00 - gunicorn/run \n",
      "2020-04-07T13:37:14,628777396+00:00 - nginx/run \n",
      "rsyslogd: /azureml-envs/azureml_29526d93bcbca0513e9c1ca0d57832a0/lib/libuuid.so.1: no version information available (required by rsyslogd)\n",
      "EdgeHubConnectionString and IOTEDGE_IOTHUBHOSTNAME are not set. Exiting...\n",
      "2020-04-07T13:37:14,812661357+00:00 - iot-server/finish 1 0\n",
      "2020-04-07T13:37:14,814417755+00:00 - Exit code 1 is normal. Not restarting iot-server.\n",
      "Starting gunicorn 19.9.0\n",
      "Listening at: http://127.0.0.1:31311 (14)\n",
      "Using worker: sync\n",
      "worker timeout is set to 300\n",
      "Booting worker with pid: 43\n",
      "Initialized PySpark session.\n",
      "Initializing logger\n",
      "Starting up app insights client\n",
      "Starting up request id generator\n",
      "Starting up app insight hooks\n",
      "Invoking user's init function\n",
      "Users's init has completed successfully\n",
      "Scoring timeout is found from os.environ: 60000 ms\n",
      "\n"
     ]
    }
   ],
   "source": [
    "# get webservice logs\n",
    "print(service.get_logs())"
   ]
  },
  {
   "cell_type": "code",
   "execution_count": null,
   "metadata": {},
   "outputs": [],
   "source": [
    "# list available webservices\n",
    "ws.webservices"
   ]
  },
  {
   "cell_type": "code",
   "execution_count": null,
   "metadata": {},
   "outputs": [],
   "source": [
    "# delete webservice\n",
    "#service.delete()"
   ]
  },
  {
   "cell_type": "code",
   "execution_count": null,
   "metadata": {},
   "outputs": [],
   "source": []
  },
  {
   "cell_type": "code",
   "execution_count": null,
   "metadata": {},
   "outputs": [],
   "source": [
    "# HTTP requests to the web service\n",
    "# determine the URL to which these applications must submit their requests\n",
    "endpoint = service.scoring_uri\n",
    "print(endpoint)"
   ]
  },
  {
   "cell_type": "code",
   "execution_count": null,
   "metadata": {},
   "outputs": [],
   "source": []
  },
  {
   "cell_type": "code",
   "execution_count": null,
   "metadata": {},
   "outputs": [],
   "source": [
    "# sending the patient data in JSON (or binary) format, and receive back the predicted class(es)\n",
    "import requests\n",
    "import json\n",
    "\n",
    "x_new = [[2,180,74,24,21,23.9091702,1.488172308,22],\n",
    "         [0,148,58,11,179,39.19207553,0.160829008,45]]\n",
    "\n",
    "# Convert the array to a serializable list in a JSON document\n",
    "input_json = json.dumps({\"data\": x_new})\n",
    "\n",
    "# Set the content type\n",
    "headers = { 'Content-Type':'application/json' }\n",
    "\n",
    "predictions = requests.post(endpoint, input_json, headers = headers)\n",
    "predicted_classes = json.loads(predictions.json())\n",
    "\n",
    "for i in range(len(x_new)):\n",
    "    print (\"Patient {}\".format(x_new[i]), predicted_classes[i] )"
   ]
  },
  {
   "cell_type": "code",
   "execution_count": null,
   "metadata": {},
   "outputs": [],
   "source": []
  },
  {
   "cell_type": "code",
   "execution_count": null,
   "metadata": {},
   "outputs": [],
   "source": []
  },
  {
   "cell_type": "code",
   "execution_count": null,
   "metadata": {},
   "outputs": [],
   "source": []
  },
  {
   "cell_type": "markdown",
   "metadata": {},
   "source": [
    "### option 2: funcionApps"
   ]
  },
  {
   "cell_type": "code",
   "execution_count": null,
   "metadata": {},
   "outputs": [],
   "source": []
  },
  {
   "cell_type": "code",
   "execution_count": null,
   "metadata": {},
   "outputs": [],
   "source": []
  },
  {
   "cell_type": "code",
   "execution_count": null,
   "metadata": {},
   "outputs": [],
   "source": []
  },
  {
   "cell_type": "markdown",
   "metadata": {},
   "source": [
    "## Test"
   ]
  },
  {
   "cell_type": "code",
   "execution_count": null,
   "metadata": {},
   "outputs": [],
   "source": []
  },
  {
   "cell_type": "code",
   "execution_count": null,
   "metadata": {},
   "outputs": [],
   "source": []
  },
  {
   "cell_type": "markdown",
   "metadata": {},
   "source": [
    "## manual model build + hyperparm tuning..."
   ]
  },
  {
   "cell_type": "code",
   "execution_count": null,
   "metadata": {},
   "outputs": [],
   "source": []
  },
  {
   "cell_type": "code",
   "execution_count": null,
   "metadata": {},
   "outputs": [],
   "source": []
  },
  {
   "cell_type": "code",
   "execution_count": null,
   "metadata": {},
   "outputs": [],
   "source": []
  },
  {
   "cell_type": "code",
   "execution_count": null,
   "metadata": {},
   "outputs": [],
   "source": []
  },
  {
   "cell_type": "code",
   "execution_count": null,
   "metadata": {},
   "outputs": [],
   "source": []
  },
  {
   "cell_type": "code",
   "execution_count": null,
   "metadata": {},
   "outputs": [],
   "source": [
    "# check future for hyperparameter tuning if a model is chosen\n",
    "# https://youtu.be/YlWCeY_CWEg?t=862"
   ]
  }
 ],
 "metadata": {
  "kernelspec": {
   "display_name": "azureml_py36_automl",
   "language": "python",
   "name": "conda-env-azureml_py36_automl-py"
  },
  "language_info": {
   "codemirror_mode": {
    "name": "ipython",
    "version": 3
   },
   "file_extension": ".py",
   "mimetype": "text/x-python",
   "name": "python",
   "nbconvert_exporter": "python",
   "pygments_lexer": "ipython3",
   "version": "3.6.10"
  }
 },
 "nbformat": 4,
 "nbformat_minor": 4
}
