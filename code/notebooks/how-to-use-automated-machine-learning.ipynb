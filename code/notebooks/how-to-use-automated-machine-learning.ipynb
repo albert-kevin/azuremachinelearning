{
 "cells": [
  {
   "cell_type": "markdown",
   "metadata": {},
   "source": [
    "Author: Kevin ALBERT  \n",
    "\n",
    "Created: April 2020  "
   ]
  },
  {
   "cell_type": "markdown",
   "metadata": {},
   "source": [
    "# Automated Machine Learning\n",
    "_**Classification of data lake data on remote compute with autoML and model registration**_\n",
    "\n",
    "## Contents\n",
    "1. [Introduction](#Introduction)\n",
    "1. [Setup](#Setup)\n",
    "1. [Train](#Train)\n",
    "1. [Results](#Results)\n",
    "1. [Test](#Test)\n",
    "1. [Acknowledgements](#Acknowledgements)"
   ]
  },
  {
   "cell_type": "markdown",
   "metadata": {},
   "source": [
    "## Introduction\n",
    "\n",
    "Cleaned datasets created in datafactory onto a delta lake Gen2.  \n",
    "This notebook is using delta lake data and remote compute to autoML train a classification model.  \n",
    "We use example data to detect diabetic or non-diabetic based on 8 features.  \n",
    "\n",
    "This notebook show how to:\n",
    "1. Create an experiment\n",
    "2. Configure AutoML\n",
    "3. Train the model using remote compute\n",
    "4. Explore the results\n",
    "5. Test the fitted model"
   ]
  },
  {
   "cell_type": "markdown",
   "metadata": {},
   "source": [
    "## Setup"
   ]
  },
  {
   "cell_type": "markdown",
   "metadata": {},
   "source": [
    "### Import open-source packages"
   ]
  },
  {
   "cell_type": "code",
   "execution_count": null,
   "metadata": {},
   "outputs": [],
   "source": [
    "# import logging\n",
    "# import os\n",
    "# import random\n",
    "# import re\n",
    "# import lightgbm\n",
    "# import pandas as pd\n",
    "# import numpy as np\n",
    "# import json\n",
    "# import csv\n",
    "# from matplotlib import pyplot as plt\n",
    "# from matplotlib.pyplot import imshow\n",
    "# from sklearn import datasets\n",
    "# from shutil import copy2\n",
    "# import seaborn as sns\n",
    "# sns.set(color_codes='True')"
   ]
  },
  {
   "cell_type": "markdown",
   "metadata": {},
   "source": [
    "### Import Azure Machine Learning SDK packages"
   ]
  },
  {
   "cell_type": "code",
   "execution_count": 15,
   "metadata": {},
   "outputs": [],
   "source": [
    "#import azureml.core\n",
    "from azureml.core import Workspace\n",
    "from azureml.core.experiment import Experiment\n",
    "from azureml.core import Dataset\n",
    "from azureml.core import Datastore\n",
    "from azureml.data.datapath import DataPath\n",
    "from azureml.core.compute import ComputeTarget\n",
    "from azureml.core.compute import AmlCompute\n",
    "from azureml.core.compute import AksCompute\n",
    "# from azureml.core.compute_target import ComputeTargetException\n",
    "# from azureml.core.webservice import Webservice, AksWebservice\n",
    "# from azureml.core.image import Image\n",
    "# from azureml.core.model import Model\n",
    "# from azureml.train.automl import AutoMLConfig\n",
    "# from azureml.train.automl.run import AutoMLRun\n",
    "# from azureml.widgets import RunDetails"
   ]
  },
  {
   "cell_type": "markdown",
   "metadata": {},
   "source": [
    "### Workspace"
   ]
  },
  {
   "cell_type": "markdown",
   "metadata": {},
   "source": [
    "Download **config.json** from the machine learning workspace portal"
   ]
  },
  {
   "cell_type": "code",
   "execution_count": 5,
   "metadata": {},
   "outputs": [],
   "source": [
    "# load the workspace\n",
    "ws = Workspace.from_config()"
   ]
  },
  {
   "cell_type": "markdown",
   "metadata": {},
   "source": [
    "### Experiment"
   ]
  },
  {
   "cell_type": "code",
   "execution_count": 6,
   "metadata": {},
   "outputs": [],
   "source": [
    "# choose an experiment name\n",
    "experiment = Experiment(ws, 'automl-classification')"
   ]
  },
  {
   "cell_type": "markdown",
   "metadata": {},
   "source": [
    "### Data"
   ]
  },
  {
   "cell_type": "markdown",
   "metadata": {},
   "source": [
    "Data Factory has prepped data from /bronze to /silver to /gold and /platinum for model training  \n",
    "**note:** this demonstration had files in the Data Lake Gen2 datalake container /platinum folder  \n",
    "  * /datalake/platinum/diabetes.csv\n",
    "  * /datalake/platinum/diabetes.parquet\n",
    "  * copy from ../data/platinum/*"
   ]
  },
  {
   "cell_type": "markdown",
   "metadata": {},
   "source": [
    "Register the datastore 'data lake gen2' as a **blob container**  \n",
    "**optional:** manually register in ML workspace"
   ]
  },
  {
   "cell_type": "code",
   "execution_count": 7,
   "metadata": {},
   "outputs": [
    {
     "data": {
      "text/plain": [
       "{'azureml_globaldatasets': {\n",
       "   \"name\": \"azureml_globaldatasets\",\n",
       "   \"container_name\": \"globaldatasets\",\n",
       "   \"account_name\": \"studioprodweummsa01\",\n",
       "   \"protocol\": \"https\",\n",
       "   \"endpoint\": \"core.windows.net\"\n",
       " },\n",
       " 'datalakestoragegen2': {\n",
       "   \"name\": \"datalakestoragegen2\",\n",
       "   \"container_name\": \"datalake\",\n",
       "   \"account_name\": \"datalake21032020\",\n",
       "   \"protocol\": \"https\",\n",
       "   \"endpoint\": \"core.windows.net\"\n",
       " },\n",
       " 'data_lake_gen2': <azureml.data.azure_data_lake_datastore.AzureDataLakeGen2Datastore at 0x7f52b70ca278>,\n",
       " 'workspacefilestore': {\n",
       "   \"name\": \"workspacefilestore\",\n",
       "   \"container_name\": \"azureml-filestore-8ffd38a4-d688-44f6-9fc7-862df920c646\",\n",
       "   \"account_name\": \"machinelstorage071578f15\",\n",
       "   \"protocol\": \"https\",\n",
       "   \"endpoint\": \"core.windows.net\"\n",
       " },\n",
       " 'workspaceblobstore': {\n",
       "   \"name\": \"workspaceblobstore\",\n",
       "   \"container_name\": \"azureml-blobstore-8ffd38a4-d688-44f6-9fc7-862df920c646\",\n",
       "   \"account_name\": \"machinelstorage071578f15\",\n",
       "   \"protocol\": \"https\",\n",
       "   \"endpoint\": \"core.windows.net\"\n",
       " }}"
      ]
     },
     "execution_count": 7,
     "metadata": {},
     "output_type": "execute_result"
    }
   ],
   "source": [
    "ds = Datastore.register_azure_blob_container(workspace=ws,\n",
    "                                             datastore_name=\"datalakestoragegen2\",\n",
    "                                             container_name=\"datalake\",\n",
    "                                             account_name=\"datalake21032020\",\n",
    "                                             account_key=\"Ck/4hMq3Zrzq5toZ96zE6cDncjbw2VdkR9ny1xXA3GLBwQXIv7V1ycSc/KpqyNRcoPWKtzKljjpcZVqjWOu+3Q==\",\n",
    "                                             create_if_not_exists=False)\n",
    "# list available datastores\n",
    "ws.datastores"
   ]
  },
  {
   "cell_type": "markdown",
   "metadata": {},
   "source": [
    "Register file(s) into a tabular dataset  \n",
    "**Note:** do not import Delta lake parquet file(s)  \n",
    "**Fix:** you can import pandas single gold/*.csv or gold/*.parquet file(s)  "
   ]
  },
  {
   "cell_type": "code",
   "execution_count": 8,
   "metadata": {},
   "outputs": [
    {
     "data": {
      "text/plain": [
       "{\n",
       "  \"name\": \"datalakestoragegen2\",\n",
       "  \"container_name\": \"datalake\",\n",
       "  \"account_name\": \"datalake21032020\",\n",
       "  \"protocol\": \"https\",\n",
       "  \"endpoint\": \"core.windows.net\"\n",
       "}"
      ]
     },
     "execution_count": 8,
     "metadata": {},
     "output_type": "execute_result"
    }
   ],
   "source": [
    "# load datastore\n",
    "ds = Datastore.get(ws, 'datalakestoragegen2')\n",
    "# show datastore settings\n",
    "ds"
   ]
  },
  {
   "cell_type": "markdown",
   "metadata": {},
   "source": [
    "option 1: loading *.parquet"
   ]
  },
  {
   "cell_type": "code",
   "execution_count": 9,
   "metadata": {},
   "outputs": [
    {
     "data": {
      "text/plain": [
       "{\n",
       "  \"source\": [\n",
       "    \"('datalakestoragegen2', 'platinum/diabetes.parquet')\"\n",
       "  ],\n",
       "  \"definition\": [\n",
       "    \"GetDatastoreFiles\",\n",
       "    \"ReadParquetFile\",\n",
       "    \"DropColumns\"\n",
       "  ]\n",
       "}"
      ]
     },
     "execution_count": 9,
     "metadata": {},
     "output_type": "execute_result"
    }
   ],
   "source": [
    "# setup parquet file(s) into a tabular dataset\n",
    "ds_path = [DataPath(ds, 'platinum/diabetes.parquet')]\n",
    "dataset = Dataset.Tabular.from_parquet_files(path=ds_path)\n",
    "# show dataset settings\n",
    "dataset"
   ]
  },
  {
   "cell_type": "markdown",
   "metadata": {},
   "source": [
    "option 2: loading *.csv"
   ]
  },
  {
   "cell_type": "code",
   "execution_count": 10,
   "metadata": {},
   "outputs": [
    {
     "data": {
      "text/plain": [
       "{\n",
       "  \"source\": [\n",
       "    \"('datalakestoragegen2', 'platinum/diabetes.csv')\"\n",
       "  ],\n",
       "  \"definition\": [\n",
       "    \"GetDatastoreFiles\",\n",
       "    \"ParseDelimited\",\n",
       "    \"DropColumns\",\n",
       "    \"SetColumnTypes\"\n",
       "  ]\n",
       "}"
      ]
     },
     "execution_count": 10,
     "metadata": {},
     "output_type": "execute_result"
    }
   ],
   "source": [
    "# setup csv file(s) into a tabular dataset\n",
    "ds_path = [DataPath(ds, 'platinum/diabetes.csv')]\n",
    "dataset = Dataset.Tabular.from_delimited_files(path=ds_path)\n",
    "# show dataset settings\n",
    "dataset"
   ]
  },
  {
   "cell_type": "markdown",
   "metadata": {},
   "source": [
    "option 3: loading a register dataset (manually register in ML workspace)"
   ]
  },
  {
   "cell_type": "code",
   "execution_count": 13,
   "metadata": {},
   "outputs": [
    {
     "data": {
      "text/plain": [
       "{'diabetes_parquet_from_datastore_datalakegen2': DatasetRegistration(id='ac38e902-7833-4f0b-8785-062fe517b051', name='diabetes_parquet_from_datastore_datalakegen2', version=1, description='', tags={}), 'diabetes_parquet_from_realdatalake': DatasetRegistration(id='d4d5becf-50bd-453f-bd93-d2fe30648fcf', name='diabetes_parquet_from_realdatalake', version=1, description='', tags={}), 'diabetes_parquet_from_datalake': DatasetRegistration(id='ce05617f-a036-4f31-8959-24c412112747', name='diabetes_parquet_from_datalake', version=1, description='', tags={}), 'diabetes_from_datalake': DatasetRegistration(id='2b800b1c-3d2b-416e-b270-ce784fb8b832', name='diabetes_from_datalake', version=1, description='', tags={}), 'diabetes_from_blob': DatasetRegistration(id='9f1a6d66-9c35-4ae9-82b8-b4bfd2b03925', name='diabetes_from_blob', version=1, description='', tags={}), 'diabetes2': DatasetRegistration(id='2c81c692-c43c-4f03-9952-45124c0da47c', name='diabetes2', version=1, description='', tags={}), 'diabetes1': DatasetRegistration(id='ebc21ed2-3f94-494b-8072-2c71d2190200', name='diabetes1', version=1, description='', tags={}), 'datalakegold': DatasetRegistration(id='ad71d877-e111-4bd4-bf8a-8a602709dffd', name='datalakegold', version=1, description='', tags={}), 'datalake': DatasetRegistration(id='a2af81a9-8e27-429d-8845-489bd371e9ca', name='datalake', version=1, description='', tags={})}"
      ]
     },
     "execution_count": 13,
     "metadata": {},
     "output_type": "execute_result"
    }
   ],
   "source": [
    "# list available datasets\n",
    "ws.datasets"
   ]
  },
  {
   "cell_type": "code",
   "execution_count": 14,
   "metadata": {},
   "outputs": [
    {
     "data": {
      "text/plain": [
       "{\n",
       "  \"source\": [\n",
       "    \"('datalakestoragegen2', 'platinum/diabetes.parquet')\"\n",
       "  ],\n",
       "  \"definition\": [\n",
       "    \"GetDatastoreFiles\",\n",
       "    \"ReadParquetFile\",\n",
       "    \"DropColumns\"\n",
       "  ],\n",
       "  \"registration\": {\n",
       "    \"id\": \"ac38e902-7833-4f0b-8785-062fe517b051\",\n",
       "    \"name\": \"diabetes_parquet_from_datastore_datalakegen2\",\n",
       "    \"version\": 1,\n",
       "    \"workspace\": \"Workspace.create(name='machine_learning_workspace', subscription_id='43c1f93a-903d-4b23-a4bf-92bd7a150627', resource_group='myResourceGroup')\"\n",
       "  }\n",
       "}"
      ]
     },
     "execution_count": 14,
     "metadata": {},
     "output_type": "execute_result"
    }
   ],
   "source": [
    "# load a registered dataset\n",
    "dataset = Dataset.get_by_name(ws, 'diabetes_parquet_from_datastore_datalakegen2')\n",
    "# show dataset settings\n",
    "dataset"
   ]
  },
  {
   "cell_type": "markdown",
   "metadata": {},
   "source": [
    "### Compute"
   ]
  },
  {
   "cell_type": "markdown",
   "metadata": {},
   "source": [
    "option 1: Create training cluster  "
   ]
  },
  {
   "cell_type": "code",
   "execution_count": 17,
   "metadata": {},
   "outputs": [
    {
     "name": "stdout",
     "output_type": "stream",
     "text": [
      "Succeeded\n",
      "AmlCompute wait for completion finished\n",
      "\n",
      "Minimum number of nodes requested have been provisioned\n"
     ]
    }
   ],
   "source": [
    "# Specify a name for the compute (unique within the workspace)\n",
    "compute_name = 'aml-cluster'\n",
    "# Define compute configuration\n",
    "compute_config = AmlCompute.provisioning_configuration(vm_size='STANDARD_D2_V2', # 2CPU-7MEM-100SSD\n",
    "                                                       min_nodes=0,\n",
    "                                                       max_nodes=4,\n",
    "                                                       vm_priority='lowpriority' # {lowpriority, dedicated}\n",
    "                                                      )\n",
    "# Create the compute\n",
    "training_cluster = ComputeTarget.create(ws, compute_name, compute_config)\n",
    "training_cluster.wait_for_completion(show_output=True)"
   ]
  },
  {
   "cell_type": "markdown",
   "metadata": {},
   "source": [
    "option 2: Load already known training cluster"
   ]
  },
  {
   "cell_type": "code",
   "execution_count": 21,
   "metadata": {},
   "outputs": [],
   "source": [
    "# load the training cluster\n",
    "training_cluster = ComputeTarget(ws, name='aml-cluster')"
   ]
  },
  {
   "cell_type": "code",
   "execution_count": null,
   "metadata": {},
   "outputs": [],
   "source": []
  },
  {
   "cell_type": "code",
   "execution_count": null,
   "metadata": {},
   "outputs": [],
   "source": []
  },
  {
   "cell_type": "code",
   "execution_count": null,
   "metadata": {},
   "outputs": [],
   "source": []
  },
  {
   "cell_type": "code",
   "execution_count": null,
   "metadata": {},
   "outputs": [],
   "source": []
  },
  {
   "cell_type": "code",
   "execution_count": null,
   "metadata": {},
   "outputs": [],
   "source": []
  },
  {
   "cell_type": "code",
   "execution_count": null,
   "metadata": {},
   "outputs": [],
   "source": []
  },
  {
   "cell_type": "code",
   "execution_count": null,
   "metadata": {},
   "outputs": [],
   "source": []
  },
  {
   "cell_type": "code",
   "execution_count": null,
   "metadata": {},
   "outputs": [],
   "source": []
  },
  {
   "cell_type": "code",
   "execution_count": null,
   "metadata": {},
   "outputs": [],
   "source": []
  },
  {
   "cell_type": "code",
   "execution_count": null,
   "metadata": {},
   "outputs": [],
   "source": []
  },
  {
   "cell_type": "code",
   "execution_count": null,
   "metadata": {},
   "outputs": [],
   "source": []
  },
  {
   "cell_type": "code",
   "execution_count": null,
   "metadata": {},
   "outputs": [],
   "source": []
  },
  {
   "cell_type": "code",
   "execution_count": null,
   "metadata": {},
   "outputs": [],
   "source": []
  },
  {
   "cell_type": "code",
   "execution_count": null,
   "metadata": {},
   "outputs": [],
   "source": []
  },
  {
   "cell_type": "code",
   "execution_count": null,
   "metadata": {},
   "outputs": [],
   "source": []
  },
  {
   "cell_type": "code",
   "execution_count": null,
   "metadata": {},
   "outputs": [],
   "source": []
  }
 ],
 "metadata": {
  "kernelspec": {
   "display_name": "azureml_py36_automl",
   "language": "python",
   "name": "conda-env-azureml_py36_automl-py"
  },
  "language_info": {
   "codemirror_mode": {
    "name": "ipython",
    "version": 3
   },
   "file_extension": ".py",
   "mimetype": "text/x-python",
   "name": "python",
   "nbconvert_exporter": "python",
   "pygments_lexer": "ipython3",
   "version": "3.6.10"
  }
 },
 "nbformat": 4,
 "nbformat_minor": 4
}
