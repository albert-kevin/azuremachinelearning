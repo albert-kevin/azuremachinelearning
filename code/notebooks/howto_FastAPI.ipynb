{
 "cells": [
  {
   "cell_type": "markdown",
   "metadata": {},
   "source": [
    "Author: Kevin ALBERT  \n",
    "\n",
    "Created: Oct 2020 "
   ]
  },
  {
   "cell_type": "markdown",
   "metadata": {},
   "source": [
    "# FastAPI\n",
    "_**samples on how to use FastAPI**_  \n",
    "\n",
    "## Contents  \n",
    "  * [install](#install)\n",
    "  * [get_started](#get_started)\n",
    "  * [path_arguments](#path_arguments)\n",
    "  * [query_arguments](#query_arguments)\n",
    "  * [basemodel](#basemodel)\n",
    "  * [path_query_basemodel](#path_query_basemodel)\n",
    "  * [response_model](#response_model)\n",
    "  * [improving_models_and_documentation](#improving_models_and_documentation)\n",
    "  * [todo_app](#todo_app)"
   ]
  },
  {
   "cell_type": "markdown",
   "metadata": {},
   "source": [
    "|Method|Operation|Description|\n",
    "|-|-|-|\n",
    "|<b><span style=\"color:red\">POST</span></b>|**C**reate|add a file<br>add a record|\n",
    "|<b><span style=\"color:blue\">GET</span></b>|**R**ead|retrieve information|\n",
    "|<b><span style=\"color:orange\">PUT</span></b>|**U**pdate|update existing resource|\n",
    "|<b><span style=\"color:red\">DELETE</span></b>|**D**elete|remove existing resource|\n",
    "\n",
    "[REST API Tutorial](https://restfulapi.net/http-methods/) "
   ]
  },
  {
   "cell_type": "markdown",
   "metadata": {},
   "source": [
    "# install"
   ]
  },
  {
   "cell_type": "code",
   "execution_count": 1,
   "metadata": {},
   "outputs": [
    {
     "name": "stdout",
     "output_type": "stream",
     "text": [
      "Collecting package metadata (current_repodata.json): done\n",
      "Solving environment: done\n",
      "\n",
      "# All requested packages already installed.\n",
      "\n"
     ]
    }
   ],
   "source": [
    "# install python modules\n",
    "! conda install -y --update-all -c conda-forge requests fastapi uvicorn"
   ]
  },
  {
   "cell_type": "code",
   "execution_count": 2,
   "metadata": {},
   "outputs": [],
   "source": [
    "from fastapi import FastAPI\n",
    "import fastapi\n",
    "import uvicorn\n",
    "import requests\n",
    "import json"
   ]
  },
  {
   "cell_type": "code",
   "execution_count": 3,
   "metadata": {},
   "outputs": [
    {
     "name": "stdout",
     "output_type": "stream",
     "text": [
      "conda 4.8.5\n",
      "Python 3.8.5\n",
      "requests 2.24.0\n",
      "fastapi 0.61.1\n",
      "uvicorn 0.11.3\n",
      "json 2.0.9\n"
     ]
    }
   ],
   "source": [
    "# installed module versions\n",
    "!conda -V\n",
    "!python -V\n",
    "print(\"requests\", requests.__version__)\n",
    "print(\"fastapi\", fastapi.__version__)\n",
    "print(\"uvicorn\", uvicorn.__version__)\n",
    "print(\"json\", json.__version__)"
   ]
  },
  {
   "cell_type": "markdown",
   "metadata": {},
   "source": [
    "### parameters"
   ]
  },
  {
   "cell_type": "code",
   "execution_count": 4,
   "metadata": {},
   "outputs": [],
   "source": [
    "IPADDR           = \"51.137.36.126\" # this VM IP\n",
    "PROJNAME         = \"fastapi\" # docker image name and project folder name\n",
    "WEBAPP_PORT      = \"5700\""
   ]
  },
  {
   "cell_type": "markdown",
   "metadata": {},
   "source": [
    "### project folder"
   ]
  },
  {
   "cell_type": "code",
   "execution_count": 5,
   "metadata": {},
   "outputs": [
    {
     "name": "stdout",
     "output_type": "stream",
     "text": [
      "../scripts/fastapi folder created\n"
     ]
    }
   ],
   "source": [
    "import os\n",
    "project_folder = '../scripts/' + PROJNAME\n",
    "os.makedirs(project_folder, exist_ok=True)\n",
    "print(project_folder, 'folder created')"
   ]
  },
  {
   "cell_type": "markdown",
   "metadata": {},
   "source": [
    "# get_started"
   ]
  },
  {
   "cell_type": "markdown",
   "metadata": {},
   "source": [
    "```python\n",
    "app = FastAPI() # create an application instance 'app'\n",
    "\n",
    "@app.get(\"/\") # URL method 'GET' on URL path '/'\n",
    "async def first_endpoint(): # better use async for speed\n",
    "    return {\"message\": \"Hello Data Science Learner\"} # json data\n",
    "\n",
    "if __name__ == '__main__':\n",
    "    uvicorn.run(\"main:app\",... # main.py:instance_name\n",
    "```"
   ]
  },
  {
   "cell_type": "code",
   "execution_count": 6,
   "metadata": {},
   "outputs": [
    {
     "name": "stdout",
     "output_type": "stream",
     "text": [
      "Overwriting ../scripts/fastapi/main.py\n"
     ]
    }
   ],
   "source": [
    "%%writefile $project_folder/main.py\n",
    "from fastapi import FastAPI\n",
    "import uvicorn\n",
    "\n",
    "app = FastAPI()\n",
    "\n",
    "@app.get(\"/\")\n",
    "async def first_endpoint():\n",
    "    return {\"message\": \"Hello Data Science Learner\"}\n",
    "\n",
    "if __name__ == '__main__':\n",
    "    uvicorn.run(\"main:app\",  host=\"0.0.0.0\", port=5700, reload=True)"
   ]
  },
  {
   "cell_type": "markdown",
   "metadata": {},
   "source": [
    "**open shell, run script: (example)**\n",
    "```sh\n",
    "cd ~/notebooks/azuremachinelearning/code/scripts/fastapi/\n",
    "conda activate py38_fastapi\n",
    "python main.py\n",
    "\n",
    "Uvicorn running ... (Press CTRL+C to quit)\n",
    "```"
   ]
  },
  {
   "cell_type": "code",
   "execution_count": 7,
   "metadata": {},
   "outputs": [
    {
     "name": "stdout",
     "output_type": "stream",
     "text": [
      "openAPI swagger ==> http://51.137.36.126:5700/docs\n"
     ]
    }
   ],
   "source": [
    "print(\"openAPI swagger ==> http://\"+IPADDR+\":\"+WEBAPP_PORT+\"/docs\")"
   ]
  },
  {
   "cell_type": "code",
   "execution_count": 8,
   "metadata": {},
   "outputs": [
    {
     "data": {
      "text/plain": [
       "{'message': 'Hello Data Science Learner'}"
      ]
     },
     "execution_count": 8,
     "metadata": {},
     "output_type": "execute_result"
    }
   ],
   "source": [
    "# GET with path only\n",
    "METHOD   = \"GET\" # {GET, POST, PUT, DELETE, PATCH}\n",
    "URL      = \"http://\"+IPADDR+\":\"+WEBAPP_PORT\n",
    "\n",
    "response = requests.request(METHOD, URL+\"/\") # HTTP request + service path\n",
    "response.json()\n",
    "# json.loads(response.text)\n",
    "# json.dumps(response.json(), indent=2, ensure_ascii=False)"
   ]
  },
  {
   "cell_type": "markdown",
   "metadata": {},
   "source": [
    "# path_arguments"
   ]
  },
  {
   "cell_type": "markdown",
   "metadata": {},
   "source": [
    "```python\n",
    "@app.get(\"/people/{person_id}\") # new URL path '/people/' + {argument} value\n",
    "async def get_person(person_id): # function must use same argument name 'person_id' of type 'string'\n",
    "    return {\"person_id\": person_id}\n",
    "\n",
    "@app.get(\"/people/{person_id}\")\n",
    "async def get_person(person_id: int): # only accept a specific type {int, float, str, bool, ...}\n",
    "    return {\"person_id\": person_id}\n",
    "```"
   ]
  },
  {
   "cell_type": "code",
   "execution_count": 9,
   "metadata": {},
   "outputs": [
    {
     "name": "stdout",
     "output_type": "stream",
     "text": [
      "Overwriting ../scripts/fastapi/main.py\n"
     ]
    }
   ],
   "source": [
    "%%writefile $project_folder/main.py\n",
    "from fastapi import FastAPI\n",
    "import uvicorn\n",
    "\n",
    "app = FastAPI()\n",
    "\n",
    "@app.get(\"/\")\n",
    "async def first_endpoint():\n",
    "    return {\"message\": \"Hello Data Science Learner\"}\n",
    "\n",
    "@app.get(\"/people/{person_id}\")\n",
    "async def get_person(person_id: int):\n",
    "    return {\"message\": f'person_id is {person_id}'}\n",
    "\n",
    "if __name__ == '__main__':\n",
    "    uvicorn.run(\"main:app\",  host=\"0.0.0.0\", port=5700, reload=True, debug=True)"
   ]
  },
  {
   "cell_type": "code",
   "execution_count": 10,
   "metadata": {},
   "outputs": [
    {
     "data": {
      "text/plain": [
       "{'message': 'person_id is 1'}"
      ]
     },
     "execution_count": 10,
     "metadata": {},
     "output_type": "execute_result"
    }
   ],
   "source": [
    "# GET with path argument '0001':int\n",
    "response = requests.request(METHOD, URL+\"/people/0001\")\n",
    "response.json()"
   ]
  },
  {
   "cell_type": "code",
   "execution_count": 11,
   "metadata": {},
   "outputs": [
    {
     "data": {
      "text/plain": [
       "{'detail': [{'loc': ['path', 'person_id'],\n",
       "   'msg': 'value is not a valid integer',\n",
       "   'type': 'type_error.integer'}]}"
      ]
     },
     "execution_count": 11,
     "metadata": {},
     "output_type": "execute_result"
    }
   ],
   "source": [
    "# GET with path argument 'user01':str\n",
    "response = requests.request(METHOD, URL+\"/people/user01\")\n",
    "response.json()"
   ]
  },
  {
   "cell_type": "markdown",
   "metadata": {},
   "source": [
    "# query_arguments"
   ]
  },
  {
   "cell_type": "markdown",
   "metadata": {},
   "source": [
    "```python\n",
    "@app.get(\"/people\")\n",
    "async def list_people(surname: str, city: Optional[str]=None, limit: int=20): # query parameters defined in function not path\n",
    "    return {\"filters\": {\"surname\": surname, \"city\": city}, \"limit\": limit}\n",
    "\n",
    "firstname: str      # string, query, * required \n",
    "city: str=None,     # string, query,\n",
    "limit: int=20):     # string, query, default 20\n",
    "```"
   ]
  },
  {
   "cell_type": "code",
   "execution_count": 12,
   "metadata": {},
   "outputs": [
    {
     "name": "stdout",
     "output_type": "stream",
     "text": [
      "Overwriting ../scripts/fastapi/main.py\n"
     ]
    }
   ],
   "source": [
    "%%writefile $project_folder/main.py\n",
    "from fastapi import FastAPI\n",
    "import uvicorn\n",
    "\n",
    "app = FastAPI()\n",
    "\n",
    "@app.get(\"/\")\n",
    "async def first_endpoint():\n",
    "    return {\"message\": \"Hello Data Science Learner\"}\n",
    "\n",
    "@app.get(\"/people/{person_id}\")\n",
    "async def get_person(person_id: int):\n",
    "    return {\"message\": f'person_id is {person_id}'}\n",
    "\n",
    "@app.get(\"/people\")\n",
    "async def list_people(firstname: str, city: str=None, limit: int=20):\n",
    "    return {\"filters\": {\"firstname\": firstname, \"city\": city}, \"limit\": limit}\n",
    "\n",
    "if __name__ == '__main__':\n",
    "    uvicorn.run(\"main:app\",  host=\"0.0.0.0\", port=5700, reload=True, debug=True)"
   ]
  },
  {
   "cell_type": "code",
   "execution_count": 13,
   "metadata": {},
   "outputs": [
    {
     "data": {
      "text/plain": [
       "{'filters': {'firstname': 'Kevin', 'city': None}, 'limit': 20}"
      ]
     },
     "execution_count": 13,
     "metadata": {},
     "output_type": "execute_result"
    }
   ],
   "source": [
    "# GET with \"firstname\" param only\n",
    "response = requests.request(METHOD, URL+\"/people?firstname=Kevin\") # query, means using '?'\n",
    "response.json()"
   ]
  },
  {
   "cell_type": "code",
   "execution_count": 14,
   "metadata": {},
   "outputs": [
    {
     "data": {
      "text/plain": [
       "{'filters': {'firstname': 'Kevin', 'city': None}, 'limit': 400}"
      ]
     },
     "execution_count": 14,
     "metadata": {},
     "output_type": "execute_result"
    }
   ],
   "source": [
    "# GET with \"firstname\" and \"limit\" params\n",
    "response = requests.request(METHOD, URL+\"/people?firstname=Kevin&limit=400\") # AND, means using '&'\n",
    "response.json()"
   ]
  },
  {
   "cell_type": "code",
   "execution_count": 15,
   "metadata": {},
   "outputs": [
    {
     "data": {
      "text/plain": [
       "{'detail': [{'loc': ['query', 'firstname'],\n",
       "   'msg': 'field required',\n",
       "   'type': 'value_error.missing'}]}"
      ]
     },
     "execution_count": 15,
     "metadata": {},
     "output_type": "execute_result"
    }
   ],
   "source": [
    "# GET without params (\"firstname\" is *required)\n",
    "response = requests.request(METHOD, URL+\"/people\")\n",
    "response.json()"
   ]
  },
  {
   "cell_type": "markdown",
   "metadata": {},
   "source": [
    "# basemodel"
   ]
  },
  {
   "cell_type": "markdown",
   "metadata": {},
   "source": [
    "```python\n",
    "from typing import Optional\n",
    "from pydantic import BaseModel\n",
    "\n",
    "class Person(BaseModel):\n",
    "    firstname: str         # string, required\n",
    "    age: Optional[int]     # integer, not required\n",
    "    city: str = \"Brussels\" # string, required, default \"Brussels\"\n",
    "\n",
    "@app.post(\"/people\")       # POST method\n",
    "async def create_person(person: Person): # inherit BaseModel class type\n",
    "    return person.dict()   # json data\n",
    "```"
   ]
  },
  {
   "cell_type": "code",
   "execution_count": 16,
   "metadata": {},
   "outputs": [
    {
     "name": "stdout",
     "output_type": "stream",
     "text": [
      "Overwriting ../scripts/fastapi/main.py\n"
     ]
    }
   ],
   "source": [
    "%%writefile $project_folder/main.py\n",
    "from typing import Optional\n",
    "from fastapi import FastAPI\n",
    "from pydantic import BaseModel\n",
    "import uvicorn\n",
    "\n",
    "app = FastAPI()\n",
    "\n",
    "class Person(BaseModel):\n",
    "    firstname: str\n",
    "    age: Optional[int]\n",
    "    city: str = \"Brussels\"\n",
    "\n",
    "@app.get(\"/\")\n",
    "async def first_endpoint():\n",
    "    return {\"message\": \"Hello Data Science Learner\"}\n",
    "\n",
    "@app.get(\"/people/{person_id}\")\n",
    "async def get_person(person_id: int):\n",
    "    return {\"message\": f'person_id is {person_id}'}\n",
    "\n",
    "@app.post(\"/people\")\n",
    "async def create_person(person: Person):\n",
    "    return person.dict()\n",
    "\n",
    "if __name__ == '__main__':\n",
    "    uvicorn.run(\"main:app\",  host=\"0.0.0.0\", port=5700, reload=True, debug=True)"
   ]
  },
  {
   "cell_type": "code",
   "execution_count": 17,
   "metadata": {},
   "outputs": [
    {
     "data": {
      "text/plain": [
       "{'firstname': '', 'age': 5, 'city': ''}"
      ]
     },
     "execution_count": 17,
     "metadata": {},
     "output_type": "execute_result"
    }
   ],
   "source": [
    "# POST age = \"5\"\n",
    "METHOD = \"POST\"\n",
    "URL = \"http://\"+IPADDR+\":\"+WEBAPP_PORT\n",
    "DATA = {\"firstname\":\"\", \"age\":5, \"city\":\"\"}\n",
    "\n",
    "response = requests.request(METHOD, URL+\"/people\", json=DATA)\n",
    "response.json()"
   ]
  },
  {
   "cell_type": "code",
   "execution_count": 18,
   "metadata": {},
   "outputs": [
    {
     "data": {
      "text/plain": [
       "{'detail': [{'loc': ['body', 'age'],\n",
       "   'msg': 'value is not a valid integer',\n",
       "   'type': 'type_error.integer'}]}"
      ]
     },
     "execution_count": 18,
     "metadata": {},
     "output_type": "execute_result"
    }
   ],
   "source": [
    "# POST age = \"5x\"\n",
    "METHOD = \"POST\"\n",
    "URL = \"http://\"+IPADDR+\":\"+WEBAPP_PORT\n",
    "DATA = {\"firstname\":\"\", \"age\":'5x', \"city\":\"\"}\n",
    "\n",
    "response = requests.request(METHOD, URL+\"/people\", json=DATA)\n",
    "response.json()"
   ]
  },
  {
   "cell_type": "code",
   "execution_count": 19,
   "metadata": {},
   "outputs": [
    {
     "data": {
      "text/plain": [
       "{'firstname': '', 'age': None, 'city': ''}"
      ]
     },
     "execution_count": 19,
     "metadata": {},
     "output_type": "execute_result"
    }
   ],
   "source": [
    "# POST no age\n",
    "METHOD = \"POST\"\n",
    "URL = \"http://\"+IPADDR+\":\"+WEBAPP_PORT\n",
    "DATA = {\"firstname\":\"\", \"city\":\"\"}\n",
    "\n",
    "response = requests.request(METHOD, URL+\"/people\", json=DATA)\n",
    "response.json()"
   ]
  },
  {
   "cell_type": "code",
   "execution_count": 20,
   "metadata": {},
   "outputs": [
    {
     "data": {
      "text/plain": [
       "{'detail': [{'loc': ['body', 'firstname'],\n",
       "   'msg': 'field required',\n",
       "   'type': 'value_error.missing'},\n",
       "  {'loc': ['body', 'age'],\n",
       "   'msg': 'value is not a valid integer',\n",
       "   'type': 'type_error.integer'}]}"
      ]
     },
     "execution_count": 20,
     "metadata": {},
     "output_type": "execute_result"
    }
   ],
   "source": [
    "# POST no firstname\n",
    "METHOD = \"POST\"\n",
    "URL = \"http://\"+IPADDR+\":\"+WEBAPP_PORT\n",
    "DATA = {\"age\":\"\", \"city\":\"\"}\n",
    "\n",
    "response = requests.request(METHOD, URL+\"/people\", json=DATA)\n",
    "response.json()"
   ]
  },
  {
   "cell_type": "code",
   "execution_count": 21,
   "metadata": {},
   "outputs": [
    {
     "data": {
      "text/plain": [
       "{'firstname': '', 'age': 5, 'city': 'Brussels'}"
      ]
     },
     "execution_count": 21,
     "metadata": {},
     "output_type": "execute_result"
    }
   ],
   "source": [
    "# POST no city\n",
    "METHOD = \"POST\"\n",
    "URL = \"http://\"+IPADDR+\":\"+WEBAPP_PORT\n",
    "DATA = {\"firstname\":\"\", \"age\":5}\n",
    "\n",
    "response = requests.request(METHOD, URL+\"/people\", json=DATA)\n",
    "response.json()"
   ]
  },
  {
   "cell_type": "code",
   "execution_count": 22,
   "metadata": {},
   "outputs": [
    {
     "data": {
      "text/plain": [
       "{'firstname': '', 'age': 5, 'city': 'Antwerp'}"
      ]
     },
     "execution_count": 22,
     "metadata": {},
     "output_type": "execute_result"
    }
   ],
   "source": [
    "# POST custom city name\n",
    "METHOD = \"POST\"\n",
    "URL = \"http://\"+IPADDR+\":\"+WEBAPP_PORT\n",
    "DATA = {\"firstname\":\"\", \"age\":5, \"city\":\"Antwerp\"}\n",
    "\n",
    "response = requests.request(METHOD, URL+\"/people\", json=DATA)\n",
    "response.json()"
   ]
  },
  {
   "cell_type": "markdown",
   "metadata": {},
   "source": [
    "# path_query_basemodel"
   ]
  },
  {
   "cell_type": "markdown",
   "metadata": {},
   "source": [
    "```python\n",
    "@app.post(\"/people/{person_id}\")   # either use as path\n",
    "@app.post(\"/people\")               # either use as query\n",
    "\n",
    "async def create_person(person_id: int, person: Person): # combination of path/query and POST basemodel\n",
    "    return {\"person_id\": person_id, **person.dict()}\n",
    "```"
   ]
  },
  {
   "cell_type": "code",
   "execution_count": 23,
   "metadata": {},
   "outputs": [
    {
     "name": "stdout",
     "output_type": "stream",
     "text": [
      "Overwriting ../scripts/fastapi/main.py\n"
     ]
    }
   ],
   "source": [
    "%%writefile $project_folder/main.py\n",
    "from typing import Optional\n",
    "from fastapi import FastAPI\n",
    "from pydantic import BaseModel\n",
    "import uvicorn\n",
    "\n",
    "app = FastAPI()\n",
    "\n",
    "class Person(BaseModel):\n",
    "    firstname: str\n",
    "    age: Optional[int]\n",
    "    city: str = \"Brussels\"\n",
    "\n",
    "@app.get(\"/\")\n",
    "async def first_endpoint():\n",
    "    return {\"message\": \"Hello Data Science Learner\"}\n",
    "\n",
    "@app.post(\"/people\")\n",
    "async def create_person(person_id: int, person: Person):\n",
    "    return {\"person_id\": person_id, **person.dict()}\n",
    "\n",
    "if __name__ == '__main__':\n",
    "    uvicorn.run(\"main:app\",  host=\"0.0.0.0\", port=5700, reload=True, debug=True)"
   ]
  },
  {
   "cell_type": "code",
   "execution_count": 24,
   "metadata": {},
   "outputs": [
    {
     "data": {
      "text/plain": [
       "{'person_id': 1, 'firstname': 'Kevin', 'age': 5, 'city': 'Antwerp'}"
      ]
     },
     "execution_count": 24,
     "metadata": {},
     "output_type": "execute_result"
    }
   ],
   "source": [
    "# POST with query method\n",
    "METHOD = \"POST\"\n",
    "URL = \"http://\"+IPADDR+\":\"+WEBAPP_PORT\n",
    "DATA = {\"firstname\":\"Kevin\", \"age\":5, \"city\":\"Antwerp\"}\n",
    "PARAMS = {'person_id': 1}\n",
    "HEADERS = {'Content-Type': 'application/json'}\n",
    "\n",
    "response = requests.request(METHOD, URL+\"/people\", json=DATA, params=PARAMS, headers=HEADERS)\n",
    "response.json()"
   ]
  },
  {
   "cell_type": "markdown",
   "metadata": {},
   "source": [
    "# response_model"
   ]
  },
  {
   "cell_type": "markdown",
   "metadata": {},
   "source": [
    "```python\n",
    "# all data coming in:\n",
    "class PersonIn(BaseModel):\n",
    "    secret_key: str        # confidential data for example\n",
    "    firstname: str         # same\n",
    "    age: Optional[int]     # same\n",
    "    city: str = \"Brussels\" # same\n",
    "\n",
    "# all data coming out\n",
    "class Person(BaseModel):\n",
    "    firstname: str         # same\n",
    "    age: Optional[int]     # same\n",
    "    city: str = \"Brussels\" # same\n",
    "\n",
    "# response_model         -> filter out confidential data\n",
    "# response_model_include -> to include certain fields\n",
    "# response_model_exclude -> to exclude certain fields\n",
    "@app.post(\"/people\", response_model=Person, response_model_include={\"age\", \"firstname\"})\n",
    "async def create_person(person_id: int, person: PersonIn):\n",
    "    return person # person_id no longer able to output\n",
    "```"
   ]
  },
  {
   "cell_type": "code",
   "execution_count": 25,
   "metadata": {},
   "outputs": [
    {
     "name": "stdout",
     "output_type": "stream",
     "text": [
      "Overwriting ../scripts/fastapi/main.py\n"
     ]
    }
   ],
   "source": [
    "%%writefile $project_folder/main.py\n",
    "from typing import Optional\n",
    "from fastapi import FastAPI\n",
    "from pydantic import BaseModel\n",
    "import uvicorn\n",
    "\n",
    "app = FastAPI()\n",
    "\n",
    "class PersonIn(BaseModel):\n",
    "    secret_key: str\n",
    "    firstname: str\n",
    "    age: Optional[int]\n",
    "    city: str = \"Brussels\"\n",
    "\n",
    "class Person(BaseModel):\n",
    "    firstname: str\n",
    "    age: Optional[int]\n",
    "    city: str = \"Brussels\"\n",
    "\n",
    "@app.get(\"/\")\n",
    "async def first_endpoint():\n",
    "    return {\"message\": \"Hello Data Science Learner\"}\n",
    "\n",
    "@app.post(\"/people\", response_model=Person, response_model_include={\"age\", \"firstname\"})\n",
    "async def create_person(person: PersonIn):\n",
    "    return person\n",
    "\n",
    "if __name__ == '__main__':\n",
    "    uvicorn.run(\"main:app\",  host=\"0.0.0.0\", port=5700, reload=True, debug=True)"
   ]
  },
  {
   "cell_type": "code",
   "execution_count": 26,
   "metadata": {},
   "outputs": [
    {
     "data": {
      "text/plain": [
       "{'firstname': 'Kevin', 'age': 5}"
      ]
     },
     "execution_count": 26,
     "metadata": {},
     "output_type": "execute_result"
    }
   ],
   "source": [
    "# POST with query method\n",
    "METHOD = \"POST\"\n",
    "URL = \"http://\"+IPADDR+\":\"+WEBAPP_PORT\n",
    "DATA = {\"secret_key\":\"S3cr3tKey\", \"firstname\":\"Kevin\", \"age\":5, \"city\":\"Antwerp\"}\n",
    "PARAMS = {'person_id': 2}\n",
    "HEADERS = {'Content-Type': 'application/json'}\n",
    "\n",
    "response = requests.request(METHOD, URL+\"/people\", json=DATA, params=PARAMS, headers=HEADERS)\n",
    "response.json()"
   ]
  },
  {
   "cell_type": "markdown",
   "metadata": {},
   "source": [
    "# improving_models_and_documentation"
   ]
  },
  {
   "cell_type": "markdown",
   "metadata": {},
   "source": [
    "```python\n",
    "# add a description as docstring\n",
    "async def create_person(person: PersonIn):\n",
    "    \"\"\"A human being, with a name, age and city\"\"\"\n",
    "\n",
    "from pydantic import BaseModel, Field\n",
    "# add a Field object to define the field description, constraints and more:\n",
    "    # name:str >=  1 (char_length) \n",
    "    # age:int  >= 18\n",
    "    # city:str >=  1 \n",
    "class Person(BaseModel):\n",
    "    name: str = Field(...,\n",
    "                      description=\"The firstname of this person\",\n",
    "                      example=\"Anna\",\n",
    "                      min_length=1)\n",
    "    age: Optional[int] = Field(None,\n",
    "                               description=\"The age of this person in years. Must be 18 years or older\",\n",
    "                               example=18,\n",
    "                               ge=18)  # (g)reater or (e)qual 18\n",
    "    city: str = Field(\"office\",\n",
    "                      description=\"The city this person work\",\n",
    "                      example=\"Brussels\",\n",
    "                      min_length=1)\n",
    "```"
   ]
  },
  {
   "cell_type": "code",
   "execution_count": 27,
   "metadata": {},
   "outputs": [
    {
     "name": "stdout",
     "output_type": "stream",
     "text": [
      "Overwriting ../scripts/fastapi/main.py\n"
     ]
    }
   ],
   "source": [
    "%%writefile $project_folder/main.py\n",
    "from typing import Optional\n",
    "from fastapi import FastAPI\n",
    "from pydantic import BaseModel, Field\n",
    "import uvicorn\n",
    "\n",
    "app = FastAPI()\n",
    "\n",
    "class PersonIn(BaseModel):\n",
    "    secret_key: str                    # *required\n",
    "    firstname: str = Field(...,       # default: \"\" or ..., a value is *required\n",
    "                           description=\"The firstname of this person\",\n",
    "                           example=\"Kevin\",\n",
    "                           min_length=1)\n",
    "    age: Optional[int] = Field(None,   # default: None, due to Optional[int] a value is NOT required\n",
    "                               description=\"The age of this person in years. Must be 18 years or older\",\n",
    "                               example=18,\n",
    "                               ge=18)  # (g)reater or (e)qual 18\n",
    "    city: str = Field(\"Brussel\",       # default: \"Brussel\", if default: None then a value is *required !\n",
    "                      description=\"The city this person works\",\n",
    "                      example=\"Antwerp\",\n",
    "                      min_length=1,\n",
    "                      max_length=25)\n",
    "\n",
    "class Person(BaseModel):\n",
    "    firstname: str\n",
    "    age: Optional[int]\n",
    "    city: str\n",
    "\n",
    "@app.get(\"/\")\n",
    "async def first_endpoint():\n",
    "    return {\"message\": \"Hello Data Science Learner\"}\n",
    "\n",
    "@app.post(\"/people\", response_model=Person, response_model_include={ \"firstname\", \"age\", \"city\"})\n",
    "async def create_person(person: PersonIn):\n",
    "    \"\"\"A human being, with a firstname, age and city\"\"\"\n",
    "    return person\n",
    "\n",
    "if __name__ == '__main__':\n",
    "    uvicorn.run(\"main:app\",  host=\"0.0.0.0\", port=5700, reload=True, debug=True)"
   ]
  },
  {
   "cell_type": "code",
   "execution_count": 28,
   "metadata": {},
   "outputs": [
    {
     "data": {
      "text/plain": [
       "{'firstname': 'Steven', 'age': 25, 'city': 'Brussel'}"
      ]
     },
     "execution_count": 28,
     "metadata": {},
     "output_type": "execute_result"
    }
   ],
   "source": [
    "# POST no city, age above 18\n",
    "METHOD = \"POST\"\n",
    "URL = \"http://\"+IPADDR+\":\"+WEBAPP_PORT\n",
    "DATA = {\"secret_key\":\"S3cr3tKey\", \"firstname\":\"Steven\", \"age\":25}\n",
    "PARAMS = {}\n",
    "HEADERS = {'Content-Type': 'application/json'}\n",
    "\n",
    "response = requests.request(METHOD, URL+\"/people\", json=DATA, params=PARAMS, headers=HEADERS)\n",
    "response.json()"
   ]
  },
  {
   "cell_type": "code",
   "execution_count": 29,
   "metadata": {},
   "outputs": [
    {
     "data": {
      "text/plain": [
       "{'detail': [{'loc': ['body', 'firstname'],\n",
       "   'msg': 'field required',\n",
       "   'type': 'value_error.missing'}]}"
      ]
     },
     "execution_count": 29,
     "metadata": {},
     "output_type": "execute_result"
    }
   ],
   "source": [
    "# POST no city, no age, no name\n",
    "METHOD = \"POST\"\n",
    "URL = \"http://\"+IPADDR+\":\"+WEBAPP_PORT\n",
    "DATA = {\"secret_key\":\"S3cr3tKey\"}\n",
    "PARAMS = {}\n",
    "HEADERS = {'Content-Type': 'application/json'}\n",
    "\n",
    "response = requests.request(METHOD, URL+\"/people\", json=DATA, params=PARAMS, headers=HEADERS)\n",
    "response.json()"
   ]
  },
  {
   "cell_type": "code",
   "execution_count": 30,
   "metadata": {},
   "outputs": [
    {
     "data": {
      "text/plain": [
       "{'detail': [{'loc': ['body', 'firstname'],\n",
       "   'msg': 'ensure this value has at least 1 characters',\n",
       "   'type': 'value_error.any_str.min_length',\n",
       "   'ctx': {'limit_value': 1}},\n",
       "  {'loc': ['body', 'age'],\n",
       "   'msg': 'ensure this value is greater than or equal to 18',\n",
       "   'type': 'value_error.number.not_ge',\n",
       "   'ctx': {'limit_value': 18}}]}"
      ]
     },
     "execution_count": 30,
     "metadata": {},
     "output_type": "execute_result"
    }
   ],
   "source": [
    "# POST age below 18, firstname < 1 char\n",
    "METHOD = \"POST\"\n",
    "URL = \"http://\"+IPADDR+\":\"+WEBAPP_PORT\n",
    "DATA = {\"secret_key\":\"S3cr3tKey\", \"firstname\":\"\", \"age\":8}\n",
    "PARAMS = {}\n",
    "HEADERS = {'Content-Type': 'application/json'}\n",
    "\n",
    "response = requests.request(METHOD, URL+\"/people\", json=DATA, params=PARAMS, headers=HEADERS)\n",
    "response.json()"
   ]
  },
  {
   "cell_type": "markdown",
   "metadata": {},
   "source": [
    "# todo_app"
   ]
  },
  {
   "cell_type": "code",
   "execution_count": 31,
   "metadata": {},
   "outputs": [
    {
     "name": "stdout",
     "output_type": "stream",
     "text": [
      "Overwriting ../scripts/fastapi/main.py\n"
     ]
    }
   ],
   "source": [
    "%%writefile $project_folder/main.py\n",
    "from typing import Optional, List\n",
    "from fastapi import FastAPI, HTTPException\n",
    "from pydantic import BaseModel, Field\n",
    "import uvicorn\n",
    "\n",
    "app = FastAPI(title=\"Todo API\")\n",
    "\n",
    "class Todo(BaseModel):\n",
    "    name: str\n",
    "    due_date: str\n",
    "    description: str\n",
    "\n",
    "store_todo = []\n",
    "\n",
    "@app.get('/')\n",
    "async def index():\n",
    "    return {\"message\": \"Hello Data Science Learner\"}\n",
    "\n",
    "@app.post('/todo/')\n",
    "async def create_todo(todo: Todo):\n",
    "    store_todo.append(todo)\n",
    "    return todo\n",
    "\n",
    "@app.get('/todo/', response_model=List[Todo])\n",
    "async def list_all_todos():\n",
    "    return store_todo\n",
    "\n",
    "@app.get('/todo/{id}')\n",
    "async def get_todo(id: int):\n",
    "    try:\n",
    "        return store_todo[id]\n",
    "    except:\n",
    "        raise HTTPException(status_code=404, detail=\"Todo Not Found\")\n",
    "\n",
    "@app.put('/todo/{id}')\n",
    "async def update_todo(id: int, todo: Todo):\n",
    "    try:\n",
    "        store_todo[id] = todo\n",
    "        return store_todo[id]\n",
    "    except:\n",
    "        raise HTTPException(status_code=404, detail=\"Todo Not Found\")\n",
    "\n",
    "@app.delete('/todo/{id}')\n",
    "async def delete_todo(id: int):\n",
    "    try:\n",
    "        obj = store_todo[id]\n",
    "        store_todo.pop(id)\n",
    "        return obj\n",
    "    except:\n",
    "        raise HTTPException(status_code=404, detail=\"Todo Not Found\")"
   ]
  },
  {
   "cell_type": "code",
   "execution_count": null,
   "metadata": {},
   "outputs": [],
   "source": []
  }
 ],
 "metadata": {
  "kernelspec": {
   "display_name": "py38_fastapi",
   "language": "python",
   "name": "conda-env-py38_fastapi-py"
  },
  "language_info": {
   "codemirror_mode": {
    "name": "ipython",
    "version": 3
   },
   "file_extension": ".py",
   "mimetype": "text/x-python",
   "name": "python",
   "nbconvert_exporter": "python",
   "pygments_lexer": "ipython3",
   "version": "3.8.5"
  }
 },
 "nbformat": 4,
 "nbformat_minor": 4
}
