{
 "cells": [
  {
   "cell_type": "markdown",
   "metadata": {},
   "source": [
    "Author: Kevin ALBERT  \n",
    "\n",
    "Created: Oct 2020 (Updated: 14 Apr 2021)\n",
    "\n",
    "TestRun: 28 Feb 2021\n",
    "\n",
    "(helped identify a bug [#1808](https://github.com/neo4j-contrib/neo4j-apoc-procedures/issues/1808))"
   ]
  },
  {
   "cell_type": "markdown",
   "metadata": {},
   "source": [
    "# Graph Database\n",
    "_**How to load data and interact using Neo4j**_  \n",
    "\n",
    "## Contents\n",
    "1. [Introduction](#Introduction)  \n",
    "1. [Setup](#Setup)  \n",
    "● [import](#import)  \n",
    "● [environment](#environment)  \n",
    "● [installed](#installed)  \n",
    "● [config](#config)  \n",
    "● [plugins](#plugins)  \n",
    "● [parameters](#parameters)  \n",
    "1. [Data](#Data)  \n",
    "● [definitions](#definitions)  \n",
    "● [exploring](#exploring)  \n",
    "● [modeling](#modeling)  \n",
    "● [cleaning](#cleaning)   \n",
    "1. [Import](#Cycle2)  \n",
    "1. [Querying](#Querying)  \n",
    "● [Which 10 countries have the most wineries ?](#Which-10-countries-have-the-most-wineries-?)  \n",
    "● [Which wineries are across multiple provinces ?](#Which-wineries-are-across-multiple-provinces-?)  \n",
    "● [The top 10 most prolific wine tasters ?](#The-top-10-most-prolific-wine-tasters-?)  \n",
    "● [How many wine varieties contain the word 'red' ?](#How-many-wine-varieties-contain-the-word-'red'-?)  \n",
    "● [Which Year had the most Wine ?](#Which-Year-had-the-most-Wine-?)  \n",
    "● [Which top 5 Winery produces the most Wine for a given Year ?](#Which-top-5-Winery-produces-the-most-Wine-for-a-given-Year-?)  \n",
    "● [Show Variety linked to VarietyName](#Show-Variety-linked-to-VarietyName)  \n",
    "● [Which VarietyName have the most Wine ?](#Which-VarietyName-have-the-most-Wine-?)  \n",
    "● [Find the popular product flavors in this 'merlot' variety](#Find-the-popular-product-flavors-in-this-'merlot'-variety)  \n",
    "● [Which wines have 100 points ?](#Which-wines-have-100-points-?)  \n",
    "● [Show the most expensive wines (>1000)](#Show-the-most-expensive-wines-(>1000))  \n",
    "● [Show the highest scoring wines](#Show-the-highest-scoring-wines)  \n",
    "1. [Documentation](#Documentation)  \n",
    "● [how to datamodel](#howto-datamodel) \n",
    "1. [Maintenance](#Maintenance)  \n",
    "● [cypher](#cypher)  \n",
    "● [python](#python)  \n",
    "● [data loading test](#data-loading-test)  "
   ]
  },
  {
   "cell_type": "markdown",
   "metadata": {},
   "source": [
    "## Introduction"
   ]
  },
  {
   "cell_type": "markdown",
   "metadata": {},
   "source": [
    "This howto will use the `Kaggle` [wines data](https://www.kaggle.com/zynicide/wine-reviews/data) and follow along the `YouTube` [adventures with wine data](https://www.youtube.com/playlist?list=PL9Hl4pk2FsvU7skL6tC-ZoSALfDQ552bI) and `Git` [repository](https://github.com/lju-lazarevic/wine) by Lju Lazarevic.  \n",
    "Combined with other sources into a one complete set of code and methods for future projects.  "
   ]
  },
  {
   "cell_type": "markdown",
   "metadata": {},
   "source": [
    "## Setup"
   ]
  },
  {
   "cell_type": "markdown",
   "metadata": {},
   "source": [
    "### import"
   ]
  },
  {
   "cell_type": "code",
   "execution_count": 1,
   "metadata": {},
   "outputs": [],
   "source": [
    "from py2neo import Graph, Node, Relationship\n",
    "import pandas as pd\n",
    "from IPython.display import Javascript\n",
    "from fuzzywuzzy import process, fuzz"
   ]
  },
  {
   "cell_type": "code",
   "execution_count": 2,
   "metadata": {},
   "outputs": [],
   "source": [
    "import platform\n",
    "import psutil\n",
    "import os"
   ]
  },
  {
   "cell_type": "code",
   "execution_count": 3,
   "metadata": {},
   "outputs": [],
   "source": [
    "# pd.describe_option('display')            # show all pandas options, parameters can slow down notebook\n",
    "pd.set_option('display.max_colwidth', 100) # default 50, the maximum width in characters of a column\n",
    "pd.set_option('display.max_columns', 40)   # default 20, the maximum amount of columns in view \n",
    "pd.set_option('display.max_rows', 60)      # default 60, the maximum amount of rows in view"
   ]
  },
  {
   "cell_type": "markdown",
   "metadata": {},
   "source": [
    "### environment"
   ]
  },
  {
   "cell_type": "code",
   "execution_count": 4,
   "metadata": {},
   "outputs": [
    {
     "name": "stdout",
     "output_type": "stream",
     "text": [
      "Cores : 2 (2GHz)\n",
      "Memory: 7.78 GB (22.0%)\n",
      "Swap  : 8 GB\n",
      "Disk  : 145 GB (48.6% ext4)\n",
      "System: 18.04.1-Ubuntu\n"
     ]
    }
   ],
   "source": [
    "print(f\"Cores : {psutil.cpu_count(logical=True)} ({psutil.cpu_freq().current/1000:.0f}GHz)\")\n",
    "print(f\"Memory: {psutil.virtual_memory().total/(1024**3):.2f} GB ({psutil.virtual_memory().percent}%)\")\n",
    "print(f\"Swap  : {os.path.getsize('/swapfile')/(1024**3):.0f} GB\")\n",
    "disk_size = psutil.disk_usage(psutil.disk_partitions()[0].mountpoint).total\n",
    "disk_used = psutil.disk_usage(psutil.disk_partitions()[0].mountpoint).percent\n",
    "disk_fs   = psutil.disk_partitions()[0].fstype \n",
    "print(f\"Disk  : {disk_size/(1024**3):.0f} GB ({disk_used}% {disk_fs})\")\n",
    "print(f\"System: {platform.uname().version.split('~')[1].split()[0]}\")"
   ]
  },
  {
   "cell_type": "markdown",
   "metadata": {},
   "source": [
    "### installed\n",
    "python modules"
   ]
  },
  {
   "cell_type": "code",
   "execution_count": 5,
   "metadata": {},
   "outputs": [
    {
     "name": "stdout",
     "output_type": "stream",
     "text": [
      "conda : 4.9.2\n",
      "pip   : 21.0.1\n",
      "python: 3.8.8\n",
      "pandas: 1.2.2\n",
      "py2neo: 4.2.0\n",
      "fuzzywuzzy: 0.18.0\n"
     ]
    }
   ],
   "source": [
    "conda_version = ! conda -V\n",
    "print(f\"conda : {conda_version[0].split()[1]}\")\n",
    "pip_version = ! pip -V\n",
    "print(f\"pip   : {pip_version[0].split()[1]}\")\n",
    "python_version = ! python -V\n",
    "print(f\"python: {python_version[0].split()[1]}\")\n",
    "pandas_version = ! pip list |grep -i pandas\n",
    "print(f\"pandas: {pandas_version[0].split()[1]}\")\n",
    "py2neo_version = ! pip list |grep -i py2neo\n",
    "print(f\"py2neo: {py2neo_version[0].split()[1]}\")\n",
    "fuzzywuzzy_version = ! pip list |grep -i fuzzywuzzy\n",
    "print(f\"fuzzywuzzy: {fuzzywuzzy_version[0].split()[1]}\")"
   ]
  },
  {
   "cell_type": "markdown",
   "metadata": {},
   "source": [
    "### config"
   ]
  },
  {
   "cell_type": "code",
   "execution_count": 6,
   "metadata": {},
   "outputs": [
    {
     "name": "stdout",
     "output_type": "stream",
     "text": [
      "\r\n",
      "dbms.default_listen_address=0.0.0.0\r\n",
      "\r\n",
      "\r\n",
      "neo4j.bloom.license_file=/plugins/bloom-plugin.license\r\n",
      "neo4j.bloom.authorization_role=admin,architect\r\n",
      "dbms.unmanaged_extension_classes=com.neo4j.bloom.server=/browser/bloom\r\n",
      "dbms.tx_log.rotation.retention_policy=100M size\r\n",
      "dbms.security.procedures.whitelist=apoc.*,gds.*\r\n",
      "dbms.security.procedures.unrestricted=apoc.*,gds.*,bloom.*\r\n",
      "dbms.memory.pagecache.size=2G\r\n",
      "dbms.memory.heap.max_size=2G\r\n",
      "dbms.directories.plugins=/plugins\r\n",
      "dbms.directories.logs=/logs\r\n",
      "dbms.directories.import=/import\r\n",
      "causal_clustering.transaction_advertised_address=9ee153507f17:6000\r\n",
      "causal_clustering.raft_advertised_address=9ee153507f17:7000\r\n",
      "causal_clustering.discovery_advertised_address=9ee153507f17:5000\r\n",
      "apoc.import.file.enabled=true\r\n"
     ]
    }
   ],
   "source": [
    "! sudo cat ../../neo4j/conf/neo4j.conf"
   ]
  },
  {
   "cell_type": "markdown",
   "metadata": {},
   "source": [
    "### plugins"
   ]
  },
  {
   "cell_type": "code",
   "execution_count": 7,
   "metadata": {},
   "outputs": [
    {
     "name": "stdout",
     "output_type": "stream",
     "text": [
      "total 72108\r\n",
      "-rw-rw-r-- 1 ubuntu ubuntu 18542753 Feb 28 10:33 apoc-4.1.0.6-all.jar\r\n",
      "-rw-r--r-- 1 root   root    7809568 Jan 26 14:35 apoc-couchbase-dependencies-4.1.0.6.jar\r\n",
      "-rw-r--r-- 1 root   root     709133 Jan 26 14:35 apoc-email-dependencies-4.1.0.6.jar\r\n",
      "-rw-r--r-- 1 root   root    1483695 Jan 26 14:35 apoc-mongodb-dependencies-4.1.0.6.jar\r\n",
      "-rw-rw-r-- 1 ubuntu ubuntu 10848418 Feb 28 09:58 apoc-nlp-dependencies-4.1.0.6.jar\r\n",
      "-rw-r--r-- 1 root   root   13956779 Jan 26 14:35 apoc-xls-dependencies-4.1.0.6.jar\r\n",
      "-rw-r--r-- 1 ubuntu root   11192049 Jan  5 17:55 bloom-plugin-4.x-1.5.0.jar\r\n",
      "-rw-r--r-- 1 ubuntu root         84 Feb 28 08:59 bloom-plugin.license\r\n",
      "-rw-r--r-- 1 ubuntu root    9269836 Jan  5 17:55 neo4j-bloom-1.5.0-assets.zip\r\n"
     ]
    }
   ],
   "source": [
    "! sudo ls -l ../../neo4j/plugins"
   ]
  },
  {
   "cell_type": "markdown",
   "metadata": {},
   "source": [
    "### parameters"
   ]
  },
  {
   "cell_type": "code",
   "execution_count": 8,
   "metadata": {},
   "outputs": [],
   "source": [
    "server  = \"40.127.98.81\"\n",
    "port    = \"7687\"\n",
    "user    = \"neo4j\"\n",
    "passw   = \"digityser\"\n",
    "db_name = \"neo4j\"        # default name (v4.x)"
   ]
  },
  {
   "cell_type": "code",
   "execution_count": 9,
   "metadata": {},
   "outputs": [],
   "source": [
    "# load graph connection instance\n",
    "graph = Graph(host=server, auth=(user, passw), name=db_name, encrypted=False)"
   ]
  },
  {
   "cell_type": "code",
   "execution_count": 10,
   "metadata": {},
   "outputs": [
    {
     "data": {
      "application/javascript": [
       "window.open(\"http://40.127.98.81:7474\");"
      ],
      "text/plain": [
       "<IPython.core.display.Javascript object>"
      ]
     },
     "metadata": {},
     "output_type": "display_data"
    }
   ],
   "source": [
    "# open neo4j browser\n",
    "display(Javascript('window.open(\"{url}\");'.format(url=\"http://\"+server+\":7474\")))"
   ]
  },
  {
   "cell_type": "markdown",
   "metadata": {},
   "source": [
    "## Data\n",
    "**[download](https://www.kaggle.com/zynicide/wine-reviews/data?select=winemag-data_first150k.csv)** original dataset from kaggle `winemag-data_first150k.csv`  \n",
    "**[download](https://www.kaggle.com/zynicide/wine-reviews/data)** updated dataset from kaggle `winemag-data-130k-v2.csv`  \n",
    "**[download](https://raw.githubusercontent.com/lju-lazarevic/wine/tree/master/data/winemag-data-130k-v2.csv)** updated dataset from github `winemag-data-130k-v2.csv`  \n",
    "**[download](https://raw.githubusercontent.com/lju-lazarevic/wine/master/data/winemag-data-130k-v3.csv)** cleaned dataset from github `winemag-data-130k-v3.csv`  "
   ]
  },
  {
   "cell_type": "code",
   "execution_count": 11,
   "metadata": {},
   "outputs": [],
   "source": [
    "# load cleaned dataset (v3) data (URL)\n",
    "dataset = \"https://raw.githubusercontent.com/lju-lazarevic/wine/master/data/winemag-data-130k-v3.csv\"\n",
    "prep = pd.read_csv(dataset)"
   ]
  },
  {
   "cell_type": "markdown",
   "metadata": {},
   "source": [
    "### definitions"
   ]
  },
  {
   "cell_type": "markdown",
   "metadata": {},
   "source": [
    "|Header|Sample|Description|\n",
    "|-|-|-|\n",
    "|id|14952|unique id of each record|\n",
    "|country|France|the country that the wine is from|\n",
    "|description|This is the latest wine from the popular Whispering Angel rosé|description of the tasting features of the wine|\n",
    "|designation|Rock Angel|vineyard within the winery. <br> a winery may have more than one vineyard|\n",
    "|points|91|points the wine taster rated on a scale 1 to 100|\n",
    "|price|35.0|the cost for a bottle of the wine in $ dollars|\n",
    "|province|Provence|the province or state that the wine is from|\n",
    "|region_1|Côtes de Provence|the wine growing area in a province or state|\n",
    "|region_2|NaN|more specific region within a growing area|\n",
    "|taster_name|Roger Voss|name of the taster|\n",
    "|taster_twitter_handle|@vossroger|taster's twitter handle|\n",
    "|title|Château d'Esclans 2016 Rock Angel Rosé (Côtes de Provence)|the title of the wine review|\n",
    "|variety|Rosé|the type of grapes used to make the wine|\n",
    "|winery|Château d'Esclans|the winery that made the wine|\n"
   ]
  },
  {
   "cell_type": "markdown",
   "metadata": {},
   "source": [
    "### exploring\n",
    "Generate an interactive and static report about the data."
   ]
  },
  {
   "cell_type": "code",
   "execution_count": 12,
   "metadata": {},
   "outputs": [
    {
     "name": "stdout",
     "output_type": "stream",
     "text": [
      "<class 'pandas.core.frame.DataFrame'>\n",
      "RangeIndex: 119988 entries, 0 to 119987\n",
      "Data columns (total 14 columns):\n",
      " #   Column                 Non-Null Count   Dtype  \n",
      "---  ------                 --------------   -----  \n",
      " 0   id                     119988 non-null  int64  \n",
      " 1   country                119929 non-null  object \n",
      " 2   description            119988 non-null  object \n",
      " 3   designation            85443 non-null   object \n",
      " 4   points                 119988 non-null  int64  \n",
      " 5   price                  111593 non-null  float64\n",
      " 6   province               119929 non-null  object \n",
      " 7   region_1               100428 non-null  object \n",
      " 8   region_2               46769 non-null   object \n",
      " 9   taster_name            95071 non-null   object \n",
      " 10  taster_twitter_handle  90542 non-null   object \n",
      " 11  title                  119988 non-null  object \n",
      " 12  variety                119987 non-null  object \n",
      " 13  winery                 119988 non-null  object \n",
      "dtypes: float64(1), int64(2), object(11)\n",
      "memory usage: 12.8+ MB\n"
     ]
    }
   ],
   "source": [
    "# concise summary information\n",
    "prep.info()"
   ]
  },
  {
   "cell_type": "code",
   "execution_count": 13,
   "metadata": {},
   "outputs": [
    {
     "data": {
      "text/plain": [
       "(119988, 14)"
      ]
     },
     "execution_count": 13,
     "metadata": {},
     "output_type": "execute_result"
    }
   ],
   "source": [
    "# dimensionality (rows, columns)\n",
    "prep.shape"
   ]
  },
  {
   "cell_type": "code",
   "execution_count": 14,
   "metadata": {},
   "outputs": [
    {
     "data": {
      "text/plain": [
       "id                       119988\n",
       "description              119955\n",
       "title                    118840\n",
       "designation               37977\n",
       "winery                    16757\n",
       "region_1                   1230\n",
       "variety                     708\n",
       "province                    426\n",
       "price                       391\n",
       "country                      44\n",
       "points                       21\n",
       "taster_name                  20\n",
       "region_2                     18\n",
       "taster_twitter_handle        16\n",
       "dtype: int64"
      ]
     },
     "execution_count": 14,
     "metadata": {},
     "output_type": "execute_result"
    }
   ],
   "source": [
    "# count distinct (=unique) observations (+ missing), sorted (high cardinality > 390)\n",
    "prep.nunique(dropna=False).sort_values(ascending=False)"
   ]
  },
  {
   "cell_type": "code",
   "execution_count": 15,
   "metadata": {},
   "outputs": [
    {
     "data": {
      "text/plain": [
       "id                        0.0\n",
       "country                   0.0\n",
       "description               0.0\n",
       "points                    0.0\n",
       "province                  0.0\n",
       "title                     0.0\n",
       "variety                   0.0\n",
       "winery                    0.0\n",
       "price                     7.0\n",
       "region_1                 16.3\n",
       "taster_name              20.8\n",
       "taster_twitter_handle    24.5\n",
       "designation              28.8\n",
       "region_2                 61.0\n",
       "dtype: float64"
      ]
     },
     "execution_count": 15,
     "metadata": {},
     "output_type": "execute_result"
    }
   ],
   "source": [
    "# count missing values, sorted (high missing > 5%)\n",
    "prep.isnull().apply(lambda x: x.sum() * 100 / len(prep)).round(1).sort_values(ascending=True)"
   ]
  },
  {
   "cell_type": "markdown",
   "metadata": {},
   "source": [
    "### modeling\n",
    "**suggestions:**  \n",
    " * high cardinality can be used as node Properties, because Properties make your graph less complex\n",
    " * low cardinality can be used as nodes, because a query on Properties will check all Nodes, less lookups and faster\n",
    " * neo4j can not work with null values\n",
    "   * high missing values need to be renamed `df.fillna('No Country')`\n",
    "   ```python\n",
    "   prep['country'] = prep['country'].fillna('No Country')\n",
    "   ```\n",
    "   * low missing values need to be excluded `WHERE price <> \"\"`\n",
    "   ```cypher\n",
    "   USING PERIODIC COMMIT 1000\n",
    "   LOAD CSV WITH HEADERS FROM 'file:///winedata.csv' AS line FIELDTERMINATOR ','\n",
    "   WITH line.price AS price, line.title AS wine WHERE price <> \"\"\n",
    "   ```\n",
    " * datamodel is designed to what questions you are going answer\n",
    " * Nodes are subject entities\n",
    " * Properties are metadata\n",
    " * Relationships are the verbs, each value between the same record is connected\n",
    " * use MATCH when the arrow leaves the Node, then MERGE were the arrow arrives the Node\n",
    " * save cleaned dataset to `neo4j/import` in CSV format\n",
    " "
   ]
  },
  {
   "cell_type": "markdown",
   "metadata": {},
   "source": [
    "### cleaning"
   ]
  },
  {
   "cell_type": "code",
   "execution_count": 16,
   "metadata": {},
   "outputs": [
    {
     "name": "stderr",
     "output_type": "stream",
     "text": [
      "<timed exec>:15: FutureWarning: The default value of regex will change from True to False in a future version.\n",
      "<timed exec>:16: FutureWarning: The default value of regex will change from True to False in a future version.\n"
     ]
    },
    {
     "name": "stdout",
     "output_type": "stream",
     "text": [
      "CPU times: user 9.62 s, sys: 89.6 ms, total: 9.71 s\n",
      "Wall time: 10 s\n"
     ]
    }
   ],
   "source": [
    "%%time\n",
    "# replace nan\n",
    "prep['winery'] = prep['winery'].fillna('No Winery')\n",
    "prep['province'] = prep['province'].fillna('No Province')\n",
    "prep['country'] = prep['country'].fillna('No Country')\n",
    "prep['designation'] = prep['designation'].fillna('No Designation')\n",
    "prep['taster_name'] = prep['taster_name'].fillna('No Taster')\n",
    "prep['variety'] = prep['variety'].fillna('No Variety')\n",
    "prep['title'] = prep['title'].fillna('No Title')\n",
    "\n",
    "# extract years 1970-2119\n",
    "prep['year'] = prep['title'].str.extract(\"(([2][0-1][0-1][0-9])|([1][9][7-9][0-9]))\")[0]\n",
    "prep['year'] = prep['year'].fillna('No Year')\n",
    "\n",
    "# remove 4-digits and double-space\n",
    "prep['wine_group'] = prep['title'].str.replace(\"(\\d{4})\", '') # remove 4-digit and 1-space\n",
    "prep['wine_group'] = prep['wine_group'].str.replace(\"([ ]{2,})\", ' ') # replace 2 or more spaces into 1-space\n",
    "\n",
    "# tokenize variety_name on dashes or spaces\n",
    "prep['variety_name'] = prep['variety'].str.lower().str.split('[ ]|[-]')\n",
    "\n",
    "# clean up: \n",
    "#  * different spellings for the same grape, e.g. Aragonez and Aragonês\n",
    "#  * different names for the same grape, e.g. Syrah and Shiraz\n",
    "#  * different ordering of wine blends, e.g. Cabernet-Shiraz and Shiraz-Cabernet\n",
    "list_of_strings = prep['variety'].unique().tolist()\n",
    "# look for the best match, return one similar strings with score\n",
    "score_set = [(one_string,) + i\n",
    "             for one_string in list_of_strings\n",
    "             for i in process.extract(one_string, list_of_strings, scorer=fuzz.partial_token_sort_ratio, limit=1)]\n",
    "oldstr_newstr_map = dict([(oldstr, newstr) for oldstr, newstr, score in score_set])\n",
    "# overwrite variety, substitute each value\n",
    "prep[\"variety\"] = prep['variety'].map(oldstr_newstr_map)\n",
    "\n",
    "# prep['price'] = prep['price'].fillna('No Price') # you can not allow a string, keep it all integers\n",
    "\n",
    "# save file to /import\n",
    "file = \"winedata.csv\"\n",
    "prep.to_csv(\"../../neo4j/import/\"+file, sep=',', index=False)"
   ]
  },
  {
   "cell_type": "code",
   "execution_count": 17,
   "metadata": {},
   "outputs": [
    {
     "name": "stdout",
     "output_type": "stream",
     "text": [
      "CPU times: user 3.22 s, sys: 400 ms, total: 3.62 s\n",
      "Wall time: 3.53 s\n"
     ]
    }
   ],
   "source": [
    "%%time\n",
    "# load data captured using Azure cognitive services\n",
    "entities = pd.read_parquet(\"../../data/bronze/winegraph/description_entities.parquet\")\n",
    "\n",
    "# clean\n",
    "entities = entities.drop(columns=['entities', 'entity_confidence_score'])\n",
    "entities = entities[(entities['entity_category'] == 'Event')| \\\n",
    "                    (entities['entity_category'] == 'Location')| \\\n",
    "                    (entities['entity_category'] == 'Product')]\n",
    "\n",
    "# save file to /import\n",
    "file2 = \"description_entities.csv\"\n",
    "entities.to_csv(\"../../neo4j/import/\"+file2, sep=',', index=False)"
   ]
  },
  {
   "cell_type": "markdown",
   "metadata": {},
   "source": [
    "## Import\n",
    " 1. create datamodel\n",
    " 1. create index\n",
    " 1. create nodes\n",
    " 1. create relationships"
   ]
  },
  {
   "cell_type": "markdown",
   "metadata": {},
   "source": [
    "[link to Arrows for data modeling](http://www.apcjones.com/arrows/#)  \n",
    "[arrows source code](../../docs/datagraph/howto_graph_datamodel1.markup)  \n",
    "\n",
    "![datamodel1](../../image/howto_graph/datamodel1.png)"
   ]
  },
  {
   "cell_type": "code",
   "execution_count": 18,
   "metadata": {},
   "outputs": [
    {
     "data": {
      "text/html": [
       "<div>\n",
       "<style scoped>\n",
       "    .dataframe tbody tr th:only-of-type {\n",
       "        vertical-align: middle;\n",
       "    }\n",
       "\n",
       "    .dataframe tbody tr th {\n",
       "        vertical-align: top;\n",
       "    }\n",
       "\n",
       "    .dataframe thead th {\n",
       "        text-align: right;\n",
       "    }\n",
       "</style>\n",
       "<table border=\"1\" class=\"dataframe\">\n",
       "  <thead>\n",
       "    <tr style=\"text-align: right;\">\n",
       "      <th></th>\n",
       "      <th>id</th>\n",
       "      <th>winery</th>\n",
       "      <th>province</th>\n",
       "      <th>country</th>\n",
       "    </tr>\n",
       "  </thead>\n",
       "  <tbody>\n",
       "    <tr>\n",
       "      <th>117671</th>\n",
       "      <td>127202</td>\n",
       "      <td>Pali</td>\n",
       "      <td>California</td>\n",
       "      <td>US</td>\n",
       "    </tr>\n",
       "  </tbody>\n",
       "</table>\n",
       "</div>"
      ],
      "text/plain": [
       "            id winery    province country\n",
       "117671  127202   Pali  California      US"
      ]
     },
     "execution_count": 18,
     "metadata": {},
     "output_type": "execute_result"
    }
   ],
   "source": [
    "prep.iloc[[117671]][[\"id\", \"winery\", \"province\", \"country\"]]"
   ]
  },
  {
   "cell_type": "code",
   "execution_count": 19,
   "metadata": {},
   "outputs": [
    {
     "data": {
      "text/plain": [
       "constraints_added: 0\n",
       "constraints_removed: 0\n",
       "contains_updates: True\n",
       "indexes_added: 0\n",
       "indexes_removed: 0\n",
       "labels_added: 17227\n",
       "labels_removed: 0\n",
       "nodes_created: 17227\n",
       "nodes_deleted: 0\n",
       "properties_set: 17227\n",
       "relationships_created: 19481\n",
       "relationships_deleted: 0"
      ]
     },
     "metadata": {},
     "output_type": "display_data"
    },
    {
     "name": "stdout",
     "output_type": "stream",
     "text": [
      "CPU times: user 7.25 ms, sys: 0 ns, total: 7.25 ms\n",
      "Wall time: 19.4 s\n"
     ]
    }
   ],
   "source": [
    "%%time\n",
    "# graph.run(\"\"\"CREATE INDEX ON :Winery(name)\"\"\")\n",
    "# graph.run(\"\"\"CREATE INDEX ON :Province(name)\"\"\")\n",
    "# graph.run(\"\"\"CREATE INDEX ON :Country(name)\"\"\")\n",
    "graph.run(\"CREATE CONSTRAINT ON (w:Winery) ASSERT w.name IS UNIQUE\")\n",
    "graph.run(\"CREATE CONSTRAINT ON (p:Province) ASSERT p.name IS UNIQUE\")\n",
    "graph.run(\"CREATE CONSTRAINT ON (c:Country) ASSERT c.name IS UNIQUE\")\n",
    "query = \"\"\"\n",
    "USING PERIODIC COMMIT 1000\n",
    "LOAD CSV WITH HEADERS FROM 'file:///\"\"\"+file+\"\"\"' AS line FIELDTERMINATOR ','\n",
    "MERGE (w:Winery {name:(line.winery)})\n",
    "MERGE (p:Province {name:(line.province)})\n",
    "MERGE (c:Country {name:(line.country)})\n",
    "MERGE (w)-[:FROM_PROVENCE]->(p)\n",
    "MERGE (p)-[:PROVINCE_COUNTRY]->(c)\n",
    "\"\"\"\n",
    "display(graph.run(query).stats())"
   ]
  },
  {
   "cell_type": "markdown",
   "metadata": {},
   "source": [
    "[link to Arrows for data modeling](http://www.apcjones.com/arrows/#)  \n",
    "[arrows source code](../../docs/datagraph/howto_graph_datamodel2.markup)  \n",
    "\n",
    "![datamodel2](../../image/howto_graph/datamodel2.png)"
   ]
  },
  {
   "cell_type": "code",
   "execution_count": 20,
   "metadata": {},
   "outputs": [
    {
     "data": {
      "text/html": [
       "<div>\n",
       "<style scoped>\n",
       "    .dataframe tbody tr th:only-of-type {\n",
       "        vertical-align: middle;\n",
       "    }\n",
       "\n",
       "    .dataframe tbody tr th {\n",
       "        vertical-align: top;\n",
       "    }\n",
       "\n",
       "    .dataframe thead th {\n",
       "        text-align: right;\n",
       "    }\n",
       "</style>\n",
       "<table border=\"1\" class=\"dataframe\">\n",
       "  <thead>\n",
       "    <tr style=\"text-align: right;\">\n",
       "      <th></th>\n",
       "      <th>id</th>\n",
       "      <th>title</th>\n",
       "      <th>winery</th>\n",
       "      <th>designation</th>\n",
       "      <th>country</th>\n",
       "    </tr>\n",
       "  </thead>\n",
       "  <tbody>\n",
       "    <tr>\n",
       "      <th>117671</th>\n",
       "      <td>127202</td>\n",
       "      <td>Pali 2014 Radian Vineyard Pinot Noir (Sta. Rita Hills)</td>\n",
       "      <td>Pali</td>\n",
       "      <td>Radian Vineyard</td>\n",
       "      <td>US</td>\n",
       "    </tr>\n",
       "  </tbody>\n",
       "</table>\n",
       "</div>"
      ],
      "text/plain": [
       "            id                                                   title winery  \\\n",
       "117671  127202  Pali 2014 Radian Vineyard Pinot Noir (Sta. Rita Hills)   Pali   \n",
       "\n",
       "            designation country  \n",
       "117671  Radian Vineyard      US  "
      ]
     },
     "execution_count": 20,
     "metadata": {},
     "output_type": "execute_result"
    }
   ],
   "source": [
    "prep.iloc[[117671]][[\"id\", \"title\", \"winery\", \"designation\", \"country\"]]"
   ]
  },
  {
   "cell_type": "code",
   "execution_count": 21,
   "metadata": {},
   "outputs": [
    {
     "data": {
      "text/plain": [
       "constraints_added: 0\n",
       "constraints_removed: 0\n",
       "contains_updates: True\n",
       "indexes_added: 0\n",
       "indexes_removed: 0\n",
       "labels_added: 157965\n",
       "labels_removed: 0\n",
       "nodes_created: 157965\n",
       "nodes_deleted: 0\n",
       "properties_set: 277953\n",
       "relationships_created: 239976\n",
       "relationships_deleted: 0"
      ]
     },
     "metadata": {},
     "output_type": "display_data"
    },
    {
     "name": "stdout",
     "output_type": "stream",
     "text": [
      "CPU times: user 0 ns, sys: 5.23 ms, total: 5.23 ms\n",
      "Wall time: 22.7 s\n"
     ]
    }
   ],
   "source": [
    "%%time\n",
    "# graph.run(\"\"\"CREATE INDEX ON :Wine(id)\"\"\")\n",
    "# graph.run(\"\"\"CREATE INDEX ON :Designation(name)\"\"\")\n",
    "graph.run(\"CREATE CONSTRAINT ON (w:Wine) ASSERT w.id IS UNIQUE\")\n",
    "# graph.run(\"CREATE CONSTRAINT ON (t:Taster) ASSERT t.name IS UNIQUE\")\n",
    "# graph.run(\"CREATE CONSTRAINT ON (v:Variety) ASSERT v.name IS UNIQUE\")\n",
    "graph.run(\"CREATE CONSTRAINT ON (d:Designation) ASSERT d.name IS UNIQUE\")\n",
    "query = \"\"\"\n",
    "USING PERIODIC COMMIT 1000\n",
    "LOAD CSV WITH HEADERS FROM 'file:///\"\"\"+file+\"\"\"' AS line FIELDTERMINATOR ','\n",
    "MATCH (winery:Winery {name:(line.winery)})\n",
    "MERGE (d:Designation {name:(line.designation)})\n",
    "MERGE (wine:Wine {id:(line.id), name:(line.title)})\n",
    "MERGE (wine)-[:FROM_WINERY]->(winery)\n",
    "MERGE (wine)-[:HAS_DESIGNATION]->(d)\n",
    "\"\"\"\n",
    "display(graph.run(query).stats())"
   ]
  },
  {
   "cell_type": "markdown",
   "metadata": {},
   "source": [
    "[link to Arrows for data modeling](http://www.apcjones.com/arrows/#)  \n",
    "[arrows source code](../../docs/datagraph/howto_graph_datamodel3.markup)  \n",
    "\n",
    "![datamodel3](../../image/howto_graph/datamodel3.png)"
   ]
  },
  {
   "cell_type": "code",
   "execution_count": 22,
   "metadata": {},
   "outputs": [
    {
     "data": {
      "text/html": [
       "<div>\n",
       "<style scoped>\n",
       "    .dataframe tbody tr th:only-of-type {\n",
       "        vertical-align: middle;\n",
       "    }\n",
       "\n",
       "    .dataframe tbody tr th {\n",
       "        vertical-align: top;\n",
       "    }\n",
       "\n",
       "    .dataframe thead th {\n",
       "        text-align: right;\n",
       "    }\n",
       "</style>\n",
       "<table border=\"1\" class=\"dataframe\">\n",
       "  <thead>\n",
       "    <tr style=\"text-align: right;\">\n",
       "      <th></th>\n",
       "      <th>id</th>\n",
       "      <th>title</th>\n",
       "      <th>year</th>\n",
       "      <th>wine_group</th>\n",
       "    </tr>\n",
       "  </thead>\n",
       "  <tbody>\n",
       "    <tr>\n",
       "      <th>117671</th>\n",
       "      <td>127202</td>\n",
       "      <td>Pali 2014 Radian Vineyard Pinot Noir (Sta. Rita Hills)</td>\n",
       "      <td>2014</td>\n",
       "      <td>Pali Radian Vineyard Pinot Noir (Sta. Rita Hills)</td>\n",
       "    </tr>\n",
       "  </tbody>\n",
       "</table>\n",
       "</div>"
      ],
      "text/plain": [
       "            id                                                   title  year  \\\n",
       "117671  127202  Pali 2014 Radian Vineyard Pinot Noir (Sta. Rita Hills)  2014   \n",
       "\n",
       "                                               wine_group  \n",
       "117671  Pali Radian Vineyard Pinot Noir (Sta. Rita Hills)  "
      ]
     },
     "execution_count": 22,
     "metadata": {},
     "output_type": "execute_result"
    }
   ],
   "source": [
    "prep.iloc[[117671]][[\"id\", \"title\", \"year\", \"wine_group\"]]"
   ]
  },
  {
   "cell_type": "code",
   "execution_count": 23,
   "metadata": {},
   "outputs": [
    {
     "data": {
      "text/plain": [
       "constraints_added: 0\n",
       "constraints_removed: 0\n",
       "contains_updates: True\n",
       "indexes_added: 0\n",
       "indexes_removed: 0\n",
       "labels_added: 81730\n",
       "labels_removed: 0\n",
       "nodes_created: 81730\n",
       "nodes_deleted: 0\n",
       "properties_set: 81730\n",
       "relationships_created: 239976\n",
       "relationships_deleted: 0"
      ]
     },
     "metadata": {},
     "output_type": "display_data"
    },
    {
     "name": "stdout",
     "output_type": "stream",
     "text": [
      "CPU times: user 4.18 ms, sys: 10 µs, total: 4.19 ms\n",
      "Wall time: 13.8 s\n"
     ]
    }
   ],
   "source": [
    "%%time\n",
    "# graph.run(\"\"\"CREATE INDEX ON :Year(value)\"\"\")\n",
    "# graph.run(\"\"\"CREATE INDEX ON :WineGroup(name)\"\"\")\n",
    "graph.run(\"CREATE CONSTRAINT ON (y:Year) ASSERT y.value IS UNIQUE\")\n",
    "graph.run(\"CREATE CONSTRAINT ON (wg:WineGroup) ASSERT wg.name IS UNIQUE\")\n",
    "query = \"\"\"\n",
    "USING PERIODIC COMMIT 1000\n",
    "LOAD CSV WITH HEADERS FROM 'file:///\"\"\"+file+\"\"\"' AS line FIELDTERMINATOR ','\n",
    "MATCH (w:Wine {id:(line.id)})\n",
    "MERGE (y:Year {value:(line.year)})\n",
    "MERGE (wg:WineGroup {name:(line.wine_group)})\n",
    "MERGE (w)-[:FROM_YEAR]->(y)\n",
    "MERGE (w)-[:IN_WINE_GROUP]->(wg)\n",
    "\"\"\"\n",
    "display(graph.run(query).stats())"
   ]
  },
  {
   "cell_type": "markdown",
   "metadata": {},
   "source": [
    "[link to Arrows for data modeling](http://www.apcjones.com/arrows/#)  \n",
    "[arrows source code](../../docs/datagraph/howto_graph_datamodel4.markup)  \n",
    "\n",
    "![datamodel4](../../image/howto_graph/datamodel4.png)"
   ]
  },
  {
   "cell_type": "code",
   "execution_count": 24,
   "metadata": {},
   "outputs": [
    {
     "data": {
      "text/html": [
       "<div>\n",
       "<style scoped>\n",
       "    .dataframe tbody tr th:only-of-type {\n",
       "        vertical-align: middle;\n",
       "    }\n",
       "\n",
       "    .dataframe tbody tr th {\n",
       "        vertical-align: top;\n",
       "    }\n",
       "\n",
       "    .dataframe thead th {\n",
       "        text-align: right;\n",
       "    }\n",
       "</style>\n",
       "<table border=\"1\" class=\"dataframe\">\n",
       "  <thead>\n",
       "    <tr style=\"text-align: right;\">\n",
       "      <th></th>\n",
       "      <th>id</th>\n",
       "      <th>title</th>\n",
       "      <th>variety</th>\n",
       "      <th>variety_name</th>\n",
       "    </tr>\n",
       "  </thead>\n",
       "  <tbody>\n",
       "    <tr>\n",
       "      <th>117671</th>\n",
       "      <td>127202</td>\n",
       "      <td>Pali 2014 Radian Vineyard Pinot Noir (Sta. Rita Hills)</td>\n",
       "      <td>Pinot Noir</td>\n",
       "      <td>[pinot, noir]</td>\n",
       "    </tr>\n",
       "  </tbody>\n",
       "</table>\n",
       "</div>"
      ],
      "text/plain": [
       "            id                                                   title  \\\n",
       "117671  127202  Pali 2014 Radian Vineyard Pinot Noir (Sta. Rita Hills)   \n",
       "\n",
       "           variety   variety_name  \n",
       "117671  Pinot Noir  [pinot, noir]  "
      ]
     },
     "execution_count": 24,
     "metadata": {},
     "output_type": "execute_result"
    }
   ],
   "source": [
    "prep.iloc[[117671]][[\"id\", \"title\", \"variety\", \"variety_name\"]]"
   ]
  },
  {
   "cell_type": "code",
   "execution_count": 25,
   "metadata": {},
   "outputs": [
    {
     "data": {
      "text/plain": [
       "constraints_added: 0\n",
       "constraints_removed: 0\n",
       "contains_updates: True\n",
       "indexes_added: 0\n",
       "indexes_removed: 0\n",
       "labels_added: 1016\n",
       "labels_removed: 0\n",
       "nodes_created: 1016\n",
       "nodes_deleted: 0\n",
       "properties_set: 1016\n",
       "relationships_created: 120807\n",
       "relationships_deleted: 0"
      ]
     },
     "metadata": {},
     "output_type": "display_data"
    },
    {
     "name": "stdout",
     "output_type": "stream",
     "text": [
      "CPU times: user 240 µs, sys: 3.77 ms, total: 4.01 ms\n",
      "Wall time: 16 s\n"
     ]
    }
   ],
   "source": [
    "%%time\n",
    "# create wine, variety and relationships\n",
    "# graph.run(\"\"\"CREATE INDEX ON :Variety(name)\"\"\")\n",
    "# graph.run(\"\"\"CREATE INDEX ON :VarietyName(name)\"\"\")\n",
    "graph.run(\"CREATE CONSTRAINT ON (v:Variety) ASSERT v.name IS UNIQUE\")\n",
    "graph.run(\"CREATE CONSTRAINT ON (vn:VarietyName) ASSERT vn.name IS UNIQUE\")\n",
    "query = \"\"\"\n",
    "USING PERIODIC COMMIT 1000\n",
    "LOAD CSV WITH HEADERS FROM 'file:///\"\"\"+file+\"\"\"' AS line FIELDTERMINATOR ','\n",
    "MATCH (w:Wine {id:(line.id)})\n",
    "UNWIND apoc.text.split(line.variety_name, \",\") AS varnamelist\n",
    "FOREACH (varname IN varnamelist|\n",
    " MERGE (v:Variety {name:(line.variety)})\n",
    " MERGE (vn:VarietyName {name:apoc.text.clean(varname)})\n",
    " MERGE (w)-[:HAS_VARIETY]->(v)\n",
    " MERGE (vn)-[:IS_COMPONENT_OF]->(v)\n",
    " )\n",
    "\"\"\"\n",
    "display(graph.run(query).stats())"
   ]
  },
  {
   "cell_type": "markdown",
   "metadata": {},
   "source": [
    "[link to Arrows for data modeling](http://www.apcjones.com/arrows/#)  \n",
    "[arrows source code](../../docs/datagraph/howto_graph_datamodel5.markup)  \n",
    "\n",
    "![datamodel5](../../image/howto_graph/datamodel5.png)"
   ]
  },
  {
   "cell_type": "code",
   "execution_count": 26,
   "metadata": {},
   "outputs": [
    {
     "data": {
      "text/html": [
       "<div>\n",
       "<style scoped>\n",
       "    .dataframe tbody tr th:only-of-type {\n",
       "        vertical-align: middle;\n",
       "    }\n",
       "\n",
       "    .dataframe tbody tr th {\n",
       "        vertical-align: top;\n",
       "    }\n",
       "\n",
       "    .dataframe thead th {\n",
       "        text-align: right;\n",
       "    }\n",
       "</style>\n",
       "<table border=\"1\" class=\"dataframe\">\n",
       "  <thead>\n",
       "    <tr style=\"text-align: right;\">\n",
       "      <th></th>\n",
       "      <th>id</th>\n",
       "      <th>title</th>\n",
       "      <th>description</th>\n",
       "    </tr>\n",
       "  </thead>\n",
       "  <tbody>\n",
       "    <tr>\n",
       "      <th>117671</th>\n",
       "      <td>127202</td>\n",
       "      <td>Pali 2014 Radian Vineyard Pinot Noir (Sta. Rita Hills)</td>\n",
       "      <td>From one of the most impressive vineyards located at the region's far-western edge, this bottlin...</td>\n",
       "    </tr>\n",
       "  </tbody>\n",
       "</table>\n",
       "</div>"
      ],
      "text/plain": [
       "            id                                                   title  \\\n",
       "117671  127202  Pali 2014 Radian Vineyard Pinot Noir (Sta. Rita Hills)   \n",
       "\n",
       "                                                                                                description  \n",
       "117671  From one of the most impressive vineyards located at the region's far-western edge, this bottlin...  "
      ]
     },
     "execution_count": 26,
     "metadata": {},
     "output_type": "execute_result"
    }
   ],
   "source": [
    "prep.iloc[[117671]][[\"id\", \"title\", \"description\"]]"
   ]
  },
  {
   "cell_type": "code",
   "execution_count": 27,
   "metadata": {},
   "outputs": [
    {
     "data": {
      "text/plain": [
       "constraints_added: 0\n",
       "constraints_removed: 0\n",
       "contains_updates: True\n",
       "indexes_added: 0\n",
       "indexes_removed: 0\n",
       "labels_added: 119955\n",
       "labels_removed: 0\n",
       "nodes_created: 119955\n",
       "nodes_deleted: 0\n",
       "properties_set: 119955\n",
       "relationships_created: 119988\n",
       "relationships_deleted: 0"
      ]
     },
     "metadata": {},
     "output_type": "display_data"
    },
    {
     "name": "stdout",
     "output_type": "stream",
     "text": [
      "CPU times: user 4.02 ms, sys: 1 µs, total: 4.02 ms\n",
      "Wall time: 13.5 s\n"
     ]
    }
   ],
   "source": [
    "%%time\n",
    "# graph.run(\"\"\"CREATE INDEX ON :Description(value)\"\"\")\n",
    "graph.run(\"CREATE CONSTRAINT ON (d:Description) ASSERT d.value IS UNIQUE\")\n",
    "query = \"\"\"\n",
    "USING PERIODIC COMMIT 1000\n",
    "LOAD CSV WITH HEADERS FROM 'file:///\"\"\"+file+\"\"\"' AS line FIELDTERMINATOR ','\n",
    "MATCH (w:Wine {id:(line.id)})\n",
    "MERGE (d:Description {value:(line.description)})\n",
    "MERGE (w)-[:HAS_DESCRIPTION]->(d)\n",
    "\"\"\"\n",
    "display(graph.run(query).stats())"
   ]
  },
  {
   "cell_type": "markdown",
   "metadata": {},
   "source": [
    "[link to Arrows for data modeling](http://www.apcjones.com/arrows/#)  \n",
    "[arrows source code](../../docs/datagraph/howto_graph_datamodel6.markup)  \n",
    "\n",
    "![datamodel6](../../image/howto_graph/datamodel6.png)"
   ]
  },
  {
   "cell_type": "code",
   "execution_count": 28,
   "metadata": {},
   "outputs": [
    {
     "name": "stdout",
     "output_type": "stream",
     "text": [
      "117671    From one of the most impressive vineyards located at the region's far-western edge, this bottlin...\n",
      "Name: description, dtype: object\n"
     ]
    },
    {
     "data": {
      "text/html": [
       "<div>\n",
       "<style scoped>\n",
       "    .dataframe tbody tr th:only-of-type {\n",
       "        vertical-align: middle;\n",
       "    }\n",
       "\n",
       "    .dataframe tbody tr th {\n",
       "        vertical-align: top;\n",
       "    }\n",
       "\n",
       "    .dataframe thead th {\n",
       "        text-align: right;\n",
       "    }\n",
       "</style>\n",
       "<table border=\"1\" class=\"dataframe\">\n",
       "  <thead>\n",
       "    <tr style=\"text-align: right;\">\n",
       "      <th></th>\n",
       "      <th>document</th>\n",
       "      <th>entity_text</th>\n",
       "      <th>entity_category</th>\n",
       "    </tr>\n",
       "  </thead>\n",
       "  <tbody>\n",
       "    <tr>\n",
       "      <th>489244</th>\n",
       "      <td>From one of the most impressive vineyards located at the region's far-western edge, this bottlin...</td>\n",
       "      <td>vineyards</td>\n",
       "      <td>Location</td>\n",
       "    </tr>\n",
       "    <tr>\n",
       "      <th>489246</th>\n",
       "      <td>From one of the most impressive vineyards located at the region's far-western edge, this bottlin...</td>\n",
       "      <td>pomegranate</td>\n",
       "      <td>Product</td>\n",
       "    </tr>\n",
       "    <tr>\n",
       "      <th>489247</th>\n",
       "      <td>From one of the most impressive vineyards located at the region's far-western edge, this bottlin...</td>\n",
       "      <td>dried fennel</td>\n",
       "      <td>Product</td>\n",
       "    </tr>\n",
       "    <tr>\n",
       "      <th>489248</th>\n",
       "      <td>From one of the most impressive vineyards located at the region's far-western edge, this bottlin...</td>\n",
       "      <td>mint</td>\n",
       "      <td>Product</td>\n",
       "    </tr>\n",
       "    <tr>\n",
       "      <th>489249</th>\n",
       "      <td>From one of the most impressive vineyards located at the region's far-western edge, this bottlin...</td>\n",
       "      <td>light tobacco</td>\n",
       "      <td>Product</td>\n",
       "    </tr>\n",
       "    <tr>\n",
       "      <th>489250</th>\n",
       "      <td>From one of the most impressive vineyards located at the region's far-western edge, this bottlin...</td>\n",
       "      <td>sesame</td>\n",
       "      <td>Product</td>\n",
       "    </tr>\n",
       "    <tr>\n",
       "      <th>489251</th>\n",
       "      <td>From one of the most impressive vineyards located at the region's far-western edge, this bottlin...</td>\n",
       "      <td>thyme</td>\n",
       "      <td>Product</td>\n",
       "    </tr>\n",
       "    <tr>\n",
       "      <th>489252</th>\n",
       "      <td>From one of the most impressive vineyards located at the region's far-western edge, this bottlin...</td>\n",
       "      <td>minty eucalyptus flavor</td>\n",
       "      <td>Product</td>\n",
       "    </tr>\n",
       "    <tr>\n",
       "      <th>489253</th>\n",
       "      <td>From one of the most impressive vineyards located at the region's far-western edge, this bottlin...</td>\n",
       "      <td>candied cherries</td>\n",
       "      <td>Product</td>\n",
       "    </tr>\n",
       "    <tr>\n",
       "      <th>489254</th>\n",
       "      <td>From one of the most impressive vineyards located at the region's far-western edge, this bottlin...</td>\n",
       "      <td>fruit</td>\n",
       "      <td>Product</td>\n",
       "    </tr>\n",
       "  </tbody>\n",
       "</table>\n",
       "</div>"
      ],
      "text/plain": [
       "                                                                                                   document  \\\n",
       "489244  From one of the most impressive vineyards located at the region's far-western edge, this bottlin...   \n",
       "489246  From one of the most impressive vineyards located at the region's far-western edge, this bottlin...   \n",
       "489247  From one of the most impressive vineyards located at the region's far-western edge, this bottlin...   \n",
       "489248  From one of the most impressive vineyards located at the region's far-western edge, this bottlin...   \n",
       "489249  From one of the most impressive vineyards located at the region's far-western edge, this bottlin...   \n",
       "489250  From one of the most impressive vineyards located at the region's far-western edge, this bottlin...   \n",
       "489251  From one of the most impressive vineyards located at the region's far-western edge, this bottlin...   \n",
       "489252  From one of the most impressive vineyards located at the region's far-western edge, this bottlin...   \n",
       "489253  From one of the most impressive vineyards located at the region's far-western edge, this bottlin...   \n",
       "489254  From one of the most impressive vineyards located at the region's far-western edge, this bottlin...   \n",
       "\n",
       "                    entity_text entity_category  \n",
       "489244                vineyards        Location  \n",
       "489246              pomegranate         Product  \n",
       "489247             dried fennel         Product  \n",
       "489248                     mint         Product  \n",
       "489249            light tobacco         Product  \n",
       "489250                   sesame         Product  \n",
       "489251                    thyme         Product  \n",
       "489252  minty eucalyptus flavor         Product  \n",
       "489253         candied cherries         Product  \n",
       "489254                    fruit         Product  "
      ]
     },
     "execution_count": 28,
     "metadata": {},
     "output_type": "execute_result"
    }
   ],
   "source": [
    "print(prep.iloc[[117671]][\"description\"])\n",
    "# extracted entities from description with cognitive textanalysis\n",
    "entities[entities[\"document\"].str.contains(\"impressive vineyards\")][[\"document\", \"entity_text\", \"entity_category\"]]"
   ]
  },
  {
   "cell_type": "code",
   "execution_count": 29,
   "metadata": {},
   "outputs": [
    {
     "data": {
      "text/plain": [
       "constraints_added: 0\n",
       "constraints_removed: 0\n",
       "contains_updates: True\n",
       "indexes_added: 0\n",
       "indexes_removed: 0\n",
       "labels_added: 95\n",
       "labels_removed: 0\n",
       "nodes_created: 95\n",
       "nodes_deleted: 0\n",
       "properties_set: 95\n",
       "relationships_created: 149\n",
       "relationships_deleted: 0"
      ]
     },
     "metadata": {},
     "output_type": "display_data"
    },
    {
     "data": {
      "text/plain": [
       "constraints_added: 0\n",
       "constraints_removed: 0\n",
       "contains_updates: True\n",
       "indexes_added: 0\n",
       "indexes_removed: 0\n",
       "labels_added: 6315\n",
       "labels_removed: 0\n",
       "nodes_created: 6315\n",
       "nodes_deleted: 0\n",
       "properties_set: 6315\n",
       "relationships_created: 26215\n",
       "relationships_deleted: 0"
      ]
     },
     "metadata": {},
     "output_type": "display_data"
    },
    {
     "data": {
      "text/plain": [
       "constraints_added: 0\n",
       "constraints_removed: 0\n",
       "contains_updates: True\n",
       "indexes_added: 0\n",
       "indexes_removed: 0\n",
       "labels_added: 43903\n",
       "labels_removed: 0\n",
       "nodes_created: 43903\n",
       "nodes_deleted: 0\n",
       "properties_set: 43903\n",
       "relationships_created: 476509\n",
       "relationships_deleted: 0"
      ]
     },
     "metadata": {},
     "output_type": "display_data"
    },
    {
     "name": "stdout",
     "output_type": "stream",
     "text": [
      "CPU times: user 12.1 ms, sys: 493 µs, total: 12.6 ms\n",
      "Wall time: 49.2 s\n"
     ]
    }
   ],
   "source": [
    "%%time\n",
    "# graph.run(\"\"\"CREATE INDEX ON :Event(value)\"\"\")\n",
    "# graph.run(\"\"\"CREATE INDEX ON :Product(value)\"\"\")\n",
    "# graph.run(\"\"\"CREATE INDEX ON :Location(value)\"\"\")\n",
    "graph.run(\"CREATE CONSTRAINT ON (e:Event) ASSERT e.value IS UNIQUE\")\n",
    "graph.run(\"CREATE CONSTRAINT ON (p:Product) ASSERT p.value IS UNIQUE\")\n",
    "graph.run(\"CREATE CONSTRAINT ON (l:Location) ASSERT l.value IS UNIQUE\")\n",
    "query = \"\"\"\n",
    "USING PERIODIC COMMIT 1000\n",
    "LOAD CSV WITH HEADERS FROM 'file:///\"\"\"+file2+\"\"\"' AS line FIELDTERMINATOR ','\n",
    "WITH line WHERE line.entity_category = 'Event'\n",
    "MATCH (description:Description {value:(line.document)})\n",
    "MERGE (event:Event {value:(line.entity_text)})\n",
    "MERGE (event)-[:EVENT_IN]->(description)\n",
    "\"\"\"\n",
    "display(graph.run(query).stats())\n",
    "query = \"\"\"\n",
    "USING PERIODIC COMMIT 1000\n",
    "LOAD CSV WITH HEADERS FROM 'file:///\"\"\"+file2+\"\"\"' AS line FIELDTERMINATOR ','\n",
    "WITH line WHERE line.entity_category = 'Location'\n",
    "MATCH (description:Description {value:(line.document)})\n",
    "MERGE (location:Location {value:(line.entity_text)})\n",
    "MERGE (location)-[:LOCATION_IN]->(description)\n",
    "\"\"\"\n",
    "display(graph.run(query).stats())\n",
    "query = \"\"\"\n",
    "USING PERIODIC COMMIT 1000\n",
    "LOAD CSV WITH HEADERS FROM 'file:///\"\"\"+file2+\"\"\"' AS line FIELDTERMINATOR ','\n",
    "WITH line WHERE line.entity_category = 'Product'\n",
    "MATCH (description:Description {value:(line.document)})\n",
    "MERGE (product:Product {value:(line.entity_text)})\n",
    "MERGE (product)-[:PRODUCT_IN]->(description)\n",
    "\"\"\"\n",
    "display(graph.run(query).stats())"
   ]
  },
  {
   "cell_type": "markdown",
   "metadata": {},
   "source": [
    "[link to Arrows for data modeling](http://www.apcjones.com/arrows/#)  \n",
    "[arrows source code](../../docs/datagraph/howto_graph_datamodel7.markup)  \n",
    "\n",
    "![datamodel7](../../image/howto_graph/datamodel7.png)  "
   ]
  },
  {
   "cell_type": "code",
   "execution_count": 30,
   "metadata": {},
   "outputs": [
    {
     "data": {
      "text/html": [
       "<div>\n",
       "<style scoped>\n",
       "    .dataframe tbody tr th:only-of-type {\n",
       "        vertical-align: middle;\n",
       "    }\n",
       "\n",
       "    .dataframe tbody tr th {\n",
       "        vertical-align: top;\n",
       "    }\n",
       "\n",
       "    .dataframe thead th {\n",
       "        text-align: right;\n",
       "    }\n",
       "</style>\n",
       "<table border=\"1\" class=\"dataframe\">\n",
       "  <thead>\n",
       "    <tr style=\"text-align: right;\">\n",
       "      <th></th>\n",
       "      <th>id</th>\n",
       "      <th>title</th>\n",
       "      <th>taster_name</th>\n",
       "      <th>points</th>\n",
       "    </tr>\n",
       "  </thead>\n",
       "  <tbody>\n",
       "    <tr>\n",
       "      <th>117671</th>\n",
       "      <td>127202</td>\n",
       "      <td>Pali 2014 Radian Vineyard Pinot Noir (Sta. Rita Hills)</td>\n",
       "      <td>Matt Kettmann</td>\n",
       "      <td>94</td>\n",
       "    </tr>\n",
       "  </tbody>\n",
       "</table>\n",
       "</div>"
      ],
      "text/plain": [
       "            id                                                   title  \\\n",
       "117671  127202  Pali 2014 Radian Vineyard Pinot Noir (Sta. Rita Hills)   \n",
       "\n",
       "          taster_name  points  \n",
       "117671  Matt Kettmann      94  "
      ]
     },
     "execution_count": 30,
     "metadata": {},
     "output_type": "execute_result"
    }
   ],
   "source": [
    "prep.iloc[[117671]][[\"id\", \"title\", \"taster_name\", \"points\"]]"
   ]
  },
  {
   "cell_type": "code",
   "execution_count": 31,
   "metadata": {},
   "outputs": [
    {
     "data": {
      "text/plain": [
       "constraints_added: 0\n",
       "constraints_removed: 0\n",
       "contains_updates: True\n",
       "indexes_added: 0\n",
       "indexes_removed: 0\n",
       "labels_added: 41\n",
       "labels_removed: 0\n",
       "nodes_created: 41\n",
       "nodes_deleted: 0\n",
       "properties_set: 41\n",
       "relationships_created: 240302\n",
       "relationships_deleted: 0"
      ]
     },
     "metadata": {},
     "output_type": "display_data"
    },
    {
     "name": "stdout",
     "output_type": "stream",
     "text": [
      "CPU times: user 370 µs, sys: 3.79 ms, total: 4.16 ms\n",
      "Wall time: 11.4 s\n"
     ]
    }
   ],
   "source": [
    "%%time\n",
    "graph.run(\"CREATE CONSTRAINT ON (t:Taster) ASSERT t.name IS UNIQUE\")\n",
    "graph.run(\"CREATE CONSTRAINT ON (p:Points) ASSERT p.value IS UNIQUE\")\n",
    "query = \"\"\"\n",
    "USING PERIODIC COMMIT 1000\n",
    "LOAD CSV WITH HEADERS FROM 'file:///\"\"\"+file+\"\"\"' AS line FIELDTERMINATOR ','\n",
    "MATCH (w:Wine {id:(line.id)})\n",
    "MERGE (t:Taster {name:(line.taster_name)})\n",
    "MERGE (p:Points {value:toInteger(line.points)})\n",
    "MERGE (w)-[:TASTED_BY]->(t)\n",
    "MERGE (t)-[:GAVE_POINTS]->(p)\n",
    "MERGE (w)-[:HAS_POINTS]->(p)\n",
    "\"\"\"\n",
    "display(graph.run(query).stats())"
   ]
  },
  {
   "cell_type": "markdown",
   "metadata": {},
   "source": [
    "[link to Arrows for data modeling](http://www.apcjones.com/arrows/#)  \n",
    "[arrows source code](../../docs/datagraph/howto_graph_datamodel8.markup)  \n",
    "\n",
    "![datamodel8](../../image/howto_graph/datamodel8.png)"
   ]
  },
  {
   "cell_type": "code",
   "execution_count": 32,
   "metadata": {},
   "outputs": [
    {
     "data": {
      "text/html": [
       "<div>\n",
       "<style scoped>\n",
       "    .dataframe tbody tr th:only-of-type {\n",
       "        vertical-align: middle;\n",
       "    }\n",
       "\n",
       "    .dataframe tbody tr th {\n",
       "        vertical-align: top;\n",
       "    }\n",
       "\n",
       "    .dataframe thead th {\n",
       "        text-align: right;\n",
       "    }\n",
       "</style>\n",
       "<table border=\"1\" class=\"dataframe\">\n",
       "  <thead>\n",
       "    <tr style=\"text-align: right;\">\n",
       "      <th></th>\n",
       "      <th>id</th>\n",
       "      <th>title</th>\n",
       "      <th>price</th>\n",
       "    </tr>\n",
       "  </thead>\n",
       "  <tbody>\n",
       "    <tr>\n",
       "      <th>117671</th>\n",
       "      <td>127202</td>\n",
       "      <td>Pali 2014 Radian Vineyard Pinot Noir (Sta. Rita Hills)</td>\n",
       "      <td>58.0</td>\n",
       "    </tr>\n",
       "  </tbody>\n",
       "</table>\n",
       "</div>"
      ],
      "text/plain": [
       "            id                                                   title  price\n",
       "117671  127202  Pali 2014 Radian Vineyard Pinot Noir (Sta. Rita Hills)   58.0"
      ]
     },
     "execution_count": 32,
     "metadata": {},
     "output_type": "execute_result"
    }
   ],
   "source": [
    "prep.iloc[[117671]][[\"id\", \"title\", \"price\"]]"
   ]
  },
  {
   "cell_type": "code",
   "execution_count": 33,
   "metadata": {},
   "outputs": [
    {
     "data": {
      "text/plain": [
       "constraints_added: 0\n",
       "constraints_removed: 0\n",
       "contains_updates: True\n",
       "indexes_added: 0\n",
       "indexes_removed: 0\n",
       "labels_added: 390\n",
       "labels_removed: 0\n",
       "nodes_created: 390\n",
       "nodes_deleted: 0\n",
       "properties_set: 390\n",
       "relationships_created: 111593\n",
       "relationships_deleted: 0"
      ]
     },
     "metadata": {},
     "output_type": "display_data"
    },
    {
     "name": "stdout",
     "output_type": "stream",
     "text": [
      "CPU times: user 3.51 ms, sys: 0 ns, total: 3.51 ms\n",
      "Wall time: 8.82 s\n"
     ]
    }
   ],
   "source": [
    "%%time\n",
    "# graph.run(\"\"\"CREATE INDEX ON :Price(value)\"\"\")\n",
    "graph.run(\"CREATE CONSTRAINT ON (p:Price) ASSERT p.value IS UNIQUE\")\n",
    "# create Price Nodes and Relationships, ignore nan (load as int)\n",
    "query = \"\"\"\n",
    "USING PERIODIC COMMIT 1000\n",
    "LOAD CSV WITH HEADERS FROM 'file:///\"\"\"+file+\"\"\"' AS line FIELDTERMINATOR ','\n",
    "WITH line.id AS id, line.price AS price, line.title AS wine WHERE price <> \"\"\n",
    "MATCH (w:Wine {id:id})\n",
    "MERGE (p:Price {value:toInteger(price)})\n",
    "MERGE (w)-[:HAS_PRICE]->(p)\n",
    "\"\"\"\n",
    "display(graph.run(query).stats())"
   ]
  },
  {
   "cell_type": "markdown",
   "metadata": {},
   "source": [
    "## Result"
   ]
  },
  {
   "cell_type": "markdown",
   "metadata": {},
   "source": [
    "[link to arrows for data modeling](http://www.apcjones.com/arrows/#)   \n",
    "[arrows source code](../../docs/datagraph/apcjones_datamodel_full.markup)  \n",
    "![full data model](../../image/howto_graph/datamodel_full.png)\n",
    "\n",
    "```cypher\n",
    "CALL db.schema.visualization\n",
    ":style\n",
    "```\n",
    "![neo4j browser schema visualization](../../image/howto_graph/schema_full.png)  \n",
    "[link to yworks data exploration](http://www.yworks.com/neo4j-explorer/)\n",
    "[yworks nodes template](../../docs/datagraph/yworks_template.json)\n",
    "![yworks schema visualization](../../image/howto_graph/schema_full_yworks.png)  "
   ]
  },
  {
   "cell_type": "markdown",
   "metadata": {},
   "source": [
    "## Querying"
   ]
  },
  {
   "cell_type": "markdown",
   "metadata": {},
   "source": [
    "### Which 10 countries have the most wineries ?\n",
    "note: make sure to count only once each winery"
   ]
  },
  {
   "cell_type": "code",
   "execution_count": 34,
   "metadata": {},
   "outputs": [
    {
     "name": "stdout",
     "output_type": "stream",
     "text": [
      "CPU times: user 0 ns, sys: 3.61 ms, total: 3.61 ms\n",
      "Wall time: 339 ms\n"
     ]
    },
    {
     "data": {
      "text/html": [
       "<div>\n",
       "<style scoped>\n",
       "    .dataframe tbody tr th:only-of-type {\n",
       "        vertical-align: middle;\n",
       "    }\n",
       "\n",
       "    .dataframe tbody tr th {\n",
       "        vertical-align: top;\n",
       "    }\n",
       "\n",
       "    .dataframe thead th {\n",
       "        text-align: right;\n",
       "    }\n",
       "</style>\n",
       "<table border=\"1\" class=\"dataframe\">\n",
       "  <thead>\n",
       "    <tr style=\"text-align: right;\">\n",
       "      <th></th>\n",
       "      <th>Country</th>\n",
       "      <th>totalNrWineries</th>\n",
       "    </tr>\n",
       "  </thead>\n",
       "  <tbody>\n",
       "    <tr>\n",
       "      <th>0</th>\n",
       "      <td>US</td>\n",
       "      <td>5375</td>\n",
       "    </tr>\n",
       "    <tr>\n",
       "      <th>1</th>\n",
       "      <td>France</td>\n",
       "      <td>3864</td>\n",
       "    </tr>\n",
       "    <tr>\n",
       "      <th>2</th>\n",
       "      <td>Italy</td>\n",
       "      <td>2934</td>\n",
       "    </tr>\n",
       "    <tr>\n",
       "      <th>3</th>\n",
       "      <td>Spain</td>\n",
       "      <td>1435</td>\n",
       "    </tr>\n",
       "    <tr>\n",
       "      <th>4</th>\n",
       "      <td>Argentina</td>\n",
       "      <td>531</td>\n",
       "    </tr>\n",
       "    <tr>\n",
       "      <th>5</th>\n",
       "      <td>Australia</td>\n",
       "      <td>474</td>\n",
       "    </tr>\n",
       "    <tr>\n",
       "      <th>6</th>\n",
       "      <td>Portugal</td>\n",
       "      <td>430</td>\n",
       "    </tr>\n",
       "    <tr>\n",
       "      <th>7</th>\n",
       "      <td>Chile</td>\n",
       "      <td>317</td>\n",
       "    </tr>\n",
       "    <tr>\n",
       "      <th>8</th>\n",
       "      <td>New Zealand</td>\n",
       "      <td>300</td>\n",
       "    </tr>\n",
       "    <tr>\n",
       "      <th>9</th>\n",
       "      <td>South Africa</td>\n",
       "      <td>294</td>\n",
       "    </tr>\n",
       "  </tbody>\n",
       "</table>\n",
       "</div>"
      ],
      "text/plain": [
       "        Country  totalNrWineries\n",
       "0            US             5375\n",
       "1        France             3864\n",
       "2         Italy             2934\n",
       "3         Spain             1435\n",
       "4     Argentina              531\n",
       "5     Australia              474\n",
       "6      Portugal              430\n",
       "7         Chile              317\n",
       "8   New Zealand              300\n",
       "9  South Africa              294"
      ]
     },
     "execution_count": 34,
     "metadata": {},
     "output_type": "execute_result"
    }
   ],
   "source": [
    "%%time\n",
    "query = \"\"\"\n",
    "MATCH (w:Winery)-[:FROM_PROVENCE]->(p:Province)-[:PROVINCE_COUNTRY]->(c:Country)\n",
    "RETURN c.name AS Country, count(DISTINCT w) AS totalNrWineries\n",
    "ORDER BY totalNrWineries DESC LIMIT 10\n",
    "\"\"\"\n",
    "graph.run(query).to_data_frame()"
   ]
  },
  {
   "cell_type": "code",
   "execution_count": 35,
   "metadata": {},
   "outputs": [
    {
     "name": "stdout",
     "output_type": "stream",
     "text": [
      "CPU times: user 55.5 ms, sys: 210 µs, total: 55.7 ms\n",
      "Wall time: 59 ms\n"
     ]
    },
    {
     "data": {
      "text/html": [
       "<div>\n",
       "<style scoped>\n",
       "    .dataframe tbody tr th:only-of-type {\n",
       "        vertical-align: middle;\n",
       "    }\n",
       "\n",
       "    .dataframe tbody tr th {\n",
       "        vertical-align: top;\n",
       "    }\n",
       "\n",
       "    .dataframe thead th {\n",
       "        text-align: right;\n",
       "    }\n",
       "</style>\n",
       "<table border=\"1\" class=\"dataframe\">\n",
       "  <thead>\n",
       "    <tr style=\"text-align: right;\">\n",
       "      <th></th>\n",
       "      <th>Country</th>\n",
       "      <th>totalNrWineries</th>\n",
       "    </tr>\n",
       "  </thead>\n",
       "  <tbody>\n",
       "    <tr>\n",
       "      <th>0</th>\n",
       "      <td>US</td>\n",
       "      <td>5375</td>\n",
       "    </tr>\n",
       "    <tr>\n",
       "      <th>1</th>\n",
       "      <td>France</td>\n",
       "      <td>3864</td>\n",
       "    </tr>\n",
       "    <tr>\n",
       "      <th>2</th>\n",
       "      <td>Italy</td>\n",
       "      <td>2934</td>\n",
       "    </tr>\n",
       "    <tr>\n",
       "      <th>3</th>\n",
       "      <td>Spain</td>\n",
       "      <td>1435</td>\n",
       "    </tr>\n",
       "    <tr>\n",
       "      <th>4</th>\n",
       "      <td>Argentina</td>\n",
       "      <td>531</td>\n",
       "    </tr>\n",
       "    <tr>\n",
       "      <th>5</th>\n",
       "      <td>Australia</td>\n",
       "      <td>474</td>\n",
       "    </tr>\n",
       "    <tr>\n",
       "      <th>6</th>\n",
       "      <td>Portugal</td>\n",
       "      <td>430</td>\n",
       "    </tr>\n",
       "    <tr>\n",
       "      <th>7</th>\n",
       "      <td>Chile</td>\n",
       "      <td>317</td>\n",
       "    </tr>\n",
       "    <tr>\n",
       "      <th>8</th>\n",
       "      <td>New Zealand</td>\n",
       "      <td>300</td>\n",
       "    </tr>\n",
       "    <tr>\n",
       "      <th>9</th>\n",
       "      <td>South Africa</td>\n",
       "      <td>294</td>\n",
       "    </tr>\n",
       "  </tbody>\n",
       "</table>\n",
       "</div>"
      ],
      "text/plain": [
       "        Country  totalNrWineries\n",
       "0            US             5375\n",
       "1        France             3864\n",
       "2         Italy             2934\n",
       "3         Spain             1435\n",
       "4     Argentina              531\n",
       "5     Australia              474\n",
       "6      Portugal              430\n",
       "7         Chile              317\n",
       "8   New Zealand              300\n",
       "9  South Africa              294"
      ]
     },
     "execution_count": 35,
     "metadata": {},
     "output_type": "execute_result"
    }
   ],
   "source": [
    "%%time\n",
    "result = prep[[\"winery\",\"country\"]].groupby(['country'])['winery'].nunique()\n",
    "result = result.rename_axis(['Country']).rename('totalNrWineries').sort_values(ascending=False).reset_index()\n",
    "result.head(10)"
   ]
  },
  {
   "cell_type": "markdown",
   "metadata": {},
   "source": [
    "### Which wineries are across multiple provinces ?\n",
    "alt: Which provinces are associated to each winery ?"
   ]
  },
  {
   "cell_type": "code",
   "execution_count": 36,
   "metadata": {},
   "outputs": [
    {
     "name": "stdout",
     "output_type": "stream",
     "text": [
      "CPU times: user 3.35 ms, sys: 0 ns, total: 3.35 ms\n",
      "Wall time: 237 ms\n"
     ]
    },
    {
     "data": {
      "text/html": [
       "<div>\n",
       "<style scoped>\n",
       "    .dataframe tbody tr th:only-of-type {\n",
       "        vertical-align: middle;\n",
       "    }\n",
       "\n",
       "    .dataframe tbody tr th {\n",
       "        vertical-align: top;\n",
       "    }\n",
       "\n",
       "    .dataframe thead th {\n",
       "        text-align: right;\n",
       "    }\n",
       "</style>\n",
       "<table border=\"1\" class=\"dataframe\">\n",
       "  <thead>\n",
       "    <tr style=\"text-align: right;\">\n",
       "      <th></th>\n",
       "      <th>Winery</th>\n",
       "      <th>Provinces</th>\n",
       "      <th>Total</th>\n",
       "    </tr>\n",
       "  </thead>\n",
       "  <tbody>\n",
       "    <tr>\n",
       "      <th>0</th>\n",
       "      <td>Undurraga</td>\n",
       "      <td>[Colchagua Valley, Maule Valley, Maipo Valley, Rapel Valley, Leyda Valley, Casablanca Valley, Cu...</td>\n",
       "      <td>19</td>\n",
       "    </tr>\n",
       "    <tr>\n",
       "      <th>1</th>\n",
       "      <td>Concha y Toro</td>\n",
       "      <td>[Colchagua Valley, Maule Valley, Maipo Valley, Rapel Valley, Leyda Valley, Casablanca Valley, Li...</td>\n",
       "      <td>16</td>\n",
       "    </tr>\n",
       "    <tr>\n",
       "      <th>2</th>\n",
       "      <td>Santa Carolina</td>\n",
       "      <td>[Colchagua Valley, Maule Valley, Maipo Valley, Rapel Valley, Leyda Valley, Casablanca Valley, Cu...</td>\n",
       "      <td>14</td>\n",
       "    </tr>\n",
       "    <tr>\n",
       "      <th>3</th>\n",
       "      <td>San Pedro</td>\n",
       "      <td>[Northern Spain, Mendoza Province, Maule Valley, Maipo Valley, Leyda Valley, Casablanca Valley, ...</td>\n",
       "      <td>12</td>\n",
       "    </tr>\n",
       "    <tr>\n",
       "      <th>4</th>\n",
       "      <td>Kirkland Signature</td>\n",
       "      <td>[Northern Spain, California, Mendoza Province, Bordeaux, Washington, Burgundy, Tuscany, Aconcagu...</td>\n",
       "      <td>12</td>\n",
       "    </tr>\n",
       "    <tr>\n",
       "      <th>5</th>\n",
       "      <td>Santa Rita</td>\n",
       "      <td>[Colchagua Valley, Maipo Valley, Rapel Valley, Leyda Valley, Aconcagua Valley, Casablanca Valley...</td>\n",
       "      <td>11</td>\n",
       "    </tr>\n",
       "    <tr>\n",
       "      <th>6</th>\n",
       "      <td>Bacalhôa Wines of Portugal</td>\n",
       "      <td>[Douro, Alentejano, Lisboa, Península de Setúbal, Dão, Vinho Espumante, Setubal, Vinho Espumante...</td>\n",
       "      <td>11</td>\n",
       "    </tr>\n",
       "    <tr>\n",
       "      <th>7</th>\n",
       "      <td>Wines &amp; Winemakers</td>\n",
       "      <td>[Douro, Tejo, Alentejano, Vinho Verde, Península de Setúbal, Port, Dão, Bairrada, Setubal, Palmela]</td>\n",
       "      <td>10</td>\n",
       "    </tr>\n",
       "    <tr>\n",
       "      <th>8</th>\n",
       "      <td>Tussock Jumper</td>\n",
       "      <td>[Rheinhessen, California, Other, Colchagua Valley, France Other, Central Spain, Marlborough, Wes...</td>\n",
       "      <td>10</td>\n",
       "    </tr>\n",
       "    <tr>\n",
       "      <th>9</th>\n",
       "      <td>Casca Wines</td>\n",
       "      <td>[Douro, Tejo, Alentejano, Vinho Verde, Lisboa, Dão, Bairrada, Minho, Bucelas, Távora-Varosa]</td>\n",
       "      <td>10</td>\n",
       "    </tr>\n",
       "  </tbody>\n",
       "</table>\n",
       "</div>"
      ],
      "text/plain": [
       "                       Winery  \\\n",
       "0                   Undurraga   \n",
       "1               Concha y Toro   \n",
       "2              Santa Carolina   \n",
       "3                   San Pedro   \n",
       "4          Kirkland Signature   \n",
       "5                  Santa Rita   \n",
       "6  Bacalhôa Wines of Portugal   \n",
       "7          Wines & Winemakers   \n",
       "8              Tussock Jumper   \n",
       "9                 Casca Wines   \n",
       "\n",
       "                                                                                             Provinces  \\\n",
       "0  [Colchagua Valley, Maule Valley, Maipo Valley, Rapel Valley, Leyda Valley, Casablanca Valley, Cu...   \n",
       "1  [Colchagua Valley, Maule Valley, Maipo Valley, Rapel Valley, Leyda Valley, Casablanca Valley, Li...   \n",
       "2  [Colchagua Valley, Maule Valley, Maipo Valley, Rapel Valley, Leyda Valley, Casablanca Valley, Cu...   \n",
       "3  [Northern Spain, Mendoza Province, Maule Valley, Maipo Valley, Leyda Valley, Casablanca Valley, ...   \n",
       "4  [Northern Spain, California, Mendoza Province, Bordeaux, Washington, Burgundy, Tuscany, Aconcagu...   \n",
       "5  [Colchagua Valley, Maipo Valley, Rapel Valley, Leyda Valley, Aconcagua Valley, Casablanca Valley...   \n",
       "6  [Douro, Alentejano, Lisboa, Península de Setúbal, Dão, Vinho Espumante, Setubal, Vinho Espumante...   \n",
       "7  [Douro, Tejo, Alentejano, Vinho Verde, Península de Setúbal, Port, Dão, Bairrada, Setubal, Palmela]   \n",
       "8  [Rheinhessen, California, Other, Colchagua Valley, France Other, Central Spain, Marlborough, Wes...   \n",
       "9         [Douro, Tejo, Alentejano, Vinho Verde, Lisboa, Dão, Bairrada, Minho, Bucelas, Távora-Varosa]   \n",
       "\n",
       "   Total  \n",
       "0     19  \n",
       "1     16  \n",
       "2     14  \n",
       "3     12  \n",
       "4     12  \n",
       "5     11  \n",
       "6     11  \n",
       "7     10  \n",
       "8     10  \n",
       "9     10  "
      ]
     },
     "execution_count": 36,
     "metadata": {},
     "output_type": "execute_result"
    }
   ],
   "source": [
    "%%time\n",
    "query = \"\"\"\n",
    "MATCH (w:Winery)-[:FROM_PROVENCE]->(p:Province)\n",
    "WITH w, COLLECT(p.name) AS Provinces, count(p) AS Total\n",
    "RETURN w.name AS Winery, Provinces, Total\n",
    "ORDER BY Total DESC LIMIT 10\n",
    "\"\"\"\n",
    "graph.run(query).to_data_frame()"
   ]
  },
  {
   "cell_type": "code",
   "execution_count": 37,
   "metadata": {},
   "outputs": [
    {
     "name": "stdout",
     "output_type": "stream",
     "text": [
      "CPU times: user 3.78 s, sys: 0 ns, total: 3.78 s\n",
      "Wall time: 3.78 s\n"
     ]
    },
    {
     "data": {
      "text/html": [
       "<div>\n",
       "<style scoped>\n",
       "    .dataframe tbody tr th:only-of-type {\n",
       "        vertical-align: middle;\n",
       "    }\n",
       "\n",
       "    .dataframe tbody tr th {\n",
       "        vertical-align: top;\n",
       "    }\n",
       "\n",
       "    .dataframe thead th {\n",
       "        text-align: right;\n",
       "    }\n",
       "</style>\n",
       "<table border=\"1\" class=\"dataframe\">\n",
       "  <thead>\n",
       "    <tr style=\"text-align: right;\">\n",
       "      <th></th>\n",
       "      <th>Winery</th>\n",
       "      <th>Provinces</th>\n",
       "      <th>Total</th>\n",
       "    </tr>\n",
       "  </thead>\n",
       "  <tbody>\n",
       "    <tr>\n",
       "      <th>0</th>\n",
       "      <td>Undurraga</td>\n",
       "      <td>[Maipo Valley, Leyda Valley, Chile, Cauquenes Valley, Curicó Valley, Rapel Valley, San Antonio, ...</td>\n",
       "      <td>19</td>\n",
       "    </tr>\n",
       "    <tr>\n",
       "      <th>1</th>\n",
       "      <td>Concha y Toro</td>\n",
       "      <td>[Chile, Central Valley, Maipo Valley, Casablanca Valley, Rapel Valley, Peumo, Marchigue, Puente ...</td>\n",
       "      <td>16</td>\n",
       "    </tr>\n",
       "    <tr>\n",
       "      <th>2</th>\n",
       "      <td>Santa Carolina</td>\n",
       "      <td>[Cachapoal Valley, Colchagua Valley, Casablanca Valley, Leyda Valley, Maipo Valley, Central Vall...</td>\n",
       "      <td>14</td>\n",
       "    </tr>\n",
       "    <tr>\n",
       "      <th>3</th>\n",
       "      <td>San Pedro</td>\n",
       "      <td>[Lontué Valley, Cachapoal Valley, Maipo Valley, Central Valley, Leyda Valley, Maule Valley, Elqu...</td>\n",
       "      <td>12</td>\n",
       "    </tr>\n",
       "    <tr>\n",
       "      <th>4</th>\n",
       "      <td>Kirkland Signature</td>\n",
       "      <td>[California, Washington, Bordeaux, Rhône Valley, Tuscany, Mendoza Province, Marlborough, Norther...</td>\n",
       "      <td>12</td>\n",
       "    </tr>\n",
       "    <tr>\n",
       "      <th>5</th>\n",
       "      <td>Santa Rita</td>\n",
       "      <td>[Leyda Valley, Central Valley, Maipo Valley, Aconcagua Valley, Rapel Valley, Colchagua Valley, A...</td>\n",
       "      <td>11</td>\n",
       "    </tr>\n",
       "    <tr>\n",
       "      <th>6</th>\n",
       "      <td>Bacalhôa Wines of Portugal</td>\n",
       "      <td>[Douro, Setubal, Península de Setúbal, Lisboa, Alentejano, Dão, Moscatel de Setúbal, Vinho Espum...</td>\n",
       "      <td>11</td>\n",
       "    </tr>\n",
       "    <tr>\n",
       "      <th>7</th>\n",
       "      <td>Xavier Flouret</td>\n",
       "      <td>[Central Valley, Bordeaux, Provence, Burgundy, Loire Valley, Northern Spain, Other, Mendoza Prov...</td>\n",
       "      <td>10</td>\n",
       "    </tr>\n",
       "    <tr>\n",
       "      <th>8</th>\n",
       "      <td>Barton &amp; Guestier</td>\n",
       "      <td>[France Other, No Province, Bordeaux, Burgundy, Languedoc-Roussillon, Beaujolais, Loire Valley, ...</td>\n",
       "      <td>10</td>\n",
       "    </tr>\n",
       "    <tr>\n",
       "      <th>9</th>\n",
       "      <td>Echeverria</td>\n",
       "      <td>[Central Valley, Maipo Valley, Curicó Valley, Maipo Valley-Colchagua Valley, Molina, Colchagua V...</td>\n",
       "      <td>10</td>\n",
       "    </tr>\n",
       "  </tbody>\n",
       "</table>\n",
       "</div>"
      ],
      "text/plain": [
       "                       Winery  \\\n",
       "0                   Undurraga   \n",
       "1               Concha y Toro   \n",
       "2              Santa Carolina   \n",
       "3                   San Pedro   \n",
       "4          Kirkland Signature   \n",
       "5                  Santa Rita   \n",
       "6  Bacalhôa Wines of Portugal   \n",
       "7              Xavier Flouret   \n",
       "8           Barton & Guestier   \n",
       "9                  Echeverria   \n",
       "\n",
       "                                                                                             Provinces  \\\n",
       "0  [Maipo Valley, Leyda Valley, Chile, Cauquenes Valley, Curicó Valley, Rapel Valley, San Antonio, ...   \n",
       "1  [Chile, Central Valley, Maipo Valley, Casablanca Valley, Rapel Valley, Peumo, Marchigue, Puente ...   \n",
       "2  [Cachapoal Valley, Colchagua Valley, Casablanca Valley, Leyda Valley, Maipo Valley, Central Vall...   \n",
       "3  [Lontué Valley, Cachapoal Valley, Maipo Valley, Central Valley, Leyda Valley, Maule Valley, Elqu...   \n",
       "4  [California, Washington, Bordeaux, Rhône Valley, Tuscany, Mendoza Province, Marlborough, Norther...   \n",
       "5  [Leyda Valley, Central Valley, Maipo Valley, Aconcagua Valley, Rapel Valley, Colchagua Valley, A...   \n",
       "6  [Douro, Setubal, Península de Setúbal, Lisboa, Alentejano, Dão, Moscatel de Setúbal, Vinho Espum...   \n",
       "7  [Central Valley, Bordeaux, Provence, Burgundy, Loire Valley, Northern Spain, Other, Mendoza Prov...   \n",
       "8  [France Other, No Province, Bordeaux, Burgundy, Languedoc-Roussillon, Beaujolais, Loire Valley, ...   \n",
       "9  [Central Valley, Maipo Valley, Curicó Valley, Maipo Valley-Colchagua Valley, Molina, Colchagua V...   \n",
       "\n",
       "   Total  \n",
       "0     19  \n",
       "1     16  \n",
       "2     14  \n",
       "3     12  \n",
       "4     12  \n",
       "5     11  \n",
       "6     11  \n",
       "7     10  \n",
       "8     10  \n",
       "9     10  "
      ]
     },
     "execution_count": 37,
     "metadata": {},
     "output_type": "execute_result"
    }
   ],
   "source": [
    "%%time\n",
    "result = prep.groupby('winery').agg({'province':[lambda x: x.unique(), lambda x: x.nunique()]}).reset_index()\n",
    "result.columns = ['Winery', 'Provinces', 'Total']\n",
    "result = result.sort_values(by='Total',ascending=False).reset_index(drop=True)\n",
    "result.head(10)"
   ]
  },
  {
   "cell_type": "markdown",
   "metadata": {},
   "source": [
    "### The top 10 most prolific wine tasters ?\n",
    "note: count the unique amount instead of the total amount tasted"
   ]
  },
  {
   "cell_type": "code",
   "execution_count": 38,
   "metadata": {},
   "outputs": [
    {
     "name": "stdout",
     "output_type": "stream",
     "text": [
      "CPU times: user 16.4 ms, sys: 0 ns, total: 16.4 ms\n",
      "Wall time: 3.49 s\n"
     ]
    },
    {
     "data": {
      "text/html": [
       "<div>\n",
       "<style scoped>\n",
       "    .dataframe tbody tr th:only-of-type {\n",
       "        vertical-align: middle;\n",
       "    }\n",
       "\n",
       "    .dataframe tbody tr th {\n",
       "        vertical-align: top;\n",
       "    }\n",
       "\n",
       "    .dataframe thead th {\n",
       "        text-align: right;\n",
       "    }\n",
       "</style>\n",
       "<table border=\"1\" class=\"dataframe\">\n",
       "  <thead>\n",
       "    <tr style=\"text-align: right;\">\n",
       "      <th></th>\n",
       "      <th>Taster</th>\n",
       "      <th>Varieties</th>\n",
       "      <th>Total</th>\n",
       "    </tr>\n",
       "  </thead>\n",
       "  <tbody>\n",
       "    <tr>\n",
       "      <th>0</th>\n",
       "      <td>Roger Voss</td>\n",
       "      <td>[Chardonnay, Syrah, Melon, Cabernet Sauvignon, Primitivo, Tempranillo-Merlot, Red Blend, Silvane...</td>\n",
       "      <td>118840</td>\n",
       "    </tr>\n",
       "    <tr>\n",
       "      <th>1</th>\n",
       "      <td>Paul Gregutt</td>\n",
       "      <td>[Chardonnay, Syrah, Melon, Cabernet Sauvignon, Primitivo, Tempranillo-Merlot, Red Blend, Silvane...</td>\n",
       "      <td>118840</td>\n",
       "    </tr>\n",
       "    <tr>\n",
       "      <th>2</th>\n",
       "      <td>Joe Czerwinski</td>\n",
       "      <td>[Chardonnay, Syrah, Melon, Cabernet Sauvignon, Primitivo, Tempranillo-Merlot, Red Blend, Silvane...</td>\n",
       "      <td>118840</td>\n",
       "    </tr>\n",
       "    <tr>\n",
       "      <th>3</th>\n",
       "      <td>Kerin O’Keefe</td>\n",
       "      <td>[Chardonnay, Syrah, Melon, Cabernet Sauvignon, Primitivo, Tempranillo-Merlot, Red Blend, Silvane...</td>\n",
       "      <td>118840</td>\n",
       "    </tr>\n",
       "    <tr>\n",
       "      <th>4</th>\n",
       "      <td>Virginie Boone</td>\n",
       "      <td>[Chardonnay, Syrah, Melon, Cabernet Sauvignon, Primitivo, Tempranillo-Merlot, Red Blend, Silvane...</td>\n",
       "      <td>118823</td>\n",
       "    </tr>\n",
       "    <tr>\n",
       "      <th>5</th>\n",
       "      <td>Anna Lee C. Iijima</td>\n",
       "      <td>[Chardonnay, Syrah, Melon, Cabernet Sauvignon, Primitivo, Tempranillo-Merlot, Red Blend, Silvane...</td>\n",
       "      <td>118791</td>\n",
       "    </tr>\n",
       "    <tr>\n",
       "      <th>6</th>\n",
       "      <td>Michael Schachner</td>\n",
       "      <td>[Chardonnay, Syrah, Melon, Cabernet Sauvignon, Primitivo, Tempranillo-Merlot, Red Blend, Silvane...</td>\n",
       "      <td>118791</td>\n",
       "    </tr>\n",
       "    <tr>\n",
       "      <th>7</th>\n",
       "      <td>Jim Gordon</td>\n",
       "      <td>[Chardonnay, Syrah, Melon, Cabernet Sauvignon, Primitivo, Tempranillo-Merlot, Red Blend, Silvane...</td>\n",
       "      <td>118715</td>\n",
       "    </tr>\n",
       "    <tr>\n",
       "      <th>8</th>\n",
       "      <td>Sean P. Sullivan</td>\n",
       "      <td>[Chardonnay, Syrah, Melon, Cabernet Sauvignon, Primitivo, Tempranillo-Merlot, Red Blend, Silvane...</td>\n",
       "      <td>118715</td>\n",
       "    </tr>\n",
       "    <tr>\n",
       "      <th>9</th>\n",
       "      <td>Matt Kettmann</td>\n",
       "      <td>[Chardonnay, Syrah, Melon, Cabernet Sauvignon, Primitivo, Tempranillo-Merlot, Red Blend, Silvane...</td>\n",
       "      <td>118323</td>\n",
       "    </tr>\n",
       "  </tbody>\n",
       "</table>\n",
       "</div>"
      ],
      "text/plain": [
       "               Taster  \\\n",
       "0          Roger Voss   \n",
       "1        Paul Gregutt   \n",
       "2      Joe Czerwinski   \n",
       "3       Kerin O’Keefe   \n",
       "4      Virginie Boone   \n",
       "5  Anna Lee C. Iijima   \n",
       "6   Michael Schachner   \n",
       "7          Jim Gordon   \n",
       "8    Sean P. Sullivan   \n",
       "9       Matt Kettmann   \n",
       "\n",
       "                                                                                             Varieties  \\\n",
       "0  [Chardonnay, Syrah, Melon, Cabernet Sauvignon, Primitivo, Tempranillo-Merlot, Red Blend, Silvane...   \n",
       "1  [Chardonnay, Syrah, Melon, Cabernet Sauvignon, Primitivo, Tempranillo-Merlot, Red Blend, Silvane...   \n",
       "2  [Chardonnay, Syrah, Melon, Cabernet Sauvignon, Primitivo, Tempranillo-Merlot, Red Blend, Silvane...   \n",
       "3  [Chardonnay, Syrah, Melon, Cabernet Sauvignon, Primitivo, Tempranillo-Merlot, Red Blend, Silvane...   \n",
       "4  [Chardonnay, Syrah, Melon, Cabernet Sauvignon, Primitivo, Tempranillo-Merlot, Red Blend, Silvane...   \n",
       "5  [Chardonnay, Syrah, Melon, Cabernet Sauvignon, Primitivo, Tempranillo-Merlot, Red Blend, Silvane...   \n",
       "6  [Chardonnay, Syrah, Melon, Cabernet Sauvignon, Primitivo, Tempranillo-Merlot, Red Blend, Silvane...   \n",
       "7  [Chardonnay, Syrah, Melon, Cabernet Sauvignon, Primitivo, Tempranillo-Merlot, Red Blend, Silvane...   \n",
       "8  [Chardonnay, Syrah, Melon, Cabernet Sauvignon, Primitivo, Tempranillo-Merlot, Red Blend, Silvane...   \n",
       "9  [Chardonnay, Syrah, Melon, Cabernet Sauvignon, Primitivo, Tempranillo-Merlot, Red Blend, Silvane...   \n",
       "\n",
       "    Total  \n",
       "0  118840  \n",
       "1  118840  \n",
       "2  118840  \n",
       "3  118840  \n",
       "4  118823  \n",
       "5  118791  \n",
       "6  118791  \n",
       "7  118715  \n",
       "8  118715  \n",
       "9  118323  "
      ]
     },
     "execution_count": 38,
     "metadata": {},
     "output_type": "execute_result"
    }
   ],
   "source": [
    "%%time\n",
    "query = \"\"\"\n",
    "MATCH (t: Taster)\n",
    "WHERE t.name <> \"No Taster\"\n",
    "MATCH (t)-[:GAVE_POINTS]->(p:Points)<-[:HAS_POINTS]-(w:Wine)-[:HAS_VARIETY]->(v:Variety)\n",
    "WITH t, count(DISTINCT w.name) AS Total, COLLECT(DISTINCT v.name) AS Varieties\n",
    "RETURN t.name AS Taster, Varieties, Total\n",
    "ORDER BY Total DESC LIMIT 10\n",
    "\"\"\"\n",
    "graph.run(query).to_data_frame()"
   ]
  },
  {
   "cell_type": "code",
   "execution_count": 39,
   "metadata": {},
   "outputs": [
    {
     "name": "stdout",
     "output_type": "stream",
     "text": [
      "CPU times: user 122 ms, sys: 2.57 ms, total: 124 ms\n",
      "Wall time: 125 ms\n"
     ]
    },
    {
     "data": {
      "text/html": [
       "<div>\n",
       "<style scoped>\n",
       "    .dataframe tbody tr th:only-of-type {\n",
       "        vertical-align: middle;\n",
       "    }\n",
       "\n",
       "    .dataframe tbody tr th {\n",
       "        vertical-align: top;\n",
       "    }\n",
       "\n",
       "    .dataframe thead th {\n",
       "        text-align: right;\n",
       "    }\n",
       "</style>\n",
       "<table border=\"1\" class=\"dataframe\">\n",
       "  <thead>\n",
       "    <tr style=\"text-align: right;\">\n",
       "      <th></th>\n",
       "      <th>Taster</th>\n",
       "      <th>Varieties</th>\n",
       "      <th>Total</th>\n",
       "    </tr>\n",
       "  </thead>\n",
       "  <tbody>\n",
       "    <tr>\n",
       "      <th>0</th>\n",
       "      <td>Roger Voss</td>\n",
       "      <td>[Portuguese Red, Gewürztraminer, Pinot Gris, Gewürztraminer, Gamay, Gamay, Gamay, Bordeaux-style...</td>\n",
       "      <td>22973</td>\n",
       "    </tr>\n",
       "    <tr>\n",
       "      <th>1</th>\n",
       "      <td>Michael Schachner</td>\n",
       "      <td>[Tempranillo-Merlot, Malbec, Malbec, Tempranillo Blend, Chardonnay, Tempranillo-Merlot, Petit Ve...</td>\n",
       "      <td>13944</td>\n",
       "    </tr>\n",
       "    <tr>\n",
       "      <th>2</th>\n",
       "      <td>Kerin O’Keefe</td>\n",
       "      <td>[White Blend, Frappato, Nerello Mascalese, White Blend, Nero d'Avola, White Blend, Nero d'Avola,...</td>\n",
       "      <td>9662</td>\n",
       "    </tr>\n",
       "    <tr>\n",
       "      <th>3</th>\n",
       "      <td>Paul Gregutt</td>\n",
       "      <td>[Pinot Gris, Pinot Noir, Pinot Noir, Pinot Noir, Pinot Noir, Pinot Noir, Pinot Noir, Pinot Noir,...</td>\n",
       "      <td>8856</td>\n",
       "    </tr>\n",
       "    <tr>\n",
       "      <th>4</th>\n",
       "      <td>Virginie Boone</td>\n",
       "      <td>[Cabernet Sauvignon, Cabernet Sauvignon, Pinot Noir, Chenin Blanc, Chardonnay, Cabernet Sauvigno...</td>\n",
       "      <td>8689</td>\n",
       "    </tr>\n",
       "    <tr>\n",
       "      <th>5</th>\n",
       "      <td>Matt Kettmann</td>\n",
       "      <td>[Chardonnay, Tempranillo-Merlot, Sauvignon Blanc, Zinfandel, Bordeaux-style Red Blend, Chardonna...</td>\n",
       "      <td>5698</td>\n",
       "    </tr>\n",
       "    <tr>\n",
       "      <th>6</th>\n",
       "      <td>Joe Czerwinski</td>\n",
       "      <td>[Chardonnay, Rosé, Cabernet Sauvignon, Bordeaux-style Red Blend, Sauvignon Blanc, Cabernet Sauvi...</td>\n",
       "      <td>4753</td>\n",
       "    </tr>\n",
       "    <tr>\n",
       "      <th>7</th>\n",
       "      <td>Sean P. Sullivan</td>\n",
       "      <td>[Malbec, Cabernet Franc, Bordeaux-style Red Blend, Chardonnay, Albariño, Viognier-Chardonnay, Te...</td>\n",
       "      <td>4448</td>\n",
       "    </tr>\n",
       "    <tr>\n",
       "      <th>8</th>\n",
       "      <td>Anna Lee C. Iijima</td>\n",
       "      <td>[Gewürztraminer, Riesling, Riesling, Riesling, Riesling, Pinot Gris, Riesling, Riesling, Rieslin...</td>\n",
       "      <td>4012</td>\n",
       "    </tr>\n",
       "    <tr>\n",
       "      <th>9</th>\n",
       "      <td>Jim Gordon</td>\n",
       "      <td>[Red Blend, Cabernet Franc, White Blend, Grenache Blanc, Grenache Blanc, White Blend, Pinot Noir...</td>\n",
       "      <td>3750</td>\n",
       "    </tr>\n",
       "  </tbody>\n",
       "</table>\n",
       "</div>"
      ],
      "text/plain": [
       "               Taster  \\\n",
       "0          Roger Voss   \n",
       "1   Michael Schachner   \n",
       "2       Kerin O’Keefe   \n",
       "3        Paul Gregutt   \n",
       "4      Virginie Boone   \n",
       "5       Matt Kettmann   \n",
       "6      Joe Czerwinski   \n",
       "7    Sean P. Sullivan   \n",
       "8  Anna Lee C. Iijima   \n",
       "9          Jim Gordon   \n",
       "\n",
       "                                                                                             Varieties  \\\n",
       "0  [Portuguese Red, Gewürztraminer, Pinot Gris, Gewürztraminer, Gamay, Gamay, Gamay, Bordeaux-style...   \n",
       "1  [Tempranillo-Merlot, Malbec, Malbec, Tempranillo Blend, Chardonnay, Tempranillo-Merlot, Petit Ve...   \n",
       "2  [White Blend, Frappato, Nerello Mascalese, White Blend, Nero d'Avola, White Blend, Nero d'Avola,...   \n",
       "3  [Pinot Gris, Pinot Noir, Pinot Noir, Pinot Noir, Pinot Noir, Pinot Noir, Pinot Noir, Pinot Noir,...   \n",
       "4  [Cabernet Sauvignon, Cabernet Sauvignon, Pinot Noir, Chenin Blanc, Chardonnay, Cabernet Sauvigno...   \n",
       "5  [Chardonnay, Tempranillo-Merlot, Sauvignon Blanc, Zinfandel, Bordeaux-style Red Blend, Chardonna...   \n",
       "6  [Chardonnay, Rosé, Cabernet Sauvignon, Bordeaux-style Red Blend, Sauvignon Blanc, Cabernet Sauvi...   \n",
       "7  [Malbec, Cabernet Franc, Bordeaux-style Red Blend, Chardonnay, Albariño, Viognier-Chardonnay, Te...   \n",
       "8  [Gewürztraminer, Riesling, Riesling, Riesling, Riesling, Pinot Gris, Riesling, Riesling, Rieslin...   \n",
       "9  [Red Blend, Cabernet Franc, White Blend, Grenache Blanc, Grenache Blanc, White Blend, Pinot Noir...   \n",
       "\n",
       "   Total  \n",
       "0  22973  \n",
       "1  13944  \n",
       "2   9662  \n",
       "3   8856  \n",
       "4   8689  \n",
       "5   5698  \n",
       "6   4753  \n",
       "7   4448  \n",
       "8   4012  \n",
       "9   3750  "
      ]
     },
     "execution_count": 39,
     "metadata": {},
     "output_type": "execute_result"
    }
   ],
   "source": [
    "%%time\n",
    "result = prep[prep.taster_name != \"No Taster\"]\n",
    "result = result.groupby(['taster_name']).agg({'variety':[lambda x: list(x)], 'title':[lambda x: x.nunique()]}).reset_index()\n",
    "result.columns = ['Taster', 'Varieties', 'Total']\n",
    "result = result.sort_values(by='Total',ascending=False).reset_index(drop=True)\n",
    "result.head(10)"
   ]
  },
  {
   "cell_type": "markdown",
   "metadata": {},
   "source": [
    "### How many wine varieties contain the word 'red' ?"
   ]
  },
  {
   "cell_type": "code",
   "execution_count": 40,
   "metadata": {},
   "outputs": [
    {
     "name": "stdout",
     "output_type": "stream",
     "text": [
      "CPU times: user 0 ns, sys: 2.44 ms, total: 2.44 ms\n",
      "Wall time: 109 ms\n"
     ]
    },
    {
     "data": {
      "text/html": [
       "<div>\n",
       "<style scoped>\n",
       "    .dataframe tbody tr th:only-of-type {\n",
       "        vertical-align: middle;\n",
       "    }\n",
       "\n",
       "    .dataframe tbody tr th {\n",
       "        vertical-align: top;\n",
       "    }\n",
       "\n",
       "    .dataframe thead th {\n",
       "        text-align: right;\n",
       "    }\n",
       "</style>\n",
       "<table border=\"1\" class=\"dataframe\">\n",
       "  <thead>\n",
       "    <tr style=\"text-align: right;\">\n",
       "      <th></th>\n",
       "      <th>redVariety</th>\n",
       "    </tr>\n",
       "  </thead>\n",
       "  <tbody>\n",
       "    <tr>\n",
       "      <th>0</th>\n",
       "      <td>Bordeaux-style Red Blend</td>\n",
       "    </tr>\n",
       "    <tr>\n",
       "      <th>1</th>\n",
       "      <td>Portuguese Red</td>\n",
       "    </tr>\n",
       "    <tr>\n",
       "      <th>2</th>\n",
       "      <td>Provence red blend</td>\n",
       "    </tr>\n",
       "    <tr>\n",
       "      <th>3</th>\n",
       "      <td>Red Blend</td>\n",
       "    </tr>\n",
       "  </tbody>\n",
       "</table>\n",
       "</div>"
      ],
      "text/plain": [
       "                 redVariety\n",
       "0  Bordeaux-style Red Blend\n",
       "1            Portuguese Red\n",
       "2        Provence red blend\n",
       "3                 Red Blend"
      ]
     },
     "execution_count": 40,
     "metadata": {},
     "output_type": "execute_result"
    }
   ],
   "source": [
    "%%time\n",
    "query = \"\"\"\n",
    "MATCH (v:Variety)\n",
    "WHERE tolower(v.name) CONTAINS 'red'\n",
    "RETURN v.name AS redVariety\n",
    "ORDER BY redVariety\n",
    "\"\"\"\n",
    "graph.run(query).to_data_frame()"
   ]
  },
  {
   "cell_type": "code",
   "execution_count": 41,
   "metadata": {},
   "outputs": [
    {
     "name": "stdout",
     "output_type": "stream",
     "text": [
      "CPU times: user 95.5 ms, sys: 0 ns, total: 95.5 ms\n",
      "Wall time: 143 ms\n"
     ]
    },
    {
     "data": {
      "text/html": [
       "<div>\n",
       "<style scoped>\n",
       "    .dataframe tbody tr th:only-of-type {\n",
       "        vertical-align: middle;\n",
       "    }\n",
       "\n",
       "    .dataframe tbody tr th {\n",
       "        vertical-align: top;\n",
       "    }\n",
       "\n",
       "    .dataframe thead th {\n",
       "        text-align: right;\n",
       "    }\n",
       "</style>\n",
       "<table border=\"1\" class=\"dataframe\">\n",
       "  <thead>\n",
       "    <tr style=\"text-align: right;\">\n",
       "      <th></th>\n",
       "      <th>redVariety</th>\n",
       "    </tr>\n",
       "  </thead>\n",
       "  <tbody>\n",
       "    <tr>\n",
       "      <th>0</th>\n",
       "      <td>Bordeaux-style Red Blend</td>\n",
       "    </tr>\n",
       "    <tr>\n",
       "      <th>1</th>\n",
       "      <td>Portuguese Red</td>\n",
       "    </tr>\n",
       "    <tr>\n",
       "      <th>2</th>\n",
       "      <td>Provence red blend</td>\n",
       "    </tr>\n",
       "    <tr>\n",
       "      <th>3</th>\n",
       "      <td>Red Blend</td>\n",
       "    </tr>\n",
       "  </tbody>\n",
       "</table>\n",
       "</div>"
      ],
      "text/plain": [
       "                 redVariety\n",
       "0  Bordeaux-style Red Blend\n",
       "1            Portuguese Red\n",
       "2        Provence red blend\n",
       "3                 Red Blend"
      ]
     },
     "execution_count": 41,
     "metadata": {},
     "output_type": "execute_result"
    }
   ],
   "source": [
    "%%time\n",
    "pd.DataFrame(sorted(prep[\"variety\"][prep[\"variety\"].str.contains('red', case=False)].unique()), columns=[\"redVariety\"])"
   ]
  },
  {
   "cell_type": "markdown",
   "metadata": {},
   "source": [
    "### Which Year had the most Wine ?\n",
    "unique or distinct count !"
   ]
  },
  {
   "cell_type": "code",
   "execution_count": 42,
   "metadata": {},
   "outputs": [
    {
     "name": "stdout",
     "output_type": "stream",
     "text": [
      "CPU times: user 3.34 ms, sys: 0 ns, total: 3.34 ms\n",
      "Wall time: 306 ms\n"
     ]
    },
    {
     "data": {
      "text/html": [
       "<div>\n",
       "<style scoped>\n",
       "    .dataframe tbody tr th:only-of-type {\n",
       "        vertical-align: middle;\n",
       "    }\n",
       "\n",
       "    .dataframe tbody tr th {\n",
       "        vertical-align: top;\n",
       "    }\n",
       "\n",
       "    .dataframe thead th {\n",
       "        text-align: right;\n",
       "    }\n",
       "</style>\n",
       "<table border=\"1\" class=\"dataframe\">\n",
       "  <thead>\n",
       "    <tr style=\"text-align: right;\">\n",
       "      <th></th>\n",
       "      <th>year</th>\n",
       "      <th>wines</th>\n",
       "    </tr>\n",
       "  </thead>\n",
       "  <tbody>\n",
       "    <tr>\n",
       "      <th>0</th>\n",
       "      <td>2012</td>\n",
       "      <td>14302</td>\n",
       "    </tr>\n",
       "    <tr>\n",
       "      <th>1</th>\n",
       "      <td>2013</td>\n",
       "      <td>14261</td>\n",
       "    </tr>\n",
       "    <tr>\n",
       "      <th>2</th>\n",
       "      <td>2014</td>\n",
       "      <td>13914</td>\n",
       "    </tr>\n",
       "    <tr>\n",
       "      <th>3</th>\n",
       "      <td>2011</td>\n",
       "      <td>11504</td>\n",
       "    </tr>\n",
       "    <tr>\n",
       "      <th>4</th>\n",
       "      <td>2010</td>\n",
       "      <td>11228</td>\n",
       "    </tr>\n",
       "  </tbody>\n",
       "</table>\n",
       "</div>"
      ],
      "text/plain": [
       "   year  wines\n",
       "0  2012  14302\n",
       "1  2013  14261\n",
       "2  2014  13914\n",
       "3  2011  11504\n",
       "4  2010  11228"
      ]
     },
     "execution_count": 42,
     "metadata": {},
     "output_type": "execute_result"
    }
   ],
   "source": [
    "%%time\n",
    "query = \"\"\"\n",
    "MATCH (w:Wine)-[:FROM_YEAR]->(y:Year)\n",
    "WITH y, collect(DISTINCT w.name) AS wines\n",
    "RETURN y.value AS year, size(wines) AS wines ORDER BY wines DESC LIMIT 5\n",
    "\"\"\"\n",
    "graph.run(query).to_data_frame()"
   ]
  },
  {
   "cell_type": "code",
   "execution_count": 43,
   "metadata": {},
   "outputs": [
    {
     "name": "stdout",
     "output_type": "stream",
     "text": [
      "CPU times: user 101 ms, sys: 4.04 ms, total: 105 ms\n",
      "Wall time: 108 ms\n"
     ]
    },
    {
     "data": {
      "text/html": [
       "<div>\n",
       "<style scoped>\n",
       "    .dataframe tbody tr th:only-of-type {\n",
       "        vertical-align: middle;\n",
       "    }\n",
       "\n",
       "    .dataframe tbody tr th {\n",
       "        vertical-align: top;\n",
       "    }\n",
       "\n",
       "    .dataframe thead th {\n",
       "        text-align: right;\n",
       "    }\n",
       "</style>\n",
       "<table border=\"1\" class=\"dataframe\">\n",
       "  <thead>\n",
       "    <tr style=\"text-align: right;\">\n",
       "      <th></th>\n",
       "      <th>year</th>\n",
       "      <th>wines</th>\n",
       "    </tr>\n",
       "  </thead>\n",
       "  <tbody>\n",
       "    <tr>\n",
       "      <th>0</th>\n",
       "      <td>2012</td>\n",
       "      <td>14302</td>\n",
       "    </tr>\n",
       "    <tr>\n",
       "      <th>1</th>\n",
       "      <td>2013</td>\n",
       "      <td>14261</td>\n",
       "    </tr>\n",
       "    <tr>\n",
       "      <th>2</th>\n",
       "      <td>2014</td>\n",
       "      <td>13914</td>\n",
       "    </tr>\n",
       "    <tr>\n",
       "      <th>3</th>\n",
       "      <td>2011</td>\n",
       "      <td>11504</td>\n",
       "    </tr>\n",
       "    <tr>\n",
       "      <th>4</th>\n",
       "      <td>2010</td>\n",
       "      <td>11228</td>\n",
       "    </tr>\n",
       "  </tbody>\n",
       "</table>\n",
       "</div>"
      ],
      "text/plain": [
       "   year  wines\n",
       "0  2012  14302\n",
       "1  2013  14261\n",
       "2  2014  13914\n",
       "3  2011  11504\n",
       "4  2010  11228"
      ]
     },
     "execution_count": 43,
     "metadata": {},
     "output_type": "execute_result"
    }
   ],
   "source": [
    "%%time\n",
    "result = prep[prep.year != \"No Year\"]\n",
    "result = result.groupby(['year'])['title'].nunique().reset_index()\n",
    "result.columns = ['year', 'wines']\n",
    "result = result.sort_values(by='wines',ascending=False).reset_index(drop=True)\n",
    "result.head(5)"
   ]
  },
  {
   "cell_type": "markdown",
   "metadata": {},
   "source": [
    "### Which top 5 Winery produces the most Wine for a given Year ?\n",
    "**note:** the cypher query is showing the distinct or unique count of wine titles"
   ]
  },
  {
   "cell_type": "code",
   "execution_count": 44,
   "metadata": {},
   "outputs": [
    {
     "name": "stdout",
     "output_type": "stream",
     "text": [
      "CPU times: user 3.45 ms, sys: 172 µs, total: 3.62 ms\n",
      "Wall time: 1.1 s\n"
     ]
    },
    {
     "data": {
      "text/html": [
       "<div>\n",
       "<style scoped>\n",
       "    .dataframe tbody tr th:only-of-type {\n",
       "        vertical-align: middle;\n",
       "    }\n",
       "\n",
       "    .dataframe tbody tr th {\n",
       "        vertical-align: top;\n",
       "    }\n",
       "\n",
       "    .dataframe thead th {\n",
       "        text-align: right;\n",
       "    }\n",
       "</style>\n",
       "<table border=\"1\" class=\"dataframe\">\n",
       "  <thead>\n",
       "    <tr style=\"text-align: right;\">\n",
       "      <th></th>\n",
       "      <th>Winery</th>\n",
       "      <th>Year</th>\n",
       "      <th>No of Wines</th>\n",
       "    </tr>\n",
       "  </thead>\n",
       "  <tbody>\n",
       "    <tr>\n",
       "      <th>0</th>\n",
       "      <td>Wines &amp; Winemakers</td>\n",
       "      <td>2013</td>\n",
       "      <td>39</td>\n",
       "    </tr>\n",
       "    <tr>\n",
       "      <th>1</th>\n",
       "      <td>Georges Duboeuf</td>\n",
       "      <td>2015</td>\n",
       "      <td>38</td>\n",
       "    </tr>\n",
       "    <tr>\n",
       "      <th>2</th>\n",
       "      <td>Wines &amp; Winemakers</td>\n",
       "      <td>2014</td>\n",
       "      <td>38</td>\n",
       "    </tr>\n",
       "    <tr>\n",
       "      <th>3</th>\n",
       "      <td>Louis Latour</td>\n",
       "      <td>2014</td>\n",
       "      <td>37</td>\n",
       "    </tr>\n",
       "    <tr>\n",
       "      <th>4</th>\n",
       "      <td>Georges Duboeuf</td>\n",
       "      <td>2014</td>\n",
       "      <td>37</td>\n",
       "    </tr>\n",
       "  </tbody>\n",
       "</table>\n",
       "</div>"
      ],
      "text/plain": [
       "               Winery  Year  No of Wines\n",
       "0  Wines & Winemakers  2013           39\n",
       "1     Georges Duboeuf  2015           38\n",
       "2  Wines & Winemakers  2014           38\n",
       "3        Louis Latour  2014           37\n",
       "4     Georges Duboeuf  2014           37"
      ]
     },
     "execution_count": 44,
     "metadata": {},
     "output_type": "execute_result"
    }
   ],
   "source": [
    "%%time\n",
    "query = \"\"\"\n",
    "MATCH (wy:Winery)<-[:FROM_WINERY]-(w:Wine)-[:FROM_YEAR]->(y:Year)\n",
    "WITH wy, y, COLLECT(DISTINCT w.name) AS wines\n",
    "RETURN wy.name AS Winery, y.value AS Year, size(wines) AS `No of Wines`\n",
    "ORDER BY `No of Wines` DESC LIMIT 5\n",
    "\"\"\"\n",
    "graph.run(query).to_data_frame()"
   ]
  },
  {
   "cell_type": "code",
   "execution_count": 45,
   "metadata": {},
   "outputs": [
    {
     "name": "stdout",
     "output_type": "stream",
     "text": [
      "CPU times: user 126 ms, sys: 0 ns, total: 126 ms\n",
      "Wall time: 127 ms\n"
     ]
    },
    {
     "data": {
      "text/html": [
       "<div>\n",
       "<style scoped>\n",
       "    .dataframe tbody tr th:only-of-type {\n",
       "        vertical-align: middle;\n",
       "    }\n",
       "\n",
       "    .dataframe tbody tr th {\n",
       "        vertical-align: top;\n",
       "    }\n",
       "\n",
       "    .dataframe thead th {\n",
       "        text-align: right;\n",
       "    }\n",
       "</style>\n",
       "<table border=\"1\" class=\"dataframe\">\n",
       "  <thead>\n",
       "    <tr style=\"text-align: right;\">\n",
       "      <th></th>\n",
       "      <th>Winery</th>\n",
       "      <th>Year</th>\n",
       "      <th>No of Wines</th>\n",
       "    </tr>\n",
       "  </thead>\n",
       "  <tbody>\n",
       "    <tr>\n",
       "      <th>0</th>\n",
       "      <td>Wines &amp; Winemakers</td>\n",
       "      <td>2013</td>\n",
       "      <td>39</td>\n",
       "    </tr>\n",
       "    <tr>\n",
       "      <th>1</th>\n",
       "      <td>Georges Duboeuf</td>\n",
       "      <td>2015</td>\n",
       "      <td>38</td>\n",
       "    </tr>\n",
       "    <tr>\n",
       "      <th>2</th>\n",
       "      <td>Wines &amp; Winemakers</td>\n",
       "      <td>2014</td>\n",
       "      <td>38</td>\n",
       "    </tr>\n",
       "    <tr>\n",
       "      <th>3</th>\n",
       "      <td>Louis Latour</td>\n",
       "      <td>2014</td>\n",
       "      <td>37</td>\n",
       "    </tr>\n",
       "    <tr>\n",
       "      <th>4</th>\n",
       "      <td>Georges Duboeuf</td>\n",
       "      <td>2014</td>\n",
       "      <td>37</td>\n",
       "    </tr>\n",
       "  </tbody>\n",
       "</table>\n",
       "</div>"
      ],
      "text/plain": [
       "               Winery  Year  No of Wines\n",
       "0  Wines & Winemakers  2013           39\n",
       "1     Georges Duboeuf  2015           38\n",
       "2  Wines & Winemakers  2014           38\n",
       "3        Louis Latour  2014           37\n",
       "4     Georges Duboeuf  2014           37"
      ]
     },
     "execution_count": 45,
     "metadata": {},
     "output_type": "execute_result"
    }
   ],
   "source": [
    "%%time\n",
    "result = prep.groupby(['winery', 'year']).agg({'title':['nunique']}).reset_index()\n",
    "result.columns = ['Winery', 'Year', 'No of Wines']\n",
    "result = result.sort_values(by='No of Wines',ascending=False).reset_index(drop=True)\n",
    "result.head(5)"
   ]
  },
  {
   "cell_type": "markdown",
   "metadata": {},
   "source": [
    "### Show Variety linked to VarietyName"
   ]
  },
  {
   "cell_type": "code",
   "execution_count": 46,
   "metadata": {},
   "outputs": [
    {
     "name": "stdout",
     "output_type": "stream",
     "text": [
      "CPU times: user 3.55 ms, sys: 0 ns, total: 3.55 ms\n",
      "Wall time: 90.6 ms\n"
     ]
    },
    {
     "data": {
      "text/html": [
       "<div>\n",
       "<style scoped>\n",
       "    .dataframe tbody tr th:only-of-type {\n",
       "        vertical-align: middle;\n",
       "    }\n",
       "\n",
       "    .dataframe tbody tr th {\n",
       "        vertical-align: top;\n",
       "    }\n",
       "\n",
       "    .dataframe thead th {\n",
       "        text-align: right;\n",
       "    }\n",
       "</style>\n",
       "<table border=\"1\" class=\"dataframe\">\n",
       "  <thead>\n",
       "    <tr style=\"text-align: right;\">\n",
       "      <th></th>\n",
       "      <th>vn.name</th>\n",
       "      <th>var</th>\n",
       "      <th>s</th>\n",
       "    </tr>\n",
       "  </thead>\n",
       "  <tbody>\n",
       "    <tr>\n",
       "      <th>0</th>\n",
       "      <td>blanc</td>\n",
       "      <td>[Pinot Noir, Chardonnay, Chenin Blanc, Sauvignon Blanc, Grenache Blanc, Pinot Blanc, Fumé Blanc,...</td>\n",
       "      <td>17</td>\n",
       "    </tr>\n",
       "    <tr>\n",
       "      <th>1</th>\n",
       "      <td>blend</td>\n",
       "      <td>[White Blend, Malbec, Tempranillo Blend, Red Blend, Bordeaux-style White Blend, Champagne Blend,...</td>\n",
       "      <td>16</td>\n",
       "    </tr>\n",
       "    <tr>\n",
       "      <th>2</th>\n",
       "      <td>cabernet</td>\n",
       "      <td>[Cabernet Sauvignon, Malbec, Sangiovese, Cabernet Franc, Carmenère, Syrah, Tannat-Cabernet, Merl...</td>\n",
       "      <td>14</td>\n",
       "    </tr>\n",
       "    <tr>\n",
       "      <th>3</th>\n",
       "      <td>tinta</td>\n",
       "      <td>[Tinta Miúda, Tinta de Toro, Tinta Fina, Tinta Roriz, Tinta Barroca, Tinta del Pais, Tinta del T...</td>\n",
       "      <td>12</td>\n",
       "    </tr>\n",
       "    <tr>\n",
       "      <th>4</th>\n",
       "      <td>pinot</td>\n",
       "      <td>[Pinot Gris, Pinot Noir, Chardonnay, Pinot Blanc, Pinot Bianco, Viognier, Pinot Grigio, Pinot Ne...</td>\n",
       "      <td>11</td>\n",
       "    </tr>\n",
       "  </tbody>\n",
       "</table>\n",
       "</div>"
      ],
      "text/plain": [
       "    vn.name  \\\n",
       "0     blanc   \n",
       "1     blend   \n",
       "2  cabernet   \n",
       "3     tinta   \n",
       "4     pinot   \n",
       "\n",
       "                                                                                                   var  \\\n",
       "0  [Pinot Noir, Chardonnay, Chenin Blanc, Sauvignon Blanc, Grenache Blanc, Pinot Blanc, Fumé Blanc,...   \n",
       "1  [White Blend, Malbec, Tempranillo Blend, Red Blend, Bordeaux-style White Blend, Champagne Blend,...   \n",
       "2  [Cabernet Sauvignon, Malbec, Sangiovese, Cabernet Franc, Carmenère, Syrah, Tannat-Cabernet, Merl...   \n",
       "3  [Tinta Miúda, Tinta de Toro, Tinta Fina, Tinta Roriz, Tinta Barroca, Tinta del Pais, Tinta del T...   \n",
       "4  [Pinot Gris, Pinot Noir, Chardonnay, Pinot Blanc, Pinot Bianco, Viognier, Pinot Grigio, Pinot Ne...   \n",
       "\n",
       "    s  \n",
       "0  17  \n",
       "1  16  \n",
       "2  14  \n",
       "3  12  \n",
       "4  11  "
      ]
     },
     "execution_count": 46,
     "metadata": {},
     "output_type": "execute_result"
    }
   ],
   "source": [
    "%%time\n",
    "query = \"\"\"\n",
    "MATCH (vn:VarietyName)-[:IS_COMPONENT_OF]->(v:Variety)\n",
    "WITH vn, COLLECT(v.name) AS var\n",
    "RETURN vn.name, var, size(var) AS s\n",
    "ORDER BY s DESC LIMIT 5\n",
    "\"\"\"\n",
    "graph.run(query).to_data_frame()"
   ]
  },
  {
   "cell_type": "markdown",
   "metadata": {},
   "source": [
    "### Which VarietyName have the most Wine ?"
   ]
  },
  {
   "cell_type": "code",
   "execution_count": 47,
   "metadata": {},
   "outputs": [
    {
     "name": "stdout",
     "output_type": "stream",
     "text": [
      "CPU times: user 2.84 ms, sys: 0 ns, total: 2.84 ms\n",
      "Wall time: 1.44 s\n"
     ]
    },
    {
     "data": {
      "text/html": [
       "<div>\n",
       "<style scoped>\n",
       "    .dataframe tbody tr th:only-of-type {\n",
       "        vertical-align: middle;\n",
       "    }\n",
       "\n",
       "    .dataframe tbody tr th {\n",
       "        vertical-align: top;\n",
       "    }\n",
       "\n",
       "    .dataframe thead th {\n",
       "        text-align: right;\n",
       "    }\n",
       "</style>\n",
       "<table border=\"1\" class=\"dataframe\">\n",
       "  <thead>\n",
       "    <tr style=\"text-align: right;\">\n",
       "      <th></th>\n",
       "      <th>vn.name</th>\n",
       "      <th>s</th>\n",
       "    </tr>\n",
       "  </thead>\n",
       "  <tbody>\n",
       "    <tr>\n",
       "      <th>0</th>\n",
       "      <td>syrah</td>\n",
       "      <td>34437</td>\n",
       "    </tr>\n",
       "    <tr>\n",
       "      <th>1</th>\n",
       "      <td>sauvignon</td>\n",
       "      <td>33631</td>\n",
       "    </tr>\n",
       "    <tr>\n",
       "      <th>2</th>\n",
       "      <td>blanc</td>\n",
       "      <td>30058</td>\n",
       "    </tr>\n",
       "    <tr>\n",
       "      <th>3</th>\n",
       "      <td>pinot</td>\n",
       "      <td>26373</td>\n",
       "    </tr>\n",
       "    <tr>\n",
       "      <th>4</th>\n",
       "      <td>blend</td>\n",
       "      <td>26086</td>\n",
       "    </tr>\n",
       "  </tbody>\n",
       "</table>\n",
       "</div>"
      ],
      "text/plain": [
       "     vn.name      s\n",
       "0      syrah  34437\n",
       "1  sauvignon  33631\n",
       "2      blanc  30058\n",
       "3      pinot  26373\n",
       "4      blend  26086"
      ]
     },
     "execution_count": 47,
     "metadata": {},
     "output_type": "execute_result"
    }
   ],
   "source": [
    "%%time\n",
    "query = \"\"\"\n",
    "MATCH (vn:VarietyName)-[:IS_COMPONENT_OF]->(v:Variety)<-[:HAS_VARIETY]-(w:Wine)\n",
    "WITH vn, COLLECT(DISTINCT w.name) AS wines\n",
    "RETURN vn.name, size(wines) AS s\n",
    "ORDER BY s DESC LIMIT 5\n",
    "\"\"\"\n",
    "graph.run(query).to_data_frame()"
   ]
  },
  {
   "cell_type": "markdown",
   "metadata": {},
   "source": [
    "### Find the popular product flavors in this 'merlot' variety"
   ]
  },
  {
   "cell_type": "markdown",
   "metadata": {},
   "source": [
    "* Avoid all the variety names that contain generic words. Manually added 'black', 'red', 'white', 'blend', 'style', 'other'\n",
    "* Then we match those description words to the variety names\n",
    "* After, we pull back all of the wines that match that have 'merlot' as a variety\n",
    "* Then we do a count against the most popular unique products in the wine"
   ]
  },
  {
   "cell_type": "code",
   "execution_count": 48,
   "metadata": {},
   "outputs": [
    {
     "name": "stdout",
     "output_type": "stream",
     "text": [
      "CPU times: user 3 ms, sys: 0 ns, total: 3 ms\n",
      "Wall time: 866 ms\n"
     ]
    },
    {
     "data": {
      "text/html": [
       "<div>\n",
       "<style scoped>\n",
       "    .dataframe tbody tr th:only-of-type {\n",
       "        vertical-align: middle;\n",
       "    }\n",
       "\n",
       "    .dataframe tbody tr th {\n",
       "        vertical-align: top;\n",
       "    }\n",
       "\n",
       "    .dataframe thead th {\n",
       "        text-align: right;\n",
       "    }\n",
       "</style>\n",
       "<table border=\"1\" class=\"dataframe\">\n",
       "  <thead>\n",
       "    <tr style=\"text-align: right;\">\n",
       "      <th></th>\n",
       "      <th>grapes</th>\n",
       "      <th>popularity</th>\n",
       "    </tr>\n",
       "  </thead>\n",
       "  <tbody>\n",
       "    <tr>\n",
       "      <th>0</th>\n",
       "      <td>[orange]</td>\n",
       "      <td>3</td>\n",
       "    </tr>\n",
       "    <tr>\n",
       "      <th>1</th>\n",
       "      <td>[apple]</td>\n",
       "      <td>2</td>\n",
       "    </tr>\n",
       "    <tr>\n",
       "      <th>2</th>\n",
       "      <td>[melon]</td>\n",
       "      <td>1</td>\n",
       "    </tr>\n",
       "  </tbody>\n",
       "</table>\n",
       "</div>"
      ],
      "text/plain": [
       "     grapes  popularity\n",
       "0  [orange]           3\n",
       "1   [apple]           2\n",
       "2   [melon]           1"
      ]
     },
     "execution_count": 48,
     "metadata": {},
     "output_type": "execute_result"
    }
   ],
   "source": [
    "%%time\n",
    "query = \"\"\"\n",
    "MATCH (vn:VarietyName)\n",
    "WHERE NOT vn.name in ['black', 'red', 'white', 'blend', 'style', 'other', 'blank', 'gris']\n",
    "WITH vn\n",
    "MATCH (p:Product {value:vn.name})\n",
    "WITH p\n",
    "MATCH (p:Product)-[:PRODUCT_IN]->(d:Description)<-[:HAS_DESCRIPTION]-(w:Wine)-[:HAS_VARIETY]->(v:Variety)\n",
    "WHERE tolower(v.name) contains('merlot')\n",
    "WITH w, p ORDER BY p.value\n",
    "WITH w, collect(DISTINCT p.value) as grapes\n",
    "RETURN grapes, count(grapes) as popularity order by popularity desc\n",
    "\"\"\"\n",
    "graph.run(query).to_data_frame()"
   ]
  },
  {
   "cell_type": "markdown",
   "metadata": {},
   "source": [
    "### Which wines have 100 points ?"
   ]
  },
  {
   "cell_type": "code",
   "execution_count": 49,
   "metadata": {},
   "outputs": [
    {
     "name": "stdout",
     "output_type": "stream",
     "text": [
      "CPU times: user 126 µs, sys: 3.61 ms, total: 3.74 ms\n",
      "Wall time: 134 ms\n"
     ]
    },
    {
     "data": {
      "text/html": [
       "<div>\n",
       "<style scoped>\n",
       "    .dataframe tbody tr th:only-of-type {\n",
       "        vertical-align: middle;\n",
       "    }\n",
       "\n",
       "    .dataframe tbody tr th {\n",
       "        vertical-align: top;\n",
       "    }\n",
       "\n",
       "    .dataframe thead th {\n",
       "        text-align: right;\n",
       "    }\n",
       "</style>\n",
       "<table border=\"1\" class=\"dataframe\">\n",
       "  <thead>\n",
       "    <tr style=\"text-align: right;\">\n",
       "      <th></th>\n",
       "      <th>Reviewer</th>\n",
       "      <th>Wine title</th>\n",
       "      <th>Grape variety</th>\n",
       "    </tr>\n",
       "  </thead>\n",
       "  <tbody>\n",
       "    <tr>\n",
       "      <th>0</th>\n",
       "      <td>No Taster</td>\n",
       "      <td>Verité 2007 La Muse Red (Sonoma County)</td>\n",
       "      <td>Bordeaux-style Red Blend</td>\n",
       "    </tr>\n",
       "    <tr>\n",
       "      <th>1</th>\n",
       "      <td>Roger Voss</td>\n",
       "      <td>Château Léoville Las Cases 2010  Saint-Julien</td>\n",
       "      <td>Bordeaux-style Red Blend</td>\n",
       "    </tr>\n",
       "    <tr>\n",
       "      <th>2</th>\n",
       "      <td>Roger Voss</td>\n",
       "      <td>Château Cheval Blanc 2010  Saint-Émilion</td>\n",
       "      <td>Bordeaux-style Red Blend</td>\n",
       "    </tr>\n",
       "    <tr>\n",
       "      <th>3</th>\n",
       "      <td>Roger Voss</td>\n",
       "      <td>Château Lafite Rothschild 2010  Pauillac</td>\n",
       "      <td>Bordeaux-style Red Blend</td>\n",
       "    </tr>\n",
       "    <tr>\n",
       "      <th>4</th>\n",
       "      <td>Roger Voss</td>\n",
       "      <td>Château Léoville Barton 2010  Saint-Julien</td>\n",
       "      <td>Bordeaux-style Red Blend</td>\n",
       "    </tr>\n",
       "    <tr>\n",
       "      <th>5</th>\n",
       "      <td>Roger Voss</td>\n",
       "      <td>Château Haut-Brion 2014  Pessac-Léognan</td>\n",
       "      <td>Bordeaux-style White Blend</td>\n",
       "    </tr>\n",
       "    <tr>\n",
       "      <th>6</th>\n",
       "      <td>No Taster</td>\n",
       "      <td>Cardinale 2006 Cabernet Sauvignon (Napa Valley)</td>\n",
       "      <td>Cabernet Sauvignon</td>\n",
       "    </tr>\n",
       "    <tr>\n",
       "      <th>7</th>\n",
       "      <td>Roger Voss</td>\n",
       "      <td>Louis Roederer 2008 Cristal Vintage Brut  (Champagne)</td>\n",
       "      <td>Champagne Blend</td>\n",
       "    </tr>\n",
       "    <tr>\n",
       "      <th>8</th>\n",
       "      <td>Roger Voss</td>\n",
       "      <td>Krug 2002 Brut  (Champagne)</td>\n",
       "      <td>Champagne Blend</td>\n",
       "    </tr>\n",
       "    <tr>\n",
       "      <th>9</th>\n",
       "      <td>Roger Voss</td>\n",
       "      <td>Salon 2006 Le Mesnil Blanc de Blancs Brut Chardonnay (Champagne)</td>\n",
       "      <td>Chardonnay</td>\n",
       "    </tr>\n",
       "    <tr>\n",
       "      <th>10</th>\n",
       "      <td>Joe Czerwinski</td>\n",
       "      <td>Chambers Rosewood Vineyards NV Rare Muscat (Rutherglen)</td>\n",
       "      <td>Muscat</td>\n",
       "    </tr>\n",
       "    <tr>\n",
       "      <th>11</th>\n",
       "      <td>Roger Voss</td>\n",
       "      <td>Quinta do Noval 2011 Nacional Vintage  (Port)</td>\n",
       "      <td>Portuguese Red</td>\n",
       "    </tr>\n",
       "    <tr>\n",
       "      <th>12</th>\n",
       "      <td>Roger Voss</td>\n",
       "      <td>Casa Ferreirinha 2008 Barca-Velha Red (Douro)</td>\n",
       "      <td>Portuguese Red</td>\n",
       "    </tr>\n",
       "    <tr>\n",
       "      <th>13</th>\n",
       "      <td>No Taster</td>\n",
       "      <td>Avignonesi 1995 Occhio di Pernice  (Vin Santo di Montepulciano)</td>\n",
       "      <td>Prugnolo Gentile</td>\n",
       "    </tr>\n",
       "    <tr>\n",
       "      <th>14</th>\n",
       "      <td>No Taster</td>\n",
       "      <td>Casanova di Neri 2007 Cerretalto  (Brunello di Montalcino)</td>\n",
       "      <td>Sangiovese</td>\n",
       "    </tr>\n",
       "    <tr>\n",
       "      <th>15</th>\n",
       "      <td>Kerin O’Keefe</td>\n",
       "      <td>Biondi Santi 2010 Riserva  (Brunello di Montalcino)</td>\n",
       "      <td>Sangiovese</td>\n",
       "    </tr>\n",
       "    <tr>\n",
       "      <th>16</th>\n",
       "      <td>Paul Gregutt</td>\n",
       "      <td>Cayuse 2008 Bionic Frog Syrah (Walla Walla Valley (WA))</td>\n",
       "      <td>Syrah</td>\n",
       "    </tr>\n",
       "    <tr>\n",
       "      <th>17</th>\n",
       "      <td>Paul Gregutt</td>\n",
       "      <td>Charles Smith 2006 Royal City Syrah (Columbia Valley (WA))</td>\n",
       "      <td>Syrah</td>\n",
       "    </tr>\n",
       "    <tr>\n",
       "      <th>18</th>\n",
       "      <td>No Taster</td>\n",
       "      <td>Tenuta dell'Ornellaia 2007 Masseto Merlot (Toscana)</td>\n",
       "      <td>Tempranillo-Merlot</td>\n",
       "    </tr>\n",
       "  </tbody>\n",
       "</table>\n",
       "</div>"
      ],
      "text/plain": [
       "          Reviewer  \\\n",
       "0        No Taster   \n",
       "1       Roger Voss   \n",
       "2       Roger Voss   \n",
       "3       Roger Voss   \n",
       "4       Roger Voss   \n",
       "5       Roger Voss   \n",
       "6        No Taster   \n",
       "7       Roger Voss   \n",
       "8       Roger Voss   \n",
       "9       Roger Voss   \n",
       "10  Joe Czerwinski   \n",
       "11      Roger Voss   \n",
       "12      Roger Voss   \n",
       "13       No Taster   \n",
       "14       No Taster   \n",
       "15   Kerin O’Keefe   \n",
       "16    Paul Gregutt   \n",
       "17    Paul Gregutt   \n",
       "18       No Taster   \n",
       "\n",
       "                                                          Wine title  \\\n",
       "0                            Verité 2007 La Muse Red (Sonoma County)   \n",
       "1                      Château Léoville Las Cases 2010  Saint-Julien   \n",
       "2                           Château Cheval Blanc 2010  Saint-Émilion   \n",
       "3                           Château Lafite Rothschild 2010  Pauillac   \n",
       "4                         Château Léoville Barton 2010  Saint-Julien   \n",
       "5                            Château Haut-Brion 2014  Pessac-Léognan   \n",
       "6                    Cardinale 2006 Cabernet Sauvignon (Napa Valley)   \n",
       "7              Louis Roederer 2008 Cristal Vintage Brut  (Champagne)   \n",
       "8                                        Krug 2002 Brut  (Champagne)   \n",
       "9   Salon 2006 Le Mesnil Blanc de Blancs Brut Chardonnay (Champagne)   \n",
       "10           Chambers Rosewood Vineyards NV Rare Muscat (Rutherglen)   \n",
       "11                     Quinta do Noval 2011 Nacional Vintage  (Port)   \n",
       "12                     Casa Ferreirinha 2008 Barca-Velha Red (Douro)   \n",
       "13   Avignonesi 1995 Occhio di Pernice  (Vin Santo di Montepulciano)   \n",
       "14        Casanova di Neri 2007 Cerretalto  (Brunello di Montalcino)   \n",
       "15               Biondi Santi 2010 Riserva  (Brunello di Montalcino)   \n",
       "16           Cayuse 2008 Bionic Frog Syrah (Walla Walla Valley (WA))   \n",
       "17        Charles Smith 2006 Royal City Syrah (Columbia Valley (WA))   \n",
       "18               Tenuta dell'Ornellaia 2007 Masseto Merlot (Toscana)   \n",
       "\n",
       "                 Grape variety  \n",
       "0     Bordeaux-style Red Blend  \n",
       "1     Bordeaux-style Red Blend  \n",
       "2     Bordeaux-style Red Blend  \n",
       "3     Bordeaux-style Red Blend  \n",
       "4     Bordeaux-style Red Blend  \n",
       "5   Bordeaux-style White Blend  \n",
       "6           Cabernet Sauvignon  \n",
       "7              Champagne Blend  \n",
       "8              Champagne Blend  \n",
       "9                   Chardonnay  \n",
       "10                      Muscat  \n",
       "11              Portuguese Red  \n",
       "12              Portuguese Red  \n",
       "13            Prugnolo Gentile  \n",
       "14                  Sangiovese  \n",
       "15                  Sangiovese  \n",
       "16                       Syrah  \n",
       "17                       Syrah  \n",
       "18          Tempranillo-Merlot  "
      ]
     },
     "execution_count": 49,
     "metadata": {},
     "output_type": "execute_result"
    }
   ],
   "source": [
    "%%time\n",
    "# ...\n",
    "query = \"\"\"\n",
    "MATCH (p:Points {value:100})<-[:HAS_POINTS]-(w:Wine)-[:HAS_VARIETY]->(v:Variety)\n",
    "MATCH (w)-[:TASTED_BY]->(t:Taster)\n",
    "RETURN t.name AS `Reviewer`, w.name AS `Wine title`, v.name AS `Grape variety` ORDER BY `Grape variety`\n",
    "\"\"\"\n",
    "graph.run(query).to_data_frame()"
   ]
  },
  {
   "cell_type": "code",
   "execution_count": 50,
   "metadata": {},
   "outputs": [
    {
     "name": "stdout",
     "output_type": "stream",
     "text": [
      "CPU times: user 5.22 ms, sys: 60 µs, total: 5.28 ms\n",
      "Wall time: 4.9 ms\n"
     ]
    },
    {
     "data": {
      "text/html": [
       "<div>\n",
       "<style scoped>\n",
       "    .dataframe tbody tr th:only-of-type {\n",
       "        vertical-align: middle;\n",
       "    }\n",
       "\n",
       "    .dataframe tbody tr th {\n",
       "        vertical-align: top;\n",
       "    }\n",
       "\n",
       "    .dataframe thead th {\n",
       "        text-align: right;\n",
       "    }\n",
       "</style>\n",
       "<table border=\"1\" class=\"dataframe\">\n",
       "  <thead>\n",
       "    <tr style=\"text-align: right;\">\n",
       "      <th></th>\n",
       "      <th>Reviewer</th>\n",
       "      <th>Wine Title</th>\n",
       "      <th>Variety</th>\n",
       "      <th>points</th>\n",
       "    </tr>\n",
       "  </thead>\n",
       "  <tbody>\n",
       "    <tr>\n",
       "      <th>0</th>\n",
       "      <td>No Taster</td>\n",
       "      <td>Verité 2007 La Muse Red (Sonoma County)</td>\n",
       "      <td>Bordeaux-style Red Blend</td>\n",
       "      <td>100</td>\n",
       "    </tr>\n",
       "    <tr>\n",
       "      <th>1</th>\n",
       "      <td>Roger Voss</td>\n",
       "      <td>Château Léoville Las Cases 2010  Saint-Julien</td>\n",
       "      <td>Bordeaux-style Red Blend</td>\n",
       "      <td>100</td>\n",
       "    </tr>\n",
       "    <tr>\n",
       "      <th>2</th>\n",
       "      <td>Roger Voss</td>\n",
       "      <td>Château Cheval Blanc 2010  Saint-Émilion</td>\n",
       "      <td>Bordeaux-style Red Blend</td>\n",
       "      <td>100</td>\n",
       "    </tr>\n",
       "    <tr>\n",
       "      <th>3</th>\n",
       "      <td>Roger Voss</td>\n",
       "      <td>Château Lafite Rothschild 2010  Pauillac</td>\n",
       "      <td>Bordeaux-style Red Blend</td>\n",
       "      <td>100</td>\n",
       "    </tr>\n",
       "    <tr>\n",
       "      <th>4</th>\n",
       "      <td>Roger Voss</td>\n",
       "      <td>Château Léoville Barton 2010  Saint-Julien</td>\n",
       "      <td>Bordeaux-style Red Blend</td>\n",
       "      <td>100</td>\n",
       "    </tr>\n",
       "    <tr>\n",
       "      <th>5</th>\n",
       "      <td>Roger Voss</td>\n",
       "      <td>Château Haut-Brion 2014  Pessac-Léognan</td>\n",
       "      <td>Bordeaux-style White Blend</td>\n",
       "      <td>100</td>\n",
       "    </tr>\n",
       "    <tr>\n",
       "      <th>6</th>\n",
       "      <td>No Taster</td>\n",
       "      <td>Cardinale 2006 Cabernet Sauvignon (Napa Valley)</td>\n",
       "      <td>Cabernet Sauvignon</td>\n",
       "      <td>100</td>\n",
       "    </tr>\n",
       "    <tr>\n",
       "      <th>7</th>\n",
       "      <td>Roger Voss</td>\n",
       "      <td>Krug 2002 Brut  (Champagne)</td>\n",
       "      <td>Champagne Blend</td>\n",
       "      <td>100</td>\n",
       "    </tr>\n",
       "    <tr>\n",
       "      <th>8</th>\n",
       "      <td>Roger Voss</td>\n",
       "      <td>Louis Roederer 2008 Cristal Vintage Brut  (Champagne)</td>\n",
       "      <td>Champagne Blend</td>\n",
       "      <td>100</td>\n",
       "    </tr>\n",
       "    <tr>\n",
       "      <th>9</th>\n",
       "      <td>Roger Voss</td>\n",
       "      <td>Salon 2006 Le Mesnil Blanc de Blancs Brut Chardonnay (Champagne)</td>\n",
       "      <td>Chardonnay</td>\n",
       "      <td>100</td>\n",
       "    </tr>\n",
       "    <tr>\n",
       "      <th>10</th>\n",
       "      <td>Joe Czerwinski</td>\n",
       "      <td>Chambers Rosewood Vineyards NV Rare Muscat (Rutherglen)</td>\n",
       "      <td>Muscat</td>\n",
       "      <td>100</td>\n",
       "    </tr>\n",
       "    <tr>\n",
       "      <th>11</th>\n",
       "      <td>Roger Voss</td>\n",
       "      <td>Casa Ferreirinha 2008 Barca-Velha Red (Douro)</td>\n",
       "      <td>Portuguese Red</td>\n",
       "      <td>100</td>\n",
       "    </tr>\n",
       "    <tr>\n",
       "      <th>12</th>\n",
       "      <td>Roger Voss</td>\n",
       "      <td>Quinta do Noval 2011 Nacional Vintage  (Port)</td>\n",
       "      <td>Portuguese Red</td>\n",
       "      <td>100</td>\n",
       "    </tr>\n",
       "    <tr>\n",
       "      <th>13</th>\n",
       "      <td>No Taster</td>\n",
       "      <td>Avignonesi 1995 Occhio di Pernice  (Vin Santo di Montepulciano)</td>\n",
       "      <td>Prugnolo Gentile</td>\n",
       "      <td>100</td>\n",
       "    </tr>\n",
       "    <tr>\n",
       "      <th>14</th>\n",
       "      <td>No Taster</td>\n",
       "      <td>Casanova di Neri 2007 Cerretalto  (Brunello di Montalcino)</td>\n",
       "      <td>Sangiovese</td>\n",
       "      <td>100</td>\n",
       "    </tr>\n",
       "    <tr>\n",
       "      <th>15</th>\n",
       "      <td>Kerin O’Keefe</td>\n",
       "      <td>Biondi Santi 2010 Riserva  (Brunello di Montalcino)</td>\n",
       "      <td>Sangiovese</td>\n",
       "      <td>100</td>\n",
       "    </tr>\n",
       "    <tr>\n",
       "      <th>16</th>\n",
       "      <td>Paul Gregutt</td>\n",
       "      <td>Charles Smith 2006 Royal City Syrah (Columbia Valley (WA))</td>\n",
       "      <td>Syrah</td>\n",
       "      <td>100</td>\n",
       "    </tr>\n",
       "    <tr>\n",
       "      <th>17</th>\n",
       "      <td>Paul Gregutt</td>\n",
       "      <td>Cayuse 2008 Bionic Frog Syrah (Walla Walla Valley (WA))</td>\n",
       "      <td>Syrah</td>\n",
       "      <td>100</td>\n",
       "    </tr>\n",
       "    <tr>\n",
       "      <th>18</th>\n",
       "      <td>No Taster</td>\n",
       "      <td>Tenuta dell'Ornellaia 2007 Masseto Merlot (Toscana)</td>\n",
       "      <td>Tempranillo-Merlot</td>\n",
       "      <td>100</td>\n",
       "    </tr>\n",
       "  </tbody>\n",
       "</table>\n",
       "</div>"
      ],
      "text/plain": [
       "          Reviewer  \\\n",
       "0        No Taster   \n",
       "1       Roger Voss   \n",
       "2       Roger Voss   \n",
       "3       Roger Voss   \n",
       "4       Roger Voss   \n",
       "5       Roger Voss   \n",
       "6        No Taster   \n",
       "7       Roger Voss   \n",
       "8       Roger Voss   \n",
       "9       Roger Voss   \n",
       "10  Joe Czerwinski   \n",
       "11      Roger Voss   \n",
       "12      Roger Voss   \n",
       "13       No Taster   \n",
       "14       No Taster   \n",
       "15   Kerin O’Keefe   \n",
       "16    Paul Gregutt   \n",
       "17    Paul Gregutt   \n",
       "18       No Taster   \n",
       "\n",
       "                                                          Wine Title  \\\n",
       "0                            Verité 2007 La Muse Red (Sonoma County)   \n",
       "1                      Château Léoville Las Cases 2010  Saint-Julien   \n",
       "2                           Château Cheval Blanc 2010  Saint-Émilion   \n",
       "3                           Château Lafite Rothschild 2010  Pauillac   \n",
       "4                         Château Léoville Barton 2010  Saint-Julien   \n",
       "5                            Château Haut-Brion 2014  Pessac-Léognan   \n",
       "6                    Cardinale 2006 Cabernet Sauvignon (Napa Valley)   \n",
       "7                                        Krug 2002 Brut  (Champagne)   \n",
       "8              Louis Roederer 2008 Cristal Vintage Brut  (Champagne)   \n",
       "9   Salon 2006 Le Mesnil Blanc de Blancs Brut Chardonnay (Champagne)   \n",
       "10           Chambers Rosewood Vineyards NV Rare Muscat (Rutherglen)   \n",
       "11                     Casa Ferreirinha 2008 Barca-Velha Red (Douro)   \n",
       "12                     Quinta do Noval 2011 Nacional Vintage  (Port)   \n",
       "13   Avignonesi 1995 Occhio di Pernice  (Vin Santo di Montepulciano)   \n",
       "14        Casanova di Neri 2007 Cerretalto  (Brunello di Montalcino)   \n",
       "15               Biondi Santi 2010 Riserva  (Brunello di Montalcino)   \n",
       "16        Charles Smith 2006 Royal City Syrah (Columbia Valley (WA))   \n",
       "17           Cayuse 2008 Bionic Frog Syrah (Walla Walla Valley (WA))   \n",
       "18               Tenuta dell'Ornellaia 2007 Masseto Merlot (Toscana)   \n",
       "\n",
       "                       Variety  points  \n",
       "0     Bordeaux-style Red Blend     100  \n",
       "1     Bordeaux-style Red Blend     100  \n",
       "2     Bordeaux-style Red Blend     100  \n",
       "3     Bordeaux-style Red Blend     100  \n",
       "4     Bordeaux-style Red Blend     100  \n",
       "5   Bordeaux-style White Blend     100  \n",
       "6           Cabernet Sauvignon     100  \n",
       "7              Champagne Blend     100  \n",
       "8              Champagne Blend     100  \n",
       "9                   Chardonnay     100  \n",
       "10                      Muscat     100  \n",
       "11              Portuguese Red     100  \n",
       "12              Portuguese Red     100  \n",
       "13            Prugnolo Gentile     100  \n",
       "14                  Sangiovese     100  \n",
       "15                  Sangiovese     100  \n",
       "16                       Syrah     100  \n",
       "17                       Syrah     100  \n",
       "18          Tempranillo-Merlot     100  "
      ]
     },
     "execution_count": 50,
     "metadata": {},
     "output_type": "execute_result"
    }
   ],
   "source": [
    "%%time\n",
    "result = prep[(prep[\"points\"] == 100)][[\"taster_name\", \"title\", \"variety\", \"points\"]]\n",
    "result = result.sort_values(by=[\"variety\"], ascending=True).reset_index(drop=True)\n",
    "result = result.rename(columns={'taster_name':'Reviewer', 'title':'Wine Title', 'variety':'Variety'})\n",
    "result"
   ]
  },
  {
   "cell_type": "markdown",
   "metadata": {},
   "source": [
    "### Show the most expensive wines (>1000)"
   ]
  },
  {
   "cell_type": "code",
   "execution_count": 51,
   "metadata": {},
   "outputs": [
    {
     "name": "stdout",
     "output_type": "stream",
     "text": [
      "CPU times: user 2.71 ms, sys: 0 ns, total: 2.71 ms\n",
      "Wall time: 136 ms\n"
     ]
    },
    {
     "data": {
      "text/html": [
       "<div>\n",
       "<style scoped>\n",
       "    .dataframe tbody tr th:only-of-type {\n",
       "        vertical-align: middle;\n",
       "    }\n",
       "\n",
       "    .dataframe tbody tr th {\n",
       "        vertical-align: top;\n",
       "    }\n",
       "\n",
       "    .dataframe thead th {\n",
       "        text-align: right;\n",
       "    }\n",
       "</style>\n",
       "<table border=\"1\" class=\"dataframe\">\n",
       "  <thead>\n",
       "    <tr style=\"text-align: right;\">\n",
       "      <th></th>\n",
       "      <th>Title</th>\n",
       "      <th>Price</th>\n",
       "      <th>Points</th>\n",
       "    </tr>\n",
       "  </thead>\n",
       "  <tbody>\n",
       "    <tr>\n",
       "      <th>0</th>\n",
       "      <td>Château les Ormes Sorbet 2013  Médoc</td>\n",
       "      <td>3300</td>\n",
       "      <td>88</td>\n",
       "    </tr>\n",
       "    <tr>\n",
       "      <th>1</th>\n",
       "      <td>Blair 2013 Roger Rose Vineyard Chardonnay (Arroyo Seco)</td>\n",
       "      <td>2013</td>\n",
       "      <td>91</td>\n",
       "    </tr>\n",
       "    <tr>\n",
       "      <th>2</th>\n",
       "      <td>Château La Mission Haut-Brion 2009  Pessac-Léognan</td>\n",
       "      <td>1000</td>\n",
       "      <td>94</td>\n",
       "    </tr>\n",
       "    <tr>\n",
       "      <th>3</th>\n",
       "      <td>Emmerich Knoll 2013 Ried Loibenberg Smaragd Grüner Veltliner (Wachau)</td>\n",
       "      <td>1100</td>\n",
       "      <td>94</td>\n",
       "    </tr>\n",
       "    <tr>\n",
       "      <th>4</th>\n",
       "      <td>Domaine du Comte Liger-Belair 2006  La Romanée</td>\n",
       "      <td>1125</td>\n",
       "      <td>94</td>\n",
       "    </tr>\n",
       "    <tr>\n",
       "      <th>5</th>\n",
       "      <td>Château Haut-Brion 2009  Pessac-Léognan</td>\n",
       "      <td>1200</td>\n",
       "      <td>96</td>\n",
       "    </tr>\n",
       "    <tr>\n",
       "      <th>6</th>\n",
       "      <td>Château Mouton Rothschild 2009  Pauillac</td>\n",
       "      <td>1300</td>\n",
       "      <td>96</td>\n",
       "    </tr>\n",
       "    <tr>\n",
       "      <th>7</th>\n",
       "      <td>Domaine du Comte Liger-Belair 2005  La Romanée</td>\n",
       "      <td>2000</td>\n",
       "      <td>96</td>\n",
       "    </tr>\n",
       "    <tr>\n",
       "      <th>8</th>\n",
       "      <td>Domaine du Comte Liger-Belair 2010  La Romanée</td>\n",
       "      <td>2500</td>\n",
       "      <td>96</td>\n",
       "    </tr>\n",
       "    <tr>\n",
       "      <th>9</th>\n",
       "      <td>Château Pétrus 2014  Pomerol</td>\n",
       "      <td>2500</td>\n",
       "      <td>96</td>\n",
       "    </tr>\n",
       "    <tr>\n",
       "      <th>10</th>\n",
       "      <td>W. &amp; J. Graham's NV 90-year Old Tawny  (Port)</td>\n",
       "      <td>1000</td>\n",
       "      <td>97</td>\n",
       "    </tr>\n",
       "    <tr>\n",
       "      <th>11</th>\n",
       "      <td>Château La Mission Haut-Brion 2009  Pessac-Léognan</td>\n",
       "      <td>1100</td>\n",
       "      <td>97</td>\n",
       "    </tr>\n",
       "    <tr>\n",
       "      <th>12</th>\n",
       "      <td>Château Pétrus 2011  Pomerol</td>\n",
       "      <td>2000</td>\n",
       "      <td>97</td>\n",
       "    </tr>\n",
       "    <tr>\n",
       "      <th>13</th>\n",
       "      <td>Château Margaux 2009  Margaux</td>\n",
       "      <td>1900</td>\n",
       "      <td>98</td>\n",
       "    </tr>\n",
       "    <tr>\n",
       "      <th>14</th>\n",
       "      <td>Château Cheval Blanc 2010  Saint-Émilion</td>\n",
       "      <td>1500</td>\n",
       "      <td>100</td>\n",
       "    </tr>\n",
       "    <tr>\n",
       "      <th>15</th>\n",
       "      <td>Château Lafite Rothschild 2010  Pauillac</td>\n",
       "      <td>1500</td>\n",
       "      <td>100</td>\n",
       "    </tr>\n",
       "  </tbody>\n",
       "</table>\n",
       "</div>"
      ],
      "text/plain": [
       "                                                                    Title  \\\n",
       "0                                    Château les Ormes Sorbet 2013  Médoc   \n",
       "1                 Blair 2013 Roger Rose Vineyard Chardonnay (Arroyo Seco)   \n",
       "2                      Château La Mission Haut-Brion 2009  Pessac-Léognan   \n",
       "3   Emmerich Knoll 2013 Ried Loibenberg Smaragd Grüner Veltliner (Wachau)   \n",
       "4                          Domaine du Comte Liger-Belair 2006  La Romanée   \n",
       "5                                 Château Haut-Brion 2009  Pessac-Léognan   \n",
       "6                                Château Mouton Rothschild 2009  Pauillac   \n",
       "7                          Domaine du Comte Liger-Belair 2005  La Romanée   \n",
       "8                          Domaine du Comte Liger-Belair 2010  La Romanée   \n",
       "9                                            Château Pétrus 2014  Pomerol   \n",
       "10                          W. & J. Graham's NV 90-year Old Tawny  (Port)   \n",
       "11                     Château La Mission Haut-Brion 2009  Pessac-Léognan   \n",
       "12                                           Château Pétrus 2011  Pomerol   \n",
       "13                                          Château Margaux 2009  Margaux   \n",
       "14                               Château Cheval Blanc 2010  Saint-Émilion   \n",
       "15                               Château Lafite Rothschild 2010  Pauillac   \n",
       "\n",
       "    Price  Points  \n",
       "0    3300      88  \n",
       "1    2013      91  \n",
       "2    1000      94  \n",
       "3    1100      94  \n",
       "4    1125      94  \n",
       "5    1200      96  \n",
       "6    1300      96  \n",
       "7    2000      96  \n",
       "8    2500      96  \n",
       "9    2500      96  \n",
       "10   1000      97  \n",
       "11   1100      97  \n",
       "12   2000      97  \n",
       "13   1900      98  \n",
       "14   1500     100  \n",
       "15   1500     100  "
      ]
     },
     "execution_count": 51,
     "metadata": {},
     "output_type": "execute_result"
    }
   ],
   "source": [
    "%%time\n",
    "query = \"\"\"\n",
    "MATCH (po:Points)<-[:HAS_POINTS]-(wi:Wine)-[:HAS_PRICE]->(pr:Price)\n",
    "WHERE pr.value >= 1000\n",
    "RETURN wi.name AS Title, pr.value AS Price, po.value AS Points ORDER BY po.value\n",
    "\"\"\"\n",
    "graph.run(query).to_data_frame()"
   ]
  },
  {
   "cell_type": "markdown",
   "metadata": {},
   "source": [
    "### Show the highest scoring wines"
   ]
  },
  {
   "cell_type": "code",
   "execution_count": 52,
   "metadata": {},
   "outputs": [
    {
     "name": "stdout",
     "output_type": "stream",
     "text": [
      "CPU times: user 12.3 ms, sys: 16 µs, total: 12.3 ms\n",
      "Wall time: 143 ms\n"
     ]
    },
    {
     "data": {
      "text/html": [
       "<div>\n",
       "<style scoped>\n",
       "    .dataframe tbody tr th:only-of-type {\n",
       "        vertical-align: middle;\n",
       "    }\n",
       "\n",
       "    .dataframe tbody tr th {\n",
       "        vertical-align: top;\n",
       "    }\n",
       "\n",
       "    .dataframe thead th {\n",
       "        text-align: right;\n",
       "    }\n",
       "</style>\n",
       "<table border=\"1\" class=\"dataframe\">\n",
       "  <thead>\n",
       "    <tr style=\"text-align: right;\">\n",
       "      <th></th>\n",
       "      <th>Title</th>\n",
       "      <th>Variety</th>\n",
       "      <th>Points</th>\n",
       "      <th>Price</th>\n",
       "    </tr>\n",
       "  </thead>\n",
       "  <tbody>\n",
       "    <tr>\n",
       "      <th>0</th>\n",
       "      <td>Donkey &amp; Goat 2010 Fenaughty Vineyard Syrah (El Dorado)</td>\n",
       "      <td>Syrah</td>\n",
       "      <td>97</td>\n",
       "      <td>35</td>\n",
       "    </tr>\n",
       "    <tr>\n",
       "      <th>1</th>\n",
       "      <td>Taylor Fladgate NV 325 Anniversary  (Port)</td>\n",
       "      <td>Portuguese Red</td>\n",
       "      <td>97</td>\n",
       "      <td>40</td>\n",
       "    </tr>\n",
       "    <tr>\n",
       "      <th>2</th>\n",
       "      <td>Failla 2010 Estate Vineyard Chardonnay (Sonoma Coast)</td>\n",
       "      <td>Chardonnay</td>\n",
       "      <td>99</td>\n",
       "      <td>44</td>\n",
       "    </tr>\n",
       "    <tr>\n",
       "      <th>3</th>\n",
       "      <td>Château Coutet 2014  Barsac</td>\n",
       "      <td>Bordeaux-style White Blend</td>\n",
       "      <td>97</td>\n",
       "      <td>45</td>\n",
       "    </tr>\n",
       "    <tr>\n",
       "      <th>4</th>\n",
       "      <td>Trefethen 2005 Estate Cabernet Sauvignon (Oak Knoll District)</td>\n",
       "      <td>Cabernet Sauvignon</td>\n",
       "      <td>97</td>\n",
       "      <td>50</td>\n",
       "    </tr>\n",
       "    <tr>\n",
       "      <th>...</th>\n",
       "      <td>...</td>\n",
       "      <td>...</td>\n",
       "      <td>...</td>\n",
       "      <td>...</td>\n",
       "    </tr>\n",
       "    <tr>\n",
       "      <th>317</th>\n",
       "      <td>Château La Mission Haut-Brion 2009  Pessac-Léognan</td>\n",
       "      <td>Bordeaux-style Red Blend</td>\n",
       "      <td>97</td>\n",
       "      <td>1100</td>\n",
       "    </tr>\n",
       "    <tr>\n",
       "      <th>318</th>\n",
       "      <td>Château Cheval Blanc 2010  Saint-Émilion</td>\n",
       "      <td>Bordeaux-style Red Blend</td>\n",
       "      <td>100</td>\n",
       "      <td>1500</td>\n",
       "    </tr>\n",
       "    <tr>\n",
       "      <th>319</th>\n",
       "      <td>Château Lafite Rothschild 2010  Pauillac</td>\n",
       "      <td>Bordeaux-style Red Blend</td>\n",
       "      <td>100</td>\n",
       "      <td>1500</td>\n",
       "    </tr>\n",
       "    <tr>\n",
       "      <th>320</th>\n",
       "      <td>Château Margaux 2009  Margaux</td>\n",
       "      <td>Bordeaux-style Red Blend</td>\n",
       "      <td>98</td>\n",
       "      <td>1900</td>\n",
       "    </tr>\n",
       "    <tr>\n",
       "      <th>321</th>\n",
       "      <td>Château Pétrus 2011  Pomerol</td>\n",
       "      <td>Bordeaux-style Red Blend</td>\n",
       "      <td>97</td>\n",
       "      <td>2000</td>\n",
       "    </tr>\n",
       "  </tbody>\n",
       "</table>\n",
       "<p>322 rows × 4 columns</p>\n",
       "</div>"
      ],
      "text/plain": [
       "                                                             Title  \\\n",
       "0          Donkey & Goat 2010 Fenaughty Vineyard Syrah (El Dorado)   \n",
       "1                       Taylor Fladgate NV 325 Anniversary  (Port)   \n",
       "2            Failla 2010 Estate Vineyard Chardonnay (Sonoma Coast)   \n",
       "3                                      Château Coutet 2014  Barsac   \n",
       "4    Trefethen 2005 Estate Cabernet Sauvignon (Oak Knoll District)   \n",
       "..                                                             ...   \n",
       "317             Château La Mission Haut-Brion 2009  Pessac-Léognan   \n",
       "318                       Château Cheval Blanc 2010  Saint-Émilion   \n",
       "319                       Château Lafite Rothschild 2010  Pauillac   \n",
       "320                                  Château Margaux 2009  Margaux   \n",
       "321                                   Château Pétrus 2011  Pomerol   \n",
       "\n",
       "                        Variety  Points  Price  \n",
       "0                         Syrah      97     35  \n",
       "1                Portuguese Red      97     40  \n",
       "2                    Chardonnay      99     44  \n",
       "3    Bordeaux-style White Blend      97     45  \n",
       "4            Cabernet Sauvignon      97     50  \n",
       "..                          ...     ...    ...  \n",
       "317    Bordeaux-style Red Blend      97   1100  \n",
       "318    Bordeaux-style Red Blend     100   1500  \n",
       "319    Bordeaux-style Red Blend     100   1500  \n",
       "320    Bordeaux-style Red Blend      98   1900  \n",
       "321    Bordeaux-style Red Blend      97   2000  \n",
       "\n",
       "[322 rows x 4 columns]"
      ]
     },
     "execution_count": 52,
     "metadata": {},
     "output_type": "execute_result"
    }
   ],
   "source": [
    "%%time\n",
    "query = \"\"\"\n",
    "MATCH (pr:Price)<-[:HAS_PRICE]-(wi:Wine)-[:HAS_POINTS]->(po:Points)\n",
    "WHERE po.value > 96\n",
    "WITH pr, wi, po\n",
    "MATCH (wi)-[:HAS_VARIETY]->(va:Variety)\n",
    "RETURN wi.name AS Title, va.name AS Variety, po.value AS Points, pr.value AS Price ORDER BY Price ASC\n",
    "\"\"\"\n",
    "graph.run(query).to_data_frame()"
   ]
  },
  {
   "cell_type": "markdown",
   "metadata": {},
   "source": [
    "## Documentation\n",
    "### useful links, commands and documentation\n",
    "* [**data modelling 'arrows'**](http://www.apcjones.com/arrows/#)\n",
    "* [**overview docs**](https://neo4j.com/docs/)  \n",
    "  * [**cypher**](https://neo4j.com/docs/cypher-manual/current/)\n",
    "  * [**apoc**](https://neo4j.com/labs/apoc/4.1/)\n",
    "  * [**gds**](https://neo4j.com/docs/graph-data-science/current/)\n",
    "  * [**py2neo**](https://py2neo.readthedocs.io/en/latest/)\n",
    "* [**cypher ref card**](https://neo4j.com/docs/cypher-refcard/current/)  \n",
    "* [**forums community**](https://community.neo4j.com/)  \n",
    "* [**bloom**](https://neo4j.com/docs/bloom-user-guide/current/)\n",
    "* [**data explorer yworks**](http://www.yworks.com/neo4j-explorer/)  \n",
    "  * [**video tutorial**](https://www.youtube.com/watch?v=kSMh8NtNk_k)\n",
    "* [**gists**](https://neo4j.com/graphgists/)\n",
    "\n",
    "### working with unstructured text data\n",
    "regex generator : http://regex.inginf.units.it/  \n",
    "regex checker : https://regex101.com/  \n",
    "neo4j apoc text replace : https://neo4j.com/labs/apoc/4.1/misc/text-functions/#text-functions-regex  \n",
    "pandas series replace : https://pandas.pydata.org/pandas-docs/stable/reference/api/pandas.Series.str.replace.html  \n",
    "pandas series extract : https://pandas.pydata.org/pandas-docs/stable/reference/api/pandas.Series.str.extract.html  \n",
    "text similarity : https://neo4j.com/labs/apoc/4.1/misc/text-functions/#text-functions-text-similarity\n",
    "\n",
    "**apply FuzzyWuzzy in one column using token set ratio**\n",
    "[compare 2 strings](https://stackoverflow.com/questions/31806695/when-to-use-which-fuzz-function-to-compare-2-strings)  \n",
    "[find similar strings with fuzzywuzzy](https://github.com/thuynh323/NLP-with-Python/blob/master/FuzzyWuzzy%20-%20Ramen%20Rater%20List/Find%20similar%20strings%20with%20FuzzyWuzzy.ipynb)  \n",
    "\n",
    "the `token` method ignore case and punctuation  \n",
    "the `ratio` calculates the Levenshtein distance  \n",
    "`token_sort_ratio` tokenizes strings in words sorted in alphanumeric order then apply ratio  \n",
    "`token_set_ratio` ignore duplicate words (~set)  \n",
    "`partial_token_sort_ratio` ~token_sort_ratio but uses partial_ration instead of ratio  \n",
    "[doc](https://medium.com/@laxmi17sarki/string-matching-using-fuzzywuzzy-24be9e85c88d)  "
   ]
  },
  {
   "cell_type": "markdown",
   "metadata": {},
   "source": [
    "using APOC for Azure NLP cognitive services:  \n",
    "https://neo4j.com/labs/apoc/4.1/nlp/azure/#nlp-azure-examples-entities"
   ]
  },
  {
   "cell_type": "code",
   "execution_count": 53,
   "metadata": {},
   "outputs": [
    {
     "data": {
      "text/plain": [
       "<py2neo.database.Cursor at 0x7f52e01d2b20>"
      ]
     },
     "execution_count": 53,
     "metadata": {},
     "output_type": "execute_result"
    }
   ],
   "source": [
    "query = \"\"\"\n",
    "MERGE (:Article {\n",
    "  uri: \"https://neo4j.com/blog/pokegraph-gotta-graph-em-all/\",\n",
    "  body: \"These days I’m rarely more than a few feet away from my Nintendo Switch and I play board games, card games and role playing games with friends at least once or twice a week. I’ve even organised lunch-time Mario Kart 8 tournaments between the Neo4j European offices!\"\n",
    "})\n",
    "\"\"\"\n",
    "graph.run(query)\n",
    "\n",
    "query = \"\"\"\n",
    "MERGE (:Article {\n",
    "  uri: \"https://en.wikipedia.org/wiki/Nintendo_Switch\",\n",
    "  body: \"The Nintendo Switch is a video game console developed by Nintendo, released worldwide in most regions on March 3, 2017. It is a hybrid console that can be used as a home console and portable device. The Nintendo Switch was unveiled on October 20, 2016. Nintendo offers a Joy-Con Wheel, a small steering wheel-like unit that a Joy-Con can slot into, allowing it to be used for racing games such as Mario Kart 8.\"\n",
    "})\n",
    "\"\"\"\n",
    "graph.run(query)"
   ]
  },
  {
   "cell_type": "code",
   "execution_count": 54,
   "metadata": {},
   "outputs": [
    {
     "data": {
      "text/html": [
       "<div>\n",
       "<style scoped>\n",
       "    .dataframe tbody tr th:only-of-type {\n",
       "        vertical-align: middle;\n",
       "    }\n",
       "\n",
       "    .dataframe tbody tr th {\n",
       "        vertical-align: top;\n",
       "    }\n",
       "\n",
       "    .dataframe thead th {\n",
       "        text-align: right;\n",
       "    }\n",
       "</style>\n",
       "<table border=\"1\" class=\"dataframe\">\n",
       "  <thead>\n",
       "    <tr style=\"text-align: right;\">\n",
       "      <th></th>\n",
       "      <th>g</th>\n",
       "    </tr>\n",
       "  </thead>\n",
       "  <tbody>\n",
       "    <tr>\n",
       "      <th>0</th>\n",
       "      <td>{'name': 'Graph', 'relationships': [{'score': 0.94}, {'score': 0.032446316016667254}, {'score': ...</td>\n",
       "    </tr>\n",
       "  </tbody>\n",
       "</table>\n",
       "</div>"
      ],
      "text/plain": [
       "                                                                                                     g\n",
       "0  {'name': 'Graph', 'relationships': [{'score': 0.94}, {'score': 0.032446316016667254}, {'score': ..."
      ]
     },
     "execution_count": 54,
     "metadata": {},
     "output_type": "execute_result"
    }
   ],
   "source": [
    "query = \"\"\"\n",
    "MATCH (a:Article)\n",
    "WITH collect(a) AS articles\n",
    "CALL apoc.nlp.azure.entities.graph(articles, {\n",
    "  key: \"1923a4f6c4ea4f6b89d04596f5d17766\",\n",
    "  url: \"https://westeurope.api.cognitive.microsoft.com/\",\n",
    "  nodeProperty: \"body\",\n",
    "  writeRelationshipType: \"ENTITY\",\n",
    "  write: true\n",
    "})\n",
    "YIELD graph AS g\n",
    "RETURN g\n",
    "\"\"\"\n",
    "graph.run(query).to_data_frame()"
   ]
  },
  {
   "cell_type": "markdown",
   "metadata": {},
   "source": [
    "### howto datamodel\n",
    "The datamodel design depends on what business questions you need to ask.  \n",
    "Otherwise it depends on the underlying context connection between each pair of dataset feature columns.  \n",
    "The example show that bridging nodes can help preserve all information, else it is lost in the merge.  \n",
    "Verify each combination in a 4 column dataset (A 'Wine', B 'Points', C 'Taster', D 'Price'):  \n",
    " * A versus B = related (Wine HAS_POINTS > Points)  \n",
    " * A versus C = related (Taster TASTED > Wine)  \n",
    " * A versus D = related (Wine HAS_PRICE > Price)  \n",
    " * B versus C = related (Taster GAVE_POINTS > Points)  \n",
    " * B versus D = unrelated (lose this information)  \n",
    " * C versus D = unrelated (ignore this relation)  \n",
    " \n",
    "It is not a good practice to include everything,  \n",
    "follow the business question and only the useful data.  \n",
    "\n",
    "![how to include all information in the datamodel](../../image/howto_graph/howto_include_all_information.jpg)"
   ]
  },
  {
   "cell_type": "markdown",
   "metadata": {},
   "source": [
    "### mesh topology\n",
    "stores only unique nodes, no duplication  \n",
    "preferred topology, you probably have to add relationship bridges for certain questions (ex: TASTED_BY)  \n",
    "```cypher\n",
    "CREATE CONSTRAINT ON (t:Taster) ASSERT t.name IS UNIQUE\n",
    "CREATE CONSTRAINT ON (p:Points) ASSERT p.value IS UNIQUE\n",
    "LOAD CSV WITH HEADERS FROM 'file:///data.csv' AS line\n",
    "MERGE (t:Taster {name:line.taster})\n",
    "MERGE (p:Points {value:line.points})\n",
    "MERGE (t)-[:GAVE_POINTS]->(p)\n",
    "```\n",
    "**41 nodes, 326 relationships**  \n",
    "![unique_mesh](../../image/howto_graph/mesh_topology.png)\n",
    "\n",
    "\n",
    "### star topology\n",
    "surrounding the unique nodes, half duplication  \n",
    "not preferred, you could eliminate the use of relationship bridges (ex: TASTED_BY)\n",
    "```cypher\n",
    "CREATE CONSTRAINT ON (t:Taster) ASSERT t.name IS UNIQUE\n",
    "CREATE INDEX ON :Points(value)\n",
    "LOAD CSV WITH HEADERS FROM 'file:///data.csv' AS line\n",
    "MERGE (t:Taster {name:line.taster})\n",
    "MERGE (t)-[:GAVE_POINTS]->(p:Points {value:line.points})\n",
    "```  \n",
    "**346 nodes, 326 relationships**  \n",
    "![unique_mesh](../../image/howto_graph/star_topology.png)  \n",
    "\n",
    "\n",
    "### binary topology\n",
    "pair of nodes, full duplication  \n",
    "not preferred, this can create unique chains of nodes and edges\n",
    "```cypher\n",
    "CREATE INDEX ON :Taster(name)\n",
    "CREATE INDEX ON :Points(value)\n",
    "LOAD CSV WITH HEADERS FROM 'file:///data.csv' AS line\n",
    "MERGE (t:Taster {name:line.taster})-[:GAVE_POINTS]->(p:Points {value:line.points})\n",
    "``` \n",
    "**654 nodes, 327 relationships**\n",
    "![unique_mesh](../../image/howto_graph/binary_topology.png)  "
   ]
  },
  {
   "cell_type": "markdown",
   "metadata": {},
   "source": [
    "# Maintenance\n",
    "### cypher\n",
    "```cypher\n",
    "//visualize the data model\n",
    "CALL db.schema.visualization\n",
    "```\n",
    "```cypher\n",
    "//list available functions\n",
    "CALL dbms.procedures\n",
    "```\n",
    "```cypher\n",
    "//unique constraints ensure that no duplicate nodes can be created\n",
    "CREATE CONSTRAINT ON (p:Price) ASSERT p.value IS UNIQUE\n",
    "//index may allow duplicate nodes\n",
    "CREATE INDEX ON :Price(value)\n",
    "```\n",
    "```cypher\n",
    "//check running queries\n",
    "CALL dbms.listQueries()\n",
    "```\n",
    "```cypher\n",
    "//list index nodes\n",
    ":schema\n",
    "```\n",
    "```cypher\n",
    "//browser visualization for setting color, size and title\n",
    ":style\n",
    "```\n",
    "```cypher\n",
    "//remove all nodes and relationships\n",
    "MATCH (n) DETACH DELETE n;\n",
    "CALL apoc.schema.assert({},{},true) YIELD label, key RETURN *;\n",
    "```\n",
    "**analyzing and query**\n",
    "```cypher\n",
    "// view the query plan, query does not run\n",
    "EXPLAIN\n",
    "```\n",
    "```cypher\n",
    "// view the query metrics, query run, give performance\n",
    "PROFILE\n",
    "```\n",
    "### python\n",
    "```python\n",
    "#remove all nodes, relationships and indexes\n",
    "graph.delete_all()\n",
    "graph.run(\"\"\"CALL apoc.schema.assert({},{},true) YIELD label, key RETURN *\"\"\")\n",
    "```\n",
    "```sh\n",
    "#delete database (v4.x)\n",
    "sudo docker-compose down\n",
    "sudo rm -Rf neo4j/data/databases/neo4j\n",
    "sudo rm -Rf neo4j/data/transactions/neo4j\n",
    "sudo docker-compose up --build &\n",
    "```\n",
    "```python\n",
    "#status queries\n",
    "graph.run(\"\"\"CALL dbms.listQueries()\"\"\").to_data_frame()[[\"queryId\", \"query\", \"status\", \"elapsedTimeMillis\"]].T\n",
    "```\n",
    "```python\n",
    "#remove queries\n",
    "graph.run(\"\"\"CALL dbms.killQueries([\"query-3295\"])\"\"\").to_data_frame()\n",
    "```"
   ]
  },
  {
   "cell_type": "code",
   "execution_count": null,
   "metadata": {},
   "outputs": [],
   "source": [
    "# delete database and restart (~2min)\n",
    "os.system(\" cd ../.. && \\\n",
    "            sudo docker-compose down && \\\n",
    "            sudo rm -Rf neo4j/data/databases/neo4j && \\\n",
    "            sudo rm -Rf neo4j/data/transactions/neo4j && \\\n",
    "            sudo docker-compose up --build &\")"
   ]
  },
  {
   "cell_type": "code",
   "execution_count": 55,
   "metadata": {},
   "outputs": [
    {
     "data": {
      "text/html": [
       "<div>\n",
       "<style scoped>\n",
       "    .dataframe tbody tr th:only-of-type {\n",
       "        vertical-align: middle;\n",
       "    }\n",
       "\n",
       "    .dataframe tbody tr th {\n",
       "        vertical-align: top;\n",
       "    }\n",
       "\n",
       "    .dataframe thead th {\n",
       "        text-align: right;\n",
       "    }\n",
       "</style>\n",
       "<table border=\"1\" class=\"dataframe\">\n",
       "  <thead>\n",
       "    <tr style=\"text-align: right;\">\n",
       "      <th></th>\n",
       "      <th>0</th>\n",
       "    </tr>\n",
       "  </thead>\n",
       "  <tbody>\n",
       "    <tr>\n",
       "      <th>queryId</th>\n",
       "      <td>query-106</td>\n",
       "    </tr>\n",
       "    <tr>\n",
       "      <th>query</th>\n",
       "      <td>CALL dbms.listQueries()</td>\n",
       "    </tr>\n",
       "    <tr>\n",
       "      <th>status</th>\n",
       "      <td>running</td>\n",
       "    </tr>\n",
       "    <tr>\n",
       "      <th>elapsedTimeMillis</th>\n",
       "      <td>38</td>\n",
       "    </tr>\n",
       "  </tbody>\n",
       "</table>\n",
       "</div>"
      ],
      "text/plain": [
       "                                         0\n",
       "queryId                          query-106\n",
       "query              CALL dbms.listQueries()\n",
       "status                             running\n",
       "elapsedTimeMillis                       38"
      ]
     },
     "execution_count": 55,
     "metadata": {},
     "output_type": "execute_result"
    }
   ],
   "source": [
    "#status queries\n",
    "graph.run(\"\"\"CALL dbms.listQueries()\"\"\").to_data_frame()[[\"queryId\", \"query\", \"status\", \"elapsedTimeMillis\"]].T"
   ]
  },
  {
   "cell_type": "code",
   "execution_count": 56,
   "metadata": {},
   "outputs": [
    {
     "data": {
      "text/html": [
       "<div>\n",
       "<style scoped>\n",
       "    .dataframe tbody tr th:only-of-type {\n",
       "        vertical-align: middle;\n",
       "    }\n",
       "\n",
       "    .dataframe tbody tr th {\n",
       "        vertical-align: top;\n",
       "    }\n",
       "\n",
       "    .dataframe thead th {\n",
       "        text-align: right;\n",
       "    }\n",
       "</style>\n",
       "<table border=\"1\" class=\"dataframe\">\n",
       "  <thead>\n",
       "    <tr style=\"text-align: right;\">\n",
       "      <th></th>\n",
       "      <th>queryId</th>\n",
       "      <th>username</th>\n",
       "      <th>message</th>\n",
       "    </tr>\n",
       "  </thead>\n",
       "  <tbody>\n",
       "    <tr>\n",
       "      <th>0</th>\n",
       "      <td>query-3295</td>\n",
       "      <td>n/a</td>\n",
       "      <td>No Query found with this id</td>\n",
       "    </tr>\n",
       "  </tbody>\n",
       "</table>\n",
       "</div>"
      ],
      "text/plain": [
       "      queryId username                      message\n",
       "0  query-3295      n/a  No Query found with this id"
      ]
     },
     "execution_count": 56,
     "metadata": {},
     "output_type": "execute_result"
    }
   ],
   "source": [
    "#remove queries\n",
    "graph.run(\"\"\"CALL dbms.killQueries([\"query-3295\"])\"\"\").to_data_frame()"
   ]
  },
  {
   "cell_type": "markdown",
   "metadata": {},
   "source": [
    "### data loading test"
   ]
  },
  {
   "cell_type": "code",
   "execution_count": 57,
   "metadata": {},
   "outputs": [
    {
     "name": "stdout",
     "output_type": "stream",
     "text": [
      "id,country,description,designation,points,price,province,region_1,region_2,taster_name,taster_twitter_handle,title,variety,winery,year,wine_group,variety_name\r\n",
      "0,Italy,\"Aromas include tropical fruit, broom, brimstone and dried herb. The palate isn't overly expressive, offering unripened apple, citrus and dried sage alongside brisk acidity.\",Vulkà Bianco,87,,Sicily & Sardinia,Etna,,Kerin O’Keefe,@kerinokeefe,Nicosia 2013 Vulkà Bianco  (Etna),White Blend,Nicosia,2013,Nicosia Vulkà Bianco (Etna),\"['white', 'blend']\"\r\n"
     ]
    }
   ],
   "source": [
    "# check first 2 lines\n",
    "! head -n 2 ../../neo4j/import/$file"
   ]
  },
  {
   "cell_type": "code",
   "execution_count": 58,
   "metadata": {},
   "outputs": [],
   "source": [
    "# test data loading\n",
    "query = \"\"\"\n",
    "LOAD CSV WITH HEADERS FROM 'file:///\"\"\"+file+\"\"\"' AS line FIELDTERMINATOR ','\n",
    "WITH line\n",
    "LIMIT 1\n",
    "RETURN line\n",
    "\"\"\"\n",
    "data = graph.run(query)"
   ]
  },
  {
   "cell_type": "code",
   "execution_count": 59,
   "metadata": {},
   "outputs": [
    {
     "data": {
      "text/plain": [
       "<Record line={'wine_group': 'Nicosia Vulkà Bianco (Etna)', 'variety_name': \"['white', 'blend']\", 'country': 'Italy', 'year': '2013', 'taster_name': 'Kerin O’Keefe', 'taster_twitter_handle': '@kerinokeefe', 'description': \"Aromas include tropical fruit, broom, brimstone and dried herb. The palate isn't overly expressive, offering unripened apple, citrus and dried sage alongside brisk acidity.\", 'title': 'Nicosia 2013 Vulkà Bianco  (Etna)', 'points': '87', 'province': 'Sicily & Sardinia', 'variety': 'White Blend', 'price': None, 'designation': 'Vulkà Bianco', 'id': '0', 'winery': 'Nicosia', 'region_1': 'Etna', 'region_2': None}>"
      ]
     },
     "execution_count": 59,
     "metadata": {},
     "output_type": "execute_result"
    }
   ],
   "source": [
    "next(data)"
   ]
  },
  {
   "cell_type": "code",
   "execution_count": null,
   "metadata": {},
   "outputs": [],
   "source": []
  }
 ],
 "metadata": {
  "kernelspec": {
   "display_name": "py38_neo4j",
   "language": "python",
   "name": "conda-env-py38_neo4j-py"
  },
  "language_info": {
   "codemirror_mode": {
    "name": "ipython",
    "version": 3
   },
   "file_extension": ".py",
   "mimetype": "text/x-python",
   "name": "python",
   "nbconvert_exporter": "python",
   "pygments_lexer": "ipython3",
   "version": "3.8.8"
  }
 },
 "nbformat": 4,
 "nbformat_minor": 4
}
