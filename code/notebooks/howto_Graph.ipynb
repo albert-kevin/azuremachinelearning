{
 "cells": [
  {
   "cell_type": "markdown",
   "metadata": {},
   "source": [
    "Author: Kevin ALBERT  \n",
    "\n",
    "Created: Oct 2020 \n",
    "\n",
    "Inspiration: [git repo](https://github.com/lju-lazarevic/wine)"
   ]
  },
  {
   "cell_type": "markdown",
   "metadata": {},
   "source": [
    "# environment\n",
    "**cpu:**2, **mem:**8GB, **disk:**150GB, **os:**ubuntu"
   ]
  },
  {
   "cell_type": "code",
   "execution_count": null,
   "metadata": {},
   "outputs": [],
   "source": [
    "# ! pip install py2neo pandas\n",
    "# ! pip install pandas-profiling\n",
    "# ! pip install jellyfish\n",
    "# ! pip install fuzzywuzzy\n",
    "# ! pip install python-Levenshtein\n",
    "# ! pip install pandas-dedupe\n",
    "# ! pip install -U nltk\n",
    "# ! pip install pyarrow fastparquet"
   ]
  },
  {
   "cell_type": "code",
   "execution_count": null,
   "metadata": {},
   "outputs": [],
   "source": [
    "# rerun report (delete me later)\n",
    "import pandas_profiling as pp\n",
    "pp.ProfileReport(prep, minimal=True, correlations={\"cramers\": {\"calculate\": False}}, progress_bar=False).to_file(reportFile)"
   ]
  },
  {
   "cell_type": "code",
   "execution_count": null,
   "metadata": {},
   "outputs": [],
   "source": [
    "import dtale\n",
    "d = dtale.show(entities, host=\"13.74.11.167\", port=\"40000\", ignore_duplicate=True, drop_index=True, reaper_on=False)\n",
    "d.main_url() # show all running instances"
   ]
  },
  {
   "cell_type": "code",
   "execution_count": null,
   "metadata": {},
   "outputs": [],
   "source": [
    "d.kill() # stop webapp"
   ]
  },
  {
   "cell_type": "code",
   "execution_count": null,
   "metadata": {},
   "outputs": [],
   "source": [
    "! pip list |grep -i py2neo\n",
    "! pip list |grep -i pandas"
   ]
  },
  {
   "cell_type": "markdown",
   "metadata": {},
   "source": [
    "py2neo is a client library and toolkit for working with Neo4j from within Python applications.  \n",
    "It is well suited for Data Science workflows and has great integration with other Python Data Science tools.  \n",
    "[py2neo docs](https://py2neo.org/v4/database.html)"
   ]
  },
  {
   "cell_type": "code",
   "execution_count": null,
   "metadata": {},
   "outputs": [],
   "source": [
    "# prep = pd.read_csv(\"../../neo4j/import/winedata.csv\")"
   ]
  },
  {
   "cell_type": "code",
   "execution_count": 2,
   "metadata": {},
   "outputs": [],
   "source": [
    "from py2neo import Graph, Node, Relationship\n",
    "import pandas as pd\n",
    "from IPython.display import Javascript\n",
    "import pandas_profiling as pp\n",
    "from fuzzywuzzy import process, fuzz\n",
    "# import pandas_dedupe\n",
    "\n",
    "# import warnings\n",
    "# warnings.filterwarnings('ignore')"
   ]
  },
  {
   "cell_type": "code",
   "execution_count": 3,
   "metadata": {},
   "outputs": [],
   "source": [
    "neo_server = \"13.74.11.167\"\n",
    "port = \"7687\"\n",
    "user = \"neo4j\"\n",
    "passw = \"digityser\"\n",
    "file = \"winedata.csv\""
   ]
  },
  {
   "cell_type": "code",
   "execution_count": 4,
   "metadata": {},
   "outputs": [],
   "source": [
    "graph = Graph(host=neo_server, auth=(user, passw))"
   ]
  },
  {
   "cell_type": "code",
   "execution_count": 57,
   "metadata": {},
   "outputs": [
    {
     "data": {
      "text/html": [
       "<div>\n",
       "<style scoped>\n",
       "    .dataframe tbody tr th:only-of-type {\n",
       "        vertical-align: middle;\n",
       "    }\n",
       "\n",
       "    .dataframe tbody tr th {\n",
       "        vertical-align: top;\n",
       "    }\n",
       "\n",
       "    .dataframe thead th {\n",
       "        text-align: right;\n",
       "    }\n",
       "</style>\n",
       "<table border=\"1\" class=\"dataframe\">\n",
       "  <thead>\n",
       "    <tr style=\"text-align: right;\">\n",
       "      <th></th>\n",
       "      <th>0</th>\n",
       "      <th>1</th>\n",
       "    </tr>\n",
       "  </thead>\n",
       "  <tbody>\n",
       "    <tr>\n",
       "      <th>queryId</th>\n",
       "      <td>query-12602</td>\n",
       "      <td>query-12573</td>\n",
       "    </tr>\n",
       "    <tr>\n",
       "      <th>query</th>\n",
       "      <td>CALL dbms.listQueries()</td>\n",
       "      <td>\\nUSING PERIODIC COMMIT 1000\\nLOAD CSV WITH HE...</td>\n",
       "    </tr>\n",
       "    <tr>\n",
       "      <th>status</th>\n",
       "      <td>running</td>\n",
       "      <td>running</td>\n",
       "    </tr>\n",
       "    <tr>\n",
       "      <th>elapsedTimeMillis</th>\n",
       "      <td>1</td>\n",
       "      <td>84646</td>\n",
       "    </tr>\n",
       "  </tbody>\n",
       "</table>\n",
       "</div>"
      ],
      "text/plain": [
       "                                         0  \\\n",
       "queryId                        query-12602   \n",
       "query              CALL dbms.listQueries()   \n",
       "status                             running   \n",
       "elapsedTimeMillis                        1   \n",
       "\n",
       "                                                                   1  \n",
       "queryId                                                  query-12573  \n",
       "query              \\nUSING PERIODIC COMMIT 1000\\nLOAD CSV WITH HE...  \n",
       "status                                                       running  \n",
       "elapsedTimeMillis                                              84646  "
      ]
     },
     "execution_count": 57,
     "metadata": {},
     "output_type": "execute_result"
    }
   ],
   "source": [
    "# check queries running:\n",
    "graph.run(\"\"\"CALL dbms.listQueries()\"\"\").to_data_frame()[[\"queryId\", \"query\", \"status\", \"elapsedTimeMillis\"]].T"
   ]
  },
  {
   "cell_type": "code",
   "execution_count": 58,
   "metadata": {},
   "outputs": [
    {
     "data": {
      "text/html": [
       "<div>\n",
       "<style scoped>\n",
       "    .dataframe tbody tr th:only-of-type {\n",
       "        vertical-align: middle;\n",
       "    }\n",
       "\n",
       "    .dataframe tbody tr th {\n",
       "        vertical-align: top;\n",
       "    }\n",
       "\n",
       "    .dataframe thead th {\n",
       "        text-align: right;\n",
       "    }\n",
       "</style>\n",
       "<table border=\"1\" class=\"dataframe\">\n",
       "  <thead>\n",
       "    <tr style=\"text-align: right;\">\n",
       "      <th></th>\n",
       "      <th>queryId</th>\n",
       "      <th>username</th>\n",
       "      <th>message</th>\n",
       "    </tr>\n",
       "  </thead>\n",
       "  <tbody>\n",
       "    <tr>\n",
       "      <th>0</th>\n",
       "      <td>query-12573</td>\n",
       "      <td>neo4j</td>\n",
       "      <td>Query found</td>\n",
       "    </tr>\n",
       "  </tbody>\n",
       "</table>\n",
       "</div>"
      ],
      "text/plain": [
       "       queryId username      message\n",
       "0  query-12573    neo4j  Query found"
      ]
     },
     "execution_count": 58,
     "metadata": {},
     "output_type": "execute_result"
    }
   ],
   "source": [
    "# remove queries\n",
    "graph.run(\"\"\"CALL dbms.killQueries([\"query-12573\"])\"\"\").to_data_frame()"
   ]
  },
  {
   "cell_type": "markdown",
   "metadata": {},
   "source": [
    "**delete database neo4j (v4.x):**\n",
    "```sh\n",
    "sudo docker-compose down\n",
    "sudo rm -Rf neo4j/data/databases/neo4j\n",
    "sudo rm -Rf neo4j/data/transactions/neo4j\n",
    "sudo docker-compose up --build &\n",
    "```\n",
    "```cypher\n",
    "MATCH (n) DETACH DELETE n;\n",
    "CALL apoc.schema.assert({},{},true) YIELD label, key RETURN *;\n",
    "```"
   ]
  },
  {
   "cell_type": "code",
   "execution_count": null,
   "metadata": {},
   "outputs": [],
   "source": [
    "# delete all nodes and relationships\n",
    "graph.delete_all()"
   ]
  },
  {
   "cell_type": "code",
   "execution_count": null,
   "metadata": {},
   "outputs": [],
   "source": [
    "# delete all indexes and constraints\n",
    "graph.run(\"\"\"CALL apoc.schema.assert({},{},true) YIELD label, key RETURN *\"\"\")"
   ]
  },
  {
   "cell_type": "markdown",
   "metadata": {},
   "source": [
    "# dataReport"
   ]
  },
  {
   "cell_type": "markdown",
   "metadata": {},
   "source": [
    "[link to the original dataset](https://www.kaggle.com/zynicide/wine-reviews/data)  \n",
    "[link to the git repo dataset](https://github.com/lju-lazarevic/wine/tree/master/data)"
   ]
  },
  {
   "cell_type": "code",
   "execution_count": 5,
   "metadata": {},
   "outputs": [],
   "source": [
    "# pre-cleaned dataset: deduplicated and cleaned twitter handles\n",
    "datasetURL = \"https://raw.githubusercontent.com/lju-lazarevic/wine/master/data/winemag-data-130k-v3.csv\"\n",
    "reportFile = \"../../data/report/winemag_report.html\""
   ]
  },
  {
   "cell_type": "code",
   "execution_count": 6,
   "metadata": {},
   "outputs": [],
   "source": [
    "df = pd.read_csv(datasetURL)"
   ]
  },
  {
   "cell_type": "code",
   "execution_count": null,
   "metadata": {},
   "outputs": [],
   "source": [
    "%%time\n",
    "pp.ProfileReport(df=df.sample(frac=1),\n",
    "                 minimal=True,\n",
    "                 progress_bar=False,\n",
    "                 correlations={\"cramers\": {\"calculate\": False}}).to_file(reportFile)"
   ]
  },
  {
   "cell_type": "code",
   "execution_count": null,
   "metadata": {},
   "outputs": [],
   "source": [
    "# open the report (*.html)\n",
    "display(Javascript('window.open(\"{url}\");'.format(url=reportFile)))"
   ]
  },
  {
   "cell_type": "markdown",
   "metadata": {},
   "source": [
    "# dataPrep\n",
    "clean data prior to a load"
   ]
  },
  {
   "cell_type": "code",
   "execution_count": 7,
   "metadata": {},
   "outputs": [],
   "source": [
    "prep = df.copy()"
   ]
  },
  {
   "cell_type": "code",
   "execution_count": 8,
   "metadata": {},
   "outputs": [],
   "source": [
    "# replace nan\n",
    "prep['winery'] = prep['winery'].fillna('No Winery')\n",
    "prep['province'] = prep['province'].fillna('No Province')\n",
    "prep['country'] = prep['country'].fillna('No Country')"
   ]
  },
  {
   "cell_type": "code",
   "execution_count": 9,
   "metadata": {},
   "outputs": [],
   "source": [
    "# save file to /import\n",
    "prep.to_csv(\"../../neo4j/import/\"+file, sep=',', index=False)"
   ]
  },
  {
   "cell_type": "markdown",
   "metadata": {},
   "source": [
    "# dataModel\n",
    "[link to Arrows for data modelling](http://www.apcjones.com/arrows/#)\n",
    "\n",
    "![Drag Racing](../../image/howto_graph/model2.jpg)"
   ]
  },
  {
   "cell_type": "markdown",
   "metadata": {},
   "source": [
    "# dataLoading\n",
    "Multistatement queries is only supported on neo4j browser or cypher shell.  \n",
    "With py2neo you must run each statement sequentially. \n",
    "  \n",
    "`MERGE` will take care of any duplicate values  \n",
    "`p` temporary variable name  \n",
    "`Province` entity name defined in data model  \n",
    "`name` property name of entity  \n",
    "`line.province` line is 1 record from dataset then select column 'province'  \n",
    "  \n",
    "```cypher\n",
    "MERGE (p: Province {name: (line.province)})\n",
    "```"
   ]
  },
  {
   "cell_type": "code",
   "execution_count": null,
   "metadata": {},
   "outputs": [],
   "source": [
    "# check first 2 lines\n",
    "! head -n 2 ../../neo4j/import/$file"
   ]
  },
  {
   "cell_type": "code",
   "execution_count": null,
   "metadata": {},
   "outputs": [],
   "source": [
    "# test data loading\n",
    "query = \"\"\"\n",
    "LOAD CSV WITH HEADERS FROM 'file:///\"\"\"+file+\"\"\"' AS line FIELDTERMINATOR ','\n",
    "WITH line\n",
    "LIMIT 1\n",
    "RETURN line\n",
    "\"\"\"\n",
    "data = graph.run(query)"
   ]
  },
  {
   "cell_type": "code",
   "execution_count": null,
   "metadata": {},
   "outputs": [],
   "source": [
    "next(data)"
   ]
  },
  {
   "cell_type": "code",
   "execution_count": null,
   "metadata": {},
   "outputs": [],
   "source": [
    "# open neo4j dashboard\n",
    "display(Javascript('window.open(\"{url}\");'.format(url=\"http://\"+neo_server+\":7474\")))"
   ]
  },
  {
   "cell_type": "markdown",
   "metadata": {},
   "source": [
    "## createIndex"
   ]
  },
  {
   "cell_type": "code",
   "execution_count": 10,
   "metadata": {},
   "outputs": [
    {
     "name": "stdout",
     "output_type": "stream",
     "text": [
      "CPU times: user 3.2 ms, sys: 1.9 ms, total: 5.1 ms\n",
      "Wall time: 631 ms\n"
     ]
    },
    {
     "data": {
      "text/plain": [
       "<py2neo.database.Cursor at 0x7f0d552b2c10>"
      ]
     },
     "execution_count": 10,
     "metadata": {},
     "output_type": "execute_result"
    }
   ],
   "source": [
    "%%time\n",
    "graph.run(\"\"\"CREATE INDEX ON :Winery(name)\"\"\")\n",
    "graph.run(\"\"\"CREATE INDEX ON :Province(name)\"\"\")\n",
    "graph.run(\"\"\"CREATE INDEX ON :Country(name)\"\"\")"
   ]
  },
  {
   "cell_type": "markdown",
   "metadata": {},
   "source": [
    "## createNodes"
   ]
  },
  {
   "cell_type": "code",
   "execution_count": 11,
   "metadata": {},
   "outputs": [
    {
     "name": "stdout",
     "output_type": "stream",
     "text": [
      "CPU times: user 2.72 ms, sys: 579 µs, total: 3.3 ms\n",
      "Wall time: 11 s\n"
     ]
    },
    {
     "data": {
      "text/plain": [
       "<py2neo.database.Cursor at 0x7f0d552b2430>"
      ]
     },
     "execution_count": 11,
     "metadata": {},
     "output_type": "execute_result"
    }
   ],
   "source": [
    "%%time\n",
    "query = \"\"\"\n",
    "USING PERIODIC COMMIT 1000\n",
    "LOAD CSV WITH HEADERS FROM 'file:///\"\"\"+file+\"\"\"' AS line FIELDTERMINATOR ','\n",
    "MERGE (w: Winery {name: (line.winery)})\n",
    "MERGE (p: Province {name: (line.province)})\n",
    "MERGE (c: Country {name: (line.country)})\n",
    "\"\"\"\n",
    "graph.run(query)"
   ]
  },
  {
   "cell_type": "markdown",
   "metadata": {},
   "source": [
    "## createRelations"
   ]
  },
  {
   "cell_type": "code",
   "execution_count": 12,
   "metadata": {},
   "outputs": [
    {
     "name": "stdout",
     "output_type": "stream",
     "text": [
      "CPU times: user 2.46 ms, sys: 527 µs, total: 2.99 ms\n",
      "Wall time: 11.4 s\n"
     ]
    },
    {
     "data": {
      "text/plain": [
       "<py2neo.database.Cursor at 0x7f0d55b2f070>"
      ]
     },
     "execution_count": 12,
     "metadata": {},
     "output_type": "execute_result"
    }
   ],
   "source": [
    "%%time\n",
    "query = \"\"\"\n",
    "USING PERIODIC COMMIT 1000\n",
    "LOAD CSV WITH HEADERS FROM 'file:///\"\"\"+file+\"\"\"' AS line FIELDTERMINATOR ','\n",
    "MATCH (w: Winery {name: trim(line.winery)})\n",
    "MATCH (p: Province {name: trim(line.province)})\n",
    "MATCH (c: Country {name: trim(line.country)})\n",
    "MERGE (w)-[:FROM_PROVENCE]->(p)\n",
    "MERGE (p)-[:PROVINCE_COUNTRY]->(c)\n",
    "\"\"\"\n",
    "graph.run(query)"
   ]
  },
  {
   "cell_type": "markdown",
   "metadata": {},
   "source": [
    "```cypher\n",
    "CALL db.schema.visualization\n",
    "```\n",
    "\n",
    "![CALL db.schema.visualization](../../image/howto_graph/schema2.png)"
   ]
  },
  {
   "cell_type": "markdown",
   "metadata": {},
   "source": [
    "## Which 10 countries have the most wineries ?\n",
    "note: make sure to count only once each winery"
   ]
  },
  {
   "cell_type": "code",
   "execution_count": null,
   "metadata": {},
   "outputs": [],
   "source": [
    "%%time\n",
    "query = \"\"\"\n",
    "MATCH (w:Winery)-[:FROM_PROVENCE]->(p:Province)-[:PROVINCE_COUNTRY]->(c:Country)\n",
    "RETURN c.name AS Country, count(DISTINCT w) AS totalNrWineries\n",
    "ORDER BY totalNrWineries DESC LIMIT 10\n",
    "\"\"\"\n",
    "graph.run(query).to_data_frame()"
   ]
  },
  {
   "cell_type": "code",
   "execution_count": null,
   "metadata": {},
   "outputs": [],
   "source": [
    "%%time\n",
    "result = prep[[\"winery\",\"country\"]].groupby(['country'])['winery'].nunique()\n",
    "result = result.rename_axis(['Country']).rename('totalNrWineries').sort_values(ascending=False).reset_index()\n",
    "result.head(10)"
   ]
  },
  {
   "cell_type": "markdown",
   "metadata": {},
   "source": [
    "## Which wineries are across multiple provinces ?\n",
    "alt: Which provinces are associated to each winery ?"
   ]
  },
  {
   "cell_type": "code",
   "execution_count": null,
   "metadata": {},
   "outputs": [],
   "source": [
    "%%time\n",
    "query = \"\"\"\n",
    "MATCH (w:Winery)-[:FROM_PROVENCE]->(p:Province)\n",
    "WITH w, COLLECT(p.name) AS Provinces, count(p) AS Total\n",
    "RETURN w.name AS Winery, Provinces, Total\n",
    "ORDER BY Total DESC LIMIT 10\n",
    "\"\"\"\n",
    "graph.run(query).to_data_frame()"
   ]
  },
  {
   "cell_type": "code",
   "execution_count": null,
   "metadata": {},
   "outputs": [],
   "source": [
    "%%time\n",
    "result = prep.groupby('winery').agg({'province':[lambda x: x.unique(), lambda x: x.nunique()]}).reset_index()\n",
    "result.columns = ['Winery', 'Provinces', 'Total']\n",
    "result = result.sort_values(by='Total',ascending=False).reset_index(drop=True)\n",
    "result.head(10)"
   ]
  },
  {
   "cell_type": "markdown",
   "metadata": {},
   "source": [
    "# dataModel (expansion 1)\n",
    "[link to Arrows for data modelling](http://www.apcjones.com/arrows/#)\n",
    "\n",
    "![model3](../../image/howto_graph/model3.jpg)"
   ]
  },
  {
   "cell_type": "markdown",
   "metadata": {},
   "source": [
    "# dataPrep (expanded 1)\n",
    "clean data prior to a load"
   ]
  },
  {
   "cell_type": "code",
   "execution_count": 13,
   "metadata": {},
   "outputs": [],
   "source": [
    "prep = df.copy()"
   ]
  },
  {
   "cell_type": "code",
   "execution_count": 14,
   "metadata": {},
   "outputs": [],
   "source": [
    "prep['winery'] = prep['winery'].fillna('No Winery')\n",
    "prep['province'] = prep['province'].fillna('No Province')\n",
    "prep['country'] = prep['country'].fillna('No Country')"
   ]
  },
  {
   "cell_type": "code",
   "execution_count": 15,
   "metadata": {},
   "outputs": [],
   "source": [
    "prep['designation'] = prep['designation'].fillna('No Designation')\n",
    "prep['taster_name'] = prep['taster_name'].fillna('No Taster')\n",
    "prep['variety'] = prep['variety'].fillna('No Variety')\n",
    "prep['title'] = prep['title'].fillna('No Title')"
   ]
  },
  {
   "cell_type": "code",
   "execution_count": 16,
   "metadata": {},
   "outputs": [],
   "source": [
    "# save file\n",
    "prep.to_csv(\"../../neo4j/import/\"+file, sep=',', index=False)"
   ]
  },
  {
   "cell_type": "markdown",
   "metadata": {},
   "source": [
    "# dataLoading (expansion 1)\n",
    "Multistatement queries is only supported on neo4j browser or cypher shell.  \n",
    "With py2neo you must run each statement sequentially. \n",
    "  \n",
    "`MERGE` will take care of any duplicate values  \n",
    "`p` temporary variable name  \n",
    "`Province` entity name defined in data model  \n",
    "`name` property name of entity  \n",
    "`line.province` line is 1 record from dataset then select column province  \n",
    "  \n",
    "```cypher\n",
    "MERGE (p: Province {name: (line.province)})\n",
    "```"
   ]
  },
  {
   "cell_type": "code",
   "execution_count": 17,
   "metadata": {},
   "outputs": [
    {
     "name": "stdout",
     "output_type": "stream",
     "text": [
      "CPU times: user 5.16 ms, sys: 319 µs, total: 5.48 ms\n",
      "Wall time: 1.06 s\n"
     ]
    },
    {
     "data": {
      "text/plain": [
       "<py2neo.database.Cursor at 0x7f0d18458490>"
      ]
     },
     "execution_count": 17,
     "metadata": {},
     "output_type": "execute_result"
    }
   ],
   "source": [
    "%%time\n",
    "# indexes for additional data\n",
    "graph.run(\"\"\"CREATE INDEX ON :Wine(name)\"\"\")\n",
    "graph.run(\"\"\"CREATE INDEX ON :Taster(name)\"\"\")\n",
    "graph.run(\"\"\"CREATE INDEX ON :Variety(name)\"\"\")\n",
    "graph.run(\"\"\"CREATE INDEX ON :Designation(name)\"\"\")"
   ]
  },
  {
   "cell_type": "code",
   "execution_count": 18,
   "metadata": {},
   "outputs": [
    {
     "name": "stdout",
     "output_type": "stream",
     "text": [
      "CPU times: user 2.27 ms, sys: 401 µs, total: 2.67 ms\n",
      "Wall time: 11.9 s\n"
     ]
    },
    {
     "data": {
      "text/plain": [
       "<py2neo.database.Cursor at 0x7f0d195115b0>"
      ]
     },
     "execution_count": 18,
     "metadata": {},
     "output_type": "execute_result"
    }
   ],
   "source": [
    "%%time\n",
    "query = \"\"\"\n",
    "USING PERIODIC COMMIT 1000\n",
    "LOAD CSV WITH HEADERS FROM 'file:///\"\"\"+file+\"\"\"' AS line FIELDTERMINATOR ','\n",
    "MERGE (d: Designation {name: (line.designation)})\n",
    "MERGE (t: Taster {name: (line.taster_name)})\n",
    "MERGE (v: Variety {name: (line.variety)})\n",
    "MERGE (c: Country {name: (line.country)})\n",
    "MERGE (w: Wine {name: line.title})\n",
    "\"\"\"\n",
    "graph.run(query)"
   ]
  },
  {
   "cell_type": "code",
   "execution_count": 19,
   "metadata": {},
   "outputs": [
    {
     "name": "stdout",
     "output_type": "stream",
     "text": [
      "CPU times: user 2.94 ms, sys: 519 µs, total: 3.46 ms\n",
      "Wall time: 17 s\n"
     ]
    },
    {
     "data": {
      "text/plain": [
       "<py2neo.database.Cursor at 0x7f0d184589a0>"
      ]
     },
     "execution_count": 19,
     "metadata": {},
     "output_type": "execute_result"
    }
   ],
   "source": [
    "%%time\n",
    "query = \"\"\"\n",
    "USING PERIODIC COMMIT 1000\n",
    "LOAD CSV WITH HEADERS FROM 'file:///\"\"\"+file+\"\"\"' AS line FIELDTERMINATOR ','\n",
    "MATCH (d: Designation {name: (line.designation)})\n",
    "MATCH (t: Taster {name: (line.taster_name)})\n",
    "MATCH (v: Variety {name: (line.variety)})\n",
    "MATCH (w: Wine {name: (line.title)})\n",
    "MATCH (win: Winery {name: (line.winery)})\n",
    "MERGE (w)-[:FROM_WINERY]->(win)\n",
    "MERGE (w)-[:HAS_VARIETY]->(v)\n",
    "MERGE (t)-[:RATES_WINE]->(w)\n",
    "MERGE (w)-[:HAS_DESIGNATION]->(d)\n",
    "\"\"\"\n",
    "graph.run(query)"
   ]
  },
  {
   "cell_type": "markdown",
   "metadata": {},
   "source": [
    "```cypher\n",
    "CALL db.schema.visualization\n",
    "```\n",
    "\n",
    "![CALL db.schema.visualization](../../image/howto_graph/schema3.png)"
   ]
  },
  {
   "cell_type": "markdown",
   "metadata": {},
   "source": [
    "# The top 10 most prolific wine tasters ?\n",
    "note: count the unique amount instead of the total amount tasted"
   ]
  },
  {
   "cell_type": "code",
   "execution_count": null,
   "metadata": {},
   "outputs": [],
   "source": [
    "%%time\n",
    "query = \"\"\"\n",
    "MATCH (t:Taster)\n",
    "WHERE t.name <> \"No Taster\"\n",
    "MATCH (t)-[:RATES_WINE]->(w:Wine)-[:HAS_VARIETY]->(v:Variety)\n",
    "WITH t, count(DISTINCT w) AS Total, COLLECT(DISTINCT v.name) AS Varieties\n",
    "RETURN t.name AS Taster, Varieties, Total\n",
    "ORDER BY Total DESC LIMIT 10\n",
    "\"\"\"\n",
    "graph.run(query).to_data_frame()"
   ]
  },
  {
   "cell_type": "code",
   "execution_count": null,
   "metadata": {},
   "outputs": [],
   "source": [
    "%%time\n",
    "result = prep[prep.taster_name != \"No Taster\"]\n",
    "result = result.groupby(['taster_name']).agg({'variety':[lambda x: list(x)], 'title':[lambda x: x.nunique()]}).reset_index()\n",
    "result.columns = ['Taster', 'Varieties', 'Total']\n",
    "result = result.sort_values(by='Total',ascending=False).reset_index(drop=True)\n",
    "result.head(10)"
   ]
  },
  {
   "cell_type": "markdown",
   "metadata": {},
   "source": [
    "# How many wine varieties contain the word 'red' ?"
   ]
  },
  {
   "cell_type": "code",
   "execution_count": null,
   "metadata": {},
   "outputs": [],
   "source": [
    "%%time\n",
    "query = \"\"\"\n",
    "MATCH (v:Variety)\n",
    "WHERE tolower(v.name) CONTAINS 'red'\n",
    "RETURN v.name AS redVariety\n",
    "ORDER BY redVariety\n",
    "\"\"\"\n",
    "graph.run(query).to_data_frame()"
   ]
  },
  {
   "cell_type": "code",
   "execution_count": null,
   "metadata": {},
   "outputs": [],
   "source": [
    "%%time\n",
    "pd.DataFrame(sorted(prep[\"variety\"][prep[\"variety\"].str.contains('red', case=False)].unique()), columns=[\"redVariety\"])"
   ]
  },
  {
   "cell_type": "markdown",
   "metadata": {},
   "source": [
    "# dataModel (expansion 2)\n",
    "[link to Arrows for data modelling](http://www.apcjones.com/arrows/#)\n",
    "\n",
    "![model4](../../image/howto_graph/model4.jpg)"
   ]
  },
  {
   "cell_type": "markdown",
   "metadata": {},
   "source": [
    "# dataPrep (expansion 2)\n",
    "clean data prior to a load"
   ]
  },
  {
   "cell_type": "code",
   "execution_count": 20,
   "metadata": {},
   "outputs": [],
   "source": [
    "prep = df.copy()"
   ]
  },
  {
   "cell_type": "code",
   "execution_count": 21,
   "metadata": {},
   "outputs": [],
   "source": [
    "prep['winery'] = prep['winery'].fillna('No Winery')\n",
    "prep['province'] = prep['province'].fillna('No Province')\n",
    "prep['country'] = prep['country'].fillna('No Country')"
   ]
  },
  {
   "cell_type": "code",
   "execution_count": 22,
   "metadata": {},
   "outputs": [],
   "source": [
    "prep['designation'] = prep['designation'].fillna('No Designation')\n",
    "prep['taster_name'] = prep['taster_name'].fillna('No Taster')\n",
    "prep['variety'] = prep['variety'].fillna('No Variety')\n",
    "prep['title'] = prep['title'].fillna('No Title')"
   ]
  },
  {
   "cell_type": "markdown",
   "metadata": {},
   "source": [
    "regex generator : http://regex.inginf.units.it/  \n",
    "regex checker : https://regex101.com/  \n",
    "neo4j apoc text replace : https://neo4j.com/labs/apoc/4.1/misc/text-functions/#text-functions-regex  \n",
    "pandas series replace : https://pandas.pydata.org/pandas-docs/stable/reference/api/pandas.Series.str.replace.html  \n",
    "pandas series extract : https://pandas.pydata.org/pandas-docs/stable/reference/api/pandas.Series.str.extract.html  "
   ]
  },
  {
   "cell_type": "code",
   "execution_count": 23,
   "metadata": {},
   "outputs": [],
   "source": [
    "# extract years 1970-2119\n",
    "prep['year'] = prep['title'].str.extract(\"(([2][0-1][0-1][0-9])|([1][9][7-9][0-9]))\")[0]\n",
    "prep['year'] = prep['year'].fillna('No Year')"
   ]
  },
  {
   "cell_type": "code",
   "execution_count": 24,
   "metadata": {},
   "outputs": [],
   "source": [
    "prep['wine_group'] = prep['title'].str.replace(\"(\\d{4})\", '') # remove 4-digit and 1-space\n",
    "prep['wine_group'] = prep['wine_group'].str.replace(\"([ ]{2,})\", ' ') # replace 2 or more spaces into 1-space"
   ]
  },
  {
   "cell_type": "code",
   "execution_count": 25,
   "metadata": {},
   "outputs": [],
   "source": [
    "# save file\n",
    "prep.to_csv(\"../../neo4j/import/\"+file, sep=',', index=False)"
   ]
  },
  {
   "cell_type": "markdown",
   "metadata": {},
   "source": [
    "# dataLoading (expanded 2)"
   ]
  },
  {
   "cell_type": "code",
   "execution_count": 26,
   "metadata": {},
   "outputs": [
    {
     "name": "stdout",
     "output_type": "stream",
     "text": [
      "CPU times: user 3.48 ms, sys: 524 µs, total: 4.01 ms\n",
      "Wall time: 2.53 s\n"
     ]
    },
    {
     "data": {
      "text/plain": [
       "<py2neo.database.Cursor at 0x7f0d552b9070>"
      ]
     },
     "execution_count": 26,
     "metadata": {},
     "output_type": "execute_result"
    }
   ],
   "source": [
    "%%time\n",
    "# indexes for additional data\n",
    "graph.run(\"\"\"CREATE INDEX ON :WineGroup(name)\"\"\")\n",
    "graph.run(\"\"\"CREATE INDEX ON :Year(value)\"\"\")"
   ]
  },
  {
   "cell_type": "code",
   "execution_count": 27,
   "metadata": {},
   "outputs": [
    {
     "name": "stdout",
     "output_type": "stream",
     "text": [
      "CPU times: user 3.27 ms, sys: 0 ns, total: 3.27 ms\n",
      "Wall time: 6.08 s\n"
     ]
    },
    {
     "data": {
      "text/plain": [
       "<py2neo.database.Cursor at 0x7f0d195110a0>"
      ]
     },
     "execution_count": 27,
     "metadata": {},
     "output_type": "execute_result"
    }
   ],
   "source": [
    "%%time\n",
    "query = \"\"\"\n",
    "USING PERIODIC COMMIT 1000\n",
    "LOAD CSV WITH HEADERS FROM 'file:///\"\"\"+file+\"\"\"' AS line FIELDTERMINATOR ','\n",
    "MERGE (y: Year {value: (line.year)})\n",
    "MERGE (wg: WineGroup {name: (line.wine_group)})\n",
    "\"\"\"\n",
    "graph.run(query)"
   ]
  },
  {
   "cell_type": "code",
   "execution_count": 28,
   "metadata": {},
   "outputs": [
    {
     "name": "stdout",
     "output_type": "stream",
     "text": [
      "CPU times: user 3.48 ms, sys: 0 ns, total: 3.48 ms\n",
      "Wall time: 18.4 s\n"
     ]
    },
    {
     "data": {
      "text/plain": [
       "<py2neo.database.Cursor at 0x7f0d19d9aa00>"
      ]
     },
     "execution_count": 28,
     "metadata": {},
     "output_type": "execute_result"
    }
   ],
   "source": [
    "%%time\n",
    "query = \"\"\"\n",
    "USING PERIODIC COMMIT 1000\n",
    "LOAD CSV WITH HEADERS FROM 'file:///\"\"\"+file+\"\"\"' AS line FIELDTERMINATOR ','\n",
    "MATCH (w: Wine {name: (line.title)})\n",
    "MATCH (y: Year {value: (line.year)})\n",
    "MATCH (wg: WineGroup {name: (line.wine_group)})\n",
    "MERGE (w)-[:FROM_YEAR]->(y)\n",
    "MERGE (w)-[:IN_WINE_GROUP]->(wg)\n",
    "\"\"\"\n",
    "graph.run(query)"
   ]
  },
  {
   "cell_type": "markdown",
   "metadata": {},
   "source": [
    "```cypher\n",
    "CALL db.schema.visualization\n",
    "```\n",
    "\n",
    "![CALL db.schema.visualization](../../image/howto_graph/schema4.png)"
   ]
  },
  {
   "cell_type": "markdown",
   "metadata": {},
   "source": [
    "## Which Year had the most Wine?\n",
    "unique or distinct count !"
   ]
  },
  {
   "cell_type": "code",
   "execution_count": null,
   "metadata": {},
   "outputs": [],
   "source": [
    "%%time\n",
    "query = \"\"\"\n",
    "MATCH (w:Wine)-[:FROM_YEAR]->(y:Year)\n",
    "WITH y, collect(w) AS wines\n",
    "RETURN y.value AS year, size(wines) AS wines ORDER BY wines DESC LIMIT 5\n",
    "\"\"\"\n",
    "graph.run(query).to_data_frame()"
   ]
  },
  {
   "cell_type": "code",
   "execution_count": null,
   "metadata": {},
   "outputs": [],
   "source": [
    "%%time\n",
    "result = prep[prep.year != \"No Year\"]\n",
    "result = result.groupby(['year'])['title'].nunique().reset_index()\n",
    "result.columns = ['year', 'wines']\n",
    "result = result.sort_values(by='wines',ascending=False).reset_index(drop=True)\n",
    "result.head(5)"
   ]
  },
  {
   "cell_type": "markdown",
   "metadata": {},
   "source": [
    "## Which top 5 Winery produces the most Wine for a given Year ?\n",
    "**note:** the cypher query is showing the distinct or unique count of wine titles"
   ]
  },
  {
   "cell_type": "code",
   "execution_count": null,
   "metadata": {},
   "outputs": [],
   "source": [
    "%%time\n",
    "query = \"\"\"\n",
    "MATCH (wy:Winery)<-[:FROM_WINERY]-(w:Wine)-[:FROM_YEAR]->(y:Year)\n",
    "WITH wy, y, COLLECT(w) AS wines\n",
    "RETURN wy.name AS Winery, y.value AS Year, size(wines) AS `No of Wines`\n",
    "ORDER BY `No of Wines` DESC LIMIT 5\n",
    "\"\"\"\n",
    "graph.run(query).to_data_frame()"
   ]
  },
  {
   "cell_type": "code",
   "execution_count": null,
   "metadata": {},
   "outputs": [],
   "source": [
    "%%time\n",
    "result = prep.groupby(['winery', 'year']).agg({'title':['nunique']}).reset_index()\n",
    "result.columns = ['Winery', 'Year', 'No of Wines']\n",
    "result = result.sort_values(by='No of Wines',ascending=False).reset_index(drop=True)\n",
    "result.head(5)"
   ]
  },
  {
   "cell_type": "markdown",
   "metadata": {},
   "source": [
    "# dataModel (expansion 3)\n",
    "[link to Arrows for data modelling](http://www.apcjones.com/arrows/#)\n",
    "\n",
    "![model expansion 5](../../image/howto_graph/model5.jpg)"
   ]
  },
  {
   "cell_type": "markdown",
   "metadata": {},
   "source": [
    "https://neo4j.com/labs/apoc/4.1/misc/text-functions/#text-functions-text-similarity"
   ]
  },
  {
   "cell_type": "markdown",
   "metadata": {},
   "source": [
    "clean up  \n",
    "* different spellings for the same grape, e.g. Aragonez and Aragonês\n",
    "* different names for the same grape, e.g. Syrah and Shiraz\n",
    "* different ordering of wine blends, e.g. Cabernet-Shiraz and Shiraz-Cabernet"
   ]
  },
  {
   "cell_type": "markdown",
   "metadata": {},
   "source": [
    "# dataPrep (expansion 3)\n",
    "clean data prior to a load"
   ]
  },
  {
   "cell_type": "code",
   "execution_count": 29,
   "metadata": {},
   "outputs": [],
   "source": [
    "prep = df.copy()\n",
    "prep['winery'] = prep['winery'].fillna('No Winery')\n",
    "prep['province'] = prep['province'].fillna('No Province')\n",
    "prep['country'] = prep['country'].fillna('No Country')\n",
    "prep['designation'] = prep['designation'].fillna('No Designation')\n",
    "prep['taster_name'] = prep['taster_name'].fillna('No Taster')\n",
    "prep['variety'] = prep['variety'].fillna('No Variety')\n",
    "prep['title'] = prep['title'].fillna('No Title')\n",
    "prep['year'] = prep['title'].str.extract(\"(([2][0-1][0-1][0-9])|([1][9][7-9][0-9]))\")[0] # extract years 1970-2119\n",
    "prep['year'] = prep['year'].fillna('No Year')\n",
    "prep['wine_group'] = prep['title'].str.replace(\"(\\d{4})\", '') # remove 4-digit and 1-space\n",
    "prep['wine_group'] = prep['wine_group'].str.replace(\"([ ]{2,})\", ' ') # replace 2 or more spaces into 1-space"
   ]
  },
  {
   "cell_type": "code",
   "execution_count": 30,
   "metadata": {},
   "outputs": [],
   "source": [
    "# tokenize variety first dashes and spaces\n",
    "prep['variety_name'] = prep['variety'].str.lower().str.split('[ ]|[-]')"
   ]
  },
  {
   "cell_type": "markdown",
   "metadata": {},
   "source": [
    "## Apply FuzzyWuzzy in one column using token set ratio\n",
    "\n",
    "https://stackoverflow.com/questions/31806695/when-to-use-which-fuzz-function-to-compare-2-strings  \n",
    "\n",
    "https://github.com/thuynh323/NLP-with-Python/blob/master/FuzzyWuzzy%20-%20Ramen%20Rater%20List/Find%20similar%20strings%20with%20FuzzyWuzzy.ipynb  \n",
    "\n",
    "sequence matching using levenshtein distance  \n",
    "(minimum number of single-character edits (insertions, deletions or substitutions) required to change one word into the other)  \n",
    "the token method ignore case and punctuation  \n",
    "the ratio calculates the Levenshtein distance  \n",
    "token_sort_ratio tokenizes strings in words sorted in alphanumeric order then apply ratio  \n",
    "token_set_ratio ignore duplicate words (~set)  \n",
    "partial_token_sort_ratio: (=token_sort_ratio) but uses partial_ration instead of ratio  \n",
    "https://medium.com/@laxmi17sarki/string-matching-using-fuzzywuzzy-24be9e85c88d  \n",
    "\n",
    "1. removing all but letters and numbers, 2. trim whitespace, 3. force to lower case"
   ]
  },
  {
   "cell_type": "code",
   "execution_count": 31,
   "metadata": {},
   "outputs": [],
   "source": [
    "# overwrite variety\n",
    "list_of_strings = prep['variety'].unique().tolist()\n",
    "# look for the best match, return one similar strings with score\n",
    "score_set = [(one_string,) + i\n",
    "             for one_string in list_of_strings\n",
    "             for i in process.extract(one_string, list_of_strings, scorer=fuzz.partial_token_sort_ratio, limit=1)]\n",
    "oldstr_newstr_map = dict([(oldstr, newstr) for oldstr, newstr, score in score_set])\n",
    "# substitute each value\n",
    "prep[\"variety\"] = prep['variety'].map(oldstr_newstr_map)"
   ]
  },
  {
   "cell_type": "code",
   "execution_count": 32,
   "metadata": {},
   "outputs": [],
   "source": [
    "# save file\n",
    "prep.to_csv(\"../../neo4j/import/\"+file, sep=',', index=False)"
   ]
  },
  {
   "cell_type": "markdown",
   "metadata": {},
   "source": [
    "# dataLoading (expanded 3)"
   ]
  },
  {
   "cell_type": "code",
   "execution_count": 33,
   "metadata": {},
   "outputs": [
    {
     "name": "stdout",
     "output_type": "stream",
     "text": [
      "CPU times: user 1.58 ms, sys: 43 µs, total: 1.62 ms\n",
      "Wall time: 2.4 s\n"
     ]
    },
    {
     "data": {
      "text/plain": [
       "<py2neo.database.Cursor at 0x7f0d18458460>"
      ]
     },
     "execution_count": 33,
     "metadata": {},
     "output_type": "execute_result"
    }
   ],
   "source": [
    "%%time\n",
    "# indexes for additional data\n",
    "graph.run(\"\"\"CREATE INDEX ON :VarietyName(name)\"\"\")"
   ]
  },
  {
   "cell_type": "code",
   "execution_count": 34,
   "metadata": {},
   "outputs": [
    {
     "name": "stdout",
     "output_type": "stream",
     "text": [
      "CPU times: user 2.33 ms, sys: 0 ns, total: 2.33 ms\n",
      "Wall time: 13.2 s\n"
     ]
    },
    {
     "data": {
      "text/plain": [
       "<py2neo.database.Cursor at 0x7f0d18458eb0>"
      ]
     },
     "execution_count": 34,
     "metadata": {},
     "output_type": "execute_result"
    }
   ],
   "source": [
    "%%time\n",
    "# remove variety\n",
    "graph.run(\"\"\"MATCH (v:Variety) DETACH DELETE v\"\"\")"
   ]
  },
  {
   "cell_type": "markdown",
   "metadata": {},
   "source": [
    "**create nodes and relationsips from a list, loaded from a csv**  "
   ]
  },
  {
   "cell_type": "code",
   "execution_count": 35,
   "metadata": {},
   "outputs": [
    {
     "name": "stdout",
     "output_type": "stream",
     "text": [
      "CPU times: user 4.36 ms, sys: 0 ns, total: 4.36 ms\n",
      "Wall time: 32.4 s\n"
     ]
    },
    {
     "data": {
      "text/plain": [
       "<py2neo.database.Cursor at 0x7f0d18458af0>"
      ]
     },
     "execution_count": 35,
     "metadata": {},
     "output_type": "execute_result"
    }
   ],
   "source": [
    "%%time\n",
    "# create wine, variety and relationships\n",
    "query = \"\"\"\n",
    "USING PERIODIC COMMIT 1000\n",
    "LOAD CSV WITH HEADERS FROM 'file:///\"\"\"+file+\"\"\"' AS line FIELDTERMINATOR ','\n",
    "UNWIND apoc.text.split(line.variety_name, \",\") AS varnamelist\n",
    "FOREACH (varname IN varnamelist|\n",
    " MERGE (vn:VarietyName {name:apoc.text.clean(varname)})\n",
    " MERGE (v:Variety {name:line.variety})\n",
    " MERGE (w:Wine {name:line.title})\n",
    " MERGE (w)-[:HAS_VARIETY]->(v)\n",
    " MERGE (vn)-[:IS_COMPONENT_OF]->(v)\n",
    " )\n",
    "\"\"\"\n",
    "graph.run(query)"
   ]
  },
  {
   "cell_type": "markdown",
   "metadata": {},
   "source": [
    "## Q: Show Variety linked to VarietyName"
   ]
  },
  {
   "cell_type": "code",
   "execution_count": null,
   "metadata": {},
   "outputs": [],
   "source": [
    "%%time\n",
    "query = \"\"\"\n",
    "MATCH (vn:VarietyName)-[:IS_COMPONENT_OF]->(v:Variety)\n",
    "WITH vn, COLLECT(v.name) AS var\n",
    "RETURN vn.name, var, size(var) AS s\n",
    "ORDER BY s DESC LIMIT 5\n",
    "\"\"\"\n",
    "graph.run(query).to_data_frame()"
   ]
  },
  {
   "cell_type": "markdown",
   "metadata": {},
   "source": [
    "## Q: Which VarietyName have the most Wine?"
   ]
  },
  {
   "cell_type": "code",
   "execution_count": null,
   "metadata": {},
   "outputs": [],
   "source": [
    "%%time\n",
    "query = \"\"\"\n",
    "MATCH (vn:VarietyName)-[:IS_COMPONENT_OF]->(v:Variety)<-[:HAS_VARIETY]-(w:Wine)\n",
    "WITH vn, COLLECT(w) AS wines\n",
    "RETURN vn.name, size(wines) AS s\n",
    "ORDER BY s DESC LIMIT 5\n",
    "\"\"\"\n",
    "graph.run(query).to_data_frame()"
   ]
  },
  {
   "cell_type": "markdown",
   "metadata": {},
   "source": [
    "# dataModel (expansion 4) - Description data\n",
    "[link to Arrows for data modelling](http://www.apcjones.com/arrows/#)\n",
    "\n",
    "![model expansion 6](../../image/howto_graph/model6.jpg)"
   ]
  },
  {
   "cell_type": "markdown",
   "metadata": {},
   "source": [
    "# dataPrep (expansion 4) - azure API\n",
    "clean data prior to a load"
   ]
  },
  {
   "cell_type": "code",
   "execution_count": 36,
   "metadata": {},
   "outputs": [],
   "source": [
    "# this data has been captured using Azure API scripts:\n",
    "entities = pd.read_parquet(\"../../data/bronze/winegraph/description_entities.parquet\")"
   ]
  },
  {
   "cell_type": "code",
   "execution_count": 37,
   "metadata": {},
   "outputs": [],
   "source": [
    "entities = entities.drop(columns=['entities', 'entity_confidence_score'])\n",
    "entities = entities[(entities['entity_category'] == 'Event')| \\\n",
    "                    (entities['entity_category'] == 'Location')| \\\n",
    "                    (entities['entity_category'] == 'Product')]"
   ]
  },
  {
   "cell_type": "code",
   "execution_count": 38,
   "metadata": {},
   "outputs": [],
   "source": [
    "# save file\n",
    "file2 = \"description_entities.csv\"\n",
    "entities.to_csv(\"../../neo4j/import/\"+file2, sep=',', index=False)"
   ]
  },
  {
   "cell_type": "markdown",
   "metadata": {},
   "source": [
    "# dataLoading (expanded 4)"
   ]
  },
  {
   "cell_type": "code",
   "execution_count": 39,
   "metadata": {},
   "outputs": [
    {
     "name": "stdout",
     "output_type": "stream",
     "text": [
      "CPU times: user 3.67 ms, sys: 60 µs, total: 3.73 ms\n",
      "Wall time: 3.12 s\n"
     ]
    },
    {
     "data": {
      "text/plain": [
       "<py2neo.database.Cursor at 0x7f0cbda342b0>"
      ]
     },
     "execution_count": 39,
     "metadata": {},
     "output_type": "execute_result"
    }
   ],
   "source": [
    "%%time\n",
    "# indexes for additional data\n",
    "graph.run(\"\"\"CREATE INDEX ON :Description(value)\"\"\")\n",
    "graph.run(\"\"\"CREATE INDEX ON :Event(value)\"\"\")\n",
    "graph.run(\"\"\"CREATE INDEX ON :Product(value)\"\"\")\n",
    "graph.run(\"\"\"CREATE INDEX ON :Location(value)\"\"\")"
   ]
  },
  {
   "cell_type": "code",
   "execution_count": 40,
   "metadata": {},
   "outputs": [
    {
     "data": {
      "text/plain": [
       "constraints_added: 0\n",
       "constraints_removed: 0\n",
       "contains_updates: True\n",
       "indexes_added: 0\n",
       "indexes_removed: 0\n",
       "labels_added: 119955\n",
       "labels_removed: 0\n",
       "nodes_created: 119955\n",
       "nodes_deleted: 0\n",
       "properties_set: 119955\n",
       "relationships_created: 119988\n",
       "relationships_deleted: 0"
      ]
     },
     "metadata": {},
     "output_type": "display_data"
    },
    {
     "name": "stdout",
     "output_type": "stream",
     "text": [
      "CPU times: user 6.14 ms, sys: 0 ns, total: 6.14 ms\n",
      "Wall time: 22.2 s\n"
     ]
    }
   ],
   "source": [
    "%%time\n",
    "# create description nodes\n",
    "query = \"\"\"\n",
    "USING PERIODIC COMMIT 1000\n",
    "LOAD CSV WITH HEADERS FROM 'file:///\"\"\"+file+\"\"\"' AS line FIELDTERMINATOR ','\n",
    "MATCH (w:Wine {name: (line.title)})\n",
    "MERGE (d:Description {value: (line.description)})\n",
    "MERGE (w)-[:HAS_DESCRIPTION]->(d)\n",
    "\"\"\"\n",
    "display(graph.run(query).stats())"
   ]
  },
  {
   "cell_type": "code",
   "execution_count": 41,
   "metadata": {},
   "outputs": [
    {
     "data": {
      "text/plain": [
       "constraints_added: 0\n",
       "constraints_removed: 0\n",
       "contains_updates: True\n",
       "indexes_added: 0\n",
       "indexes_removed: 0\n",
       "labels_added: 43903\n",
       "labels_removed: 0\n",
       "nodes_created: 43903\n",
       "nodes_deleted: 0\n",
       "properties_set: 43903\n",
       "relationships_created: 476509\n",
       "relationships_deleted: 0"
      ]
     },
     "metadata": {},
     "output_type": "display_data"
    },
    {
     "data": {
      "text/plain": [
       "constraints_added: 0\n",
       "constraints_removed: 0\n",
       "contains_updates: True\n",
       "indexes_added: 0\n",
       "indexes_removed: 0\n",
       "labels_added: 6315\n",
       "labels_removed: 0\n",
       "nodes_created: 6315\n",
       "nodes_deleted: 0\n",
       "properties_set: 6315\n",
       "relationships_created: 26215\n",
       "relationships_deleted: 0"
      ]
     },
     "metadata": {},
     "output_type": "display_data"
    },
    {
     "data": {
      "text/plain": [
       "constraints_added: 0\n",
       "constraints_removed: 0\n",
       "contains_updates: True\n",
       "indexes_added: 0\n",
       "indexes_removed: 0\n",
       "labels_added: 95\n",
       "labels_removed: 0\n",
       "nodes_created: 95\n",
       "nodes_deleted: 0\n",
       "properties_set: 95\n",
       "relationships_created: 149\n",
       "relationships_deleted: 0"
      ]
     },
     "metadata": {},
     "output_type": "display_data"
    },
    {
     "name": "stdout",
     "output_type": "stream",
     "text": [
      "CPU times: user 9.62 ms, sys: 4.23 ms, total: 13.8 ms\n",
      "Wall time: 1min 26s\n"
     ]
    }
   ],
   "source": [
    "%%time\n",
    "# create Nodes and Relationships\n",
    "query = \"\"\"\n",
    "USING PERIODIC COMMIT 1000\n",
    "LOAD CSV WITH HEADERS FROM 'file:///\"\"\"+file2+\"\"\"' AS line FIELDTERMINATOR ','\n",
    "WITH line WHERE line.entity_category = 'Event'\n",
    "MATCH (d:Description {value:line.document})\n",
    "MERGE (de:Event {value:line.entity_text})\n",
    "MERGE (de)-[:EVENT_IN]->(d)\n",
    "\"\"\"\n",
    "display(graph.run(query).stats())\n",
    "\n",
    "query = \"\"\"\n",
    "USING PERIODIC COMMIT 1000\n",
    "LOAD CSV WITH HEADERS FROM 'file:///\"\"\"+file2+\"\"\"' AS line FIELDTERMINATOR ','\n",
    "WITH line WHERE line.entity_category = 'Location'\n",
    "MATCH (d:Description {value:line.document})\n",
    "MERGE (dl:Location {value:line.entity_text})\n",
    "MERGE (dl)-[:LOCATION_IN]->(d)\n",
    "\"\"\"\n",
    "display(graph.run(query).stats())\n",
    "\n",
    "query = \"\"\"\n",
    "USING PERIODIC COMMIT 1000\n",
    "LOAD CSV WITH HEADERS FROM 'file:///\"\"\"+file2+\"\"\"' AS line FIELDTERMINATOR ','\n",
    "WITH line WHERE line.entity_category = 'Product'\n",
    "MATCH (d:Description {value:line.document})\n",
    "MERGE (dp:Product {value:line.entity_text})\n",
    "MERGE (dp)-[:PRODUCT_IN]->(d)\n",
    "\"\"\"\n",
    "display(graph.run(query).stats())"
   ]
  },
  {
   "cell_type": "markdown",
   "metadata": {},
   "source": [
    "## alternative:  \n",
    "using APOC for Azure NLP cognitive services:  \n",
    "https://neo4j.com/labs/apoc/4.1/nlp/azure/#nlp-azure-examples-entities"
   ]
  },
  {
   "cell_type": "code",
   "execution_count": null,
   "metadata": {},
   "outputs": [],
   "source": [
    "query = \"\"\"\n",
    "MERGE (:Article {\n",
    "  uri: \"https://neo4j.com/blog/pokegraph-gotta-graph-em-all/\",\n",
    "  body: \"These days I’m rarely more than a few feet away from my Nintendo Switch and I play board games, card games and role playing games with friends at least once or twice a week. I’ve even organised lunch-time Mario Kart 8 tournaments between the Neo4j European offices!\"\n",
    "})\n",
    "\"\"\"\n",
    "graph.run(query)\n",
    "\n",
    "query = \"\"\"\n",
    "MERGE (:Article {\n",
    "  uri: \"https://en.wikipedia.org/wiki/Nintendo_Switch\",\n",
    "  body: \"The Nintendo Switch is a video game console developed by Nintendo, released worldwide in most regions on March 3, 2017. It is a hybrid console that can be used as a home console and portable device. The Nintendo Switch was unveiled on October 20, 2016. Nintendo offers a Joy-Con Wheel, a small steering wheel-like unit that a Joy-Con can slot into, allowing it to be used for racing games such as Mario Kart 8.\"\n",
    "})\n",
    "\"\"\"\n",
    "graph.run(query)"
   ]
  },
  {
   "cell_type": "code",
   "execution_count": null,
   "metadata": {},
   "outputs": [],
   "source": [
    "query = \"\"\"\n",
    "MATCH (a:Article)\n",
    "WITH collect(a) AS articles\n",
    "CALL apoc.nlp.azure.entities.graph(articles, {\n",
    "  key: \"618f207e871d4ea3a79dd6889b8a6f7c\",\n",
    "  url: \"https://westeurope.api.cognitive.microsoft.com/\",\n",
    "  nodeProperty: \"body\",\n",
    "  writeRelationshipType: \"ENTITY\",\n",
    "  write: true\n",
    "})\n",
    "YIELD graph AS g\n",
    "RETURN g\n",
    "\"\"\"\n",
    "graph.run(query).to_data_frame()"
   ]
  },
  {
   "cell_type": "markdown",
   "metadata": {},
   "source": [
    "## Q: find the popular product flavors in this 'merlot' variety"
   ]
  },
  {
   "cell_type": "markdown",
   "metadata": {},
   "source": [
    "* Avoid all the variety names that contain generic words. Manually added 'black', 'red', 'white', 'blend', 'style', 'other'\n",
    "* Then we match those description words to the variety names\n",
    "* After, we pull back all of the wines that match that have 'merlot' as a variety\n",
    "* Then we do a count against the most popular unique products in the wine"
   ]
  },
  {
   "cell_type": "code",
   "execution_count": null,
   "metadata": {},
   "outputs": [],
   "source": [
    "%%time\n",
    "query = \"\"\"\n",
    "MATCH (vn:VarietyName)\n",
    "WHERE NOT vn.name in ['black', 'red', 'white', 'blend', 'style', 'other', 'blank', 'gris']\n",
    "WITH vn\n",
    "MATCH (p:Product {value:vn.name})\n",
    "WITH p\n",
    "MATCH (p:Product)-[:PRODUCT_IN]->(d:Description)<-[:HAS_DESCRIPTION]-(w:Wine)-[:HAS_VARIETY]->(v:Variety)\n",
    "WHERE tolower(v.name) contains('merlot')\n",
    "WITH w, p ORDER BY p.value\n",
    "WITH w, collect(DISTINCT p.value) as grapes\n",
    "RETURN grapes, count(grapes) as popularity order by popularity desc\n",
    "\"\"\"\n",
    "graph.run(query).to_data_frame()"
   ]
  },
  {
   "cell_type": "markdown",
   "metadata": {},
   "source": [
    "```cypher\n",
    "CALL db.schema.visualization\n",
    "```\n",
    "\n",
    "![CALL db.schema.visualization](../../image/howto_graph/schema6.png)"
   ]
  },
  {
   "cell_type": "markdown",
   "metadata": {},
   "source": [
    "# dataModel (expansion 5) - Points\n",
    "[link to Arrows for data modelling](http://www.apcjones.com/arrows/#)\n",
    "\n",
    "![model expansion 7](../../image/howto_graph/model7.jpg)"
   ]
  },
  {
   "cell_type": "markdown",
   "metadata": {},
   "source": [
    "# dataLoading (expanded 5)"
   ]
  },
  {
   "cell_type": "code",
   "execution_count": 44,
   "metadata": {},
   "outputs": [
    {
     "name": "stdout",
     "output_type": "stream",
     "text": [
      "CPU times: user 7.75 ms, sys: 316 µs, total: 8.07 ms\n",
      "Wall time: 31.4 s\n"
     ]
    },
    {
     "data": {
      "text/html": [
       "<div>\n",
       "<style scoped>\n",
       "    .dataframe tbody tr th:only-of-type {\n",
       "        vertical-align: middle;\n",
       "    }\n",
       "\n",
       "    .dataframe tbody tr th {\n",
       "        vertical-align: top;\n",
       "    }\n",
       "\n",
       "    .dataframe thead th {\n",
       "        text-align: right;\n",
       "    }\n",
       "</style>\n",
       "<table border=\"1\" class=\"dataframe\">\n",
       "  <thead>\n",
       "    <tr style=\"text-align: right;\">\n",
       "      <th></th>\n",
       "      <th>updates</th>\n",
       "      <th>executions</th>\n",
       "      <th>runtime</th>\n",
       "      <th>batches</th>\n",
       "      <th>failedBatches</th>\n",
       "      <th>batchErrors</th>\n",
       "      <th>failedCommits</th>\n",
       "      <th>commitErrors</th>\n",
       "      <th>wasTerminated</th>\n",
       "    </tr>\n",
       "  </thead>\n",
       "  <tbody>\n",
       "    <tr>\n",
       "      <th>0</th>\n",
       "      <td>7660</td>\n",
       "      <td>766</td>\n",
       "      <td>31</td>\n",
       "      <td>767</td>\n",
       "      <td>0</td>\n",
       "      <td>{}</td>\n",
       "      <td>0</td>\n",
       "      <td>{}</td>\n",
       "      <td>False</td>\n",
       "    </tr>\n",
       "  </tbody>\n",
       "</table>\n",
       "</div>"
      ],
      "text/plain": [
       "   updates  executions  runtime  batches  failedBatches batchErrors  \\\n",
       "0     7660         766       31      767              0          {}   \n",
       "\n",
       "   failedCommits commitErrors  wasTerminated  \n",
       "0              0           {}          False  "
      ]
     },
     "execution_count": 44,
     "metadata": {},
     "output_type": "execute_result"
    }
   ],
   "source": [
    "%%time\n",
    "# remove relationships between Taster and Wine\n",
    "query = \"\"\"\n",
    "CALL apoc.periodic.commit(\"\n",
    "    MATCH (t:Taster)-[r:RATES_WINE]->(w:Wine)\n",
    "    WITH r LIMIT $limit\n",
    "    DELETE r\n",
    "    RETURN COUNT(*)\",\n",
    "    {limit:10})\n",
    "\"\"\"\n",
    "graph.run(query).to_data_frame()"
   ]
  },
  {
   "cell_type": "code",
   "execution_count": null,
   "metadata": {},
   "outputs": [],
   "source": [
    "%%time\n",
    "# indexes for additional data\n",
    "graph.run(\"\"\"CREATE INDEX ON :Points(name)\"\"\")"
   ]
  },
  {
   "cell_type": "code",
   "execution_count": null,
   "metadata": {},
   "outputs": [],
   "source": [
    "%%time\n",
    "# connect, COALESCE means select everything except 'No Taster'\n",
    "query = \"\"\"\n",
    "USING PERIODIC COMMIT 1000\n",
    "LOAD CSV WITH HEADERS FROM 'file:///\"\"\"+file+\"\"\"' AS line FIELDTERMINATOR ','\n",
    "MATCH (t:Taster {name:line.taster_name})-[:GAVE_POINTS]->(p:Points {value:toInteger(line.points)})\n",
    "MATCH (w:Wine {name:line.title})\n",
    "MERGE (p)<-[:HAS_POINTS]-(w)\n",
    "\"\"\"\n",
    "graph.run(query)"
   ]
  },
  {
   "cell_type": "markdown",
   "metadata": {},
   "source": [
    "## Q: which wines have 100/100 points ?"
   ]
  },
  {
   "cell_type": "code",
   "execution_count": 86,
   "metadata": {},
   "outputs": [
    {
     "name": "stdout",
     "output_type": "stream",
     "text": [
      "CPU times: user 9.97 ms, sys: 66 µs, total: 10 ms\n",
      "Wall time: 44.2 ms\n"
     ]
    },
    {
     "data": {
      "text/html": [
       "<div>\n",
       "<style scoped>\n",
       "    .dataframe tbody tr th:only-of-type {\n",
       "        vertical-align: middle;\n",
       "    }\n",
       "\n",
       "    .dataframe tbody tr th {\n",
       "        vertical-align: top;\n",
       "    }\n",
       "\n",
       "    .dataframe thead th {\n",
       "        text-align: right;\n",
       "    }\n",
       "</style>\n",
       "<table border=\"1\" class=\"dataframe\">\n",
       "  <thead>\n",
       "    <tr style=\"text-align: right;\">\n",
       "      <th></th>\n",
       "      <th>Reviewer</th>\n",
       "      <th>Wine title</th>\n",
       "      <th>Grape variety</th>\n",
       "    </tr>\n",
       "  </thead>\n",
       "  <tbody>\n",
       "    <tr>\n",
       "      <th>0</th>\n",
       "      <td>Paul Gregutt</td>\n",
       "      <td>Château Haut-Brion 2014  Pessac-Léognan</td>\n",
       "      <td>Bordeaux-style Red Blend</td>\n",
       "    </tr>\n",
       "    <tr>\n",
       "      <th>1</th>\n",
       "      <td>Kerin O’Keefe</td>\n",
       "      <td>Château Haut-Brion 2014  Pessac-Léognan</td>\n",
       "      <td>Bordeaux-style Red Blend</td>\n",
       "    </tr>\n",
       "    <tr>\n",
       "      <th>2</th>\n",
       "      <td>Roger Voss</td>\n",
       "      <td>Château Haut-Brion 2014  Pessac-Léognan</td>\n",
       "      <td>Bordeaux-style Red Blend</td>\n",
       "    </tr>\n",
       "    <tr>\n",
       "      <th>3</th>\n",
       "      <td>No Taster</td>\n",
       "      <td>Château Haut-Brion 2014  Pessac-Léognan</td>\n",
       "      <td>Bordeaux-style Red Blend</td>\n",
       "    </tr>\n",
       "    <tr>\n",
       "      <th>4</th>\n",
       "      <td>Joe Czerwinski</td>\n",
       "      <td>Château Haut-Brion 2014  Pessac-Léognan</td>\n",
       "      <td>Bordeaux-style Red Blend</td>\n",
       "    </tr>\n",
       "    <tr>\n",
       "      <th>...</th>\n",
       "      <td>...</td>\n",
       "      <td>...</td>\n",
       "      <td>...</td>\n",
       "    </tr>\n",
       "    <tr>\n",
       "      <th>95</th>\n",
       "      <td>Paul Gregutt</td>\n",
       "      <td>Tenuta dell'Ornellaia 2007 Masseto Merlot (Tos...</td>\n",
       "      <td>Tempranillo-Merlot</td>\n",
       "    </tr>\n",
       "    <tr>\n",
       "      <th>96</th>\n",
       "      <td>Kerin O’Keefe</td>\n",
       "      <td>Tenuta dell'Ornellaia 2007 Masseto Merlot (Tos...</td>\n",
       "      <td>Tempranillo-Merlot</td>\n",
       "    </tr>\n",
       "    <tr>\n",
       "      <th>97</th>\n",
       "      <td>Roger Voss</td>\n",
       "      <td>Tenuta dell'Ornellaia 2007 Masseto Merlot (Tos...</td>\n",
       "      <td>Tempranillo-Merlot</td>\n",
       "    </tr>\n",
       "    <tr>\n",
       "      <th>98</th>\n",
       "      <td>No Taster</td>\n",
       "      <td>Tenuta dell'Ornellaia 2007 Masseto Merlot (Tos...</td>\n",
       "      <td>Tempranillo-Merlot</td>\n",
       "    </tr>\n",
       "    <tr>\n",
       "      <th>99</th>\n",
       "      <td>Joe Czerwinski</td>\n",
       "      <td>Tenuta dell'Ornellaia 2007 Masseto Merlot (Tos...</td>\n",
       "      <td>Tempranillo-Merlot</td>\n",
       "    </tr>\n",
       "  </tbody>\n",
       "</table>\n",
       "<p>100 rows × 3 columns</p>\n",
       "</div>"
      ],
      "text/plain": [
       "          Reviewer                                         Wine title  \\\n",
       "0     Paul Gregutt            Château Haut-Brion 2014  Pessac-Léognan   \n",
       "1    Kerin O’Keefe            Château Haut-Brion 2014  Pessac-Léognan   \n",
       "2       Roger Voss            Château Haut-Brion 2014  Pessac-Léognan   \n",
       "3        No Taster            Château Haut-Brion 2014  Pessac-Léognan   \n",
       "4   Joe Czerwinski            Château Haut-Brion 2014  Pessac-Léognan   \n",
       "..             ...                                                ...   \n",
       "95    Paul Gregutt  Tenuta dell'Ornellaia 2007 Masseto Merlot (Tos...   \n",
       "96   Kerin O’Keefe  Tenuta dell'Ornellaia 2007 Masseto Merlot (Tos...   \n",
       "97      Roger Voss  Tenuta dell'Ornellaia 2007 Masseto Merlot (Tos...   \n",
       "98       No Taster  Tenuta dell'Ornellaia 2007 Masseto Merlot (Tos...   \n",
       "99  Joe Czerwinski  Tenuta dell'Ornellaia 2007 Masseto Merlot (Tos...   \n",
       "\n",
       "               Grape variety  \n",
       "0   Bordeaux-style Red Blend  \n",
       "1   Bordeaux-style Red Blend  \n",
       "2   Bordeaux-style Red Blend  \n",
       "3   Bordeaux-style Red Blend  \n",
       "4   Bordeaux-style Red Blend  \n",
       "..                       ...  \n",
       "95        Tempranillo-Merlot  \n",
       "96        Tempranillo-Merlot  \n",
       "97        Tempranillo-Merlot  \n",
       "98        Tempranillo-Merlot  \n",
       "99        Tempranillo-Merlot  \n",
       "\n",
       "[100 rows x 3 columns]"
      ]
     },
     "execution_count": 86,
     "metadata": {},
     "output_type": "execute_result"
    }
   ],
   "source": [
    "%%time\n",
    "query = \"\"\"\n",
    "MATCH (p:Points {value:'100'})<-[:HAS_POINTS]-(w:Wine)-[:HAS_VARIETY]-(v:Variety)\n",
    "MATCH (p)<-[:GAVE_POINTS]-(t:Taster)\n",
    "RETURN t.name AS `Reviewer`,  w.name AS `Wine title`, v.name AS `Grape variety` ORDER BY `Grape variety`\n",
    "\"\"\"\n",
    "graph.run(query).to_data_frame()"
   ]
  },
  {
   "cell_type": "code",
   "execution_count": null,
   "metadata": {},
   "outputs": [],
   "source": []
  },
  {
   "cell_type": "code",
   "execution_count": null,
   "metadata": {},
   "outputs": [],
   "source": []
  },
  {
   "cell_type": "code",
   "execution_count": null,
   "metadata": {},
   "outputs": [],
   "source": []
  },
  {
   "cell_type": "code",
   "execution_count": null,
   "metadata": {},
   "outputs": [],
   "source": []
  },
  {
   "cell_type": "code",
   "execution_count": null,
   "metadata": {},
   "outputs": [],
   "source": []
  },
  {
   "cell_type": "code",
   "execution_count": null,
   "metadata": {},
   "outputs": [],
   "source": []
  },
  {
   "cell_type": "code",
   "execution_count": null,
   "metadata": {},
   "outputs": [],
   "source": []
  },
  {
   "cell_type": "code",
   "execution_count": null,
   "metadata": {},
   "outputs": [],
   "source": []
  },
  {
   "cell_type": "code",
   "execution_count": null,
   "metadata": {},
   "outputs": [],
   "source": []
  },
  {
   "cell_type": "code",
   "execution_count": null,
   "metadata": {},
   "outputs": [],
   "source": []
  },
  {
   "cell_type": "code",
   "execution_count": null,
   "metadata": {},
   "outputs": [],
   "source": []
  },
  {
   "cell_type": "code",
   "execution_count": null,
   "metadata": {},
   "outputs": [],
   "source": []
  },
  {
   "cell_type": "code",
   "execution_count": null,
   "metadata": {},
   "outputs": [],
   "source": []
  },
  {
   "cell_type": "code",
   "execution_count": null,
   "metadata": {},
   "outputs": [],
   "source": []
  },
  {
   "cell_type": "code",
   "execution_count": null,
   "metadata": {},
   "outputs": [],
   "source": []
  }
 ],
 "metadata": {
  "kernelspec": {
   "display_name": "py38_neo4j",
   "language": "python",
   "name": "conda-env-py38_neo4j-py"
  },
  "language_info": {
   "codemirror_mode": {
    "name": "ipython",
    "version": 3
   },
   "file_extension": ".py",
   "mimetype": "text/x-python",
   "name": "python",
   "nbconvert_exporter": "python",
   "pygments_lexer": "ipython3",
   "version": "3.8.6"
  }
 },
 "nbformat": 4,
 "nbformat_minor": 4
}
