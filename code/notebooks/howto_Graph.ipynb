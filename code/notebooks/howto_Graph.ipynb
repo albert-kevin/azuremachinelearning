{
 "cells": [
  {
   "cell_type": "markdown",
   "metadata": {},
   "source": [
    "Author: Kevin ALBERT  \n",
    "\n",
    "Created: Oct 2020 \n",
    "\n",
    "Based on: [git repo](https://github.com/lju-lazarevic/wine)"
   ]
  },
  {
   "cell_type": "markdown",
   "metadata": {},
   "source": [
    "# environment"
   ]
  },
  {
   "cell_type": "code",
   "execution_count": null,
   "metadata": {},
   "outputs": [],
   "source": [
    "# ! pip install py2neo pandas\n",
    "# ! pip install pandas-profiling"
   ]
  },
  {
   "cell_type": "code",
   "execution_count": null,
   "metadata": {},
   "outputs": [],
   "source": [
    "# ! pip install dtale"
   ]
  },
  {
   "cell_type": "code",
   "execution_count": null,
   "metadata": {},
   "outputs": [],
   "source": [
    "import dtale"
   ]
  },
  {
   "cell_type": "code",
   "execution_count": null,
   "metadata": {},
   "outputs": [],
   "source": [
    "d = dtale.show(prep, host=\"13.74.11.167\", port=\"40000\", ignore_duplicate=True, drop_index=True, reaper_on=False)"
   ]
  },
  {
   "cell_type": "code",
   "execution_count": null,
   "metadata": {},
   "outputs": [],
   "source": [
    "# show all running instances\n",
    "d.main_url()"
   ]
  },
  {
   "cell_type": "code",
   "execution_count": null,
   "metadata": {},
   "outputs": [],
   "source": [
    "# stop webapp\n",
    "d.kill()"
   ]
  },
  {
   "cell_type": "code",
   "execution_count": 1,
   "metadata": {},
   "outputs": [
    {
     "name": "stdout",
     "output_type": "stream",
     "text": [
      "py2neo                        4.2.0\n",
      "pandas                        1.1.3\n",
      "pandas-profiling              2.9.0\n"
     ]
    }
   ],
   "source": [
    "! pip list |grep -i py2neo\n",
    "! pip list |grep -i pandas"
   ]
  },
  {
   "cell_type": "markdown",
   "metadata": {},
   "source": [
    "py2neo is a client library and toolkit for working with Neo4j from within Python applications.  \n",
    "It is well suited for Data Science workflows and has great integration with other Python Data Science tools.  \n",
    "[py2neo docs](https://py2neo.org/v4/database.html)"
   ]
  },
  {
   "cell_type": "code",
   "execution_count": 2,
   "metadata": {},
   "outputs": [],
   "source": [
    "from py2neo import Graph, Node, Relationship\n",
    "import pandas as pd\n",
    "from IPython.display import Javascript\n",
    "import pandas_profiling as pp"
   ]
  },
  {
   "cell_type": "code",
   "execution_count": 3,
   "metadata": {},
   "outputs": [],
   "source": [
    "neo_server = \"13.74.11.167\"\n",
    "user = \"neo4j\"\n",
    "passw = \"digityser\"\n",
    "file = \"winedata.csv\""
   ]
  },
  {
   "cell_type": "code",
   "execution_count": 4,
   "metadata": {},
   "outputs": [],
   "source": [
    "graph = Graph(host=neo_server, auth=(user, passw))"
   ]
  },
  {
   "cell_type": "code",
   "execution_count": 5,
   "metadata": {},
   "outputs": [
    {
     "data": {
      "text/plain": [
       "<py2neo.database.Cursor at 0x7f2f492f63a0>"
      ]
     },
     "execution_count": 5,
     "metadata": {},
     "output_type": "execute_result"
    }
   ],
   "source": [
    "# clean database\n",
    "graph.delete_all()\n",
    "\n",
    "query = \"\"\"\n",
    "CALL apoc.schema.assert({},{},true) YIELD label, key\n",
    "RETURN *\n",
    "\"\"\"\n",
    "graph.run(query)\n",
    "# alternative: shut down neo4j server, do a rm -rf data/graph.db and start up again"
   ]
  },
  {
   "cell_type": "markdown",
   "metadata": {},
   "source": [
    "# dataReport"
   ]
  },
  {
   "cell_type": "markdown",
   "metadata": {},
   "source": [
    "[link to the original dataset](https://www.kaggle.com/zynicide/wine-reviews/data)  \n",
    "[link to the git repo dataset](https://github.com/lju-lazarevic/wine/tree/master/data)"
   ]
  },
  {
   "cell_type": "code",
   "execution_count": 6,
   "metadata": {},
   "outputs": [],
   "source": [
    "# pre-cleaned dataset: deduplicated and cleaned twitter handles\n",
    "datasetURL = \"https://raw.githubusercontent.com/lju-lazarevic/wine/master/data/winemag-data-130k-v3.csv\"\n",
    "reportFile = \"../../data/report/winemag_report.html\""
   ]
  },
  {
   "cell_type": "code",
   "execution_count": 7,
   "metadata": {},
   "outputs": [],
   "source": [
    "df = pd.read_csv(datasetURL)"
   ]
  },
  {
   "cell_type": "code",
   "execution_count": 8,
   "metadata": {},
   "outputs": [
    {
     "data": {
      "application/vnd.jupyter.widget-view+json": {
       "model_id": "35f1b9fc4df44bbfab7fa62b6685bf63",
       "version_major": 2,
       "version_minor": 0
      },
      "text/plain": [
       "HBox(children=(HTML(value='Summarize dataset'), FloatProgress(value=0.0, max=24.0), HTML(value='')))"
      ]
     },
     "metadata": {},
     "output_type": "display_data"
    },
    {
     "name": "stdout",
     "output_type": "stream",
     "text": [
      "\n"
     ]
    },
    {
     "data": {
      "application/vnd.jupyter.widget-view+json": {
       "model_id": "9cd9079d061749aaa268f46a5dcbf803",
       "version_major": 2,
       "version_minor": 0
      },
      "text/plain": [
       "HBox(children=(HTML(value='Generate report structure'), FloatProgress(value=0.0, max=1.0), HTML(value='')))"
      ]
     },
     "metadata": {},
     "output_type": "display_data"
    },
    {
     "name": "stdout",
     "output_type": "stream",
     "text": [
      "\n"
     ]
    },
    {
     "data": {
      "application/vnd.jupyter.widget-view+json": {
       "model_id": "9494ba7561cf4bc5b2150961dad444d7",
       "version_major": 2,
       "version_minor": 0
      },
      "text/plain": [
       "HBox(children=(HTML(value='Render HTML'), FloatProgress(value=0.0, max=1.0), HTML(value='')))"
      ]
     },
     "metadata": {},
     "output_type": "display_data"
    },
    {
     "name": "stdout",
     "output_type": "stream",
     "text": [
      "\n"
     ]
    },
    {
     "data": {
      "application/vnd.jupyter.widget-view+json": {
       "model_id": "ae252cc64fca4f1e8af985d1415ce647",
       "version_major": 2,
       "version_minor": 0
      },
      "text/plain": [
       "HBox(children=(HTML(value='Export report to file'), FloatProgress(value=0.0, max=1.0), HTML(value='')))"
      ]
     },
     "metadata": {},
     "output_type": "display_data"
    },
    {
     "name": "stdout",
     "output_type": "stream",
     "text": [
      "\n"
     ]
    }
   ],
   "source": [
    "pp.ProfileReport(df=df.sample(frac=1),\n",
    "                 minimal=True,\n",
    "                 correlations={\"cramers\": {\"calculate\": False}}).to_file(reportFile)"
   ]
  },
  {
   "cell_type": "code",
   "execution_count": 9,
   "metadata": {},
   "outputs": [
    {
     "data": {
      "application/javascript": [
       "window.open(\"../../data/report/winemag_report.html\");"
      ],
      "text/plain": [
       "<IPython.core.display.Javascript object>"
      ]
     },
     "metadata": {},
     "output_type": "display_data"
    }
   ],
   "source": [
    "# open the report (*.html)\n",
    "display(Javascript('window.open(\"{url}\");'.format(url=reportFile)))"
   ]
  },
  {
   "cell_type": "markdown",
   "metadata": {},
   "source": [
    "# dataPrep\n",
    "clean data prior to a load"
   ]
  },
  {
   "cell_type": "code",
   "execution_count": 10,
   "metadata": {},
   "outputs": [],
   "source": [
    "prep = df[[\"winery\", \"province\", \"country\"]].copy()"
   ]
  },
  {
   "cell_type": "code",
   "execution_count": 11,
   "metadata": {},
   "outputs": [],
   "source": [
    "# replace nan\n",
    "prep['winery'] = prep['winery'].fillna('No Winery')\n",
    "prep['province'] = prep['province'].fillna('No Province')\n",
    "prep['country'] = prep['country'].fillna('No Country')"
   ]
  },
  {
   "cell_type": "code",
   "execution_count": 12,
   "metadata": {},
   "outputs": [],
   "source": [
    "# save file to /import\n",
    "prep.to_csv(\"../../neo4j/import/\"+file, sep=',', index=False)"
   ]
  },
  {
   "cell_type": "markdown",
   "metadata": {},
   "source": [
    "# dataModel\n",
    "[link to Arrows for data modelling](http://www.apcjones.com/arrows/#)\n",
    "\n",
    "![Drag Racing](../../image/howto_graph/model2.jpg)"
   ]
  },
  {
   "cell_type": "markdown",
   "metadata": {},
   "source": [
    "# dataLoading\n",
    "Multistatement queries is only supported on neo4j browser or cypher shell.  \n",
    "With py2neo you must run each statement sequentially. \n",
    "  \n",
    "`MERGE` will take care of any duplicate values  \n",
    "`p` temporary variable name  \n",
    "`Province` entity name defined in data model  \n",
    "`name` property name of entity  \n",
    "`line.province` line is 1 record from dataset then select column province  \n",
    "  \n",
    "```cypher\n",
    "MERGE (p: Province {name: (line.province)})\n",
    "```"
   ]
  },
  {
   "cell_type": "code",
   "execution_count": 13,
   "metadata": {},
   "outputs": [
    {
     "name": "stdout",
     "output_type": "stream",
     "text": [
      "winery,province,country\r\n",
      "Nicosia,Sicily & Sardinia,Italy\r\n"
     ]
    }
   ],
   "source": [
    "# check first 2 lines\n",
    "! head -n 2 ../../neo4j/import/$file"
   ]
  },
  {
   "cell_type": "code",
   "execution_count": 14,
   "metadata": {},
   "outputs": [],
   "source": [
    "# test data loading\n",
    "query = \"\"\"\n",
    "LOAD CSV WITH HEADERS FROM 'file:///\"\"\"+file+\"\"\"' AS line FIELDTERMINATOR ','\n",
    "WITH line\n",
    "LIMIT 1\n",
    "RETURN line\n",
    "\"\"\"\n",
    "data = graph.run(query)"
   ]
  },
  {
   "cell_type": "code",
   "execution_count": 15,
   "metadata": {},
   "outputs": [
    {
     "data": {
      "text/plain": [
       "<Record line={'country': 'Italy', 'province': 'Sicily & Sardinia', 'winery': 'Nicosia'}>"
      ]
     },
     "execution_count": 15,
     "metadata": {},
     "output_type": "execute_result"
    }
   ],
   "source": [
    "next(data)"
   ]
  },
  {
   "cell_type": "code",
   "execution_count": 16,
   "metadata": {},
   "outputs": [
    {
     "data": {
      "application/javascript": [
       "window.open(\"http://13.74.11.167:7474\");"
      ],
      "text/plain": [
       "<IPython.core.display.Javascript object>"
      ]
     },
     "metadata": {},
     "output_type": "display_data"
    }
   ],
   "source": [
    "# open neo4j dashboard\n",
    "display(Javascript('window.open(\"{url}\");'.format(url=\"http://\"+neo_server+\":7474\")))"
   ]
  },
  {
   "cell_type": "markdown",
   "metadata": {},
   "source": [
    "## createIndex"
   ]
  },
  {
   "cell_type": "code",
   "execution_count": 17,
   "metadata": {},
   "outputs": [
    {
     "data": {
      "text/plain": [
       "<py2neo.database.Cursor at 0x7f2f4633c940>"
      ]
     },
     "execution_count": 17,
     "metadata": {},
     "output_type": "execute_result"
    }
   ],
   "source": [
    "graph.run(\"\"\"CREATE INDEX ON :Winery(name)\"\"\")\n",
    "graph.run(\"\"\"CREATE INDEX ON :Province(name)\"\"\")\n",
    "graph.run(\"\"\"CREATE INDEX ON :Country(name)\"\"\")"
   ]
  },
  {
   "cell_type": "markdown",
   "metadata": {},
   "source": [
    "## createNodes"
   ]
  },
  {
   "cell_type": "code",
   "execution_count": 18,
   "metadata": {},
   "outputs": [
    {
     "data": {
      "text/plain": [
       "<py2neo.database.Cursor at 0x7f2f46279460>"
      ]
     },
     "execution_count": 18,
     "metadata": {},
     "output_type": "execute_result"
    }
   ],
   "source": [
    "query = \"\"\"\n",
    "USING PERIODIC COMMIT 1000\n",
    "LOAD CSV WITH HEADERS FROM 'file:///\"\"\"+file+\"\"\"' AS line FIELDTERMINATOR ','\n",
    "MERGE (w: Winery {name: (line.winery)})\n",
    "\"\"\"\n",
    "graph.run(query)\n",
    "\n",
    "query = \"\"\"\n",
    "USING PERIODIC COMMIT 1000\n",
    "LOAD CSV WITH HEADERS FROM 'file:///\"\"\"+file+\"\"\"' AS line FIELDTERMINATOR ','\n",
    "MERGE (p: Province {name: (line.province)})\n",
    "\"\"\"\n",
    "graph.run(query)\n",
    "\n",
    "query = \"\"\"\n",
    "USING PERIODIC COMMIT 1000\n",
    "LOAD CSV WITH HEADERS FROM 'file:///\"\"\"+file+\"\"\"' AS line FIELDTERMINATOR ','\n",
    "MERGE (c: Country {name: (line.country)})\n",
    "\"\"\"\n",
    "graph.run(query)"
   ]
  },
  {
   "cell_type": "markdown",
   "metadata": {},
   "source": [
    "## createRelations"
   ]
  },
  {
   "cell_type": "code",
   "execution_count": 19,
   "metadata": {},
   "outputs": [
    {
     "data": {
      "text/plain": [
       "<py2neo.database.Cursor at 0x7f2f46321b20>"
      ]
     },
     "execution_count": 19,
     "metadata": {},
     "output_type": "execute_result"
    }
   ],
   "source": [
    "query = \"\"\"\n",
    "USING PERIODIC COMMIT 1000\n",
    "LOAD CSV WITH HEADERS FROM 'file:///\"\"\"+file+\"\"\"' AS line FIELDTERMINATOR ','\n",
    "MATCH (w: Winery {name: trim(line.winery)})\n",
    "MATCH (p: Province {name: trim(line.province)})\n",
    "MATCH (c: Country {name: trim(line.country)})\n",
    "MERGE (w)-[:FROM_PROVENCE]->(p)\n",
    "MERGE (p)-[:PROVINCE_COUNTRY]->(c)\n",
    "\"\"\"\n",
    "graph.run(query)"
   ]
  },
  {
   "cell_type": "markdown",
   "metadata": {},
   "source": [
    "## Which 10 countries have the most wineries ?\n",
    "note: make sure to count only once each winery"
   ]
  },
  {
   "cell_type": "code",
   "execution_count": 20,
   "metadata": {},
   "outputs": [
    {
     "name": "stdout",
     "output_type": "stream",
     "text": [
      "CPU times: user 4.41 ms, sys: 3.62 ms, total: 8.03 ms\n",
      "Wall time: 1.02 s\n"
     ]
    },
    {
     "data": {
      "text/html": [
       "<div>\n",
       "<style scoped>\n",
       "    .dataframe tbody tr th:only-of-type {\n",
       "        vertical-align: middle;\n",
       "    }\n",
       "\n",
       "    .dataframe tbody tr th {\n",
       "        vertical-align: top;\n",
       "    }\n",
       "\n",
       "    .dataframe thead th {\n",
       "        text-align: right;\n",
       "    }\n",
       "</style>\n",
       "<table border=\"1\" class=\"dataframe\">\n",
       "  <thead>\n",
       "    <tr style=\"text-align: right;\">\n",
       "      <th></th>\n",
       "      <th>Country</th>\n",
       "      <th>totalNrWineries</th>\n",
       "    </tr>\n",
       "  </thead>\n",
       "  <tbody>\n",
       "    <tr>\n",
       "      <th>0</th>\n",
       "      <td>US</td>\n",
       "      <td>5375</td>\n",
       "    </tr>\n",
       "    <tr>\n",
       "      <th>1</th>\n",
       "      <td>France</td>\n",
       "      <td>3864</td>\n",
       "    </tr>\n",
       "    <tr>\n",
       "      <th>2</th>\n",
       "      <td>Italy</td>\n",
       "      <td>2934</td>\n",
       "    </tr>\n",
       "    <tr>\n",
       "      <th>3</th>\n",
       "      <td>Spain</td>\n",
       "      <td>1435</td>\n",
       "    </tr>\n",
       "    <tr>\n",
       "      <th>4</th>\n",
       "      <td>Argentina</td>\n",
       "      <td>531</td>\n",
       "    </tr>\n",
       "    <tr>\n",
       "      <th>5</th>\n",
       "      <td>Australia</td>\n",
       "      <td>474</td>\n",
       "    </tr>\n",
       "    <tr>\n",
       "      <th>6</th>\n",
       "      <td>Portugal</td>\n",
       "      <td>430</td>\n",
       "    </tr>\n",
       "    <tr>\n",
       "      <th>7</th>\n",
       "      <td>Chile</td>\n",
       "      <td>317</td>\n",
       "    </tr>\n",
       "    <tr>\n",
       "      <th>8</th>\n",
       "      <td>New Zealand</td>\n",
       "      <td>300</td>\n",
       "    </tr>\n",
       "    <tr>\n",
       "      <th>9</th>\n",
       "      <td>South Africa</td>\n",
       "      <td>294</td>\n",
       "    </tr>\n",
       "  </tbody>\n",
       "</table>\n",
       "</div>"
      ],
      "text/plain": [
       "        Country  totalNrWineries\n",
       "0            US             5375\n",
       "1        France             3864\n",
       "2         Italy             2934\n",
       "3         Spain             1435\n",
       "4     Argentina              531\n",
       "5     Australia              474\n",
       "6      Portugal              430\n",
       "7         Chile              317\n",
       "8   New Zealand              300\n",
       "9  South Africa              294"
      ]
     },
     "execution_count": 20,
     "metadata": {},
     "output_type": "execute_result"
    }
   ],
   "source": [
    "%%time\n",
    "query = \"\"\"\n",
    "MATCH (w:Winery)-[:FROM_PROVENCE]->(p:Province)-[:PROVINCE_COUNTRY]->(c:Country)\n",
    "RETURN c.name AS Country, count(DISTINCT w) AS totalNrWineries\n",
    "ORDER BY totalNrWineries DESC LIMIT 10\n",
    "\"\"\"\n",
    "graph.run(query).to_data_frame()"
   ]
  },
  {
   "cell_type": "code",
   "execution_count": 21,
   "metadata": {},
   "outputs": [
    {
     "name": "stdout",
     "output_type": "stream",
     "text": [
      "CPU times: user 75.3 ms, sys: 413 µs, total: 75.8 ms\n",
      "Wall time: 104 ms\n"
     ]
    },
    {
     "data": {
      "text/html": [
       "<div>\n",
       "<style scoped>\n",
       "    .dataframe tbody tr th:only-of-type {\n",
       "        vertical-align: middle;\n",
       "    }\n",
       "\n",
       "    .dataframe tbody tr th {\n",
       "        vertical-align: top;\n",
       "    }\n",
       "\n",
       "    .dataframe thead th {\n",
       "        text-align: right;\n",
       "    }\n",
       "</style>\n",
       "<table border=\"1\" class=\"dataframe\">\n",
       "  <thead>\n",
       "    <tr style=\"text-align: right;\">\n",
       "      <th></th>\n",
       "      <th>Country</th>\n",
       "      <th>totalNrWineries</th>\n",
       "    </tr>\n",
       "  </thead>\n",
       "  <tbody>\n",
       "    <tr>\n",
       "      <th>0</th>\n",
       "      <td>US</td>\n",
       "      <td>5375</td>\n",
       "    </tr>\n",
       "    <tr>\n",
       "      <th>1</th>\n",
       "      <td>France</td>\n",
       "      <td>3864</td>\n",
       "    </tr>\n",
       "    <tr>\n",
       "      <th>2</th>\n",
       "      <td>Italy</td>\n",
       "      <td>2934</td>\n",
       "    </tr>\n",
       "    <tr>\n",
       "      <th>3</th>\n",
       "      <td>Spain</td>\n",
       "      <td>1435</td>\n",
       "    </tr>\n",
       "    <tr>\n",
       "      <th>4</th>\n",
       "      <td>Argentina</td>\n",
       "      <td>531</td>\n",
       "    </tr>\n",
       "    <tr>\n",
       "      <th>5</th>\n",
       "      <td>Australia</td>\n",
       "      <td>474</td>\n",
       "    </tr>\n",
       "    <tr>\n",
       "      <th>6</th>\n",
       "      <td>Portugal</td>\n",
       "      <td>430</td>\n",
       "    </tr>\n",
       "    <tr>\n",
       "      <th>7</th>\n",
       "      <td>Chile</td>\n",
       "      <td>317</td>\n",
       "    </tr>\n",
       "    <tr>\n",
       "      <th>8</th>\n",
       "      <td>New Zealand</td>\n",
       "      <td>300</td>\n",
       "    </tr>\n",
       "    <tr>\n",
       "      <th>9</th>\n",
       "      <td>South Africa</td>\n",
       "      <td>294</td>\n",
       "    </tr>\n",
       "  </tbody>\n",
       "</table>\n",
       "</div>"
      ],
      "text/plain": [
       "        Country  totalNrWineries\n",
       "0            US             5375\n",
       "1        France             3864\n",
       "2         Italy             2934\n",
       "3         Spain             1435\n",
       "4     Argentina              531\n",
       "5     Australia              474\n",
       "6      Portugal              430\n",
       "7         Chile              317\n",
       "8   New Zealand              300\n",
       "9  South Africa              294"
      ]
     },
     "execution_count": 21,
     "metadata": {},
     "output_type": "execute_result"
    }
   ],
   "source": [
    "%%time\n",
    "result = prep[[\"winery\",\"country\"]].groupby(['country'])['winery'].nunique()\n",
    "result = result.rename_axis(['Country']).rename('totalNrWineries').sort_values(ascending=False).reset_index()\n",
    "result.head(10)"
   ]
  },
  {
   "cell_type": "markdown",
   "metadata": {},
   "source": [
    "## Which wineries are across multiple provinces ?\n",
    "alt: Which provinces are associated to each winery ?"
   ]
  },
  {
   "cell_type": "code",
   "execution_count": 22,
   "metadata": {},
   "outputs": [
    {
     "name": "stdout",
     "output_type": "stream",
     "text": [
      "CPU times: user 4.77 ms, sys: 0 ns, total: 4.77 ms\n",
      "Wall time: 732 ms\n"
     ]
    },
    {
     "data": {
      "text/html": [
       "<div>\n",
       "<style scoped>\n",
       "    .dataframe tbody tr th:only-of-type {\n",
       "        vertical-align: middle;\n",
       "    }\n",
       "\n",
       "    .dataframe tbody tr th {\n",
       "        vertical-align: top;\n",
       "    }\n",
       "\n",
       "    .dataframe thead th {\n",
       "        text-align: right;\n",
       "    }\n",
       "</style>\n",
       "<table border=\"1\" class=\"dataframe\">\n",
       "  <thead>\n",
       "    <tr style=\"text-align: right;\">\n",
       "      <th></th>\n",
       "      <th>Winery</th>\n",
       "      <th>Provinces</th>\n",
       "      <th>Total</th>\n",
       "    </tr>\n",
       "  </thead>\n",
       "  <tbody>\n",
       "    <tr>\n",
       "      <th>0</th>\n",
       "      <td>Undurraga</td>\n",
       "      <td>[Colchagua Valley, Maule Valley, Maipo Valley,...</td>\n",
       "      <td>19</td>\n",
       "    </tr>\n",
       "    <tr>\n",
       "      <th>1</th>\n",
       "      <td>Concha y Toro</td>\n",
       "      <td>[Colchagua Valley, Maule Valley, Maipo Valley,...</td>\n",
       "      <td>16</td>\n",
       "    </tr>\n",
       "    <tr>\n",
       "      <th>2</th>\n",
       "      <td>Santa Carolina</td>\n",
       "      <td>[Colchagua Valley, Maule Valley, Maipo Valley,...</td>\n",
       "      <td>14</td>\n",
       "    </tr>\n",
       "    <tr>\n",
       "      <th>3</th>\n",
       "      <td>Kirkland Signature</td>\n",
       "      <td>[Northern Spain, California, Mendoza Province,...</td>\n",
       "      <td>12</td>\n",
       "    </tr>\n",
       "    <tr>\n",
       "      <th>4</th>\n",
       "      <td>San Pedro</td>\n",
       "      <td>[Northern Spain, Mendoza Province, Maule Valle...</td>\n",
       "      <td>12</td>\n",
       "    </tr>\n",
       "    <tr>\n",
       "      <th>5</th>\n",
       "      <td>Santa Rita</td>\n",
       "      <td>[Colchagua Valley, Maipo Valley, Rapel Valley,...</td>\n",
       "      <td>11</td>\n",
       "    </tr>\n",
       "    <tr>\n",
       "      <th>6</th>\n",
       "      <td>Bacalhôa Wines of Portugal</td>\n",
       "      <td>[Douro, Alentejano, Lisboa, Península de Setúb...</td>\n",
       "      <td>11</td>\n",
       "    </tr>\n",
       "    <tr>\n",
       "      <th>7</th>\n",
       "      <td>Casca Wines</td>\n",
       "      <td>[Douro, Tejo, Alentejano, Vinho Verde, Lisboa,...</td>\n",
       "      <td>10</td>\n",
       "    </tr>\n",
       "    <tr>\n",
       "      <th>8</th>\n",
       "      <td>Tussock Jumper</td>\n",
       "      <td>[Rheinhessen, California, Other, Colchagua Val...</td>\n",
       "      <td>10</td>\n",
       "    </tr>\n",
       "    <tr>\n",
       "      <th>9</th>\n",
       "      <td>Barton &amp; Guestier</td>\n",
       "      <td>[Beaujolais, Bordeaux, Burgundy, France Other,...</td>\n",
       "      <td>10</td>\n",
       "    </tr>\n",
       "  </tbody>\n",
       "</table>\n",
       "</div>"
      ],
      "text/plain": [
       "                       Winery  \\\n",
       "0                   Undurraga   \n",
       "1               Concha y Toro   \n",
       "2              Santa Carolina   \n",
       "3          Kirkland Signature   \n",
       "4                   San Pedro   \n",
       "5                  Santa Rita   \n",
       "6  Bacalhôa Wines of Portugal   \n",
       "7                 Casca Wines   \n",
       "8              Tussock Jumper   \n",
       "9           Barton & Guestier   \n",
       "\n",
       "                                           Provinces  Total  \n",
       "0  [Colchagua Valley, Maule Valley, Maipo Valley,...     19  \n",
       "1  [Colchagua Valley, Maule Valley, Maipo Valley,...     16  \n",
       "2  [Colchagua Valley, Maule Valley, Maipo Valley,...     14  \n",
       "3  [Northern Spain, California, Mendoza Province,...     12  \n",
       "4  [Northern Spain, Mendoza Province, Maule Valle...     12  \n",
       "5  [Colchagua Valley, Maipo Valley, Rapel Valley,...     11  \n",
       "6  [Douro, Alentejano, Lisboa, Península de Setúb...     11  \n",
       "7  [Douro, Tejo, Alentejano, Vinho Verde, Lisboa,...     10  \n",
       "8  [Rheinhessen, California, Other, Colchagua Val...     10  \n",
       "9  [Beaujolais, Bordeaux, Burgundy, France Other,...     10  "
      ]
     },
     "execution_count": 22,
     "metadata": {},
     "output_type": "execute_result"
    }
   ],
   "source": [
    "%%time\n",
    "query = \"\"\"\n",
    "MATCH (w:Winery)-[:FROM_PROVENCE]->(p:Province)\n",
    "WITH w, COLLECT(p.name) AS Provinces, count(p) AS Total\n",
    "RETURN w.name AS Winery, Provinces, Total\n",
    "ORDER BY Total DESC LIMIT 10\n",
    "\"\"\"\n",
    "graph.run(query).to_data_frame()"
   ]
  },
  {
   "cell_type": "code",
   "execution_count": 23,
   "metadata": {},
   "outputs": [
    {
     "name": "stdout",
     "output_type": "stream",
     "text": [
      "CPU times: user 4.58 s, sys: 28.7 ms, total: 4.6 s\n",
      "Wall time: 4.79 s\n"
     ]
    },
    {
     "data": {
      "text/html": [
       "<div>\n",
       "<style scoped>\n",
       "    .dataframe tbody tr th:only-of-type {\n",
       "        vertical-align: middle;\n",
       "    }\n",
       "\n",
       "    .dataframe tbody tr th {\n",
       "        vertical-align: top;\n",
       "    }\n",
       "\n",
       "    .dataframe thead th {\n",
       "        text-align: right;\n",
       "    }\n",
       "</style>\n",
       "<table border=\"1\" class=\"dataframe\">\n",
       "  <thead>\n",
       "    <tr style=\"text-align: right;\">\n",
       "      <th></th>\n",
       "      <th>Winery</th>\n",
       "      <th>Provinces</th>\n",
       "      <th>Total</th>\n",
       "    </tr>\n",
       "  </thead>\n",
       "  <tbody>\n",
       "    <tr>\n",
       "      <th>0</th>\n",
       "      <td>Undurraga</td>\n",
       "      <td>[Maipo Valley, Leyda Valley, Chile, Cauquenes ...</td>\n",
       "      <td>19</td>\n",
       "    </tr>\n",
       "    <tr>\n",
       "      <th>1</th>\n",
       "      <td>Concha y Toro</td>\n",
       "      <td>[Chile, Central Valley, Maipo Valley, Casablan...</td>\n",
       "      <td>16</td>\n",
       "    </tr>\n",
       "    <tr>\n",
       "      <th>2</th>\n",
       "      <td>Santa Carolina</td>\n",
       "      <td>[Cachapoal Valley, Colchagua Valley, Casablanc...</td>\n",
       "      <td>14</td>\n",
       "    </tr>\n",
       "    <tr>\n",
       "      <th>3</th>\n",
       "      <td>San Pedro</td>\n",
       "      <td>[Lontué Valley, Cachapoal Valley, Maipo Valley...</td>\n",
       "      <td>12</td>\n",
       "    </tr>\n",
       "    <tr>\n",
       "      <th>4</th>\n",
       "      <td>Kirkland Signature</td>\n",
       "      <td>[California, Washington, Bordeaux, Rhône Valle...</td>\n",
       "      <td>12</td>\n",
       "    </tr>\n",
       "    <tr>\n",
       "      <th>5</th>\n",
       "      <td>Santa Rita</td>\n",
       "      <td>[Leyda Valley, Central Valley, Maipo Valley, A...</td>\n",
       "      <td>11</td>\n",
       "    </tr>\n",
       "    <tr>\n",
       "      <th>6</th>\n",
       "      <td>Bacalhôa Wines of Portugal</td>\n",
       "      <td>[Douro, Setubal, Península de Setúbal, Lisboa,...</td>\n",
       "      <td>11</td>\n",
       "    </tr>\n",
       "    <tr>\n",
       "      <th>7</th>\n",
       "      <td>Xavier Flouret</td>\n",
       "      <td>[Central Valley, Bordeaux, Provence, Burgundy,...</td>\n",
       "      <td>10</td>\n",
       "    </tr>\n",
       "    <tr>\n",
       "      <th>8</th>\n",
       "      <td>Barton &amp; Guestier</td>\n",
       "      <td>[France Other, No Province, Bordeaux, Burgundy...</td>\n",
       "      <td>10</td>\n",
       "    </tr>\n",
       "    <tr>\n",
       "      <th>9</th>\n",
       "      <td>Echeverria</td>\n",
       "      <td>[Central Valley, Maipo Valley, Curicó Valley, ...</td>\n",
       "      <td>10</td>\n",
       "    </tr>\n",
       "  </tbody>\n",
       "</table>\n",
       "</div>"
      ],
      "text/plain": [
       "                       Winery  \\\n",
       "0                   Undurraga   \n",
       "1               Concha y Toro   \n",
       "2              Santa Carolina   \n",
       "3                   San Pedro   \n",
       "4          Kirkland Signature   \n",
       "5                  Santa Rita   \n",
       "6  Bacalhôa Wines of Portugal   \n",
       "7              Xavier Flouret   \n",
       "8           Barton & Guestier   \n",
       "9                  Echeverria   \n",
       "\n",
       "                                           Provinces  Total  \n",
       "0  [Maipo Valley, Leyda Valley, Chile, Cauquenes ...     19  \n",
       "1  [Chile, Central Valley, Maipo Valley, Casablan...     16  \n",
       "2  [Cachapoal Valley, Colchagua Valley, Casablanc...     14  \n",
       "3  [Lontué Valley, Cachapoal Valley, Maipo Valley...     12  \n",
       "4  [California, Washington, Bordeaux, Rhône Valle...     12  \n",
       "5  [Leyda Valley, Central Valley, Maipo Valley, A...     11  \n",
       "6  [Douro, Setubal, Península de Setúbal, Lisboa,...     11  \n",
       "7  [Central Valley, Bordeaux, Provence, Burgundy,...     10  \n",
       "8  [France Other, No Province, Bordeaux, Burgundy...     10  \n",
       "9  [Central Valley, Maipo Valley, Curicó Valley, ...     10  "
      ]
     },
     "execution_count": 23,
     "metadata": {},
     "output_type": "execute_result"
    }
   ],
   "source": [
    "%%time\n",
    "result = prep.groupby('winery').agg({'province':[lambda x: x.unique(), lambda x: x.nunique()]}).reset_index()\n",
    "result.columns = ['Winery', 'Provinces', 'Total']\n",
    "result = result.sort_values(by='Total',ascending=False).reset_index(drop=True)\n",
    "result.head(10)"
   ]
  },
  {
   "cell_type": "markdown",
   "metadata": {},
   "source": [
    "# dataModel (expanded 1)\n",
    "[link to Arrows for data modelling](http://www.apcjones.com/arrows/#)\n",
    "\n",
    "![model3](../../image/howto_graph/model3.jpg)\n",
    "\n",
    "![CALL db.schema.visualization](../../image/howto_graph/schema3.png)"
   ]
  },
  {
   "cell_type": "markdown",
   "metadata": {},
   "source": [
    "# dataPrep (expanded 1)\n",
    "clean data prior to a load"
   ]
  },
  {
   "cell_type": "code",
   "execution_count": 24,
   "metadata": {},
   "outputs": [],
   "source": [
    "prep = df[[\"winery\", \"province\", \"country\", \"designation\", \"taster_name\", \"variety\", \"id\", \"title\"]].copy()"
   ]
  },
  {
   "cell_type": "code",
   "execution_count": 25,
   "metadata": {},
   "outputs": [],
   "source": [
    "prep['winery'] = prep['winery'].fillna('No Winery')\n",
    "prep['province'] = prep['province'].fillna('No Province')\n",
    "prep['country'] = prep['country'].fillna('No Country')"
   ]
  },
  {
   "cell_type": "code",
   "execution_count": 26,
   "metadata": {},
   "outputs": [],
   "source": [
    "prep['designation'] = prep['designation'].fillna('No Designation')\n",
    "prep['taster_name'] = prep['taster_name'].fillna('No Taster')\n",
    "prep['variety'] = prep['variety'].fillna('No Variety')\n",
    "prep['title'] = prep['title'].fillna('No Title')"
   ]
  },
  {
   "cell_type": "code",
   "execution_count": 27,
   "metadata": {},
   "outputs": [],
   "source": [
    "# save file\n",
    "prep.to_csv(\"../../neo4j/import/\"+file, sep=',', index=False)"
   ]
  },
  {
   "cell_type": "markdown",
   "metadata": {},
   "source": [
    "# dataLoading (expanded 1)\n",
    "Multistatement queries is only supported on neo4j browser or cypher shell.  \n",
    "With py2neo you must run each statement sequentially. \n",
    "  \n",
    "`MERGE` will take care of any duplicate values  \n",
    "`p` temporary variable name  \n",
    "`Province` entity name defined in data model  \n",
    "`name` property name of entity  \n",
    "`line.province` line is 1 record from dataset then select column province  \n",
    "  \n",
    "```cypher\n",
    "MERGE (p: Province {name: (line.province)})\n",
    "```"
   ]
  },
  {
   "cell_type": "code",
   "execution_count": 28,
   "metadata": {},
   "outputs": [
    {
     "data": {
      "text/plain": [
       "<py2neo.database.Cursor at 0x7f2f5f48d3d0>"
      ]
     },
     "execution_count": 28,
     "metadata": {},
     "output_type": "execute_result"
    }
   ],
   "source": [
    "# indexes for addition al data\n",
    "graph.run(\"\"\"CREATE INDEX ON :Wine(id)\"\"\")\n",
    "graph.run(\"\"\"CREATE INDEX ON :Taster(name)\"\"\")\n",
    "graph.run(\"\"\"CREATE INDEX ON :Variety(name)\"\"\")\n",
    "graph.run(\"\"\"CREATE INDEX ON :Designation(name)\"\"\")"
   ]
  },
  {
   "cell_type": "code",
   "execution_count": 29,
   "metadata": {},
   "outputs": [
    {
     "data": {
      "text/plain": [
       "<py2neo.database.Cursor at 0x7f2f43c8cc70>"
      ]
     },
     "execution_count": 29,
     "metadata": {},
     "output_type": "execute_result"
    }
   ],
   "source": [
    "query = \"\"\"\n",
    "USING PERIODIC COMMIT 1000\n",
    "LOAD CSV WITH HEADERS FROM 'file:///\"\"\"+file+\"\"\"' AS line FIELDTERMINATOR ','\n",
    "MERGE (d: Designation {name: (line.designation)})\n",
    "\"\"\"\n",
    "graph.run(query)\n",
    "\n",
    "query = \"\"\"\n",
    "USING PERIODIC COMMIT 1000\n",
    "LOAD CSV WITH HEADERS FROM 'file:///\"\"\"+file+\"\"\"' AS line FIELDTERMINATOR ','\n",
    "MERGE (t: Taster {name: (line.taster_name)})\n",
    "\"\"\"\n",
    "graph.run(query)\n",
    "\n",
    "query = \"\"\"\n",
    "USING PERIODIC COMMIT 1000\n",
    "LOAD CSV WITH HEADERS FROM 'file:///\"\"\"+file+\"\"\"' AS line FIELDTERMINATOR ','\n",
    "MERGE (v: Variety {name: (line.variety)})\n",
    "\"\"\"\n",
    "graph.run(query)\n",
    "\n",
    "query = \"\"\"\n",
    "USING PERIODIC COMMIT 1000\n",
    "LOAD CSV WITH HEADERS FROM 'file:///\"\"\"+file+\"\"\"' AS line FIELDTERMINATOR ','\n",
    "MERGE (c: Country {name: (line.country)})\n",
    "MERGE (w: Wine {id: line.id, title: line.title})\n",
    "\"\"\"\n",
    "graph.run(query)"
   ]
  },
  {
   "cell_type": "code",
   "execution_count": 30,
   "metadata": {},
   "outputs": [
    {
     "data": {
      "text/plain": [
       "<py2neo.database.Cursor at 0x7f2f43ac8e50>"
      ]
     },
     "execution_count": 30,
     "metadata": {},
     "output_type": "execute_result"
    }
   ],
   "source": [
    "query = \"\"\"\n",
    "USING PERIODIC COMMIT 1000\n",
    "LOAD CSV WITH HEADERS FROM 'file:///\"\"\"+file+\"\"\"' AS line FIELDTERMINATOR ','\n",
    "MATCH (d: Designation {name: (line.designation)})\n",
    "MATCH (t: Taster {name: (line.taster_name)})\n",
    "MATCH (v: Variety {name: (line.variety)})\n",
    "MATCH (w: Wine {id: (line.id)})\n",
    "MATCH (win: Winery {name: (line.winery)})\n",
    "MERGE (w)-[:FROM_WINERY]->(win)\n",
    "MERGE (w)-[:HAS_VARIETY]->(v)\n",
    "MERGE (t)-[:RATES_WINE]->(w)\n",
    "MERGE (w)-[:HAS_DESIGNATION]->(d)\n",
    "\"\"\"\n",
    "graph.run(query)"
   ]
  },
  {
   "cell_type": "markdown",
   "metadata": {},
   "source": [
    "# The top 10 most prolific wine tasters ?\n",
    "note: not the unique amount but count the total amount tasted"
   ]
  },
  {
   "cell_type": "code",
   "execution_count": 31,
   "metadata": {},
   "outputs": [
    {
     "name": "stdout",
     "output_type": "stream",
     "text": [
      "CPU times: user 5.1 ms, sys: 3.74 ms, total: 8.85 ms\n",
      "Wall time: 2.63 s\n"
     ]
    },
    {
     "data": {
      "text/html": [
       "<div>\n",
       "<style scoped>\n",
       "    .dataframe tbody tr th:only-of-type {\n",
       "        vertical-align: middle;\n",
       "    }\n",
       "\n",
       "    .dataframe tbody tr th {\n",
       "        vertical-align: top;\n",
       "    }\n",
       "\n",
       "    .dataframe thead th {\n",
       "        text-align: right;\n",
       "    }\n",
       "</style>\n",
       "<table border=\"1\" class=\"dataframe\">\n",
       "  <thead>\n",
       "    <tr style=\"text-align: right;\">\n",
       "      <th></th>\n",
       "      <th>Taster</th>\n",
       "      <th>Varieties</th>\n",
       "      <th>Total</th>\n",
       "    </tr>\n",
       "  </thead>\n",
       "  <tbody>\n",
       "    <tr>\n",
       "      <th>0</th>\n",
       "      <td>Roger Voss</td>\n",
       "      <td>[Champagne Blend, Gamay, Grüner Veltliner, Pin...</td>\n",
       "      <td>23560</td>\n",
       "    </tr>\n",
       "    <tr>\n",
       "      <th>1</th>\n",
       "      <td>Michael Schachner</td>\n",
       "      <td>[Sauvignon Blanc, Tempranillo, Red Blend, Verd...</td>\n",
       "      <td>14046</td>\n",
       "    </tr>\n",
       "    <tr>\n",
       "      <th>2</th>\n",
       "      <td>Kerin O’Keefe</td>\n",
       "      <td>[Grillo, Sangiovese, Negroamaro, Moscato, Nebb...</td>\n",
       "      <td>9697</td>\n",
       "    </tr>\n",
       "    <tr>\n",
       "      <th>3</th>\n",
       "      <td>Paul Gregutt</td>\n",
       "      <td>[Chardonnay, Cabernet Sauvignon, Pinot Noir, S...</td>\n",
       "      <td>8868</td>\n",
       "    </tr>\n",
       "    <tr>\n",
       "      <th>4</th>\n",
       "      <td>Virginie Boone</td>\n",
       "      <td>[Sauvignon Blanc, Zinfandel, Merlot, Chardonna...</td>\n",
       "      <td>8708</td>\n",
       "    </tr>\n",
       "    <tr>\n",
       "      <th>5</th>\n",
       "      <td>Matt Kettmann</td>\n",
       "      <td>[Chardonnay, Cabernet Franc, Syrah, Pinot Gris...</td>\n",
       "      <td>5730</td>\n",
       "    </tr>\n",
       "    <tr>\n",
       "      <th>6</th>\n",
       "      <td>Joe Czerwinski</td>\n",
       "      <td>[Cabernet Merlot, Roussanne-Marsanne, Rhône-st...</td>\n",
       "      <td>4766</td>\n",
       "    </tr>\n",
       "    <tr>\n",
       "      <th>7</th>\n",
       "      <td>Sean P. Sullivan</td>\n",
       "      <td>[Bordeaux-style Red Blend, Merlot, Riesling, S...</td>\n",
       "      <td>4461</td>\n",
       "    </tr>\n",
       "    <tr>\n",
       "      <th>8</th>\n",
       "      <td>Anna Lee C. Iijima</td>\n",
       "      <td>[Cabernet Sauvignon, Riesling, Sauvignon Blanc...</td>\n",
       "      <td>4017</td>\n",
       "    </tr>\n",
       "    <tr>\n",
       "      <th>9</th>\n",
       "      <td>Jim Gordon</td>\n",
       "      <td>[Pinot Noir, Dolcetto, Pinot Gris, Cabernet Sa...</td>\n",
       "      <td>3766</td>\n",
       "    </tr>\n",
       "  </tbody>\n",
       "</table>\n",
       "</div>"
      ],
      "text/plain": [
       "               Taster                                          Varieties  \\\n",
       "0          Roger Voss  [Champagne Blend, Gamay, Grüner Veltliner, Pin...   \n",
       "1   Michael Schachner  [Sauvignon Blanc, Tempranillo, Red Blend, Verd...   \n",
       "2       Kerin O’Keefe  [Grillo, Sangiovese, Negroamaro, Moscato, Nebb...   \n",
       "3        Paul Gregutt  [Chardonnay, Cabernet Sauvignon, Pinot Noir, S...   \n",
       "4      Virginie Boone  [Sauvignon Blanc, Zinfandel, Merlot, Chardonna...   \n",
       "5       Matt Kettmann  [Chardonnay, Cabernet Franc, Syrah, Pinot Gris...   \n",
       "6      Joe Czerwinski  [Cabernet Merlot, Roussanne-Marsanne, Rhône-st...   \n",
       "7    Sean P. Sullivan  [Bordeaux-style Red Blend, Merlot, Riesling, S...   \n",
       "8  Anna Lee C. Iijima  [Cabernet Sauvignon, Riesling, Sauvignon Blanc...   \n",
       "9          Jim Gordon  [Pinot Noir, Dolcetto, Pinot Gris, Cabernet Sa...   \n",
       "\n",
       "   Total  \n",
       "0  23560  \n",
       "1  14046  \n",
       "2   9697  \n",
       "3   8868  \n",
       "4   8708  \n",
       "5   5730  \n",
       "6   4766  \n",
       "7   4461  \n",
       "8   4017  \n",
       "9   3766  "
      ]
     },
     "execution_count": 31,
     "metadata": {},
     "output_type": "execute_result"
    }
   ],
   "source": [
    "%%time\n",
    "query = \"\"\"\n",
    "MATCH (t:Taster)\n",
    "WHERE t.name <> \"No Taster\"\n",
    "//WITH t\n",
    "MATCH (t)-[:RATES_WINE]->(w:Wine)-[:HAS_VARIETY]->(v:Variety)\n",
    "WITH t, count(w) AS Total, COLLECT(DISTINCT v.name) AS Varieties\n",
    "RETURN t.name AS Taster, Varieties, Total\n",
    "ORDER BY Total DESC LIMIT 10\n",
    "\"\"\"\n",
    "graph.run(query).to_data_frame()"
   ]
  },
  {
   "cell_type": "code",
   "execution_count": 32,
   "metadata": {},
   "outputs": [
    {
     "name": "stdout",
     "output_type": "stream",
     "text": [
      "CPU times: user 106 ms, sys: 3.38 ms, total: 109 ms\n",
      "Wall time: 126 ms\n"
     ]
    },
    {
     "data": {
      "text/html": [
       "<div>\n",
       "<style scoped>\n",
       "    .dataframe tbody tr th:only-of-type {\n",
       "        vertical-align: middle;\n",
       "    }\n",
       "\n",
       "    .dataframe tbody tr th {\n",
       "        vertical-align: top;\n",
       "    }\n",
       "\n",
       "    .dataframe thead th {\n",
       "        text-align: right;\n",
       "    }\n",
       "</style>\n",
       "<table border=\"1\" class=\"dataframe\">\n",
       "  <thead>\n",
       "    <tr style=\"text-align: right;\">\n",
       "      <th></th>\n",
       "      <th>Taster</th>\n",
       "      <th>Varieties</th>\n",
       "      <th>Total</th>\n",
       "    </tr>\n",
       "  </thead>\n",
       "  <tbody>\n",
       "    <tr>\n",
       "      <th>0</th>\n",
       "      <td>Roger Voss</td>\n",
       "      <td>[Portuguese Red, Gewürztraminer, Pinot Gris, G...</td>\n",
       "      <td>23560</td>\n",
       "    </tr>\n",
       "    <tr>\n",
       "      <th>1</th>\n",
       "      <td>Michael Schachner</td>\n",
       "      <td>[Tempranillo-Merlot, Malbec, Malbec, Tempranil...</td>\n",
       "      <td>14046</td>\n",
       "    </tr>\n",
       "    <tr>\n",
       "      <th>2</th>\n",
       "      <td>Kerin O’Keefe</td>\n",
       "      <td>[White Blend, Frappato, Nerello Mascalese, Whi...</td>\n",
       "      <td>9697</td>\n",
       "    </tr>\n",
       "    <tr>\n",
       "      <th>3</th>\n",
       "      <td>Paul Gregutt</td>\n",
       "      <td>[Pinot Gris, Pinot Noir, Pinot Noir, Pinot Noi...</td>\n",
       "      <td>8868</td>\n",
       "    </tr>\n",
       "    <tr>\n",
       "      <th>4</th>\n",
       "      <td>Virginie Boone</td>\n",
       "      <td>[Cabernet Sauvignon, Cabernet Sauvignon, Pinot...</td>\n",
       "      <td>8708</td>\n",
       "    </tr>\n",
       "    <tr>\n",
       "      <th>5</th>\n",
       "      <td>Matt Kettmann</td>\n",
       "      <td>[Chardonnay, Merlot, Sauvignon Blanc, Zinfande...</td>\n",
       "      <td>5730</td>\n",
       "    </tr>\n",
       "    <tr>\n",
       "      <th>6</th>\n",
       "      <td>Joe Czerwinski</td>\n",
       "      <td>[Chardonnay, Rosé, Shiraz-Cabernet Sauvignon, ...</td>\n",
       "      <td>4766</td>\n",
       "    </tr>\n",
       "    <tr>\n",
       "      <th>7</th>\n",
       "      <td>Sean P. Sullivan</td>\n",
       "      <td>[Malbec, Cabernet Franc, Bordeaux-style Red Bl...</td>\n",
       "      <td>4461</td>\n",
       "    </tr>\n",
       "    <tr>\n",
       "      <th>8</th>\n",
       "      <td>Anna Lee C. Iijima</td>\n",
       "      <td>[Gewürztraminer, Riesling, Riesling, Riesling,...</td>\n",
       "      <td>4017</td>\n",
       "    </tr>\n",
       "    <tr>\n",
       "      <th>9</th>\n",
       "      <td>Jim Gordon</td>\n",
       "      <td>[Red Blend, Cabernet Franc, White Blend, Grena...</td>\n",
       "      <td>3766</td>\n",
       "    </tr>\n",
       "  </tbody>\n",
       "</table>\n",
       "</div>"
      ],
      "text/plain": [
       "               Taster                                          Varieties  \\\n",
       "0          Roger Voss  [Portuguese Red, Gewürztraminer, Pinot Gris, G...   \n",
       "1   Michael Schachner  [Tempranillo-Merlot, Malbec, Malbec, Tempranil...   \n",
       "2       Kerin O’Keefe  [White Blend, Frappato, Nerello Mascalese, Whi...   \n",
       "3        Paul Gregutt  [Pinot Gris, Pinot Noir, Pinot Noir, Pinot Noi...   \n",
       "4      Virginie Boone  [Cabernet Sauvignon, Cabernet Sauvignon, Pinot...   \n",
       "5       Matt Kettmann  [Chardonnay, Merlot, Sauvignon Blanc, Zinfande...   \n",
       "6      Joe Czerwinski  [Chardonnay, Rosé, Shiraz-Cabernet Sauvignon, ...   \n",
       "7    Sean P. Sullivan  [Malbec, Cabernet Franc, Bordeaux-style Red Bl...   \n",
       "8  Anna Lee C. Iijima  [Gewürztraminer, Riesling, Riesling, Riesling,...   \n",
       "9          Jim Gordon  [Red Blend, Cabernet Franc, White Blend, Grena...   \n",
       "\n",
       "   Total  \n",
       "0  23560  \n",
       "1  14046  \n",
       "2   9697  \n",
       "3   8868  \n",
       "4   8708  \n",
       "5   5730  \n",
       "6   4766  \n",
       "7   4461  \n",
       "8   4017  \n",
       "9   3766  "
      ]
     },
     "execution_count": 32,
     "metadata": {},
     "output_type": "execute_result"
    }
   ],
   "source": [
    "%%time\n",
    "result = prep[prep.taster_name != \"No Taster\"]\n",
    "result = result.groupby(['taster_name']).agg({'variety':[lambda x: list(x)], 'title':[lambda x: x.count()]}).reset_index()\n",
    "result.columns = ['Taster', 'Varieties', 'Total']\n",
    "result = result.sort_values(by='Total',ascending=False).reset_index(drop=True)\n",
    "result.head(10)"
   ]
  },
  {
   "cell_type": "markdown",
   "metadata": {},
   "source": [
    "# How many wine varieties contain the word 'red' ?"
   ]
  },
  {
   "cell_type": "code",
   "execution_count": 33,
   "metadata": {},
   "outputs": [
    {
     "name": "stdout",
     "output_type": "stream",
     "text": [
      "CPU times: user 3.32 ms, sys: 159 µs, total: 3.48 ms\n",
      "Wall time: 105 ms\n"
     ]
    },
    {
     "data": {
      "text/html": [
       "<div>\n",
       "<style scoped>\n",
       "    .dataframe tbody tr th:only-of-type {\n",
       "        vertical-align: middle;\n",
       "    }\n",
       "\n",
       "    .dataframe tbody tr th {\n",
       "        vertical-align: top;\n",
       "    }\n",
       "\n",
       "    .dataframe thead th {\n",
       "        text-align: right;\n",
       "    }\n",
       "</style>\n",
       "<table border=\"1\" class=\"dataframe\">\n",
       "  <thead>\n",
       "    <tr style=\"text-align: right;\">\n",
       "      <th></th>\n",
       "      <th>v.name</th>\n",
       "    </tr>\n",
       "  </thead>\n",
       "  <tbody>\n",
       "    <tr>\n",
       "      <th>0</th>\n",
       "      <td>Austrian Red Blend</td>\n",
       "    </tr>\n",
       "    <tr>\n",
       "      <th>1</th>\n",
       "      <td>Bordeaux-style Red Blend</td>\n",
       "    </tr>\n",
       "    <tr>\n",
       "      <th>2</th>\n",
       "      <td>Portuguese Red</td>\n",
       "    </tr>\n",
       "    <tr>\n",
       "      <th>3</th>\n",
       "      <td>Provence red blend</td>\n",
       "    </tr>\n",
       "    <tr>\n",
       "      <th>4</th>\n",
       "      <td>Red Blend</td>\n",
       "    </tr>\n",
       "    <tr>\n",
       "      <th>5</th>\n",
       "      <td>Rhône-style Red Blend</td>\n",
       "    </tr>\n",
       "  </tbody>\n",
       "</table>\n",
       "</div>"
      ],
      "text/plain": [
       "                     v.name\n",
       "0        Austrian Red Blend\n",
       "1  Bordeaux-style Red Blend\n",
       "2            Portuguese Red\n",
       "3        Provence red blend\n",
       "4                 Red Blend\n",
       "5     Rhône-style Red Blend"
      ]
     },
     "execution_count": 33,
     "metadata": {},
     "output_type": "execute_result"
    }
   ],
   "source": [
    "%%time\n",
    "query = \"\"\"\n",
    "MATCH (v:Variety)\n",
    "WHERE tolower(v.name) CONTAINS 'red'\n",
    "RETURN v.name\n",
    "ORDER BY v.name\n",
    "\"\"\"\n",
    "graph.run(query).to_data_frame()"
   ]
  },
  {
   "cell_type": "code",
   "execution_count": null,
   "metadata": {},
   "outputs": [],
   "source": []
  },
  {
   "cell_type": "code",
   "execution_count": null,
   "metadata": {},
   "outputs": [],
   "source": []
  },
  {
   "cell_type": "code",
   "execution_count": null,
   "metadata": {},
   "outputs": [],
   "source": []
  },
  {
   "cell_type": "code",
   "execution_count": null,
   "metadata": {},
   "outputs": [],
   "source": []
  },
  {
   "cell_type": "code",
   "execution_count": null,
   "metadata": {},
   "outputs": [],
   "source": []
  },
  {
   "cell_type": "code",
   "execution_count": null,
   "metadata": {},
   "outputs": [],
   "source": []
  }
 ],
 "metadata": {
  "kernelspec": {
   "display_name": "py38_neo4j",
   "language": "python",
   "name": "conda-env-py38_neo4j-py"
  },
  "language_info": {
   "codemirror_mode": {
    "name": "ipython",
    "version": 3
   },
   "file_extension": ".py",
   "mimetype": "text/x-python",
   "name": "python",
   "nbconvert_exporter": "python",
   "pygments_lexer": "ipython3",
   "version": "3.8.6"
  }
 },
 "nbformat": 4,
 "nbformat_minor": 4
}
