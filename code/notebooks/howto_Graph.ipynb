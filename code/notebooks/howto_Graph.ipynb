{
 "cells": [
  {
   "cell_type": "markdown",
   "metadata": {},
   "source": [
    "Author: Kevin ALBERT  \n",
    "\n",
    "Created: Oct 2020 \n",
    "\n",
    "Inspiration: [git repo](https://github.com/lju-lazarevic/wine)"
   ]
  },
  {
   "cell_type": "markdown",
   "metadata": {},
   "source": [
    "# environment\n",
    "**cpu:**2, **mem:**8G, **disk:**150GB, **os:**ubuntu"
   ]
  },
  {
   "cell_type": "code",
   "execution_count": null,
   "metadata": {},
   "outputs": [],
   "source": [
    "# ! pip install py2neo pandas\n",
    "# ! pip install pandas-profiling"
   ]
  },
  {
   "cell_type": "code",
   "execution_count": null,
   "metadata": {},
   "outputs": [],
   "source": [
    "# rerun report (delete me later)\n",
    "import pandas_profiling as pp\n",
    "pp.ProfileReport(prep, minimal=True, correlations={\"cramers\": {\"calculate\": False}}, progress_bar=False).to_file(reportFile)"
   ]
  },
  {
   "cell_type": "code",
   "execution_count": 54,
   "metadata": {},
   "outputs": [
    {
     "name": "stdout",
     "output_type": "stream",
     "text": [
      "http://13.74.11.167:40000/dtale/main/1\n"
     ]
    }
   ],
   "source": [
    "import dtale\n",
    "d = dtale.show(prep, host=\"13.74.11.167\", port=\"40000\", ignore_duplicate=True, drop_index=True, reaper_on=False)\n",
    "# show all running instances\n",
    "d.main_url()\n",
    "# stop webapp\n",
    "# d.kill()"
   ]
  },
  {
   "cell_type": "code",
   "execution_count": null,
   "metadata": {},
   "outputs": [],
   "source": [
    "! pip list |grep -i py2neo\n",
    "! pip list |grep -i pandas"
   ]
  },
  {
   "cell_type": "markdown",
   "metadata": {},
   "source": [
    "py2neo is a client library and toolkit for working with Neo4j from within Python applications.  \n",
    "It is well suited for Data Science workflows and has great integration with other Python Data Science tools.  \n",
    "[py2neo docs](https://py2neo.org/v4/database.html)"
   ]
  },
  {
   "cell_type": "code",
   "execution_count": 1,
   "metadata": {},
   "outputs": [],
   "source": [
    "from py2neo import Graph, Node, Relationship\n",
    "import pandas as pd\n",
    "from IPython.display import Javascript\n",
    "import pandas_profiling as pp"
   ]
  },
  {
   "cell_type": "code",
   "execution_count": 2,
   "metadata": {},
   "outputs": [],
   "source": [
    "neo_server = \"13.74.11.167\"\n",
    "user = \"neo4j\"\n",
    "passw = \"digityser\"\n",
    "file = \"winedata.csv\""
   ]
  },
  {
   "cell_type": "code",
   "execution_count": 3,
   "metadata": {},
   "outputs": [],
   "source": [
    "graph = Graph(host=neo_server, auth=(user, passw))"
   ]
  },
  {
   "cell_type": "markdown",
   "metadata": {},
   "source": [
    "**delete database neo4j (v4.x):**\n",
    "```sh\n",
    "sudo docker-compose down\n",
    "sudo rm -Rf data/databases/neo4j\n",
    "sudo rm -Rf data/transactions/neo4j\n",
    "sudo docker-compose up --build &\n",
    "```\n",
    "```cypher\n",
    "MATCH (n) DETACH DELETE n;\n",
    "CALL apoc.schema.assert({},{},true) YIELD label, key RETURN *;\n",
    "```"
   ]
  },
  {
   "cell_type": "code",
   "execution_count": null,
   "metadata": {},
   "outputs": [],
   "source": [
    "# delete all nodes and relationships\n",
    "graph.delete_all()"
   ]
  },
  {
   "cell_type": "code",
   "execution_count": null,
   "metadata": {},
   "outputs": [],
   "source": [
    "# delete all indexes and constraints\n",
    "graph.run(\"\"\"CALL apoc.schema.assert({},{},true) YIELD label, key RETURN *\"\"\")"
   ]
  },
  {
   "cell_type": "markdown",
   "metadata": {},
   "source": [
    "# dataReport"
   ]
  },
  {
   "cell_type": "markdown",
   "metadata": {},
   "source": [
    "[link to the original dataset](https://www.kaggle.com/zynicide/wine-reviews/data)  \n",
    "[link to the git repo dataset](https://github.com/lju-lazarevic/wine/tree/master/data)"
   ]
  },
  {
   "cell_type": "code",
   "execution_count": 4,
   "metadata": {},
   "outputs": [],
   "source": [
    "# pre-cleaned dataset: deduplicated and cleaned twitter handles\n",
    "datasetURL = \"https://raw.githubusercontent.com/lju-lazarevic/wine/master/data/winemag-data-130k-v3.csv\"\n",
    "reportFile = \"../../data/report/winemag_report.html\""
   ]
  },
  {
   "cell_type": "code",
   "execution_count": 5,
   "metadata": {},
   "outputs": [],
   "source": [
    "df = pd.read_csv(datasetURL)"
   ]
  },
  {
   "cell_type": "code",
   "execution_count": null,
   "metadata": {},
   "outputs": [],
   "source": [
    "%%time\n",
    "pp.ProfileReport(df=df.sample(frac=1),\n",
    "                 minimal=True,\n",
    "                 progress_bar=False,\n",
    "                 correlations={\"cramers\": {\"calculate\": False}}).to_file(reportFile)"
   ]
  },
  {
   "cell_type": "code",
   "execution_count": null,
   "metadata": {},
   "outputs": [],
   "source": [
    "# open the report (*.html)\n",
    "display(Javascript('window.open(\"{url}\");'.format(url=reportFile)))"
   ]
  },
  {
   "cell_type": "markdown",
   "metadata": {},
   "source": [
    "# dataPrep\n",
    "clean data prior to a load"
   ]
  },
  {
   "cell_type": "code",
   "execution_count": 6,
   "metadata": {},
   "outputs": [],
   "source": [
    "prep = df.copy()"
   ]
  },
  {
   "cell_type": "code",
   "execution_count": 7,
   "metadata": {},
   "outputs": [],
   "source": [
    "# replace nan\n",
    "prep['winery'] = prep['winery'].fillna('No Winery')\n",
    "prep['province'] = prep['province'].fillna('No Province')\n",
    "prep['country'] = prep['country'].fillna('No Country')"
   ]
  },
  {
   "cell_type": "code",
   "execution_count": 8,
   "metadata": {},
   "outputs": [],
   "source": [
    "# save file to /import\n",
    "prep.to_csv(\"../../neo4j/import/\"+file, sep=',', index=False)"
   ]
  },
  {
   "cell_type": "markdown",
   "metadata": {},
   "source": [
    "# dataModel\n",
    "[link to Arrows for data modelling](http://www.apcjones.com/arrows/#)\n",
    "\n",
    "![Drag Racing](../../image/howto_graph/model2.jpg)"
   ]
  },
  {
   "cell_type": "markdown",
   "metadata": {},
   "source": [
    "# dataLoading\n",
    "Multistatement queries is only supported on neo4j browser or cypher shell.  \n",
    "With py2neo you must run each statement sequentially. \n",
    "  \n",
    "`MERGE` will take care of any duplicate values  \n",
    "`p` temporary variable name  \n",
    "`Province` entity name defined in data model  \n",
    "`name` property name of entity  \n",
    "`line.province` line is 1 record from dataset then select column province  \n",
    "  \n",
    "```cypher\n",
    "MERGE (p: Province {name: (line.province)})\n",
    "```"
   ]
  },
  {
   "cell_type": "code",
   "execution_count": null,
   "metadata": {},
   "outputs": [],
   "source": [
    "# check first 2 lines\n",
    "! head -n 2 ../../neo4j/import/$file"
   ]
  },
  {
   "cell_type": "code",
   "execution_count": null,
   "metadata": {},
   "outputs": [],
   "source": [
    "# test data loading\n",
    "query = \"\"\"\n",
    "LOAD CSV WITH HEADERS FROM 'file:///\"\"\"+file+\"\"\"' AS line FIELDTERMINATOR ','\n",
    "WITH line\n",
    "LIMIT 1\n",
    "RETURN line\n",
    "\"\"\"\n",
    "data = graph.run(query)"
   ]
  },
  {
   "cell_type": "code",
   "execution_count": null,
   "metadata": {},
   "outputs": [],
   "source": [
    "next(data)"
   ]
  },
  {
   "cell_type": "code",
   "execution_count": null,
   "metadata": {},
   "outputs": [],
   "source": [
    "# open neo4j dashboard\n",
    "display(Javascript('window.open(\"{url}\");'.format(url=\"http://\"+neo_server+\":7474\")))"
   ]
  },
  {
   "cell_type": "markdown",
   "metadata": {},
   "source": [
    "## createIndex"
   ]
  },
  {
   "cell_type": "code",
   "execution_count": 9,
   "metadata": {},
   "outputs": [
    {
     "name": "stdout",
     "output_type": "stream",
     "text": [
      "CPU times: user 5.28 ms, sys: 20 µs, total: 5.3 ms\n",
      "Wall time: 975 ms\n"
     ]
    },
    {
     "data": {
      "text/plain": [
       "<py2neo.database.Cursor at 0x7fb82d30fd30>"
      ]
     },
     "execution_count": 9,
     "metadata": {},
     "output_type": "execute_result"
    }
   ],
   "source": [
    "%%time\n",
    "graph.run(\"\"\"CREATE INDEX ON :Winery(name)\"\"\")\n",
    "graph.run(\"\"\"CREATE INDEX ON :Province(name)\"\"\")\n",
    "graph.run(\"\"\"CREATE INDEX ON :Country(name)\"\"\")"
   ]
  },
  {
   "cell_type": "markdown",
   "metadata": {},
   "source": [
    "## createNodes"
   ]
  },
  {
   "cell_type": "code",
   "execution_count": 10,
   "metadata": {},
   "outputs": [
    {
     "name": "stdout",
     "output_type": "stream",
     "text": [
      "CPU times: user 4.34 ms, sys: 562 µs, total: 4.9 ms\n",
      "Wall time: 13.6 s\n"
     ]
    },
    {
     "data": {
      "text/plain": [
       "<py2neo.database.Cursor at 0x7fb8681893a0>"
      ]
     },
     "execution_count": 10,
     "metadata": {},
     "output_type": "execute_result"
    }
   ],
   "source": [
    "%%time\n",
    "query = \"\"\"\n",
    "USING PERIODIC COMMIT 1000\n",
    "LOAD CSV WITH HEADERS FROM 'file:///\"\"\"+file+\"\"\"' AS line FIELDTERMINATOR ','\n",
    "MERGE (w: Winery {name: (line.winery)})\n",
    "\"\"\"\n",
    "graph.run(query)\n",
    "\n",
    "query = \"\"\"\n",
    "USING PERIODIC COMMIT 1000\n",
    "LOAD CSV WITH HEADERS FROM 'file:///\"\"\"+file+\"\"\"' AS line FIELDTERMINATOR ','\n",
    "MERGE (p: Province {name: (line.province)})\n",
    "\"\"\"\n",
    "graph.run(query)\n",
    "\n",
    "query = \"\"\"\n",
    "USING PERIODIC COMMIT 1000\n",
    "LOAD CSV WITH HEADERS FROM 'file:///\"\"\"+file+\"\"\"' AS line FIELDTERMINATOR ','\n",
    "MERGE (c: Country {name: (line.country)})\n",
    "\"\"\"\n",
    "graph.run(query)"
   ]
  },
  {
   "cell_type": "markdown",
   "metadata": {},
   "source": [
    "## createRelations"
   ]
  },
  {
   "cell_type": "code",
   "execution_count": 11,
   "metadata": {},
   "outputs": [
    {
     "name": "stdout",
     "output_type": "stream",
     "text": [
      "CPU times: user 3.15 ms, sys: 219 µs, total: 3.37 ms\n",
      "Wall time: 11.5 s\n"
     ]
    },
    {
     "data": {
      "text/plain": [
       "<py2neo.database.Cursor at 0x7fb82bbe1dc0>"
      ]
     },
     "execution_count": 11,
     "metadata": {},
     "output_type": "execute_result"
    }
   ],
   "source": [
    "%%time\n",
    "query = \"\"\"\n",
    "USING PERIODIC COMMIT 1000\n",
    "LOAD CSV WITH HEADERS FROM 'file:///\"\"\"+file+\"\"\"' AS line FIELDTERMINATOR ','\n",
    "MATCH (w: Winery {name: trim(line.winery)})\n",
    "MATCH (p: Province {name: trim(line.province)})\n",
    "MATCH (c: Country {name: trim(line.country)})\n",
    "MERGE (w)-[:FROM_PROVENCE]->(p)\n",
    "MERGE (p)-[:PROVINCE_COUNTRY]->(c)\n",
    "\"\"\"\n",
    "graph.run(query)"
   ]
  },
  {
   "cell_type": "markdown",
   "metadata": {},
   "source": [
    "```cypher\n",
    "CALL db.schema.visualization\n",
    "```\n",
    "\n",
    "![CALL db.schema.visualization](../../image/howto_graph/schema2.png)"
   ]
  },
  {
   "cell_type": "markdown",
   "metadata": {},
   "source": [
    "## Which 10 countries have the most wineries ?\n",
    "note: make sure to count only once each winery"
   ]
  },
  {
   "cell_type": "code",
   "execution_count": 12,
   "metadata": {},
   "outputs": [
    {
     "name": "stdout",
     "output_type": "stream",
     "text": [
      "CPU times: user 4.59 ms, sys: 1.06 ms, total: 5.65 ms\n",
      "Wall time: 726 ms\n"
     ]
    },
    {
     "data": {
      "text/html": [
       "<div>\n",
       "<style scoped>\n",
       "    .dataframe tbody tr th:only-of-type {\n",
       "        vertical-align: middle;\n",
       "    }\n",
       "\n",
       "    .dataframe tbody tr th {\n",
       "        vertical-align: top;\n",
       "    }\n",
       "\n",
       "    .dataframe thead th {\n",
       "        text-align: right;\n",
       "    }\n",
       "</style>\n",
       "<table border=\"1\" class=\"dataframe\">\n",
       "  <thead>\n",
       "    <tr style=\"text-align: right;\">\n",
       "      <th></th>\n",
       "      <th>Country</th>\n",
       "      <th>totalNrWineries</th>\n",
       "    </tr>\n",
       "  </thead>\n",
       "  <tbody>\n",
       "    <tr>\n",
       "      <th>0</th>\n",
       "      <td>US</td>\n",
       "      <td>5375</td>\n",
       "    </tr>\n",
       "    <tr>\n",
       "      <th>1</th>\n",
       "      <td>France</td>\n",
       "      <td>3864</td>\n",
       "    </tr>\n",
       "    <tr>\n",
       "      <th>2</th>\n",
       "      <td>Italy</td>\n",
       "      <td>2934</td>\n",
       "    </tr>\n",
       "    <tr>\n",
       "      <th>3</th>\n",
       "      <td>Spain</td>\n",
       "      <td>1435</td>\n",
       "    </tr>\n",
       "    <tr>\n",
       "      <th>4</th>\n",
       "      <td>Argentina</td>\n",
       "      <td>531</td>\n",
       "    </tr>\n",
       "    <tr>\n",
       "      <th>5</th>\n",
       "      <td>Australia</td>\n",
       "      <td>474</td>\n",
       "    </tr>\n",
       "    <tr>\n",
       "      <th>6</th>\n",
       "      <td>Portugal</td>\n",
       "      <td>430</td>\n",
       "    </tr>\n",
       "    <tr>\n",
       "      <th>7</th>\n",
       "      <td>Chile</td>\n",
       "      <td>317</td>\n",
       "    </tr>\n",
       "    <tr>\n",
       "      <th>8</th>\n",
       "      <td>New Zealand</td>\n",
       "      <td>300</td>\n",
       "    </tr>\n",
       "    <tr>\n",
       "      <th>9</th>\n",
       "      <td>South Africa</td>\n",
       "      <td>294</td>\n",
       "    </tr>\n",
       "  </tbody>\n",
       "</table>\n",
       "</div>"
      ],
      "text/plain": [
       "        Country  totalNrWineries\n",
       "0            US             5375\n",
       "1        France             3864\n",
       "2         Italy             2934\n",
       "3         Spain             1435\n",
       "4     Argentina              531\n",
       "5     Australia              474\n",
       "6      Portugal              430\n",
       "7         Chile              317\n",
       "8   New Zealand              300\n",
       "9  South Africa              294"
      ]
     },
     "execution_count": 12,
     "metadata": {},
     "output_type": "execute_result"
    }
   ],
   "source": [
    "%%time\n",
    "query = \"\"\"\n",
    "MATCH (w:Winery)-[:FROM_PROVENCE]->(p:Province)-[:PROVINCE_COUNTRY]->(c:Country)\n",
    "RETURN c.name AS Country, count(DISTINCT w) AS totalNrWineries\n",
    "ORDER BY totalNrWineries DESC LIMIT 10\n",
    "\"\"\"\n",
    "graph.run(query).to_data_frame()"
   ]
  },
  {
   "cell_type": "code",
   "execution_count": 13,
   "metadata": {},
   "outputs": [
    {
     "name": "stdout",
     "output_type": "stream",
     "text": [
      "CPU times: user 53.9 ms, sys: 0 ns, total: 53.9 ms\n",
      "Wall time: 53.1 ms\n"
     ]
    },
    {
     "data": {
      "text/html": [
       "<div>\n",
       "<style scoped>\n",
       "    .dataframe tbody tr th:only-of-type {\n",
       "        vertical-align: middle;\n",
       "    }\n",
       "\n",
       "    .dataframe tbody tr th {\n",
       "        vertical-align: top;\n",
       "    }\n",
       "\n",
       "    .dataframe thead th {\n",
       "        text-align: right;\n",
       "    }\n",
       "</style>\n",
       "<table border=\"1\" class=\"dataframe\">\n",
       "  <thead>\n",
       "    <tr style=\"text-align: right;\">\n",
       "      <th></th>\n",
       "      <th>Country</th>\n",
       "      <th>totalNrWineries</th>\n",
       "    </tr>\n",
       "  </thead>\n",
       "  <tbody>\n",
       "    <tr>\n",
       "      <th>0</th>\n",
       "      <td>US</td>\n",
       "      <td>5375</td>\n",
       "    </tr>\n",
       "    <tr>\n",
       "      <th>1</th>\n",
       "      <td>France</td>\n",
       "      <td>3864</td>\n",
       "    </tr>\n",
       "    <tr>\n",
       "      <th>2</th>\n",
       "      <td>Italy</td>\n",
       "      <td>2934</td>\n",
       "    </tr>\n",
       "    <tr>\n",
       "      <th>3</th>\n",
       "      <td>Spain</td>\n",
       "      <td>1435</td>\n",
       "    </tr>\n",
       "    <tr>\n",
       "      <th>4</th>\n",
       "      <td>Argentina</td>\n",
       "      <td>531</td>\n",
       "    </tr>\n",
       "    <tr>\n",
       "      <th>5</th>\n",
       "      <td>Australia</td>\n",
       "      <td>474</td>\n",
       "    </tr>\n",
       "    <tr>\n",
       "      <th>6</th>\n",
       "      <td>Portugal</td>\n",
       "      <td>430</td>\n",
       "    </tr>\n",
       "    <tr>\n",
       "      <th>7</th>\n",
       "      <td>Chile</td>\n",
       "      <td>317</td>\n",
       "    </tr>\n",
       "    <tr>\n",
       "      <th>8</th>\n",
       "      <td>New Zealand</td>\n",
       "      <td>300</td>\n",
       "    </tr>\n",
       "    <tr>\n",
       "      <th>9</th>\n",
       "      <td>South Africa</td>\n",
       "      <td>294</td>\n",
       "    </tr>\n",
       "  </tbody>\n",
       "</table>\n",
       "</div>"
      ],
      "text/plain": [
       "        Country  totalNrWineries\n",
       "0            US             5375\n",
       "1        France             3864\n",
       "2         Italy             2934\n",
       "3         Spain             1435\n",
       "4     Argentina              531\n",
       "5     Australia              474\n",
       "6      Portugal              430\n",
       "7         Chile              317\n",
       "8   New Zealand              300\n",
       "9  South Africa              294"
      ]
     },
     "execution_count": 13,
     "metadata": {},
     "output_type": "execute_result"
    }
   ],
   "source": [
    "%%time\n",
    "result = prep[[\"winery\",\"country\"]].groupby(['country'])['winery'].nunique()\n",
    "result = result.rename_axis(['Country']).rename('totalNrWineries').sort_values(ascending=False).reset_index()\n",
    "result.head(10)"
   ]
  },
  {
   "cell_type": "markdown",
   "metadata": {},
   "source": [
    "## Which wineries are across multiple provinces ?\n",
    "alt: Which provinces are associated to each winery ?"
   ]
  },
  {
   "cell_type": "code",
   "execution_count": 14,
   "metadata": {},
   "outputs": [
    {
     "name": "stdout",
     "output_type": "stream",
     "text": [
      "CPU times: user 3.33 ms, sys: 935 µs, total: 4.27 ms\n",
      "Wall time: 360 ms\n"
     ]
    },
    {
     "data": {
      "text/html": [
       "<div>\n",
       "<style scoped>\n",
       "    .dataframe tbody tr th:only-of-type {\n",
       "        vertical-align: middle;\n",
       "    }\n",
       "\n",
       "    .dataframe tbody tr th {\n",
       "        vertical-align: top;\n",
       "    }\n",
       "\n",
       "    .dataframe thead th {\n",
       "        text-align: right;\n",
       "    }\n",
       "</style>\n",
       "<table border=\"1\" class=\"dataframe\">\n",
       "  <thead>\n",
       "    <tr style=\"text-align: right;\">\n",
       "      <th></th>\n",
       "      <th>Winery</th>\n",
       "      <th>Provinces</th>\n",
       "      <th>Total</th>\n",
       "    </tr>\n",
       "  </thead>\n",
       "  <tbody>\n",
       "    <tr>\n",
       "      <th>0</th>\n",
       "      <td>Undurraga</td>\n",
       "      <td>[Colchagua Valley, Maule Valley, Maipo Valley,...</td>\n",
       "      <td>19</td>\n",
       "    </tr>\n",
       "    <tr>\n",
       "      <th>1</th>\n",
       "      <td>Concha y Toro</td>\n",
       "      <td>[Colchagua Valley, Maule Valley, Maipo Valley,...</td>\n",
       "      <td>16</td>\n",
       "    </tr>\n",
       "    <tr>\n",
       "      <th>2</th>\n",
       "      <td>Santa Carolina</td>\n",
       "      <td>[Colchagua Valley, Maule Valley, Maipo Valley,...</td>\n",
       "      <td>14</td>\n",
       "    </tr>\n",
       "    <tr>\n",
       "      <th>3</th>\n",
       "      <td>San Pedro</td>\n",
       "      <td>[Northern Spain, Mendoza Province, Maule Valle...</td>\n",
       "      <td>12</td>\n",
       "    </tr>\n",
       "    <tr>\n",
       "      <th>4</th>\n",
       "      <td>Kirkland Signature</td>\n",
       "      <td>[Northern Spain, California, Mendoza Province,...</td>\n",
       "      <td>12</td>\n",
       "    </tr>\n",
       "    <tr>\n",
       "      <th>5</th>\n",
       "      <td>Santa Rita</td>\n",
       "      <td>[Colchagua Valley, Maipo Valley, Rapel Valley,...</td>\n",
       "      <td>11</td>\n",
       "    </tr>\n",
       "    <tr>\n",
       "      <th>6</th>\n",
       "      <td>Bacalhôa Wines of Portugal</td>\n",
       "      <td>[Douro, Alentejano, Lisboa, Península de Setúb...</td>\n",
       "      <td>11</td>\n",
       "    </tr>\n",
       "    <tr>\n",
       "      <th>7</th>\n",
       "      <td>Wines &amp; Winemakers</td>\n",
       "      <td>[Douro, Tejo, Alentejano, Vinho Verde, Penínsu...</td>\n",
       "      <td>10</td>\n",
       "    </tr>\n",
       "    <tr>\n",
       "      <th>8</th>\n",
       "      <td>Tussock Jumper</td>\n",
       "      <td>[Rheinhessen, California, Other, Colchagua Val...</td>\n",
       "      <td>10</td>\n",
       "    </tr>\n",
       "    <tr>\n",
       "      <th>9</th>\n",
       "      <td>Casca Wines</td>\n",
       "      <td>[Douro, Tejo, Alentejano, Vinho Verde, Lisboa,...</td>\n",
       "      <td>10</td>\n",
       "    </tr>\n",
       "  </tbody>\n",
       "</table>\n",
       "</div>"
      ],
      "text/plain": [
       "                       Winery  \\\n",
       "0                   Undurraga   \n",
       "1               Concha y Toro   \n",
       "2              Santa Carolina   \n",
       "3                   San Pedro   \n",
       "4          Kirkland Signature   \n",
       "5                  Santa Rita   \n",
       "6  Bacalhôa Wines of Portugal   \n",
       "7          Wines & Winemakers   \n",
       "8              Tussock Jumper   \n",
       "9                 Casca Wines   \n",
       "\n",
       "                                           Provinces  Total  \n",
       "0  [Colchagua Valley, Maule Valley, Maipo Valley,...     19  \n",
       "1  [Colchagua Valley, Maule Valley, Maipo Valley,...     16  \n",
       "2  [Colchagua Valley, Maule Valley, Maipo Valley,...     14  \n",
       "3  [Northern Spain, Mendoza Province, Maule Valle...     12  \n",
       "4  [Northern Spain, California, Mendoza Province,...     12  \n",
       "5  [Colchagua Valley, Maipo Valley, Rapel Valley,...     11  \n",
       "6  [Douro, Alentejano, Lisboa, Península de Setúb...     11  \n",
       "7  [Douro, Tejo, Alentejano, Vinho Verde, Penínsu...     10  \n",
       "8  [Rheinhessen, California, Other, Colchagua Val...     10  \n",
       "9  [Douro, Tejo, Alentejano, Vinho Verde, Lisboa,...     10  "
      ]
     },
     "execution_count": 14,
     "metadata": {},
     "output_type": "execute_result"
    }
   ],
   "source": [
    "%%time\n",
    "query = \"\"\"\n",
    "MATCH (w:Winery)-[:FROM_PROVENCE]->(p:Province)\n",
    "WITH w, COLLECT(p.name) AS Provinces, count(p) AS Total\n",
    "RETURN w.name AS Winery, Provinces, Total\n",
    "ORDER BY Total DESC LIMIT 10\n",
    "\"\"\"\n",
    "graph.run(query).to_data_frame()"
   ]
  },
  {
   "cell_type": "code",
   "execution_count": 15,
   "metadata": {},
   "outputs": [
    {
     "name": "stdout",
     "output_type": "stream",
     "text": [
      "CPU times: user 2.5 s, sys: 1.09 ms, total: 2.5 s\n",
      "Wall time: 2.5 s\n"
     ]
    },
    {
     "data": {
      "text/html": [
       "<div>\n",
       "<style scoped>\n",
       "    .dataframe tbody tr th:only-of-type {\n",
       "        vertical-align: middle;\n",
       "    }\n",
       "\n",
       "    .dataframe tbody tr th {\n",
       "        vertical-align: top;\n",
       "    }\n",
       "\n",
       "    .dataframe thead th {\n",
       "        text-align: right;\n",
       "    }\n",
       "</style>\n",
       "<table border=\"1\" class=\"dataframe\">\n",
       "  <thead>\n",
       "    <tr style=\"text-align: right;\">\n",
       "      <th></th>\n",
       "      <th>Winery</th>\n",
       "      <th>Provinces</th>\n",
       "      <th>Total</th>\n",
       "    </tr>\n",
       "  </thead>\n",
       "  <tbody>\n",
       "    <tr>\n",
       "      <th>0</th>\n",
       "      <td>Undurraga</td>\n",
       "      <td>[Maipo Valley, Leyda Valley, Chile, Cauquenes ...</td>\n",
       "      <td>19</td>\n",
       "    </tr>\n",
       "    <tr>\n",
       "      <th>1</th>\n",
       "      <td>Concha y Toro</td>\n",
       "      <td>[Chile, Central Valley, Maipo Valley, Casablan...</td>\n",
       "      <td>16</td>\n",
       "    </tr>\n",
       "    <tr>\n",
       "      <th>2</th>\n",
       "      <td>Santa Carolina</td>\n",
       "      <td>[Cachapoal Valley, Colchagua Valley, Casablanc...</td>\n",
       "      <td>14</td>\n",
       "    </tr>\n",
       "    <tr>\n",
       "      <th>3</th>\n",
       "      <td>San Pedro</td>\n",
       "      <td>[Lontué Valley, Cachapoal Valley, Maipo Valley...</td>\n",
       "      <td>12</td>\n",
       "    </tr>\n",
       "    <tr>\n",
       "      <th>4</th>\n",
       "      <td>Kirkland Signature</td>\n",
       "      <td>[California, Washington, Bordeaux, Rhône Valle...</td>\n",
       "      <td>12</td>\n",
       "    </tr>\n",
       "    <tr>\n",
       "      <th>5</th>\n",
       "      <td>Santa Rita</td>\n",
       "      <td>[Leyda Valley, Central Valley, Maipo Valley, A...</td>\n",
       "      <td>11</td>\n",
       "    </tr>\n",
       "    <tr>\n",
       "      <th>6</th>\n",
       "      <td>Bacalhôa Wines of Portugal</td>\n",
       "      <td>[Douro, Setubal, Península de Setúbal, Lisboa,...</td>\n",
       "      <td>11</td>\n",
       "    </tr>\n",
       "    <tr>\n",
       "      <th>7</th>\n",
       "      <td>Xavier Flouret</td>\n",
       "      <td>[Central Valley, Bordeaux, Provence, Burgundy,...</td>\n",
       "      <td>10</td>\n",
       "    </tr>\n",
       "    <tr>\n",
       "      <th>8</th>\n",
       "      <td>Barton &amp; Guestier</td>\n",
       "      <td>[France Other, No Province, Bordeaux, Burgundy...</td>\n",
       "      <td>10</td>\n",
       "    </tr>\n",
       "    <tr>\n",
       "      <th>9</th>\n",
       "      <td>Echeverria</td>\n",
       "      <td>[Central Valley, Maipo Valley, Curicó Valley, ...</td>\n",
       "      <td>10</td>\n",
       "    </tr>\n",
       "  </tbody>\n",
       "</table>\n",
       "</div>"
      ],
      "text/plain": [
       "                       Winery  \\\n",
       "0                   Undurraga   \n",
       "1               Concha y Toro   \n",
       "2              Santa Carolina   \n",
       "3                   San Pedro   \n",
       "4          Kirkland Signature   \n",
       "5                  Santa Rita   \n",
       "6  Bacalhôa Wines of Portugal   \n",
       "7              Xavier Flouret   \n",
       "8           Barton & Guestier   \n",
       "9                  Echeverria   \n",
       "\n",
       "                                           Provinces  Total  \n",
       "0  [Maipo Valley, Leyda Valley, Chile, Cauquenes ...     19  \n",
       "1  [Chile, Central Valley, Maipo Valley, Casablan...     16  \n",
       "2  [Cachapoal Valley, Colchagua Valley, Casablanc...     14  \n",
       "3  [Lontué Valley, Cachapoal Valley, Maipo Valley...     12  \n",
       "4  [California, Washington, Bordeaux, Rhône Valle...     12  \n",
       "5  [Leyda Valley, Central Valley, Maipo Valley, A...     11  \n",
       "6  [Douro, Setubal, Península de Setúbal, Lisboa,...     11  \n",
       "7  [Central Valley, Bordeaux, Provence, Burgundy,...     10  \n",
       "8  [France Other, No Province, Bordeaux, Burgundy...     10  \n",
       "9  [Central Valley, Maipo Valley, Curicó Valley, ...     10  "
      ]
     },
     "execution_count": 15,
     "metadata": {},
     "output_type": "execute_result"
    }
   ],
   "source": [
    "%%time\n",
    "result = prep.groupby('winery').agg({'province':[lambda x: x.unique(), lambda x: x.nunique()]}).reset_index()\n",
    "result.columns = ['Winery', 'Provinces', 'Total']\n",
    "result = result.sort_values(by='Total',ascending=False).reset_index(drop=True)\n",
    "result.head(10)"
   ]
  },
  {
   "cell_type": "markdown",
   "metadata": {},
   "source": [
    "# dataModel (expansion 1)\n",
    "[link to Arrows for data modelling](http://www.apcjones.com/arrows/#)\n",
    "\n",
    "![model3](../../image/howto_graph/model3.jpg)"
   ]
  },
  {
   "cell_type": "markdown",
   "metadata": {},
   "source": [
    "# dataPrep (expanded 1)\n",
    "clean data prior to a load"
   ]
  },
  {
   "cell_type": "code",
   "execution_count": 16,
   "metadata": {},
   "outputs": [],
   "source": [
    "prep = df.copy()"
   ]
  },
  {
   "cell_type": "code",
   "execution_count": 17,
   "metadata": {},
   "outputs": [],
   "source": [
    "prep['winery'] = prep['winery'].fillna('No Winery')\n",
    "prep['province'] = prep['province'].fillna('No Province')\n",
    "prep['country'] = prep['country'].fillna('No Country')"
   ]
  },
  {
   "cell_type": "code",
   "execution_count": 18,
   "metadata": {},
   "outputs": [],
   "source": [
    "prep['designation'] = prep['designation'].fillna('No Designation')\n",
    "prep['taster_name'] = prep['taster_name'].fillna('No Taster')\n",
    "prep['variety'] = prep['variety'].fillna('No Variety')\n",
    "prep['title'] = prep['title'].fillna('No Title')"
   ]
  },
  {
   "cell_type": "code",
   "execution_count": 19,
   "metadata": {},
   "outputs": [],
   "source": [
    "# save file\n",
    "prep.to_csv(\"../../neo4j/import/\"+file, sep=',', index=False)"
   ]
  },
  {
   "cell_type": "markdown",
   "metadata": {},
   "source": [
    "# dataLoading (expansion 1)\n",
    "Multistatement queries is only supported on neo4j browser or cypher shell.  \n",
    "With py2neo you must run each statement sequentially. \n",
    "  \n",
    "`MERGE` will take care of any duplicate values  \n",
    "`p` temporary variable name  \n",
    "`Province` entity name defined in data model  \n",
    "`name` property name of entity  \n",
    "`line.province` line is 1 record from dataset then select column province  \n",
    "  \n",
    "```cypher\n",
    "MERGE (p: Province {name: (line.province)})\n",
    "```"
   ]
  },
  {
   "cell_type": "code",
   "execution_count": 20,
   "metadata": {},
   "outputs": [
    {
     "name": "stdout",
     "output_type": "stream",
     "text": [
      "CPU times: user 5.54 ms, sys: 309 µs, total: 5.85 ms\n",
      "Wall time: 389 ms\n"
     ]
    },
    {
     "data": {
      "text/plain": [
       "<py2neo.database.Cursor at 0x7fb82bbe1fa0>"
      ]
     },
     "execution_count": 20,
     "metadata": {},
     "output_type": "execute_result"
    }
   ],
   "source": [
    "%%time\n",
    "# indexes for additional data\n",
    "graph.run(\"\"\"CREATE INDEX ON :Wine(title)\"\"\")\n",
    "graph.run(\"\"\"CREATE INDEX ON :Taster(name)\"\"\")\n",
    "graph.run(\"\"\"CREATE INDEX ON :Variety(name)\"\"\")\n",
    "graph.run(\"\"\"CREATE INDEX ON :Designation(name)\"\"\")"
   ]
  },
  {
   "cell_type": "code",
   "execution_count": 21,
   "metadata": {},
   "outputs": [
    {
     "name": "stdout",
     "output_type": "stream",
     "text": [
      "CPU times: user 4.76 ms, sys: 61 µs, total: 4.82 ms\n",
      "Wall time: 16.7 s\n"
     ]
    },
    {
     "data": {
      "text/plain": [
       "<py2neo.database.Cursor at 0x7fb82aaacee0>"
      ]
     },
     "execution_count": 21,
     "metadata": {},
     "output_type": "execute_result"
    }
   ],
   "source": [
    "%%time\n",
    "query = \"\"\"\n",
    "USING PERIODIC COMMIT 1000\n",
    "LOAD CSV WITH HEADERS FROM 'file:///\"\"\"+file+\"\"\"' AS line FIELDTERMINATOR ','\n",
    "MERGE (d: Designation {name: (line.designation)})\n",
    "\"\"\"\n",
    "graph.run(query)\n",
    "\n",
    "query = \"\"\"\n",
    "USING PERIODIC COMMIT 1000\n",
    "LOAD CSV WITH HEADERS FROM 'file:///\"\"\"+file+\"\"\"' AS line FIELDTERMINATOR ','\n",
    "MERGE (t: Taster {name: (line.taster_name)})\n",
    "\"\"\"\n",
    "graph.run(query)\n",
    "\n",
    "query = \"\"\"\n",
    "USING PERIODIC COMMIT 1000\n",
    "LOAD CSV WITH HEADERS FROM 'file:///\"\"\"+file+\"\"\"' AS line FIELDTERMINATOR ','\n",
    "MERGE (v: Variety {name: (line.variety)})\n",
    "\"\"\"\n",
    "graph.run(query)\n",
    "\n",
    "query = \"\"\"\n",
    "USING PERIODIC COMMIT 1000\n",
    "LOAD CSV WITH HEADERS FROM 'file:///\"\"\"+file+\"\"\"' AS line FIELDTERMINATOR ','\n",
    "MERGE (c: Country {name: (line.country)})\n",
    "MERGE (w: Wine {title: line.title})\n",
    "\"\"\"\n",
    "graph.run(query)"
   ]
  },
  {
   "cell_type": "code",
   "execution_count": 22,
   "metadata": {},
   "outputs": [
    {
     "name": "stdout",
     "output_type": "stream",
     "text": [
      "CPU times: user 80 µs, sys: 3.97 ms, total: 4.05 ms\n",
      "Wall time: 29.1 s\n"
     ]
    },
    {
     "data": {
      "text/plain": [
       "<py2neo.database.Cursor at 0x7fb86817d3a0>"
      ]
     },
     "execution_count": 22,
     "metadata": {},
     "output_type": "execute_result"
    }
   ],
   "source": [
    "%%time\n",
    "query = \"\"\"\n",
    "USING PERIODIC COMMIT 1000\n",
    "LOAD CSV WITH HEADERS FROM 'file:///\"\"\"+file+\"\"\"' AS line FIELDTERMINATOR ','\n",
    "MATCH (d: Designation {name: (line.designation)})\n",
    "MATCH (t: Taster {name: (line.taster_name)})\n",
    "MATCH (v: Variety {name: (line.variety)})\n",
    "MATCH (w: Wine {title: (line.title)})\n",
    "MATCH (win: Winery {name: (line.winery)})\n",
    "MERGE (w)-[:FROM_WINERY]->(win)\n",
    "MERGE (w)-[:HAS_VARIETY]->(v)\n",
    "MERGE (t)-[:RATES_WINE]->(w)\n",
    "MERGE (w)-[:HAS_DESIGNATION]->(d)\n",
    "\"\"\"\n",
    "graph.run(query)"
   ]
  },
  {
   "cell_type": "markdown",
   "metadata": {},
   "source": [
    "```cypher\n",
    "CALL db.schema.visualization\n",
    "```\n",
    "\n",
    "![CALL db.schema.visualization](../../image/howto_graph/schema3.png)"
   ]
  },
  {
   "cell_type": "markdown",
   "metadata": {},
   "source": [
    "# The top 10 most prolific wine tasters ?\n",
    "note: count the unique amount instead of the total amount tasted"
   ]
  },
  {
   "cell_type": "code",
   "execution_count": 27,
   "metadata": {},
   "outputs": [
    {
     "name": "stdout",
     "output_type": "stream",
     "text": [
      "CPU times: user 5.2 ms, sys: 3.71 ms, total: 8.91 ms\n",
      "Wall time: 729 ms\n"
     ]
    },
    {
     "data": {
      "text/html": [
       "<div>\n",
       "<style scoped>\n",
       "    .dataframe tbody tr th:only-of-type {\n",
       "        vertical-align: middle;\n",
       "    }\n",
       "\n",
       "    .dataframe tbody tr th {\n",
       "        vertical-align: top;\n",
       "    }\n",
       "\n",
       "    .dataframe thead th {\n",
       "        text-align: right;\n",
       "    }\n",
       "</style>\n",
       "<table border=\"1\" class=\"dataframe\">\n",
       "  <thead>\n",
       "    <tr style=\"text-align: right;\">\n",
       "      <th></th>\n",
       "      <th>Taster</th>\n",
       "      <th>Varieties</th>\n",
       "      <th>Total</th>\n",
       "    </tr>\n",
       "  </thead>\n",
       "  <tbody>\n",
       "    <tr>\n",
       "      <th>0</th>\n",
       "      <td>Roger Voss</td>\n",
       "      <td>[Bordeaux-style Red Blend, Portuguese Red, Sau...</td>\n",
       "      <td>22973</td>\n",
       "    </tr>\n",
       "    <tr>\n",
       "      <th>1</th>\n",
       "      <td>Michael Schachner</td>\n",
       "      <td>[Cabernet Sauvignon, Pinot Noir, Malbec, Red B...</td>\n",
       "      <td>13944</td>\n",
       "    </tr>\n",
       "    <tr>\n",
       "      <th>2</th>\n",
       "      <td>Kerin O’Keefe</td>\n",
       "      <td>[Nero d'Avola, Sagrantino, Red Blend, Garganeg...</td>\n",
       "      <td>9662</td>\n",
       "    </tr>\n",
       "    <tr>\n",
       "      <th>3</th>\n",
       "      <td>Paul Gregutt</td>\n",
       "      <td>[Merlot, Red Blend, Pinot Noir, Pinot Gris, Ch...</td>\n",
       "      <td>8856</td>\n",
       "    </tr>\n",
       "    <tr>\n",
       "      <th>4</th>\n",
       "      <td>Virginie Boone</td>\n",
       "      <td>[Pinot Noir, Cabernet Sauvignon, Chardonnay, Z...</td>\n",
       "      <td>8689</td>\n",
       "    </tr>\n",
       "    <tr>\n",
       "      <th>5</th>\n",
       "      <td>Matt Kettmann</td>\n",
       "      <td>[Chardonnay, Rhône-style Red Blend, Cabernet S...</td>\n",
       "      <td>5698</td>\n",
       "    </tr>\n",
       "    <tr>\n",
       "      <th>6</th>\n",
       "      <td>Joe Czerwinski</td>\n",
       "      <td>[Chardonnay, Rhône-style Red Blend, Rhône-styl...</td>\n",
       "      <td>4753</td>\n",
       "    </tr>\n",
       "    <tr>\n",
       "      <th>7</th>\n",
       "      <td>Sean P. Sullivan</td>\n",
       "      <td>[Merlot, Bordeaux-style Red Blend, Syrah, Red ...</td>\n",
       "      <td>4448</td>\n",
       "    </tr>\n",
       "    <tr>\n",
       "      <th>8</th>\n",
       "      <td>Anna Lee C. Iijima</td>\n",
       "      <td>[White Blend, Riesling, Pinot Noir, Gewürztram...</td>\n",
       "      <td>4012</td>\n",
       "    </tr>\n",
       "    <tr>\n",
       "      <th>9</th>\n",
       "      <td>Jim Gordon</td>\n",
       "      <td>[Pinot Noir, Chardonnay, Muscat Canelli, Merlo...</td>\n",
       "      <td>3750</td>\n",
       "    </tr>\n",
       "  </tbody>\n",
       "</table>\n",
       "</div>"
      ],
      "text/plain": [
       "               Taster                                          Varieties  \\\n",
       "0          Roger Voss  [Bordeaux-style Red Blend, Portuguese Red, Sau...   \n",
       "1   Michael Schachner  [Cabernet Sauvignon, Pinot Noir, Malbec, Red B...   \n",
       "2       Kerin O’Keefe  [Nero d'Avola, Sagrantino, Red Blend, Garganeg...   \n",
       "3        Paul Gregutt  [Merlot, Red Blend, Pinot Noir, Pinot Gris, Ch...   \n",
       "4      Virginie Boone  [Pinot Noir, Cabernet Sauvignon, Chardonnay, Z...   \n",
       "5       Matt Kettmann  [Chardonnay, Rhône-style Red Blend, Cabernet S...   \n",
       "6      Joe Czerwinski  [Chardonnay, Rhône-style Red Blend, Rhône-styl...   \n",
       "7    Sean P. Sullivan  [Merlot, Bordeaux-style Red Blend, Syrah, Red ...   \n",
       "8  Anna Lee C. Iijima  [White Blend, Riesling, Pinot Noir, Gewürztram...   \n",
       "9          Jim Gordon  [Pinot Noir, Chardonnay, Muscat Canelli, Merlo...   \n",
       "\n",
       "   Total  \n",
       "0  22973  \n",
       "1  13944  \n",
       "2   9662  \n",
       "3   8856  \n",
       "4   8689  \n",
       "5   5698  \n",
       "6   4753  \n",
       "7   4448  \n",
       "8   4012  \n",
       "9   3750  "
      ]
     },
     "execution_count": 27,
     "metadata": {},
     "output_type": "execute_result"
    }
   ],
   "source": [
    "%%time\n",
    "query = \"\"\"\n",
    "MATCH (t:Taster)\n",
    "WHERE t.name <> \"No Taster\"\n",
    "MATCH (t)-[:RATES_WINE]->(w:Wine)-[:HAS_VARIETY]->(v:Variety)\n",
    "WITH t, count(DISTINCT w) AS Total, COLLECT(DISTINCT v.name) AS Varieties\n",
    "RETURN t.name AS Taster, Varieties, Total\n",
    "ORDER BY Total DESC LIMIT 10\n",
    "\"\"\"\n",
    "graph.run(query).to_data_frame()"
   ]
  },
  {
   "cell_type": "code",
   "execution_count": 28,
   "metadata": {},
   "outputs": [
    {
     "name": "stdout",
     "output_type": "stream",
     "text": [
      "CPU times: user 109 ms, sys: 3.94 ms, total: 113 ms\n",
      "Wall time: 112 ms\n"
     ]
    },
    {
     "data": {
      "text/html": [
       "<div>\n",
       "<style scoped>\n",
       "    .dataframe tbody tr th:only-of-type {\n",
       "        vertical-align: middle;\n",
       "    }\n",
       "\n",
       "    .dataframe tbody tr th {\n",
       "        vertical-align: top;\n",
       "    }\n",
       "\n",
       "    .dataframe thead th {\n",
       "        text-align: right;\n",
       "    }\n",
       "</style>\n",
       "<table border=\"1\" class=\"dataframe\">\n",
       "  <thead>\n",
       "    <tr style=\"text-align: right;\">\n",
       "      <th></th>\n",
       "      <th>Taster</th>\n",
       "      <th>Varieties</th>\n",
       "      <th>Total</th>\n",
       "    </tr>\n",
       "  </thead>\n",
       "  <tbody>\n",
       "    <tr>\n",
       "      <th>0</th>\n",
       "      <td>Roger Voss</td>\n",
       "      <td>[Portuguese Red, Gewürztraminer, Pinot Gris, G...</td>\n",
       "      <td>22973</td>\n",
       "    </tr>\n",
       "    <tr>\n",
       "      <th>1</th>\n",
       "      <td>Michael Schachner</td>\n",
       "      <td>[Tempranillo-Merlot, Malbec, Malbec, Tempranil...</td>\n",
       "      <td>13944</td>\n",
       "    </tr>\n",
       "    <tr>\n",
       "      <th>2</th>\n",
       "      <td>Kerin O’Keefe</td>\n",
       "      <td>[White Blend, Frappato, Nerello Mascalese, Whi...</td>\n",
       "      <td>9662</td>\n",
       "    </tr>\n",
       "    <tr>\n",
       "      <th>3</th>\n",
       "      <td>Paul Gregutt</td>\n",
       "      <td>[Pinot Gris, Pinot Noir, Pinot Noir, Pinot Noi...</td>\n",
       "      <td>8856</td>\n",
       "    </tr>\n",
       "    <tr>\n",
       "      <th>4</th>\n",
       "      <td>Virginie Boone</td>\n",
       "      <td>[Cabernet Sauvignon, Cabernet Sauvignon, Pinot...</td>\n",
       "      <td>8689</td>\n",
       "    </tr>\n",
       "    <tr>\n",
       "      <th>5</th>\n",
       "      <td>Matt Kettmann</td>\n",
       "      <td>[Chardonnay, Merlot, Sauvignon Blanc, Zinfande...</td>\n",
       "      <td>5698</td>\n",
       "    </tr>\n",
       "    <tr>\n",
       "      <th>6</th>\n",
       "      <td>Joe Czerwinski</td>\n",
       "      <td>[Chardonnay, Rosé, Shiraz-Cabernet Sauvignon, ...</td>\n",
       "      <td>4753</td>\n",
       "    </tr>\n",
       "    <tr>\n",
       "      <th>7</th>\n",
       "      <td>Sean P. Sullivan</td>\n",
       "      <td>[Malbec, Cabernet Franc, Bordeaux-style Red Bl...</td>\n",
       "      <td>4448</td>\n",
       "    </tr>\n",
       "    <tr>\n",
       "      <th>8</th>\n",
       "      <td>Anna Lee C. Iijima</td>\n",
       "      <td>[Gewürztraminer, Riesling, Riesling, Riesling,...</td>\n",
       "      <td>4012</td>\n",
       "    </tr>\n",
       "    <tr>\n",
       "      <th>9</th>\n",
       "      <td>Jim Gordon</td>\n",
       "      <td>[Red Blend, Cabernet Franc, White Blend, Grena...</td>\n",
       "      <td>3750</td>\n",
       "    </tr>\n",
       "  </tbody>\n",
       "</table>\n",
       "</div>"
      ],
      "text/plain": [
       "               Taster                                          Varieties  \\\n",
       "0          Roger Voss  [Portuguese Red, Gewürztraminer, Pinot Gris, G...   \n",
       "1   Michael Schachner  [Tempranillo-Merlot, Malbec, Malbec, Tempranil...   \n",
       "2       Kerin O’Keefe  [White Blend, Frappato, Nerello Mascalese, Whi...   \n",
       "3        Paul Gregutt  [Pinot Gris, Pinot Noir, Pinot Noir, Pinot Noi...   \n",
       "4      Virginie Boone  [Cabernet Sauvignon, Cabernet Sauvignon, Pinot...   \n",
       "5       Matt Kettmann  [Chardonnay, Merlot, Sauvignon Blanc, Zinfande...   \n",
       "6      Joe Czerwinski  [Chardonnay, Rosé, Shiraz-Cabernet Sauvignon, ...   \n",
       "7    Sean P. Sullivan  [Malbec, Cabernet Franc, Bordeaux-style Red Bl...   \n",
       "8  Anna Lee C. Iijima  [Gewürztraminer, Riesling, Riesling, Riesling,...   \n",
       "9          Jim Gordon  [Red Blend, Cabernet Franc, White Blend, Grena...   \n",
       "\n",
       "   Total  \n",
       "0  22973  \n",
       "1  13944  \n",
       "2   9662  \n",
       "3   8856  \n",
       "4   8689  \n",
       "5   5698  \n",
       "6   4753  \n",
       "7   4448  \n",
       "8   4012  \n",
       "9   3750  "
      ]
     },
     "execution_count": 28,
     "metadata": {},
     "output_type": "execute_result"
    }
   ],
   "source": [
    "%%time\n",
    "result = prep[prep.taster_name != \"No Taster\"]\n",
    "result = result.groupby(['taster_name']).agg({'variety':[lambda x: list(x)], 'title':[lambda x: x.nunique()]}).reset_index()\n",
    "result.columns = ['Taster', 'Varieties', 'Total']\n",
    "result = result.sort_values(by='Total',ascending=False).reset_index(drop=True)\n",
    "result.head(10)"
   ]
  },
  {
   "cell_type": "markdown",
   "metadata": {},
   "source": [
    "# How many wine varieties contain the word 'red' ?"
   ]
  },
  {
   "cell_type": "code",
   "execution_count": 29,
   "metadata": {},
   "outputs": [
    {
     "name": "stdout",
     "output_type": "stream",
     "text": [
      "CPU times: user 4.58 ms, sys: 1.11 ms, total: 5.69 ms\n",
      "Wall time: 50.8 ms\n"
     ]
    },
    {
     "data": {
      "text/html": [
       "<div>\n",
       "<style scoped>\n",
       "    .dataframe tbody tr th:only-of-type {\n",
       "        vertical-align: middle;\n",
       "    }\n",
       "\n",
       "    .dataframe tbody tr th {\n",
       "        vertical-align: top;\n",
       "    }\n",
       "\n",
       "    .dataframe thead th {\n",
       "        text-align: right;\n",
       "    }\n",
       "</style>\n",
       "<table border=\"1\" class=\"dataframe\">\n",
       "  <thead>\n",
       "    <tr style=\"text-align: right;\">\n",
       "      <th></th>\n",
       "      <th>redVariety</th>\n",
       "    </tr>\n",
       "  </thead>\n",
       "  <tbody>\n",
       "    <tr>\n",
       "      <th>0</th>\n",
       "      <td>Austrian Red Blend</td>\n",
       "    </tr>\n",
       "    <tr>\n",
       "      <th>1</th>\n",
       "      <td>Bordeaux-style Red Blend</td>\n",
       "    </tr>\n",
       "    <tr>\n",
       "      <th>2</th>\n",
       "      <td>Portuguese Red</td>\n",
       "    </tr>\n",
       "    <tr>\n",
       "      <th>3</th>\n",
       "      <td>Provence red blend</td>\n",
       "    </tr>\n",
       "    <tr>\n",
       "      <th>4</th>\n",
       "      <td>Red Blend</td>\n",
       "    </tr>\n",
       "    <tr>\n",
       "      <th>5</th>\n",
       "      <td>Rhône-style Red Blend</td>\n",
       "    </tr>\n",
       "  </tbody>\n",
       "</table>\n",
       "</div>"
      ],
      "text/plain": [
       "                 redVariety\n",
       "0        Austrian Red Blend\n",
       "1  Bordeaux-style Red Blend\n",
       "2            Portuguese Red\n",
       "3        Provence red blend\n",
       "4                 Red Blend\n",
       "5     Rhône-style Red Blend"
      ]
     },
     "execution_count": 29,
     "metadata": {},
     "output_type": "execute_result"
    }
   ],
   "source": [
    "%%time\n",
    "query = \"\"\"\n",
    "MATCH (v:Variety)\n",
    "WHERE tolower(v.name) CONTAINS 'red'\n",
    "RETURN v.name AS redVariety\n",
    "ORDER BY redVariety\n",
    "\"\"\"\n",
    "graph.run(query).to_data_frame()"
   ]
  },
  {
   "cell_type": "code",
   "execution_count": 30,
   "metadata": {},
   "outputs": [
    {
     "name": "stdout",
     "output_type": "stream",
     "text": [
      "CPU times: user 64.7 ms, sys: 0 ns, total: 64.7 ms\n",
      "Wall time: 63.8 ms\n"
     ]
    },
    {
     "data": {
      "text/html": [
       "<div>\n",
       "<style scoped>\n",
       "    .dataframe tbody tr th:only-of-type {\n",
       "        vertical-align: middle;\n",
       "    }\n",
       "\n",
       "    .dataframe tbody tr th {\n",
       "        vertical-align: top;\n",
       "    }\n",
       "\n",
       "    .dataframe thead th {\n",
       "        text-align: right;\n",
       "    }\n",
       "</style>\n",
       "<table border=\"1\" class=\"dataframe\">\n",
       "  <thead>\n",
       "    <tr style=\"text-align: right;\">\n",
       "      <th></th>\n",
       "      <th>redVariety</th>\n",
       "    </tr>\n",
       "  </thead>\n",
       "  <tbody>\n",
       "    <tr>\n",
       "      <th>0</th>\n",
       "      <td>Austrian Red Blend</td>\n",
       "    </tr>\n",
       "    <tr>\n",
       "      <th>1</th>\n",
       "      <td>Bordeaux-style Red Blend</td>\n",
       "    </tr>\n",
       "    <tr>\n",
       "      <th>2</th>\n",
       "      <td>Portuguese Red</td>\n",
       "    </tr>\n",
       "    <tr>\n",
       "      <th>3</th>\n",
       "      <td>Provence red blend</td>\n",
       "    </tr>\n",
       "    <tr>\n",
       "      <th>4</th>\n",
       "      <td>Red Blend</td>\n",
       "    </tr>\n",
       "    <tr>\n",
       "      <th>5</th>\n",
       "      <td>Rhône-style Red Blend</td>\n",
       "    </tr>\n",
       "  </tbody>\n",
       "</table>\n",
       "</div>"
      ],
      "text/plain": [
       "                 redVariety\n",
       "0        Austrian Red Blend\n",
       "1  Bordeaux-style Red Blend\n",
       "2            Portuguese Red\n",
       "3        Provence red blend\n",
       "4                 Red Blend\n",
       "5     Rhône-style Red Blend"
      ]
     },
     "execution_count": 30,
     "metadata": {},
     "output_type": "execute_result"
    }
   ],
   "source": [
    "%%time\n",
    "pd.DataFrame(sorted(prep[\"variety\"][prep[\"variety\"].str.contains('red', case=False)].unique()), columns=[\"redVariety\"])"
   ]
  },
  {
   "cell_type": "markdown",
   "metadata": {},
   "source": [
    "# dataModel (expansion 2)\n",
    "[link to Arrows for data modelling](http://www.apcjones.com/arrows/#)\n",
    "\n",
    "![model4](../../image/howto_graph/model4.jpg)"
   ]
  },
  {
   "cell_type": "markdown",
   "metadata": {},
   "source": [
    "# dataPrep (expansion 2)\n",
    "clean data prior to a load"
   ]
  },
  {
   "cell_type": "code",
   "execution_count": 31,
   "metadata": {},
   "outputs": [],
   "source": [
    "prep = df.copy()"
   ]
  },
  {
   "cell_type": "code",
   "execution_count": 32,
   "metadata": {},
   "outputs": [],
   "source": [
    "prep['winery'] = prep['winery'].fillna('No Winery')\n",
    "prep['province'] = prep['province'].fillna('No Province')\n",
    "prep['country'] = prep['country'].fillna('No Country')"
   ]
  },
  {
   "cell_type": "code",
   "execution_count": 33,
   "metadata": {},
   "outputs": [],
   "source": [
    "prep['designation'] = prep['designation'].fillna('No Designation')\n",
    "prep['taster_name'] = prep['taster_name'].fillna('No Taster')\n",
    "prep['variety'] = prep['variety'].fillna('No Variety')\n",
    "prep['title'] = prep['title'].fillna('No Title')"
   ]
  },
  {
   "cell_type": "markdown",
   "metadata": {},
   "source": [
    "regex generator : http://regex.inginf.units.it/  \n",
    "regex checker : https://regex101.com/  \n",
    "neo4j apoc text replace : https://neo4j.com/labs/apoc/4.1/misc/text-functions/#text-functions-regex  \n",
    "pandas series replace : https://pandas.pydata.org/pandas-docs/stable/reference/api/pandas.Series.str.replace.html  \n",
    "pandas series extract : https://pandas.pydata.org/pandas-docs/stable/reference/api/pandas.Series.str.extract.html  "
   ]
  },
  {
   "cell_type": "code",
   "execution_count": 34,
   "metadata": {},
   "outputs": [],
   "source": [
    "# extract years 1970-2119\n",
    "prep['year'] = prep['title'].str.extract(\"(([2][0-1][0-1][0-9])|([1][9][7-9][0-9]))\")[0]\n",
    "prep['year'] = prep['year'].fillna('No Year')"
   ]
  },
  {
   "cell_type": "code",
   "execution_count": 35,
   "metadata": {},
   "outputs": [],
   "source": [
    "prep['wine_group'] = prep['title'].str.replace(\"(\\d{4})\", '') # remove 4-digit and 1-space\n",
    "prep['wine_group'] = prep['wine_group'].str.replace(\"([ ]{2,})\", ' ') # replace 2 or more spaces into 1-space"
   ]
  },
  {
   "cell_type": "code",
   "execution_count": 36,
   "metadata": {},
   "outputs": [],
   "source": [
    "# save file\n",
    "prep.to_csv(\"../../neo4j/import/\"+file, sep=',', index=False)"
   ]
  },
  {
   "cell_type": "markdown",
   "metadata": {},
   "source": [
    "# dataLoading (expanded 2)"
   ]
  },
  {
   "cell_type": "code",
   "execution_count": 41,
   "metadata": {},
   "outputs": [
    {
     "name": "stdout",
     "output_type": "stream",
     "text": [
      "CPU times: user 3.66 ms, sys: 0 ns, total: 3.66 ms\n",
      "Wall time: 155 ms\n"
     ]
    },
    {
     "data": {
      "text/plain": [
       "<py2neo.database.Cursor at 0x7fb829ffce50>"
      ]
     },
     "execution_count": 41,
     "metadata": {},
     "output_type": "execute_result"
    }
   ],
   "source": [
    "%%time\n",
    "# indexes for additional data\n",
    "graph.run(\"\"\"CREATE INDEX ON :WineGroup(title)\"\"\")\n",
    "graph.run(\"\"\"CREATE INDEX ON :Year(value)\"\"\")"
   ]
  },
  {
   "cell_type": "code",
   "execution_count": 42,
   "metadata": {},
   "outputs": [
    {
     "name": "stdout",
     "output_type": "stream",
     "text": [
      "CPU times: user 2.72 ms, sys: 0 ns, total: 2.72 ms\n",
      "Wall time: 2.82 s\n"
     ]
    },
    {
     "data": {
      "text/plain": [
       "<py2neo.database.Cursor at 0x7fb827699340>"
      ]
     },
     "execution_count": 42,
     "metadata": {},
     "output_type": "execute_result"
    }
   ],
   "source": [
    "%%time\n",
    "query = \"\"\"\n",
    "USING PERIODIC COMMIT 1000\n",
    "LOAD CSV WITH HEADERS FROM 'file:///\"\"\"+file+\"\"\"' AS line FIELDTERMINATOR ','\n",
    "MERGE (y: Year {value: (line.year)})\n",
    "\"\"\"\n",
    "graph.run(query)"
   ]
  },
  {
   "cell_type": "code",
   "execution_count": 43,
   "metadata": {},
   "outputs": [
    {
     "name": "stdout",
     "output_type": "stream",
     "text": [
      "CPU times: user 2.71 ms, sys: 155 µs, total: 2.86 ms\n",
      "Wall time: 9.8 s\n"
     ]
    },
    {
     "data": {
      "text/plain": [
       "<py2neo.database.Cursor at 0x7fb829fe78e0>"
      ]
     },
     "execution_count": 43,
     "metadata": {},
     "output_type": "execute_result"
    }
   ],
   "source": [
    "%%time\n",
    "query = \"\"\"\n",
    "USING PERIODIC COMMIT 1000\n",
    "LOAD CSV WITH HEADERS FROM 'file:///\"\"\"+file+\"\"\"' AS line FIELDTERMINATOR ','\n",
    "MERGE (wg: WineGroup {title: (line.wine_group)})\n",
    "\"\"\"\n",
    "graph.run(query)"
   ]
  },
  {
   "cell_type": "code",
   "execution_count": 44,
   "metadata": {},
   "outputs": [
    {
     "name": "stdout",
     "output_type": "stream",
     "text": [
      "CPU times: user 3.57 ms, sys: 233 µs, total: 3.81 ms\n",
      "Wall time: 22.9 s\n"
     ]
    },
    {
     "data": {
      "text/plain": [
       "<py2neo.database.Cursor at 0x7fb827699460>"
      ]
     },
     "execution_count": 44,
     "metadata": {},
     "output_type": "execute_result"
    }
   ],
   "source": [
    "%%time\n",
    "query = \"\"\"\n",
    "USING PERIODIC COMMIT 1000\n",
    "LOAD CSV WITH HEADERS FROM 'file:///\"\"\"+file+\"\"\"' AS line FIELDTERMINATOR ','\n",
    "MATCH (w: Wine {title: (line.title)})\n",
    "MATCH (y: Year {value: (line.year)})\n",
    "MATCH (wg: WineGroup {title: (line.wine_group)})\n",
    "MERGE (w)-[:FROM_YEAR]->(y)\n",
    "MERGE (w)-[:IN_WINE_GROUP]->(wg)\n",
    "\"\"\"\n",
    "graph.run(query)"
   ]
  },
  {
   "cell_type": "markdown",
   "metadata": {},
   "source": [
    "```cypher\n",
    "CALL db.schema.visualization\n",
    "```\n",
    "\n",
    "![CALL db.schema.visualization](../../image/howto_graph/schema4.png)"
   ]
  },
  {
   "cell_type": "markdown",
   "metadata": {},
   "source": [
    "## Which Year had the most Wine?\n",
    "unique or distinct count !"
   ]
  },
  {
   "cell_type": "code",
   "execution_count": 46,
   "metadata": {},
   "outputs": [
    {
     "name": "stdout",
     "output_type": "stream",
     "text": [
      "CPU times: user 4.45 ms, sys: 0 ns, total: 4.45 ms\n",
      "Wall time: 199 ms\n"
     ]
    },
    {
     "data": {
      "text/html": [
       "<div>\n",
       "<style scoped>\n",
       "    .dataframe tbody tr th:only-of-type {\n",
       "        vertical-align: middle;\n",
       "    }\n",
       "\n",
       "    .dataframe tbody tr th {\n",
       "        vertical-align: top;\n",
       "    }\n",
       "\n",
       "    .dataframe thead th {\n",
       "        text-align: right;\n",
       "    }\n",
       "</style>\n",
       "<table border=\"1\" class=\"dataframe\">\n",
       "  <thead>\n",
       "    <tr style=\"text-align: right;\">\n",
       "      <th></th>\n",
       "      <th>year</th>\n",
       "      <th>wines</th>\n",
       "    </tr>\n",
       "  </thead>\n",
       "  <tbody>\n",
       "    <tr>\n",
       "      <th>0</th>\n",
       "      <td>2012</td>\n",
       "      <td>14302</td>\n",
       "    </tr>\n",
       "    <tr>\n",
       "      <th>1</th>\n",
       "      <td>2013</td>\n",
       "      <td>14261</td>\n",
       "    </tr>\n",
       "    <tr>\n",
       "      <th>2</th>\n",
       "      <td>2014</td>\n",
       "      <td>13914</td>\n",
       "    </tr>\n",
       "    <tr>\n",
       "      <th>3</th>\n",
       "      <td>2011</td>\n",
       "      <td>11504</td>\n",
       "    </tr>\n",
       "    <tr>\n",
       "      <th>4</th>\n",
       "      <td>2010</td>\n",
       "      <td>11228</td>\n",
       "    </tr>\n",
       "  </tbody>\n",
       "</table>\n",
       "</div>"
      ],
      "text/plain": [
       "   year  wines\n",
       "0  2012  14302\n",
       "1  2013  14261\n",
       "2  2014  13914\n",
       "3  2011  11504\n",
       "4  2010  11228"
      ]
     },
     "execution_count": 46,
     "metadata": {},
     "output_type": "execute_result"
    }
   ],
   "source": [
    "%%time\n",
    "query = \"\"\"\n",
    "MATCH (w:Wine)-[:FROM_YEAR]->(y:Year)\n",
    "WITH y, collect(w) AS wines\n",
    "RETURN y.value AS year, size(wines) AS wines ORDER BY wines DESC LIMIT 5\n",
    "\"\"\"\n",
    "graph.run(query).to_data_frame()"
   ]
  },
  {
   "cell_type": "code",
   "execution_count": 47,
   "metadata": {},
   "outputs": [
    {
     "name": "stdout",
     "output_type": "stream",
     "text": [
      "CPU times: user 147 ms, sys: 12.2 ms, total: 159 ms\n",
      "Wall time: 160 ms\n"
     ]
    },
    {
     "data": {
      "text/html": [
       "<div>\n",
       "<style scoped>\n",
       "    .dataframe tbody tr th:only-of-type {\n",
       "        vertical-align: middle;\n",
       "    }\n",
       "\n",
       "    .dataframe tbody tr th {\n",
       "        vertical-align: top;\n",
       "    }\n",
       "\n",
       "    .dataframe thead th {\n",
       "        text-align: right;\n",
       "    }\n",
       "</style>\n",
       "<table border=\"1\" class=\"dataframe\">\n",
       "  <thead>\n",
       "    <tr style=\"text-align: right;\">\n",
       "      <th></th>\n",
       "      <th>year</th>\n",
       "      <th>wines</th>\n",
       "    </tr>\n",
       "  </thead>\n",
       "  <tbody>\n",
       "    <tr>\n",
       "      <th>0</th>\n",
       "      <td>2012</td>\n",
       "      <td>14302</td>\n",
       "    </tr>\n",
       "    <tr>\n",
       "      <th>1</th>\n",
       "      <td>2013</td>\n",
       "      <td>14261</td>\n",
       "    </tr>\n",
       "    <tr>\n",
       "      <th>2</th>\n",
       "      <td>2014</td>\n",
       "      <td>13914</td>\n",
       "    </tr>\n",
       "    <tr>\n",
       "      <th>3</th>\n",
       "      <td>2011</td>\n",
       "      <td>11504</td>\n",
       "    </tr>\n",
       "    <tr>\n",
       "      <th>4</th>\n",
       "      <td>2010</td>\n",
       "      <td>11228</td>\n",
       "    </tr>\n",
       "  </tbody>\n",
       "</table>\n",
       "</div>"
      ],
      "text/plain": [
       "   year  wines\n",
       "0  2012  14302\n",
       "1  2013  14261\n",
       "2  2014  13914\n",
       "3  2011  11504\n",
       "4  2010  11228"
      ]
     },
     "execution_count": 47,
     "metadata": {},
     "output_type": "execute_result"
    }
   ],
   "source": [
    "%%time\n",
    "result = prep[prep.year != \"No Year\"]\n",
    "result = result.groupby(['year'])['title'].nunique().reset_index()\n",
    "result.columns = ['year', 'wines']\n",
    "result = result.sort_values(by='wines',ascending=False).reset_index(drop=True)\n",
    "result.head(5)"
   ]
  },
  {
   "cell_type": "markdown",
   "metadata": {},
   "source": [
    "## Which top 5 Winery produces the most Wine for a given Year ?\n",
    "**note:** the cypher query is showing the distinct or unique count of wine titles"
   ]
  },
  {
   "cell_type": "code",
   "execution_count": 111,
   "metadata": {},
   "outputs": [
    {
     "name": "stdout",
     "output_type": "stream",
     "text": [
      "CPU times: user 5.6 ms, sys: 0 ns, total: 5.6 ms\n",
      "Wall time: 436 ms\n"
     ]
    },
    {
     "data": {
      "text/html": [
       "<div>\n",
       "<style scoped>\n",
       "    .dataframe tbody tr th:only-of-type {\n",
       "        vertical-align: middle;\n",
       "    }\n",
       "\n",
       "    .dataframe tbody tr th {\n",
       "        vertical-align: top;\n",
       "    }\n",
       "\n",
       "    .dataframe thead th {\n",
       "        text-align: right;\n",
       "    }\n",
       "</style>\n",
       "<table border=\"1\" class=\"dataframe\">\n",
       "  <thead>\n",
       "    <tr style=\"text-align: right;\">\n",
       "      <th></th>\n",
       "      <th>Winery</th>\n",
       "      <th>Year</th>\n",
       "      <th>No of Wines</th>\n",
       "    </tr>\n",
       "  </thead>\n",
       "  <tbody>\n",
       "    <tr>\n",
       "      <th>0</th>\n",
       "      <td>Wines &amp; Winemakers</td>\n",
       "      <td>2013</td>\n",
       "      <td>39</td>\n",
       "    </tr>\n",
       "    <tr>\n",
       "      <th>1</th>\n",
       "      <td>Georges Duboeuf</td>\n",
       "      <td>2015</td>\n",
       "      <td>38</td>\n",
       "    </tr>\n",
       "    <tr>\n",
       "      <th>2</th>\n",
       "      <td>Wines &amp; Winemakers</td>\n",
       "      <td>2014</td>\n",
       "      <td>38</td>\n",
       "    </tr>\n",
       "    <tr>\n",
       "      <th>3</th>\n",
       "      <td>Georges Duboeuf</td>\n",
       "      <td>2014</td>\n",
       "      <td>37</td>\n",
       "    </tr>\n",
       "    <tr>\n",
       "      <th>4</th>\n",
       "      <td>Louis Latour</td>\n",
       "      <td>2014</td>\n",
       "      <td>37</td>\n",
       "    </tr>\n",
       "  </tbody>\n",
       "</table>\n",
       "</div>"
      ],
      "text/plain": [
       "               Winery  Year  No of Wines\n",
       "0  Wines & Winemakers  2013           39\n",
       "1     Georges Duboeuf  2015           38\n",
       "2  Wines & Winemakers  2014           38\n",
       "3     Georges Duboeuf  2014           37\n",
       "4        Louis Latour  2014           37"
      ]
     },
     "execution_count": 111,
     "metadata": {},
     "output_type": "execute_result"
    }
   ],
   "source": [
    "%%time\n",
    "query = \"\"\"\n",
    "MATCH (wy:Winery)<-[:FROM_WINERY]-(w:Wine)-[:FROM_YEAR]->(y:Year)\n",
    "WITH wy, y, COLLECT(w) AS wines\n",
    "RETURN wy.name AS Winery, y.value AS Year, size(wines) AS `No of Wines`\n",
    "ORDER BY `No of Wines` DESC LIMIT 5\n",
    "\"\"\"\n",
    "graph.run(query).to_data_frame()"
   ]
  },
  {
   "cell_type": "code",
   "execution_count": 116,
   "metadata": {},
   "outputs": [
    {
     "name": "stdout",
     "output_type": "stream",
     "text": [
      "CPU times: user 166 ms, sys: 6 µs, total: 166 ms\n",
      "Wall time: 164 ms\n"
     ]
    },
    {
     "data": {
      "text/html": [
       "<div>\n",
       "<style scoped>\n",
       "    .dataframe tbody tr th:only-of-type {\n",
       "        vertical-align: middle;\n",
       "    }\n",
       "\n",
       "    .dataframe tbody tr th {\n",
       "        vertical-align: top;\n",
       "    }\n",
       "\n",
       "    .dataframe thead th {\n",
       "        text-align: right;\n",
       "    }\n",
       "</style>\n",
       "<table border=\"1\" class=\"dataframe\">\n",
       "  <thead>\n",
       "    <tr style=\"text-align: right;\">\n",
       "      <th></th>\n",
       "      <th>Winery</th>\n",
       "      <th>Year</th>\n",
       "      <th>No of Wines</th>\n",
       "    </tr>\n",
       "  </thead>\n",
       "  <tbody>\n",
       "    <tr>\n",
       "      <th>0</th>\n",
       "      <td>Wines &amp; Winemakers</td>\n",
       "      <td>2013</td>\n",
       "      <td>39</td>\n",
       "    </tr>\n",
       "    <tr>\n",
       "      <th>1</th>\n",
       "      <td>Georges Duboeuf</td>\n",
       "      <td>2015</td>\n",
       "      <td>38</td>\n",
       "    </tr>\n",
       "    <tr>\n",
       "      <th>2</th>\n",
       "      <td>Wines &amp; Winemakers</td>\n",
       "      <td>2014</td>\n",
       "      <td>38</td>\n",
       "    </tr>\n",
       "    <tr>\n",
       "      <th>3</th>\n",
       "      <td>Louis Latour</td>\n",
       "      <td>2014</td>\n",
       "      <td>37</td>\n",
       "    </tr>\n",
       "    <tr>\n",
       "      <th>4</th>\n",
       "      <td>Georges Duboeuf</td>\n",
       "      <td>2014</td>\n",
       "      <td>37</td>\n",
       "    </tr>\n",
       "  </tbody>\n",
       "</table>\n",
       "</div>"
      ],
      "text/plain": [
       "               Winery  Year  No of Wines\n",
       "0  Wines & Winemakers  2013           39\n",
       "1     Georges Duboeuf  2015           38\n",
       "2  Wines & Winemakers  2014           38\n",
       "3        Louis Latour  2014           37\n",
       "4     Georges Duboeuf  2014           37"
      ]
     },
     "execution_count": 116,
     "metadata": {},
     "output_type": "execute_result"
    }
   ],
   "source": [
    "%%time\n",
    "result = prep.groupby(['winery', 'year']).agg({'title':['nunique']}).reset_index()\n",
    "result.columns = ['Winery', 'Year', 'No of Wines']\n",
    "result = result.sort_values(by='No of Wines',ascending=False).reset_index(drop=True)\n",
    "result.head(5)"
   ]
  },
  {
   "cell_type": "markdown",
   "metadata": {},
   "source": [
    "# dataModel (expansion 3)\n",
    "[link to Arrows for data modelling](http://www.apcjones.com/arrows/#)\n",
    "\n",
    "![model expansion 5](../../image/howto_graph/model5.jpg)"
   ]
  },
  {
   "cell_type": "code",
   "execution_count": null,
   "metadata": {},
   "outputs": [],
   "source": []
  },
  {
   "cell_type": "code",
   "execution_count": null,
   "metadata": {},
   "outputs": [],
   "source": []
  },
  {
   "cell_type": "code",
   "execution_count": null,
   "metadata": {},
   "outputs": [],
   "source": []
  },
  {
   "cell_type": "code",
   "execution_count": null,
   "metadata": {},
   "outputs": [],
   "source": []
  },
  {
   "cell_type": "code",
   "execution_count": null,
   "metadata": {},
   "outputs": [],
   "source": []
  },
  {
   "cell_type": "code",
   "execution_count": null,
   "metadata": {},
   "outputs": [],
   "source": []
  },
  {
   "cell_type": "code",
   "execution_count": null,
   "metadata": {},
   "outputs": [],
   "source": []
  },
  {
   "cell_type": "code",
   "execution_count": null,
   "metadata": {},
   "outputs": [],
   "source": []
  },
  {
   "cell_type": "code",
   "execution_count": null,
   "metadata": {},
   "outputs": [],
   "source": []
  }
 ],
 "metadata": {
  "kernelspec": {
   "display_name": "py38_neo4j",
   "language": "python",
   "name": "conda-env-py38_neo4j-py"
  },
  "language_info": {
   "codemirror_mode": {
    "name": "ipython",
    "version": 3
   },
   "file_extension": ".py",
   "mimetype": "text/x-python",
   "name": "python",
   "nbconvert_exporter": "python",
   "pygments_lexer": "ipython3",
   "version": "3.8.6"
  }
 },
 "nbformat": 4,
 "nbformat_minor": 4
}
