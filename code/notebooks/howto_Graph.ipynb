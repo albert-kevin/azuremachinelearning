{
 "cells": [
  {
   "cell_type": "markdown",
   "metadata": {},
   "source": [
    "Author: Kevin ALBERT  \n",
    "\n",
    "Created: Oct 2020 \n",
    "\n",
    "Inspiration: [git repo](https://github.com/lju-lazarevic/wine)"
   ]
  },
  {
   "cell_type": "markdown",
   "metadata": {},
   "source": [
    "# environment\n",
    "**cpu:**2, **mem:**8G, **disk:**150GB, **os:**ubuntu"
   ]
  },
  {
   "cell_type": "code",
   "execution_count": null,
   "metadata": {},
   "outputs": [],
   "source": [
    "# ! pip install py2neo pandas\n",
    "# ! pip install pandas-profiling\n",
    "# ! pip install jellyfish\n",
    "# ! pip install fuzzywuzzy\n",
    "# ! pip install python-Levenshtein\n",
    "# ! pip install pandas-dedupe\n",
    "# ! pip install -U nltk"
   ]
  },
  {
   "cell_type": "code",
   "execution_count": null,
   "metadata": {},
   "outputs": [],
   "source": [
    "# rerun report (delete me later)\n",
    "import pandas_profiling as pp\n",
    "pp.ProfileReport(prep, minimal=True, correlations={\"cramers\": {\"calculate\": False}}, progress_bar=False).to_file(reportFile)"
   ]
  },
  {
   "cell_type": "code",
   "execution_count": null,
   "metadata": {},
   "outputs": [],
   "source": [
    "import dtale\n",
    "d = dtale.show(prep, host=\"13.74.11.167\", port=\"40000\", ignore_duplicate=True, drop_index=True, reaper_on=False)\n",
    "# show all running instances\n",
    "d.main_url()"
   ]
  },
  {
   "cell_type": "code",
   "execution_count": null,
   "metadata": {},
   "outputs": [],
   "source": [
    "# stop webapp\n",
    "d.kill()"
   ]
  },
  {
   "cell_type": "code",
   "execution_count": null,
   "metadata": {},
   "outputs": [],
   "source": [
    "! pip list |grep -i py2neo\n",
    "! pip list |grep -i pandas\n",
    "# ! pip list |grep -i jellyfish"
   ]
  },
  {
   "cell_type": "markdown",
   "metadata": {},
   "source": [
    "py2neo is a client library and toolkit for working with Neo4j from within Python applications.  \n",
    "It is well suited for Data Science workflows and has great integration with other Python Data Science tools.  \n",
    "[py2neo docs](https://py2neo.org/v4/database.html)"
   ]
  },
  {
   "cell_type": "code",
   "execution_count": 1,
   "metadata": {},
   "outputs": [],
   "source": [
    "from py2neo import Graph, Node, Relationship\n",
    "import pandas as pd\n",
    "from IPython.display import Javascript\n",
    "import pandas_profiling as pp\n",
    "from fuzzywuzzy import process, fuzz\n",
    "# import pandas_dedupe\n",
    "\n",
    "# import warnings\n",
    "# warnings.filterwarnings('ignore')"
   ]
  },
  {
   "cell_type": "code",
   "execution_count": 2,
   "metadata": {},
   "outputs": [],
   "source": [
    "neo_server = \"13.74.11.167\"\n",
    "user = \"neo4j\"\n",
    "passw = \"digityser\"\n",
    "file = \"winedata.csv\""
   ]
  },
  {
   "cell_type": "code",
   "execution_count": 3,
   "metadata": {},
   "outputs": [],
   "source": [
    "graph = Graph(host=neo_server, auth=(user, passw))"
   ]
  },
  {
   "cell_type": "markdown",
   "metadata": {},
   "source": [
    "**delete database neo4j (v4.x):**\n",
    "```sh\n",
    "sudo docker-compose down\n",
    "sudo rm -Rf neo4j/data/databases/neo4j\n",
    "sudo rm -Rf neo4j/data/transactions/neo4j\n",
    "sudo docker-compose up --build &\n",
    "```\n",
    "```cypher\n",
    "MATCH (n) DETACH DELETE n;\n",
    "CALL apoc.schema.assert({},{},true) YIELD label, key RETURN *;\n",
    "```"
   ]
  },
  {
   "cell_type": "code",
   "execution_count": null,
   "metadata": {},
   "outputs": [],
   "source": [
    "# delete all nodes and relationships\n",
    "graph.delete_all()"
   ]
  },
  {
   "cell_type": "code",
   "execution_count": null,
   "metadata": {},
   "outputs": [],
   "source": [
    "# delete all indexes and constraints\n",
    "graph.run(\"\"\"CALL apoc.schema.assert({},{},true) YIELD label, key RETURN *\"\"\")"
   ]
  },
  {
   "cell_type": "markdown",
   "metadata": {},
   "source": [
    "# dataReport"
   ]
  },
  {
   "cell_type": "markdown",
   "metadata": {},
   "source": [
    "[link to the original dataset](https://www.kaggle.com/zynicide/wine-reviews/data)  \n",
    "[link to the git repo dataset](https://github.com/lju-lazarevic/wine/tree/master/data)"
   ]
  },
  {
   "cell_type": "code",
   "execution_count": 4,
   "metadata": {},
   "outputs": [],
   "source": [
    "# pre-cleaned dataset: deduplicated and cleaned twitter handles\n",
    "datasetURL = \"https://raw.githubusercontent.com/lju-lazarevic/wine/master/data/winemag-data-130k-v3.csv\"\n",
    "reportFile = \"../../data/report/winemag_report.html\""
   ]
  },
  {
   "cell_type": "code",
   "execution_count": 5,
   "metadata": {},
   "outputs": [],
   "source": [
    "df = pd.read_csv(datasetURL)"
   ]
  },
  {
   "cell_type": "code",
   "execution_count": null,
   "metadata": {},
   "outputs": [],
   "source": [
    "%%time\n",
    "pp.ProfileReport(df=df.sample(frac=1),\n",
    "                 minimal=True,\n",
    "                 progress_bar=False,\n",
    "                 correlations={\"cramers\": {\"calculate\": False}}).to_file(reportFile)"
   ]
  },
  {
   "cell_type": "code",
   "execution_count": null,
   "metadata": {},
   "outputs": [],
   "source": [
    "# open the report (*.html)\n",
    "display(Javascript('window.open(\"{url}\");'.format(url=reportFile)))"
   ]
  },
  {
   "cell_type": "markdown",
   "metadata": {},
   "source": [
    "# dataPrep\n",
    "clean data prior to a load"
   ]
  },
  {
   "cell_type": "code",
   "execution_count": 6,
   "metadata": {},
   "outputs": [],
   "source": [
    "prep = df.copy()"
   ]
  },
  {
   "cell_type": "code",
   "execution_count": 7,
   "metadata": {},
   "outputs": [],
   "source": [
    "# replace nan\n",
    "prep['winery'] = prep['winery'].fillna('No Winery')\n",
    "prep['province'] = prep['province'].fillna('No Province')\n",
    "prep['country'] = prep['country'].fillna('No Country')"
   ]
  },
  {
   "cell_type": "code",
   "execution_count": 8,
   "metadata": {},
   "outputs": [],
   "source": [
    "# save file to /import\n",
    "prep.to_csv(\"../../neo4j/import/\"+file, sep=',', index=False)"
   ]
  },
  {
   "cell_type": "markdown",
   "metadata": {},
   "source": [
    "# dataModel\n",
    "[link to Arrows for data modelling](http://www.apcjones.com/arrows/#)\n",
    "\n",
    "![Drag Racing](../../image/howto_graph/model2.jpg)"
   ]
  },
  {
   "cell_type": "markdown",
   "metadata": {},
   "source": [
    "# dataLoading\n",
    "Multistatement queries is only supported on neo4j browser or cypher shell.  \n",
    "With py2neo you must run each statement sequentially. \n",
    "  \n",
    "`MERGE` will take care of any duplicate values  \n",
    "`p` temporary variable name  \n",
    "`Province` entity name defined in data model  \n",
    "`name` property name of entity  \n",
    "`line.province` line is 1 record from dataset then select column province  \n",
    "  \n",
    "```cypher\n",
    "MERGE (p: Province {name: (line.province)})\n",
    "```"
   ]
  },
  {
   "cell_type": "code",
   "execution_count": null,
   "metadata": {},
   "outputs": [],
   "source": [
    "# check first 2 lines\n",
    "! head -n 2 ../../neo4j/import/$file"
   ]
  },
  {
   "cell_type": "code",
   "execution_count": null,
   "metadata": {},
   "outputs": [],
   "source": [
    "# test data loading\n",
    "query = \"\"\"\n",
    "LOAD CSV WITH HEADERS FROM 'file:///\"\"\"+file+\"\"\"' AS line FIELDTERMINATOR ','\n",
    "WITH line\n",
    "LIMIT 1\n",
    "RETURN line\n",
    "\"\"\"\n",
    "data = graph.run(query)"
   ]
  },
  {
   "cell_type": "code",
   "execution_count": null,
   "metadata": {},
   "outputs": [],
   "source": [
    "next(data)"
   ]
  },
  {
   "cell_type": "code",
   "execution_count": null,
   "metadata": {},
   "outputs": [],
   "source": [
    "# open neo4j dashboard\n",
    "display(Javascript('window.open(\"{url}\");'.format(url=\"http://\"+neo_server+\":7474\")))"
   ]
  },
  {
   "cell_type": "markdown",
   "metadata": {},
   "source": [
    "## createIndex"
   ]
  },
  {
   "cell_type": "code",
   "execution_count": 9,
   "metadata": {},
   "outputs": [
    {
     "name": "stdout",
     "output_type": "stream",
     "text": [
      "CPU times: user 5.45 ms, sys: 584 µs, total: 6.04 ms\n",
      "Wall time: 1.87 s\n"
     ]
    },
    {
     "data": {
      "text/plain": [
       "<py2neo.database.Cursor at 0x7f27cfe8bc40>"
      ]
     },
     "execution_count": 9,
     "metadata": {},
     "output_type": "execute_result"
    }
   ],
   "source": [
    "%%time\n",
    "graph.run(\"\"\"CREATE INDEX ON :Winery(name)\"\"\")\n",
    "graph.run(\"\"\"CREATE INDEX ON :Province(name)\"\"\")\n",
    "graph.run(\"\"\"CREATE INDEX ON :Country(name)\"\"\")"
   ]
  },
  {
   "cell_type": "markdown",
   "metadata": {},
   "source": [
    "## createNodes"
   ]
  },
  {
   "cell_type": "code",
   "execution_count": 10,
   "metadata": {},
   "outputs": [
    {
     "name": "stdout",
     "output_type": "stream",
     "text": [
      "CPU times: user 2.94 ms, sys: 233 µs, total: 3.17 ms\n",
      "Wall time: 11.9 s\n"
     ]
    },
    {
     "data": {
      "text/plain": [
       "<py2neo.database.Cursor at 0x7f280c4b3280>"
      ]
     },
     "execution_count": 10,
     "metadata": {},
     "output_type": "execute_result"
    }
   ],
   "source": [
    "%%time\n",
    "query = \"\"\"\n",
    "USING PERIODIC COMMIT 1000\n",
    "LOAD CSV WITH HEADERS FROM 'file:///\"\"\"+file+\"\"\"' AS line FIELDTERMINATOR ','\n",
    "MERGE (w: Winery {name: (line.winery)})\n",
    "MERGE (p: Province {name: (line.province)})\n",
    "MERGE (c: Country {name: (line.country)})\n",
    "\"\"\"\n",
    "graph.run(query)"
   ]
  },
  {
   "cell_type": "markdown",
   "metadata": {},
   "source": [
    "## createRelations"
   ]
  },
  {
   "cell_type": "code",
   "execution_count": 11,
   "metadata": {},
   "outputs": [
    {
     "name": "stdout",
     "output_type": "stream",
     "text": [
      "CPU times: user 659 µs, sys: 3.59 ms, total: 4.25 ms\n",
      "Wall time: 12.8 s\n"
     ]
    },
    {
     "data": {
      "text/plain": [
       "<py2neo.database.Cursor at 0x7f27cfe9d940>"
      ]
     },
     "execution_count": 11,
     "metadata": {},
     "output_type": "execute_result"
    }
   ],
   "source": [
    "%%time\n",
    "query = \"\"\"\n",
    "USING PERIODIC COMMIT 1000\n",
    "LOAD CSV WITH HEADERS FROM 'file:///\"\"\"+file+\"\"\"' AS line FIELDTERMINATOR ','\n",
    "MATCH (w: Winery {name: trim(line.winery)})\n",
    "MATCH (p: Province {name: trim(line.province)})\n",
    "MATCH (c: Country {name: trim(line.country)})\n",
    "MERGE (w)-[:FROM_PROVENCE]->(p)\n",
    "MERGE (p)-[:PROVINCE_COUNTRY]->(c)\n",
    "\"\"\"\n",
    "graph.run(query)"
   ]
  },
  {
   "cell_type": "markdown",
   "metadata": {},
   "source": [
    "```cypher\n",
    "CALL db.schema.visualization\n",
    "```\n",
    "\n",
    "![CALL db.schema.visualization](../../image/howto_graph/schema2.png)"
   ]
  },
  {
   "cell_type": "markdown",
   "metadata": {},
   "source": [
    "## Which 10 countries have the most wineries ?\n",
    "note: make sure to count only once each winery"
   ]
  },
  {
   "cell_type": "code",
   "execution_count": null,
   "metadata": {},
   "outputs": [],
   "source": [
    "%%time\n",
    "query = \"\"\"\n",
    "MATCH (w:Winery)-[:FROM_PROVENCE]->(p:Province)-[:PROVINCE_COUNTRY]->(c:Country)\n",
    "RETURN c.name AS Country, count(DISTINCT w) AS totalNrWineries\n",
    "ORDER BY totalNrWineries DESC LIMIT 10\n",
    "\"\"\"\n",
    "graph.run(query).to_data_frame()"
   ]
  },
  {
   "cell_type": "code",
   "execution_count": null,
   "metadata": {},
   "outputs": [],
   "source": [
    "%%time\n",
    "result = prep[[\"winery\",\"country\"]].groupby(['country'])['winery'].nunique()\n",
    "result = result.rename_axis(['Country']).rename('totalNrWineries').sort_values(ascending=False).reset_index()\n",
    "result.head(10)"
   ]
  },
  {
   "cell_type": "markdown",
   "metadata": {},
   "source": [
    "## Which wineries are across multiple provinces ?\n",
    "alt: Which provinces are associated to each winery ?"
   ]
  },
  {
   "cell_type": "code",
   "execution_count": null,
   "metadata": {},
   "outputs": [],
   "source": [
    "%%time\n",
    "query = \"\"\"\n",
    "MATCH (w:Winery)-[:FROM_PROVENCE]->(p:Province)\n",
    "WITH w, COLLECT(p.name) AS Provinces, count(p) AS Total\n",
    "RETURN w.name AS Winery, Provinces, Total\n",
    "ORDER BY Total DESC LIMIT 10\n",
    "\"\"\"\n",
    "graph.run(query).to_data_frame()"
   ]
  },
  {
   "cell_type": "code",
   "execution_count": null,
   "metadata": {},
   "outputs": [],
   "source": [
    "%%time\n",
    "result = prep.groupby('winery').agg({'province':[lambda x: x.unique(), lambda x: x.nunique()]}).reset_index()\n",
    "result.columns = ['Winery', 'Provinces', 'Total']\n",
    "result = result.sort_values(by='Total',ascending=False).reset_index(drop=True)\n",
    "result.head(10)"
   ]
  },
  {
   "cell_type": "markdown",
   "metadata": {},
   "source": [
    "# dataModel (expansion 1)\n",
    "[link to Arrows for data modelling](http://www.apcjones.com/arrows/#)\n",
    "\n",
    "![model3](../../image/howto_graph/model3.jpg)"
   ]
  },
  {
   "cell_type": "markdown",
   "metadata": {},
   "source": [
    "# dataPrep (expanded 1)\n",
    "clean data prior to a load"
   ]
  },
  {
   "cell_type": "code",
   "execution_count": 12,
   "metadata": {},
   "outputs": [],
   "source": [
    "prep = df.copy()"
   ]
  },
  {
   "cell_type": "code",
   "execution_count": 13,
   "metadata": {},
   "outputs": [],
   "source": [
    "prep['winery'] = prep['winery'].fillna('No Winery')\n",
    "prep['province'] = prep['province'].fillna('No Province')\n",
    "prep['country'] = prep['country'].fillna('No Country')"
   ]
  },
  {
   "cell_type": "code",
   "execution_count": 14,
   "metadata": {},
   "outputs": [],
   "source": [
    "prep['designation'] = prep['designation'].fillna('No Designation')\n",
    "prep['taster_name'] = prep['taster_name'].fillna('No Taster')\n",
    "prep['variety'] = prep['variety'].fillna('No Variety')\n",
    "prep['title'] = prep['title'].fillna('No Title')"
   ]
  },
  {
   "cell_type": "code",
   "execution_count": 15,
   "metadata": {},
   "outputs": [],
   "source": [
    "# save file\n",
    "prep.to_csv(\"../../neo4j/import/\"+file, sep=',', index=False)"
   ]
  },
  {
   "cell_type": "markdown",
   "metadata": {},
   "source": [
    "# dataLoading (expansion 1)\n",
    "Multistatement queries is only supported on neo4j browser or cypher shell.  \n",
    "With py2neo you must run each statement sequentially. \n",
    "  \n",
    "`MERGE` will take care of any duplicate values  \n",
    "`p` temporary variable name  \n",
    "`Province` entity name defined in data model  \n",
    "`name` property name of entity  \n",
    "`line.province` line is 1 record from dataset then select column province  \n",
    "  \n",
    "```cypher\n",
    "MERGE (p: Province {name: (line.province)})\n",
    "```"
   ]
  },
  {
   "cell_type": "code",
   "execution_count": 16,
   "metadata": {},
   "outputs": [
    {
     "name": "stdout",
     "output_type": "stream",
     "text": [
      "CPU times: user 3.24 ms, sys: 3.8 ms, total: 7.04 ms\n",
      "Wall time: 1.19 s\n"
     ]
    },
    {
     "data": {
      "text/plain": [
       "<py2neo.database.Cursor at 0x7f280c440850>"
      ]
     },
     "execution_count": 16,
     "metadata": {},
     "output_type": "execute_result"
    }
   ],
   "source": [
    "%%time\n",
    "# indexes for additional data\n",
    "graph.run(\"\"\"CREATE INDEX ON :Wine(name)\"\"\")\n",
    "graph.run(\"\"\"CREATE INDEX ON :Taster(name)\"\"\")\n",
    "graph.run(\"\"\"CREATE INDEX ON :Variety(name)\"\"\")\n",
    "graph.run(\"\"\"CREATE INDEX ON :Designation(name)\"\"\")"
   ]
  },
  {
   "cell_type": "code",
   "execution_count": 17,
   "metadata": {},
   "outputs": [
    {
     "name": "stdout",
     "output_type": "stream",
     "text": [
      "CPU times: user 3.95 ms, sys: 0 ns, total: 3.95 ms\n",
      "Wall time: 15 s\n"
     ]
    },
    {
     "data": {
      "text/plain": [
       "<py2neo.database.Cursor at 0x7f27cfe8b940>"
      ]
     },
     "execution_count": 17,
     "metadata": {},
     "output_type": "execute_result"
    }
   ],
   "source": [
    "%%time\n",
    "query = \"\"\"\n",
    "USING PERIODIC COMMIT 1000\n",
    "LOAD CSV WITH HEADERS FROM 'file:///\"\"\"+file+\"\"\"' AS line FIELDTERMINATOR ','\n",
    "MERGE (d: Designation {name: (line.designation)})\n",
    "MERGE (t: Taster {name: (line.taster_name)})\n",
    "MERGE (v: Variety {name: (line.variety)})\n",
    "MERGE (c: Country {name: (line.country)})\n",
    "MERGE (w: Wine {name: line.title})\n",
    "\"\"\"\n",
    "graph.run(query)"
   ]
  },
  {
   "cell_type": "code",
   "execution_count": 18,
   "metadata": {},
   "outputs": [
    {
     "name": "stdout",
     "output_type": "stream",
     "text": [
      "CPU times: user 4.33 ms, sys: 36 µs, total: 4.37 ms\n",
      "Wall time: 23 s\n"
     ]
    },
    {
     "data": {
      "text/plain": [
       "<py2neo.database.Cursor at 0x7f27d0723be0>"
      ]
     },
     "execution_count": 18,
     "metadata": {},
     "output_type": "execute_result"
    }
   ],
   "source": [
    "%%time\n",
    "query = \"\"\"\n",
    "USING PERIODIC COMMIT 1000\n",
    "LOAD CSV WITH HEADERS FROM 'file:///\"\"\"+file+\"\"\"' AS line FIELDTERMINATOR ','\n",
    "MATCH (d: Designation {name: (line.designation)})\n",
    "MATCH (t: Taster {name: (line.taster_name)})\n",
    "MATCH (v: Variety {name: (line.variety)})\n",
    "MATCH (w: Wine {name: (line.title)})\n",
    "MATCH (win: Winery {name: (line.winery)})\n",
    "MERGE (w)-[:FROM_WINERY]->(win)\n",
    "MERGE (w)-[:HAS_VARIETY]->(v)\n",
    "MERGE (t)-[:RATES_WINE]->(w)\n",
    "MERGE (w)-[:HAS_DESIGNATION]->(d)\n",
    "\"\"\"\n",
    "graph.run(query)"
   ]
  },
  {
   "cell_type": "markdown",
   "metadata": {},
   "source": [
    "```cypher\n",
    "CALL db.schema.visualization\n",
    "```\n",
    "\n",
    "![CALL db.schema.visualization](../../image/howto_graph/schema3.png)"
   ]
  },
  {
   "cell_type": "markdown",
   "metadata": {},
   "source": [
    "# The top 10 most prolific wine tasters ?\n",
    "note: count the unique amount instead of the total amount tasted"
   ]
  },
  {
   "cell_type": "code",
   "execution_count": null,
   "metadata": {},
   "outputs": [],
   "source": [
    "%%time\n",
    "query = \"\"\"\n",
    "MATCH (t:Taster)\n",
    "WHERE t.name <> \"No Taster\"\n",
    "MATCH (t)-[:RATES_WINE]->(w:Wine)-[:HAS_VARIETY]->(v:Variety)\n",
    "WITH t, count(DISTINCT w) AS Total, COLLECT(DISTINCT v.name) AS Varieties\n",
    "RETURN t.name AS Taster, Varieties, Total\n",
    "ORDER BY Total DESC LIMIT 10\n",
    "\"\"\"\n",
    "graph.run(query).to_data_frame()"
   ]
  },
  {
   "cell_type": "code",
   "execution_count": null,
   "metadata": {},
   "outputs": [],
   "source": [
    "%%time\n",
    "result = prep[prep.taster_name != \"No Taster\"]\n",
    "result = result.groupby(['taster_name']).agg({'variety':[lambda x: list(x)], 'title':[lambda x: x.nunique()]}).reset_index()\n",
    "result.columns = ['Taster', 'Varieties', 'Total']\n",
    "result = result.sort_values(by='Total',ascending=False).reset_index(drop=True)\n",
    "result.head(10)"
   ]
  },
  {
   "cell_type": "markdown",
   "metadata": {},
   "source": [
    "# How many wine varieties contain the word 'red' ?"
   ]
  },
  {
   "cell_type": "code",
   "execution_count": null,
   "metadata": {},
   "outputs": [],
   "source": [
    "%%time\n",
    "query = \"\"\"\n",
    "MATCH (v:Variety)\n",
    "WHERE tolower(v.name) CONTAINS 'red'\n",
    "RETURN v.name AS redVariety\n",
    "ORDER BY redVariety\n",
    "\"\"\"\n",
    "graph.run(query).to_data_frame()"
   ]
  },
  {
   "cell_type": "code",
   "execution_count": null,
   "metadata": {},
   "outputs": [],
   "source": [
    "%%time\n",
    "pd.DataFrame(sorted(prep[\"variety\"][prep[\"variety\"].str.contains('red', case=False)].unique()), columns=[\"redVariety\"])"
   ]
  },
  {
   "cell_type": "markdown",
   "metadata": {},
   "source": [
    "# dataModel (expansion 2)\n",
    "[link to Arrows for data modelling](http://www.apcjones.com/arrows/#)\n",
    "\n",
    "![model4](../../image/howto_graph/model4.jpg)"
   ]
  },
  {
   "cell_type": "markdown",
   "metadata": {},
   "source": [
    "# dataPrep (expansion 2)\n",
    "clean data prior to a load"
   ]
  },
  {
   "cell_type": "code",
   "execution_count": 19,
   "metadata": {},
   "outputs": [],
   "source": [
    "prep = df.copy()"
   ]
  },
  {
   "cell_type": "code",
   "execution_count": 20,
   "metadata": {},
   "outputs": [],
   "source": [
    "prep['winery'] = prep['winery'].fillna('No Winery')\n",
    "prep['province'] = prep['province'].fillna('No Province')\n",
    "prep['country'] = prep['country'].fillna('No Country')"
   ]
  },
  {
   "cell_type": "code",
   "execution_count": 21,
   "metadata": {},
   "outputs": [],
   "source": [
    "prep['designation'] = prep['designation'].fillna('No Designation')\n",
    "prep['taster_name'] = prep['taster_name'].fillna('No Taster')\n",
    "prep['variety'] = prep['variety'].fillna('No Variety')\n",
    "prep['title'] = prep['title'].fillna('No Title')"
   ]
  },
  {
   "cell_type": "markdown",
   "metadata": {},
   "source": [
    "regex generator : http://regex.inginf.units.it/  \n",
    "regex checker : https://regex101.com/  \n",
    "neo4j apoc text replace : https://neo4j.com/labs/apoc/4.1/misc/text-functions/#text-functions-regex  \n",
    "pandas series replace : https://pandas.pydata.org/pandas-docs/stable/reference/api/pandas.Series.str.replace.html  \n",
    "pandas series extract : https://pandas.pydata.org/pandas-docs/stable/reference/api/pandas.Series.str.extract.html  "
   ]
  },
  {
   "cell_type": "code",
   "execution_count": 22,
   "metadata": {},
   "outputs": [],
   "source": [
    "# extract years 1970-2119\n",
    "prep['year'] = prep['title'].str.extract(\"(([2][0-1][0-1][0-9])|([1][9][7-9][0-9]))\")[0]\n",
    "prep['year'] = prep['year'].fillna('No Year')"
   ]
  },
  {
   "cell_type": "code",
   "execution_count": 23,
   "metadata": {},
   "outputs": [],
   "source": [
    "prep['wine_group'] = prep['title'].str.replace(\"(\\d{4})\", '') # remove 4-digit and 1-space\n",
    "prep['wine_group'] = prep['wine_group'].str.replace(\"([ ]{2,})\", ' ') # replace 2 or more spaces into 1-space"
   ]
  },
  {
   "cell_type": "code",
   "execution_count": 24,
   "metadata": {},
   "outputs": [],
   "source": [
    "# save file\n",
    "prep.to_csv(\"../../neo4j/import/\"+file, sep=',', index=False)"
   ]
  },
  {
   "cell_type": "markdown",
   "metadata": {},
   "source": [
    "# dataLoading (expanded 2)"
   ]
  },
  {
   "cell_type": "code",
   "execution_count": 25,
   "metadata": {},
   "outputs": [
    {
     "name": "stdout",
     "output_type": "stream",
     "text": [
      "CPU times: user 2.86 ms, sys: 278 µs, total: 3.14 ms\n",
      "Wall time: 2.07 s\n"
     ]
    },
    {
     "data": {
      "text/plain": [
       "<py2neo.database.Cursor at 0x7f27cdeb1e80>"
      ]
     },
     "execution_count": 25,
     "metadata": {},
     "output_type": "execute_result"
    }
   ],
   "source": [
    "%%time\n",
    "# indexes for additional data\n",
    "graph.run(\"\"\"CREATE INDEX ON :WineGroup(name)\"\"\")\n",
    "graph.run(\"\"\"CREATE INDEX ON :Year(value)\"\"\")"
   ]
  },
  {
   "cell_type": "code",
   "execution_count": 26,
   "metadata": {},
   "outputs": [
    {
     "name": "stdout",
     "output_type": "stream",
     "text": [
      "CPU times: user 4.34 ms, sys: 32 µs, total: 4.37 ms\n",
      "Wall time: 8.15 s\n"
     ]
    },
    {
     "data": {
      "text/plain": [
       "<py2neo.database.Cursor at 0x7f27cfe9d970>"
      ]
     },
     "execution_count": 26,
     "metadata": {},
     "output_type": "execute_result"
    }
   ],
   "source": [
    "%%time\n",
    "query = \"\"\"\n",
    "USING PERIODIC COMMIT 1000\n",
    "LOAD CSV WITH HEADERS FROM 'file:///\"\"\"+file+\"\"\"' AS line FIELDTERMINATOR ','\n",
    "MERGE (y: Year {value: (line.year)})\n",
    "MERGE (wg: WineGroup {name: (line.wine_group)})\n",
    "\"\"\"\n",
    "graph.run(query)"
   ]
  },
  {
   "cell_type": "code",
   "execution_count": 27,
   "metadata": {},
   "outputs": [
    {
     "name": "stdout",
     "output_type": "stream",
     "text": [
      "CPU times: user 3.83 ms, sys: 0 ns, total: 3.83 ms\n",
      "Wall time: 14.6 s\n"
     ]
    },
    {
     "data": {
      "text/plain": [
       "<py2neo.database.Cursor at 0x7f27f20c3700>"
      ]
     },
     "execution_count": 27,
     "metadata": {},
     "output_type": "execute_result"
    }
   ],
   "source": [
    "%%time\n",
    "query = \"\"\"\n",
    "USING PERIODIC COMMIT 1000\n",
    "LOAD CSV WITH HEADERS FROM 'file:///\"\"\"+file+\"\"\"' AS line FIELDTERMINATOR ','\n",
    "MATCH (w: Wine {name: (line.title)})\n",
    "MATCH (y: Year {value: (line.year)})\n",
    "MATCH (wg: WineGroup {name: (line.wine_group)})\n",
    "MERGE (w)-[:FROM_YEAR]->(y)\n",
    "MERGE (w)-[:IN_WINE_GROUP]->(wg)\n",
    "\"\"\"\n",
    "graph.run(query)"
   ]
  },
  {
   "cell_type": "markdown",
   "metadata": {},
   "source": [
    "```cypher\n",
    "CALL db.schema.visualization\n",
    "```\n",
    "\n",
    "![CALL db.schema.visualization](../../image/howto_graph/schema4.png)"
   ]
  },
  {
   "cell_type": "markdown",
   "metadata": {},
   "source": [
    "## Which Year had the most Wine?\n",
    "unique or distinct count !"
   ]
  },
  {
   "cell_type": "code",
   "execution_count": null,
   "metadata": {},
   "outputs": [],
   "source": [
    "%%time\n",
    "query = \"\"\"\n",
    "MATCH (w:Wine)-[:FROM_YEAR]->(y:Year)\n",
    "WITH y, collect(w) AS wines\n",
    "RETURN y.value AS year, size(wines) AS wines ORDER BY wines DESC LIMIT 5\n",
    "\"\"\"\n",
    "graph.run(query).to_data_frame()"
   ]
  },
  {
   "cell_type": "code",
   "execution_count": null,
   "metadata": {},
   "outputs": [],
   "source": [
    "%%time\n",
    "result = prep[prep.year != \"No Year\"]\n",
    "result = result.groupby(['year'])['title'].nunique().reset_index()\n",
    "result.columns = ['year', 'wines']\n",
    "result = result.sort_values(by='wines',ascending=False).reset_index(drop=True)\n",
    "result.head(5)"
   ]
  },
  {
   "cell_type": "markdown",
   "metadata": {},
   "source": [
    "## Which top 5 Winery produces the most Wine for a given Year ?\n",
    "**note:** the cypher query is showing the distinct or unique count of wine titles"
   ]
  },
  {
   "cell_type": "code",
   "execution_count": null,
   "metadata": {},
   "outputs": [],
   "source": [
    "%%time\n",
    "query = \"\"\"\n",
    "MATCH (wy:Winery)<-[:FROM_WINERY]-(w:Wine)-[:FROM_YEAR]->(y:Year)\n",
    "WITH wy, y, COLLECT(w) AS wines\n",
    "RETURN wy.name AS Winery, y.value AS Year, size(wines) AS `No of Wines`\n",
    "ORDER BY `No of Wines` DESC LIMIT 5\n",
    "\"\"\"\n",
    "graph.run(query).to_data_frame()"
   ]
  },
  {
   "cell_type": "code",
   "execution_count": null,
   "metadata": {},
   "outputs": [],
   "source": [
    "%%time\n",
    "result = prep.groupby(['winery', 'year']).agg({'title':['nunique']}).reset_index()\n",
    "result.columns = ['Winery', 'Year', 'No of Wines']\n",
    "result = result.sort_values(by='No of Wines',ascending=False).reset_index(drop=True)\n",
    "result.head(5)"
   ]
  },
  {
   "cell_type": "markdown",
   "metadata": {},
   "source": [
    "# dataModel (expansion 3)\n",
    "[link to Arrows for data modelling](http://www.apcjones.com/arrows/#)\n",
    "\n",
    "![model expansion 5](../../image/howto_graph/model5.jpg)"
   ]
  },
  {
   "cell_type": "markdown",
   "metadata": {},
   "source": [
    "https://neo4j.com/labs/apoc/4.1/misc/text-functions/#text-functions-text-similarity"
   ]
  },
  {
   "cell_type": "markdown",
   "metadata": {},
   "source": [
    "clean up  \n",
    "* different spellings for the same grape, e.g. Aragonez and Aragonês\n",
    "* different names for the same grape, e.g. Syrah and Shiraz\n",
    "* different ordering of wine blends, e.g. Cabernet-Shiraz and Shiraz-Cabernet"
   ]
  },
  {
   "cell_type": "markdown",
   "metadata": {},
   "source": [
    "# dataPrep (expansion 3)\n",
    "clean data prior to a load"
   ]
  },
  {
   "cell_type": "code",
   "execution_count": 28,
   "metadata": {},
   "outputs": [],
   "source": [
    "prep = df.copy()\n",
    "prep['winery'] = prep['winery'].fillna('No Winery')\n",
    "prep['province'] = prep['province'].fillna('No Province')\n",
    "prep['country'] = prep['country'].fillna('No Country')\n",
    "prep['designation'] = prep['designation'].fillna('No Designation')\n",
    "prep['taster_name'] = prep['taster_name'].fillna('No Taster')\n",
    "prep['variety'] = prep['variety'].fillna('No Variety')\n",
    "prep['title'] = prep['title'].fillna('No Title')\n",
    "prep['year'] = prep['title'].str.extract(\"(([2][0-1][0-1][0-9])|([1][9][7-9][0-9]))\")[0] # extract years 1970-2119\n",
    "prep['year'] = prep['year'].fillna('No Year')\n",
    "prep['wine_group'] = prep['title'].str.replace(\"(\\d{4})\", '') # remove 4-digit and 1-space\n",
    "prep['wine_group'] = prep['wine_group'].str.replace(\"([ ]{2,})\", ' ') # replace 2 or more spaces into 1-space"
   ]
  },
  {
   "cell_type": "code",
   "execution_count": 29,
   "metadata": {},
   "outputs": [],
   "source": [
    "# tokenize variety first dashes and spaces\n",
    "prep['variety_name'] = prep['variety'].str.lower().str.split('[ ]|[-]')"
   ]
  },
  {
   "cell_type": "markdown",
   "metadata": {},
   "source": [
    "## Apply FuzzyWuzzy in one column using token set ratio\n",
    "\n",
    "https://stackoverflow.com/questions/31806695/when-to-use-which-fuzz-function-to-compare-2-strings  \n",
    "\n",
    "https://github.com/thuynh323/NLP-with-Python/blob/master/FuzzyWuzzy%20-%20Ramen%20Rater%20List/Find%20similar%20strings%20with%20FuzzyWuzzy.ipynb  \n",
    "\n",
    "sequence matching using levenshtein distance  \n",
    "(minimum number of single-character edits (insertions, deletions or substitutions) required to change one word into the other)  \n",
    "the token method ignore case and punctuation  \n",
    "the ratio calculates the Levenshtein distance  \n",
    "token_sort_ratio tokenizes strings in words sorted in alphanumeric order then apply ratio  \n",
    "token_set_ratio ignore duplicate words (~set)  \n",
    "partial_token_sort_ratio: (=token_sort_ratio) but uses partial_ration instead of ratio  \n",
    "https://medium.com/@laxmi17sarki/string-matching-using-fuzzywuzzy-24be9e85c88d  \n",
    "\n",
    "1. removing all but letters and numbers, 2. trim whitespace, 3. force to lower case"
   ]
  },
  {
   "cell_type": "code",
   "execution_count": 30,
   "metadata": {},
   "outputs": [],
   "source": [
    "# overwrite variety\n",
    "list_of_strings = prep['variety'].unique().tolist()\n",
    "# look for the best match, return one similar strings with score\n",
    "score_set = [(one_string,) + i\n",
    "             for one_string in list_of_strings\n",
    "             for i in process.extract(one_string, list_of_strings, scorer=fuzz.partial_token_sort_ratio, limit=1)]\n",
    "oldstr_newstr_map = dict([(oldstr, newstr) for oldstr, newstr, score in score_set])\n",
    "# substitute each value\n",
    "prep[\"variety\"] = prep['variety'].map(oldstr_newstr_map)"
   ]
  },
  {
   "cell_type": "code",
   "execution_count": 31,
   "metadata": {},
   "outputs": [],
   "source": [
    "# save file\n",
    "prep.to_csv(\"../../neo4j/import/\"+file, sep=',', index=False)"
   ]
  },
  {
   "cell_type": "markdown",
   "metadata": {},
   "source": [
    "# dataLoading (expanded 3)"
   ]
  },
  {
   "cell_type": "code",
   "execution_count": 32,
   "metadata": {},
   "outputs": [
    {
     "name": "stdout",
     "output_type": "stream",
     "text": [
      "CPU times: user 2.18 ms, sys: 101 µs, total: 2.28 ms\n",
      "Wall time: 2.16 s\n"
     ]
    },
    {
     "data": {
      "text/plain": [
       "<py2neo.database.Cursor at 0x7f27cdeb18b0>"
      ]
     },
     "execution_count": 32,
     "metadata": {},
     "output_type": "execute_result"
    }
   ],
   "source": [
    "%%time\n",
    "# indexes for additional data\n",
    "graph.run(\"\"\"CREATE INDEX ON :VarietyName(name)\"\"\")"
   ]
  },
  {
   "cell_type": "code",
   "execution_count": 45,
   "metadata": {},
   "outputs": [
    {
     "name": "stdout",
     "output_type": "stream",
     "text": [
      "CPU times: user 4.04 ms, sys: 144 µs, total: 4.18 ms\n",
      "Wall time: 5.85 s\n"
     ]
    },
    {
     "data": {
      "text/plain": [
       "<py2neo.database.Cursor at 0x7f27cedc5640>"
      ]
     },
     "execution_count": 45,
     "metadata": {},
     "output_type": "execute_result"
    }
   ],
   "source": [
    "%%time\n",
    "# remove variety\n",
    "graph.run(\"\"\"MATCH (v:Variety) DETACH DELETE v\"\"\")\n",
    "# graph.run(\"\"\"MATCH (v:VarietyName) DETACH DELETE v\"\"\")"
   ]
  },
  {
   "cell_type": "markdown",
   "metadata": {},
   "source": [
    "**create nodes and relationsips from a list, loaded from a csv**  "
   ]
  },
  {
   "cell_type": "code",
   "execution_count": 46,
   "metadata": {},
   "outputs": [
    {
     "name": "stdout",
     "output_type": "stream",
     "text": [
      "CPU times: user 0 ns, sys: 3.69 ms, total: 3.69 ms\n",
      "Wall time: 18.1 s\n"
     ]
    },
    {
     "data": {
      "text/plain": [
       "<py2neo.database.Cursor at 0x7f27cedc5400>"
      ]
     },
     "execution_count": 46,
     "metadata": {},
     "output_type": "execute_result"
    }
   ],
   "source": [
    "%%time\n",
    "# create wine, variety and relationships\n",
    "query = \"\"\"\n",
    "USING PERIODIC COMMIT 1000\n",
    "LOAD CSV WITH HEADERS FROM 'file:///\"\"\"+file+\"\"\"' AS line FIELDTERMINATOR ','\n",
    "UNWIND apoc.text.split(line.variety_name, \",\") AS varnamelist\n",
    "FOREACH (varname IN varnamelist|\n",
    " MERGE (vn:VarietyName {name:apoc.text.clean(varname)})\n",
    " MERGE (v:Variety {name:line.variety})\n",
    " MERGE (w:Wine {name:line.title})\n",
    " MERGE (w)-[:HAS_VARIETY]->(v)\n",
    " MERGE (vn)-[:IS_COMPONENT_OF]->(v)\n",
    " )\n",
    "\"\"\"\n",
    "graph.run(query)"
   ]
  },
  {
   "cell_type": "code",
   "execution_count": null,
   "metadata": {},
   "outputs": [],
   "source": []
  },
  {
   "cell_type": "code",
   "execution_count": null,
   "metadata": {},
   "outputs": [],
   "source": []
  },
  {
   "cell_type": "code",
   "execution_count": null,
   "metadata": {},
   "outputs": [],
   "source": []
  }
 ],
 "metadata": {
  "kernelspec": {
   "display_name": "py38_neo4j",
   "language": "python",
   "name": "conda-env-py38_neo4j-py"
  },
  "language_info": {
   "codemirror_mode": {
    "name": "ipython",
    "version": 3
   },
   "file_extension": ".py",
   "mimetype": "text/x-python",
   "name": "python",
   "nbconvert_exporter": "python",
   "pygments_lexer": "ipython3",
   "version": "3.8.6"
  }
 },
 "nbformat": 4,
 "nbformat_minor": 4
}
