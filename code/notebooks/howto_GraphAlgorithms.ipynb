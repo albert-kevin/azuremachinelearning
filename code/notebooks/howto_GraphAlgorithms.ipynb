{
 "cells": [
  {
   "cell_type": "markdown",
   "id": "intermediate-fancy",
   "metadata": {},
   "source": [
    "Author: Kevin ALBERT  \n",
    "\n",
    "Created: May 2021 (Updated: 1 May 2021)\n",
    "\n",
    "TestRun: 1 May 2021"
   ]
  },
  {
   "cell_type": "markdown",
   "id": "seven-kelly",
   "metadata": {},
   "source": [
    "# Graph Algorithms\n",
    "_**How to analyse graph networks, understand structure and enrich data to improve machine learning model predictions using Neo4j**_  \n",
    "\n",
    "1. [UNDERSTAND](#Understand-Algorithms)  \n",
    "1. [DEMONSTRATE](#Demonstrate-Algorithms)  \n",
    "1. [SOURCES](#Source-Documentation)  "
   ]
  },
  {
   "cell_type": "markdown",
   "id": "roman-grocery",
   "metadata": {},
   "source": [
    "## Understand Algorithms "
   ]
  },
  {
   "cell_type": "code",
   "execution_count": null,
   "id": "protective-highway",
   "metadata": {},
   "outputs": [],
   "source": []
  },
  {
   "cell_type": "code",
   "execution_count": null,
   "id": "modular-enhancement",
   "metadata": {},
   "outputs": [],
   "source": []
  },
  {
   "cell_type": "code",
   "execution_count": null,
   "id": "indoor-interval",
   "metadata": {},
   "outputs": [],
   "source": []
  },
  {
   "cell_type": "code",
   "execution_count": null,
   "id": "flying-nevada",
   "metadata": {},
   "outputs": [],
   "source": []
  },
  {
   "cell_type": "code",
   "execution_count": null,
   "id": "endangered-accent",
   "metadata": {},
   "outputs": [],
   "source": []
  },
  {
   "cell_type": "code",
   "execution_count": null,
   "id": "configured-leonard",
   "metadata": {},
   "outputs": [],
   "source": []
  },
  {
   "cell_type": "code",
   "execution_count": null,
   "id": "nutritional-light",
   "metadata": {},
   "outputs": [],
   "source": []
  },
  {
   "cell_type": "code",
   "execution_count": null,
   "id": "healthy-regression",
   "metadata": {},
   "outputs": [],
   "source": []
  },
  {
   "cell_type": "code",
   "execution_count": null,
   "id": "synthetic-matrix",
   "metadata": {},
   "outputs": [],
   "source": []
  },
  {
   "cell_type": "code",
   "execution_count": null,
   "id": "confirmed-brisbane",
   "metadata": {},
   "outputs": [],
   "source": []
  },
  {
   "cell_type": "code",
   "execution_count": null,
   "id": "every-photographer",
   "metadata": {},
   "outputs": [],
   "source": []
  },
  {
   "cell_type": "markdown",
   "id": "final-divide",
   "metadata": {},
   "source": [
    "## Source Documentation\n",
    "\n",
    "youtube video (Jennifer Reif): _**[Graph Algorithms: Predict Real-World Behavior](https://www.youtube.com/watch?v=dlL7WRFskTg)**_  \n",
    "youtube video (jengolbeck): _**[Network Structure](https://www.youtube.com/watch?v=89mxOdwPfxA)**_  \n",
    "youtube video (Amy Hodler): _**[Predicting Influence and Communities Using Graph Algorithms](https://www.youtube.com/watch?v=MTnozZ5Cy0E)**_  \n",
    "udemy quiz (Cristian Scutaru): _**[Neo4j Graph Data Science Certified: Practice Exams](https://www.udemy.com/course/neo4j-graph-data-science-certified/learn/quiz/5195820)**_  \n",
    "blog graph algorithms (Cristian Scutaru): _**[Graphs](https://data-xtractor.com/blog/category/graphs/)**_  \n",
    "medium blog article (Dan McCreary): _**[Understanding Graph Embeddings](https://dmccreary.medium.com/understanding-graph-embeddings-79342921a97f)**_  \n",
    "youtube video (Lju Lazarevic): _**[Graph Embeddings with the Graph Data Science Library](https://www.youtube.com/watch?v=APOGvq7P2gY)**_  \n",
    "youtube video (Will Lyon): _**[Graph Data Science with Neo4j Graph Algorithms](https://www.youtube.com/watch?v=sA3EY5Hq6-E)**_  \n",
    "youtube video (Joe Roemer): _**[Improving Patient Outcomes with Graph Algorithms](https://www.youtube.com/watch?v=6gAFnrWQ4kk)**_  \n",
    "graph algorithm developer guide (neo4j docs): _**[Neo4j Graph Algorithms](https://neo4j.com/developer/graph-data-science/graph-algorithms/)**_  \n",
    "graph algorithm library manual (neo4j docs): _**[Algorithms](https://neo4j.com/developer/graph-data-science/graph-algorithms/)**_  \n",
    "neo4j online course (graph academy): _**[Introduction to Graph Algorithms in Neo4j 4.x](https://neo4j.com/graphacademy/training-iga-40/enrollment/)**_  \n",
    "neo4j tutorial (neo4j docs): _**[Tutorial: Applied Graph Embeddings](https://neo4j.com/developer/graph-data-science/applied-graph-embeddings/)**_  \n",
    "social network analysis with SAS (Véronique Van Vlasselaer): _**bootcamp private 1 day course at Digityser Brussels**_  \n",
    "workshop data science ML (neo4j): _**bootcamp private 1 day workshop at Digityser Brussels**_  "
   ]
  }
 ],
 "metadata": {
  "kernelspec": {
   "display_name": "py38_neo4j",
   "language": "python",
   "name": "conda-env-py38_neo4j-py"
  },
  "language_info": {
   "codemirror_mode": {
    "name": "ipython",
    "version": 3
   },
   "file_extension": ".py",
   "mimetype": "text/x-python",
   "name": "python",
   "nbconvert_exporter": "python",
   "pygments_lexer": "ipython3",
   "version": "3.8.8"
  }
 },
 "nbformat": 4,
 "nbformat_minor": 5
}
