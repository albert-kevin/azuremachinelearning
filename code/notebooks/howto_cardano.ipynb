{
 "cells": [
  {
   "cell_type": "code",
   "execution_count": null,
   "id": "f17fe9e2",
   "metadata": {},
   "outputs": [],
   "source": [
    "# ubuntu server with +8GB mem, +20GB disk (first sync is CPU intensive)\n",
    "# open a putty session with ubuntu server\n",
    "# download, install and run the cardano-wallet backend node using docker\n",
    "# wget https://github.com/input-output-hk/cardano-wallet/raw/master/docker-compose.yml\n",
    "# NETWORK=mainnet docker-compose up -d"
   ]
  },
  {
   "cell_type": "code",
   "execution_count": 1,
   "id": "cfd9ffd8",
   "metadata": {},
   "outputs": [],
   "source": [
    "import requests"
   ]
  },
  {
   "cell_type": "code",
   "execution_count": 2,
   "id": "2645d938",
   "metadata": {},
   "outputs": [
    {
     "data": {
      "text/plain": [
       "<Response [200]>"
      ]
     },
     "execution_count": 2,
     "metadata": {},
     "output_type": "execute_result"
    }
   ],
   "source": [
    "requests.get('http://localhost:8090/v2/network/information')"
   ]
  },
  {
   "cell_type": "code",
   "execution_count": 5,
   "id": "26e52226",
   "metadata": {},
   "outputs": [
    {
     "data": {
      "text/plain": [
       "'{\"node_era\":\"byron\",\"node_tip\":{\"height\":{\"quantity\":530244,\"unit\":\"block\"},\"time\":\"2018-01-24T15:54:31Z\",\"epoch_number\":24,\"absolute_slot_number\":530309,\"slot_number\":11909},\"sync_progress\":{\"status\":\"syncing\",\"progress\":{\"quantity\":8.27,\"unit\":\"percent\"}}}'"
      ]
     },
     "execution_count": 5,
     "metadata": {},
     "output_type": "execute_result"
    }
   ],
   "source": [
    "# wait for the node status:ready (finish syncing the blockchain...)\n",
    "requests.get('http://localhost:8090/v2/network/information').text"
   ]
  },
  {
   "cell_type": "code",
   "execution_count": 7,
   "id": "da7b3964",
   "metadata": {},
   "outputs": [
    {
     "data": {
      "text/plain": [
       "'[]'"
      ]
     },
     "execution_count": 7,
     "metadata": {},
     "output_type": "execute_result"
    }
   ],
   "source": [
    "# check on the API if a wallet already exist on this server, [] means empty\n",
    "# https://input-output-hk.github.io/cardano-wallet/api/edge/#operation/getWallet\n",
    "requests.get('http://localhost:8090/v2/wallets').text"
   ]
  },
  {
   "cell_type": "code",
   "execution_count": 8,
   "id": "bc536536",
   "metadata": {},
   "outputs": [
    {
     "data": {
      "text/plain": [
       "'{\"passphrase\":{\"last_updated_at\":\"2021-10-17T17:11:47.341645525Z\"},\"address_pool_gap\":20,\"state\":{\"status\":\"syncing\",\"progress\":{\"quantity\":0,\"unit\":\"percent\"}},\"balance\":{\"reward\":{\"quantity\":0,\"unit\":\"lovelace\"},\"total\":{\"quantity\":0,\"unit\":\"lovelace\"},\"available\":{\"quantity\":0,\"unit\":\"lovelace\"}},\"name\":\"Kevin\\'s wallet\",\"delegation\":{\"next\":[],\"active\":{\"status\":\"not_delegating\"}},\"id\":\"34d88843c44eb8b13a0f03a3ef387fa3b5e8733c\",\"tip\":{\"height\":{\"quantity\":0,\"unit\":\"block\"},\"time\":\"2017-09-23T21:44:51Z\",\"epoch_number\":0,\"absolute_slot_number\":0,\"slot_number\":0},\"assets\":{\"total\":[],\"available\":[]}}'"
      ]
     },
     "execution_count": 8,
     "metadata": {},
     "output_type": "execute_result"
    }
   ],
   "source": [
    "# create a new wallet with the API\n",
    "# https://input-output-hk.github.io/cardano-wallet/api/edge/#operation/postWallet\n",
    "# the mnemonic words is the private seed secret \n",
    "requests.post('http://localhost:8090/v2/wallets', json={\"name\":\"Kevin's wallet\", \"mnemonic_sentence\":[\"pride\",\"assault\",\"husband\",\"ball\",\"convince\",\"canvas\",\"mind\",\"crane\",\"nurse\",\"feel\",\"tongue\",\"pride\",\"scrap\",\"inflict\",\"split\",\"antenna\",\"slight\",\"foster\",\"piano\",\"carpet\",\"ranch\",\"unveil\",\"believe\",\"black\"], \"passphrase\":\"ABCD1234abcd\", \"address_pool_gap\":20}).text"
   ]
  },
  {
   "cell_type": "code",
   "execution_count": 11,
   "id": "06279f28",
   "metadata": {},
   "outputs": [
    {
     "data": {
      "text/plain": [
       "'[{\"passphrase\":{\"last_updated_at\":\"2021-10-17T17:11:47.341645525Z\"},\"address_pool_gap\":20,\"state\":{\"status\":\"syncing\",\"progress\":{\"quantity\":24.98,\"unit\":\"percent\"}},\"balance\":{\"reward\":{\"quantity\":0,\"unit\":\"lovelace\"},\"total\":{\"quantity\":0,\"unit\":\"lovelace\"},\"available\":{\"quantity\":0,\"unit\":\"lovelace\"}},\"name\":\"Kevin\\'s wallet\",\"delegation\":{\"next\":[],\"active\":{\"status\":\"not_delegating\"}},\"id\":\"34d88843c44eb8b13a0f03a3ef387fa3b5e8733c\",\"tip\":{\"height\":{\"quantity\":1601885,\"unit\":\"block\"},\"time\":\"2018-09-29T19:04:31Z\",\"epoch_number\":74,\"absolute_slot_number\":1602239,\"slot_number\":3839},\"assets\":{\"total\":[],\"available\":[]}}]'"
      ]
     },
     "execution_count": 11,
     "metadata": {},
     "output_type": "execute_result"
    }
   ],
   "source": [
    "# check wallets\n",
    "# https://input-output-hk.github.io/cardano-wallet/api/edge/#operation/getWallet\n",
    "requests.get('http://localhost:8090/v2/wallets').text"
   ]
  },
  {
   "cell_type": "code",
   "execution_count": null,
   "id": "48f20b76",
   "metadata": {},
   "outputs": [],
   "source": [
    "# grab the wallet \"id\":\"34d88843c44eb8b13a0f03a3ef387fa3b5e8733c\""
   ]
  },
  {
   "cell_type": "code",
   "execution_count": 2,
   "id": "89e18cd3",
   "metadata": {},
   "outputs": [],
   "source": [
    "import json"
   ]
  },
  {
   "cell_type": "code",
   "execution_count": 13,
   "id": "7a9aa3a0",
   "metadata": {},
   "outputs": [
    {
     "data": {
      "text/plain": [
       "'[{\"state\":\"unused\",\"id\":\"addr1qx0303ays44x6u6c3v5uyn448xxmts0qahwhs5tgd9h6fvducnhmu76m8kpkr24jwzc95emzqq89dzgnupg6v0947uhsek6skv\",\"derivation_path\":[\"1852H\",\"1815H\",\"0H\",\"0\",\"0\"]},{\"state\":\"unused\",\"id\":\"addr1q9dsnjj2ryz55ykq9kwp48hvx4cfqtfszna3lqnuzj29feaucnhmu76m8kpkr24jwzc95emzqq89dzgnupg6v0947uhs20wk26\",\"derivation_path\":[\"1852H\",\"1815H\",\"0H\",\"0\",\"1\"]},{\"state\":\"unused\",\"id\":\"addr1q8sazmfqsad2hm4j3052dj4rhlh8jn7ft2yy8z8m85al8lducnhmu76m8kpkr24jwzc95emzqq89dzgnupg6v0947uhsy40dr5\",\"derivation_path\":[\"1852H\",\"1815H\",\"0H\",\"0\",\"2\"]},{\"state\":\"unused\",\"id\":\"addr1q95k6rp7jyp0zhdm240v2rsnmgewnxhy57h8ky3aaduw0s4ucnhmu76m8kpkr24jwzc95emzqq89dzgnupg6v0947uhss2rly5\",\"derivation_path\":[\"1852H\",\"1815H\",\"0H\",\"0\",\"3\"]},{\"state\":\"unused\",\"id\":\"addr1qxfht2ar6fydjf0n27ccc796zmqmqk244mmpvp06ww95uf4ucnhmu76m8kpkr24jwzc95emzqq89dzgnupg6v0947uhs8zp0as\",\"derivation_path\":[\"1852H\",\"1815H\",\"0H\",\"0\",\"4\"]},{\"state\":\"unused\",\"id\":\"addr1qym3t8e9462k7mvhargrxs0hn2dn3kpwdrt5kz3tr6d7cc4ucnhmu76m8kpkr24jwzc95emzqq89dzgnupg6v0947uhs0e4tj8\",\"derivation_path\":[\"1852H\",\"1815H\",\"0H\",\"0\",\"5\"]},{\"state\":\"unused\",\"id\":\"addr1qxsdtlt6ajdf4p3h6nzpddx3zqxw7l4dvt375tdc5995yp9ucnhmu76m8kpkr24jwzc95emzqq89dzgnupg6v0947uhs0ptpt0\",\"derivation_path\":[\"1852H\",\"1815H\",\"0H\",\"0\",\"6\"]},{\"state\":\"unused\",\"id\":\"addr1qyspsxphz2gxsjp6z6fvtxlyh6dprsavk4j0gmwyj0ac9u9ucnhmu76m8kpkr24jwzc95emzqq89dzgnupg6v0947uhsrqjtn5\",\"derivation_path\":[\"1852H\",\"1815H\",\"0H\",\"0\",\"7\"]},{\"state\":\"unused\",\"id\":\"addr1qyhsah6rqpu55fn37604sdtsqppdc5xetuyxmhzfz8pzl04ucnhmu76m8kpkr24jwzc95emzqq89dzgnupg6v0947uhswgsf0s\",\"derivation_path\":[\"1852H\",\"1815H\",\"0H\",\"0\",\"8\"]},{\"state\":\"unused\",\"id\":\"addr1q9wuztf3uglwz78ukhrunt8mpr73uuz2l8pxdrxjkdkugkaucnhmu76m8kpkr24jwzc95emzqq89dzgnupg6v0947uhsufw6vz\",\"derivation_path\":[\"1852H\",\"1815H\",\"0H\",\"0\",\"9\"]},{\"state\":\"unused\",\"id\":\"addr1q883rm738wkp93p47wtcgescy33ujxd2n29pdg66njuma74ucnhmu76m8kpkr24jwzc95emzqq89dzgnupg6v0947uhsnaezxd\",\"derivation_path\":[\"1852H\",\"1815H\",\"0H\",\"0\",\"10\"]},{\"state\":\"unused\",\"id\":\"addr1qxjequtttyycj6d930jafg4ff8lzlg2ndva4e7j0n987spducnhmu76m8kpkr24jwzc95emzqq89dzgnupg6v0947uhscf9j2g\",\"derivation_path\":[\"1852H\",\"1815H\",\"0H\",\"0\",\"11\"]},{\"state\":\"unused\",\"id\":\"addr1q9xnf5jlwk22r0qkp5569kmwsx2dzz6c5h6tfgqanxe3vlducnhmu76m8kpkr24jwzc95emzqq89dzgnupg6v0947uhsjzsvha\",\"derivation_path\":[\"1852H\",\"1815H\",\"0H\",\"0\",\"12\"]},{\"state\":\"unused\",\"id\":\"addr1q8u5cwp0sktennkeufdhy0wzdr4s2ezshpn3vasfmvsmxz4ucnhmu76m8kpkr24jwzc95emzqq89dzgnupg6v0947uhsasqegy\",\"derivation_path\":[\"1852H\",\"1815H\",\"0H\",\"0\",\"13\"]},{\"state\":\"unused\",\"id\":\"addr1qx5udd6qdcl6lxv5j3clt20lcs9qej7lnmdnr3ygcvkqslaucnhmu76m8kpkr24jwzc95emzqq89dzgnupg6v0947uhswt3awl\",\"derivation_path\":[\"1852H\",\"1815H\",\"0H\",\"0\",\"14\"]},{\"state\":\"unused\",\"id\":\"addr1qyma9thsz9v43wpqx0a833wrf52dt5kwdkrjxw970mya5d9ucnhmu76m8kpkr24jwzc95emzqq89dzgnupg6v0947uhsajpsnh\",\"derivation_path\":[\"1852H\",\"1815H\",\"0H\",\"0\",\"15\"]},{\"state\":\"unused\",\"id\":\"addr1qyduddrpm64fdr82ljhlutv5w4ndea4qm9sclw7nnt9e2taucnhmu76m8kpkr24jwzc95emzqq89dzgnupg6v0947uhsrtx9an\",\"derivation_path\":[\"1852H\",\"1815H\",\"0H\",\"0\",\"16\"]},{\"state\":\"unused\",\"id\":\"addr1q9793xy9zpzdwngsyspeel9fkr2ss4j3lz0j2snpcr7ckjducnhmu76m8kpkr24jwzc95emzqq89dzgnupg6v0947uhsg9vge8\",\"derivation_path\":[\"1852H\",\"1815H\",\"0H\",\"0\",\"17\"]},{\"state\":\"unused\",\"id\":\"addr1qxx8trmfpx4t344uejuvev5tuprwtsgmv7msvn8a6payaqducnhmu76m8kpkr24jwzc95emzqq89dzgnupg6v0947uhs5j94ng\",\"derivation_path\":[\"1852H\",\"1815H\",\"0H\",\"0\",\"18\"]},{\"state\":\"unused\",\"id\":\"addr1qymvpc6sa5pw40fs50ml5n9q9njj2pecs2l2cz02n7u2hraucnhmu76m8kpkr24jwzc95emzqq89dzgnupg6v0947uhsklt3w4\",\"derivation_path\":[\"1852H\",\"1815H\",\"0H\",\"0\",\"19\"]}]'"
      ]
     },
     "execution_count": 13,
     "metadata": {},
     "output_type": "execute_result"
    }
   ],
   "source": [
    "# show a list of known addresses, ordered from newest to oldest generated from our main wallet id\n",
    "# https://input-output-hk.github.io/cardano-wallet/api/edge/#tag/Addresses\n",
    "requests.get('http://localhost:8090/v2/wallets/34d88843c44eb8b13a0f03a3ef387fa3b5e8733c/addresses').text"
   ]
  },
  {
   "cell_type": "code",
   "execution_count": 14,
   "id": "2f66088a",
   "metadata": {},
   "outputs": [],
   "source": [
    "# transfer any amount of ADA from mainnet to this address picked from the list above:\n",
    "# addr1qx0303ays44x6u6c3v5uyn448xxmts0qahwhs5tgd9h6fvducnhmu76m8kpkr24jwzc95emzqq89dzgnupg6v0947uhsek6skv\n",
    "\n",
    "# using Daedalus or Yoroi or any other wallet I just send 3 ADA... (-0.8 fee) = 2.2 ADA\n",
    "# wait for all systems to be synced... ~24 hours"
   ]
  },
  {
   "cell_type": "markdown",
   "id": "d86cf151",
   "metadata": {},
   "source": [
    "vanaf hier verder gaan morgen"
   ]
  },
  {
   "cell_type": "code",
   "execution_count": 9,
   "id": "7602791a",
   "metadata": {},
   "outputs": [
    {
     "data": {
      "text/plain": [
       "'[{\"passphrase\":{\"last_updated_at\":\"2021-10-17T17:11:47.341645525Z\"},\"address_pool_gap\":20,\"state\":{\"status\":\"ready\"},\"balance\":{\"reward\":{\"quantity\":0,\"unit\":\"lovelace\"},\"total\":{\"quantity\":2200000,\"unit\":\"lovelace\"},\"available\":{\"quantity\":2200000,\"unit\":\"lovelace\"}},\"name\":\"Kevin\\'s wallet\",\"delegation\":{\"next\":[],\"active\":{\"status\":\"not_delegating\"}},\"id\":\"34d88843c44eb8b13a0f03a3ef387fa3b5e8733c\",\"tip\":{\"height\":{\"quantity\":6386269,\"unit\":\"block\"},\"time\":\"2021-10-18T10:20:45Z\",\"epoch_number\":297,\"absolute_slot_number\":42986154,\"slot_number\":45354},\"assets\":{\"total\":[],\"available\":[]}}]'"
      ]
     },
     "execution_count": 9,
     "metadata": {},
     "output_type": "execute_result"
    }
   ],
   "source": [
    "# check available quantity 2200000 lovelace\n",
    "# check wallets\n",
    "# https://input-output-hk.github.io/cardano-wallet/api/edge/#operation/getWallet\n",
    "requests.get('http://localhost:8090/v2/wallets').text"
   ]
  },
  {
   "cell_type": "code",
   "execution_count": 13,
   "id": "57c31417",
   "metadata": {},
   "outputs": [
    {
     "data": {
      "text/plain": [
       "'{\"estimated_min\":{\"quantity\":168405,\"unit\":\"lovelace\"},\"deposit\":{\"quantity\":0,\"unit\":\"lovelace\"},\"minimum_coins\":[{\"quantity\":999978,\"unit\":\"lovelace\"}],\"estimated_max\":{\"quantity\":168405,\"unit\":\"lovelace\"}}'"
      ]
     },
     "execution_count": 13,
     "metadata": {},
     "output_type": "execute_result"
    }
   ],
   "source": [
    "# check transaction fee (estimation value)\n",
    "# thi only workes if the blockchain is in sync and the funds are available\n",
    "# https://input-output-hk.github.io/cardano-wallet/api/edge/#operation/postTransactionFee\n",
    "# 1 ADA = 1.000.000 lovelace\n",
    "transaction_data = {\"passphrase\":\"ABCD1234abcd\", \"payments\":[{\"address\":\"Ae2tdPwUPEZMgbgGHr4tM6pV6DSwdjNzVon16Qr6YSGeQW6xnmqbwXfh3o7\", \"amount\":{\"quantity\":2200000, \"unit\":\"lovelace\"}}]}\n",
    "requests.post('http://localhost:8090/v2/wallets/34d88843c44eb8b13a0f03a3ef387fa3b5e8733c/payment-fees', json=transaction_data).text"
   ]
  },
  {
   "cell_type": "code",
   "execution_count": 14,
   "id": "79350a0c",
   "metadata": {},
   "outputs": [
    {
     "data": {
      "text/plain": [
       "2031595"
      ]
     },
     "execution_count": 14,
     "metadata": {},
     "output_type": "execute_result"
    }
   ],
   "source": [
    "# execute transaction to another wallet (return the funds exercise)\n",
    "# fill in the fee that was calculated, then calculate the remaining amount to send available\n",
    "fee = 168405\n",
    "quantity = 2200000 - fee\n",
    "quantity"
   ]
  },
  {
   "cell_type": "code",
   "execution_count": 16,
   "id": "2d2194b2",
   "metadata": {},
   "outputs": [
    {
     "data": {
      "text/plain": [
       "'{\"status\":\"pending\",\"withdrawals\":[],\"amount\":{\"quantity\":2200000,\"unit\":\"lovelace\"},\"inputs\":[{\"amount\":{\"quantity\":2200000,\"unit\":\"lovelace\"},\"address\":\"addr1qx0303ays44x6u6c3v5uyn448xxmts0qahwhs5tgd9h6fvducnhmu76m8kpkr24jwzc95emzqq89dzgnupg6v0947uhsek6skv\",\"id\":\"94c08d753539cd17865b9d429718cf80fb9dc49251a628931a1b31750651a580\",\"assets\":[],\"index\":2}],\"direction\":\"outgoing\",\"fee\":{\"quantity\":168405,\"unit\":\"lovelace\"},\"outputs\":[{\"amount\":{\"quantity\":2031595,\"unit\":\"lovelace\"},\"address\":\"Ae2tdPwUPEZMgbgGHr4tM6pV6DSwdjNzVon16Qr6YSGeQW6xnmqbwXfh3o7\",\"assets\":[]}],\"script_validity\":\"valid\",\"expires_at\":{\"time\":\"2021-10-18T12:32:39Z\",\"epoch_number\":297,\"absolute_slot_number\":42994068,\"slot_number\":53268},\"pending_since\":{\"height\":{\"quantity\":6386312,\"unit\":\"block\"},\"time\":\"2021-10-18T10:32:27Z\",\"epoch_number\":297,\"absolute_slot_number\":42986856,\"slot_number\":46056},\"metadata\":null,\"id\":\"a61810a8f9ad2253b753b30dcdd03b4c6759156b7eaa5bf0db2d194ab9a7b915\",\"deposit\":{\"quantity\":0,\"unit\":\"lovelace\"},\"collateral\":[],\"mint\":[]}'"
      ]
     },
     "execution_count": 16,
     "metadata": {},
     "output_type": "execute_result"
    }
   ],
   "source": [
    "# send transaction from the wallet\n",
    "# https://input-output-hk.github.io/cardano-wallet/api/edge/#operation/postTransaction\n",
    "transaction_data = {\"passphrase\":\"ABCD1234abcd\", \"payments\":[{\"address\":\"Ae2tdPwUPEZMgbgGHr4tM6pV6DSwdjNzVon16Qr6YSGeQW6xnmqbwXfh3o7\", \"amount\":{\"quantity\":quantity, \"unit\":\"lovelace\"}}]}\n",
    "requests.post('http://localhost:8090/v2/wallets/34d88843c44eb8b13a0f03a3ef387fa3b5e8733c/transactions', json=transaction_data).text"
   ]
  },
  {
   "cell_type": "code",
   "execution_count": 17,
   "id": "4603ddcc",
   "metadata": {},
   "outputs": [
    {
     "data": {
      "text/plain": [
       "'[{\"passphrase\":{\"last_updated_at\":\"2021-10-17T17:11:47.341645525Z\"},\"address_pool_gap\":20,\"state\":{\"status\":\"ready\"},\"balance\":{\"reward\":{\"quantity\":0,\"unit\":\"lovelace\"},\"total\":{\"quantity\":0,\"unit\":\"lovelace\"},\"available\":{\"quantity\":0,\"unit\":\"lovelace\"}},\"name\":\"Kevin\\'s wallet\",\"delegation\":{\"next\":[],\"active\":{\"status\":\"not_delegating\"}},\"id\":\"34d88843c44eb8b13a0f03a3ef387fa3b5e8733c\",\"tip\":{\"height\":{\"quantity\":6386316,\"unit\":\"block\"},\"time\":\"2021-10-18T10:33:42Z\",\"epoch_number\":297,\"absolute_slot_number\":42986931,\"slot_number\":46131},\"assets\":{\"total\":[],\"available\":[]}}]'"
      ]
     },
     "execution_count": 17,
     "metadata": {},
     "output_type": "execute_result"
    }
   ],
   "source": [
    "# check to see the available balance to be 0 lovelace if success in sending away all ADA\n",
    "# check wallets\n",
    "# https://input-output-hk.github.io/cardano-wallet/api/edge/#operation/getWallet\n",
    "requests.get('http://localhost:8090/v2/wallets').text"
   ]
  },
  {
   "cell_type": "markdown",
   "id": "7de21196",
   "metadata": {},
   "source": [
    "work this example all over using this library"
   ]
  },
  {
   "cell_type": "code",
   "execution_count": null,
   "id": "e906fcbc",
   "metadata": {},
   "outputs": [],
   "source": [
    "# you could replace all of this with this tool\n",
    "# https://cardano-python.readthedocs.io/en/latest/wallet.html#creating-wallets"
   ]
  },
  {
   "cell_type": "code",
   "execution_count": null,
   "id": "35ceaa09",
   "metadata": {},
   "outputs": [],
   "source": []
  },
  {
   "cell_type": "code",
   "execution_count": null,
   "id": "d4dde0ee",
   "metadata": {},
   "outputs": [],
   "source": []
  },
  {
   "cell_type": "code",
   "execution_count": null,
   "id": "31e5dfee",
   "metadata": {},
   "outputs": [],
   "source": []
  },
  {
   "cell_type": "code",
   "execution_count": null,
   "id": "0520f6fb",
   "metadata": {},
   "outputs": [],
   "source": []
  },
  {
   "cell_type": "code",
   "execution_count": null,
   "id": "83b7022f",
   "metadata": {},
   "outputs": [],
   "source": []
  },
  {
   "cell_type": "code",
   "execution_count": null,
   "id": "6e0cf40c",
   "metadata": {},
   "outputs": [],
   "source": []
  }
 ],
 "metadata": {
  "kernelspec": {
   "display_name": "py38_datareport",
   "language": "python",
   "name": "conda-env-py38_datareport-py"
  },
  "language_info": {
   "codemirror_mode": {
    "name": "ipython",
    "version": 3
   },
   "file_extension": ".py",
   "mimetype": "text/x-python",
   "name": "python",
   "nbconvert_exporter": "python",
   "pygments_lexer": "ipython3",
   "version": "3.8.10"
  }
 },
 "nbformat": 4,
 "nbformat_minor": 5
}
