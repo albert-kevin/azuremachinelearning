{
 "cells": [
  {
   "cell_type": "markdown",
   "id": "b283f9f6",
   "metadata": {},
   "source": [
    "Author: Kevin ALBERT  \n",
    "\n",
    "Created: October 2021"
   ]
  },
  {
   "cell_type": "code",
   "execution_count": 1,
   "id": "b6ad272b",
   "metadata": {},
   "outputs": [
    {
     "name": "stdout",
     "output_type": "stream",
     "text": [
      "Last testrun on: 21 Oct 2021\n"
     ]
    }
   ],
   "source": [
    "import datetime, time\n",
    "print ('Last testrun on: ' + datetime.datetime.now().strftime(\"%d %b %Y\"))"
   ]
  },
  {
   "cell_type": "markdown",
   "id": "26ee1860",
   "metadata": {},
   "source": [
    "# Cardano\n",
    "_**how to use tools for interacting with the Cardano blockchain platform using Python**_  \n",
    "\n",
    "## Contents  \n",
    "  * [example with REST protocol](#REST-protocol-example)\n",
    "  * [example with python module](#Python-module-example)"
   ]
  },
  {
   "cell_type": "markdown",
   "id": "469f5292",
   "metadata": {},
   "source": [
    "### setup\n",
    "\n",
    "```bash\n",
    "mkdir ~/notebooks/cardano\n",
    "cd ~/notebooks/cardano\n",
    "wget https://github.com/input-output-hk/cardano-wallet/raw/master/docker-compose.yml\n",
    "\n",
    "# download, install and run the cardano-wallet backend node using docker (autorestart enabled)\n",
    "NETWORK=mainnet docker-compose up -d\n",
    "\n",
    "# init sync blockchain, CPU intensive, +7GB mem, +30GB, wait +12h sync_progress\n",
    "curl http://localhost:8090/v2/network/information\n",
    "curl http://20.86.118.190:8090/v2/network/information # (optional: open port 8090)\n",
    "\n",
    "# if you want to stop all cardano backend services (preserve data)\n",
    "NETWORK=mainnet docker-compose down\n",
    "```"
   ]
  },
  {
   "cell_type": "markdown",
   "id": "658367da",
   "metadata": {},
   "source": [
    "### install"
   ]
  },
  {
   "cell_type": "code",
   "execution_count": null,
   "id": "82da0244",
   "metadata": {},
   "outputs": [],
   "source": [
    "!pip install cardano qrcode pillow psutil"
   ]
  },
  {
   "cell_type": "markdown",
   "id": "103a7a8c",
   "metadata": {},
   "source": [
    "### import"
   ]
  },
  {
   "cell_type": "code",
   "execution_count": 2,
   "id": "dfec852d",
   "metadata": {},
   "outputs": [],
   "source": [
    "# http method\n",
    "import requests\n",
    "import json\n",
    "\n",
    "# cardano method\n",
    "from cardano.wallet import Wallet\n",
    "from cardano.wallet import WalletService\n",
    "from cardano.backends.walletrest import WalletREST\n",
    "\n",
    "# operating system packages\n",
    "import platform\n",
    "import psutil\n",
    "import os\n",
    "\n",
    "# QR code\n",
    "import qrcode\n",
    "\n",
    "# other\n",
    "import time"
   ]
  },
  {
   "cell_type": "markdown",
   "id": "3c581d73",
   "metadata": {},
   "source": [
    "### environment"
   ]
  },
  {
   "cell_type": "code",
   "execution_count": 3,
   "id": "95e8971e",
   "metadata": {},
   "outputs": [
    {
     "name": "stdout",
     "output_type": "stream",
     "text": [
      "Cores : 2 (3GHz)\n",
      "Memory: 15.64 GB (70.8%)\n",
      "Swap  : 8 GB\n",
      "Disk  : 145 GB (82.3% ext4)\n",
      "System: 18.04.1-Ubuntu\n"
     ]
    }
   ],
   "source": [
    "print(f\"Cores : {psutil.cpu_count(logical=True)} ({psutil.cpu_freq().current/1000:.0f}GHz)\")\n",
    "print(f\"Memory: {psutil.virtual_memory().total/(1024**3):.2f} GB ({psutil.virtual_memory().percent}%)\")\n",
    "print(f\"Swap  : {os.path.getsize('/swapfile')/(1024**3):.0f} GB\")\n",
    "disk_size = psutil.disk_usage(psutil.disk_partitions()[0].mountpoint).total\n",
    "disk_used = psutil.disk_usage(psutil.disk_partitions()[0].mountpoint).percent\n",
    "disk_fs   = psutil.disk_partitions()[0].fstype \n",
    "print(f\"Disk  : {disk_size/(1024**3):.0f} GB ({disk_used}% {disk_fs})\")\n",
    "print(f\"System: {platform.uname().version.split('~')[1].split()[0]}\")"
   ]
  },
  {
   "cell_type": "code",
   "execution_count": 4,
   "id": "366504c2",
   "metadata": {},
   "outputs": [
    {
     "name": "stdout",
     "output_type": "stream",
     "text": [
      "conda       : 4.10.1\n",
      "pip         : 21.1.2\n",
      "python      : 3.8.10\n",
      "cardano     : 0.7.3\n",
      "requests    : 2.25.1\n",
      "json        : 3.2.0\n",
      "qrcode      : 7.3.1\n",
      "pillow      : 8.2.0\n"
     ]
    }
   ],
   "source": [
    "# installed python modules\n",
    "conda_version = ! conda -V\n",
    "print(f\"conda       : {conda_version[0].split()[1]}\")\n",
    "pip_version = ! pip -V\n",
    "print(f\"pip         : {pip_version[0].split()[1]}\")\n",
    "python_version = ! python -V\n",
    "print(f\"python      : {python_version[0].split()[1]}\")\n",
    "cardano_version = ! pip list |grep -i cardano\n",
    "print(f\"cardano     : {cardano_version[0].split()[1]}\")\n",
    "requests_version = ! pip list |grep -i requests\n",
    "print(f\"requests    : {requests_version[0].split()[1]}\")\n",
    "json_version = ! pip list |grep -i json\n",
    "print(f\"json        : {json_version[0].split()[1]}\")\n",
    "qrcode_version = ! pip list |grep -ie \"^qrcode \"\n",
    "print(f\"qrcode      : {qrcode_version[0].split()[1]}\")\n",
    "pillow_version = ! pip list |grep -ie \"^pillow \"\n",
    "print(f\"pillow      : {pillow_version[0].split()[1]}\")"
   ]
  },
  {
   "cell_type": "markdown",
   "id": "d9e09c8d",
   "metadata": {},
   "source": [
    "## REST protocol example\n",
    "\n",
    "**documentation:**  \n",
    "  * [openAPI docs](https://input-output-hk.github.io/cardano-wallet/api/edge/)  \n",
    "  * [guide NAcrypto youtube](https://www.youtube.com/watch?v=wyZyopHP5hA)"
   ]
  },
  {
   "cell_type": "code",
   "execution_count": 5,
   "id": "5553a9a0",
   "metadata": {},
   "outputs": [
    {
     "data": {
      "text/plain": [
       "'{\"network_tip\":{\"time\":\"2021-10-21T14:58:55Z\",\"epoch_number\":297,\"absolute_slot_number\":43262044,\"slot_number\":321244},\"node_era\":\"alonzo\",\"node_tip\":{\"height\":{\"quantity\":6399738,\"unit\":\"block\"},\"time\":\"2021-10-21T14:58:48Z\",\"epoch_number\":297,\"absolute_slot_number\":43262037,\"slot_number\":321237},\"sync_progress\":{\"status\":\"ready\"},\"next_epoch\":{\"epoch_start_time\":\"2021-10-22T21:44:51Z\",\"epoch_number\":298}}'"
      ]
     },
     "execution_count": 5,
     "metadata": {},
     "output_type": "execute_result"
    }
   ],
   "source": [
    "# synchronization progress of the node\n",
    "# https://input-output-hk.github.io/cardano-wallet/api/edge/#operation/getNetworkInformation\n",
    "requests.get('http://localhost:8090/v2/network/information').text"
   ]
  },
  {
   "cell_type": "code",
   "execution_count": 6,
   "id": "119d456b",
   "metadata": {},
   "outputs": [],
   "source": [
    "# generated wallet with Daedalus or Yoroi (24-words private seed phrase)\n",
    "mnemonic_sentence = [\"pride\",\"assault\",\"husband\",\"ball\",\"convince\",\"canvas\",\n",
    "                     \"mind\",\"crane\",\"nurse\",\"feel\",\"tongue\",\"pride\",\n",
    "                     \"scrap\",\"inflict\",\"split\",\"antenna\",\"slight\",\"foster\",\n",
    "                     \"piano\",\"carpet\",\"ranch\",\"unveil\",\"believe\",\"black\"]\n",
    "\n",
    "# choose a name for the wallet\n",
    "wallet_name = \"a wallet name\"\n",
    "\n",
    "# spending password for the wallet\n",
    "passphrase = \"difficultpassword\""
   ]
  },
  {
   "cell_type": "code",
   "execution_count": 7,
   "id": "108fc4cf",
   "metadata": {},
   "outputs": [
    {
     "data": {
      "text/plain": [
       "'{\"passphrase\":{\"last_updated_at\":\"2021-10-21T14:59:04.006545724Z\"},\"address_pool_gap\":20,\"state\":{\"status\":\"syncing\",\"progress\":{\"quantity\":0,\"unit\":\"percent\"}},\"balance\":{\"reward\":{\"quantity\":0,\"unit\":\"lovelace\"},\"total\":{\"quantity\":0,\"unit\":\"lovelace\"},\"available\":{\"quantity\":0,\"unit\":\"lovelace\"}},\"name\":\"a wallet name\",\"delegation\":{\"next\":[],\"active\":{\"status\":\"not_delegating\"}},\"id\":\"34d88843c44eb8b13a0f03a3ef387fa3b5e8733c\",\"tip\":{\"height\":{\"quantity\":0,\"unit\":\"block\"},\"time\":\"2017-09-23T21:44:51Z\",\"epoch_number\":0,\"absolute_slot_number\":0,\"slot_number\":0},\"assets\":{\"total\":[],\"available\":[]}}'"
      ]
     },
     "execution_count": 7,
     "metadata": {},
     "output_type": "execute_result"
    }
   ],
   "source": [
    "# create and restore a wallet from a mnemonic sentence\n",
    "# https://input-output-hk.github.io/cardano-wallet/api/edge/#operation/postWallet\n",
    "requests.post(url='http://localhost:8090/v2/wallets',\n",
    "              json={\"name\":wallet_name,\n",
    "                    \"mnemonic_sentence\":mnemonic_sentence,\n",
    "                    \"passphrase\":passphrase,\n",
    "                    \"address_pool_gap\":20}).text"
   ]
  },
  {
   "cell_type": "code",
   "execution_count": 8,
   "id": "839bc9d7",
   "metadata": {},
   "outputs": [
    {
     "data": {
      "text/plain": [
       "'[{\"passphrase\":{\"last_updated_at\":\"2021-10-21T14:59:04.006545724Z\"},\"address_pool_gap\":20,\"state\":{\"status\":\"syncing\",\"progress\":{\"quantity\":2.26,\"unit\":\"percent\"}},\"balance\":{\"reward\":{\"quantity\":0,\"unit\":\"lovelace\"},\"total\":{\"quantity\":0,\"unit\":\"lovelace\"},\"available\":{\"quantity\":0,\"unit\":\"lovelace\"}},\"name\":\"a wallet name\",\"delegation\":{\"next\":[],\"active\":{\"status\":\"not_delegating\"}},\"id\":\"34d88843c44eb8b13a0f03a3ef387fa3b5e8733c\",\"tip\":{\"height\":{\"quantity\":144994,\"unit\":\"block\"},\"time\":\"2017-10-27T11:26:31Z\",\"epoch_number\":6,\"absolute_slot_number\":145025,\"slot_number\":15425},\"assets\":{\"total\":[],\"available\":[]}}]'"
      ]
     },
     "execution_count": 8,
     "metadata": {},
     "output_type": "execute_result"
    }
   ],
   "source": [
    "# list all wallets\n",
    "# https://input-output-hk.github.io/cardano-wallet/api/edge/#operation/listWallets\n",
    "requests.get('http://localhost:8090/v2/wallets').text"
   ]
  },
  {
   "cell_type": "code",
   "execution_count": 9,
   "id": "4686477d",
   "metadata": {},
   "outputs": [],
   "source": [
    "# wallet id\n",
    "wid = \"34d88843c44eb8b13a0f03a3ef387fa3b5e8733c\""
   ]
  },
  {
   "cell_type": "code",
   "execution_count": 10,
   "id": "2ac1c6dd",
   "metadata": {},
   "outputs": [
    {
     "data": {
      "text/plain": [
       "'{\"passphrase\":{\"last_updated_at\":\"2021-10-21T14:59:04.006545724Z\"},\"address_pool_gap\":20,\"state\":{\"status\":\"ready\"},\"balance\":{\"reward\":{\"quantity\":0,\"unit\":\"lovelace\"},\"total\":{\"quantity\":0,\"unit\":\"lovelace\"},\"available\":{\"quantity\":0,\"unit\":\"lovelace\"}},\"name\":\"a wallet name\",\"delegation\":{\"next\":[],\"active\":{\"status\":\"not_delegating\"}},\"id\":\"34d88843c44eb8b13a0f03a3ef387fa3b5e8733c\",\"tip\":{\"height\":{\"quantity\":6399824,\"unit\":\"block\"},\"time\":\"2021-10-21T15:31:55Z\",\"epoch_number\":297,\"absolute_slot_number\":43264024,\"slot_number\":323224},\"assets\":{\"total\":[],\"available\":[]}}'"
      ]
     },
     "execution_count": 10,
     "metadata": {},
     "output_type": "execute_result"
    }
   ],
   "source": [
    "# synchronization progress of the wallet and available quantity (1 ADA = 1.000.000 lovelace)\n",
    "# https://input-output-hk.github.io/cardano-wallet/api/edge/#operation/getWallet\n",
    "requests.get('http://localhost:8090/v2/wallets/' + wid).text"
   ]
  },
  {
   "cell_type": "code",
   "execution_count": 11,
   "id": "b7ac3170",
   "metadata": {},
   "outputs": [
    {
     "data": {
      "text/plain": [
       "'[{\"state\":\"used\",\"id\":\"addr1qx0303ays44x6u6c3v5uyn448xxmts0qahwhs5tgd9h6fvducnhmu76m8kpkr24jwzc95emzqq89dzgnupg6v0947uhsek6skv\",\"derivation_path\":[\"1852H\",\"1815H\",\"0H\",\"0\",\"0\"]},{\"state\":\"used\",\"id\":\"addr1q9m6ty3st0kzhlgg2wp8vm8fmrwxpypl2kx6snq3gtgwp39ucnhmu76m8kpkr24jwzc95emzqq89dzgnupg6v0947uhs6p09ug\",\"derivation_path\":[\"1852H\",\"1815H\",\"0H\",\"1\",\"0\"]},{\"state\":\"unused\",\"id\":\"addr1q9dsnjj2ryz55ykq9kwp48hvx4cfqtfszna3lqnuzj29feaucnhmu76m8kpkr24jwzc95emzqq89dzgnupg6v0947uhs20wk26\",\"derivation_path\":[\"1852H\",\"1815H\",\"0H\",\"0\",\"1\"]},{\"state\":\"used\",\"id\":\"addr1q8cjph2s9wau69w355g29cpeaukysmn29lh9xzx93p6s6jaucnhmu76m8kpkr24jwzc95emzqq89dzgnupg6v0947uhsl9lmd2\",\"derivation_path\":[\"1852H\",\"1815H\",\"0H\",\"1\",\"1\"]},{\"state\":\"unused\",\"id\":\"addr1q8sazmfqsad2hm4j3052dj4rhlh8jn7ft2yy8z8m85al8lducnhmu76m8kpkr24jwzc95emzqq89dzgnupg6v0947uhsy40dr5\",\"derivation_path\":[\"1852H\",\"1815H\",\"0H\",\"0\",\"2\"]},{\"state\":\"unused\",\"id\":\"addr1q95k6rp7jyp0zhdm240v2rsnmgewnxhy57h8ky3aaduw0s4ucnhmu76m8kpkr24jwzc95emzqq89dzgnupg6v0947uhss2rly5\",\"derivation_path\":[\"1852H\",\"1815H\",\"0H\",\"0\",\"3\"]},{\"state\":\"unused\",\"id\":\"addr1qxfht2ar6fydjf0n27ccc796zmqmqk244mmpvp06ww95uf4ucnhmu76m8kpkr24jwzc95emzqq89dzgnupg6v0947uhs8zp0as\",\"derivation_path\":[\"1852H\",\"1815H\",\"0H\",\"0\",\"4\"]},{\"state\":\"unused\",\"id\":\"addr1qym3t8e9462k7mvhargrxs0hn2dn3kpwdrt5kz3tr6d7cc4ucnhmu76m8kpkr24jwzc95emzqq89dzgnupg6v0947uhs0e4tj8\",\"derivation_path\":[\"1852H\",\"1815H\",\"0H\",\"0\",\"5\"]},{\"state\":\"unused\",\"id\":\"addr1qxsdtlt6ajdf4p3h6nzpddx3zqxw7l4dvt375tdc5995yp9ucnhmu76m8kpkr24jwzc95emzqq89dzgnupg6v0947uhs0ptpt0\",\"derivation_path\":[\"1852H\",\"1815H\",\"0H\",\"0\",\"6\"]},{\"state\":\"unused\",\"id\":\"addr1qyspsxphz2gxsjp6z6fvtxlyh6dprsavk4j0gmwyj0ac9u9ucnhmu76m8kpkr24jwzc95emzqq89dzgnupg6v0947uhsrqjtn5\",\"derivation_path\":[\"1852H\",\"1815H\",\"0H\",\"0\",\"7\"]},{\"state\":\"unused\",\"id\":\"addr1qyhsah6rqpu55fn37604sdtsqppdc5xetuyxmhzfz8pzl04ucnhmu76m8kpkr24jwzc95emzqq89dzgnupg6v0947uhswgsf0s\",\"derivation_path\":[\"1852H\",\"1815H\",\"0H\",\"0\",\"8\"]},{\"state\":\"unused\",\"id\":\"addr1q9wuztf3uglwz78ukhrunt8mpr73uuz2l8pxdrxjkdkugkaucnhmu76m8kpkr24jwzc95emzqq89dzgnupg6v0947uhsufw6vz\",\"derivation_path\":[\"1852H\",\"1815H\",\"0H\",\"0\",\"9\"]},{\"state\":\"unused\",\"id\":\"addr1q883rm738wkp93p47wtcgescy33ujxd2n29pdg66njuma74ucnhmu76m8kpkr24jwzc95emzqq89dzgnupg6v0947uhsnaezxd\",\"derivation_path\":[\"1852H\",\"1815H\",\"0H\",\"0\",\"10\"]},{\"state\":\"unused\",\"id\":\"addr1qxjequtttyycj6d930jafg4ff8lzlg2ndva4e7j0n987spducnhmu76m8kpkr24jwzc95emzqq89dzgnupg6v0947uhscf9j2g\",\"derivation_path\":[\"1852H\",\"1815H\",\"0H\",\"0\",\"11\"]},{\"state\":\"unused\",\"id\":\"addr1q9xnf5jlwk22r0qkp5569kmwsx2dzz6c5h6tfgqanxe3vlducnhmu76m8kpkr24jwzc95emzqq89dzgnupg6v0947uhsjzsvha\",\"derivation_path\":[\"1852H\",\"1815H\",\"0H\",\"0\",\"12\"]},{\"state\":\"unused\",\"id\":\"addr1q8u5cwp0sktennkeufdhy0wzdr4s2ezshpn3vasfmvsmxz4ucnhmu76m8kpkr24jwzc95emzqq89dzgnupg6v0947uhsasqegy\",\"derivation_path\":[\"1852H\",\"1815H\",\"0H\",\"0\",\"13\"]},{\"state\":\"unused\",\"id\":\"addr1qx5udd6qdcl6lxv5j3clt20lcs9qej7lnmdnr3ygcvkqslaucnhmu76m8kpkr24jwzc95emzqq89dzgnupg6v0947uhswt3awl\",\"derivation_path\":[\"1852H\",\"1815H\",\"0H\",\"0\",\"14\"]},{\"state\":\"unused\",\"id\":\"addr1qyma9thsz9v43wpqx0a833wrf52dt5kwdkrjxw970mya5d9ucnhmu76m8kpkr24jwzc95emzqq89dzgnupg6v0947uhsajpsnh\",\"derivation_path\":[\"1852H\",\"1815H\",\"0H\",\"0\",\"15\"]},{\"state\":\"unused\",\"id\":\"addr1qyduddrpm64fdr82ljhlutv5w4ndea4qm9sclw7nnt9e2taucnhmu76m8kpkr24jwzc95emzqq89dzgnupg6v0947uhsrtx9an\",\"derivation_path\":[\"1852H\",\"1815H\",\"0H\",\"0\",\"16\"]},{\"state\":\"unused\",\"id\":\"addr1q9793xy9zpzdwngsyspeel9fkr2ss4j3lz0j2snpcr7ckjducnhmu76m8kpkr24jwzc95emzqq89dzgnupg6v0947uhsg9vge8\",\"derivation_path\":[\"1852H\",\"1815H\",\"0H\",\"0\",\"17\"]},{\"state\":\"unused\",\"id\":\"addr1qxx8trmfpx4t344uejuvev5tuprwtsgmv7msvn8a6payaqducnhmu76m8kpkr24jwzc95emzqq89dzgnupg6v0947uhs5j94ng\",\"derivation_path\":[\"1852H\",\"1815H\",\"0H\",\"0\",\"18\"]},{\"state\":\"unused\",\"id\":\"addr1qymvpc6sa5pw40fs50ml5n9q9njj2pecs2l2cz02n7u2hraucnhmu76m8kpkr24jwzc95emzqq89dzgnupg6v0947uhsklt3w4\",\"derivation_path\":[\"1852H\",\"1815H\",\"0H\",\"0\",\"19\"]},{\"state\":\"unused\",\"id\":\"addr1q9p9qn9kvqmyw5tg6f59ty89p3zvdl2m50r6560ezh922taucnhmu76m8kpkr24jwzc95emzqq89dzgnupg6v0947uhsltvkfq\",\"derivation_path\":[\"1852H\",\"1815H\",\"0H\",\"0\",\"20\"]}]'"
      ]
     },
     "execution_count": 11,
     "metadata": {},
     "output_type": "execute_result"
    }
   ],
   "source": [
    "# show a list of known public addresses\n",
    "# https://input-output-hk.github.io/cardano-wallet/api/edge/#tag/Addresses\n",
    "requests.get('http://localhost:8090/v2/wallets/' + wid + '/addresses').text"
   ]
  },
  {
   "cell_type": "code",
   "execution_count": 12,
   "id": "c8cf83b9",
   "metadata": {},
   "outputs": [],
   "source": [
    "# public wallet address\n",
    "address = \"addr1qx0303ays44x6u6c3v5uyn448xxmts0qahwhs5tgd9h6fvducnhmu76m8kpkr24jwzc95emzqq89dzgnupg6v0947uhsek6skv\""
   ]
  },
  {
   "cell_type": "code",
   "execution_count": 13,
   "id": "dd9ff78e",
   "metadata": {},
   "outputs": [],
   "source": [
    "# generate an instance of QR code\n",
    "qr = qrcode.QRCode(version=1, box_size=2, border=1)\n",
    "  # version  = dimension of qr code [1-40]\n",
    "  # box_size = pixel size of a black box [1-10]\n",
    "  # border   = border thickness of x black boxes\n",
    "\n",
    "# add public wallet address to this QR code\n",
    "qr.add_data(address)\n",
    "qr.make(fit=True)\n",
    "\n",
    "# convert QR code into image and store\n",
    "img = qr.make_image(fill='black', back_color='white')\n",
    "img.save('../../image/howto_cardano/qrcode.png')"
   ]
  },
  {
   "cell_type": "markdown",
   "id": "0d6e6a29",
   "metadata": {},
   "source": [
    "**transfer 5.0 ADA to this public wallet address (mainnet)**  \n",
    "![enable outliers flag](../../image/howto_cardano/qrcode.png)  "
   ]
  },
  {
   "cell_type": "code",
   "execution_count": 14,
   "id": "8a44e5f1",
   "metadata": {},
   "outputs": [
    {
     "data": {
      "text/plain": [
       "'{\"passphrase\":{\"last_updated_at\":\"2021-10-21T14:59:04.006545724Z\"},\"address_pool_gap\":20,\"state\":{\"status\":\"ready\"},\"balance\":{\"reward\":{\"quantity\":0,\"unit\":\"lovelace\"},\"total\":{\"quantity\":4200000,\"unit\":\"lovelace\"},\"available\":{\"quantity\":4200000,\"unit\":\"lovelace\"}},\"name\":\"a wallet name\",\"delegation\":{\"next\":[],\"active\":{\"status\":\"not_delegating\"}},\"id\":\"34d88843c44eb8b13a0f03a3ef387fa3b5e8733c\",\"tip\":{\"height\":{\"quantity\":6399847,\"unit\":\"block\"},\"time\":\"2021-10-21T15:39:08Z\",\"epoch_number\":297,\"absolute_slot_number\":43264457,\"slot_number\":323657},\"assets\":{\"total\":[],\"available\":[]}}'"
      ]
     },
     "execution_count": 14,
     "metadata": {},
     "output_type": "execute_result"
    }
   ],
   "source": [
    "# wallet synchronization progress available quantity\n",
    "requests.get('http://localhost:8090/v2/wallets/' + wid).text"
   ]
  },
  {
   "cell_type": "code",
   "execution_count": 15,
   "id": "a3db693c",
   "metadata": {},
   "outputs": [
    {
     "data": {
      "text/plain": [
       "'{\"estimated_min\":{\"quantity\":168405,\"unit\":\"lovelace\"},\"deposit\":{\"quantity\":0,\"unit\":\"lovelace\"},\"minimum_coins\":[{\"quantity\":999978,\"unit\":\"lovelace\"}],\"estimated_max\":{\"quantity\":168405,\"unit\":\"lovelace\"}}'"
      ]
     },
     "execution_count": 15,
     "metadata": {},
     "output_type": "execute_result"
    }
   ],
   "source": [
    "# estimate transaction fee (blockchain must be in sync with available funds)\n",
    "# https://input-output-hk.github.io/cardano-wallet/api/edge/#operation/postTransactionFee\n",
    "transaction_data = {\"passphrase\":passphrase, \n",
    "                    \"payments\":[{\"address\":\"Ae2tdPwUPEZMgbgGHr4tM6pV6DSwdjNzVon16Qr6YSGeQW6xnmqbwXfh3o7\",\n",
    "                                 \"amount\":{\"quantity\":2000000, \"unit\":\"lovelace\"}}]}\n",
    "requests.post('http://localhost:8090/v2/wallets/' + wid + '/payment-fees', json=transaction_data).text"
   ]
  },
  {
   "cell_type": "code",
   "execution_count": 16,
   "id": "dbd04748",
   "metadata": {},
   "outputs": [
    {
     "data": {
      "text/plain": [
       "2168405"
      ]
     },
     "execution_count": 16,
     "metadata": {},
     "output_type": "execute_result"
    }
   ],
   "source": [
    "# calculate transfer amount (2.0 ADA = 2000000 lovelace)\n",
    "funds = 2000000             # user-desired amount to transfer (available in wallet)\n",
    "fee   = 168405              # transaction cost (0.168405 ADA)\n",
    "# quantity = funds - fee    # option 1: allow to empty the wallet to 0.0\n",
    "quantity =  funds + fee     # option 2: we pay the fee to allow the receiver the user-desired amount\n",
    "quantity"
   ]
  },
  {
   "cell_type": "code",
   "execution_count": 17,
   "id": "e7849060",
   "metadata": {},
   "outputs": [
    {
     "data": {
      "text/plain": [
       "'{\"status\":\"pending\",\"withdrawals\":[],\"amount\":{\"quantity\":2336810,\"unit\":\"lovelace\"},\"inputs\":[{\"amount\":{\"quantity\":4200000,\"unit\":\"lovelace\"},\"address\":\"addr1qx0303ays44x6u6c3v5uyn448xxmts0qahwhs5tgd9h6fvducnhmu76m8kpkr24jwzc95emzqq89dzgnupg6v0947uhsek6skv\",\"id\":\"8716217b794682c0bf74fb3698aee6a8691e61601de9837cf32807cac0260152\",\"assets\":[],\"index\":3}],\"direction\":\"outgoing\",\"fee\":{\"quantity\":168405,\"unit\":\"lovelace\"},\"outputs\":[{\"amount\":{\"quantity\":2168405,\"unit\":\"lovelace\"},\"address\":\"Ae2tdPwUPEZMgbgGHr4tM6pV6DSwdjNzVon16Qr6YSGeQW6xnmqbwXfh3o7\",\"assets\":[]},{\"amount\":{\"quantity\":1863190,\"unit\":\"lovelace\"},\"address\":\"addr1q9a4q6m4luv3gd9f4lcv5mjhkfc7d003tw2nuq96rlu7nmducnhmu76m8kpkr24jwzc95emzqq89dzgnupg6v0947uhs4dxycy\",\"assets\":[]}],\"script_validity\":\"valid\",\"expires_at\":{\"time\":\"2021-10-21T17:39:59Z\",\"epoch_number\":297,\"absolute_slot_number\":43271708,\"slot_number\":330908},\"pending_since\":{\"height\":{\"quantity\":6399850,\"unit\":\"block\"},\"time\":\"2021-10-21T15:39:55Z\",\"epoch_number\":297,\"absolute_slot_number\":43264504,\"slot_number\":323704},\"metadata\":null,\"id\":\"cf734af64a11203cdf01873e5990e1cc610903ba0ed02476efc5ea3adc3ce8c6\",\"deposit\":{\"quantity\":0,\"unit\":\"lovelace\"},\"collateral\":[],\"mint\":[]}'"
      ]
     },
     "execution_count": 17,
     "metadata": {},
     "output_type": "execute_result"
    }
   ],
   "source": [
    "# send transaction from the wallet out\n",
    "# https://input-output-hk.github.io/cardano-wallet/api/edge/#operation/postTransaction\n",
    "transaction_data = {\"passphrase\":passphrase,\n",
    "                    \"payments\":[{\"address\":\"Ae2tdPwUPEZMgbgGHr4tM6pV6DSwdjNzVon16Qr6YSGeQW6xnmqbwXfh3o7\",\n",
    "                                 \"amount\":{\"quantity\":quantity, \"unit\":\"lovelace\"}}]}\n",
    "requests.post('http://localhost:8090/v2/wallets/' + wid + '/transactions', json=transaction_data).text"
   ]
  },
  {
   "cell_type": "code",
   "execution_count": 18,
   "id": "7dbf2e03",
   "metadata": {},
   "outputs": [
    {
     "data": {
      "text/plain": [
       "'{\"passphrase\":{\"last_updated_at\":\"2021-10-21T14:59:04.006545724Z\"},\"address_pool_gap\":20,\"state\":{\"status\":\"ready\"},\"balance\":{\"reward\":{\"quantity\":0,\"unit\":\"lovelace\"},\"total\":{\"quantity\":1863190,\"unit\":\"lovelace\"},\"available\":{\"quantity\":1863190,\"unit\":\"lovelace\"}},\"name\":\"a wallet name\",\"delegation\":{\"next\":[],\"active\":{\"status\":\"not_delegating\"}},\"id\":\"34d88843c44eb8b13a0f03a3ef387fa3b5e8733c\",\"tip\":{\"height\":{\"quantity\":6399853,\"unit\":\"block\"},\"time\":\"2021-10-21T15:40:31Z\",\"epoch_number\":297,\"absolute_slot_number\":43264540,\"slot_number\":323740},\"assets\":{\"total\":[],\"available\":[]}}'"
      ]
     },
     "execution_count": 18,
     "metadata": {},
     "output_type": "execute_result"
    }
   ],
   "source": [
    "# wallet synchronization progress available quantity\n",
    "requests.get('http://localhost:8090/v2/wallets/' + wid).text"
   ]
  },
  {
   "cell_type": "code",
   "execution_count": 19,
   "id": "66bea5fb",
   "metadata": {},
   "outputs": [
    {
     "data": {
      "text/plain": [
       "''"
      ]
     },
     "execution_count": 19,
     "metadata": {},
     "output_type": "execute_result"
    }
   ],
   "source": [
    "# delete wallet from the backend (funds will remain available)\n",
    "# https://input-output-hk.github.io/cardano-wallet/api/edge/#operation/deleteWallet\n",
    "requests.delete('http://localhost:8090/v2/wallets/' + wid).text"
   ]
  },
  {
   "cell_type": "markdown",
   "id": "c27a14d0",
   "metadata": {},
   "source": [
    "## Python module example\n",
    "\n",
    "**documentation:**  \n",
    "  * [git repo of the cardano python module](https://github.com/emesik/cardano-python)  \n",
    "  * [documentation for the cardano python module](https://cardano-python.readthedocs.io/en/latest/index.html)  "
   ]
  },
  {
   "cell_type": "code",
   "execution_count": null,
   "id": "1358fba8",
   "metadata": {},
   "outputs": [],
   "source": [
    "# synchronization progress of the node\n"
   ]
  },
  {
   "cell_type": "code",
   "execution_count": 20,
   "id": "4d12e8cd",
   "metadata": {},
   "outputs": [],
   "source": [
    "# generated wallet with Daedalus or Yoroi (24-words private seed phrase)\n",
    "mnemonic_sentence = [\"pride\",\"assault\",\"husband\",\"ball\",\"convince\",\"canvas\",\n",
    "                     \"mind\",\"crane\",\"nurse\",\"feel\",\"tongue\",\"pride\",\n",
    "                     \"scrap\",\"inflict\",\"split\",\"antenna\",\"slight\",\"foster\",\n",
    "                     \"piano\",\"carpet\",\"ranch\",\"unveil\",\"believe\",\"black\"]\n",
    "mnemonic = \" \".join(mnemonic_sentence)\n",
    "\n",
    "# choose a name for the wallet\n",
    "wallet_name = \"a wallet name\"\n",
    "\n",
    "# spending password for the wallet\n",
    "passphrase = \"difficultpassword\""
   ]
  },
  {
   "cell_type": "code",
   "execution_count": 21,
   "id": "d28eebde",
   "metadata": {},
   "outputs": [],
   "source": [
    "# create and restore a wallet from a mnemonic sentence\n",
    "ws = WalletService(WalletREST(port=8090))                  # wallet service REST backend\n",
    "wid = ws.create_wallet(wallet_name, mnemonic, passphrase)  # recover wallet on backend"
   ]
  },
  {
   "cell_type": "code",
   "execution_count": 22,
   "id": "f1d28d69",
   "metadata": {},
   "outputs": [
    {
     "data": {
      "text/plain": [
       "[<cardano.wallet.Wallet at 0x7fd6bd96c310>]"
      ]
     },
     "execution_count": 22,
     "metadata": {},
     "output_type": "execute_result"
    }
   ],
   "source": [
    "# list all wallets\n",
    "ws.wallets()"
   ]
  },
  {
   "cell_type": "code",
   "execution_count": 23,
   "id": "06296776",
   "metadata": {},
   "outputs": [
    {
     "data": {
      "text/plain": [
       "'34d88843c44eb8b13a0f03a3ef387fa3b5e8733c'"
      ]
     },
     "execution_count": 23,
     "metadata": {},
     "output_type": "execute_result"
    }
   ],
   "source": [
    "# wallet id\n",
    "wid"
   ]
  },
  {
   "cell_type": "code",
   "execution_count": 24,
   "id": "0726c4ef",
   "metadata": {},
   "outputs": [],
   "source": [
    "# open the wallet (with id)\n",
    "wal = ws.wallet(wid, passphrase)"
   ]
  },
  {
   "cell_type": "code",
   "execution_count": 25,
   "id": "097556b8",
   "metadata": {},
   "outputs": [
    {
     "name": "stdout",
     "output_type": "stream",
     "text": [
      "CPU times: user 5.01 s, sys: 426 ms, total: 5.44 s\n",
      "Wall time: 30min 2s\n"
     ]
    }
   ],
   "source": [
    "%%time\n",
    "# synchronization progress of the wallet\n",
    "while wal.sync_progress() < 1.0:\n",
    "            time.sleep(12)"
   ]
  },
  {
   "cell_type": "code",
   "execution_count": 31,
   "id": "55eaa933",
   "metadata": {},
   "outputs": [
    {
     "data": {
      "text/plain": [
       "Balance(total=Decimal('1.863190'), available=Decimal('1.863190'), reward=Decimal('0.000000'))"
      ]
     },
     "execution_count": 31,
     "metadata": {},
     "output_type": "execute_result"
    }
   ],
   "source": [
    "# check available wallet quantity (ADA)\n",
    "wal.balance()  # reward — the amount received as staking interest"
   ]
  },
  {
   "cell_type": "code",
   "execution_count": 32,
   "id": "f9a1d67c",
   "metadata": {},
   "outputs": [
    {
     "data": {
      "text/plain": [
       "[addr1qx0303ays44x6u6c3v5uyn448xxmts0qahwhs5tgd9h6fvducnhmu76m8kpkr24jwzc95emzqq89dzgnupg6v0947uhsek6skv,\n",
       " addr1q9m6ty3st0kzhlgg2wp8vm8fmrwxpypl2kx6snq3gtgwp39ucnhmu76m8kpkr24jwzc95emzqq89dzgnupg6v0947uhs6p09ug,\n",
       " addr1q9dsnjj2ryz55ykq9kwp48hvx4cfqtfszna3lqnuzj29feaucnhmu76m8kpkr24jwzc95emzqq89dzgnupg6v0947uhs20wk26,\n",
       " addr1q8cjph2s9wau69w355g29cpeaukysmn29lh9xzx93p6s6jaucnhmu76m8kpkr24jwzc95emzqq89dzgnupg6v0947uhsl9lmd2,\n",
       " addr1q8sazmfqsad2hm4j3052dj4rhlh8jn7ft2yy8z8m85al8lducnhmu76m8kpkr24jwzc95emzqq89dzgnupg6v0947uhsy40dr5,\n",
       " addr1q9a4q6m4luv3gd9f4lcv5mjhkfc7d003tw2nuq96rlu7nmducnhmu76m8kpkr24jwzc95emzqq89dzgnupg6v0947uhs4dxycy,\n",
       " addr1q95k6rp7jyp0zhdm240v2rsnmgewnxhy57h8ky3aaduw0s4ucnhmu76m8kpkr24jwzc95emzqq89dzgnupg6v0947uhss2rly5,\n",
       " addr1qxfht2ar6fydjf0n27ccc796zmqmqk244mmpvp06ww95uf4ucnhmu76m8kpkr24jwzc95emzqq89dzgnupg6v0947uhs8zp0as,\n",
       " addr1qym3t8e9462k7mvhargrxs0hn2dn3kpwdrt5kz3tr6d7cc4ucnhmu76m8kpkr24jwzc95emzqq89dzgnupg6v0947uhs0e4tj8,\n",
       " addr1qxsdtlt6ajdf4p3h6nzpddx3zqxw7l4dvt375tdc5995yp9ucnhmu76m8kpkr24jwzc95emzqq89dzgnupg6v0947uhs0ptpt0,\n",
       " addr1qyspsxphz2gxsjp6z6fvtxlyh6dprsavk4j0gmwyj0ac9u9ucnhmu76m8kpkr24jwzc95emzqq89dzgnupg6v0947uhsrqjtn5,\n",
       " addr1qyhsah6rqpu55fn37604sdtsqppdc5xetuyxmhzfz8pzl04ucnhmu76m8kpkr24jwzc95emzqq89dzgnupg6v0947uhswgsf0s,\n",
       " addr1q9wuztf3uglwz78ukhrunt8mpr73uuz2l8pxdrxjkdkugkaucnhmu76m8kpkr24jwzc95emzqq89dzgnupg6v0947uhsufw6vz,\n",
       " addr1q883rm738wkp93p47wtcgescy33ujxd2n29pdg66njuma74ucnhmu76m8kpkr24jwzc95emzqq89dzgnupg6v0947uhsnaezxd,\n",
       " addr1qxjequtttyycj6d930jafg4ff8lzlg2ndva4e7j0n987spducnhmu76m8kpkr24jwzc95emzqq89dzgnupg6v0947uhscf9j2g,\n",
       " addr1q9xnf5jlwk22r0qkp5569kmwsx2dzz6c5h6tfgqanxe3vlducnhmu76m8kpkr24jwzc95emzqq89dzgnupg6v0947uhsjzsvha,\n",
       " addr1q8u5cwp0sktennkeufdhy0wzdr4s2ezshpn3vasfmvsmxz4ucnhmu76m8kpkr24jwzc95emzqq89dzgnupg6v0947uhsasqegy,\n",
       " addr1qx5udd6qdcl6lxv5j3clt20lcs9qej7lnmdnr3ygcvkqslaucnhmu76m8kpkr24jwzc95emzqq89dzgnupg6v0947uhswt3awl,\n",
       " addr1qyma9thsz9v43wpqx0a833wrf52dt5kwdkrjxw970mya5d9ucnhmu76m8kpkr24jwzc95emzqq89dzgnupg6v0947uhsajpsnh,\n",
       " addr1qyduddrpm64fdr82ljhlutv5w4ndea4qm9sclw7nnt9e2taucnhmu76m8kpkr24jwzc95emzqq89dzgnupg6v0947uhsrtx9an,\n",
       " addr1q9793xy9zpzdwngsyspeel9fkr2ss4j3lz0j2snpcr7ckjducnhmu76m8kpkr24jwzc95emzqq89dzgnupg6v0947uhsg9vge8,\n",
       " addr1qxx8trmfpx4t344uejuvev5tuprwtsgmv7msvn8a6payaqducnhmu76m8kpkr24jwzc95emzqq89dzgnupg6v0947uhs5j94ng,\n",
       " addr1qymvpc6sa5pw40fs50ml5n9q9njj2pecs2l2cz02n7u2hraucnhmu76m8kpkr24jwzc95emzqq89dzgnupg6v0947uhsklt3w4,\n",
       " addr1q9p9qn9kvqmyw5tg6f59ty89p3zvdl2m50r6560ezh922taucnhmu76m8kpkr24jwzc95emzqq89dzgnupg6v0947uhsltvkfq]"
      ]
     },
     "execution_count": 32,
     "metadata": {},
     "output_type": "execute_result"
    }
   ],
   "source": [
    "# show a list of known public addresses\n",
    "wal.addresses()"
   ]
  },
  {
   "cell_type": "code",
   "execution_count": 33,
   "id": "42a6dd05",
   "metadata": {},
   "outputs": [],
   "source": [
    "# public wallet address\n",
    "address = \"addr1qx0303ays44x6u6c3v5uyn448xxmts0qahwhs5tgd9h6fvducnhmu76m8kpkr24jwzc95emzqq89dzgnupg6v0947uhsek6skv\""
   ]
  },
  {
   "cell_type": "code",
   "execution_count": 34,
   "id": "f1cd25be",
   "metadata": {},
   "outputs": [],
   "source": [
    "# generate an instance of QR code\n",
    "qr = qrcode.QRCode(version=1, box_size=2, border=1)\n",
    "  # version  = dimension of qr code [1-40]\n",
    "  # box_size = pixel size of a black box [1-10]\n",
    "  # border   = border thickness of x black boxes\n",
    "\n",
    "# add public wallet address to this QR code\n",
    "qr.add_data(address)\n",
    "qr.make(fit=True)\n",
    "\n",
    "# convert QR code into image and store\n",
    "img = qr.make_image(fill='black', back_color='white')\n",
    "img.save('../../image/howto_cardano/qrcode.png')"
   ]
  },
  {
   "cell_type": "markdown",
   "id": "0a4a25cf",
   "metadata": {},
   "source": [
    "**optional:** transfer more ADA to this public wallet address (mainnet)  \n",
    "![enable outliers flag](../../image/howto_cardano/qrcode.png) "
   ]
  },
  {
   "cell_type": "code",
   "execution_count": null,
   "id": "779b527e",
   "metadata": {},
   "outputs": [],
   "source": [
    "# check available wallet quantity (ADA)\n",
    "wal.balance()"
   ]
  },
  {
   "cell_type": "code",
   "execution_count": 35,
   "id": "da49e320",
   "metadata": {},
   "outputs": [
    {
     "data": {
      "text/plain": [
       "Decimal('0.168405')"
      ]
     },
     "execution_count": 35,
     "metadata": {},
     "output_type": "execute_result"
    }
   ],
   "source": [
    "# estimate transaction fee (blockchain must be in sync with available funds)\n",
    "(min_fee, max_fee) = wal.estimate_fee([(\"Ae2tdPwUPEZMgbgGHr4tM6pV6DSwdjNzVon16Qr6YSGeQW6xnmqbwXfh3o7\", wal.balance()[0])])\n",
    "min_fee"
   ]
  },
  {
   "cell_type": "code",
   "execution_count": 36,
   "id": "dcf06f6c",
   "metadata": {},
   "outputs": [
    {
     "data": {
      "text/plain": [
       "Decimal('1.694785')"
      ]
     },
     "execution_count": 36,
     "metadata": {},
     "output_type": "execute_result"
    }
   ],
   "source": [
    "# calculate transfer amount\n",
    "funds = wal.balance()[0]    # user-desired amount to transfer (available in wallet)\n",
    "fee   = min_fee             # transaction cost (0.168405 ADA)\n",
    "quantity = funds - fee      # option 1: allow to empty the wallet to 0.0\n",
    "# quantity =  funds + fee   # option 2: we pay the fee to allow the receiver the user-desired amount\n",
    "quantity"
   ]
  },
  {
   "cell_type": "code",
   "execution_count": 37,
   "id": "880fbc37",
   "metadata": {},
   "outputs": [],
   "source": [
    "# send transaction from the wallet\n",
    "tx = wal.transfer(address=\"Ae2tdPwUPEZMgbgGHr4tM6pV6DSwdjNzVon16Qr6YSGeQW6xnmqbwXfh3o7\",\n",
    "                  amount=quantity,\n",
    "                  passphrase=passphrase)"
   ]
  },
  {
   "cell_type": "code",
   "execution_count": 38,
   "id": "ac516e0b",
   "metadata": {},
   "outputs": [
    {
     "data": {
      "text/plain": [
       "Balance(total=Decimal('0.000000'), available=Decimal('0.000000'), reward=Decimal('0.000000'))"
      ]
     },
     "execution_count": 38,
     "metadata": {},
     "output_type": "execute_result"
    }
   ],
   "source": [
    "# check available wallet quantity (0.0 ADA)\n",
    "wal.balance()"
   ]
  },
  {
   "cell_type": "code",
   "execution_count": 39,
   "id": "09a61513",
   "metadata": {},
   "outputs": [
    {
     "data": {
      "text/plain": [
       "Decimal('1.694785')"
      ]
     },
     "execution_count": 39,
     "metadata": {},
     "output_type": "execute_result"
    }
   ],
   "source": [
    "tx.amount_out"
   ]
  },
  {
   "cell_type": "code",
   "execution_count": 40,
   "id": "9002aa59",
   "metadata": {},
   "outputs": [
    {
     "data": {
      "text/plain": [
       "Decimal('0.168405')"
      ]
     },
     "execution_count": 40,
     "metadata": {},
     "output_type": "execute_result"
    }
   ],
   "source": [
    "tx.fee"
   ]
  },
  {
   "cell_type": "code",
   "execution_count": null,
   "id": "a5daf0f6",
   "metadata": {},
   "outputs": [],
   "source": [
    "# delete wallet from the backend (funds will remain available)\n",
    "wal.delete()"
   ]
  }
 ],
 "metadata": {
  "kernelspec": {
   "display_name": "py38_datareport",
   "language": "python",
   "name": "conda-env-py38_datareport-py"
  },
  "language_info": {
   "codemirror_mode": {
    "name": "ipython",
    "version": 3
   },
   "file_extension": ".py",
   "mimetype": "text/x-python",
   "name": "python",
   "nbconvert_exporter": "python",
   "pygments_lexer": "ipython3",
   "version": "3.8.10"
  }
 },
 "nbformat": 4,
 "nbformat_minor": 5
}
