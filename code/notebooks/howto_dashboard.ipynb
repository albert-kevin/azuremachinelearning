{
 "cells": [
  {
   "cell_type": "markdown",
   "metadata": {},
   "source": [
    "Author: Kevin ALBERT  \n",
    "\n",
    "Created: April 2021 (Updated: 20 Apr 2021)  \n",
    "\n",
    "TestRun: 20 Apr 2021"
   ]
  },
  {
   "cell_type": "markdown",
   "metadata": {},
   "source": [
    "# Dashboard development\n",
    "_**How to build an interactive dashboard**_  \n",
    "1. [Setup](#Setup)  \n",
    "● [versions](#versions)  \n",
    "● [parameters](#parameters)  \n",
    "● [jupyter](#run-from-jupyter)  \n",
    "● [vscode](#run-from-vscode)  \n",
    "1. [Theme](#Theme)  \n",
    "1. [Layout](#Layout)  \n",
    "1. [Components](#Components)\n",
    "1. [Callback](#Callback)  \n",
    "1. [Sources](#Sources)\n",
    "\n",
    "# Dashboard deployment\n",
    "_**how to deploy a Dash app to Azure App Service in the cloud using containers**_\n",
    "1. [Required](#Required)\n",
    "1. [Develop](#Develop)\n",
    "1. [Verify](#Verify)\n",
    "1. [Public](#Public)\n",
    "1. [Private](#Private)\n",
    "1. [Cleanup](#Cleanup)\n",
    "\n",
    "# Plotly examples\n",
    "_**data visualization code examples for dashboards**_\n",
    "1. [line chart](#line-chart)\n",
    "1. [bar chart](#bar-chart)\n",
    "1. [bubble plot](#bubble-plot)\n",
    "1. [box plot](#box-plot)\n",
    "1. [histogram](#histogram)\n",
    "1. [heatmap](#heatmap)\n",
    "1. [geomap](#geographic-map)"
   ]
  },
  {
   "cell_type": "markdown",
   "metadata": {},
   "source": [
    "## Setup\n",
    "### versions"
   ]
  },
  {
   "cell_type": "code",
   "execution_count": 1,
   "metadata": {},
   "outputs": [
    {
     "name": "stdout",
     "output_type": "stream",
     "text": [
      "conda : 4.9.2\n",
      "pip   : 21.0.1\n",
      "python: 3.8.8\n",
      "pandas: 1.2.4\n",
      "numpy : 1.20.2\n",
      "plotly: 4.14.3\n",
      "dash  : 1.20.0\n",
      "dash-core-components: 1.16.0\n",
      "dash-html-components: 1.1.3\n",
      "dash-bootstrap-components: 0.12.0\n"
     ]
    }
   ],
   "source": [
    "conda_version = ! conda -V\n",
    "print(f\"conda : {conda_version[0].split()[1]}\")\n",
    "pip_version = ! pip -V\n",
    "print(f\"pip   : {pip_version[0].split()[1]}\")\n",
    "python_version = ! python -V\n",
    "print(f\"python: {python_version[0].split()[1]}\")\n",
    "pandas_version = ! pip list |grep -ie \"^pandas \"\n",
    "print(f\"pandas: {pandas_version[0].split()[1]}\")\n",
    "numpy_version = ! pip list |grep -ie \"^numpy \"\n",
    "print(f\"numpy : {numpy_version[0].split()[1]}\")\n",
    "plotly_version = ! pip list |grep -ie \"^plotly \"\n",
    "print(f\"plotly: {plotly_version[0].split()[1]}\")\n",
    "dash_version = ! pip list |grep -ie \"^dash \"\n",
    "print(f\"dash  : {dash_version[0].split()[1]}\")\n",
    "core_version = ! pip list |grep -ie \"^dash-core-components\"\n",
    "print(f\"dash-core-components: {core_version[0].split()[1]}\")\n",
    "html_version = ! pip list |grep -ie \"^dash-html-components\"\n",
    "print(f\"dash-html-components: {html_version[0].split()[1]}\")\n",
    "bootstrap_version = ! pip list |grep -ie \"^dash-bootstrap-components\"\n",
    "print(f\"dash-bootstrap-components: {bootstrap_version[0].split()[1]}\")"
   ]
  },
  {
   "cell_type": "markdown",
   "metadata": {},
   "source": [
    "### parameters"
   ]
  },
  {
   "cell_type": "code",
   "execution_count": 2,
   "metadata": {},
   "outputs": [],
   "source": [
    "# virtual machine parameters\n",
    "server = \"23.97.187.214\"\n",
    "port   = \"8050\""
   ]
  },
  {
   "cell_type": "markdown",
   "metadata": {},
   "source": [
    "**example code below will show a green button**\n",
    "![green Success button](../../image/howto_plotlydash/dash_green_success.png)"
   ]
  },
  {
   "cell_type": "code",
   "execution_count": 3,
   "metadata": {},
   "outputs": [
    {
     "name": "stdout",
     "output_type": "stream",
     "text": [
      "Dash will be running on http://23.97.187.214:8050/ \n",
      "\n"
     ]
    }
   ],
   "source": [
    "print(\"Dash will be running on http://\"+server+\":\"+port+\"/\", \"\\n\")"
   ]
  },
  {
   "cell_type": "markdown",
   "metadata": {},
   "source": [
    "### run from jupyter"
   ]
  },
  {
   "cell_type": "code",
   "execution_count": 4,
   "metadata": {},
   "outputs": [
    {
     "name": "stdout",
     "output_type": "stream",
     "text": [
      "Dash is running on http://0.0.0.0:8050/\n",
      "\n",
      " * Serving Flask app \"__main__\" (lazy loading)\n",
      " * Environment: production\n",
      "\u001b[31m   WARNING: This is a development server. Do not use it in a production deployment.\u001b[0m\n",
      "\u001b[2m   Use a production WSGI server instead.\u001b[0m\n",
      " * Debug mode: off\n"
     ]
    },
    {
     "name": "stderr",
     "output_type": "stream",
     "text": [
      " * Running on http://0.0.0.0:8050/ (Press CTRL+C to quit)\n",
      "84.198.32.146 - - [20/Apr/2021 17:29:15] \"\u001b[37mGET / HTTP/1.1\u001b[0m\" 200 -\n",
      "84.198.32.146 - - [20/Apr/2021 17:29:15] \"\u001b[37mGET /_dash-layout HTTP/1.1\u001b[0m\" 200 -\n",
      "84.198.32.146 - - [20/Apr/2021 17:29:15] \"\u001b[37mGET /_dash-dependencies HTTP/1.1\u001b[0m\" 200 -\n",
      "84.198.32.146 - - [20/Apr/2021 17:29:15] \"\u001b[37mGET /_favicon.ico?v=1.20.0 HTTP/1.1\u001b[0m\" 200 -\n"
     ]
    }
   ],
   "source": [
    "# stop cell when done to continue...\n",
    "import dash\n",
    "import dash_bootstrap_components as dbc\n",
    "import dash_html_components as html\n",
    "\n",
    "external_stylesheets = [dbc.themes.BOOTSTRAP]\n",
    "\n",
    "app = dash.Dash(__name__,\n",
    "                external_stylesheets=external_stylesheets,\n",
    "                suppress_callback_exceptions=True)\n",
    "server = app.server\n",
    "app.title = 'project title'\n",
    "\n",
    "app.layout = html.Div(children=[\n",
    "    dbc.Button(\"Success\", color=\"success\", className=\"mr-1\"),\n",
    "])\n",
    "\n",
    "if __name__ == '__main__':\n",
    "    app.run_server(host='0.0.0.0', debug=False, port=8050)"
   ]
  },
  {
   "cell_type": "markdown",
   "metadata": {},
   "source": [
    "### run from vscode\n",
    "\n",
    "**using visual studio code debugger** `~/.vscode/launch.json`**:**\n",
    "```json\n",
    "{\n",
    "    // https://go.microsoft.com/fwlink/?linkid=830387\n",
    "    \"version\": \"0.2.0\",\n",
    "    \"configurations\": [\n",
    "        {\n",
    "            \"name\": \"Python: Current File\",\n",
    "            \"type\": \"python\",\n",
    "            \"request\": \"launch\",\n",
    "            \"program\": \"${file}\",\n",
    "            \"console\": \"integratedTerminal\",\n",
    "            \"cwd\": \"${fileDirname}\"\n",
    "        }\n",
    "    ]\n",
    "}\n",
    "```\n",
    "\n",
    "Activate the correct python interpreter path in vscode ('py38_dashboard':conda)  \n",
    "name your code `main.py` when using `__main__`  \n",
    "`enable debug=True`\n",
    "\n",
    "```python\n",
    "if __name__ == '__main__':\n",
    "    app.run_server(host='0.0.0.0', debug=True, port=8050)\n",
    "```\n",
    "![vscode debug dashboard](../../image/howto_plotlydash/vscode_debug_dashboard.png)"
   ]
  },
  {
   "cell_type": "markdown",
   "metadata": {},
   "source": [
    "## Theme\n",
    "Customize the look of your app using the bundled themes.  \n",
    "\n",
    "**using the [default](https://www.bootstrapcdn.com/) theme:**\n",
    "```python\n",
    "import dash\n",
    "import dash_bootstrap_components as dbc\n",
    "\n",
    "external_stylesheets = [dbc.themes.BOOTSTRAP] # Bootstrap must be in CAPITAL letters\n",
    "app = dash.Dash(__name__, external_stylesheets=external_stylesheets)\n",
    "```\n",
    "\n",
    "**using [other](https://bootswatch.com/) themes:**\n",
    "```python\n",
    "import dash\n",
    "import dash_bootstrap_components as dbc\n",
    "\n",
    "external_stylesheets = [dbc.themes.DARKLY] # Darkly must be in CAPITAL letters\n",
    "app = dash.Dash(__name__, external_stylesheets=external_stylesheets)\n",
    "```\n",
    "![bootswatch themes](../../image/howto_plotlydash/bootswatch_themes.png)"
   ]
  },
  {
   "cell_type": "markdown",
   "metadata": {},
   "source": [
    "## Layout\n",
    "Customize the **[page layout](https://dash-bootstrap-components.opensource.faculty.ai/docs/components/layout/)** of your components.  \n",
    "The **rows** are defined **first**, then the columns.  \n",
    "dbc.Col() always go inside dbc.Row()\n",
    "```python\n",
    "app.layout = html.Div([\n",
    "        dbc.Row(dbc.Col(html.H3(\"Our Beautiful App Layout\"),\n",
    "                        width={'size': 6, 'offset': 3, 'order': 1},\n",
    "                        ),\n",
    "                ),\n",
    "])\n",
    "```\n",
    "![inspect layout](../../image/howto_plotlydash/inspect_layout.png)\n",
    "\n",
    "The total width always has a 12-column invisible grid within each row.\n",
    "* **size** is the number of columns for the component\n",
    "* **offset** is the number of empty columns left of the component\n",
    "* **order** is the position from left to right for the components\n",
    "```python\n",
    "app.layout = html.Div([\n",
    "        dbc.Row(\n",
    "            [\n",
    "                dbc.Col(dcc.Dropdown(id='c_dropdown', placeholder='last dropdown',\n",
    "                                     options=[{'label': 'Option A', 'value': 'optA'},\n",
    "                                              {'label': 'Option B', 'value': 'optB'}]),\n",
    "                        width={'size': 3, \"offset\": 2, 'order': 3}\n",
    "                        ),\n",
    "                dbc.Col(dcc.Dropdown(id='a_dropdown', placeholder='first dropdown',\n",
    "                                     options=[{'label': 'Option A', 'value': 'optA'},\n",
    "                                              {'label': 'Option B', 'value': 'optB'}]),\n",
    "                        width={'size': 4, \"offset\": 1, 'order': 1}\n",
    "                        ),\n",
    "                dbc.Col(dcc.Dropdown(id='b_dropdown', placeholder='middle dropdown',\n",
    "                                     options=[{'label': 'Option A', 'value': 'optA'},\n",
    "                                              {'label': 'Option B', 'value': 'optB'}]),\n",
    "                        width={'size': 2,  \"offset\": 0, 'order': 2}\n",
    "                        ),\n",
    "])\n",
    "```\n",
    "![inspect dropdown layout](../../image/howto_plotlydash/inspect_dropdown_layout.png)"
   ]
  },
  {
   "cell_type": "markdown",
   "metadata": {},
   "source": [
    "## Components\n",
    "components and props for interactive user interfaces.\n",
    "\n",
    "**[dash core components](https://dash.plotly.com/dash-core-components):**\n",
    "```python\n",
    "import dash_core_components as dcc\n",
    "\n",
    "dcc.Dropdown()\n",
    "dcc.Slider()\n",
    "dcc.RangeSlider()\n",
    "dcc.Checklist()\n",
    "dcc.Graph()\n",
    "```\n",
    "![core](../../image/howto_plotlydash/dash_core.png)\n",
    "**[dash bootstrap components](https://dash-bootstrap-components.opensource.faculty.ai/docs/components):**\n",
    "```python\n",
    "import dash_bootstrap_components as dbc\n",
    "\n",
    "dbc.DropdownMenu()\n",
    "dbc.Button()\n",
    "dbc.FormGroup()\n",
    "dbc.Col()\n",
    "dbc.Progress()\n",
    "```\n",
    "![bootstrap](../../image/howto_plotlydash/dash_bootstrap.png)\n",
    "**[dash html components](https://dash.plotly.com/dash-html-components):**\n",
    "```python\n",
    "import dash_html_components as html\n",
    "\n",
    "html.Div()\n",
    "html.H1()\n",
    "html.H3()\n",
    "html.P()\n",
    "html.Img()\n",
    "```\n",
    "![html](../../image/howto_plotlydash/dash_html_components.png)\n",
    "**[dash table components](https://dash.plotly.com/datatable):**\n",
    "```python\n",
    "import dash_table as dt\n",
    "\n",
    "dt.DataTable()\n",
    "```\n",
    "![datatable](../../image/howto_plotlydash/dash_datatable.png)\n",
    "**[dash cytoscape components](https://dash.plotly.com/cytoscape):**\n",
    "```python\n",
    "import dash_cytoscape as cyto\n",
    "\n",
    "cyto.Cytoscape()\n",
    "```\n",
    "![graph visualization](../../image/howto_plotlydash/graph_visualization_component.png)"
   ]
  },
  {
   "cell_type": "markdown",
   "metadata": {},
   "source": [
    "## Callback\n",
    "\n",
    "**remember:**  \n",
    "* a callback is automatically triggered the app is loaded, to prevent use `prevent_initial_call=True`\n",
    "* whenever the component_property of `Input()` changes, the callback is triggered\n",
    "* whenever the component_property of `State()` changes, the callback is **NOT** triggered\n",
    "* callback always needs an `Input()` and `Output()`, but not necessarily `State()`\n",
    "* every input and state need to be represented as callback function **arguments**\n",
    "* the callback function returns data to the component_property of `Output()`\n",
    "* any given `Output(id, property)` can only have one callback that sets it\n",
    "* if the user triggers the callback but you want __none__ of the Outputs to update, `raise dash.exceptions.PreventUpdate`\n",
    "* if the user triggers the callback but you want only __some__ of the Outputs to update, `return Dash.no_update`\n",
    "\n",
    "```python\n",
    "@app.callback(\n",
    "    [Output(component_id='output1', component_property='value'),\n",
    "     Output(component_id='output2', component_property='figure')],\n",
    "    [Input(component_id='input1', component_property='value'),\n",
    "     Input(component_id='input2', component_property='value')],\n",
    "    [State(component_id='state1', component_property='value'),\n",
    "     State(component_id='state2', component_property='value')],\n",
    "    prevent_initial_call=False\n",
    ")\n",
    "def any_function_name(input1, input2, state1, state2):\n",
    "    if condition:\n",
    "        do tasks\n",
    "        return dash.no_update, {'data': [1, 2, 3]}\n",
    "    elif len(input2) == 0:\n",
    "        raise dash.exceptions.PreventUpdate\n",
    "    else:\n",
    "        return figure, {'data': [1, 2, 3]}\n",
    "```\n",
    "![app callback schema](../../image/howto_plotlydash/app_callback_schema.png)"
   ]
  },
  {
   "cell_type": "markdown",
   "metadata": {},
   "source": [
    "## Sources\n",
    "udemy course (Josse Portilla): [Interactive Python Dashboards with Plotly and Dash](https://www.udemy.com/share/101WaOAEUdeF9UQHg)  \n",
    "udemy course (Profesor Pip): [Interactive Python Dashboards with Plotly and Dash](https://www.udemy.com/share/102dzqAEUdeF9UQHg)  \n",
    "youtube video (Charming Data): [Introduction to Dash Bootstrap - Styling your App](https://www.youtube.com/watch?v=vqVwpL4bGKY)   \n",
    "youtube video (Charming Data): [The Dash Callback - Input, Output, State, and more](https://www.youtube.com/watch?v=mTsZL-VmRVE)  "
   ]
  },
  {
   "cell_type": "markdown",
   "metadata": {},
   "source": [
    "---"
   ]
  },
  {
   "cell_type": "markdown",
   "metadata": {},
   "source": [
    "# Dashboard deployment\n",
    "## Required\n",
    "* open a ssh putty session to this VM\n",
    "* open a cloud powershell session\n",
    "* **optional:** [register](https://hub.docker.com/) docker hub account"
   ]
  },
  {
   "cell_type": "markdown",
   "metadata": {},
   "source": [
    "## Develop\n",
    "Development files and directory for containerization.  \n",
    "Asuming the dashboard python code already developed using VSCode and debugger.\n",
    "\n",
    "1. parameters\n",
    "1. project folder\n",
    "1. project files\n",
    "  * requirements.txt\n",
    "  * application.py\n",
    "  * Dockerfile"
   ]
  },
  {
   "cell_type": "markdown",
   "metadata": {},
   "source": [
    "### parameters"
   ]
  },
  {
   "cell_type": "code",
   "execution_count": 5,
   "metadata": {},
   "outputs": [],
   "source": [
    "IPADDR           = \"23.97.187.214\" # this VM IP\n",
    "PROJNAME         = \"dash-azure\" # docker image name and project folder name\n",
    "DOCKERHUB_USER   = \"beire2018\" # docker hub account name\n",
    "AZUREDOCKER_USER = \"container200420\" # azure docker container registry account name DDMMYY\n",
    "DOCKER_TAG       = \"latest\" # {v1.0.0, latest}\n",
    "WEBAPP_PORT      = \"80\" # {default 80, 8050}"
   ]
  },
  {
   "cell_type": "code",
   "execution_count": 6,
   "metadata": {},
   "outputs": [],
   "source": [
    "RESOURCE_GROUP                = \"myResourceGroup4\"\n",
    "LOCATION                      = \"westeurope\" # {westeurope, northeurope, eastus}\n",
    "APPSERVICEPLAN_NAME           = \"myAppServicePlan4\"\n",
    "APPSERVICEPLAN_COMPUTE        = \"B1\" # {F1 free 1G, B1 €11/m 1.7G, B2 3.5G, B3 7G}=DEV, {P1V2}=PROD \n",
    "WEBAPP_NAME                   = \"kevin200420\" # DDMMYY\n",
    "DOCKER_HUB_CONTAINER_NAME     = DOCKERHUB_USER + \"/\" + PROJNAME + \":\" + DOCKER_TAG # <username>/<container-or-image>:<tag>\n",
    "AZURE_CONTAINER_REGISTRY_NAME = AZUREDOCKER_USER + \".azurecr.io/\" + PROJNAME + \":\" + DOCKER_TAG"
   ]
  },
  {
   "cell_type": "markdown",
   "metadata": {},
   "source": [
    "### project folder"
   ]
  },
  {
   "cell_type": "code",
   "execution_count": 7,
   "metadata": {},
   "outputs": [
    {
     "name": "stdout",
     "output_type": "stream",
     "text": [
      "dash-azure folder created\n"
     ]
    }
   ],
   "source": [
    "import os\n",
    "project_folder = '../dashboards/' + PROJNAME\n",
    "os.makedirs(project_folder, exist_ok=True)\n",
    "print(PROJNAME, 'folder created')"
   ]
  },
  {
   "cell_type": "markdown",
   "metadata": {},
   "source": [
    "### project files"
   ]
  },
  {
   "cell_type": "markdown",
   "metadata": {},
   "source": [
    "**requirements.txt**  \n",
    "python packages list to be installed in container"
   ]
  },
  {
   "cell_type": "code",
   "execution_count": 8,
   "metadata": {},
   "outputs": [
    {
     "name": "stdout",
     "output_type": "stream",
     "text": [
      "Overwriting ../dashboards/dash-azure/requirements.txt\n"
     ]
    }
   ],
   "source": [
    "%%writefile $project_folder/requirements.txt\n",
    "dash"
   ]
  },
  {
   "cell_type": "markdown",
   "metadata": {},
   "source": [
    "**application.py**  \n",
    "plotly dash code to run a flask service in python (port: 80)"
   ]
  },
  {
   "cell_type": "code",
   "execution_count": 9,
   "metadata": {},
   "outputs": [
    {
     "name": "stdout",
     "output_type": "stream",
     "text": [
      "Overwriting ../dashboards/dash-azure/application.py\n"
     ]
    }
   ],
   "source": [
    "%%writefile $project_folder/application.py\n",
    "import dash\n",
    "import dash_core_components as dcc\n",
    "import dash_html_components as html\n",
    "\n",
    "app = dash.Dash()\n",
    "application = app.server\n",
    "\n",
    "app.layout = html.Div(children=[\n",
    "    html.H1(children='Hello Dash'),\n",
    "\n",
    "    html.Div(children='''This is Dash running on Azure App Service.'''),\n",
    "\n",
    "    dcc.Graph(\n",
    "        id='example-graph',\n",
    "        figure={\n",
    "            'data': [\n",
    "                {'x': [1, 2, 3], 'y': [4, 1, 2], 'type': 'bar', 'name': 'SF'},\n",
    "                {'x': [1, 2, 3], 'y': [2, 4, 5], 'type': 'bar', 'name': u'Montréal'},\n",
    "            ],\n",
    "            'layout': {\n",
    "                'title': 'Dash Data Visualization'\n",
    "            }\n",
    "        }\n",
    "    )\n",
    "])\n",
    "\n",
    "if __name__ == '__main__':\n",
    "    application.run(debug=True, host='0.0.0.0', port='80')  # use port 80 for Azure Web App service"
   ]
  },
  {
   "cell_type": "markdown",
   "metadata": {},
   "source": [
    "**Dockerfile**  \n",
    "docker container build steps, open an interactive shell to develop steps and remove upon exit\n",
    "```sh\n",
    "sudo docker container run -p 8050:80 --rm -it python:3.6-slim /bin/sh\n",
    "    pip -V\n",
    "    mkdir /app\n",
    "    cd /app\n",
    "    vi requirements.txt\n",
    "    pip install -r requirements.txt\n",
    "    vi application.py\n",
    "    python application.py\n",
    "```"
   ]
  },
  {
   "cell_type": "code",
   "execution_count": 10,
   "metadata": {},
   "outputs": [
    {
     "name": "stdout",
     "output_type": "stream",
     "text": [
      "Overwriting ../dashboards/dash-azure/Dockerfile\n"
     ]
    }
   ],
   "source": [
    "%%writefile $project_folder/Dockerfile\n",
    "FROM python:3.6-slim\n",
    "\n",
    "RUN mkdir /app\n",
    "WORKDIR /app\n",
    "ADD requirements.txt /app/\n",
    "RUN pip install -r requirements.txt\n",
    "ADD . /app/\n",
    "\n",
    "ENTRYPOINT [ \"python\" ]\n",
    "CMD [\"application.py\"]"
   ]
  },
  {
   "cell_type": "markdown",
   "metadata": {},
   "source": [
    "## Verify"
   ]
  },
  {
   "cell_type": "markdown",
   "metadata": {},
   "source": [
    "Test run the docker container on the cloud VM (local)\n",
    "\n",
    "1. build image\n",
    "1. run image"
   ]
  },
  {
   "cell_type": "markdown",
   "metadata": {},
   "source": [
    "### build image"
   ]
  },
  {
   "cell_type": "code",
   "execution_count": 11,
   "metadata": {},
   "outputs": [
    {
     "name": "stdout",
     "output_type": "stream",
     "text": [
      "sudo docker build -t dash-azure ../dashboards/dash-azure/.\n"
     ]
    }
   ],
   "source": [
    "print(\"sudo docker build -t \" + PROJNAME + \" \" + project_folder +\"/.\")"
   ]
  },
  {
   "cell_type": "code",
   "execution_count": 12,
   "metadata": {},
   "outputs": [
    {
     "name": "stdout",
     "output_type": "stream",
     "text": [
      "Sending build context to Docker daemon  4.608kB\n",
      "Step 1/8 : FROM python:3.6-slim\n",
      "3.6-slim: Pulling from library/python\n",
      "\n",
      "\u001b[1B5a41d630: Pulling fs layer \n",
      "\u001b[1B8b7b4c32: Pulling fs layer \n",
      "\u001b[1B2ad15a23: Pulling fs layer \n",
      "\u001b[1B3e3eee91: Pulling fs layer \n",
      "\u001b[1B9a280109: Pull complete 453MB/2.453MBB\u001b[4A\u001b[2K\u001b[5A\u001b[2K\u001b[3A\u001b[2K\u001b[5A\u001b[2K\u001b[5A\u001b[2K\u001b[5A\u001b[2K\u001b[5A\u001b[2K\u001b[1A\u001b[2K\u001b[1A\u001b[2K\u001b[5A\u001b[2K\u001b[5A\u001b[2K\u001b[5A\u001b[2K\u001b[5A\u001b[2K\u001b[5A\u001b[2K\u001b[5A\u001b[2K\u001b[5A\u001b[2K\u001b[5A\u001b[2K\u001b[5A\u001b[2K\u001b[5A\u001b[2K\u001b[5A\u001b[2K\u001b[4A\u001b[2K\u001b[4A\u001b[2K\u001b[4A\u001b[2K\u001b[3A\u001b[2K\u001b[3A\u001b[2K\u001b[3A\u001b[2K\u001b[3A\u001b[2K\u001b[3A\u001b[2K\u001b[3A\u001b[2K\u001b[3A\u001b[2K\u001b[2A\u001b[2K\u001b[2A\u001b[2K\u001b[1A\u001b[2K\u001b[1A\u001b[2K\u001b[1A\u001b[2K\u001b[1A\u001b[2K\u001b[1A\u001b[2KDigest: sha256:596c35c09d59adf2afbefa3aa970f26ac3ba3c2396c6766a7c73086ac850d416\n",
      "Status: Downloaded newer image for python:3.6-slim\n",
      " ---> 5e900d21ca3f\n",
      "Step 2/8 : RUN mkdir /app\n",
      " ---> Running in 4a1935691ea9\n",
      "Removing intermediate container 4a1935691ea9\n",
      " ---> ad102e730ea2\n",
      "Step 3/8 : WORKDIR /app\n",
      " ---> Running in 84d1409e2c50\n",
      "Removing intermediate container 84d1409e2c50\n",
      " ---> f815edfd1c0b\n",
      "Step 4/8 : ADD requirements.txt /app/\n",
      " ---> b2ead26b0653\n",
      "Step 5/8 : RUN pip install -r requirements.txt\n",
      " ---> Running in 9e2f7735653a\n",
      "Collecting dash\n",
      "  Downloading dash-1.20.0.tar.gz (77 kB)\n",
      "Collecting Flask>=1.0.4\n",
      "  Downloading Flask-1.1.2-py2.py3-none-any.whl (94 kB)\n",
      "Collecting flask-compress\n",
      "  Downloading Flask_Compress-1.9.0-py3-none-any.whl (7.3 kB)\n",
      "Collecting plotly\n",
      "  Downloading plotly-4.14.3-py2.py3-none-any.whl (13.2 MB)\n",
      "Collecting dash_renderer==1.9.1\n",
      "  Downloading dash_renderer-1.9.1.tar.gz (1.0 MB)\n",
      "Collecting dash-core-components==1.16.0\n",
      "  Downloading dash_core_components-1.16.0.tar.gz (3.5 MB)\n",
      "Collecting dash-html-components==1.1.3\n",
      "  Downloading dash_html_components-1.1.3.tar.gz (82 kB)\n",
      "Collecting dash-table==4.11.3\n",
      "  Downloading dash_table-4.11.3.tar.gz (1.8 MB)\n",
      "Collecting future\n",
      "  Downloading future-0.18.2.tar.gz (829 kB)\n",
      "Collecting Jinja2>=2.10.1\n",
      "  Downloading Jinja2-2.11.3-py2.py3-none-any.whl (125 kB)\n",
      "Collecting Werkzeug>=0.15\n",
      "  Downloading Werkzeug-1.0.1-py2.py3-none-any.whl (298 kB)\n",
      "Collecting click>=5.1\n",
      "  Downloading click-7.1.2-py2.py3-none-any.whl (82 kB)\n",
      "Collecting itsdangerous>=0.24\n",
      "  Downloading itsdangerous-1.1.0-py2.py3-none-any.whl (16 kB)\n",
      "Collecting MarkupSafe>=0.23\n",
      "  Downloading MarkupSafe-1.1.1-cp36-cp36m-manylinux2010_x86_64.whl (32 kB)\n",
      "Collecting brotli\n",
      "  Downloading Brotli-1.0.9-cp36-cp36m-manylinux1_x86_64.whl (357 kB)\n",
      "Collecting six\n",
      "  Downloading six-1.15.0-py2.py3-none-any.whl (10 kB)\n",
      "Collecting retrying>=1.3.3\n",
      "  Downloading retrying-1.3.3.tar.gz (10 kB)\n",
      "Building wheels for collected packages: dash, dash-core-components, dash-html-components, dash-renderer, dash-table, future, retrying\n",
      "  Building wheel for dash (setup.py): started\n",
      "  Building wheel for dash (setup.py): finished with status 'done'\n",
      "  Created wheel for dash: filename=dash-1.20.0-py3-none-any.whl size=85831 sha256=e72e4ca9e6fbe3ddb9f7f9ca9e3f991d3389f3e37cf73ca2527b37cf8ae09969\n",
      "  Stored in directory: /root/.cache/pip/wheels/f5/8f/d6/fba2563893d6fe0fe4a695af9dd45d1d569ac9007dc8287cf8\n",
      "  Building wheel for dash-core-components (setup.py): started\n",
      "  Building wheel for dash-core-components (setup.py): finished with status 'done'\n",
      "  Created wheel for dash-core-components: filename=dash_core_components-1.16.0-py3-none-any.whl size=3540991 sha256=093cc5a9d343a7f9b5680e068a4505f57d9887ef46291d7aa411cf6efb799d2e\n",
      "  Stored in directory: /root/.cache/pip/wheels/0e/1b/b5/5e2fd49287eda64467c42696612e869002dcf9b876a8e0213f\n",
      "  Building wheel for dash-html-components (setup.py): started\n",
      "  Building wheel for dash-html-components (setup.py): finished with status 'done'\n",
      "  Created wheel for dash-html-components: filename=dash_html_components-1.1.3-py3-none-any.whl size=319471 sha256=bef55036e76ded4d3086e96d840f6766b3521586623fc2c2bd54466a538fb438\n",
      "  Stored in directory: /root/.cache/pip/wheels/92/51/08/6fe861b9df70eaa636e575473d09e5a8c85b33f28ac265d603\n",
      "  Building wheel for dash-renderer (setup.py): started\n",
      "  Building wheel for dash-renderer (setup.py): finished with status 'done'\n",
      "  Created wheel for dash-renderer: filename=dash_renderer-1.9.1-py3-none-any.whl size=1014878 sha256=7dfe3ce436b8ca1d0551d88716f45277662e8f2c235ebd5b0220a9b3a0e86548\n",
      "  Stored in directory: /root/.cache/pip/wheels/03/6e/a3/5d2d60226c9e8db26f13710645e333eeeb82907b6c1ce55a3f\n",
      "  Building wheel for dash-table (setup.py): started\n",
      "  Building wheel for dash-table (setup.py): finished with status 'done'\n",
      "  Created wheel for dash-table: filename=dash_table-4.11.3-py3-none-any.whl size=1827618 sha256=8ae6c60f85a5c53c09468319288ac32e11747e4851e44409d33b7e0094909483\n",
      "  Stored in directory: /root/.cache/pip/wheels/e1/87/37/b318a034e5baff5cd3288d5e6d16e3472f5f7fa0d94bf2d574\n",
      "  Building wheel for future (setup.py): started\n",
      "  Building wheel for future (setup.py): finished with status 'done'\n",
      "  Created wheel for future: filename=future-0.18.2-py3-none-any.whl size=491059 sha256=325b513ff1cf091c79718a9239211d97cff0a247e75e31bf27736df87c007aca\n",
      "  Stored in directory: /root/.cache/pip/wheels/6e/9c/ed/4499c9865ac1002697793e0ae05ba6be33553d098f3347fb94\n",
      "  Building wheel for retrying (setup.py): started\n",
      "  Building wheel for retrying (setup.py): finished with status 'done'\n",
      "  Created wheel for retrying: filename=retrying-1.3.3-py3-none-any.whl size=11429 sha256=b612c85082418bc214867f9ed1e4ee3fa733afd3a53b9137fcb0e8d4e918e0ad\n",
      "  Stored in directory: /root/.cache/pip/wheels/ac/cb/8a/b27bf6323e2f4c462dcbf77d70b7c5e7868a7fbe12871770cf\n",
      "Successfully built dash dash-core-components dash-html-components dash-renderer dash-table future retrying\n",
      "Installing collected packages: MarkupSafe, Werkzeug, six, Jinja2, itsdangerous, click, retrying, Flask, brotli, plotly, future, flask-compress, dash-table, dash-renderer, dash-html-components, dash-core-components, dash\n",
      "Successfully installed Flask-1.1.2 Jinja2-2.11.3 MarkupSafe-1.1.1 Werkzeug-1.0.1 brotli-1.0.9 click-7.1.2 dash-1.20.0 dash-core-components-1.16.0 dash-html-components-1.1.3 dash-renderer-1.9.1 dash-table-4.11.3 flask-compress-1.9.0 future-0.18.2 itsdangerous-1.1.0 plotly-4.14.3 retrying-1.3.3 six-1.15.0\n",
      "Removing intermediate container 9e2f7735653a\n",
      " ---> a97c2f0e2535\n",
      "Step 6/8 : ADD . /app/\n",
      " ---> 4d46a4546750\n",
      "Step 7/8 : ENTRYPOINT [ \"python\" ]\n",
      " ---> Running in a70087fdff45\n",
      "Removing intermediate container a70087fdff45\n",
      " ---> bb68a7860a25\n",
      "Step 8/8 : CMD [\"application.py\"]\n",
      " ---> Running in 6acd575b8173\n",
      "Removing intermediate container 6acd575b8173\n",
      " ---> ba2dfa4759c0\n",
      "Successfully built ba2dfa4759c0\n",
      "Successfully tagged dash-azure:latest\n"
     ]
    }
   ],
   "source": [
    "! sudo docker build -t $PROJNAME $project_folder/."
   ]
  },
  {
   "cell_type": "markdown",
   "metadata": {},
   "source": [
    "### run image"
   ]
  },
  {
   "cell_type": "code",
   "execution_count": 13,
   "metadata": {},
   "outputs": [
    {
     "name": "stdout",
     "output_type": "stream",
     "text": [
      "===>  http://23.97.187.214:8050/ \n",
      "\n",
      " * Serving Flask app \"application\" (lazy loading)\n",
      " * Environment: production\n",
      "\u001b[31m   WARNING: This is a development server. Do not use it in a production deployment.\u001b[0m\n",
      "\u001b[2m   Use a production WSGI server instead.\u001b[0m\n",
      " * Debug mode: on\n",
      " * Running on http://0.0.0.0:80/ (Press CTRL+C to quit)\n",
      " * Restarting with stat\n",
      " * Debugger is active!\n",
      " * Debugger PIN: 159-763-918\n",
      "84.198.32.146 - - [20/Apr/2021 15:31:12] \"\u001b[37mGET / HTTP/1.1\u001b[0m\" 200 -\n",
      "84.198.32.146 - - [20/Apr/2021 15:31:12] \"\u001b[37mGET /_dash-component-suites/dash_renderer/polyfill@7.v1_9_1m1618932623.8.7.min.js HTTP/1.1\u001b[0m\" 200 -\n",
      "84.198.32.146 - - [20/Apr/2021 15:31:12] \"\u001b[37mGET /_dash-component-suites/dash_renderer/react@16.v1_9_1m1618932623.14.0.min.js HTTP/1.1\u001b[0m\" 200 -\n",
      "84.198.32.146 - - [20/Apr/2021 15:31:12] \"\u001b[37mGET /_dash-component-suites/dash_html_components/dash_html_components.v1_1_3m1618932623.min.js HTTP/1.1\u001b[0m\" 200 -\n",
      "84.198.32.146 - - [20/Apr/2021 15:31:12] \"\u001b[37mGET /_dash-component-suites/dash_renderer/prop-types@15.v1_9_1m1618932623.7.2.min.js HTTP/1.1\u001b[0m\" 200 -\n",
      "84.198.32.146 - - [20/Apr/2021 15:31:12] \"\u001b[37mGET /_dash-component-suites/dash_renderer/react-dom@16.v1_9_1m1618932623.14.0.min.js HTTP/1.1\u001b[0m\" 200 -\n",
      "84.198.32.146 - - [20/Apr/2021 15:31:12] \"\u001b[37mGET /_dash-component-suites/dash_core_components/dash_core_components.v1_16_0m1618932623.min.js HTTP/1.1\u001b[0m\" 200 -\n",
      "84.198.32.146 - - [20/Apr/2021 15:31:12] \"\u001b[37mGET /_dash-component-suites/dash_core_components/dash_core_components-shared.v1_16_0m1618932623.js HTTP/1.1\u001b[0m\" 200 -\n",
      "84.198.32.146 - - [20/Apr/2021 15:31:12] \"\u001b[37mGET /_dash-component-suites/dash_renderer/dash_renderer.v1_9_1m1618932623.min.js HTTP/1.1\u001b[0m\" 200 -\n",
      "84.198.32.146 - - [20/Apr/2021 15:31:12] \"\u001b[37mGET /_dash-layout HTTP/1.1\u001b[0m\" 200 -\n",
      "84.198.32.146 - - [20/Apr/2021 15:31:13] \"\u001b[37mGET /_dash-dependencies HTTP/1.1\u001b[0m\" 200 -\n",
      "84.198.32.146 - - [20/Apr/2021 15:31:13] \"\u001b[37mGET /_favicon.ico?v=1.20.0 HTTP/1.1\u001b[0m\" 200 -\n",
      "^C\n"
     ]
    }
   ],
   "source": [
    "print(\"===>  http://\" + IPADDR + \":8050/\", \"\\n\")\n",
    "! sudo docker run -it --rm -p 8050:80 $PROJNAME   # bridge application.py port 80 to external port 8050\n",
    "\n",
    "    # stop cell when done to continue..."
   ]
  },
  {
   "cell_type": "markdown",
   "metadata": {},
   "source": [
    "## Public\n",
    "**option 1:** login, build and deploy the web app using **docker hub**\n",
    "\n",
    "1. login\n",
    "1. build image\n",
    "1. push image\n",
    "1. deploy web app"
   ]
  },
  {
   "cell_type": "markdown",
   "metadata": {},
   "source": [
    "### login\n",
    "open a putty session and execute this command"
   ]
  },
  {
   "cell_type": "code",
   "execution_count": 14,
   "metadata": {},
   "outputs": [
    {
     "name": "stdout",
     "output_type": "stream",
     "text": [
      "sudo docker login --username beire2018\n"
     ]
    }
   ],
   "source": [
    "# login to your personal docker hub account\n",
    "print(\"sudo docker login --username \" + DOCKERHUB_USER)"
   ]
  },
  {
   "cell_type": "markdown",
   "metadata": {},
   "source": [
    "### build image"
   ]
  },
  {
   "cell_type": "code",
   "execution_count": 15,
   "metadata": {},
   "outputs": [
    {
     "name": "stdout",
     "output_type": "stream",
     "text": [
      "sudo docker build -t beire2018/dash-azure ../dashboards/dash-azure/.\n"
     ]
    }
   ],
   "source": [
    "print(\"sudo docker build -t \" + DOCKERHUB_USER + \"/\" + PROJNAME + \" \" + project_folder +\"/.\")"
   ]
  },
  {
   "cell_type": "code",
   "execution_count": 16,
   "metadata": {},
   "outputs": [
    {
     "name": "stdout",
     "output_type": "stream",
     "text": [
      "Sending build context to Docker daemon  4.608kB\n",
      "Step 1/8 : FROM python:3.6-slim\n",
      " ---> 5e900d21ca3f\n",
      "Step 2/8 : RUN mkdir /app\n",
      " ---> Using cache\n",
      " ---> ad102e730ea2\n",
      "Step 3/8 : WORKDIR /app\n",
      " ---> Using cache\n",
      " ---> f815edfd1c0b\n",
      "Step 4/8 : ADD requirements.txt /app/\n",
      " ---> Using cache\n",
      " ---> b2ead26b0653\n",
      "Step 5/8 : RUN pip install -r requirements.txt\n",
      " ---> Using cache\n",
      " ---> a97c2f0e2535\n",
      "Step 6/8 : ADD . /app/\n",
      " ---> Using cache\n",
      " ---> 4d46a4546750\n",
      "Step 7/8 : ENTRYPOINT [ \"python\" ]\n",
      " ---> Using cache\n",
      " ---> bb68a7860a25\n",
      "Step 8/8 : CMD [\"application.py\"]\n",
      " ---> Using cache\n",
      " ---> ba2dfa4759c0\n",
      "Successfully built ba2dfa4759c0\n",
      "Successfully tagged beire2018/dash-azure:latest\n"
     ]
    }
   ],
   "source": [
    "! sudo docker build -t $DOCKERHUB_USER/$PROJNAME $project_folder/."
   ]
  },
  {
   "cell_type": "markdown",
   "metadata": {},
   "source": [
    "### push image"
   ]
  },
  {
   "cell_type": "code",
   "execution_count": 17,
   "metadata": {},
   "outputs": [
    {
     "name": "stdout",
     "output_type": "stream",
     "text": [
      "sudo docker push beire2018/dash-azure\n"
     ]
    }
   ],
   "source": [
    "print(\"sudo docker push \" + DOCKERHUB_USER + \"/\" + PROJNAME)"
   ]
  },
  {
   "cell_type": "code",
   "execution_count": 18,
   "metadata": {},
   "outputs": [
    {
     "name": "stdout",
     "output_type": "stream",
     "text": [
      "The push refers to repository [docker.io/beire2018/dash-azure]\n",
      "\n",
      "\u001b[1B51e0be76: Preparing \n",
      "\u001b[1B2b43fbec: Preparing \n",
      "\u001b[1B0bb50ae9: Preparing \n",
      "\u001b[1Ba1927aa8: Preparing \n",
      "\u001b[1Bb630fd7a: Preparing \n",
      "\u001b[1B6d18a48e: Preparing \n",
      "\u001b[1B1e91af74: Preparing \n",
      "\u001b[1B845af46d: Preparing \n",
      "\u001b[8B2b43fbec: Pushed   164.6MB/146.3MBhon K\u001b[8A\u001b[2K\u001b[8A\u001b[2K\u001b[5A\u001b[2K\u001b[8A\u001b[2K\u001b[8A\u001b[2K\u001b[8A\u001b[2K\u001b[8A\u001b[2K\u001b[8A\u001b[2K\u001b[8A\u001b[2K\u001b[8A\u001b[2K\u001b[8A\u001b[2K\u001b[8A\u001b[2K\u001b[8A\u001b[2K\u001b[8A\u001b[2K\u001b[8A\u001b[2K\u001b[8A\u001b[2K\u001b[8A\u001b[2K\u001b[4A\u001b[2K\u001b[8A\u001b[2K\u001b[9A\u001b[2K\u001b[8A\u001b[2K\u001b[8A\u001b[2K\u001b[8A\u001b[2K\u001b[8A\u001b[2K\u001b[8A\u001b[2K\u001b[8A\u001b[2K\u001b[8A\u001b[2K\u001b[8A\u001b[2K\u001b[8A\u001b[2K\u001b[8A\u001b[2K\u001b[8A\u001b[2K\u001b[8A\u001b[2K\u001b[8A\u001b[2K\u001b[8A\u001b[2K\u001b[8A\u001b[2K\u001b[8A\u001b[2K\u001b[1A\u001b[2K\u001b[8A\u001b[2K\u001b[8A\u001b[2K\u001b[8A\u001b[2K\u001b[8A\u001b[2K\u001b[8A\u001b[2K\u001b[8A\u001b[2K\u001b[8A\u001b[2K\u001b[8A\u001b[2K\u001b[8A\u001b[2K\u001b[8A\u001b[2K\u001b[8A\u001b[2K\u001b[8A\u001b[2K\u001b[8A\u001b[2K\u001b[8A\u001b[2K\u001b[8A\u001b[2K\u001b[8A\u001b[2K\u001b[8A\u001b[2K\u001b[8A\u001b[2K\u001b[8A\u001b[2K\u001b[8A\u001b[2K\u001b[8A\u001b[2K\u001b[8A\u001b[2K\u001b[8A\u001b[2K\u001b[8A\u001b[2K\u001b[8A\u001b[2K\u001b[8A\u001b[2K\u001b[8A\u001b[2K\u001b[8A\u001b[2K\u001b[8A\u001b[2K\u001b[8A\u001b[2K\u001b[8A\u001b[2K\u001b[8A\u001b[2K\u001b[8A\u001b[2K\u001b[8A\u001b[2K\u001b[8A\u001b[2K\u001b[8A\u001b[2K\u001b[8A\u001b[2K\u001b[8A\u001b[2K\u001b[8A\u001b[2K\u001b[8A\u001b[2K\u001b[8A\u001b[2K\u001b[8A\u001b[2Klatest: digest: sha256:6865041c844f05e224f652cfc7457df2e9b11e16e3dde67b32207f442da8e3a9 size: 2201\n"
     ]
    }
   ],
   "source": [
    "# upload the container image\n",
    "! sudo docker push $DOCKERHUB_USER/$PROJNAME"
   ]
  },
  {
   "cell_type": "markdown",
   "metadata": {},
   "source": [
    "### deploy web app\n",
    "update the parameters and run the cell to generate a deployment script  \n",
    "connect to cloud powershell, upload script, make executable and run"
   ]
  },
  {
   "cell_type": "code",
   "execution_count": 19,
   "metadata": {},
   "outputs": [
    {
     "name": "stdout",
     "output_type": "stream",
     "text": [
      "RESOURCE_GROUP=\"myResourceGroup4\"\n",
      "LOCATION=\"westeurope\"\n",
      "APPSERVICEPLAN_NAME=\"myAppServicePlan4\"\n",
      "APPSERVICEPLAN_COMPUTE=\"B1\"\n",
      "WEBAPP_NAME=\"kevin200420\"\n",
      "DOCKER_HUB_CONTAINER_NAME=\"beire2018/dash-azure:latest\"\n"
     ]
    }
   ],
   "source": [
    "# parameters\n",
    "print('RESOURCE_GROUP=\"' + RESOURCE_GROUP + '\"')\n",
    "print('LOCATION=\"' + LOCATION + '\"')\n",
    "print('APPSERVICEPLAN_NAME=\"' + APPSERVICEPLAN_NAME + '\"')\n",
    "print('APPSERVICEPLAN_COMPUTE=\"' + APPSERVICEPLAN_COMPUTE + '\"')\n",
    "print('WEBAPP_NAME=\"' + WEBAPP_NAME + '\"')\n",
    "print('DOCKER_HUB_CONTAINER_NAME=\"' + DOCKER_HUB_CONTAINER_NAME + '\"')"
   ]
  },
  {
   "cell_type": "code",
   "execution_count": 20,
   "metadata": {},
   "outputs": [
    {
     "name": "stdout",
     "output_type": "stream",
     "text": [
      "Writing ../dashboards/dash-azure/publicDashboard_deploy.azcli\n"
     ]
    }
   ],
   "source": [
    "%%writefile $project_folder/publicDashboard_deploy.azcli\n",
    "#!/bin/bash\n",
    "# End of Line Sequence: 'LF'\n",
    "\n",
    "# you will need to login first\n",
    "az login\n",
    "\n",
    "# update these parameters\n",
    "RESOURCE_GROUP=\"myResourceGroup4\"\n",
    "LOCATION=\"westeurope\"\n",
    "APPSERVICEPLAN_NAME=\"myAppServicePlan4\"\n",
    "APPSERVICEPLAN_COMPUTE=\"B1\"\n",
    "WEBAPP_NAME=\"kevin200420\"\n",
    "DOCKER_HUB_CONTAINER_NAME=\"beire2018/dash-azure:latest\"\n",
    "\n",
    "# create a resource group\n",
    "az group create --name $RESOURCE_GROUP --location $LOCATION\n",
    "\n",
    "# create an app service plan\n",
    "az appservice plan create \\\n",
    "  --name $APPSERVICEPLAN_NAME \\\n",
    "  --resource-group $RESOURCE_GROUP \\\n",
    "  --sku $APPSERVICEPLAN_COMPUTE \\\n",
    "  --is-linux \\\n",
    "  --location $LOCATION\n",
    "\n",
    "# create a web app with Docker Hub\n",
    "az webapp create \\\n",
    "  --resource-group $RESOURCE_GROUP \\\n",
    "  --plan $APPSERVICEPLAN_NAME \\\n",
    "  --name $WEBAPP_NAME \\\n",
    "  --deployment-container-image-name $DOCKER_HUB_CONTAINER_NAME\n",
    "\n",
    "# web app URL\n",
    "echo \"services loading... (~2min)\"\n",
    "echo \"http://${WEBAPP_NAME}.azurewebsites.net\""
   ]
  },
  {
   "cell_type": "markdown",
   "metadata": {},
   "source": [
    "## Private\n",
    "**option 2:** login, build and deploy the web app using **azure container registry**  \n",
    "\n",
    "1. create azure container registry\n",
    "1. login \n",
    "1. build image\n",
    "1. push image\n",
    "1. deploy web app"
   ]
  },
  {
   "cell_type": "markdown",
   "metadata": {},
   "source": [
    "### create azure container registry\n",
    "update the parameters and run the cell to generate a deployment script  \n",
    "connect to cloud powershell, upload script, make executable and run"
   ]
  },
  {
   "cell_type": "code",
   "execution_count": 21,
   "metadata": {},
   "outputs": [
    {
     "name": "stdout",
     "output_type": "stream",
     "text": [
      "RESOURCE_GROUP=\"myResourceGroup4\"\n",
      "LOCATION=\"westeurope\"\n",
      "CONTAINER_NAME=\"container200420\"\n"
     ]
    }
   ],
   "source": [
    "# parameters\n",
    "print('RESOURCE_GROUP=\"' + RESOURCE_GROUP + '\"')\n",
    "print('LOCATION=\"' + LOCATION + '\"')\n",
    "print('CONTAINER_NAME=\"' + AZUREDOCKER_USER + '\"')"
   ]
  },
  {
   "cell_type": "code",
   "execution_count": 22,
   "metadata": {},
   "outputs": [
    {
     "name": "stdout",
     "output_type": "stream",
     "text": [
      "Writing ../dashboards/dash-azure/containerRegistry_deploy.azcli\n"
     ]
    }
   ],
   "source": [
    "%%writefile $project_folder/containerRegistry_deploy.azcli\n",
    "#!/bin/bash\n",
    "\n",
    "# you will need to login first\n",
    "az login\n",
    "\n",
    "# update these parameters\n",
    "RESOURCE_GROUP=\"myResourceGroup4\"\n",
    "LOCATION=\"westeurope\"\n",
    "CONTAINER_NAME=\"container200420\"\n",
    "\n",
    "# Create an Azure Resource group\n",
    "az group create --name $RESOURCE_GROUP --location $LOCATION\n",
    "# Create an Azure Container Registry\n",
    "az acr create --name $CONTAINER_NAME --resource-group $RESOURCE_GROUP --sku Basic --admin-enabled true\n",
    "# Retrieve Azure Container Registry Credentials\n",
    "az acr credential show --name $CONTAINER_NAME"
   ]
  },
  {
   "cell_type": "markdown",
   "metadata": {},
   "source": [
    "### login\n",
    "open a putty session and execute this command"
   ]
  },
  {
   "cell_type": "code",
   "execution_count": 23,
   "metadata": {},
   "outputs": [
    {
     "name": "stdout",
     "output_type": "stream",
     "text": [
      "sudo docker login container200420.azurecr.io --username container200420\n"
     ]
    }
   ],
   "source": [
    "# login to your private azure container registry account\n",
    "print(\"sudo docker login \" + AZUREDOCKER_USER + \".azurecr.io --username \" + AZUREDOCKER_USER)"
   ]
  },
  {
   "cell_type": "markdown",
   "metadata": {},
   "source": [
    "### build image"
   ]
  },
  {
   "cell_type": "code",
   "execution_count": 24,
   "metadata": {},
   "outputs": [
    {
     "name": "stdout",
     "output_type": "stream",
     "text": [
      "sudo docker build -t container200420.azurecr.io/dash-azure ../dashboards/dash-azure/.\n"
     ]
    }
   ],
   "source": [
    "print(\"sudo docker build -t \" + AZUREDOCKER_USER + \".azurecr.io/\" + PROJNAME + \" \" + project_folder +\"/.\")"
   ]
  },
  {
   "cell_type": "code",
   "execution_count": 25,
   "metadata": {},
   "outputs": [
    {
     "name": "stdout",
     "output_type": "stream",
     "text": [
      "Sending build context to Docker daemon  7.168kB\n",
      "Step 1/8 : FROM python:3.6-slim\n",
      " ---> 5e900d21ca3f\n",
      "Step 2/8 : RUN mkdir /app\n",
      " ---> Using cache\n",
      " ---> ad102e730ea2\n",
      "Step 3/8 : WORKDIR /app\n",
      " ---> Using cache\n",
      " ---> f815edfd1c0b\n",
      "Step 4/8 : ADD requirements.txt /app/\n",
      " ---> Using cache\n",
      " ---> b2ead26b0653\n",
      "Step 5/8 : RUN pip install -r requirements.txt\n",
      " ---> Using cache\n",
      " ---> a97c2f0e2535\n",
      "Step 6/8 : ADD . /app/\n",
      " ---> da2d2b8fd5d6\n",
      "Step 7/8 : ENTRYPOINT [ \"python\" ]\n",
      " ---> Running in 9f96df51150d\n",
      "Removing intermediate container 9f96df51150d\n",
      " ---> 97e3fd9e9100\n",
      "Step 8/8 : CMD [\"application.py\"]\n",
      " ---> Running in a3efd5365cdb\n",
      "Removing intermediate container a3efd5365cdb\n",
      " ---> ad7f680d9794\n",
      "Successfully built ad7f680d9794\n",
      "Successfully tagged container200420.azurecr.io/dash-azure:latest\n"
     ]
    }
   ],
   "source": [
    "! sudo docker build -t $AZUREDOCKER_USER'.azurecr.io/'$PROJNAME $project_folder/."
   ]
  },
  {
   "cell_type": "markdown",
   "metadata": {},
   "source": [
    "### push image"
   ]
  },
  {
   "cell_type": "code",
   "execution_count": 26,
   "metadata": {},
   "outputs": [
    {
     "name": "stdout",
     "output_type": "stream",
     "text": [
      "sudo docker push container200420.azurecr.io/dash-azure\n"
     ]
    }
   ],
   "source": [
    "print(\"sudo docker push \" + AZUREDOCKER_USER + \".azurecr.io/\" + PROJNAME)"
   ]
  },
  {
   "cell_type": "code",
   "execution_count": 27,
   "metadata": {},
   "outputs": [
    {
     "name": "stdout",
     "output_type": "stream",
     "text": [
      "The push refers to repository [container200420.azurecr.io/dash-azure]\n",
      "\n",
      "\u001b[1B9f4500fd: Preparing \n",
      "\u001b[1B2b43fbec: Preparing \n",
      "\u001b[1B0bb50ae9: Preparing \n",
      "\u001b[1Ba1927aa8: Preparing \n",
      "\u001b[1Bb630fd7a: Preparing \n",
      "\u001b[1B6d18a48e: Preparing \n",
      "\u001b[1B1e91af74: Preparing \n",
      "\u001b[1B845af46d: Preparing \n",
      "\u001b[8B2b43fbec: Pushed   164.6MB/146.3MB\u001b[7A\u001b[2K\u001b[6A\u001b[2K\u001b[8A\u001b[2K\u001b[5A\u001b[2K\u001b[8A\u001b[2K\u001b[5A\u001b[2K\u001b[5A\u001b[2K\u001b[8A\u001b[2K\u001b[9A\u001b[2K\u001b[5A\u001b[2K\u001b[8A\u001b[2K\u001b[5A\u001b[2K\u001b[6A\u001b[2K\u001b[8A\u001b[2K\u001b[8A\u001b[2K\u001b[8A\u001b[2K\u001b[5A\u001b[2K\u001b[4A\u001b[2K\u001b[5A\u001b[2K\u001b[2A\u001b[2K\u001b[5A\u001b[2K\u001b[5A\u001b[2K\u001b[3A\u001b[2K\u001b[8A\u001b[2K\u001b[3A\u001b[2K\u001b[2A\u001b[2K\u001b[3A\u001b[2K\u001b[2A\u001b[2K\u001b[3A\u001b[2K\u001b[2A\u001b[2K\u001b[3A\u001b[2K\u001b[2A\u001b[2K\u001b[3A\u001b[2K\u001b[2A\u001b[2K\u001b[8A\u001b[2K\u001b[2A\u001b[2K\u001b[5A\u001b[2K\u001b[2A\u001b[2K\u001b[3A\u001b[2K\u001b[5A\u001b[2K\u001b[2A\u001b[2K\u001b[8A\u001b[2K\u001b[3A\u001b[2K\u001b[8A\u001b[2K\u001b[2A\u001b[2K\u001b[3A\u001b[2K\u001b[1A\u001b[2K\u001b[2A\u001b[2K\u001b[3A\u001b[2K\u001b[2A\u001b[2K\u001b[8A\u001b[2K\u001b[3A\u001b[2K\u001b[1A\u001b[2K\u001b[8A\u001b[2K\u001b[3A\u001b[2K\u001b[1A\u001b[2K\u001b[2A\u001b[2K\u001b[8A\u001b[2K\u001b[2A\u001b[2K\u001b[8A\u001b[2K\u001b[3A\u001b[2K\u001b[1A\u001b[2K\u001b[2A\u001b[2K\u001b[5A\u001b[2K\u001b[2A\u001b[2K\u001b[3A\u001b[2KPushing  17.15MB/146.3MB\u001b[2A\u001b[2K\u001b[8A\u001b[2K\u001b[2A\u001b[2K\u001b[3A\u001b[2K\u001b[8A\u001b[2K\u001b[3A\u001b[2K\u001b[1A\u001b[2K\u001b[8A\u001b[2K\u001b[2A\u001b[2K\u001b[1A\u001b[2K\u001b[2A\u001b[2K\u001b[3A\u001b[2K\u001b[1A\u001b[2K\u001b[2A\u001b[2K\u001b[1A\u001b[2K\u001b[3A\u001b[2K\u001b[8A\u001b[2K\u001b[3A\u001b[2K\u001b[3A\u001b[2K\u001b[8A\u001b[2K\u001b[3A\u001b[2K\u001b[8A\u001b[2K\u001b[3A\u001b[2K\u001b[1A\u001b[2K\u001b[3A\u001b[2K\u001b[8A\u001b[2K\u001b[3A\u001b[2K\u001b[1A\u001b[2K\u001b[3A\u001b[2K\u001b[8A\u001b[2K\u001b[3A\u001b[2K\u001b[1A\u001b[2K\u001b[3A\u001b[2K\u001b[8A\u001b[2K\u001b[1A\u001b[2K\u001b[1A\u001b[2K\u001b[3A\u001b[2K\u001b[8A\u001b[2K\u001b[1A\u001b[2K\u001b[3A\u001b[2K\u001b[8A\u001b[2K\u001b[3A\u001b[2K\u001b[1A\u001b[2K\u001b[8A\u001b[2K\u001b[3A\u001b[2K\u001b[1A\u001b[2K\u001b[3A\u001b[2K\u001b[1A\u001b[2K\u001b[3A\u001b[2K\u001b[1A\u001b[2K\u001b[3A\u001b[2K\u001b[1A\u001b[2K\u001b[8A\u001b[2K\u001b[3A\u001b[2K\u001b[8A\u001b[2K\u001b[1A\u001b[2K\u001b[3A\u001b[2K\u001b[8A\u001b[2K\u001b[1A\u001b[2K\u001b[1A\u001b[2K\u001b[1A\u001b[2K\u001b[3A\u001b[2K\u001b[1A\u001b[2K\u001b[8A\u001b[2K\u001b[1A\u001b[2K\u001b[3A\u001b[2K\u001b[1A\u001b[2K\u001b[3A\u001b[2K\u001b[8A\u001b[2K\u001b[3A\u001b[2K\u001b[8A\u001b[2K\u001b[3A\u001b[2K\u001b[3A\u001b[2K\u001b[8A\u001b[2K\u001b[1A\u001b[2K\u001b[8A\u001b[2K\u001b[1A\u001b[2K\u001b[1A\u001b[2K\u001b[1A\u001b[2K\u001b[8A\u001b[2K\u001b[3A\u001b[2K\u001b[8A\u001b[2K\u001b[1A\u001b[2K\u001b[1A\u001b[2K\u001b[1A\u001b[2K\u001b[1A\u001b[2KPushing  44.95MB/146.3MB\u001b[1A\u001b[2K\u001b[8A\u001b[2K\u001b[1A\u001b[2K\u001b[1A\u001b[2K\u001b[8A\u001b[2K\u001b[1A\u001b[2K\u001b[1A\u001b[2K\u001b[8A\u001b[2K\u001b[8A\u001b[2K\u001b[8A\u001b[2K\u001b[8A\u001b[2K\u001b[1A\u001b[2K\u001b[8A\u001b[2K\u001b[1A\u001b[2K\u001b[8A\u001b[2K\u001b[1A\u001b[2K\u001b[8A\u001b[2K\u001b[1A\u001b[2K\u001b[8A\u001b[2K\u001b[1A\u001b[2K\u001b[1A\u001b[2K\u001b[8A\u001b[2K\u001b[1A\u001b[2K\u001b[8A\u001b[2K\u001b[8A\u001b[2K\u001b[8A\u001b[2K\u001b[1A\u001b[2K\u001b[8A\u001b[2K\u001b[8A\u001b[2K\u001b[1A\u001b[2K\u001b[1A\u001b[2K\u001b[1A\u001b[2K\u001b[8A\u001b[2K\u001b[8A\u001b[2K\u001b[8A\u001b[2K\u001b[8A\u001b[2K\u001b[1A\u001b[2K\u001b[1A\u001b[2K\u001b[8A\u001b[2K\u001b[1A\u001b[2K\u001b[8A\u001b[2K\u001b[1A\u001b[2K\u001b[1A\u001b[2K\u001b[8A\u001b[2K\u001b[1A\u001b[2K\u001b[1A\u001b[2K\u001b[8A\u001b[2K\u001b[1A\u001b[2K\u001b[1A\u001b[2K\u001b[8A\u001b[2K\u001b[8A\u001b[2K\u001b[1A\u001b[2K\u001b[8A\u001b[2K\u001b[1A\u001b[2K\u001b[1A\u001b[2K\u001b[8A\u001b[2K\u001b[8A\u001b[2K\u001b[1A\u001b[2K\u001b[8A\u001b[2K\u001b[8A\u001b[2K\u001b[1A\u001b[2K\u001b[8A\u001b[2K\u001b[1A\u001b[2K\u001b[8A\u001b[2K\u001b[1A\u001b[2K\u001b[8A\u001b[2K\u001b[8A\u001b[2K\u001b[1A\u001b[2K\u001b[8A\u001b[2K\u001b[8A\u001b[2K\u001b[8A\u001b[2K\u001b[8A\u001b[2K\u001b[8A\u001b[2K\u001b[8A\u001b[2K\u001b[8A\u001b[2K\u001b[8A\u001b[2K\u001b[8A\u001b[2K\u001b[8A\u001b[2K\u001b[8A\u001b[2K\u001b[8A\u001b[2K\u001b[8A\u001b[2K\u001b[8A\u001b[2K\u001b[8A\u001b[2K\u001b[8A\u001b[2K\u001b[8A\u001b[2K\u001b[8A\u001b[2K\u001b[8A\u001b[2K\u001b[8A\u001b[2K\u001b[8A\u001b[2K\u001b[8A\u001b[2K\u001b[8A\u001b[2K\u001b[8A\u001b[2K\u001b[8A\u001b[2K\u001b[8A\u001b[2K\u001b[8A\u001b[2K\u001b[8A\u001b[2K\u001b[8A\u001b[2K\u001b[8A\u001b[2K\u001b[8A\u001b[2K\u001b[8A\u001b[2K\u001b[8A\u001b[2K\u001b[8A\u001b[2K\u001b[8A\u001b[2K\u001b[8A\u001b[2K\u001b[8A\u001b[2K\u001b[8A\u001b[2K\u001b[8A\u001b[2K\u001b[8A\u001b[2K\u001b[8A\u001b[2K\u001b[8A\u001b[2K\u001b[8A\u001b[2K\u001b[8A\u001b[2Klatest: digest: sha256:018cc3664c59c089b83ec237229e43c60271808e2976e8e53bd65dfdd225fead size: 2202\n"
     ]
    }
   ],
   "source": [
    "# upload the container image\n",
    "! sudo docker push $AZUREDOCKER_USER'.azurecr.io/'$PROJNAME"
   ]
  },
  {
   "cell_type": "markdown",
   "metadata": {},
   "source": [
    "### deploy web app\n",
    "update the parameters and run the cell to generate a deployment script  \n",
    "connect to cloud shell, upload, make executable and run"
   ]
  },
  {
   "cell_type": "code",
   "execution_count": 28,
   "metadata": {},
   "outputs": [
    {
     "name": "stdout",
     "output_type": "stream",
     "text": [
      "RESOURCE_GROUP=\"myResourceGroup4\"\n",
      "LOCATION=\"westeurope\"\n",
      "APPSERVICEPLAN_NAME=\"myAppServicePlan4\"\n",
      "APPSERVICEPLAN_COMPUTE=\"B1\"\n",
      "WEBAPP_NAME=\"kevin200420\"\n",
      "AZURE_CONTAINER_REGISTRY_NAME=\"container200420.azurecr.io/dash-azure:latest\"\n",
      "WEBAPP_PORT=\"80\"\n"
     ]
    }
   ],
   "source": [
    "# parameters\n",
    "print('RESOURCE_GROUP=\"' + RESOURCE_GROUP + '\"')\n",
    "print('LOCATION=\"' + LOCATION + '\"')\n",
    "print('APPSERVICEPLAN_NAME=\"' + APPSERVICEPLAN_NAME + '\"')\n",
    "print('APPSERVICEPLAN_COMPUTE=\"' + APPSERVICEPLAN_COMPUTE + '\"')\n",
    "print('WEBAPP_NAME=\"' + WEBAPP_NAME + '\"')\n",
    "print('AZURE_CONTAINER_REGISTRY_NAME=\"' + AZURE_CONTAINER_REGISTRY_NAME + '\"')\n",
    "print('WEBAPP_PORT=\"' + WEBAPP_PORT + '\"')"
   ]
  },
  {
   "cell_type": "code",
   "execution_count": 29,
   "metadata": {},
   "outputs": [
    {
     "name": "stdout",
     "output_type": "stream",
     "text": [
      "Writing ../dashboards/dash-azure/privateDashboard_deploy.azcli\n"
     ]
    }
   ],
   "source": [
    "%%writefile $project_folder/privateDashboard_deploy.azcli\n",
    "#!/bin/bash\n",
    "\n",
    "# update these parameters\n",
    "RESOURCE_GROUP=\"myResourceGroup4\"\n",
    "LOCATION=\"westeurope\"\n",
    "APPSERVICEPLAN_NAME=\"myAppServicePlan4\"\n",
    "APPSERVICEPLAN_COMPUTE=\"B1\"\n",
    "WEBAPP_NAME=\"kevin200420\"\n",
    "AZURE_CONTAINER_REGISTRY_NAME=\"container200420.azurecr.io/dash-azure:latest\"\n",
    "WEBAPP_PORT=\"80\"\n",
    "\n",
    "az group create --name $RESOURCE_GROUP --location $LOCATION\n",
    "\n",
    "az appservice plan create \\\n",
    "  --name $APPSERVICEPLAN_NAME \\\n",
    "  --resource-group $RESOURCE_GROUP \\\n",
    "  --is-linux \\\n",
    "  --location $LOCATION \\\n",
    "  --sku $APPSERVICEPLAN_COMPUTE\n",
    "\n",
    "az webapp create \\\n",
    "  --name $WEBAPP_NAME \\\n",
    "  --resource-group $RESOURCE_GROUP \\\n",
    "  --plan $APPSERVICEPLAN_NAME \\\n",
    "  --deployment-container-image-name $AZURE_CONTAINER_REGISTRY_NAME\n",
    "\n",
    "az webapp config appsettings set \\\n",
    "  --name $WEBAPP_NAME \\\n",
    "  --resource-group $RESOURCE_GROUP \\\n",
    "  --settings \\\n",
    "      PORT=$WEBAPP_PORT\n",
    "\n",
    "# web app URL\n",
    "echo \"services loading... (~2min)\"\n",
    "echo \"http://${WEBAPP_NAME}.azurewebsites.net\"\n",
    "\n",
    "az webapp log tail --name $WEBAPP_NAME --resource-group $RESOURCE_GROUP"
   ]
  },
  {
   "cell_type": "markdown",
   "metadata": {},
   "source": [
    "## Cleanup\n",
    "remove docker images and login credentials"
   ]
  },
  {
   "cell_type": "code",
   "execution_count": 30,
   "metadata": {},
   "outputs": [
    {
     "name": "stdout",
     "output_type": "stream",
     "text": [
      "Deleted Images:\r\n",
      "untagged: beire2018/dash-azure:latest\r\n",
      "untagged: beire2018/dash-azure@sha256:6865041c844f05e224f652cfc7457df2e9b11e16e3dde67b32207f442da8e3a9\r\n",
      "untagged: dash-azure:latest\r\n",
      "deleted: sha256:ba2dfa4759c0e9f5927cb00667c12d7849ccb102d4e5525c321ea5a78941fdfa\r\n",
      "deleted: sha256:bb68a7860a25175122487f3281efd52b3e549ddee0eb36e2b3ea410644506a03\r\n",
      "deleted: sha256:4d46a454675061b8ef048b965922bd5a2a7ec37fb98c8db1880d667a9422e7de\r\n",
      "deleted: sha256:6ec0f7d284deffeea9c41c1c38e09c5170774fdbde8c15c5538f454edc6643a4\r\n",
      "untagged: container200420.azurecr.io/dash-azure:latest\r\n",
      "untagged: container200420.azurecr.io/dash-azure@sha256:018cc3664c59c089b83ec237229e43c60271808e2976e8e53bd65dfdd225fead\r\n",
      "deleted: sha256:ad7f680d9794d501beb58ce02dac61f5b7f1b316002a057863eb6f3f623a3bb6\r\n",
      "deleted: sha256:97e3fd9e91006fcaeb155da3c14f7c8018565de321ffcd6d6922fe0ac7b5ffed\r\n",
      "deleted: sha256:da2d2b8fd5d67f85ff595e6ebbab6051de2bf6c67e6ec026b63e105144cf6d14\r\n",
      "deleted: sha256:bbaa30fc1d3223fe44938c1cda68e16692f97f1363b463bd3d391a70a907a692\r\n",
      "deleted: sha256:a97c2f0e253551f7daee081e83b2f62f0f29c779e6b708e441ff045b0e08a5d8\r\n",
      "deleted: sha256:8c19e596d4c15bce9bc2ef39b231ba8fc5ad59b620b6a00b294170be66aaec0d\r\n",
      "deleted: sha256:b2ead26b06535feaf16e4bca640afb5a8428c16360c1b730d1a38d9fbf5e2c48\r\n",
      "deleted: sha256:7b0e25ab984bbe17bd07f39d8749afe5782d147403a686bf8d4dfd5d87dfbd5f\r\n",
      "deleted: sha256:f815edfd1c0b64245574a710d2ca3f0b201e25f41c985801cd83ae66d478a46b\r\n",
      "deleted: sha256:ad102e730ea2985466343ef95e9fb260c4ebcef9a2bfa5a782098bb06f4465c2\r\n",
      "deleted: sha256:cbeebeaeb482c4ef18db49895049dbf8930eba7b2681291ba9401f593cd32f18\r\n",
      "untagged: python:3.6-slim\r\n",
      "untagged: python@sha256:596c35c09d59adf2afbefa3aa970f26ac3ba3c2396c6766a7c73086ac850d416\r\n",
      "deleted: sha256:5e900d21ca3f9fc7198e7459a47ac90ea9f9106c3e1966d4ca8fe6ff331e4709\r\n",
      "deleted: sha256:7d15c62400b86cb5290938b1f2186eaa2a1b30baa34ac52adb9c7f01ced84d13\r\n",
      "deleted: sha256:eb679bdad4ddcf25b6572cb358ce821f650d5dca0d4cdf4d3217830762e0fac3\r\n",
      "deleted: sha256:0a928b6438b75a8fbffedb645130026737ccf588d99def4543ef1ad7588c405c\r\n",
      "deleted: sha256:0eea0e1b8a967d0b5e0e2741a89ef6f03da26aa487fda23753f9f546144f047e\r\n",
      "deleted: sha256:7e718b9c0c8c2e6420fe9c4d1d551088e314fe923dce4b2caf75891d82fb227d\r\n",
      "\r\n",
      "Total reclaimed space: 258.1MB\r\n"
     ]
    }
   ],
   "source": [
    "# remove all local docker image(s)\n",
    "! sudo docker image prune -f -a"
   ]
  },
  {
   "cell_type": "code",
   "execution_count": 31,
   "metadata": {},
   "outputs": [],
   "source": [
    "# remove docker login file\n",
    "! sudo rm ~/.docker/config.json"
   ]
  },
  {
   "cell_type": "code",
   "execution_count": null,
   "metadata": {},
   "outputs": [],
   "source": [
    "# delete all local files that were created ?!\n",
    "# remove the azure container registry images, save costs ?!"
   ]
  },
  {
   "cell_type": "markdown",
   "metadata": {},
   "source": [
    "---"
   ]
  },
  {
   "cell_type": "markdown",
   "metadata": {},
   "source": [
    "# Plotly examples\n",
    "## line chart"
   ]
  },
  {
   "cell_type": "code",
   "execution_count": 41,
   "metadata": {},
   "outputs": [],
   "source": [
    "import numpy as np\n",
    "import plotly.offline as pyo\n",
    "import plotly.graph_objs as go\n",
    "\n",
    "np.random.seed(56)\n",
    "x_values = np.linspace(0, 1, 100)\n",
    "y_values = np.random.randn(100)\n",
    "\n",
    "trace0 = go.Scatter(x=x_values,\n",
    "                    y=y_values+5,\n",
    "                    mode='markers',\n",
    "                    name='markers')\n",
    "trace1 = go.Scatter(x=x_values,\n",
    "                    y=y_values,\n",
    "                    mode='lines',\n",
    "                    name='mylines')\n",
    "trace2 = go.Scatter(x=x_values,\n",
    "                    y=y_values-5,\n",
    "                    mode='lines+markers',\n",
    "                    name='lines+marker')\n",
    "\n",
    "data = [trace0, trace1, trace2]\n",
    "layout = go.Layout(title='Line Charts')\n",
    "fig = go.Figure(data=data, layout=layout)\n",
    "pyo.iplot(fig)"
   ]
  },
  {
   "cell_type": "markdown",
   "metadata": {},
   "source": [
    "![line chart](../../image/howto_plotlydash/plotly_line_chart.png)"
   ]
  },
  {
   "cell_type": "markdown",
   "metadata": {},
   "source": [
    "## bar chart"
   ]
  },
  {
   "cell_type": "code",
   "execution_count": 42,
   "metadata": {},
   "outputs": [],
   "source": [
    "import pandas as pd\n",
    "import plotly.offline as pyo\n",
    "import plotly.graph_objs as go\n",
    "\n",
    "df = pd.read_csv(\"../../data/bronze/plotlydash/2018WinterOlympics.csv\")\n",
    "data = [go.Bar(x=df[\"NOC\"],\n",
    "               y=df[\"Total\"])]\n",
    "\n",
    "layout = go.Layout(title=\"Olympic medals\")\n",
    "fig = go.Figure(data=data, layout=layout)\n",
    "pyo.iplot(fig)"
   ]
  },
  {
   "cell_type": "markdown",
   "metadata": {},
   "source": [
    "![bar chart](../../image/howto_plotlydash/plotly_bar_chart.png)"
   ]
  },
  {
   "cell_type": "code",
   "execution_count": 43,
   "metadata": {},
   "outputs": [],
   "source": [
    "import pandas as pd\n",
    "import plotly.offline as pyo\n",
    "import plotly.graph_objs as go\n",
    "\n",
    "df = pd.read_csv(\"../../data/bronze/plotlydash/2018WinterOlympics.csv\")\n",
    "trace1 = go.Bar(x=df[\"NOC\"], y=df[\"Gold\"], name=\"Gold\", marker=dict(color=\"#FFD700\"))\n",
    "trace2 = go.Bar(x=df[\"NOC\"], y=df[\"Silver\"], name=\"Silver\", marker=dict(color=\"#C0C0C0\"))\n",
    "trace3 = go.Bar(x=df[\"NOC\"], y=df[\"Bronze\"], name=\"Bronze\", marker=dict(color=\"#CD7F32\"))\n",
    "\n",
    "data = [trace1, trace2, trace3]\n",
    "layout = go.Layout(title=\"Olympic medals\")\n",
    "fig = go.Figure(data=data, layout=layout)\n",
    "pyo.iplot(fig)"
   ]
  },
  {
   "cell_type": "markdown",
   "metadata": {},
   "source": [
    "![bar chart](../../image/howto_plotlydash/plotly_bar_chart_2.png)"
   ]
  },
  {
   "cell_type": "markdown",
   "metadata": {},
   "source": [
    "## bubble plot"
   ]
  },
  {
   "cell_type": "code",
   "execution_count": 44,
   "metadata": {},
   "outputs": [],
   "source": [
    "import pandas as pd\n",
    "import plotly.offline as pyo\n",
    "import plotly.graph_objs as go\n",
    "\n",
    "df = pd.read_csv('../../data/bronze/plotlydash/mpg.csv')\n",
    "\n",
    "# create data by choosing fields for x, y and marker size attributes\n",
    "data = [go.Scatter(x=df[\"displacement\"],\n",
    "                   y=df[\"acceleration\"],\n",
    "                   mode='markers',\n",
    "                   text=df[\"name\"],\n",
    "                   marker=dict(size=df[\"weight\"]/400,\n",
    "                               color=df[\"cylinders\"],\n",
    "                               showscale=True))]\n",
    "# create a layout with title and axis labels\n",
    "layout = go.Layout(title=\"Vehicles Bubble Chart\",\n",
    "                   xaxis=dict(title=\"displacement\"),\n",
    "                   yaxis=dict(title=\"acceleration\"),\n",
    "                   hovermode='closest')\n",
    "# create a fig from data & layout, and plot the fig\n",
    "fig = go.Figure(data=data, layout=layout)\n",
    "pyo.iplot(fig)"
   ]
  },
  {
   "cell_type": "markdown",
   "metadata": {},
   "source": [
    "![bubble chart](../../image/howto_plotlydash/plotly_bubble_chart.png)"
   ]
  },
  {
   "cell_type": "markdown",
   "metadata": {},
   "source": [
    "## box plot"
   ]
  },
  {
   "cell_type": "code",
   "execution_count": 45,
   "metadata": {},
   "outputs": [],
   "source": [
    "# Use box plots to show that the samples do derive from the same population.\n",
    "import plotly.graph_objs as go\n",
    "import plotly.offline as pyo\n",
    "import pandas as pd\n",
    "import numpy as np\n",
    "\n",
    "df = pd.read_csv('../../data/bronze/plotlydash/abalone.csv')\n",
    "\n",
    "# take two random samples of different sizes:\n",
    "df1 = df.sample(400)\n",
    "df2 = df.sample(800)\n",
    "\n",
    "# create a data variable with two Box plots:\n",
    "trace1 = go.Box(y=df1[\"rings\"], name='A')\n",
    "trace2 = go.Box(y=df2[\"rings\"], name='B')\n",
    "data = [trace1, trace2]\n",
    "layout = go.Layout(title=\"Boxplot comparison of 2 samples\")\n",
    "fig = go.Figure(data=data, layout=layout)\n",
    "pyo.iplot(fig)"
   ]
  },
  {
   "cell_type": "markdown",
   "metadata": {},
   "source": [
    "![box plot](../../image/howto_plotlydash/plotly_box_plot.png)"
   ]
  },
  {
   "cell_type": "markdown",
   "metadata": {},
   "source": [
    "## histogram"
   ]
  },
  {
   "cell_type": "code",
   "execution_count": 46,
   "metadata": {},
   "outputs": [],
   "source": [
    "import plotly.graph_objs as go\n",
    "import plotly.offline as pyo\n",
    "import pandas as pd\n",
    "import numpy as np\n",
    "\n",
    "df = pd.read_csv('../../data/bronze/plotlydash/abalone.csv')\n",
    "\n",
    "data = [go.Histogram(x=df[\"length\"],\n",
    "                     xbins=dict(start=0,\n",
    "                                end=1,\n",
    "                                size=0.02))]\n",
    "layout = go.Layout(title=\"Histogram\",\n",
    "                   xaxis=dict(title=\"length (mm)\"))\n",
    "fig = go.Figure(data=data, layout=layout)\n",
    "pyo.iplot(fig)"
   ]
  },
  {
   "cell_type": "markdown",
   "metadata": {},
   "source": [
    "![histogram](../../image/howto_plotlydash/plotly_histogram.png)"
   ]
  },
  {
   "cell_type": "markdown",
   "metadata": {},
   "source": [
    "## heatmap"
   ]
  },
  {
   "cell_type": "code",
   "execution_count": 47,
   "metadata": {},
   "outputs": [],
   "source": [
    "# create a heatmap with the following parameters:\n",
    "# x-axis=\"year\"\n",
    "# y-axis=\"month\"\n",
    "# z-axis(color)=\"passengers\"\n",
    "import plotly.graph_objs as go\n",
    "import plotly.offline as pyo\n",
    "import pandas as pd\n",
    "\n",
    "df = pd.read_csv('../../data/bronze/plotlydash/flights.csv')\n",
    "\n",
    "data = [go.Heatmap(x=df['year'],\n",
    "                   y=df['month'],\n",
    "                   z=df['passengers'])]\n",
    "layout = go.Layout(title='Heatmap flight passengers')\n",
    "fig = go.Figure(data=data, layout=layout)\n",
    "pyo.iplot(fig)"
   ]
  },
  {
   "cell_type": "markdown",
   "metadata": {},
   "source": [
    "![heatmap](../../image/howto_plotlydash/plotly_heatmap.png)"
   ]
  },
  {
   "cell_type": "markdown",
   "metadata": {},
   "source": [
    "## geographic map"
   ]
  },
  {
   "cell_type": "code",
   "execution_count": 48,
   "metadata": {},
   "outputs": [],
   "source": [
    "# a scatter plot on a geographic map\n",
    "import plotly.graph_objs as go\n",
    "import plotly.offline as pyo\n",
    "\n",
    "# generate account, https://account.mapbox.com/access-tokens/\n",
    "mapbox_access_token = 'pk.eyJ1IjoiYmVpcmUyMDE5IiwiYSI6ImNqdXNiczJpdDF6cXI0ZG11bXB1YW56b3EifQ.Y5l7KpKcJiKlf6fGiisbIg'\n",
    "\n",
    "data = [go.Scattermapbox(lat=['51.020103'],\n",
    "                         lon=['4.466802'],\n",
    "                         mode='markers',\n",
    "                         marker=go.scattermapbox.Marker(size=14),\n",
    "                         text=['Mechelen'])]\n",
    "\n",
    "layout = go.Layout(autosize=True,\n",
    "                   hovermode='closest',\n",
    "                   mapbox=go.layout.Mapbox(accesstoken=mapbox_access_token,\n",
    "                                           bearing=0,\n",
    "                                           center=go.layout.mapbox.Center(lat=51,\n",
    "                                                                          lon=4),\n",
    "                                           pitch=0,\n",
    "                                           zoom=5))\n",
    "\n",
    "fig = go.Figure(data=data, layout=layout)\n",
    "pyo.iplot(fig)"
   ]
  },
  {
   "cell_type": "markdown",
   "metadata": {},
   "source": [
    "![geographic map](../../image/howto_plotlydash/plotly_geomap.png)"
   ]
  }
 ],
 "metadata": {
  "kernelspec": {
   "display_name": "py38_dashboard",
   "language": "python",
   "name": "conda-env-py38_dashboard-py"
  },
  "language_info": {
   "codemirror_mode": {
    "name": "ipython",
    "version": 3
   },
   "file_extension": ".py",
   "mimetype": "text/x-python",
   "name": "python",
   "nbconvert_exporter": "python",
   "pygments_lexer": "ipython3",
   "version": "3.8.8"
  }
 },
 "nbformat": 4,
 "nbformat_minor": 4
}
