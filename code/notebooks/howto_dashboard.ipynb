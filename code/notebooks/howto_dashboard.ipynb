{
 "cells": [
  {
   "cell_type": "markdown",
   "id": "developed-journey",
   "metadata": {},
   "source": [
    "Author: Kevin ALBERT  \n",
    "\n",
    "Created: April 2021 (Updated: 20 Apr 2021)  \n",
    "\n",
    "TestRun: 20 Apr 2021"
   ]
  },
  {
   "cell_type": "markdown",
   "id": "joined-tennessee",
   "metadata": {},
   "source": [
    "# Dashboard development\n",
    "_**How to build an interactive dashboard**_  \n",
    "\n",
    "## Contents\n",
    "1. [Setup](#Setup)  \n",
    "● [versions](#versions)  \n",
    "● [parameters](#parameters)  \n",
    "● [jupyter](#run-from-jupyter)  \n",
    "● [vscode](#run-from-vscode)  \n",
    "1. [Theme](#Theme)  \n",
    "1. [Layout](#Layout)  \n",
    "1. [Components](#Components)\n",
    "1. [Callback](#Callback)  \n",
    "1. [Sources](#Sources)"
   ]
  },
  {
   "cell_type": "markdown",
   "id": "adequate-hawaiian",
   "metadata": {},
   "source": [
    "## Setup\n",
    "### versions"
   ]
  },
  {
   "cell_type": "code",
   "execution_count": 1,
   "id": "wired-farmer",
   "metadata": {},
   "outputs": [
    {
     "name": "stdout",
     "output_type": "stream",
     "text": [
      "conda   : 4.9.2\n",
      "pip     : 21.0.1\n",
      "python  : 3.8.8\n",
      "requests: 2.25.1\n",
      "plotly  : 4.14.3\n",
      "dash    : 1.20.0\n",
      "dash-bootstrap-components: 0.12.0\n"
     ]
    }
   ],
   "source": [
    "conda_version = ! conda -V\n",
    "print(f\"conda   : {conda_version[0].split()[1]}\")\n",
    "pip_version = ! pip -V\n",
    "print(f\"pip     : {pip_version[0].split()[1]}\")\n",
    "python_version = ! python -V\n",
    "print(f\"python  : {python_version[0].split()[1]}\")\n",
    "requests_version = ! pip list |grep -ie \"^requests \"\n",
    "print(f\"requests: {requests_version[0].split()[1]}\")\n",
    "plotly_version = ! pip list |grep -ie \"^plotly \"\n",
    "print(f\"plotly  : {plotly_version[0].split()[1]}\")\n",
    "dash_version = ! pip list |grep -ie \"^dash \"\n",
    "print(f\"dash    : {dash_version[0].split()[1]}\")\n",
    "bootstrap_version = ! pip list |grep -ie \"^dash-bootstrap-components\"\n",
    "print(f\"dash-bootstrap-components: {bootstrap_version[0].split()[1]}\")"
   ]
  },
  {
   "cell_type": "markdown",
   "id": "herbal-reverse",
   "metadata": {},
   "source": [
    "### parameters"
   ]
  },
  {
   "cell_type": "code",
   "execution_count": 2,
   "id": "associate-identifier",
   "metadata": {},
   "outputs": [],
   "source": [
    "# virtual machine parameters\n",
    "server = \"23.97.187.214\"\n",
    "port   = \"8050\""
   ]
  },
  {
   "cell_type": "markdown",
   "id": "second-amateur",
   "metadata": {},
   "source": [
    "**example code below will show a green button**\n",
    "![green Success button](../../image/howto_plotlydash/dash_green_success.png)"
   ]
  },
  {
   "cell_type": "code",
   "execution_count": 3,
   "id": "daily-insured",
   "metadata": {},
   "outputs": [
    {
     "name": "stdout",
     "output_type": "stream",
     "text": [
      "Dash will be running on http://23.97.187.214:8050/ \n",
      "\n"
     ]
    }
   ],
   "source": [
    "print(\"Dash will be running on http://\"+server+\":\"+port+\"/\", \"\\n\")"
   ]
  },
  {
   "cell_type": "markdown",
   "id": "level-liechtenstein",
   "metadata": {},
   "source": [
    "### run from jupyter"
   ]
  },
  {
   "cell_type": "code",
   "execution_count": 4,
   "id": "wicked-privacy",
   "metadata": {},
   "outputs": [
    {
     "name": "stdout",
     "output_type": "stream",
     "text": [
      "Dash is running on http://0.0.0.0:8050/\n",
      "\n",
      " * Serving Flask app \"__main__\" (lazy loading)\n",
      " * Environment: production\n",
      "\u001b[31m   WARNING: This is a development server. Do not use it in a production deployment.\u001b[0m\n",
      "\u001b[2m   Use a production WSGI server instead.\u001b[0m\n",
      " * Debug mode: off\n"
     ]
    },
    {
     "name": "stderr",
     "output_type": "stream",
     "text": [
      " * Running on http://0.0.0.0:8050/ (Press CTRL+C to quit)\n",
      "84.198.32.146 - - [19/Apr/2021 15:38:33] \"\u001b[37mGET /_reload-hash HTTP/1.1\u001b[0m\" 200 -\n",
      "84.198.32.146 - - [19/Apr/2021 15:38:33] \"\u001b[37mGET /_dash-dependencies HTTP/1.1\u001b[0m\" 200 -\n",
      "84.198.32.146 - - [19/Apr/2021 15:38:33] \"\u001b[37mGET /_dash-layout HTTP/1.1\u001b[0m\" 200 -\n",
      "84.198.32.146 - - [19/Apr/2021 15:38:36] \"\u001b[37mGET /_reload-hash HTTP/1.1\u001b[0m\" 200 -\n",
      "84.198.32.146 - - [19/Apr/2021 15:38:39] \"\u001b[37mGET /_reload-hash HTTP/1.1\u001b[0m\" 200 -\n",
      "84.198.32.146 - - [19/Apr/2021 15:38:41] \"\u001b[37mGET / HTTP/1.1\u001b[0m\" 200 -\n",
      "84.198.32.146 - - [19/Apr/2021 15:38:41] \"\u001b[37mGET /_dash-layout HTTP/1.1\u001b[0m\" 200 -\n",
      "84.198.32.146 - - [19/Apr/2021 15:38:41] \"\u001b[37mGET /_dash-dependencies HTTP/1.1\u001b[0m\" 200 -\n",
      "84.198.32.146 - - [19/Apr/2021 15:38:41] \"\u001b[37mGET /_favicon.ico?v=1.20.0 HTTP/1.1\u001b[0m\" 200 -\n"
     ]
    }
   ],
   "source": [
    "# stop cell when done to continue...\n",
    "import dash\n",
    "import dash_bootstrap_components as dbc\n",
    "import dash_html_components as html\n",
    "\n",
    "external_stylesheets = [dbc.themes.BOOTSTRAP]\n",
    "\n",
    "app = dash.Dash(__name__,\n",
    "                external_stylesheets=external_stylesheets,\n",
    "                suppress_callback_exceptions=True)\n",
    "server = app.server\n",
    "app.title = 'project title'\n",
    "\n",
    "app.layout = html.Div(children=[\n",
    "    dbc.Button(\"Success\", color=\"success\", className=\"mr-1\"),\n",
    "])\n",
    "\n",
    "if __name__ == '__main__':\n",
    "    app.run_server(host='0.0.0.0', debug=False, port=8050)"
   ]
  },
  {
   "cell_type": "markdown",
   "id": "hollow-shadow",
   "metadata": {},
   "source": [
    "### run from vscode\n",
    "\n",
    "**using visual studio code debugger** `~/.vscode/launch.json`**:**\n",
    "```json\n",
    "{\n",
    "    // https://go.microsoft.com/fwlink/?linkid=830387\n",
    "    \"version\": \"0.2.0\",\n",
    "    \"configurations\": [\n",
    "        {\n",
    "            \"name\": \"Python: Current File\",\n",
    "            \"type\": \"python\",\n",
    "            \"request\": \"launch\",\n",
    "            \"program\": \"${file}\",\n",
    "            \"console\": \"integratedTerminal\",\n",
    "            \"cwd\": \"${fileDirname}\"\n",
    "        }\n",
    "    ]\n",
    "}\n",
    "```\n",
    "\n",
    "Activate the correct python interpreter path in vscode ('py38_dashboard':conda)  \n",
    "name your code `main.py` when using `__main__`  \n",
    "`enable debug=True`\n",
    "\n",
    "```python\n",
    "if __name__ == '__main__':\n",
    "    app.run_server(host='0.0.0.0', debug=True, port=8050)\n",
    "```\n",
    "![vscode debug dashboard](../../image/howto_plotlydash/vscode_debug_dashboard.png)"
   ]
  },
  {
   "cell_type": "markdown",
   "id": "acknowledged-negative",
   "metadata": {},
   "source": [
    "## Theme\n",
    "Customize the look of your app using the bundled themes.  \n",
    "\n",
    "**using the [default](https://www.bootstrapcdn.com/) theme:**\n",
    "```python\n",
    "import dash\n",
    "import dash_bootstrap_components as dbc\n",
    "\n",
    "external_stylesheets = [dbc.themes.BOOTSTRAP] # Bootstrap must be in CAPITAL letters\n",
    "app = dash.Dash(__name__, external_stylesheets=external_stylesheets)\n",
    "```\n",
    "\n",
    "**using [other](https://bootswatch.com/) themes:**\n",
    "```python\n",
    "import dash\n",
    "import dash_bootstrap_components as dbc\n",
    "\n",
    "external_stylesheets = [dbc.themes.DARKLY] # Darkly must be in CAPITAL letters\n",
    "app = dash.Dash(__name__, external_stylesheets=external_stylesheets)\n",
    "```\n",
    "![bootswatch themes](../../image/howto_plotlydash/bootswatch_themes.png)"
   ]
  },
  {
   "cell_type": "markdown",
   "id": "centered-morrison",
   "metadata": {},
   "source": [
    "## Layout\n",
    "Customize the **[page layout](https://dash-bootstrap-components.opensource.faculty.ai/docs/components/layout/)** of your components.  \n",
    "The **rows** are defined **first**, then the columns.  \n",
    "dbc.Col() always go inside dbc.Row()\n",
    "```python\n",
    "app.layout = html.Div([\n",
    "        dbc.Row(dbc.Col(html.H3(\"Our Beautiful App Layout\"),\n",
    "                        width={'size': 6, 'offset': 3, 'order': 1},\n",
    "                        ),\n",
    "                ),\n",
    "])\n",
    "```\n",
    "![inspect layout](../../image/howto_plotlydash/inspect_layout.png)\n",
    "\n",
    "The total width always has a 12-column invisible grid within each row.\n",
    "* **size** is the number of columns for the component\n",
    "* **offset** is the number of empty columns left of the component\n",
    "* **order** is the position from left to right for the components\n",
    "```python\n",
    "app.layout = html.Div([\n",
    "        dbc.Row(\n",
    "            [\n",
    "                dbc.Col(dcc.Dropdown(id='c_dropdown', placeholder='last dropdown',\n",
    "                                     options=[{'label': 'Option A', 'value': 'optA'},\n",
    "                                              {'label': 'Option B', 'value': 'optB'}]),\n",
    "                        width={'size': 3, \"offset\": 2, 'order': 3}\n",
    "                        ),\n",
    "                dbc.Col(dcc.Dropdown(id='a_dropdown', placeholder='first dropdown',\n",
    "                                     options=[{'label': 'Option A', 'value': 'optA'},\n",
    "                                              {'label': 'Option B', 'value': 'optB'}]),\n",
    "                        width={'size': 4, \"offset\": 1, 'order': 1}\n",
    "                        ),\n",
    "                dbc.Col(dcc.Dropdown(id='b_dropdown', placeholder='middle dropdown',\n",
    "                                     options=[{'label': 'Option A', 'value': 'optA'},\n",
    "                                              {'label': 'Option B', 'value': 'optB'}]),\n",
    "                        width={'size': 2,  \"offset\": 0, 'order': 2}\n",
    "                        ),\n",
    "])\n",
    "```\n",
    "![inspect dropdown layout](../../image/howto_plotlydash/inspect_dropdown_layout.png)"
   ]
  },
  {
   "cell_type": "markdown",
   "id": "important-specification",
   "metadata": {},
   "source": [
    "## Components\n",
    "components and props for interactive user interfaces.\n",
    "\n",
    "**[dash core components](https://dash.plotly.com/dash-core-components):**\n",
    "```python\n",
    "import dash_core_components as dcc\n",
    "\n",
    "dcc.Dropdown()\n",
    "dcc.Slider()\n",
    "dcc.RangeSlider()\n",
    "dcc.Checklist()\n",
    "dcc.Graph()\n",
    "```\n",
    "![core](../../image/howto_plotlydash/dash_core.png)\n",
    "**[dash bootstrap components](https://dash-bootstrap-components.opensource.faculty.ai/docs/components):**\n",
    "```python\n",
    "import dash_bootstrap_components as dbc\n",
    "\n",
    "dbc.DropdownMenu()\n",
    "dbc.Button()\n",
    "dbc.FormGroup()\n",
    "dbc.Col()\n",
    "dbc.Progress()\n",
    "```\n",
    "![bootstrap](../../image/howto_plotlydash/dash_bootstrap.png)\n",
    "**[dash HTML components](https://dash.plotly.com/dash-html-components):**\n",
    "```python\n",
    "import dash_html_components as html\n",
    "\n",
    "html.Div()\n",
    "html.H1()\n",
    "html.H3()\n",
    "html.P()\n",
    "html.Img()\n",
    "```\n",
    "![html](../../image/howto_plotlydash/dash_html_components.png)\n",
    "**[dash table components](https://dash.plotly.com/datatable):**\n",
    "```python\n",
    "import dash_table as dt\n",
    "\n",
    "dt.DataTable()\n",
    "```\n",
    "![datatable](../../image/howto_plotlydash/dash_datatable.png)\n",
    "**[dash cytoscape components](https://dash.plotly.com/cytoscape):**\n",
    "```python\n",
    "import dash_cytoscape as cyto\n",
    "\n",
    "cyto.Cytoscape()\n",
    "```\n",
    "![graph visualization](../../image/howto_plotlydash/graph_visualization_component.png)"
   ]
  },
  {
   "cell_type": "markdown",
   "id": "chinese-prescription",
   "metadata": {},
   "source": [
    "## Callback\n",
    "\n",
    "**remember:**  \n",
    "* a callback is automatically triggered the app is loaded, to prevent use `prevent_initial_call=True`\n",
    "* whenever the component_property of `Input()` changes, the callback is triggered\n",
    "* whenever the component_property of `State()` changes, the callback is **NOT** triggered\n",
    "* callback always needs an `Input()` and `Output()`, but not necessarily `State()`\n",
    "* every input and state need to be represented as callback function **arguments**\n",
    "* the callback function returns data to the component_property of `Output()`\n",
    "* any given `Output(id, property)` can only have one callback that sets it\n",
    "* if the user triggers the callback but you want __none__ of the Outputs to update, `raise dash.exceptions.PreventUpdate`\n",
    "* if the user triggers the callback but you want only __some__ of the Outputs to update, `return Dash.no_update`\n",
    "\n",
    "```python\n",
    "@app.callback(\n",
    "    [Output(component_id='output1', component_property='value'),\n",
    "     Output(component_id='output2', component_property='figure')],\n",
    "    [Input(component_id='input1', component_property='value'),\n",
    "     Input(component_id='input2', component_property='value')],\n",
    "    [State(component_id='state1', component_property='value'),\n",
    "     State(component_id='state2', component_property='value')],\n",
    "    prevent_initial_call=False\n",
    ")\n",
    "def any_function_name(input1, input2, state1, state2):\n",
    "    if condition:\n",
    "        do tasks\n",
    "        return dash.no_update, {'data': [1, 2, 3]}\n",
    "    elif len(input2) == 0:\n",
    "        raise dash.exceptions.PreventUpdate\n",
    "    else:\n",
    "        return figure, {'data': [1, 2, 3]}\n",
    "```\n",
    "![app callback schema](../../image/howto_plotlydash/app_callback_schema.png)"
   ]
  },
  {
   "cell_type": "markdown",
   "id": "transsexual-analysis",
   "metadata": {},
   "source": [
    "## Sources\n",
    "udemy course (Josse Portilla): [Interactive Python Dashboards with Plotly and Dash](https://www.udemy.com/share/101WaOAEUdeF9UQHg)  \n",
    "udemy course (Profesor Pip): [Interactive Python Dashboards with Plotly and Dash](https://www.udemy.com/share/102dzqAEUdeF9UQHg)  \n",
    "youtube video (Charming Data): [Introduction to Dash Bootstrap - Styling your App](https://www.youtube.com/watch?v=vqVwpL4bGKY)   \n",
    "youtube video (Charming Data): [The Dash Callback - Input, Output, State, and more](https://www.youtube.com/watch?v=mTsZL-VmRVE)  "
   ]
  }
 ],
 "metadata": {
  "kernelspec": {
   "display_name": "py38_dashboard",
   "language": "python",
   "name": "conda-env-py38_dashboard-py"
  },
  "language_info": {
   "codemirror_mode": {
    "name": "ipython",
    "version": 3
   },
   "file_extension": ".py",
   "mimetype": "text/x-python",
   "name": "python",
   "nbconvert_exporter": "python",
   "pygments_lexer": "ipython3",
   "version": "3.8.8"
  }
 },
 "nbformat": 4,
 "nbformat_minor": 5
}
