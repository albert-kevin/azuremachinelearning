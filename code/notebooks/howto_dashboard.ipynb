{
 "cells": [
  {
   "cell_type": "markdown",
   "metadata": {},
   "source": [
    "Author: Kevin ALBERT  \n",
    "\n",
    "Created: April 2021 (Updated: 20 Apr 2021)  \n",
    "\n",
    "TestRun: 20 Apr 2021"
   ]
  },
  {
   "cell_type": "markdown",
   "metadata": {},
   "source": [
    "# Dashboard development\n",
    "_**How to build an interactive dashboard**_  \n",
    "1. [Setup](#Setup)  \n",
    "● [versions](#versions)  \n",
    "● [parameters](#parameters)  \n",
    "● [jupyter](#run-from-jupyter)  \n",
    "● [vscode](#run-from-vscode)  \n",
    "1. [Theme](#Theme)  \n",
    "1. [Layout](#Layout)  \n",
    "1. [Components](#Components)\n",
    "1. [Callback](#Callback)  \n",
    "1. [Sources](#Sources)\n",
    "\n",
    "# Dashboard deployment\n",
    "_**how to deploy a Dash app to Azure App Service in the cloud using containers**_\n",
    "1. [Required](#Required)\n",
    "1. [Develop](#Develop)\n",
    "1. [Verify](#Verify)\n",
    "1. [Public](#Public)\n",
    "1. [Private](#Private)\n",
    "1. [Cleanup](#Cleanup)\n",
    "\n",
    "# Plotly examples\n",
    "_**data visualization code examples for dashboards**_\n",
    "1. [line chart](#line-chart)\n",
    "1. [bar chart](#bar-chart)\n",
    "1. [bubble plot](#bubble-plot)\n",
    "1. [box plot](#box-plot)\n",
    "1. [histogram](#histogram)\n",
    "1. [heatmap](#heatmap)\n",
    "1. [geomap](#geographic-map)"
   ]
  },
  {
   "cell_type": "markdown",
   "metadata": {},
   "source": [
    "## Setup\n",
    "### versions"
   ]
  },
  {
   "cell_type": "code",
   "execution_count": 1,
   "metadata": {},
   "outputs": [
    {
     "name": "stdout",
     "output_type": "stream",
     "text": [
      "conda : 4.9.2\n",
      "pip   : 21.0.1\n",
      "python: 3.8.8\n",
      "pandas: 1.2.4\n",
      "numpy : 1.20.2\n",
      "plotly: 4.14.3\n",
      "dash  : 1.20.0\n",
      "dash-core-components: 1.16.0\n",
      "dash-html-components: 1.1.3\n",
      "dash-bootstrap-components: 0.12.0\n"
     ]
    }
   ],
   "source": [
    "conda_version = ! conda -V\n",
    "print(f\"conda : {conda_version[0].split()[1]}\")\n",
    "pip_version = ! pip -V\n",
    "print(f\"pip   : {pip_version[0].split()[1]}\")\n",
    "python_version = ! python -V\n",
    "print(f\"python: {python_version[0].split()[1]}\")\n",
    "pandas_version = ! pip list |grep -ie \"^pandas \"\n",
    "print(f\"pandas: {pandas_version[0].split()[1]}\")\n",
    "numpy_version = ! pip list |grep -ie \"^numpy \"\n",
    "print(f\"numpy : {numpy_version[0].split()[1]}\")\n",
    "plotly_version = ! pip list |grep -ie \"^plotly \"\n",
    "print(f\"plotly: {plotly_version[0].split()[1]}\")\n",
    "dash_version = ! pip list |grep -ie \"^dash \"\n",
    "print(f\"dash  : {dash_version[0].split()[1]}\")\n",
    "core_version = ! pip list |grep -ie \"^dash-core-components\"\n",
    "print(f\"dash-core-components: {core_version[0].split()[1]}\")\n",
    "html_version = ! pip list |grep -ie \"^dash-html-components\"\n",
    "print(f\"dash-html-components: {html_version[0].split()[1]}\")\n",
    "bootstrap_version = ! pip list |grep -ie \"^dash-bootstrap-components\"\n",
    "print(f\"dash-bootstrap-components: {bootstrap_version[0].split()[1]}\")"
   ]
  },
  {
   "cell_type": "markdown",
   "metadata": {},
   "source": [
    "### parameters"
   ]
  },
  {
   "cell_type": "code",
   "execution_count": 2,
   "metadata": {},
   "outputs": [],
   "source": [
    "# virtual machine parameters\n",
    "server = \"23.97.187.214\"\n",
    "port   = \"8050\""
   ]
  },
  {
   "cell_type": "markdown",
   "metadata": {},
   "source": [
    "**example code below will show a green button**\n",
    "![green Success button](../../image/howto_plotlydash/dash_green_success.png)"
   ]
  },
  {
   "cell_type": "code",
   "execution_count": 3,
   "metadata": {},
   "outputs": [
    {
     "name": "stdout",
     "output_type": "stream",
     "text": [
      "Dash will be running on http://23.97.187.214:8050/ \n",
      "\n"
     ]
    }
   ],
   "source": [
    "print(\"Dash will be running on http://\"+server+\":\"+port+\"/\", \"\\n\")"
   ]
  },
  {
   "cell_type": "markdown",
   "metadata": {},
   "source": [
    "### run from jupyter"
   ]
  },
  {
   "cell_type": "code",
   "execution_count": 4,
   "metadata": {},
   "outputs": [
    {
     "name": "stdout",
     "output_type": "stream",
     "text": [
      "Dash is running on http://0.0.0.0:8050/\n",
      "\n",
      " * Serving Flask app \"__main__\" (lazy loading)\n",
      " * Environment: production\n",
      "\u001b[31m   WARNING: This is a development server. Do not use it in a production deployment.\u001b[0m\n",
      "\u001b[2m   Use a production WSGI server instead.\u001b[0m\n",
      " * Debug mode: off\n"
     ]
    },
    {
     "name": "stderr",
     "output_type": "stream",
     "text": [
      " * Running on http://0.0.0.0:8050/ (Press CTRL+C to quit)\n",
      "84.198.32.146 - - [20/Apr/2021 17:29:15] \"\u001b[37mGET / HTTP/1.1\u001b[0m\" 200 -\n",
      "84.198.32.146 - - [20/Apr/2021 17:29:15] \"\u001b[37mGET /_dash-layout HTTP/1.1\u001b[0m\" 200 -\n",
      "84.198.32.146 - - [20/Apr/2021 17:29:15] \"\u001b[37mGET /_dash-dependencies HTTP/1.1\u001b[0m\" 200 -\n",
      "84.198.32.146 - - [20/Apr/2021 17:29:15] \"\u001b[37mGET /_favicon.ico?v=1.20.0 HTTP/1.1\u001b[0m\" 200 -\n"
     ]
    }
   ],
   "source": [
    "# stop cell when done to continue...\n",
    "import dash\n",
    "import dash_bootstrap_components as dbc\n",
    "import dash_html_components as html\n",
    "\n",
    "external_stylesheets = [dbc.themes.BOOTSTRAP]\n",
    "\n",
    "app = dash.Dash(__name__,\n",
    "                external_stylesheets=external_stylesheets,\n",
    "                suppress_callback_exceptions=True)\n",
    "server = app.server\n",
    "app.title = 'project title'\n",
    "\n",
    "app.layout = html.Div(children=[\n",
    "    dbc.Button(\"Success\", color=\"success\", className=\"mr-1\"),\n",
    "])\n",
    "\n",
    "if __name__ == '__main__':\n",
    "    app.run_server(host='0.0.0.0', debug=False, port=8050)"
   ]
  },
  {
   "cell_type": "markdown",
   "metadata": {},
   "source": [
    "### run from vscode\n",
    "\n",
    "**using visual studio code debugger** `~/.vscode/launch.json`**:**\n",
    "```json\n",
    "{\n",
    "    // https://go.microsoft.com/fwlink/?linkid=830387\n",
    "    \"version\": \"0.2.0\",\n",
    "    \"configurations\": [\n",
    "        {\n",
    "            \"name\": \"Python: Current File\",\n",
    "            \"type\": \"python\",\n",
    "            \"request\": \"launch\",\n",
    "            \"program\": \"${file}\",\n",
    "            \"console\": \"integratedTerminal\",\n",
    "            \"cwd\": \"${fileDirname}\"\n",
    "        }\n",
    "    ]\n",
    "}\n",
    "```\n",
    "\n",
    "Activate the correct python interpreter path in vscode ('py38_dashboard':conda)  \n",
    "name your code `main.py` when using `__main__`  \n",
    "`enable debug=True`\n",
    "\n",
    "```python\n",
    "if __name__ == '__main__':\n",
    "    app.run_server(host='0.0.0.0', debug=True, port=8050)\n",
    "```\n",
    "![vscode debug dashboard](../../image/howto_plotlydash/vscode_debug_dashboard.png)"
   ]
  },
  {
   "cell_type": "markdown",
   "metadata": {},
   "source": [
    "## Theme\n",
    "Customize the look of your app using the bundled themes.  \n",
    "\n",
    "**using the [default](https://www.bootstrapcdn.com/) theme:**\n",
    "```python\n",
    "import dash\n",
    "import dash_bootstrap_components as dbc\n",
    "\n",
    "external_stylesheets = [dbc.themes.BOOTSTRAP] # Bootstrap must be in CAPITAL letters\n",
    "app = dash.Dash(__name__, external_stylesheets=external_stylesheets)\n",
    "```\n",
    "\n",
    "**using [other](https://bootswatch.com/) themes:**\n",
    "```python\n",
    "import dash\n",
    "import dash_bootstrap_components as dbc\n",
    "\n",
    "external_stylesheets = [dbc.themes.DARKLY] # Darkly must be in CAPITAL letters\n",
    "app = dash.Dash(__name__, external_stylesheets=external_stylesheets)\n",
    "```\n",
    "![bootswatch themes](../../image/howto_plotlydash/bootswatch_themes.png)"
   ]
  },
  {
   "cell_type": "markdown",
   "metadata": {},
   "source": [
    "## Layout\n",
    "Customize the **[page layout](https://dash-bootstrap-components.opensource.faculty.ai/docs/components/layout/)** of your components.  \n",
    "The **rows** are defined **first**, then the columns.  \n",
    "dbc.Col() always go inside dbc.Row()\n",
    "```python\n",
    "app.layout = html.Div([\n",
    "        dbc.Row(dbc.Col(html.H3(\"Our Beautiful App Layout\"),\n",
    "                        width={'size': 6, 'offset': 3, 'order': 1},\n",
    "                        ),\n",
    "                ),\n",
    "])\n",
    "```\n",
    "![inspect layout](../../image/howto_plotlydash/inspect_layout.png)\n",
    "\n",
    "The total width always has a 12-column invisible grid within each row.\n",
    "* **size** is the number of columns for the component\n",
    "* **offset** is the number of empty columns left of the component\n",
    "* **order** is the position from left to right for the components\n",
    "```python\n",
    "app.layout = html.Div([\n",
    "        dbc.Row(\n",
    "            [\n",
    "                dbc.Col(dcc.Dropdown(id='c_dropdown', placeholder='last dropdown',\n",
    "                                     options=[{'label': 'Option A', 'value': 'optA'},\n",
    "                                              {'label': 'Option B', 'value': 'optB'}]),\n",
    "                        width={'size': 3, \"offset\": 2, 'order': 3}\n",
    "                        ),\n",
    "                dbc.Col(dcc.Dropdown(id='a_dropdown', placeholder='first dropdown',\n",
    "                                     options=[{'label': 'Option A', 'value': 'optA'},\n",
    "                                              {'label': 'Option B', 'value': 'optB'}]),\n",
    "                        width={'size': 4, \"offset\": 1, 'order': 1}\n",
    "                        ),\n",
    "                dbc.Col(dcc.Dropdown(id='b_dropdown', placeholder='middle dropdown',\n",
    "                                     options=[{'label': 'Option A', 'value': 'optA'},\n",
    "                                              {'label': 'Option B', 'value': 'optB'}]),\n",
    "                        width={'size': 2,  \"offset\": 0, 'order': 2}\n",
    "                        ),\n",
    "])\n",
    "```\n",
    "![inspect dropdown layout](../../image/howto_plotlydash/inspect_dropdown_layout.png)"
   ]
  },
  {
   "cell_type": "markdown",
   "metadata": {},
   "source": [
    "## Components\n",
    "components and props for interactive user interfaces.\n",
    "\n",
    "**[dash core components](https://dash.plotly.com/dash-core-components):**\n",
    "```python\n",
    "import dash_core_components as dcc\n",
    "\n",
    "dcc.Dropdown()\n",
    "dcc.Slider()\n",
    "dcc.RangeSlider()\n",
    "dcc.Checklist()\n",
    "dcc.Graph()\n",
    "```\n",
    "![core](../../image/howto_plotlydash/dash_core.png)\n",
    "**[dash bootstrap components](https://dash-bootstrap-components.opensource.faculty.ai/docs/components):**\n",
    "```python\n",
    "import dash_bootstrap_components as dbc\n",
    "\n",
    "dbc.DropdownMenu()\n",
    "dbc.Button()\n",
    "dbc.FormGroup()\n",
    "dbc.Col()\n",
    "dbc.Progress()\n",
    "```\n",
    "![bootstrap](../../image/howto_plotlydash/dash_bootstrap.png)\n",
    "**[dash html components](https://dash.plotly.com/dash-html-components):**\n",
    "```python\n",
    "import dash_html_components as html\n",
    "\n",
    "html.Div()\n",
    "html.H1()\n",
    "html.H3()\n",
    "html.P()\n",
    "html.Img()\n",
    "```\n",
    "![html](../../image/howto_plotlydash/dash_html_components.png)\n",
    "**[dash table components](https://dash.plotly.com/datatable):**\n",
    "```python\n",
    "import dash_table as dt\n",
    "\n",
    "dt.DataTable()\n",
    "```\n",
    "![datatable](../../image/howto_plotlydash/dash_datatable.png)\n",
    "**[dash cytoscape components](https://dash.plotly.com/cytoscape):**\n",
    "```python\n",
    "import dash_cytoscape as cyto\n",
    "\n",
    "cyto.Cytoscape()\n",
    "```\n",
    "![graph visualization](../../image/howto_plotlydash/graph_visualization_component.png)"
   ]
  },
  {
   "cell_type": "markdown",
   "metadata": {},
   "source": [
    "## Callback\n",
    "\n",
    "**remember:**  \n",
    "* a callback is automatically triggered the app is loaded, to prevent use `prevent_initial_call=True`\n",
    "* whenever the component_property of `Input()` changes, the callback is triggered\n",
    "* whenever the component_property of `State()` changes, the callback is **NOT** triggered\n",
    "* callback always needs an `Input()` and `Output()`, but not necessarily `State()`\n",
    "* every input and state need to be represented as callback function **arguments**\n",
    "* the callback function returns data to the component_property of `Output()`\n",
    "* any given `Output(id, property)` can only have one callback that sets it\n",
    "* if the user triggers the callback but you want __none__ of the Outputs to update, `raise dash.exceptions.PreventUpdate`\n",
    "* if the user triggers the callback but you want only __some__ of the Outputs to update, `return Dash.no_update`\n",
    "\n",
    "```python\n",
    "@app.callback(\n",
    "    [Output(component_id='output1', component_property='value'),\n",
    "     Output(component_id='output2', component_property='figure')],\n",
    "    [Input(component_id='input1', component_property='value'),\n",
    "     Input(component_id='input2', component_property='value')],\n",
    "    [State(component_id='state1', component_property='value'),\n",
    "     State(component_id='state2', component_property='value')],\n",
    "    prevent_initial_call=False\n",
    ")\n",
    "def any_function_name(input1, input2, state1, state2):\n",
    "    if condition:\n",
    "        do tasks\n",
    "        return dash.no_update, {'data': [1, 2, 3]}\n",
    "    elif len(input2) == 0:\n",
    "        raise dash.exceptions.PreventUpdate\n",
    "    else:\n",
    "        return figure, {'data': [1, 2, 3]}\n",
    "```\n",
    "![app callback schema](../../image/howto_plotlydash/app_callback_schema.png)"
   ]
  },
  {
   "cell_type": "markdown",
   "metadata": {},
   "source": [
    "## Sources\n",
    "udemy course (Josse Portilla): [Interactive Python Dashboards with Plotly and Dash](https://www.udemy.com/share/101WaOAEUdeF9UQHg)  \n",
    "udemy course (Profesor Pip): [Interactive Python Dashboards with Plotly and Dash](https://www.udemy.com/share/102dzqAEUdeF9UQHg)  \n",
    "youtube video (Charming Data): [Introduction to Dash Bootstrap - Styling your App](https://www.youtube.com/watch?v=vqVwpL4bGKY)   \n",
    "youtube video (Charming Data): [The Dash Callback - Input, Output, State, and more](https://www.youtube.com/watch?v=mTsZL-VmRVE)  "
   ]
  },
  {
   "cell_type": "markdown",
   "metadata": {},
   "source": [
    "---"
   ]
  },
  {
   "cell_type": "markdown",
   "metadata": {},
   "source": [
    "# Dashboard deployment\n",
    "## Required\n",
    "* open a ssh putty session to this VM\n",
    "* open a cloud powershell session\n",
    "* **optional:** [register](https://hub.docker.com/) docker hub account"
   ]
  },
  {
   "cell_type": "markdown",
   "metadata": {},
   "source": [
    "## Develop\n",
    "Development files and directory for containerization.  \n",
    "Asuming the dashboard python code already developed using VSCode and debugger.\n",
    "\n",
    "1. parameters\n",
    "1. project folder\n",
    "1. project files\n",
    "  * requirements.txt\n",
    "  * application.py\n",
    "  * Dockerfile"
   ]
  },
  {
   "cell_type": "markdown",
   "metadata": {},
   "source": [
    "### parameters"
   ]
  },
  {
   "cell_type": "code",
   "execution_count": 5,
   "metadata": {},
   "outputs": [],
   "source": [
    "IPADDR           = \"23.97.187.214\" # this VM IP\n",
    "PROJNAME         = \"dash-azure\" # docker image name and project folder name\n",
    "DOCKERHUB_USER   = \"beire2018\" # docker hub account name\n",
    "AZUREDOCKER_USER = \"container200420\" # azure docker container registry account name DDMMYY\n",
    "DOCKER_TAG       = \"latest\" # {v1.0.0, latest}\n",
    "WEBAPP_PORT      = \"80\" # {default 80, 8050}"
   ]
  },
  {
   "cell_type": "code",
   "execution_count": 6,
   "metadata": {},
   "outputs": [],
   "source": [
    "RESOURCE_GROUP                = \"myResourceGroup4\"\n",
    "LOCATION                      = \"westeurope\" # {westeurope, northeurope, eastus}\n",
    "APPSERVICEPLAN_NAME           = \"myAppServicePlan4\"\n",
    "APPSERVICEPLAN_COMPUTE        = \"B1\" # {F1 free 1G, B1 €11/m 1.7G, B2 3.5G, B3 7G}=DEV, {P1V2}=PROD \n",
    "WEBAPP_NAME                   = \"kevin200420\" # DDMMYY\n",
    "DOCKER_HUB_CONTAINER_NAME     = DOCKERHUB_USER + \"/\" + PROJNAME + \":\" + DOCKER_TAG # <username>/<container-or-image>:<tag>\n",
    "AZURE_CONTAINER_REGISTRY_NAME = AZUREDOCKER_USER + \".azurecr.io/\" + PROJNAME + \":\" + DOCKER_TAG"
   ]
  },
  {
   "cell_type": "markdown",
   "metadata": {},
   "source": [
    "### project folder"
   ]
  },
  {
   "cell_type": "code",
   "execution_count": 7,
   "metadata": {},
   "outputs": [
    {
     "name": "stdout",
     "output_type": "stream",
     "text": [
      "dash-azure folder created\n"
     ]
    }
   ],
   "source": [
    "import os\n",
    "project_folder = '../dashboards/' + PROJNAME\n",
    "os.makedirs(project_folder, exist_ok=True)\n",
    "print(PROJNAME, 'folder created')"
   ]
  },
  {
   "cell_type": "markdown",
   "metadata": {},
   "source": [
    "### project files"
   ]
  },
  {
   "cell_type": "markdown",
   "metadata": {},
   "source": [
    "**requirements.txt**  \n",
    "python packages list to be installed in container"
   ]
  },
  {
   "cell_type": "code",
   "execution_count": 8,
   "metadata": {},
   "outputs": [
    {
     "name": "stdout",
     "output_type": "stream",
     "text": [
      "Overwriting ../dashboards/dash-azure/requirements.txt\n"
     ]
    }
   ],
   "source": [
    "%%writefile $project_folder/requirements.txt\n",
    "dash"
   ]
  },
  {
   "cell_type": "markdown",
   "metadata": {},
   "source": [
    "**application.py**  \n",
    "plotly dash code to run a flask service in python (port: 80)"
   ]
  },
  {
   "cell_type": "code",
   "execution_count": 9,
   "metadata": {},
   "outputs": [
    {
     "name": "stdout",
     "output_type": "stream",
     "text": [
      "Overwriting ../dashboards/dash-azure/application.py\n"
     ]
    }
   ],
   "source": [
    "%%writefile $project_folder/application.py\n",
    "import dash\n",
    "import dash_core_components as dcc\n",
    "import dash_html_components as html\n",
    "\n",
    "app = dash.Dash()\n",
    "application = app.server\n",
    "\n",
    "app.layout = html.Div(children=[\n",
    "    html.H1(children='Hello Dash'),\n",
    "\n",
    "    html.Div(children='''This is Dash running on Azure App Service.'''),\n",
    "\n",
    "    dcc.Graph(\n",
    "        id='example-graph',\n",
    "        figure={\n",
    "            'data': [\n",
    "                {'x': [1, 2, 3], 'y': [4, 1, 2], 'type': 'bar', 'name': 'SF'},\n",
    "                {'x': [1, 2, 3], 'y': [2, 4, 5], 'type': 'bar', 'name': u'Montréal'},\n",
    "            ],\n",
    "            'layout': {\n",
    "                'title': 'Dash Data Visualization'\n",
    "            }\n",
    "        }\n",
    "    )\n",
    "])\n",
    "\n",
    "if __name__ == '__main__':\n",
    "    application.run(debug=True, host='0.0.0.0', port='80')  # use port 80 for Azure Web App service"
   ]
  },
  {
   "cell_type": "markdown",
   "metadata": {},
   "source": [
    "**Dockerfile**  \n",
    "docker container build steps, open an interactive shell to develop steps and remove upon exit\n",
    "```sh\n",
    "sudo docker container run -p 8050:80 --rm -it python:3.6-slim /bin/sh\n",
    "    pip -V\n",
    "    mkdir /app\n",
    "    cd /app\n",
    "    vi requirements.txt\n",
    "    pip install -r requirements.txt\n",
    "    vi application.py\n",
    "    python application.py\n",
    "```"
   ]
  },
  {
   "cell_type": "code",
   "execution_count": 10,
   "metadata": {},
   "outputs": [
    {
     "name": "stdout",
     "output_type": "stream",
     "text": [
      "Overwriting ../dashboards/dash-azure/Dockerfile\n"
     ]
    }
   ],
   "source": [
    "%%writefile $project_folder/Dockerfile\n",
    "FROM python:3.6-slim\n",
    "\n",
    "RUN mkdir /app\n",
    "WORKDIR /app\n",
    "ADD requirements.txt /app/\n",
    "RUN pip install -r requirements.txt\n",
    "ADD . /app/\n",
    "\n",
    "ENTRYPOINT [ \"python\" ]\n",
    "CMD [\"application.py\"]"
   ]
  },
  {
   "cell_type": "markdown",
   "metadata": {},
   "source": [
    "## Verify"
   ]
  },
  {
   "cell_type": "markdown",
   "metadata": {},
   "source": [
    "Test run the docker container on the cloud VM (local)\n",
    "\n",
    "1. build image\n",
    "1. run image"
   ]
  },
  {
   "cell_type": "markdown",
   "metadata": {},
   "source": [
    "### build image"
   ]
  },
  {
   "cell_type": "code",
   "execution_count": 11,
   "metadata": {},
   "outputs": [
    {
     "name": "stdout",
     "output_type": "stream",
     "text": [
      "sudo docker build -t dash-azure ../dashboards/dash-azure/.\n"
     ]
    }
   ],
   "source": [
    "print(\"sudo docker build -t \" + PROJNAME + \" \" + project_folder +\"/.\")"
   ]
  },
  {
   "cell_type": "code",
   "execution_count": 12,
   "metadata": {},
   "outputs": [
    {
     "name": "stdout",
     "output_type": "stream",
     "text": [
      "Sending build context to Docker daemon  4.608kB\n",
      "Step 1/8 : FROM python:3.6-slim\n",
      "3.6-slim: Pulling from library/python\n",
      "\n",
      "\u001b[1B5a41d630: Pulling fs layer \n",
      "\u001b[1B8b7b4c32: Pulling fs layer \n",
      "\u001b[1B2ad15a23: Pulling fs layer \n",
      "\u001b[1B3e3eee91: Pulling fs layer \n",
      "\u001b[1B9a280109: Pull complete 453MB/2.453MBB\u001b[4A\u001b[2K\u001b[5A\u001b[2K\u001b[3A\u001b[2K\u001b[5A\u001b[2K\u001b[5A\u001b[2K\u001b[5A\u001b[2K\u001b[5A\u001b[2K\u001b[1A\u001b[2K\u001b[1A\u001b[2K\u001b[5A\u001b[2K\u001b[5A\u001b[2K\u001b[5A\u001b[2K\u001b[5A\u001b[2K\u001b[5A\u001b[2K\u001b[5A\u001b[2K\u001b[5A\u001b[2K\u001b[5A\u001b[2K\u001b[5A\u001b[2K\u001b[5A\u001b[2K\u001b[5A\u001b[2K\u001b[4A\u001b[2K\u001b[4A\u001b[2K\u001b[4A\u001b[2K\u001b[3A\u001b[2K\u001b[3A\u001b[2K\u001b[3A\u001b[2K\u001b[3A\u001b[2K\u001b[3A\u001b[2K\u001b[3A\u001b[2K\u001b[3A\u001b[2K\u001b[2A\u001b[2K\u001b[2A\u001b[2K\u001b[1A\u001b[2K\u001b[1A\u001b[2K\u001b[1A\u001b[2K\u001b[1A\u001b[2K\u001b[1A\u001b[2KDigest: sha256:596c35c09d59adf2afbefa3aa970f26ac3ba3c2396c6766a7c73086ac850d416\n",
      "Status: Downloaded newer image for python:3.6-slim\n",
      " ---> 5e900d21ca3f\n",
      "Step 2/8 : RUN mkdir /app\n",
      " ---> Running in 4a1935691ea9\n",
      "Removing intermediate container 4a1935691ea9\n",
      " ---> ad102e730ea2\n",
      "Step 3/8 : WORKDIR /app\n",
      " ---> Running in 84d1409e2c50\n",
      "Removing intermediate container 84d1409e2c50\n",
      " ---> f815edfd1c0b\n",
      "Step 4/8 : ADD requirements.txt /app/\n",
      " ---> b2ead26b0653\n",
      "Step 5/8 : RUN pip install -r requirements.txt\n",
      " ---> Running in 9e2f7735653a\n",
      "Collecting dash\n",
      "  Downloading dash-1.20.0.tar.gz (77 kB)\n",
      "Collecting Flask>=1.0.4\n",
      "  Downloading Flask-1.1.2-py2.py3-none-any.whl (94 kB)\n",
      "Collecting flask-compress\n",
      "  Downloading Flask_Compress-1.9.0-py3-none-any.whl (7.3 kB)\n",
      "Collecting plotly\n",
      "  Downloading plotly-4.14.3-py2.py3-none-any.whl (13.2 MB)\n",
      "Collecting dash_renderer==1.9.1\n",
      "  Downloading dash_renderer-1.9.1.tar.gz (1.0 MB)\n",
      "Collecting dash-core-components==1.16.0\n",
      "  Downloading dash_core_components-1.16.0.tar.gz (3.5 MB)\n",
      "Collecting dash-html-components==1.1.3\n",
      "  Downloading dash_html_components-1.1.3.tar.gz (82 kB)\n",
      "Collecting dash-table==4.11.3\n",
      "  Downloading dash_table-4.11.3.tar.gz (1.8 MB)\n",
      "Collecting future\n",
      "  Downloading future-0.18.2.tar.gz (829 kB)\n",
      "Collecting Jinja2>=2.10.1\n",
      "  Downloading Jinja2-2.11.3-py2.py3-none-any.whl (125 kB)\n",
      "Collecting Werkzeug>=0.15\n",
      "  Downloading Werkzeug-1.0.1-py2.py3-none-any.whl (298 kB)\n",
      "Collecting click>=5.1\n",
      "  Downloading click-7.1.2-py2.py3-none-any.whl (82 kB)\n",
      "Collecting itsdangerous>=0.24\n",
      "  Downloading itsdangerous-1.1.0-py2.py3-none-any.whl (16 kB)\n",
      "Collecting MarkupSafe>=0.23\n",
      "  Downloading MarkupSafe-1.1.1-cp36-cp36m-manylinux2010_x86_64.whl (32 kB)\n",
      "Collecting brotli\n",
      "  Downloading Brotli-1.0.9-cp36-cp36m-manylinux1_x86_64.whl (357 kB)\n",
      "Collecting six\n",
      "  Downloading six-1.15.0-py2.py3-none-any.whl (10 kB)\n",
      "Collecting retrying>=1.3.3\n",
      "  Downloading retrying-1.3.3.tar.gz (10 kB)\n",
      "Building wheels for collected packages: dash, dash-core-components, dash-html-components, dash-renderer, dash-table, future, retrying\n",
      "  Building wheel for dash (setup.py): started\n",
      "  Building wheel for dash (setup.py): finished with status 'done'\n",
      "  Created wheel for dash: filename=dash-1.20.0-py3-none-any.whl size=85831 sha256=e72e4ca9e6fbe3ddb9f7f9ca9e3f991d3389f3e37cf73ca2527b37cf8ae09969\n",
      "  Stored in directory: /root/.cache/pip/wheels/f5/8f/d6/fba2563893d6fe0fe4a695af9dd45d1d569ac9007dc8287cf8\n",
      "  Building wheel for dash-core-components (setup.py): started\n",
      "  Building wheel for dash-core-components (setup.py): finished with status 'done'\n",
      "  Created wheel for dash-core-components: filename=dash_core_components-1.16.0-py3-none-any.whl size=3540991 sha256=093cc5a9d343a7f9b5680e068a4505f57d9887ef46291d7aa411cf6efb799d2e\n",
      "  Stored in directory: /root/.cache/pip/wheels/0e/1b/b5/5e2fd49287eda64467c42696612e869002dcf9b876a8e0213f\n",
      "  Building wheel for dash-html-components (setup.py): started\n",
      "  Building wheel for dash-html-components (setup.py): finished with status 'done'\n",
      "  Created wheel for dash-html-components: filename=dash_html_components-1.1.3-py3-none-any.whl size=319471 sha256=bef55036e76ded4d3086e96d840f6766b3521586623fc2c2bd54466a538fb438\n",
      "  Stored in directory: /root/.cache/pip/wheels/92/51/08/6fe861b9df70eaa636e575473d09e5a8c85b33f28ac265d603\n",
      "  Building wheel for dash-renderer (setup.py): started\n",
      "  Building wheel for dash-renderer (setup.py): finished with status 'done'\n",
      "  Created wheel for dash-renderer: filename=dash_renderer-1.9.1-py3-none-any.whl size=1014878 sha256=7dfe3ce436b8ca1d0551d88716f45277662e8f2c235ebd5b0220a9b3a0e86548\n",
      "  Stored in directory: /root/.cache/pip/wheels/03/6e/a3/5d2d60226c9e8db26f13710645e333eeeb82907b6c1ce55a3f\n",
      "  Building wheel for dash-table (setup.py): started\n",
      "  Building wheel for dash-table (setup.py): finished with status 'done'\n",
      "  Created wheel for dash-table: filename=dash_table-4.11.3-py3-none-any.whl size=1827618 sha256=8ae6c60f85a5c53c09468319288ac32e11747e4851e44409d33b7e0094909483\n",
      "  Stored in directory: /root/.cache/pip/wheels/e1/87/37/b318a034e5baff5cd3288d5e6d16e3472f5f7fa0d94bf2d574\n",
      "  Building wheel for future (setup.py): started\n",
      "  Building wheel for future (setup.py): finished with status 'done'\n",
      "  Created wheel for future: filename=future-0.18.2-py3-none-any.whl size=491059 sha256=325b513ff1cf091c79718a9239211d97cff0a247e75e31bf27736df87c007aca\n",
      "  Stored in directory: /root/.cache/pip/wheels/6e/9c/ed/4499c9865ac1002697793e0ae05ba6be33553d098f3347fb94\n",
      "  Building wheel for retrying (setup.py): started\n",
      "  Building wheel for retrying (setup.py): finished with status 'done'\n",
      "  Created wheel for retrying: filename=retrying-1.3.3-py3-none-any.whl size=11429 sha256=b612c85082418bc214867f9ed1e4ee3fa733afd3a53b9137fcb0e8d4e918e0ad\n",
      "  Stored in directory: /root/.cache/pip/wheels/ac/cb/8a/b27bf6323e2f4c462dcbf77d70b7c5e7868a7fbe12871770cf\n",
      "Successfully built dash dash-core-components dash-html-components dash-renderer dash-table future retrying\n",
      "Installing collected packages: MarkupSafe, Werkzeug, six, Jinja2, itsdangerous, click, retrying, Flask, brotli, plotly, future, flask-compress, dash-table, dash-renderer, dash-html-components, dash-core-components, dash\n",
      "Successfully installed Flask-1.1.2 Jinja2-2.11.3 MarkupSafe-1.1.1 Werkzeug-1.0.1 brotli-1.0.9 click-7.1.2 dash-1.20.0 dash-core-components-1.16.0 dash-html-components-1.1.3 dash-renderer-1.9.1 dash-table-4.11.3 flask-compress-1.9.0 future-0.18.2 itsdangerous-1.1.0 plotly-4.14.3 retrying-1.3.3 six-1.15.0\n",
      "Removing intermediate container 9e2f7735653a\n",
      " ---> a97c2f0e2535\n",
      "Step 6/8 : ADD . /app/\n",
      " ---> 4d46a4546750\n",
      "Step 7/8 : ENTRYPOINT [ \"python\" ]\n",
      " ---> Running in a70087fdff45\n",
      "Removing intermediate container a70087fdff45\n",
      " ---> bb68a7860a25\n",
      "Step 8/8 : CMD [\"application.py\"]\n",
      " ---> Running in 6acd575b8173\n",
      "Removing intermediate container 6acd575b8173\n",
      " ---> ba2dfa4759c0\n",
      "Successfully built ba2dfa4759c0\n",
      "Successfully tagged dash-azure:latest\n"
     ]
    }
   ],
   "source": [
    "! sudo docker build -t $PROJNAME $project_folder/."
   ]
  },
  {
   "cell_type": "markdown",
   "metadata": {},
   "source": [
    "### run image"
   ]
  },
  {
   "cell_type": "code",
   "execution_count": 13,
   "metadata": {},
   "outputs": [
    {
     "name": "stdout",
     "output_type": "stream",
     "text": [
      "===>  http://23.97.187.214:8050/ \n",
      "\n",
      " * Serving Flask app \"application\" (lazy loading)\n",
      " * Environment: production\n",
      "\u001b[31m   WARNING: This is a development server. Do not use it in a production deployment.\u001b[0m\n",
      "\u001b[2m   Use a production WSGI server instead.\u001b[0m\n",
      " * Debug mode: on\n",
      " * Running on http://0.0.0.0:80/ (Press CTRL+C to quit)\n",
      " * Restarting with stat\n",
      " * Debugger is active!\n",
      " * Debugger PIN: 159-763-918\n",
      "84.198.32.146 - - [20/Apr/2021 15:31:12] \"\u001b[37mGET / HTTP/1.1\u001b[0m\" 200 -\n",
      "84.198.32.146 - - [20/Apr/2021 15:31:12] \"\u001b[37mGET /_dash-component-suites/dash_renderer/polyfill@7.v1_9_1m1618932623.8.7.min.js HTTP/1.1\u001b[0m\" 200 -\n",
      "84.198.32.146 - - [20/Apr/2021 15:31:12] \"\u001b[37mGET /_dash-component-suites/dash_renderer/react@16.v1_9_1m1618932623.14.0.min.js HTTP/1.1\u001b[0m\" 200 -\n",
      "84.198.32.146 - - [20/Apr/2021 15:31:12] \"\u001b[37mGET /_dash-component-suites/dash_html_components/dash_html_components.v1_1_3m1618932623.min.js HTTP/1.1\u001b[0m\" 200 -\n",
      "84.198.32.146 - - [20/Apr/2021 15:31:12] \"\u001b[37mGET /_dash-component-suites/dash_renderer/prop-types@15.v1_9_1m1618932623.7.2.min.js HTTP/1.1\u001b[0m\" 200 -\n",
      "84.198.32.146 - - [20/Apr/2021 15:31:12] \"\u001b[37mGET /_dash-component-suites/dash_renderer/react-dom@16.v1_9_1m1618932623.14.0.min.js HTTP/1.1\u001b[0m\" 200 -\n",
      "84.198.32.146 - - [20/Apr/2021 15:31:12] \"\u001b[37mGET /_dash-component-suites/dash_core_components/dash_core_components.v1_16_0m1618932623.min.js HTTP/1.1\u001b[0m\" 200 -\n",
      "84.198.32.146 - - [20/Apr/2021 15:31:12] \"\u001b[37mGET /_dash-component-suites/dash_core_components/dash_core_components-shared.v1_16_0m1618932623.js HTTP/1.1\u001b[0m\" 200 -\n",
      "84.198.32.146 - - [20/Apr/2021 15:31:12] \"\u001b[37mGET /_dash-component-suites/dash_renderer/dash_renderer.v1_9_1m1618932623.min.js HTTP/1.1\u001b[0m\" 200 -\n",
      "84.198.32.146 - - [20/Apr/2021 15:31:12] \"\u001b[37mGET /_dash-layout HTTP/1.1\u001b[0m\" 200 -\n",
      "84.198.32.146 - - [20/Apr/2021 15:31:13] \"\u001b[37mGET /_dash-dependencies HTTP/1.1\u001b[0m\" 200 -\n",
      "84.198.32.146 - - [20/Apr/2021 15:31:13] \"\u001b[37mGET /_favicon.ico?v=1.20.0 HTTP/1.1\u001b[0m\" 200 -\n",
      "^C\n"
     ]
    }
   ],
   "source": [
    "print(\"===>  http://\" + IPADDR + \":8050/\", \"\\n\")\n",
    "! sudo docker run -it --rm -p 8050:80 $PROJNAME   # bridge application.py port 80 to external port 8050\n",
    "\n",
    "    # stop cell when done to continue..."
   ]
  },
  {
   "cell_type": "markdown",
   "metadata": {},
   "source": [
    "## Public\n",
    "**option 1:** login, build and deploy the web app using **docker hub**\n",
    "\n",
    "1. login\n",
    "1. build image\n",
    "1. push image\n",
    "1. deploy web app"
   ]
  },
  {
   "cell_type": "markdown",
   "metadata": {},
   "source": [
    "### login\n",
    "open a putty session and execute this command"
   ]
  },
  {
   "cell_type": "code",
   "execution_count": 14,
   "metadata": {},
   "outputs": [
    {
     "name": "stdout",
     "output_type": "stream",
     "text": [
      "sudo docker login --username beire2018\n"
     ]
    }
   ],
   "source": [
    "# login to your personal docker hub account\n",
    "print(\"sudo docker login --username \" + DOCKERHUB_USER)"
   ]
  },
  {
   "cell_type": "markdown",
   "metadata": {},
   "source": [
    "### build image"
   ]
  },
  {
   "cell_type": "code",
   "execution_count": 15,
   "metadata": {},
   "outputs": [
    {
     "name": "stdout",
     "output_type": "stream",
     "text": [
      "sudo docker build -t beire2018/dash-azure ../dashboards/dash-azure/.\n"
     ]
    }
   ],
   "source": [
    "print(\"sudo docker build -t \" + DOCKERHUB_USER + \"/\" + PROJNAME + \" \" + project_folder +\"/.\")"
   ]
  },
  {
   "cell_type": "code",
   "execution_count": 16,
   "metadata": {},
   "outputs": [
    {
     "name": "stdout",
     "output_type": "stream",
     "text": [
      "Sending build context to Docker daemon  4.608kB\n",
      "Step 1/8 : FROM python:3.6-slim\n",
      " ---> 5e900d21ca3f\n",
      "Step 2/8 : RUN mkdir /app\n",
      " ---> Using cache\n",
      " ---> ad102e730ea2\n",
      "Step 3/8 : WORKDIR /app\n",
      " ---> Using cache\n",
      " ---> f815edfd1c0b\n",
      "Step 4/8 : ADD requirements.txt /app/\n",
      " ---> Using cache\n",
      " ---> b2ead26b0653\n",
      "Step 5/8 : RUN pip install -r requirements.txt\n",
      " ---> Using cache\n",
      " ---> a97c2f0e2535\n",
      "Step 6/8 : ADD . /app/\n",
      " ---> Using cache\n",
      " ---> 4d46a4546750\n",
      "Step 7/8 : ENTRYPOINT [ \"python\" ]\n",
      " ---> Using cache\n",
      " ---> bb68a7860a25\n",
      "Step 8/8 : CMD [\"application.py\"]\n",
      " ---> Using cache\n",
      " ---> ba2dfa4759c0\n",
      "Successfully built ba2dfa4759c0\n",
      "Successfully tagged beire2018/dash-azure:latest\n"
     ]
    }
   ],
   "source": [
    "! sudo docker build -t $DOCKERHUB_USER/$PROJNAME $project_folder/."
   ]
  },
  {
   "cell_type": "markdown",
   "metadata": {},
   "source": [
    "### push image"
   ]
  },
  {
   "cell_type": "code",
   "execution_count": 17,
   "metadata": {},
   "outputs": [
    {
     "name": "stdout",
     "output_type": "stream",
     "text": [
      "sudo docker push beire2018/dash-azure\n"
     ]
    }
   ],
   "source": [
    "print(\"sudo docker push \" + DOCKERHUB_USER + \"/\" + PROJNAME)"
   ]
  },
  {
   "cell_type": "code",
   "execution_count": 18,
   "metadata": {},
   "outputs": [
    {
     "name": "stdout",
     "output_type": "stream",
     "text": [
      "The push refers to repository [docker.io/beire2018/dash-azure]\n",
      "\n",
      "\u001b[1B51e0be76: Preparing \n",
      "\u001b[1B2b43fbec: Preparing \n",
      "\u001b[1B0bb50ae9: Preparing \n",
      "\u001b[1Ba1927aa8: Preparing \n",
      "\u001b[1Bb630fd7a: Preparing \n",
      "\u001b[1B6d18a48e: Preparing \n",
      "\u001b[1B1e91af74: Preparing \n",
      "\u001b[1B845af46d: Preparing \n",
      "\u001b[8B2b43fbec: Pushed   164.6MB/146.3MBhon K\u001b[8A\u001b[2K\u001b[8A\u001b[2K\u001b[5A\u001b[2K\u001b[8A\u001b[2K\u001b[8A\u001b[2K\u001b[8A\u001b[2K\u001b[8A\u001b[2K\u001b[8A\u001b[2K\u001b[8A\u001b[2K\u001b[8A\u001b[2K\u001b[8A\u001b[2K\u001b[8A\u001b[2K\u001b[8A\u001b[2K\u001b[8A\u001b[2K\u001b[8A\u001b[2K\u001b[8A\u001b[2K\u001b[8A\u001b[2K\u001b[4A\u001b[2K\u001b[8A\u001b[2K\u001b[9A\u001b[2K\u001b[8A\u001b[2K\u001b[8A\u001b[2K\u001b[8A\u001b[2K\u001b[8A\u001b[2K\u001b[8A\u001b[2K\u001b[8A\u001b[2K\u001b[8A\u001b[2K\u001b[8A\u001b[2K\u001b[8A\u001b[2K\u001b[8A\u001b[2K\u001b[8A\u001b[2K\u001b[8A\u001b[2K\u001b[8A\u001b[2K\u001b[8A\u001b[2K\u001b[8A\u001b[2K\u001b[8A\u001b[2K\u001b[1A\u001b[2K\u001b[8A\u001b[2K\u001b[8A\u001b[2K\u001b[8A\u001b[2K\u001b[8A\u001b[2K\u001b[8A\u001b[2K\u001b[8A\u001b[2K\u001b[8A\u001b[2K\u001b[8A\u001b[2K\u001b[8A\u001b[2K\u001b[8A\u001b[2K\u001b[8A\u001b[2K\u001b[8A\u001b[2K\u001b[8A\u001b[2K\u001b[8A\u001b[2K\u001b[8A\u001b[2K\u001b[8A\u001b[2K\u001b[8A\u001b[2K\u001b[8A\u001b[2K\u001b[8A\u001b[2K\u001b[8A\u001b[2K\u001b[8A\u001b[2K\u001b[8A\u001b[2K\u001b[8A\u001b[2K\u001b[8A\u001b[2K\u001b[8A\u001b[2K\u001b[8A\u001b[2K\u001b[8A\u001b[2K\u001b[8A\u001b[2K\u001b[8A\u001b[2K\u001b[8A\u001b[2K\u001b[8A\u001b[2K\u001b[8A\u001b[2K\u001b[8A\u001b[2K\u001b[8A\u001b[2K\u001b[8A\u001b[2K\u001b[8A\u001b[2K\u001b[8A\u001b[2K\u001b[8A\u001b[2K\u001b[8A\u001b[2K\u001b[8A\u001b[2K\u001b[8A\u001b[2K\u001b[8A\u001b[2Klatest: digest: sha256:6865041c844f05e224f652cfc7457df2e9b11e16e3dde67b32207f442da8e3a9 size: 2201\n"
     ]
    }
   ],
   "source": [
    "# upload the container image\n",
    "! sudo docker push $DOCKERHUB_USER/$PROJNAME"
   ]
  },
  {
   "cell_type": "markdown",
   "metadata": {},
   "source": [
    "### deploy web app\n",
    "update the parameters and run the cell to generate a deployment script  \n",
    "connect to cloud powershell, upload script, make executable and run"
   ]
  },
  {
   "cell_type": "code",
   "execution_count": 19,
   "metadata": {},
   "outputs": [
    {
     "name": "stdout",
     "output_type": "stream",
     "text": [
      "RESOURCE_GROUP=\"myResourceGroup4\"\n",
      "LOCATION=\"westeurope\"\n",
      "APPSERVICEPLAN_NAME=\"myAppServicePlan4\"\n",
      "APPSERVICEPLAN_COMPUTE=\"B1\"\n",
      "WEBAPP_NAME=\"kevin200420\"\n",
      "DOCKER_HUB_CONTAINER_NAME=\"beire2018/dash-azure:latest\"\n"
     ]
    }
   ],
   "source": [
    "# parameters\n",
    "print('RESOURCE_GROUP=\"' + RESOURCE_GROUP + '\"')\n",
    "print('LOCATION=\"' + LOCATION + '\"')\n",
    "print('APPSERVICEPLAN_NAME=\"' + APPSERVICEPLAN_NAME + '\"')\n",
    "print('APPSERVICEPLAN_COMPUTE=\"' + APPSERVICEPLAN_COMPUTE + '\"')\n",
    "print('WEBAPP_NAME=\"' + WEBAPP_NAME + '\"')\n",
    "print('DOCKER_HUB_CONTAINER_NAME=\"' + DOCKER_HUB_CONTAINER_NAME + '\"')"
   ]
  },
  {
   "cell_type": "code",
   "execution_count": 20,
   "metadata": {},
   "outputs": [
    {
     "name": "stdout",
     "output_type": "stream",
     "text": [
      "Writing ../dashboards/dash-azure/publicDashboard_deploy.azcli\n"
     ]
    }
   ],
   "source": [
    "%%writefile $project_folder/publicDashboard_deploy.azcli\n",
    "#!/bin/bash\n",
    "# End of Line Sequence: 'LF'\n",
    "\n",
    "# you will need to login first\n",
    "az login\n",
    "\n",
    "# update these parameters\n",
    "RESOURCE_GROUP=\"myResourceGroup4\"\n",
    "LOCATION=\"westeurope\"\n",
    "APPSERVICEPLAN_NAME=\"myAppServicePlan4\"\n",
    "APPSERVICEPLAN_COMPUTE=\"B1\"\n",
    "WEBAPP_NAME=\"kevin200420\"\n",
    "DOCKER_HUB_CONTAINER_NAME=\"beire2018/dash-azure:latest\"\n",
    "\n",
    "# create a resource group\n",
    "az group create --name $RESOURCE_GROUP --location $LOCATION\n",
    "\n",
    "# create an app service plan\n",
    "az appservice plan create \\\n",
    "  --name $APPSERVICEPLAN_NAME \\\n",
    "  --resource-group $RESOURCE_GROUP \\\n",
    "  --sku $APPSERVICEPLAN_COMPUTE \\\n",
    "  --is-linux \\\n",
    "  --location $LOCATION\n",
    "\n",
    "# create a web app with Docker Hub\n",
    "az webapp create \\\n",
    "  --resource-group $RESOURCE_GROUP \\\n",
    "  --plan $APPSERVICEPLAN_NAME \\\n",
    "  --name $WEBAPP_NAME \\\n",
    "  --deployment-container-image-name $DOCKER_HUB_CONTAINER_NAME\n",
    "\n",
    "# web app URL\n",
    "echo \"services loading... (~2min)\"\n",
    "echo \"http://${WEBAPP_NAME}.azurewebsites.net\""
   ]
  },
  {
   "cell_type": "markdown",
   "metadata": {},
   "source": [
    "## Private\n",
    "**option 2:** login, build and deploy the web app using **azure container registry**  \n",
    "\n",
    "1. create azure container registry\n",
    "1. login \n",
    "1. build image\n",
    "1. push image\n",
    "1. deploy web app"
   ]
  },
  {
   "cell_type": "markdown",
   "metadata": {},
   "source": [
    "### create azure container registry\n",
    "update the parameters and run the cell to generate a deployment script  \n",
    "connect to cloud powershell, upload script, make executable and run"
   ]
  },
  {
   "cell_type": "code",
   "execution_count": 21,
   "metadata": {},
   "outputs": [
    {
     "name": "stdout",
     "output_type": "stream",
     "text": [
      "RESOURCE_GROUP=\"myResourceGroup4\"\n",
      "LOCATION=\"westeurope\"\n",
      "CONTAINER_NAME=\"container200420\"\n"
     ]
    }
   ],
   "source": [
    "# parameters\n",
    "print('RESOURCE_GROUP=\"' + RESOURCE_GROUP + '\"')\n",
    "print('LOCATION=\"' + LOCATION + '\"')\n",
    "print('CONTAINER_NAME=\"' + AZUREDOCKER_USER + '\"')"
   ]
  },
  {
   "cell_type": "code",
   "execution_count": 22,
   "metadata": {},
   "outputs": [
    {
     "name": "stdout",
     "output_type": "stream",
     "text": [
      "Writing ../dashboards/dash-azure/containerRegistry_deploy.azcli\n"
     ]
    }
   ],
   "source": [
    "%%writefile $project_folder/containerRegistry_deploy.azcli\n",
    "#!/bin/bash\n",
    "\n",
    "# you will need to login first\n",
    "az login\n",
    "\n",
    "# update these parameters\n",
    "RESOURCE_GROUP=\"myResourceGroup4\"\n",
    "LOCATION=\"westeurope\"\n",
    "CONTAINER_NAME=\"container200420\"\n",
    "\n",
    "# Create an Azure Resource group\n",
    "az group create --name $RESOURCE_GROUP --location $LOCATION\n",
    "# Create an Azure Container Registry\n",
    "az acr create --name $CONTAINER_NAME --resource-group $RESOURCE_GROUP --sku Basic --admin-enabled true\n",
    "# Retrieve Azure Container Registry Credentials\n",
    "az acr credential show --name $CONTAINER_NAME"
   ]
  },
  {
   "cell_type": "markdown",
   "metadata": {},
   "source": [
    "### login\n",
    "open a putty session and execute this command"
   ]
  },
  {
   "cell_type": "code",
   "execution_count": 23,
   "metadata": {},
   "outputs": [
    {
     "name": "stdout",
     "output_type": "stream",
     "text": [
      "sudo docker login container200420.azurecr.io --username container200420\n"
     ]
    }
   ],
   "source": [
    "# login to your private azure container registry account\n",
    "print(\"sudo docker login \" + AZUREDOCKER_USER + \".azurecr.io --username \" + AZUREDOCKER_USER)"
   ]
  },
  {
   "cell_type": "markdown",
   "metadata": {},
   "source": [
    "### build image"
   ]
  },
  {
   "cell_type": "code",
   "execution_count": 24,
   "metadata": {},
   "outputs": [
    {
     "name": "stdout",
     "output_type": "stream",
     "text": [
      "sudo docker build -t container200420.azurecr.io/dash-azure ../dashboards/dash-azure/.\n"
     ]
    }
   ],
   "source": [
    "print(\"sudo docker build -t \" + AZUREDOCKER_USER + \".azurecr.io/\" + PROJNAME + \" \" + project_folder +\"/.\")"
   ]
  },
  {
   "cell_type": "code",
   "execution_count": 25,
   "metadata": {},
   "outputs": [
    {
     "name": "stdout",
     "output_type": "stream",
     "text": [
      "Sending build context to Docker daemon  7.168kB\n",
      "Step 1/8 : FROM python:3.6-slim\n",
      " ---> 5e900d21ca3f\n",
      "Step 2/8 : RUN mkdir /app\n",
      " ---> Using cache\n",
      " ---> ad102e730ea2\n",
      "Step 3/8 : WORKDIR /app\n",
      " ---> Using cache\n",
      " ---> f815edfd1c0b\n",
      "Step 4/8 : ADD requirements.txt /app/\n",
      " ---> Using cache\n",
      " ---> b2ead26b0653\n",
      "Step 5/8 : RUN pip install -r requirements.txt\n",
      " ---> Using cache\n",
      " ---> a97c2f0e2535\n",
      "Step 6/8 : ADD . /app/\n",
      " ---> da2d2b8fd5d6\n",
      "Step 7/8 : ENTRYPOINT [ \"python\" ]\n",
      " ---> Running in 9f96df51150d\n",
      "Removing intermediate container 9f96df51150d\n",
      " ---> 97e3fd9e9100\n",
      "Step 8/8 : CMD [\"application.py\"]\n",
      " ---> Running in a3efd5365cdb\n",
      "Removing intermediate container a3efd5365cdb\n",
      " ---> ad7f680d9794\n",
      "Successfully built ad7f680d9794\n",
      "Successfully tagged container200420.azurecr.io/dash-azure:latest\n"
     ]
    }
   ],
   "source": [
    "! sudo docker build -t $AZUREDOCKER_USER'.azurecr.io/'$PROJNAME $project_folder/."
   ]
  },
  {
   "cell_type": "markdown",
   "metadata": {},
   "source": [
    "### push image"
   ]
  },
  {
   "cell_type": "code",
   "execution_count": 26,
   "metadata": {},
   "outputs": [
    {
     "name": "stdout",
     "output_type": "stream",
     "text": [
      "sudo docker push container200420.azurecr.io/dash-azure\n"
     ]
    }
   ],
   "source": [
    "print(\"sudo docker push \" + AZUREDOCKER_USER + \".azurecr.io/\" + PROJNAME)"
   ]
  },
  {
   "cell_type": "code",
   "execution_count": 27,
   "metadata": {},
   "outputs": [
    {
     "name": "stdout",
     "output_type": "stream",
     "text": [
      "The push refers to repository [container200420.azurecr.io/dash-azure]\n",
      "\n",
      "\u001b[1B9f4500fd: Preparing \n",
      "\u001b[1B2b43fbec: Preparing \n",
      "\u001b[1B0bb50ae9: Preparing \n",
      "\u001b[1Ba1927aa8: Preparing \n",
      "\u001b[1Bb630fd7a: Preparing \n",
      "\u001b[1B6d18a48e: Preparing \n",
      "\u001b[1B1e91af74: Preparing \n",
      "\u001b[1B845af46d: Preparing \n",
      "\u001b[8B2b43fbec: Pushed   164.6MB/146.3MB\u001b[7A\u001b[2K\u001b[6A\u001b[2K\u001b[8A\u001b[2K\u001b[5A\u001b[2K\u001b[8A\u001b[2K\u001b[5A\u001b[2K\u001b[5A\u001b[2K\u001b[8A\u001b[2K\u001b[9A\u001b[2K\u001b[5A\u001b[2K\u001b[8A\u001b[2K\u001b[5A\u001b[2K\u001b[6A\u001b[2K\u001b[8A\u001b[2K\u001b[8A\u001b[2K\u001b[8A\u001b[2K\u001b[5A\u001b[2K\u001b[4A\u001b[2K\u001b[5A\u001b[2K\u001b[2A\u001b[2K\u001b[5A\u001b[2K\u001b[5A\u001b[2K\u001b[3A\u001b[2K\u001b[8A\u001b[2K\u001b[3A\u001b[2K\u001b[2A\u001b[2K\u001b[3A\u001b[2K\u001b[2A\u001b[2K\u001b[3A\u001b[2K\u001b[2A\u001b[2K\u001b[3A\u001b[2K\u001b[2A\u001b[2K\u001b[3A\u001b[2K\u001b[2A\u001b[2K\u001b[8A\u001b[2K\u001b[2A\u001b[2K\u001b[5A\u001b[2K\u001b[2A\u001b[2K\u001b[3A\u001b[2K\u001b[5A\u001b[2K\u001b[2A\u001b[2K\u001b[8A\u001b[2K\u001b[3A\u001b[2K\u001b[8A\u001b[2K\u001b[2A\u001b[2K\u001b[3A\u001b[2K\u001b[1A\u001b[2K\u001b[2A\u001b[2K\u001b[3A\u001b[2K\u001b[2A\u001b[2K\u001b[8A\u001b[2K\u001b[3A\u001b[2K\u001b[1A\u001b[2K\u001b[8A\u001b[2K\u001b[3A\u001b[2K\u001b[1A\u001b[2K\u001b[2A\u001b[2K\u001b[8A\u001b[2K\u001b[2A\u001b[2K\u001b[8A\u001b[2K\u001b[3A\u001b[2K\u001b[1A\u001b[2K\u001b[2A\u001b[2K\u001b[5A\u001b[2K\u001b[2A\u001b[2K\u001b[3A\u001b[2KPushing  17.15MB/146.3MB\u001b[2A\u001b[2K\u001b[8A\u001b[2K\u001b[2A\u001b[2K\u001b[3A\u001b[2K\u001b[8A\u001b[2K\u001b[3A\u001b[2K\u001b[1A\u001b[2K\u001b[8A\u001b[2K\u001b[2A\u001b[2K\u001b[1A\u001b[2K\u001b[2A\u001b[2K\u001b[3A\u001b[2K\u001b[1A\u001b[2K\u001b[2A\u001b[2K\u001b[1A\u001b[2K\u001b[3A\u001b[2K\u001b[8A\u001b[2K\u001b[3A\u001b[2K\u001b[3A\u001b[2K\u001b[8A\u001b[2K\u001b[3A\u001b[2K\u001b[8A\u001b[2K\u001b[3A\u001b[2K\u001b[1A\u001b[2K\u001b[3A\u001b[2K\u001b[8A\u001b[2K\u001b[3A\u001b[2K\u001b[1A\u001b[2K\u001b[3A\u001b[2K\u001b[8A\u001b[2K\u001b[3A\u001b[2K\u001b[1A\u001b[2K\u001b[3A\u001b[2K\u001b[8A\u001b[2K\u001b[1A\u001b[2K\u001b[1A\u001b[2K\u001b[3A\u001b[2K\u001b[8A\u001b[2K\u001b[1A\u001b[2K\u001b[3A\u001b[2K\u001b[8A\u001b[2K\u001b[3A\u001b[2K\u001b[1A\u001b[2K\u001b[8A\u001b[2K\u001b[3A\u001b[2K\u001b[1A\u001b[2K\u001b[3A\u001b[2K\u001b[1A\u001b[2K\u001b[3A\u001b[2K\u001b[1A\u001b[2K\u001b[3A\u001b[2K\u001b[1A\u001b[2K\u001b[8A\u001b[2K\u001b[3A\u001b[2K\u001b[8A\u001b[2K\u001b[1A\u001b[2K\u001b[3A\u001b[2K\u001b[8A\u001b[2K\u001b[1A\u001b[2K\u001b[1A\u001b[2K\u001b[1A\u001b[2K\u001b[3A\u001b[2K\u001b[1A\u001b[2K\u001b[8A\u001b[2K\u001b[1A\u001b[2K\u001b[3A\u001b[2K\u001b[1A\u001b[2K\u001b[3A\u001b[2K\u001b[8A\u001b[2K\u001b[3A\u001b[2K\u001b[8A\u001b[2K\u001b[3A\u001b[2K\u001b[3A\u001b[2K\u001b[8A\u001b[2K\u001b[1A\u001b[2K\u001b[8A\u001b[2K\u001b[1A\u001b[2K\u001b[1A\u001b[2K\u001b[1A\u001b[2K\u001b[8A\u001b[2K\u001b[3A\u001b[2K\u001b[8A\u001b[2K\u001b[1A\u001b[2K\u001b[1A\u001b[2K\u001b[1A\u001b[2K\u001b[1A\u001b[2KPushing  44.95MB/146.3MB\u001b[1A\u001b[2K\u001b[8A\u001b[2K\u001b[1A\u001b[2K\u001b[1A\u001b[2K\u001b[8A\u001b[2K\u001b[1A\u001b[2K\u001b[1A\u001b[2K\u001b[8A\u001b[2K\u001b[8A\u001b[2K\u001b[8A\u001b[2K\u001b[8A\u001b[2K\u001b[1A\u001b[2K\u001b[8A\u001b[2K\u001b[1A\u001b[2K\u001b[8A\u001b[2K\u001b[1A\u001b[2K\u001b[8A\u001b[2K\u001b[1A\u001b[2K\u001b[8A\u001b[2K\u001b[1A\u001b[2K\u001b[1A\u001b[2K\u001b[8A\u001b[2K\u001b[1A\u001b[2K\u001b[8A\u001b[2K\u001b[8A\u001b[2K\u001b[8A\u001b[2K\u001b[1A\u001b[2K\u001b[8A\u001b[2K\u001b[8A\u001b[2K\u001b[1A\u001b[2K\u001b[1A\u001b[2K\u001b[1A\u001b[2K\u001b[8A\u001b[2K\u001b[8A\u001b[2K\u001b[8A\u001b[2K\u001b[8A\u001b[2K\u001b[1A\u001b[2K\u001b[1A\u001b[2K\u001b[8A\u001b[2K\u001b[1A\u001b[2K\u001b[8A\u001b[2K\u001b[1A\u001b[2K\u001b[1A\u001b[2K\u001b[8A\u001b[2K\u001b[1A\u001b[2K\u001b[1A\u001b[2K\u001b[8A\u001b[2K\u001b[1A\u001b[2K\u001b[1A\u001b[2K\u001b[8A\u001b[2K\u001b[8A\u001b[2K\u001b[1A\u001b[2K\u001b[8A\u001b[2K\u001b[1A\u001b[2K\u001b[1A\u001b[2K\u001b[8A\u001b[2K\u001b[8A\u001b[2K\u001b[1A\u001b[2K\u001b[8A\u001b[2K\u001b[8A\u001b[2K\u001b[1A\u001b[2K\u001b[8A\u001b[2K\u001b[1A\u001b[2K\u001b[8A\u001b[2K\u001b[1A\u001b[2K\u001b[8A\u001b[2K\u001b[8A\u001b[2K\u001b[1A\u001b[2K\u001b[8A\u001b[2K\u001b[8A\u001b[2K\u001b[8A\u001b[2K\u001b[8A\u001b[2K\u001b[8A\u001b[2K\u001b[8A\u001b[2K\u001b[8A\u001b[2K\u001b[8A\u001b[2K\u001b[8A\u001b[2K\u001b[8A\u001b[2K\u001b[8A\u001b[2K\u001b[8A\u001b[2K\u001b[8A\u001b[2K\u001b[8A\u001b[2K\u001b[8A\u001b[2K\u001b[8A\u001b[2K\u001b[8A\u001b[2K\u001b[8A\u001b[2K\u001b[8A\u001b[2K\u001b[8A\u001b[2K\u001b[8A\u001b[2K\u001b[8A\u001b[2K\u001b[8A\u001b[2K\u001b[8A\u001b[2K\u001b[8A\u001b[2K\u001b[8A\u001b[2K\u001b[8A\u001b[2K\u001b[8A\u001b[2K\u001b[8A\u001b[2K\u001b[8A\u001b[2K\u001b[8A\u001b[2K\u001b[8A\u001b[2K\u001b[8A\u001b[2K\u001b[8A\u001b[2K\u001b[8A\u001b[2K\u001b[8A\u001b[2K\u001b[8A\u001b[2K\u001b[8A\u001b[2K\u001b[8A\u001b[2K\u001b[8A\u001b[2K\u001b[8A\u001b[2K\u001b[8A\u001b[2K\u001b[8A\u001b[2K\u001b[8A\u001b[2Klatest: digest: sha256:018cc3664c59c089b83ec237229e43c60271808e2976e8e53bd65dfdd225fead size: 2202\n"
     ]
    }
   ],
   "source": [
    "# upload the container image\n",
    "! sudo docker push $AZUREDOCKER_USER'.azurecr.io/'$PROJNAME"
   ]
  },
  {
   "cell_type": "markdown",
   "metadata": {},
   "source": [
    "### deploy web app\n",
    "update the parameters and run the cell to generate a deployment script  \n",
    "connect to cloud shell, upload, make executable and run"
   ]
  },
  {
   "cell_type": "code",
   "execution_count": 28,
   "metadata": {},
   "outputs": [
    {
     "name": "stdout",
     "output_type": "stream",
     "text": [
      "RESOURCE_GROUP=\"myResourceGroup4\"\n",
      "LOCATION=\"westeurope\"\n",
      "APPSERVICEPLAN_NAME=\"myAppServicePlan4\"\n",
      "APPSERVICEPLAN_COMPUTE=\"B1\"\n",
      "WEBAPP_NAME=\"kevin200420\"\n",
      "AZURE_CONTAINER_REGISTRY_NAME=\"container200420.azurecr.io/dash-azure:latest\"\n",
      "WEBAPP_PORT=\"80\"\n"
     ]
    }
   ],
   "source": [
    "# parameters\n",
    "print('RESOURCE_GROUP=\"' + RESOURCE_GROUP + '\"')\n",
    "print('LOCATION=\"' + LOCATION + '\"')\n",
    "print('APPSERVICEPLAN_NAME=\"' + APPSERVICEPLAN_NAME + '\"')\n",
    "print('APPSERVICEPLAN_COMPUTE=\"' + APPSERVICEPLAN_COMPUTE + '\"')\n",
    "print('WEBAPP_NAME=\"' + WEBAPP_NAME + '\"')\n",
    "print('AZURE_CONTAINER_REGISTRY_NAME=\"' + AZURE_CONTAINER_REGISTRY_NAME + '\"')\n",
    "print('WEBAPP_PORT=\"' + WEBAPP_PORT + '\"')"
   ]
  },
  {
   "cell_type": "code",
   "execution_count": 29,
   "metadata": {},
   "outputs": [
    {
     "name": "stdout",
     "output_type": "stream",
     "text": [
      "Writing ../dashboards/dash-azure/privateDashboard_deploy.azcli\n"
     ]
    }
   ],
   "source": [
    "%%writefile $project_folder/privateDashboard_deploy.azcli\n",
    "#!/bin/bash\n",
    "\n",
    "# update these parameters\n",
    "RESOURCE_GROUP=\"myResourceGroup4\"\n",
    "LOCATION=\"westeurope\"\n",
    "APPSERVICEPLAN_NAME=\"myAppServicePlan4\"\n",
    "APPSERVICEPLAN_COMPUTE=\"B1\"\n",
    "WEBAPP_NAME=\"kevin200420\"\n",
    "AZURE_CONTAINER_REGISTRY_NAME=\"container200420.azurecr.io/dash-azure:latest\"\n",
    "WEBAPP_PORT=\"80\"\n",
    "\n",
    "az group create --name $RESOURCE_GROUP --location $LOCATION\n",
    "\n",
    "az appservice plan create \\\n",
    "  --name $APPSERVICEPLAN_NAME \\\n",
    "  --resource-group $RESOURCE_GROUP \\\n",
    "  --is-linux \\\n",
    "  --location $LOCATION \\\n",
    "  --sku $APPSERVICEPLAN_COMPUTE\n",
    "\n",
    "az webapp create \\\n",
    "  --name $WEBAPP_NAME \\\n",
    "  --resource-group $RESOURCE_GROUP \\\n",
    "  --plan $APPSERVICEPLAN_NAME \\\n",
    "  --deployment-container-image-name $AZURE_CONTAINER_REGISTRY_NAME\n",
    "\n",
    "az webapp config appsettings set \\\n",
    "  --name $WEBAPP_NAME \\\n",
    "  --resource-group $RESOURCE_GROUP \\\n",
    "  --settings \\\n",
    "      PORT=$WEBAPP_PORT\n",
    "\n",
    "# web app URL\n",
    "echo \"services loading... (~2min)\"\n",
    "echo \"http://${WEBAPP_NAME}.azurewebsites.net\"\n",
    "\n",
    "az webapp log tail --name $WEBAPP_NAME --resource-group $RESOURCE_GROUP"
   ]
  },
  {
   "cell_type": "markdown",
   "metadata": {},
   "source": [
    "## Cleanup\n",
    "remove docker images and login credentials"
   ]
  },
  {
   "cell_type": "code",
   "execution_count": 30,
   "metadata": {},
   "outputs": [
    {
     "name": "stdout",
     "output_type": "stream",
     "text": [
      "Deleted Images:\r\n",
      "untagged: beire2018/dash-azure:latest\r\n",
      "untagged: beire2018/dash-azure@sha256:6865041c844f05e224f652cfc7457df2e9b11e16e3dde67b32207f442da8e3a9\r\n",
      "untagged: dash-azure:latest\r\n",
      "deleted: sha256:ba2dfa4759c0e9f5927cb00667c12d7849ccb102d4e5525c321ea5a78941fdfa\r\n",
      "deleted: sha256:bb68a7860a25175122487f3281efd52b3e549ddee0eb36e2b3ea410644506a03\r\n",
      "deleted: sha256:4d46a454675061b8ef048b965922bd5a2a7ec37fb98c8db1880d667a9422e7de\r\n",
      "deleted: sha256:6ec0f7d284deffeea9c41c1c38e09c5170774fdbde8c15c5538f454edc6643a4\r\n",
      "untagged: container200420.azurecr.io/dash-azure:latest\r\n",
      "untagged: container200420.azurecr.io/dash-azure@sha256:018cc3664c59c089b83ec237229e43c60271808e2976e8e53bd65dfdd225fead\r\n",
      "deleted: sha256:ad7f680d9794d501beb58ce02dac61f5b7f1b316002a057863eb6f3f623a3bb6\r\n",
      "deleted: sha256:97e3fd9e91006fcaeb155da3c14f7c8018565de321ffcd6d6922fe0ac7b5ffed\r\n",
      "deleted: sha256:da2d2b8fd5d67f85ff595e6ebbab6051de2bf6c67e6ec026b63e105144cf6d14\r\n",
      "deleted: sha256:bbaa30fc1d3223fe44938c1cda68e16692f97f1363b463bd3d391a70a907a692\r\n",
      "deleted: sha256:a97c2f0e253551f7daee081e83b2f62f0f29c779e6b708e441ff045b0e08a5d8\r\n",
      "deleted: sha256:8c19e596d4c15bce9bc2ef39b231ba8fc5ad59b620b6a00b294170be66aaec0d\r\n",
      "deleted: sha256:b2ead26b06535feaf16e4bca640afb5a8428c16360c1b730d1a38d9fbf5e2c48\r\n",
      "deleted: sha256:7b0e25ab984bbe17bd07f39d8749afe5782d147403a686bf8d4dfd5d87dfbd5f\r\n",
      "deleted: sha256:f815edfd1c0b64245574a710d2ca3f0b201e25f41c985801cd83ae66d478a46b\r\n",
      "deleted: sha256:ad102e730ea2985466343ef95e9fb260c4ebcef9a2bfa5a782098bb06f4465c2\r\n",
      "deleted: sha256:cbeebeaeb482c4ef18db49895049dbf8930eba7b2681291ba9401f593cd32f18\r\n",
      "untagged: python:3.6-slim\r\n",
      "untagged: python@sha256:596c35c09d59adf2afbefa3aa970f26ac3ba3c2396c6766a7c73086ac850d416\r\n",
      "deleted: sha256:5e900d21ca3f9fc7198e7459a47ac90ea9f9106c3e1966d4ca8fe6ff331e4709\r\n",
      "deleted: sha256:7d15c62400b86cb5290938b1f2186eaa2a1b30baa34ac52adb9c7f01ced84d13\r\n",
      "deleted: sha256:eb679bdad4ddcf25b6572cb358ce821f650d5dca0d4cdf4d3217830762e0fac3\r\n",
      "deleted: sha256:0a928b6438b75a8fbffedb645130026737ccf588d99def4543ef1ad7588c405c\r\n",
      "deleted: sha256:0eea0e1b8a967d0b5e0e2741a89ef6f03da26aa487fda23753f9f546144f047e\r\n",
      "deleted: sha256:7e718b9c0c8c2e6420fe9c4d1d551088e314fe923dce4b2caf75891d82fb227d\r\n",
      "\r\n",
      "Total reclaimed space: 258.1MB\r\n"
     ]
    }
   ],
   "source": [
    "# remove all local docker image(s)\n",
    "! sudo docker image prune -f -a"
   ]
  },
  {
   "cell_type": "code",
   "execution_count": 31,
   "metadata": {},
   "outputs": [],
   "source": [
    "# remove docker login file\n",
    "! sudo rm ~/.docker/config.json"
   ]
  },
  {
   "cell_type": "code",
   "execution_count": null,
   "metadata": {},
   "outputs": [],
   "source": [
    "# delete all local files that were created ?!\n",
    "# remove the azure container registry images, save costs ?!"
   ]
  },
  {
   "cell_type": "markdown",
   "metadata": {},
   "source": [
    "---"
   ]
  },
  {
   "cell_type": "markdown",
   "metadata": {},
   "source": [
    "# Plotly examples\n",
    "## line chart"
   ]
  },
  {
   "cell_type": "code",
   "execution_count": 33,
   "metadata": {},
   "outputs": [
    {
     "data": {
      "application/vnd.plotly.v1+json": {
       "config": {
        "linkText": "Export to plot.ly",
        "plotlyServerURL": "https://plot.ly",
        "showLink": false
       },
       "data": [
        {
         "mode": "markers",
         "name": "markers",
         "type": "scatter",
         "x": [
          0,
          0.010101010101010102,
          0.020202020202020204,
          0.030303030303030304,
          0.04040404040404041,
          0.05050505050505051,
          0.06060606060606061,
          0.07070707070707072,
          0.08080808080808081,
          0.09090909090909091,
          0.10101010101010102,
          0.11111111111111112,
          0.12121212121212122,
          0.13131313131313133,
          0.14141414141414144,
          0.15151515151515152,
          0.16161616161616163,
          0.17171717171717174,
          0.18181818181818182,
          0.19191919191919193,
          0.20202020202020204,
          0.21212121212121213,
          0.22222222222222224,
          0.23232323232323235,
          0.24242424242424243,
          0.25252525252525254,
          0.26262626262626265,
          0.27272727272727276,
          0.2828282828282829,
          0.29292929292929293,
          0.30303030303030304,
          0.31313131313131315,
          0.32323232323232326,
          0.33333333333333337,
          0.3434343434343435,
          0.3535353535353536,
          0.36363636363636365,
          0.37373737373737376,
          0.38383838383838387,
          0.393939393939394,
          0.4040404040404041,
          0.4141414141414142,
          0.42424242424242425,
          0.43434343434343436,
          0.4444444444444445,
          0.4545454545454546,
          0.4646464646464647,
          0.4747474747474748,
          0.48484848484848486,
          0.494949494949495,
          0.5050505050505051,
          0.5151515151515152,
          0.5252525252525253,
          0.5353535353535354,
          0.5454545454545455,
          0.5555555555555556,
          0.5656565656565657,
          0.5757575757575758,
          0.5858585858585859,
          0.595959595959596,
          0.6060606060606061,
          0.6161616161616162,
          0.6262626262626263,
          0.6363636363636365,
          0.6464646464646465,
          0.6565656565656566,
          0.6666666666666667,
          0.6767676767676768,
          0.686868686868687,
          0.696969696969697,
          0.7070707070707072,
          0.7171717171717172,
          0.7272727272727273,
          0.7373737373737375,
          0.7474747474747475,
          0.7575757575757577,
          0.7676767676767677,
          0.7777777777777778,
          0.787878787878788,
          0.797979797979798,
          0.8080808080808082,
          0.8181818181818182,
          0.8282828282828284,
          0.8383838383838385,
          0.8484848484848485,
          0.8585858585858587,
          0.8686868686868687,
          0.8787878787878789,
          0.888888888888889,
          0.8989898989898991,
          0.9090909090909092,
          0.9191919191919192,
          0.9292929292929294,
          0.9393939393939394,
          0.9494949494949496,
          0.9595959595959597,
          0.9696969696969697,
          0.9797979797979799,
          0.98989898989899,
          1
         ],
         "y": [
          3.9623568244974257,
          5.59365815715703,
          6.102680622168492,
          4.487822268824424,
          4.734580140302545,
          3.3829939864921883,
          4.728485511420428,
          5.945554250031659,
          4.373007213314565,
          4.734052718056487,
          5.687293575189152,
          7.048456908637855,
          4.538441048186675,
          5.687847423168455,
          6.00812262256532,
          4.843491018426125,
          5.900077530374725,
          6.000471322140927,
          5.688374960247316,
          3.1189042387372545,
          5.859958148933172,
          5.92045267748011,
          5.270603246468369,
          5.027819141649983,
          2.8127423886446943,
          5.134743775497379,
          4.318544353923637,
          2.577608938692351,
          5.421173751836292,
          4.322665354254515,
          3.8597855763685898,
          5.284615961239685,
          4.457758597421851,
          5.463519461503606,
          4.1383119436689535,
          5.8745422712420226,
          4.455741457932556,
          5.369966062639821,
          4.565058772422818,
          6.110123049123135,
          3.6386332411614033,
          4.864486324938091,
          4.447977799800293,
          4.950470775286345,
          5.887307752015507,
          6.154646723315321,
          5.115766954170989,
          3.838479672389576,
          4.815368462077817,
          5.466984070663726,
          2.999014469238763,
          3.652241541456256,
          4.779371847210642,
          4.921033624959668,
          4.39215278183303,
          3.7542661222313978,
          6.629794317758779,
          5.177528567116626,
          4.328013422053625,
          5.331128138937101,
          7.006042774550741,
          5.0061448421051935,
          3.465309390584875,
          4.930336576372079,
          5.227687821018511,
          2.487383266330429,
          7.702712505968621,
          5.58365058076347,
          5.338781748592111,
          5.689001408268186,
          6.700348675458416,
          4.558732757505499,
          5.314493800301297,
          5.636297587454268,
          5.086771378076907,
          4.882208369832598,
          3.724126565435677,
          5.906755961687117,
          5.006062617766832,
          4.147896360899007,
          5.499587436442585,
          3.4871907342782507,
          7.004290632975638,
          6.25882568579033,
          6.040154873274862,
          6.0513821040268425,
          5.971570159583026,
          3.413608859269023,
          4.489418150856028,
          4.121027062594841,
          3.8644799238689185,
          5.497006777318358,
          6.510225865307171,
          5.92073363775182,
          5.639412012922287,
          6.217040385050823,
          5.15525235849528,
          5.009229263598528,
          4.8253182515555215,
          5.3738363071150275
         ]
        },
        {
         "mode": "lines",
         "name": "mylines",
         "type": "scatter",
         "x": [
          0,
          0.010101010101010102,
          0.020202020202020204,
          0.030303030303030304,
          0.04040404040404041,
          0.05050505050505051,
          0.06060606060606061,
          0.07070707070707072,
          0.08080808080808081,
          0.09090909090909091,
          0.10101010101010102,
          0.11111111111111112,
          0.12121212121212122,
          0.13131313131313133,
          0.14141414141414144,
          0.15151515151515152,
          0.16161616161616163,
          0.17171717171717174,
          0.18181818181818182,
          0.19191919191919193,
          0.20202020202020204,
          0.21212121212121213,
          0.22222222222222224,
          0.23232323232323235,
          0.24242424242424243,
          0.25252525252525254,
          0.26262626262626265,
          0.27272727272727276,
          0.2828282828282829,
          0.29292929292929293,
          0.30303030303030304,
          0.31313131313131315,
          0.32323232323232326,
          0.33333333333333337,
          0.3434343434343435,
          0.3535353535353536,
          0.36363636363636365,
          0.37373737373737376,
          0.38383838383838387,
          0.393939393939394,
          0.4040404040404041,
          0.4141414141414142,
          0.42424242424242425,
          0.43434343434343436,
          0.4444444444444445,
          0.4545454545454546,
          0.4646464646464647,
          0.4747474747474748,
          0.48484848484848486,
          0.494949494949495,
          0.5050505050505051,
          0.5151515151515152,
          0.5252525252525253,
          0.5353535353535354,
          0.5454545454545455,
          0.5555555555555556,
          0.5656565656565657,
          0.5757575757575758,
          0.5858585858585859,
          0.595959595959596,
          0.6060606060606061,
          0.6161616161616162,
          0.6262626262626263,
          0.6363636363636365,
          0.6464646464646465,
          0.6565656565656566,
          0.6666666666666667,
          0.6767676767676768,
          0.686868686868687,
          0.696969696969697,
          0.7070707070707072,
          0.7171717171717172,
          0.7272727272727273,
          0.7373737373737375,
          0.7474747474747475,
          0.7575757575757577,
          0.7676767676767677,
          0.7777777777777778,
          0.787878787878788,
          0.797979797979798,
          0.8080808080808082,
          0.8181818181818182,
          0.8282828282828284,
          0.8383838383838385,
          0.8484848484848485,
          0.8585858585858587,
          0.8686868686868687,
          0.8787878787878789,
          0.888888888888889,
          0.8989898989898991,
          0.9090909090909092,
          0.9191919191919192,
          0.9292929292929294,
          0.9393939393939394,
          0.9494949494949496,
          0.9595959595959597,
          0.9696969696969697,
          0.9797979797979799,
          0.98989898989899,
          1
         ],
         "y": [
          -1.0376431755025746,
          0.5936581571570304,
          1.102680622168492,
          -0.5121777311755766,
          -0.26541985969745524,
          -1.617006013507812,
          -0.2715144885795719,
          0.9455542500316586,
          -0.626992786685435,
          -0.26594728194351275,
          0.6872935751891517,
          2.0484569086378546,
          -0.46155895181332507,
          0.6878474231684545,
          1.00812262256532,
          -0.15650898157387488,
          0.9000775303747252,
          1.0004713221409274,
          0.6883749602473159,
          -1.8810957612627452,
          0.8599581489331719,
          0.9204526774801102,
          0.2706032464683683,
          0.02781914164998324,
          -2.1872576113553057,
          0.1347437754973787,
          -0.6814556460763626,
          -2.422391061307649,
          0.4211737518362921,
          -0.6773346457454847,
          -1.14021442363141,
          0.28461596123968486,
          -0.542241402578149,
          0.4635194615036054,
          -0.8616880563310468,
          0.8745422712420226,
          -0.5442585420674441,
          0.36996606263982135,
          -0.43494122757718234,
          1.1101230491231344,
          -1.3613667588385965,
          -0.13551367506190884,
          -0.5520222001997066,
          -0.0495292247136558,
          0.8873077520155068,
          1.1546467233153208,
          0.11576695417098896,
          -1.161520327610424,
          -0.18463153792218284,
          0.4669840706637252,
          -2.000985530761237,
          -1.3477584585437443,
          -0.22062815278935807,
          -0.07896637504033216,
          -0.6078472181669707,
          -1.2457338777686022,
          1.6297943177587786,
          0.17752856711662585,
          -0.6719865779463751,
          0.33112813893710036,
          2.0060427745507408,
          0.006144842105193356,
          -1.5346906094151251,
          -0.06966342362792169,
          0.22768782101851137,
          -2.512616733669571,
          2.702712505968621,
          0.5836505807634701,
          0.33878174859211124,
          0.6890014082681857,
          1.700348675458416,
          -0.441267242494501,
          0.31449380030129703,
          0.6362975874542686,
          0.08677137807690763,
          -0.11779163016740253,
          -1.2758734345643228,
          0.906755961687117,
          0.006062617766832723,
          -0.8521036391009931,
          0.49958743644258546,
          -1.5128092657217496,
          2.0042906329756383,
          1.2588256857903302,
          1.0401548732748613,
          1.0513821040268427,
          0.971570159583026,
          -1.5863911407309772,
          -0.5105818491439725,
          -0.8789729374051589,
          -1.1355200761310813,
          0.497006777318358,
          1.510225865307171,
          0.9207336377518199,
          0.6394120129222873,
          1.2170403850508231,
          0.15525235849527985,
          0.009229263598528001,
          -0.1746817484444784,
          0.373836307115027
         ]
        },
        {
         "mode": "lines+markers",
         "name": "lines+marker",
         "type": "scatter",
         "x": [
          0,
          0.010101010101010102,
          0.020202020202020204,
          0.030303030303030304,
          0.04040404040404041,
          0.05050505050505051,
          0.06060606060606061,
          0.07070707070707072,
          0.08080808080808081,
          0.09090909090909091,
          0.10101010101010102,
          0.11111111111111112,
          0.12121212121212122,
          0.13131313131313133,
          0.14141414141414144,
          0.15151515151515152,
          0.16161616161616163,
          0.17171717171717174,
          0.18181818181818182,
          0.19191919191919193,
          0.20202020202020204,
          0.21212121212121213,
          0.22222222222222224,
          0.23232323232323235,
          0.24242424242424243,
          0.25252525252525254,
          0.26262626262626265,
          0.27272727272727276,
          0.2828282828282829,
          0.29292929292929293,
          0.30303030303030304,
          0.31313131313131315,
          0.32323232323232326,
          0.33333333333333337,
          0.3434343434343435,
          0.3535353535353536,
          0.36363636363636365,
          0.37373737373737376,
          0.38383838383838387,
          0.393939393939394,
          0.4040404040404041,
          0.4141414141414142,
          0.42424242424242425,
          0.43434343434343436,
          0.4444444444444445,
          0.4545454545454546,
          0.4646464646464647,
          0.4747474747474748,
          0.48484848484848486,
          0.494949494949495,
          0.5050505050505051,
          0.5151515151515152,
          0.5252525252525253,
          0.5353535353535354,
          0.5454545454545455,
          0.5555555555555556,
          0.5656565656565657,
          0.5757575757575758,
          0.5858585858585859,
          0.595959595959596,
          0.6060606060606061,
          0.6161616161616162,
          0.6262626262626263,
          0.6363636363636365,
          0.6464646464646465,
          0.6565656565656566,
          0.6666666666666667,
          0.6767676767676768,
          0.686868686868687,
          0.696969696969697,
          0.7070707070707072,
          0.7171717171717172,
          0.7272727272727273,
          0.7373737373737375,
          0.7474747474747475,
          0.7575757575757577,
          0.7676767676767677,
          0.7777777777777778,
          0.787878787878788,
          0.797979797979798,
          0.8080808080808082,
          0.8181818181818182,
          0.8282828282828284,
          0.8383838383838385,
          0.8484848484848485,
          0.8585858585858587,
          0.8686868686868687,
          0.8787878787878789,
          0.888888888888889,
          0.8989898989898991,
          0.9090909090909092,
          0.9191919191919192,
          0.9292929292929294,
          0.9393939393939394,
          0.9494949494949496,
          0.9595959595959597,
          0.9696969696969697,
          0.9797979797979799,
          0.98989898989899,
          1
         ],
         "y": [
          -6.037643175502574,
          -4.40634184284297,
          -3.897319377831508,
          -5.512177731175576,
          -5.265419859697455,
          -6.617006013507812,
          -5.271514488579572,
          -4.054445749968341,
          -5.626992786685435,
          -5.265947281943513,
          -4.312706424810848,
          -2.9515430913621454,
          -5.461558951813325,
          -4.312152576831545,
          -3.99187737743468,
          -5.156508981573875,
          -4.099922469625275,
          -3.9995286778590726,
          -4.311625039752684,
          -6.8810957612627455,
          -4.140041851066828,
          -4.07954732251989,
          -4.729396753531631,
          -4.972180858350017,
          -7.187257611355306,
          -4.865256224502621,
          -5.681455646076363,
          -7.422391061307649,
          -4.578826248163708,
          -5.677334645745485,
          -6.14021442363141,
          -4.715384038760315,
          -5.542241402578149,
          -4.536480538496394,
          -5.8616880563310465,
          -4.1254577287579774,
          -5.544258542067444,
          -4.630033937360179,
          -5.434941227577182,
          -3.8898769508768654,
          -6.361366758838597,
          -5.135513675061909,
          -5.552022200199707,
          -5.049529224713655,
          -4.112692247984493,
          -3.845353276684679,
          -4.884233045829011,
          -6.161520327610424,
          -5.184631537922183,
          -4.533015929336274,
          -7.000985530761238,
          -6.347758458543744,
          -5.220628152789358,
          -5.078966375040332,
          -5.60784721816697,
          -6.245733877768602,
          -3.370205682241221,
          -4.822471432883374,
          -5.671986577946375,
          -4.668871861062899,
          -2.9939572254492592,
          -4.9938551578948065,
          -6.534690609415125,
          -5.069663423627921,
          -4.772312178981489,
          -7.512616733669571,
          -2.297287494031379,
          -4.41634941923653,
          -4.661218251407889,
          -4.310998591731814,
          -3.2996513245415837,
          -5.441267242494501,
          -4.685506199698703,
          -4.363702412545732,
          -4.913228621923093,
          -5.117791630167402,
          -6.275873434564323,
          -4.093244038312883,
          -4.993937382233168,
          -5.852103639100993,
          -4.500412563557415,
          -6.512809265721749,
          -2.9957093670243617,
          -3.74117431420967,
          -3.9598451267251384,
          -3.9486178959731575,
          -4.028429840416974,
          -6.586391140730977,
          -5.510581849143972,
          -5.878972937405159,
          -6.1355200761310815,
          -4.502993222681642,
          -3.489774134692829,
          -4.07926636224818,
          -4.360587987077713,
          -3.782959614949177,
          -4.84474764150472,
          -4.990770736401472,
          -5.1746817484444785,
          -4.6261636928849725
         ]
        }
       ],
       "layout": {
        "template": {
         "data": {
          "bar": [
           {
            "error_x": {
             "color": "#2a3f5f"
            },
            "error_y": {
             "color": "#2a3f5f"
            },
            "marker": {
             "line": {
              "color": "#E5ECF6",
              "width": 0.5
             }
            },
            "type": "bar"
           }
          ],
          "barpolar": [
           {
            "marker": {
             "line": {
              "color": "#E5ECF6",
              "width": 0.5
             }
            },
            "type": "barpolar"
           }
          ],
          "carpet": [
           {
            "aaxis": {
             "endlinecolor": "#2a3f5f",
             "gridcolor": "white",
             "linecolor": "white",
             "minorgridcolor": "white",
             "startlinecolor": "#2a3f5f"
            },
            "baxis": {
             "endlinecolor": "#2a3f5f",
             "gridcolor": "white",
             "linecolor": "white",
             "minorgridcolor": "white",
             "startlinecolor": "#2a3f5f"
            },
            "type": "carpet"
           }
          ],
          "choropleth": [
           {
            "colorbar": {
             "outlinewidth": 0,
             "ticks": ""
            },
            "type": "choropleth"
           }
          ],
          "contour": [
           {
            "colorbar": {
             "outlinewidth": 0,
             "ticks": ""
            },
            "colorscale": [
             [
              0,
              "#0d0887"
             ],
             [
              0.1111111111111111,
              "#46039f"
             ],
             [
              0.2222222222222222,
              "#7201a8"
             ],
             [
              0.3333333333333333,
              "#9c179e"
             ],
             [
              0.4444444444444444,
              "#bd3786"
             ],
             [
              0.5555555555555556,
              "#d8576b"
             ],
             [
              0.6666666666666666,
              "#ed7953"
             ],
             [
              0.7777777777777778,
              "#fb9f3a"
             ],
             [
              0.8888888888888888,
              "#fdca26"
             ],
             [
              1,
              "#f0f921"
             ]
            ],
            "type": "contour"
           }
          ],
          "contourcarpet": [
           {
            "colorbar": {
             "outlinewidth": 0,
             "ticks": ""
            },
            "type": "contourcarpet"
           }
          ],
          "heatmap": [
           {
            "colorbar": {
             "outlinewidth": 0,
             "ticks": ""
            },
            "colorscale": [
             [
              0,
              "#0d0887"
             ],
             [
              0.1111111111111111,
              "#46039f"
             ],
             [
              0.2222222222222222,
              "#7201a8"
             ],
             [
              0.3333333333333333,
              "#9c179e"
             ],
             [
              0.4444444444444444,
              "#bd3786"
             ],
             [
              0.5555555555555556,
              "#d8576b"
             ],
             [
              0.6666666666666666,
              "#ed7953"
             ],
             [
              0.7777777777777778,
              "#fb9f3a"
             ],
             [
              0.8888888888888888,
              "#fdca26"
             ],
             [
              1,
              "#f0f921"
             ]
            ],
            "type": "heatmap"
           }
          ],
          "heatmapgl": [
           {
            "colorbar": {
             "outlinewidth": 0,
             "ticks": ""
            },
            "colorscale": [
             [
              0,
              "#0d0887"
             ],
             [
              0.1111111111111111,
              "#46039f"
             ],
             [
              0.2222222222222222,
              "#7201a8"
             ],
             [
              0.3333333333333333,
              "#9c179e"
             ],
             [
              0.4444444444444444,
              "#bd3786"
             ],
             [
              0.5555555555555556,
              "#d8576b"
             ],
             [
              0.6666666666666666,
              "#ed7953"
             ],
             [
              0.7777777777777778,
              "#fb9f3a"
             ],
             [
              0.8888888888888888,
              "#fdca26"
             ],
             [
              1,
              "#f0f921"
             ]
            ],
            "type": "heatmapgl"
           }
          ],
          "histogram": [
           {
            "marker": {
             "colorbar": {
              "outlinewidth": 0,
              "ticks": ""
             }
            },
            "type": "histogram"
           }
          ],
          "histogram2d": [
           {
            "colorbar": {
             "outlinewidth": 0,
             "ticks": ""
            },
            "colorscale": [
             [
              0,
              "#0d0887"
             ],
             [
              0.1111111111111111,
              "#46039f"
             ],
             [
              0.2222222222222222,
              "#7201a8"
             ],
             [
              0.3333333333333333,
              "#9c179e"
             ],
             [
              0.4444444444444444,
              "#bd3786"
             ],
             [
              0.5555555555555556,
              "#d8576b"
             ],
             [
              0.6666666666666666,
              "#ed7953"
             ],
             [
              0.7777777777777778,
              "#fb9f3a"
             ],
             [
              0.8888888888888888,
              "#fdca26"
             ],
             [
              1,
              "#f0f921"
             ]
            ],
            "type": "histogram2d"
           }
          ],
          "histogram2dcontour": [
           {
            "colorbar": {
             "outlinewidth": 0,
             "ticks": ""
            },
            "colorscale": [
             [
              0,
              "#0d0887"
             ],
             [
              0.1111111111111111,
              "#46039f"
             ],
             [
              0.2222222222222222,
              "#7201a8"
             ],
             [
              0.3333333333333333,
              "#9c179e"
             ],
             [
              0.4444444444444444,
              "#bd3786"
             ],
             [
              0.5555555555555556,
              "#d8576b"
             ],
             [
              0.6666666666666666,
              "#ed7953"
             ],
             [
              0.7777777777777778,
              "#fb9f3a"
             ],
             [
              0.8888888888888888,
              "#fdca26"
             ],
             [
              1,
              "#f0f921"
             ]
            ],
            "type": "histogram2dcontour"
           }
          ],
          "mesh3d": [
           {
            "colorbar": {
             "outlinewidth": 0,
             "ticks": ""
            },
            "type": "mesh3d"
           }
          ],
          "parcoords": [
           {
            "line": {
             "colorbar": {
              "outlinewidth": 0,
              "ticks": ""
             }
            },
            "type": "parcoords"
           }
          ],
          "pie": [
           {
            "automargin": true,
            "type": "pie"
           }
          ],
          "scatter": [
           {
            "marker": {
             "colorbar": {
              "outlinewidth": 0,
              "ticks": ""
             }
            },
            "type": "scatter"
           }
          ],
          "scatter3d": [
           {
            "line": {
             "colorbar": {
              "outlinewidth": 0,
              "ticks": ""
             }
            },
            "marker": {
             "colorbar": {
              "outlinewidth": 0,
              "ticks": ""
             }
            },
            "type": "scatter3d"
           }
          ],
          "scattercarpet": [
           {
            "marker": {
             "colorbar": {
              "outlinewidth": 0,
              "ticks": ""
             }
            },
            "type": "scattercarpet"
           }
          ],
          "scattergeo": [
           {
            "marker": {
             "colorbar": {
              "outlinewidth": 0,
              "ticks": ""
             }
            },
            "type": "scattergeo"
           }
          ],
          "scattergl": [
           {
            "marker": {
             "colorbar": {
              "outlinewidth": 0,
              "ticks": ""
             }
            },
            "type": "scattergl"
           }
          ],
          "scattermapbox": [
           {
            "marker": {
             "colorbar": {
              "outlinewidth": 0,
              "ticks": ""
             }
            },
            "type": "scattermapbox"
           }
          ],
          "scatterpolar": [
           {
            "marker": {
             "colorbar": {
              "outlinewidth": 0,
              "ticks": ""
             }
            },
            "type": "scatterpolar"
           }
          ],
          "scatterpolargl": [
           {
            "marker": {
             "colorbar": {
              "outlinewidth": 0,
              "ticks": ""
             }
            },
            "type": "scatterpolargl"
           }
          ],
          "scatterternary": [
           {
            "marker": {
             "colorbar": {
              "outlinewidth": 0,
              "ticks": ""
             }
            },
            "type": "scatterternary"
           }
          ],
          "surface": [
           {
            "colorbar": {
             "outlinewidth": 0,
             "ticks": ""
            },
            "colorscale": [
             [
              0,
              "#0d0887"
             ],
             [
              0.1111111111111111,
              "#46039f"
             ],
             [
              0.2222222222222222,
              "#7201a8"
             ],
             [
              0.3333333333333333,
              "#9c179e"
             ],
             [
              0.4444444444444444,
              "#bd3786"
             ],
             [
              0.5555555555555556,
              "#d8576b"
             ],
             [
              0.6666666666666666,
              "#ed7953"
             ],
             [
              0.7777777777777778,
              "#fb9f3a"
             ],
             [
              0.8888888888888888,
              "#fdca26"
             ],
             [
              1,
              "#f0f921"
             ]
            ],
            "type": "surface"
           }
          ],
          "table": [
           {
            "cells": {
             "fill": {
              "color": "#EBF0F8"
             },
             "line": {
              "color": "white"
             }
            },
            "header": {
             "fill": {
              "color": "#C8D4E3"
             },
             "line": {
              "color": "white"
             }
            },
            "type": "table"
           }
          ]
         },
         "layout": {
          "annotationdefaults": {
           "arrowcolor": "#2a3f5f",
           "arrowhead": 0,
           "arrowwidth": 1
          },
          "autotypenumbers": "strict",
          "coloraxis": {
           "colorbar": {
            "outlinewidth": 0,
            "ticks": ""
           }
          },
          "colorscale": {
           "diverging": [
            [
             0,
             "#8e0152"
            ],
            [
             0.1,
             "#c51b7d"
            ],
            [
             0.2,
             "#de77ae"
            ],
            [
             0.3,
             "#f1b6da"
            ],
            [
             0.4,
             "#fde0ef"
            ],
            [
             0.5,
             "#f7f7f7"
            ],
            [
             0.6,
             "#e6f5d0"
            ],
            [
             0.7,
             "#b8e186"
            ],
            [
             0.8,
             "#7fbc41"
            ],
            [
             0.9,
             "#4d9221"
            ],
            [
             1,
             "#276419"
            ]
           ],
           "sequential": [
            [
             0,
             "#0d0887"
            ],
            [
             0.1111111111111111,
             "#46039f"
            ],
            [
             0.2222222222222222,
             "#7201a8"
            ],
            [
             0.3333333333333333,
             "#9c179e"
            ],
            [
             0.4444444444444444,
             "#bd3786"
            ],
            [
             0.5555555555555556,
             "#d8576b"
            ],
            [
             0.6666666666666666,
             "#ed7953"
            ],
            [
             0.7777777777777778,
             "#fb9f3a"
            ],
            [
             0.8888888888888888,
             "#fdca26"
            ],
            [
             1,
             "#f0f921"
            ]
           ],
           "sequentialminus": [
            [
             0,
             "#0d0887"
            ],
            [
             0.1111111111111111,
             "#46039f"
            ],
            [
             0.2222222222222222,
             "#7201a8"
            ],
            [
             0.3333333333333333,
             "#9c179e"
            ],
            [
             0.4444444444444444,
             "#bd3786"
            ],
            [
             0.5555555555555556,
             "#d8576b"
            ],
            [
             0.6666666666666666,
             "#ed7953"
            ],
            [
             0.7777777777777778,
             "#fb9f3a"
            ],
            [
             0.8888888888888888,
             "#fdca26"
            ],
            [
             1,
             "#f0f921"
            ]
           ]
          },
          "colorway": [
           "#636efa",
           "#EF553B",
           "#00cc96",
           "#ab63fa",
           "#FFA15A",
           "#19d3f3",
           "#FF6692",
           "#B6E880",
           "#FF97FF",
           "#FECB52"
          ],
          "font": {
           "color": "#2a3f5f"
          },
          "geo": {
           "bgcolor": "white",
           "lakecolor": "white",
           "landcolor": "#E5ECF6",
           "showlakes": true,
           "showland": true,
           "subunitcolor": "white"
          },
          "hoverlabel": {
           "align": "left"
          },
          "hovermode": "closest",
          "mapbox": {
           "style": "light"
          },
          "paper_bgcolor": "white",
          "plot_bgcolor": "#E5ECF6",
          "polar": {
           "angularaxis": {
            "gridcolor": "white",
            "linecolor": "white",
            "ticks": ""
           },
           "bgcolor": "#E5ECF6",
           "radialaxis": {
            "gridcolor": "white",
            "linecolor": "white",
            "ticks": ""
           }
          },
          "scene": {
           "xaxis": {
            "backgroundcolor": "#E5ECF6",
            "gridcolor": "white",
            "gridwidth": 2,
            "linecolor": "white",
            "showbackground": true,
            "ticks": "",
            "zerolinecolor": "white"
           },
           "yaxis": {
            "backgroundcolor": "#E5ECF6",
            "gridcolor": "white",
            "gridwidth": 2,
            "linecolor": "white",
            "showbackground": true,
            "ticks": "",
            "zerolinecolor": "white"
           },
           "zaxis": {
            "backgroundcolor": "#E5ECF6",
            "gridcolor": "white",
            "gridwidth": 2,
            "linecolor": "white",
            "showbackground": true,
            "ticks": "",
            "zerolinecolor": "white"
           }
          },
          "shapedefaults": {
           "line": {
            "color": "#2a3f5f"
           }
          },
          "ternary": {
           "aaxis": {
            "gridcolor": "white",
            "linecolor": "white",
            "ticks": ""
           },
           "baxis": {
            "gridcolor": "white",
            "linecolor": "white",
            "ticks": ""
           },
           "bgcolor": "#E5ECF6",
           "caxis": {
            "gridcolor": "white",
            "linecolor": "white",
            "ticks": ""
           }
          },
          "title": {
           "x": 0.05
          },
          "xaxis": {
           "automargin": true,
           "gridcolor": "white",
           "linecolor": "white",
           "ticks": "",
           "title": {
            "standoff": 15
           },
           "zerolinecolor": "white",
           "zerolinewidth": 2
          },
          "yaxis": {
           "automargin": true,
           "gridcolor": "white",
           "linecolor": "white",
           "ticks": "",
           "title": {
            "standoff": 15
           },
           "zerolinecolor": "white",
           "zerolinewidth": 2
          }
         }
        },
        "title": {
         "text": "Line Charts"
        }
       }
      },
      "text/html": [
       "<div>                            <div id=\"56ca3693-f79e-41f7-855b-727ee3aaf858\" class=\"plotly-graph-div\" style=\"height:525px; width:100%;\"></div>            <script type=\"text/javascript\">                require([\"plotly\"], function(Plotly) {                    window.PLOTLYENV=window.PLOTLYENV || {};                                    if (document.getElementById(\"56ca3693-f79e-41f7-855b-727ee3aaf858\")) {                    Plotly.newPlot(                        \"56ca3693-f79e-41f7-855b-727ee3aaf858\",                        [{\"mode\": \"markers\", \"name\": \"markers\", \"type\": \"scatter\", \"x\": [0.0, 0.010101010101010102, 0.020202020202020204, 0.030303030303030304, 0.04040404040404041, 0.05050505050505051, 0.06060606060606061, 0.07070707070707072, 0.08080808080808081, 0.09090909090909091, 0.10101010101010102, 0.11111111111111112, 0.12121212121212122, 0.13131313131313133, 0.14141414141414144, 0.15151515151515152, 0.16161616161616163, 0.17171717171717174, 0.18181818181818182, 0.19191919191919193, 0.20202020202020204, 0.21212121212121213, 0.22222222222222224, 0.23232323232323235, 0.24242424242424243, 0.25252525252525254, 0.26262626262626265, 0.27272727272727276, 0.2828282828282829, 0.29292929292929293, 0.30303030303030304, 0.31313131313131315, 0.32323232323232326, 0.33333333333333337, 0.3434343434343435, 0.3535353535353536, 0.36363636363636365, 0.37373737373737376, 0.38383838383838387, 0.393939393939394, 0.4040404040404041, 0.4141414141414142, 0.42424242424242425, 0.43434343434343436, 0.4444444444444445, 0.4545454545454546, 0.4646464646464647, 0.4747474747474748, 0.48484848484848486, 0.494949494949495, 0.5050505050505051, 0.5151515151515152, 0.5252525252525253, 0.5353535353535354, 0.5454545454545455, 0.5555555555555556, 0.5656565656565657, 0.5757575757575758, 0.5858585858585859, 0.595959595959596, 0.6060606060606061, 0.6161616161616162, 0.6262626262626263, 0.6363636363636365, 0.6464646464646465, 0.6565656565656566, 0.6666666666666667, 0.6767676767676768, 0.686868686868687, 0.696969696969697, 0.7070707070707072, 0.7171717171717172, 0.7272727272727273, 0.7373737373737375, 0.7474747474747475, 0.7575757575757577, 0.7676767676767677, 0.7777777777777778, 0.787878787878788, 0.797979797979798, 0.8080808080808082, 0.8181818181818182, 0.8282828282828284, 0.8383838383838385, 0.8484848484848485, 0.8585858585858587, 0.8686868686868687, 0.8787878787878789, 0.888888888888889, 0.8989898989898991, 0.9090909090909092, 0.9191919191919192, 0.9292929292929294, 0.9393939393939394, 0.9494949494949496, 0.9595959595959597, 0.9696969696969697, 0.9797979797979799, 0.98989898989899, 1.0], \"y\": [3.9623568244974257, 5.59365815715703, 6.102680622168492, 4.487822268824424, 4.734580140302545, 3.3829939864921883, 4.728485511420428, 5.945554250031659, 4.373007213314565, 4.734052718056487, 5.687293575189152, 7.048456908637855, 4.538441048186675, 5.687847423168455, 6.00812262256532, 4.843491018426125, 5.900077530374725, 6.000471322140927, 5.688374960247316, 3.1189042387372545, 5.859958148933172, 5.92045267748011, 5.270603246468369, 5.027819141649983, 2.8127423886446943, 5.134743775497379, 4.318544353923637, 2.577608938692351, 5.421173751836292, 4.322665354254515, 3.8597855763685898, 5.284615961239685, 4.457758597421851, 5.463519461503606, 4.1383119436689535, 5.8745422712420226, 4.455741457932556, 5.369966062639821, 4.565058772422818, 6.110123049123135, 3.6386332411614033, 4.864486324938091, 4.447977799800293, 4.950470775286345, 5.887307752015507, 6.154646723315321, 5.115766954170989, 3.838479672389576, 4.815368462077817, 5.466984070663726, 2.999014469238763, 3.652241541456256, 4.779371847210642, 4.921033624959668, 4.39215278183303, 3.7542661222313978, 6.629794317758779, 5.177528567116626, 4.328013422053625, 5.331128138937101, 7.006042774550741, 5.0061448421051935, 3.465309390584875, 4.930336576372079, 5.227687821018511, 2.487383266330429, 7.702712505968621, 5.58365058076347, 5.338781748592111, 5.689001408268186, 6.700348675458416, 4.558732757505499, 5.314493800301297, 5.636297587454268, 5.086771378076907, 4.882208369832598, 3.724126565435677, 5.906755961687117, 5.006062617766832, 4.147896360899007, 5.499587436442585, 3.4871907342782507, 7.004290632975638, 6.25882568579033, 6.040154873274862, 6.0513821040268425, 5.971570159583026, 3.413608859269023, 4.489418150856028, 4.121027062594841, 3.8644799238689185, 5.497006777318358, 6.510225865307171, 5.92073363775182, 5.639412012922287, 6.217040385050823, 5.15525235849528, 5.009229263598528, 4.8253182515555215, 5.3738363071150275]}, {\"mode\": \"lines\", \"name\": \"mylines\", \"type\": \"scatter\", \"x\": [0.0, 0.010101010101010102, 0.020202020202020204, 0.030303030303030304, 0.04040404040404041, 0.05050505050505051, 0.06060606060606061, 0.07070707070707072, 0.08080808080808081, 0.09090909090909091, 0.10101010101010102, 0.11111111111111112, 0.12121212121212122, 0.13131313131313133, 0.14141414141414144, 0.15151515151515152, 0.16161616161616163, 0.17171717171717174, 0.18181818181818182, 0.19191919191919193, 0.20202020202020204, 0.21212121212121213, 0.22222222222222224, 0.23232323232323235, 0.24242424242424243, 0.25252525252525254, 0.26262626262626265, 0.27272727272727276, 0.2828282828282829, 0.29292929292929293, 0.30303030303030304, 0.31313131313131315, 0.32323232323232326, 0.33333333333333337, 0.3434343434343435, 0.3535353535353536, 0.36363636363636365, 0.37373737373737376, 0.38383838383838387, 0.393939393939394, 0.4040404040404041, 0.4141414141414142, 0.42424242424242425, 0.43434343434343436, 0.4444444444444445, 0.4545454545454546, 0.4646464646464647, 0.4747474747474748, 0.48484848484848486, 0.494949494949495, 0.5050505050505051, 0.5151515151515152, 0.5252525252525253, 0.5353535353535354, 0.5454545454545455, 0.5555555555555556, 0.5656565656565657, 0.5757575757575758, 0.5858585858585859, 0.595959595959596, 0.6060606060606061, 0.6161616161616162, 0.6262626262626263, 0.6363636363636365, 0.6464646464646465, 0.6565656565656566, 0.6666666666666667, 0.6767676767676768, 0.686868686868687, 0.696969696969697, 0.7070707070707072, 0.7171717171717172, 0.7272727272727273, 0.7373737373737375, 0.7474747474747475, 0.7575757575757577, 0.7676767676767677, 0.7777777777777778, 0.787878787878788, 0.797979797979798, 0.8080808080808082, 0.8181818181818182, 0.8282828282828284, 0.8383838383838385, 0.8484848484848485, 0.8585858585858587, 0.8686868686868687, 0.8787878787878789, 0.888888888888889, 0.8989898989898991, 0.9090909090909092, 0.9191919191919192, 0.9292929292929294, 0.9393939393939394, 0.9494949494949496, 0.9595959595959597, 0.9696969696969697, 0.9797979797979799, 0.98989898989899, 1.0], \"y\": [-1.0376431755025746, 0.5936581571570304, 1.102680622168492, -0.5121777311755766, -0.26541985969745524, -1.617006013507812, -0.2715144885795719, 0.9455542500316586, -0.626992786685435, -0.26594728194351275, 0.6872935751891517, 2.0484569086378546, -0.46155895181332507, 0.6878474231684545, 1.00812262256532, -0.15650898157387488, 0.9000775303747252, 1.0004713221409274, 0.6883749602473159, -1.8810957612627452, 0.8599581489331719, 0.9204526774801102, 0.2706032464683683, 0.02781914164998324, -2.1872576113553057, 0.1347437754973787, -0.6814556460763626, -2.422391061307649, 0.4211737518362921, -0.6773346457454847, -1.14021442363141, 0.28461596123968486, -0.542241402578149, 0.4635194615036054, -0.8616880563310468, 0.8745422712420226, -0.5442585420674441, 0.36996606263982135, -0.43494122757718234, 1.1101230491231344, -1.3613667588385965, -0.13551367506190884, -0.5520222001997066, -0.0495292247136558, 0.8873077520155068, 1.1546467233153208, 0.11576695417098896, -1.161520327610424, -0.18463153792218284, 0.4669840706637252, -2.000985530761237, -1.3477584585437443, -0.22062815278935807, -0.07896637504033216, -0.6078472181669707, -1.2457338777686022, 1.6297943177587786, 0.17752856711662585, -0.6719865779463751, 0.33112813893710036, 2.0060427745507408, 0.006144842105193356, -1.5346906094151251, -0.06966342362792169, 0.22768782101851137, -2.512616733669571, 2.702712505968621, 0.5836505807634701, 0.33878174859211124, 0.6890014082681857, 1.700348675458416, -0.441267242494501, 0.31449380030129703, 0.6362975874542686, 0.08677137807690763, -0.11779163016740253, -1.2758734345643228, 0.906755961687117, 0.006062617766832723, -0.8521036391009931, 0.49958743644258546, -1.5128092657217496, 2.0042906329756383, 1.2588256857903302, 1.0401548732748613, 1.0513821040268427, 0.971570159583026, -1.5863911407309772, -0.5105818491439725, -0.8789729374051589, -1.1355200761310813, 0.497006777318358, 1.510225865307171, 0.9207336377518199, 0.6394120129222873, 1.2170403850508231, 0.15525235849527985, 0.009229263598528001, -0.1746817484444784, 0.373836307115027]}, {\"mode\": \"lines+markers\", \"name\": \"lines+marker\", \"type\": \"scatter\", \"x\": [0.0, 0.010101010101010102, 0.020202020202020204, 0.030303030303030304, 0.04040404040404041, 0.05050505050505051, 0.06060606060606061, 0.07070707070707072, 0.08080808080808081, 0.09090909090909091, 0.10101010101010102, 0.11111111111111112, 0.12121212121212122, 0.13131313131313133, 0.14141414141414144, 0.15151515151515152, 0.16161616161616163, 0.17171717171717174, 0.18181818181818182, 0.19191919191919193, 0.20202020202020204, 0.21212121212121213, 0.22222222222222224, 0.23232323232323235, 0.24242424242424243, 0.25252525252525254, 0.26262626262626265, 0.27272727272727276, 0.2828282828282829, 0.29292929292929293, 0.30303030303030304, 0.31313131313131315, 0.32323232323232326, 0.33333333333333337, 0.3434343434343435, 0.3535353535353536, 0.36363636363636365, 0.37373737373737376, 0.38383838383838387, 0.393939393939394, 0.4040404040404041, 0.4141414141414142, 0.42424242424242425, 0.43434343434343436, 0.4444444444444445, 0.4545454545454546, 0.4646464646464647, 0.4747474747474748, 0.48484848484848486, 0.494949494949495, 0.5050505050505051, 0.5151515151515152, 0.5252525252525253, 0.5353535353535354, 0.5454545454545455, 0.5555555555555556, 0.5656565656565657, 0.5757575757575758, 0.5858585858585859, 0.595959595959596, 0.6060606060606061, 0.6161616161616162, 0.6262626262626263, 0.6363636363636365, 0.6464646464646465, 0.6565656565656566, 0.6666666666666667, 0.6767676767676768, 0.686868686868687, 0.696969696969697, 0.7070707070707072, 0.7171717171717172, 0.7272727272727273, 0.7373737373737375, 0.7474747474747475, 0.7575757575757577, 0.7676767676767677, 0.7777777777777778, 0.787878787878788, 0.797979797979798, 0.8080808080808082, 0.8181818181818182, 0.8282828282828284, 0.8383838383838385, 0.8484848484848485, 0.8585858585858587, 0.8686868686868687, 0.8787878787878789, 0.888888888888889, 0.8989898989898991, 0.9090909090909092, 0.9191919191919192, 0.9292929292929294, 0.9393939393939394, 0.9494949494949496, 0.9595959595959597, 0.9696969696969697, 0.9797979797979799, 0.98989898989899, 1.0], \"y\": [-6.037643175502574, -4.40634184284297, -3.897319377831508, -5.512177731175576, -5.265419859697455, -6.617006013507812, -5.271514488579572, -4.054445749968341, -5.626992786685435, -5.265947281943513, -4.312706424810848, -2.9515430913621454, -5.461558951813325, -4.312152576831545, -3.99187737743468, -5.156508981573875, -4.099922469625275, -3.9995286778590726, -4.311625039752684, -6.8810957612627455, -4.140041851066828, -4.07954732251989, -4.729396753531631, -4.972180858350017, -7.187257611355306, -4.865256224502621, -5.681455646076363, -7.422391061307649, -4.578826248163708, -5.677334645745485, -6.14021442363141, -4.715384038760315, -5.542241402578149, -4.536480538496394, -5.8616880563310465, -4.1254577287579774, -5.544258542067444, -4.630033937360179, -5.434941227577182, -3.8898769508768654, -6.361366758838597, -5.135513675061909, -5.552022200199707, -5.049529224713655, -4.112692247984493, -3.845353276684679, -4.884233045829011, -6.161520327610424, -5.184631537922183, -4.533015929336274, -7.000985530761238, -6.347758458543744, -5.220628152789358, -5.078966375040332, -5.60784721816697, -6.245733877768602, -3.370205682241221, -4.822471432883374, -5.671986577946375, -4.668871861062899, -2.9939572254492592, -4.9938551578948065, -6.534690609415125, -5.069663423627921, -4.772312178981489, -7.512616733669571, -2.297287494031379, -4.41634941923653, -4.661218251407889, -4.310998591731814, -3.2996513245415837, -5.441267242494501, -4.685506199698703, -4.363702412545732, -4.913228621923093, -5.117791630167402, -6.275873434564323, -4.093244038312883, -4.993937382233168, -5.852103639100993, -4.500412563557415, -6.512809265721749, -2.9957093670243617, -3.74117431420967, -3.9598451267251384, -3.9486178959731575, -4.028429840416974, -6.586391140730977, -5.510581849143972, -5.878972937405159, -6.1355200761310815, -4.502993222681642, -3.489774134692829, -4.07926636224818, -4.360587987077713, -3.782959614949177, -4.84474764150472, -4.990770736401472, -5.1746817484444785, -4.6261636928849725]}],                        {\"template\": {\"data\": {\"bar\": [{\"error_x\": {\"color\": \"#2a3f5f\"}, \"error_y\": {\"color\": \"#2a3f5f\"}, \"marker\": {\"line\": {\"color\": \"#E5ECF6\", \"width\": 0.5}}, \"type\": \"bar\"}], \"barpolar\": [{\"marker\": {\"line\": {\"color\": \"#E5ECF6\", \"width\": 0.5}}, \"type\": \"barpolar\"}], \"carpet\": [{\"aaxis\": {\"endlinecolor\": \"#2a3f5f\", \"gridcolor\": \"white\", \"linecolor\": \"white\", \"minorgridcolor\": \"white\", \"startlinecolor\": \"#2a3f5f\"}, \"baxis\": {\"endlinecolor\": \"#2a3f5f\", \"gridcolor\": \"white\", \"linecolor\": \"white\", \"minorgridcolor\": \"white\", \"startlinecolor\": \"#2a3f5f\"}, \"type\": \"carpet\"}], \"choropleth\": [{\"colorbar\": {\"outlinewidth\": 0, \"ticks\": \"\"}, \"type\": \"choropleth\"}], \"contour\": [{\"colorbar\": {\"outlinewidth\": 0, \"ticks\": \"\"}, \"colorscale\": [[0.0, \"#0d0887\"], [0.1111111111111111, \"#46039f\"], [0.2222222222222222, \"#7201a8\"], [0.3333333333333333, \"#9c179e\"], [0.4444444444444444, \"#bd3786\"], [0.5555555555555556, \"#d8576b\"], [0.6666666666666666, \"#ed7953\"], [0.7777777777777778, \"#fb9f3a\"], [0.8888888888888888, \"#fdca26\"], [1.0, \"#f0f921\"]], \"type\": \"contour\"}], \"contourcarpet\": [{\"colorbar\": {\"outlinewidth\": 0, \"ticks\": \"\"}, \"type\": \"contourcarpet\"}], \"heatmap\": [{\"colorbar\": {\"outlinewidth\": 0, \"ticks\": \"\"}, \"colorscale\": [[0.0, \"#0d0887\"], [0.1111111111111111, \"#46039f\"], [0.2222222222222222, \"#7201a8\"], [0.3333333333333333, \"#9c179e\"], [0.4444444444444444, \"#bd3786\"], [0.5555555555555556, \"#d8576b\"], [0.6666666666666666, \"#ed7953\"], [0.7777777777777778, \"#fb9f3a\"], [0.8888888888888888, \"#fdca26\"], [1.0, \"#f0f921\"]], \"type\": \"heatmap\"}], \"heatmapgl\": [{\"colorbar\": {\"outlinewidth\": 0, \"ticks\": \"\"}, \"colorscale\": [[0.0, \"#0d0887\"], [0.1111111111111111, \"#46039f\"], [0.2222222222222222, \"#7201a8\"], [0.3333333333333333, \"#9c179e\"], [0.4444444444444444, \"#bd3786\"], [0.5555555555555556, \"#d8576b\"], [0.6666666666666666, \"#ed7953\"], [0.7777777777777778, \"#fb9f3a\"], [0.8888888888888888, \"#fdca26\"], [1.0, \"#f0f921\"]], \"type\": \"heatmapgl\"}], \"histogram\": [{\"marker\": {\"colorbar\": {\"outlinewidth\": 0, \"ticks\": \"\"}}, \"type\": \"histogram\"}], \"histogram2d\": [{\"colorbar\": {\"outlinewidth\": 0, \"ticks\": \"\"}, \"colorscale\": [[0.0, \"#0d0887\"], [0.1111111111111111, \"#46039f\"], [0.2222222222222222, \"#7201a8\"], [0.3333333333333333, \"#9c179e\"], [0.4444444444444444, \"#bd3786\"], [0.5555555555555556, \"#d8576b\"], [0.6666666666666666, \"#ed7953\"], [0.7777777777777778, \"#fb9f3a\"], [0.8888888888888888, \"#fdca26\"], [1.0, \"#f0f921\"]], \"type\": \"histogram2d\"}], \"histogram2dcontour\": [{\"colorbar\": {\"outlinewidth\": 0, \"ticks\": \"\"}, \"colorscale\": [[0.0, \"#0d0887\"], [0.1111111111111111, \"#46039f\"], [0.2222222222222222, \"#7201a8\"], [0.3333333333333333, \"#9c179e\"], [0.4444444444444444, \"#bd3786\"], [0.5555555555555556, \"#d8576b\"], [0.6666666666666666, \"#ed7953\"], [0.7777777777777778, \"#fb9f3a\"], [0.8888888888888888, \"#fdca26\"], [1.0, \"#f0f921\"]], \"type\": \"histogram2dcontour\"}], \"mesh3d\": [{\"colorbar\": {\"outlinewidth\": 0, \"ticks\": \"\"}, \"type\": \"mesh3d\"}], \"parcoords\": [{\"line\": {\"colorbar\": {\"outlinewidth\": 0, \"ticks\": \"\"}}, \"type\": \"parcoords\"}], \"pie\": [{\"automargin\": true, \"type\": \"pie\"}], \"scatter\": [{\"marker\": {\"colorbar\": {\"outlinewidth\": 0, \"ticks\": \"\"}}, \"type\": \"scatter\"}], \"scatter3d\": [{\"line\": {\"colorbar\": {\"outlinewidth\": 0, \"ticks\": \"\"}}, \"marker\": {\"colorbar\": {\"outlinewidth\": 0, \"ticks\": \"\"}}, \"type\": \"scatter3d\"}], \"scattercarpet\": [{\"marker\": {\"colorbar\": {\"outlinewidth\": 0, \"ticks\": \"\"}}, \"type\": \"scattercarpet\"}], \"scattergeo\": [{\"marker\": {\"colorbar\": {\"outlinewidth\": 0, \"ticks\": \"\"}}, \"type\": \"scattergeo\"}], \"scattergl\": [{\"marker\": {\"colorbar\": {\"outlinewidth\": 0, \"ticks\": \"\"}}, \"type\": \"scattergl\"}], \"scattermapbox\": [{\"marker\": {\"colorbar\": {\"outlinewidth\": 0, \"ticks\": \"\"}}, \"type\": \"scattermapbox\"}], \"scatterpolar\": [{\"marker\": {\"colorbar\": {\"outlinewidth\": 0, \"ticks\": \"\"}}, \"type\": \"scatterpolar\"}], \"scatterpolargl\": [{\"marker\": {\"colorbar\": {\"outlinewidth\": 0, \"ticks\": \"\"}}, \"type\": \"scatterpolargl\"}], \"scatterternary\": [{\"marker\": {\"colorbar\": {\"outlinewidth\": 0, \"ticks\": \"\"}}, \"type\": \"scatterternary\"}], \"surface\": [{\"colorbar\": {\"outlinewidth\": 0, \"ticks\": \"\"}, \"colorscale\": [[0.0, \"#0d0887\"], [0.1111111111111111, \"#46039f\"], [0.2222222222222222, \"#7201a8\"], [0.3333333333333333, \"#9c179e\"], [0.4444444444444444, \"#bd3786\"], [0.5555555555555556, \"#d8576b\"], [0.6666666666666666, \"#ed7953\"], [0.7777777777777778, \"#fb9f3a\"], [0.8888888888888888, \"#fdca26\"], [1.0, \"#f0f921\"]], \"type\": \"surface\"}], \"table\": [{\"cells\": {\"fill\": {\"color\": \"#EBF0F8\"}, \"line\": {\"color\": \"white\"}}, \"header\": {\"fill\": {\"color\": \"#C8D4E3\"}, \"line\": {\"color\": \"white\"}}, \"type\": \"table\"}]}, \"layout\": {\"annotationdefaults\": {\"arrowcolor\": \"#2a3f5f\", \"arrowhead\": 0, \"arrowwidth\": 1}, \"autotypenumbers\": \"strict\", \"coloraxis\": {\"colorbar\": {\"outlinewidth\": 0, \"ticks\": \"\"}}, \"colorscale\": {\"diverging\": [[0, \"#8e0152\"], [0.1, \"#c51b7d\"], [0.2, \"#de77ae\"], [0.3, \"#f1b6da\"], [0.4, \"#fde0ef\"], [0.5, \"#f7f7f7\"], [0.6, \"#e6f5d0\"], [0.7, \"#b8e186\"], [0.8, \"#7fbc41\"], [0.9, \"#4d9221\"], [1, \"#276419\"]], \"sequential\": [[0.0, \"#0d0887\"], [0.1111111111111111, \"#46039f\"], [0.2222222222222222, \"#7201a8\"], [0.3333333333333333, \"#9c179e\"], [0.4444444444444444, \"#bd3786\"], [0.5555555555555556, \"#d8576b\"], [0.6666666666666666, \"#ed7953\"], [0.7777777777777778, \"#fb9f3a\"], [0.8888888888888888, \"#fdca26\"], [1.0, \"#f0f921\"]], \"sequentialminus\": [[0.0, \"#0d0887\"], [0.1111111111111111, \"#46039f\"], [0.2222222222222222, \"#7201a8\"], [0.3333333333333333, \"#9c179e\"], [0.4444444444444444, \"#bd3786\"], [0.5555555555555556, \"#d8576b\"], [0.6666666666666666, \"#ed7953\"], [0.7777777777777778, \"#fb9f3a\"], [0.8888888888888888, \"#fdca26\"], [1.0, \"#f0f921\"]]}, \"colorway\": [\"#636efa\", \"#EF553B\", \"#00cc96\", \"#ab63fa\", \"#FFA15A\", \"#19d3f3\", \"#FF6692\", \"#B6E880\", \"#FF97FF\", \"#FECB52\"], \"font\": {\"color\": \"#2a3f5f\"}, \"geo\": {\"bgcolor\": \"white\", \"lakecolor\": \"white\", \"landcolor\": \"#E5ECF6\", \"showlakes\": true, \"showland\": true, \"subunitcolor\": \"white\"}, \"hoverlabel\": {\"align\": \"left\"}, \"hovermode\": \"closest\", \"mapbox\": {\"style\": \"light\"}, \"paper_bgcolor\": \"white\", \"plot_bgcolor\": \"#E5ECF6\", \"polar\": {\"angularaxis\": {\"gridcolor\": \"white\", \"linecolor\": \"white\", \"ticks\": \"\"}, \"bgcolor\": \"#E5ECF6\", \"radialaxis\": {\"gridcolor\": \"white\", \"linecolor\": \"white\", \"ticks\": \"\"}}, \"scene\": {\"xaxis\": {\"backgroundcolor\": \"#E5ECF6\", \"gridcolor\": \"white\", \"gridwidth\": 2, \"linecolor\": \"white\", \"showbackground\": true, \"ticks\": \"\", \"zerolinecolor\": \"white\"}, \"yaxis\": {\"backgroundcolor\": \"#E5ECF6\", \"gridcolor\": \"white\", \"gridwidth\": 2, \"linecolor\": \"white\", \"showbackground\": true, \"ticks\": \"\", \"zerolinecolor\": \"white\"}, \"zaxis\": {\"backgroundcolor\": \"#E5ECF6\", \"gridcolor\": \"white\", \"gridwidth\": 2, \"linecolor\": \"white\", \"showbackground\": true, \"ticks\": \"\", \"zerolinecolor\": \"white\"}}, \"shapedefaults\": {\"line\": {\"color\": \"#2a3f5f\"}}, \"ternary\": {\"aaxis\": {\"gridcolor\": \"white\", \"linecolor\": \"white\", \"ticks\": \"\"}, \"baxis\": {\"gridcolor\": \"white\", \"linecolor\": \"white\", \"ticks\": \"\"}, \"bgcolor\": \"#E5ECF6\", \"caxis\": {\"gridcolor\": \"white\", \"linecolor\": \"white\", \"ticks\": \"\"}}, \"title\": {\"x\": 0.05}, \"xaxis\": {\"automargin\": true, \"gridcolor\": \"white\", \"linecolor\": \"white\", \"ticks\": \"\", \"title\": {\"standoff\": 15}, \"zerolinecolor\": \"white\", \"zerolinewidth\": 2}, \"yaxis\": {\"automargin\": true, \"gridcolor\": \"white\", \"linecolor\": \"white\", \"ticks\": \"\", \"title\": {\"standoff\": 15}, \"zerolinecolor\": \"white\", \"zerolinewidth\": 2}}}, \"title\": {\"text\": \"Line Charts\"}},                        {\"responsive\": true}                    ).then(function(){\n",
       "                            \n",
       "var gd = document.getElementById('56ca3693-f79e-41f7-855b-727ee3aaf858');\n",
       "var x = new MutationObserver(function (mutations, observer) {{\n",
       "        var display = window.getComputedStyle(gd).display;\n",
       "        if (!display || display === 'none') {{\n",
       "            console.log([gd, 'removed!']);\n",
       "            Plotly.purge(gd);\n",
       "            observer.disconnect();\n",
       "        }}\n",
       "}});\n",
       "\n",
       "// Listen for the removal of the full notebook cells\n",
       "var notebookContainer = gd.closest('#notebook-container');\n",
       "if (notebookContainer) {{\n",
       "    x.observe(notebookContainer, {childList: true});\n",
       "}}\n",
       "\n",
       "// Listen for the clearing of the current output cell\n",
       "var outputEl = gd.closest('.output');\n",
       "if (outputEl) {{\n",
       "    x.observe(outputEl, {childList: true});\n",
       "}}\n",
       "\n",
       "                        })                };                });            </script>        </div>"
      ]
     },
     "metadata": {},
     "output_type": "display_data"
    }
   ],
   "source": [
    "import numpy as np\n",
    "import plotly.offline as pyo\n",
    "import plotly.graph_objs as go\n",
    "\n",
    "np.random.seed(56)\n",
    "x_values = np.linspace(0, 1, 100)\n",
    "y_values = np.random.randn(100)\n",
    "\n",
    "trace0 = go.Scatter(x=x_values,\n",
    "                    y=y_values+5,\n",
    "                    mode='markers',\n",
    "                    name='markers')\n",
    "trace1 = go.Scatter(x=x_values,\n",
    "                    y=y_values,\n",
    "                    mode='lines',\n",
    "                    name='mylines')\n",
    "trace2 = go.Scatter(x=x_values,\n",
    "                    y=y_values-5,\n",
    "                    mode='lines+markers',\n",
    "                    name='lines+marker')\n",
    "\n",
    "data = [trace0, trace1, trace2]\n",
    "layout = go.Layout(title='Line Charts')\n",
    "fig = go.Figure(data=data, layout=layout)\n",
    "pyo.iplot(fig)"
   ]
  },
  {
   "cell_type": "markdown",
   "metadata": {},
   "source": [
    "## bar chart"
   ]
  },
  {
   "cell_type": "code",
   "execution_count": 34,
   "metadata": {},
   "outputs": [
    {
     "data": {
      "application/vnd.plotly.v1+json": {
       "config": {
        "linkText": "Export to plot.ly",
        "plotlyServerURL": "https://plot.ly",
        "showLink": false
       },
       "data": [
        {
         "type": "bar",
         "x": [
          "Norway",
          "Germany",
          "Canada",
          "United States",
          "Netherlands",
          "Sweden",
          "Republic of Korea",
          "Switzerland",
          "France",
          "Austria",
          "Japan",
          "Italy",
          "OAR",
          "Czech Republic",
          "Belarus",
          "China",
          "Slovakia",
          "Finland",
          "Great Britain",
          "Poland",
          "Hungary",
          "Ukraine",
          "Australia",
          "Slovenia",
          "Belgium",
          "Spain",
          "New Zealand",
          "Kazakhstan",
          "Latvia",
          "Liechtenstein"
         ],
         "y": [
          39,
          31,
          29,
          23,
          20,
          14,
          17,
          15,
          15,
          14,
          13,
          10,
          17,
          7,
          3,
          9,
          3,
          6,
          5,
          2,
          1,
          1,
          3,
          2,
          1,
          2,
          2,
          1,
          1,
          1
         ]
        }
       ],
       "layout": {
        "template": {
         "data": {
          "bar": [
           {
            "error_x": {
             "color": "#2a3f5f"
            },
            "error_y": {
             "color": "#2a3f5f"
            },
            "marker": {
             "line": {
              "color": "#E5ECF6",
              "width": 0.5
             }
            },
            "type": "bar"
           }
          ],
          "barpolar": [
           {
            "marker": {
             "line": {
              "color": "#E5ECF6",
              "width": 0.5
             }
            },
            "type": "barpolar"
           }
          ],
          "carpet": [
           {
            "aaxis": {
             "endlinecolor": "#2a3f5f",
             "gridcolor": "white",
             "linecolor": "white",
             "minorgridcolor": "white",
             "startlinecolor": "#2a3f5f"
            },
            "baxis": {
             "endlinecolor": "#2a3f5f",
             "gridcolor": "white",
             "linecolor": "white",
             "minorgridcolor": "white",
             "startlinecolor": "#2a3f5f"
            },
            "type": "carpet"
           }
          ],
          "choropleth": [
           {
            "colorbar": {
             "outlinewidth": 0,
             "ticks": ""
            },
            "type": "choropleth"
           }
          ],
          "contour": [
           {
            "colorbar": {
             "outlinewidth": 0,
             "ticks": ""
            },
            "colorscale": [
             [
              0,
              "#0d0887"
             ],
             [
              0.1111111111111111,
              "#46039f"
             ],
             [
              0.2222222222222222,
              "#7201a8"
             ],
             [
              0.3333333333333333,
              "#9c179e"
             ],
             [
              0.4444444444444444,
              "#bd3786"
             ],
             [
              0.5555555555555556,
              "#d8576b"
             ],
             [
              0.6666666666666666,
              "#ed7953"
             ],
             [
              0.7777777777777778,
              "#fb9f3a"
             ],
             [
              0.8888888888888888,
              "#fdca26"
             ],
             [
              1,
              "#f0f921"
             ]
            ],
            "type": "contour"
           }
          ],
          "contourcarpet": [
           {
            "colorbar": {
             "outlinewidth": 0,
             "ticks": ""
            },
            "type": "contourcarpet"
           }
          ],
          "heatmap": [
           {
            "colorbar": {
             "outlinewidth": 0,
             "ticks": ""
            },
            "colorscale": [
             [
              0,
              "#0d0887"
             ],
             [
              0.1111111111111111,
              "#46039f"
             ],
             [
              0.2222222222222222,
              "#7201a8"
             ],
             [
              0.3333333333333333,
              "#9c179e"
             ],
             [
              0.4444444444444444,
              "#bd3786"
             ],
             [
              0.5555555555555556,
              "#d8576b"
             ],
             [
              0.6666666666666666,
              "#ed7953"
             ],
             [
              0.7777777777777778,
              "#fb9f3a"
             ],
             [
              0.8888888888888888,
              "#fdca26"
             ],
             [
              1,
              "#f0f921"
             ]
            ],
            "type": "heatmap"
           }
          ],
          "heatmapgl": [
           {
            "colorbar": {
             "outlinewidth": 0,
             "ticks": ""
            },
            "colorscale": [
             [
              0,
              "#0d0887"
             ],
             [
              0.1111111111111111,
              "#46039f"
             ],
             [
              0.2222222222222222,
              "#7201a8"
             ],
             [
              0.3333333333333333,
              "#9c179e"
             ],
             [
              0.4444444444444444,
              "#bd3786"
             ],
             [
              0.5555555555555556,
              "#d8576b"
             ],
             [
              0.6666666666666666,
              "#ed7953"
             ],
             [
              0.7777777777777778,
              "#fb9f3a"
             ],
             [
              0.8888888888888888,
              "#fdca26"
             ],
             [
              1,
              "#f0f921"
             ]
            ],
            "type": "heatmapgl"
           }
          ],
          "histogram": [
           {
            "marker": {
             "colorbar": {
              "outlinewidth": 0,
              "ticks": ""
             }
            },
            "type": "histogram"
           }
          ],
          "histogram2d": [
           {
            "colorbar": {
             "outlinewidth": 0,
             "ticks": ""
            },
            "colorscale": [
             [
              0,
              "#0d0887"
             ],
             [
              0.1111111111111111,
              "#46039f"
             ],
             [
              0.2222222222222222,
              "#7201a8"
             ],
             [
              0.3333333333333333,
              "#9c179e"
             ],
             [
              0.4444444444444444,
              "#bd3786"
             ],
             [
              0.5555555555555556,
              "#d8576b"
             ],
             [
              0.6666666666666666,
              "#ed7953"
             ],
             [
              0.7777777777777778,
              "#fb9f3a"
             ],
             [
              0.8888888888888888,
              "#fdca26"
             ],
             [
              1,
              "#f0f921"
             ]
            ],
            "type": "histogram2d"
           }
          ],
          "histogram2dcontour": [
           {
            "colorbar": {
             "outlinewidth": 0,
             "ticks": ""
            },
            "colorscale": [
             [
              0,
              "#0d0887"
             ],
             [
              0.1111111111111111,
              "#46039f"
             ],
             [
              0.2222222222222222,
              "#7201a8"
             ],
             [
              0.3333333333333333,
              "#9c179e"
             ],
             [
              0.4444444444444444,
              "#bd3786"
             ],
             [
              0.5555555555555556,
              "#d8576b"
             ],
             [
              0.6666666666666666,
              "#ed7953"
             ],
             [
              0.7777777777777778,
              "#fb9f3a"
             ],
             [
              0.8888888888888888,
              "#fdca26"
             ],
             [
              1,
              "#f0f921"
             ]
            ],
            "type": "histogram2dcontour"
           }
          ],
          "mesh3d": [
           {
            "colorbar": {
             "outlinewidth": 0,
             "ticks": ""
            },
            "type": "mesh3d"
           }
          ],
          "parcoords": [
           {
            "line": {
             "colorbar": {
              "outlinewidth": 0,
              "ticks": ""
             }
            },
            "type": "parcoords"
           }
          ],
          "pie": [
           {
            "automargin": true,
            "type": "pie"
           }
          ],
          "scatter": [
           {
            "marker": {
             "colorbar": {
              "outlinewidth": 0,
              "ticks": ""
             }
            },
            "type": "scatter"
           }
          ],
          "scatter3d": [
           {
            "line": {
             "colorbar": {
              "outlinewidth": 0,
              "ticks": ""
             }
            },
            "marker": {
             "colorbar": {
              "outlinewidth": 0,
              "ticks": ""
             }
            },
            "type": "scatter3d"
           }
          ],
          "scattercarpet": [
           {
            "marker": {
             "colorbar": {
              "outlinewidth": 0,
              "ticks": ""
             }
            },
            "type": "scattercarpet"
           }
          ],
          "scattergeo": [
           {
            "marker": {
             "colorbar": {
              "outlinewidth": 0,
              "ticks": ""
             }
            },
            "type": "scattergeo"
           }
          ],
          "scattergl": [
           {
            "marker": {
             "colorbar": {
              "outlinewidth": 0,
              "ticks": ""
             }
            },
            "type": "scattergl"
           }
          ],
          "scattermapbox": [
           {
            "marker": {
             "colorbar": {
              "outlinewidth": 0,
              "ticks": ""
             }
            },
            "type": "scattermapbox"
           }
          ],
          "scatterpolar": [
           {
            "marker": {
             "colorbar": {
              "outlinewidth": 0,
              "ticks": ""
             }
            },
            "type": "scatterpolar"
           }
          ],
          "scatterpolargl": [
           {
            "marker": {
             "colorbar": {
              "outlinewidth": 0,
              "ticks": ""
             }
            },
            "type": "scatterpolargl"
           }
          ],
          "scatterternary": [
           {
            "marker": {
             "colorbar": {
              "outlinewidth": 0,
              "ticks": ""
             }
            },
            "type": "scatterternary"
           }
          ],
          "surface": [
           {
            "colorbar": {
             "outlinewidth": 0,
             "ticks": ""
            },
            "colorscale": [
             [
              0,
              "#0d0887"
             ],
             [
              0.1111111111111111,
              "#46039f"
             ],
             [
              0.2222222222222222,
              "#7201a8"
             ],
             [
              0.3333333333333333,
              "#9c179e"
             ],
             [
              0.4444444444444444,
              "#bd3786"
             ],
             [
              0.5555555555555556,
              "#d8576b"
             ],
             [
              0.6666666666666666,
              "#ed7953"
             ],
             [
              0.7777777777777778,
              "#fb9f3a"
             ],
             [
              0.8888888888888888,
              "#fdca26"
             ],
             [
              1,
              "#f0f921"
             ]
            ],
            "type": "surface"
           }
          ],
          "table": [
           {
            "cells": {
             "fill": {
              "color": "#EBF0F8"
             },
             "line": {
              "color": "white"
             }
            },
            "header": {
             "fill": {
              "color": "#C8D4E3"
             },
             "line": {
              "color": "white"
             }
            },
            "type": "table"
           }
          ]
         },
         "layout": {
          "annotationdefaults": {
           "arrowcolor": "#2a3f5f",
           "arrowhead": 0,
           "arrowwidth": 1
          },
          "autotypenumbers": "strict",
          "coloraxis": {
           "colorbar": {
            "outlinewidth": 0,
            "ticks": ""
           }
          },
          "colorscale": {
           "diverging": [
            [
             0,
             "#8e0152"
            ],
            [
             0.1,
             "#c51b7d"
            ],
            [
             0.2,
             "#de77ae"
            ],
            [
             0.3,
             "#f1b6da"
            ],
            [
             0.4,
             "#fde0ef"
            ],
            [
             0.5,
             "#f7f7f7"
            ],
            [
             0.6,
             "#e6f5d0"
            ],
            [
             0.7,
             "#b8e186"
            ],
            [
             0.8,
             "#7fbc41"
            ],
            [
             0.9,
             "#4d9221"
            ],
            [
             1,
             "#276419"
            ]
           ],
           "sequential": [
            [
             0,
             "#0d0887"
            ],
            [
             0.1111111111111111,
             "#46039f"
            ],
            [
             0.2222222222222222,
             "#7201a8"
            ],
            [
             0.3333333333333333,
             "#9c179e"
            ],
            [
             0.4444444444444444,
             "#bd3786"
            ],
            [
             0.5555555555555556,
             "#d8576b"
            ],
            [
             0.6666666666666666,
             "#ed7953"
            ],
            [
             0.7777777777777778,
             "#fb9f3a"
            ],
            [
             0.8888888888888888,
             "#fdca26"
            ],
            [
             1,
             "#f0f921"
            ]
           ],
           "sequentialminus": [
            [
             0,
             "#0d0887"
            ],
            [
             0.1111111111111111,
             "#46039f"
            ],
            [
             0.2222222222222222,
             "#7201a8"
            ],
            [
             0.3333333333333333,
             "#9c179e"
            ],
            [
             0.4444444444444444,
             "#bd3786"
            ],
            [
             0.5555555555555556,
             "#d8576b"
            ],
            [
             0.6666666666666666,
             "#ed7953"
            ],
            [
             0.7777777777777778,
             "#fb9f3a"
            ],
            [
             0.8888888888888888,
             "#fdca26"
            ],
            [
             1,
             "#f0f921"
            ]
           ]
          },
          "colorway": [
           "#636efa",
           "#EF553B",
           "#00cc96",
           "#ab63fa",
           "#FFA15A",
           "#19d3f3",
           "#FF6692",
           "#B6E880",
           "#FF97FF",
           "#FECB52"
          ],
          "font": {
           "color": "#2a3f5f"
          },
          "geo": {
           "bgcolor": "white",
           "lakecolor": "white",
           "landcolor": "#E5ECF6",
           "showlakes": true,
           "showland": true,
           "subunitcolor": "white"
          },
          "hoverlabel": {
           "align": "left"
          },
          "hovermode": "closest",
          "mapbox": {
           "style": "light"
          },
          "paper_bgcolor": "white",
          "plot_bgcolor": "#E5ECF6",
          "polar": {
           "angularaxis": {
            "gridcolor": "white",
            "linecolor": "white",
            "ticks": ""
           },
           "bgcolor": "#E5ECF6",
           "radialaxis": {
            "gridcolor": "white",
            "linecolor": "white",
            "ticks": ""
           }
          },
          "scene": {
           "xaxis": {
            "backgroundcolor": "#E5ECF6",
            "gridcolor": "white",
            "gridwidth": 2,
            "linecolor": "white",
            "showbackground": true,
            "ticks": "",
            "zerolinecolor": "white"
           },
           "yaxis": {
            "backgroundcolor": "#E5ECF6",
            "gridcolor": "white",
            "gridwidth": 2,
            "linecolor": "white",
            "showbackground": true,
            "ticks": "",
            "zerolinecolor": "white"
           },
           "zaxis": {
            "backgroundcolor": "#E5ECF6",
            "gridcolor": "white",
            "gridwidth": 2,
            "linecolor": "white",
            "showbackground": true,
            "ticks": "",
            "zerolinecolor": "white"
           }
          },
          "shapedefaults": {
           "line": {
            "color": "#2a3f5f"
           }
          },
          "ternary": {
           "aaxis": {
            "gridcolor": "white",
            "linecolor": "white",
            "ticks": ""
           },
           "baxis": {
            "gridcolor": "white",
            "linecolor": "white",
            "ticks": ""
           },
           "bgcolor": "#E5ECF6",
           "caxis": {
            "gridcolor": "white",
            "linecolor": "white",
            "ticks": ""
           }
          },
          "title": {
           "x": 0.05
          },
          "xaxis": {
           "automargin": true,
           "gridcolor": "white",
           "linecolor": "white",
           "ticks": "",
           "title": {
            "standoff": 15
           },
           "zerolinecolor": "white",
           "zerolinewidth": 2
          },
          "yaxis": {
           "automargin": true,
           "gridcolor": "white",
           "linecolor": "white",
           "ticks": "",
           "title": {
            "standoff": 15
           },
           "zerolinecolor": "white",
           "zerolinewidth": 2
          }
         }
        },
        "title": {
         "text": "Olympic medals"
        }
       }
      },
      "text/html": [
       "<div>                            <div id=\"6f51b1d6-098d-4e39-bdd5-c4cee6202ee1\" class=\"plotly-graph-div\" style=\"height:525px; width:100%;\"></div>            <script type=\"text/javascript\">                require([\"plotly\"], function(Plotly) {                    window.PLOTLYENV=window.PLOTLYENV || {};                                    if (document.getElementById(\"6f51b1d6-098d-4e39-bdd5-c4cee6202ee1\")) {                    Plotly.newPlot(                        \"6f51b1d6-098d-4e39-bdd5-c4cee6202ee1\",                        [{\"type\": \"bar\", \"x\": [\"Norway\", \"Germany\", \"Canada\", \"United States\", \"Netherlands\", \"Sweden\", \"Republic of Korea\", \"Switzerland\", \"France\", \"Austria\", \"Japan\", \"Italy\", \"OAR\", \"Czech Republic\", \"Belarus\", \"China\", \"Slovakia\", \"Finland\", \"Great Britain\", \"Poland\", \"Hungary\", \"Ukraine\", \"Australia\", \"Slovenia\", \"Belgium\", \"Spain\", \"New Zealand\", \"Kazakhstan\", \"Latvia\", \"Liechtenstein\"], \"y\": [39, 31, 29, 23, 20, 14, 17, 15, 15, 14, 13, 10, 17, 7, 3, 9, 3, 6, 5, 2, 1, 1, 3, 2, 1, 2, 2, 1, 1, 1]}],                        {\"template\": {\"data\": {\"bar\": [{\"error_x\": {\"color\": \"#2a3f5f\"}, \"error_y\": {\"color\": \"#2a3f5f\"}, \"marker\": {\"line\": {\"color\": \"#E5ECF6\", \"width\": 0.5}}, \"type\": \"bar\"}], \"barpolar\": [{\"marker\": {\"line\": {\"color\": \"#E5ECF6\", \"width\": 0.5}}, \"type\": \"barpolar\"}], \"carpet\": [{\"aaxis\": {\"endlinecolor\": \"#2a3f5f\", \"gridcolor\": \"white\", \"linecolor\": \"white\", \"minorgridcolor\": \"white\", \"startlinecolor\": \"#2a3f5f\"}, \"baxis\": {\"endlinecolor\": \"#2a3f5f\", \"gridcolor\": \"white\", \"linecolor\": \"white\", \"minorgridcolor\": \"white\", \"startlinecolor\": \"#2a3f5f\"}, \"type\": \"carpet\"}], \"choropleth\": [{\"colorbar\": {\"outlinewidth\": 0, \"ticks\": \"\"}, \"type\": \"choropleth\"}], \"contour\": [{\"colorbar\": {\"outlinewidth\": 0, \"ticks\": \"\"}, \"colorscale\": [[0.0, \"#0d0887\"], [0.1111111111111111, \"#46039f\"], [0.2222222222222222, \"#7201a8\"], [0.3333333333333333, \"#9c179e\"], [0.4444444444444444, \"#bd3786\"], [0.5555555555555556, \"#d8576b\"], [0.6666666666666666, \"#ed7953\"], [0.7777777777777778, \"#fb9f3a\"], [0.8888888888888888, \"#fdca26\"], [1.0, \"#f0f921\"]], \"type\": \"contour\"}], \"contourcarpet\": [{\"colorbar\": {\"outlinewidth\": 0, \"ticks\": \"\"}, \"type\": \"contourcarpet\"}], \"heatmap\": [{\"colorbar\": {\"outlinewidth\": 0, \"ticks\": \"\"}, \"colorscale\": [[0.0, \"#0d0887\"], [0.1111111111111111, \"#46039f\"], [0.2222222222222222, \"#7201a8\"], [0.3333333333333333, \"#9c179e\"], [0.4444444444444444, \"#bd3786\"], [0.5555555555555556, \"#d8576b\"], [0.6666666666666666, \"#ed7953\"], [0.7777777777777778, \"#fb9f3a\"], [0.8888888888888888, \"#fdca26\"], [1.0, \"#f0f921\"]], \"type\": \"heatmap\"}], \"heatmapgl\": [{\"colorbar\": {\"outlinewidth\": 0, \"ticks\": \"\"}, \"colorscale\": [[0.0, \"#0d0887\"], [0.1111111111111111, \"#46039f\"], [0.2222222222222222, \"#7201a8\"], [0.3333333333333333, \"#9c179e\"], [0.4444444444444444, \"#bd3786\"], [0.5555555555555556, \"#d8576b\"], [0.6666666666666666, \"#ed7953\"], [0.7777777777777778, \"#fb9f3a\"], [0.8888888888888888, \"#fdca26\"], [1.0, \"#f0f921\"]], \"type\": \"heatmapgl\"}], \"histogram\": [{\"marker\": {\"colorbar\": {\"outlinewidth\": 0, \"ticks\": \"\"}}, \"type\": \"histogram\"}], \"histogram2d\": [{\"colorbar\": {\"outlinewidth\": 0, \"ticks\": \"\"}, \"colorscale\": [[0.0, \"#0d0887\"], [0.1111111111111111, \"#46039f\"], [0.2222222222222222, \"#7201a8\"], [0.3333333333333333, \"#9c179e\"], [0.4444444444444444, \"#bd3786\"], [0.5555555555555556, \"#d8576b\"], [0.6666666666666666, \"#ed7953\"], [0.7777777777777778, \"#fb9f3a\"], [0.8888888888888888, \"#fdca26\"], [1.0, \"#f0f921\"]], \"type\": \"histogram2d\"}], \"histogram2dcontour\": [{\"colorbar\": {\"outlinewidth\": 0, \"ticks\": \"\"}, \"colorscale\": [[0.0, \"#0d0887\"], [0.1111111111111111, \"#46039f\"], [0.2222222222222222, \"#7201a8\"], [0.3333333333333333, \"#9c179e\"], [0.4444444444444444, \"#bd3786\"], [0.5555555555555556, \"#d8576b\"], [0.6666666666666666, \"#ed7953\"], [0.7777777777777778, \"#fb9f3a\"], [0.8888888888888888, \"#fdca26\"], [1.0, \"#f0f921\"]], \"type\": \"histogram2dcontour\"}], \"mesh3d\": [{\"colorbar\": {\"outlinewidth\": 0, \"ticks\": \"\"}, \"type\": \"mesh3d\"}], \"parcoords\": [{\"line\": {\"colorbar\": {\"outlinewidth\": 0, \"ticks\": \"\"}}, \"type\": \"parcoords\"}], \"pie\": [{\"automargin\": true, \"type\": \"pie\"}], \"scatter\": [{\"marker\": {\"colorbar\": {\"outlinewidth\": 0, \"ticks\": \"\"}}, \"type\": \"scatter\"}], \"scatter3d\": [{\"line\": {\"colorbar\": {\"outlinewidth\": 0, \"ticks\": \"\"}}, \"marker\": {\"colorbar\": {\"outlinewidth\": 0, \"ticks\": \"\"}}, \"type\": \"scatter3d\"}], \"scattercarpet\": [{\"marker\": {\"colorbar\": {\"outlinewidth\": 0, \"ticks\": \"\"}}, \"type\": \"scattercarpet\"}], \"scattergeo\": [{\"marker\": {\"colorbar\": {\"outlinewidth\": 0, \"ticks\": \"\"}}, \"type\": \"scattergeo\"}], \"scattergl\": [{\"marker\": {\"colorbar\": {\"outlinewidth\": 0, \"ticks\": \"\"}}, \"type\": \"scattergl\"}], \"scattermapbox\": [{\"marker\": {\"colorbar\": {\"outlinewidth\": 0, \"ticks\": \"\"}}, \"type\": \"scattermapbox\"}], \"scatterpolar\": [{\"marker\": {\"colorbar\": {\"outlinewidth\": 0, \"ticks\": \"\"}}, \"type\": \"scatterpolar\"}], \"scatterpolargl\": [{\"marker\": {\"colorbar\": {\"outlinewidth\": 0, \"ticks\": \"\"}}, \"type\": \"scatterpolargl\"}], \"scatterternary\": [{\"marker\": {\"colorbar\": {\"outlinewidth\": 0, \"ticks\": \"\"}}, \"type\": \"scatterternary\"}], \"surface\": [{\"colorbar\": {\"outlinewidth\": 0, \"ticks\": \"\"}, \"colorscale\": [[0.0, \"#0d0887\"], [0.1111111111111111, \"#46039f\"], [0.2222222222222222, \"#7201a8\"], [0.3333333333333333, \"#9c179e\"], [0.4444444444444444, \"#bd3786\"], [0.5555555555555556, \"#d8576b\"], [0.6666666666666666, \"#ed7953\"], [0.7777777777777778, \"#fb9f3a\"], [0.8888888888888888, \"#fdca26\"], [1.0, \"#f0f921\"]], \"type\": \"surface\"}], \"table\": [{\"cells\": {\"fill\": {\"color\": \"#EBF0F8\"}, \"line\": {\"color\": \"white\"}}, \"header\": {\"fill\": {\"color\": \"#C8D4E3\"}, \"line\": {\"color\": \"white\"}}, \"type\": \"table\"}]}, \"layout\": {\"annotationdefaults\": {\"arrowcolor\": \"#2a3f5f\", \"arrowhead\": 0, \"arrowwidth\": 1}, \"autotypenumbers\": \"strict\", \"coloraxis\": {\"colorbar\": {\"outlinewidth\": 0, \"ticks\": \"\"}}, \"colorscale\": {\"diverging\": [[0, \"#8e0152\"], [0.1, \"#c51b7d\"], [0.2, \"#de77ae\"], [0.3, \"#f1b6da\"], [0.4, \"#fde0ef\"], [0.5, \"#f7f7f7\"], [0.6, \"#e6f5d0\"], [0.7, \"#b8e186\"], [0.8, \"#7fbc41\"], [0.9, \"#4d9221\"], [1, \"#276419\"]], \"sequential\": [[0.0, \"#0d0887\"], [0.1111111111111111, \"#46039f\"], [0.2222222222222222, \"#7201a8\"], [0.3333333333333333, \"#9c179e\"], [0.4444444444444444, \"#bd3786\"], [0.5555555555555556, \"#d8576b\"], [0.6666666666666666, \"#ed7953\"], [0.7777777777777778, \"#fb9f3a\"], [0.8888888888888888, \"#fdca26\"], [1.0, \"#f0f921\"]], \"sequentialminus\": [[0.0, \"#0d0887\"], [0.1111111111111111, \"#46039f\"], [0.2222222222222222, \"#7201a8\"], [0.3333333333333333, \"#9c179e\"], [0.4444444444444444, \"#bd3786\"], [0.5555555555555556, \"#d8576b\"], [0.6666666666666666, \"#ed7953\"], [0.7777777777777778, \"#fb9f3a\"], [0.8888888888888888, \"#fdca26\"], [1.0, \"#f0f921\"]]}, \"colorway\": [\"#636efa\", \"#EF553B\", \"#00cc96\", \"#ab63fa\", \"#FFA15A\", \"#19d3f3\", \"#FF6692\", \"#B6E880\", \"#FF97FF\", \"#FECB52\"], \"font\": {\"color\": \"#2a3f5f\"}, \"geo\": {\"bgcolor\": \"white\", \"lakecolor\": \"white\", \"landcolor\": \"#E5ECF6\", \"showlakes\": true, \"showland\": true, \"subunitcolor\": \"white\"}, \"hoverlabel\": {\"align\": \"left\"}, \"hovermode\": \"closest\", \"mapbox\": {\"style\": \"light\"}, \"paper_bgcolor\": \"white\", \"plot_bgcolor\": \"#E5ECF6\", \"polar\": {\"angularaxis\": {\"gridcolor\": \"white\", \"linecolor\": \"white\", \"ticks\": \"\"}, \"bgcolor\": \"#E5ECF6\", \"radialaxis\": {\"gridcolor\": \"white\", \"linecolor\": \"white\", \"ticks\": \"\"}}, \"scene\": {\"xaxis\": {\"backgroundcolor\": \"#E5ECF6\", \"gridcolor\": \"white\", \"gridwidth\": 2, \"linecolor\": \"white\", \"showbackground\": true, \"ticks\": \"\", \"zerolinecolor\": \"white\"}, \"yaxis\": {\"backgroundcolor\": \"#E5ECF6\", \"gridcolor\": \"white\", \"gridwidth\": 2, \"linecolor\": \"white\", \"showbackground\": true, \"ticks\": \"\", \"zerolinecolor\": \"white\"}, \"zaxis\": {\"backgroundcolor\": \"#E5ECF6\", \"gridcolor\": \"white\", \"gridwidth\": 2, \"linecolor\": \"white\", \"showbackground\": true, \"ticks\": \"\", \"zerolinecolor\": \"white\"}}, \"shapedefaults\": {\"line\": {\"color\": \"#2a3f5f\"}}, \"ternary\": {\"aaxis\": {\"gridcolor\": \"white\", \"linecolor\": \"white\", \"ticks\": \"\"}, \"baxis\": {\"gridcolor\": \"white\", \"linecolor\": \"white\", \"ticks\": \"\"}, \"bgcolor\": \"#E5ECF6\", \"caxis\": {\"gridcolor\": \"white\", \"linecolor\": \"white\", \"ticks\": \"\"}}, \"title\": {\"x\": 0.05}, \"xaxis\": {\"automargin\": true, \"gridcolor\": \"white\", \"linecolor\": \"white\", \"ticks\": \"\", \"title\": {\"standoff\": 15}, \"zerolinecolor\": \"white\", \"zerolinewidth\": 2}, \"yaxis\": {\"automargin\": true, \"gridcolor\": \"white\", \"linecolor\": \"white\", \"ticks\": \"\", \"title\": {\"standoff\": 15}, \"zerolinecolor\": \"white\", \"zerolinewidth\": 2}}}, \"title\": {\"text\": \"Olympic medals\"}},                        {\"responsive\": true}                    ).then(function(){\n",
       "                            \n",
       "var gd = document.getElementById('6f51b1d6-098d-4e39-bdd5-c4cee6202ee1');\n",
       "var x = new MutationObserver(function (mutations, observer) {{\n",
       "        var display = window.getComputedStyle(gd).display;\n",
       "        if (!display || display === 'none') {{\n",
       "            console.log([gd, 'removed!']);\n",
       "            Plotly.purge(gd);\n",
       "            observer.disconnect();\n",
       "        }}\n",
       "}});\n",
       "\n",
       "// Listen for the removal of the full notebook cells\n",
       "var notebookContainer = gd.closest('#notebook-container');\n",
       "if (notebookContainer) {{\n",
       "    x.observe(notebookContainer, {childList: true});\n",
       "}}\n",
       "\n",
       "// Listen for the clearing of the current output cell\n",
       "var outputEl = gd.closest('.output');\n",
       "if (outputEl) {{\n",
       "    x.observe(outputEl, {childList: true});\n",
       "}}\n",
       "\n",
       "                        })                };                });            </script>        </div>"
      ]
     },
     "metadata": {},
     "output_type": "display_data"
    }
   ],
   "source": [
    "import pandas as pd\n",
    "import plotly.offline as pyo\n",
    "import plotly.graph_objs as go\n",
    "\n",
    "df = pd.read_csv(\"../../data/bronze/plotlydash/2018WinterOlympics.csv\")\n",
    "data = [go.Bar(x=df[\"NOC\"],\n",
    "               y=df[\"Total\"])]\n",
    "\n",
    "layout = go.Layout(title=\"Olympic medals\")\n",
    "fig = go.Figure(data=data, layout=layout)\n",
    "pyo.iplot(fig)"
   ]
  },
  {
   "cell_type": "code",
   "execution_count": 35,
   "metadata": {},
   "outputs": [
    {
     "data": {
      "application/vnd.plotly.v1+json": {
       "config": {
        "linkText": "Export to plot.ly",
        "plotlyServerURL": "https://plot.ly",
        "showLink": false
       },
       "data": [
        {
         "marker": {
          "color": "#FFD700"
         },
         "name": "Gold",
         "type": "bar",
         "x": [
          "Norway",
          "Germany",
          "Canada",
          "United States",
          "Netherlands",
          "Sweden",
          "Republic of Korea",
          "Switzerland",
          "France",
          "Austria",
          "Japan",
          "Italy",
          "OAR",
          "Czech Republic",
          "Belarus",
          "China",
          "Slovakia",
          "Finland",
          "Great Britain",
          "Poland",
          "Hungary",
          "Ukraine",
          "Australia",
          "Slovenia",
          "Belgium",
          "Spain",
          "New Zealand",
          "Kazakhstan",
          "Latvia",
          "Liechtenstein"
         ],
         "y": [
          14,
          14,
          11,
          9,
          8,
          7,
          5,
          5,
          5,
          5,
          4,
          3,
          2,
          2,
          2,
          1,
          1,
          1,
          1,
          1,
          1,
          1,
          0,
          0,
          0,
          0,
          0,
          0,
          0,
          0
         ]
        },
        {
         "marker": {
          "color": "#C0C0C0"
         },
         "name": "Silver",
         "type": "bar",
         "x": [
          "Norway",
          "Germany",
          "Canada",
          "United States",
          "Netherlands",
          "Sweden",
          "Republic of Korea",
          "Switzerland",
          "France",
          "Austria",
          "Japan",
          "Italy",
          "OAR",
          "Czech Republic",
          "Belarus",
          "China",
          "Slovakia",
          "Finland",
          "Great Britain",
          "Poland",
          "Hungary",
          "Ukraine",
          "Australia",
          "Slovenia",
          "Belgium",
          "Spain",
          "New Zealand",
          "Kazakhstan",
          "Latvia",
          "Liechtenstein"
         ],
         "y": [
          14,
          10,
          8,
          8,
          6,
          6,
          8,
          6,
          4,
          3,
          5,
          2,
          6,
          2,
          1,
          6,
          2,
          1,
          0,
          0,
          0,
          0,
          2,
          1,
          1,
          0,
          0,
          0,
          0,
          0
         ]
        },
        {
         "marker": {
          "color": "#CD7F32"
         },
         "name": "Bronze",
         "type": "bar",
         "x": [
          "Norway",
          "Germany",
          "Canada",
          "United States",
          "Netherlands",
          "Sweden",
          "Republic of Korea",
          "Switzerland",
          "France",
          "Austria",
          "Japan",
          "Italy",
          "OAR",
          "Czech Republic",
          "Belarus",
          "China",
          "Slovakia",
          "Finland",
          "Great Britain",
          "Poland",
          "Hungary",
          "Ukraine",
          "Australia",
          "Slovenia",
          "Belgium",
          "Spain",
          "New Zealand",
          "Kazakhstan",
          "Latvia",
          "Liechtenstein"
         ],
         "y": [
          11,
          7,
          10,
          6,
          6,
          1,
          4,
          4,
          6,
          6,
          4,
          5,
          9,
          3,
          0,
          2,
          0,
          4,
          4,
          1,
          0,
          0,
          1,
          1,
          0,
          2,
          2,
          1,
          1,
          1
         ]
        }
       ],
       "layout": {
        "template": {
         "data": {
          "bar": [
           {
            "error_x": {
             "color": "#2a3f5f"
            },
            "error_y": {
             "color": "#2a3f5f"
            },
            "marker": {
             "line": {
              "color": "#E5ECF6",
              "width": 0.5
             }
            },
            "type": "bar"
           }
          ],
          "barpolar": [
           {
            "marker": {
             "line": {
              "color": "#E5ECF6",
              "width": 0.5
             }
            },
            "type": "barpolar"
           }
          ],
          "carpet": [
           {
            "aaxis": {
             "endlinecolor": "#2a3f5f",
             "gridcolor": "white",
             "linecolor": "white",
             "minorgridcolor": "white",
             "startlinecolor": "#2a3f5f"
            },
            "baxis": {
             "endlinecolor": "#2a3f5f",
             "gridcolor": "white",
             "linecolor": "white",
             "minorgridcolor": "white",
             "startlinecolor": "#2a3f5f"
            },
            "type": "carpet"
           }
          ],
          "choropleth": [
           {
            "colorbar": {
             "outlinewidth": 0,
             "ticks": ""
            },
            "type": "choropleth"
           }
          ],
          "contour": [
           {
            "colorbar": {
             "outlinewidth": 0,
             "ticks": ""
            },
            "colorscale": [
             [
              0,
              "#0d0887"
             ],
             [
              0.1111111111111111,
              "#46039f"
             ],
             [
              0.2222222222222222,
              "#7201a8"
             ],
             [
              0.3333333333333333,
              "#9c179e"
             ],
             [
              0.4444444444444444,
              "#bd3786"
             ],
             [
              0.5555555555555556,
              "#d8576b"
             ],
             [
              0.6666666666666666,
              "#ed7953"
             ],
             [
              0.7777777777777778,
              "#fb9f3a"
             ],
             [
              0.8888888888888888,
              "#fdca26"
             ],
             [
              1,
              "#f0f921"
             ]
            ],
            "type": "contour"
           }
          ],
          "contourcarpet": [
           {
            "colorbar": {
             "outlinewidth": 0,
             "ticks": ""
            },
            "type": "contourcarpet"
           }
          ],
          "heatmap": [
           {
            "colorbar": {
             "outlinewidth": 0,
             "ticks": ""
            },
            "colorscale": [
             [
              0,
              "#0d0887"
             ],
             [
              0.1111111111111111,
              "#46039f"
             ],
             [
              0.2222222222222222,
              "#7201a8"
             ],
             [
              0.3333333333333333,
              "#9c179e"
             ],
             [
              0.4444444444444444,
              "#bd3786"
             ],
             [
              0.5555555555555556,
              "#d8576b"
             ],
             [
              0.6666666666666666,
              "#ed7953"
             ],
             [
              0.7777777777777778,
              "#fb9f3a"
             ],
             [
              0.8888888888888888,
              "#fdca26"
             ],
             [
              1,
              "#f0f921"
             ]
            ],
            "type": "heatmap"
           }
          ],
          "heatmapgl": [
           {
            "colorbar": {
             "outlinewidth": 0,
             "ticks": ""
            },
            "colorscale": [
             [
              0,
              "#0d0887"
             ],
             [
              0.1111111111111111,
              "#46039f"
             ],
             [
              0.2222222222222222,
              "#7201a8"
             ],
             [
              0.3333333333333333,
              "#9c179e"
             ],
             [
              0.4444444444444444,
              "#bd3786"
             ],
             [
              0.5555555555555556,
              "#d8576b"
             ],
             [
              0.6666666666666666,
              "#ed7953"
             ],
             [
              0.7777777777777778,
              "#fb9f3a"
             ],
             [
              0.8888888888888888,
              "#fdca26"
             ],
             [
              1,
              "#f0f921"
             ]
            ],
            "type": "heatmapgl"
           }
          ],
          "histogram": [
           {
            "marker": {
             "colorbar": {
              "outlinewidth": 0,
              "ticks": ""
             }
            },
            "type": "histogram"
           }
          ],
          "histogram2d": [
           {
            "colorbar": {
             "outlinewidth": 0,
             "ticks": ""
            },
            "colorscale": [
             [
              0,
              "#0d0887"
             ],
             [
              0.1111111111111111,
              "#46039f"
             ],
             [
              0.2222222222222222,
              "#7201a8"
             ],
             [
              0.3333333333333333,
              "#9c179e"
             ],
             [
              0.4444444444444444,
              "#bd3786"
             ],
             [
              0.5555555555555556,
              "#d8576b"
             ],
             [
              0.6666666666666666,
              "#ed7953"
             ],
             [
              0.7777777777777778,
              "#fb9f3a"
             ],
             [
              0.8888888888888888,
              "#fdca26"
             ],
             [
              1,
              "#f0f921"
             ]
            ],
            "type": "histogram2d"
           }
          ],
          "histogram2dcontour": [
           {
            "colorbar": {
             "outlinewidth": 0,
             "ticks": ""
            },
            "colorscale": [
             [
              0,
              "#0d0887"
             ],
             [
              0.1111111111111111,
              "#46039f"
             ],
             [
              0.2222222222222222,
              "#7201a8"
             ],
             [
              0.3333333333333333,
              "#9c179e"
             ],
             [
              0.4444444444444444,
              "#bd3786"
             ],
             [
              0.5555555555555556,
              "#d8576b"
             ],
             [
              0.6666666666666666,
              "#ed7953"
             ],
             [
              0.7777777777777778,
              "#fb9f3a"
             ],
             [
              0.8888888888888888,
              "#fdca26"
             ],
             [
              1,
              "#f0f921"
             ]
            ],
            "type": "histogram2dcontour"
           }
          ],
          "mesh3d": [
           {
            "colorbar": {
             "outlinewidth": 0,
             "ticks": ""
            },
            "type": "mesh3d"
           }
          ],
          "parcoords": [
           {
            "line": {
             "colorbar": {
              "outlinewidth": 0,
              "ticks": ""
             }
            },
            "type": "parcoords"
           }
          ],
          "pie": [
           {
            "automargin": true,
            "type": "pie"
           }
          ],
          "scatter": [
           {
            "marker": {
             "colorbar": {
              "outlinewidth": 0,
              "ticks": ""
             }
            },
            "type": "scatter"
           }
          ],
          "scatter3d": [
           {
            "line": {
             "colorbar": {
              "outlinewidth": 0,
              "ticks": ""
             }
            },
            "marker": {
             "colorbar": {
              "outlinewidth": 0,
              "ticks": ""
             }
            },
            "type": "scatter3d"
           }
          ],
          "scattercarpet": [
           {
            "marker": {
             "colorbar": {
              "outlinewidth": 0,
              "ticks": ""
             }
            },
            "type": "scattercarpet"
           }
          ],
          "scattergeo": [
           {
            "marker": {
             "colorbar": {
              "outlinewidth": 0,
              "ticks": ""
             }
            },
            "type": "scattergeo"
           }
          ],
          "scattergl": [
           {
            "marker": {
             "colorbar": {
              "outlinewidth": 0,
              "ticks": ""
             }
            },
            "type": "scattergl"
           }
          ],
          "scattermapbox": [
           {
            "marker": {
             "colorbar": {
              "outlinewidth": 0,
              "ticks": ""
             }
            },
            "type": "scattermapbox"
           }
          ],
          "scatterpolar": [
           {
            "marker": {
             "colorbar": {
              "outlinewidth": 0,
              "ticks": ""
             }
            },
            "type": "scatterpolar"
           }
          ],
          "scatterpolargl": [
           {
            "marker": {
             "colorbar": {
              "outlinewidth": 0,
              "ticks": ""
             }
            },
            "type": "scatterpolargl"
           }
          ],
          "scatterternary": [
           {
            "marker": {
             "colorbar": {
              "outlinewidth": 0,
              "ticks": ""
             }
            },
            "type": "scatterternary"
           }
          ],
          "surface": [
           {
            "colorbar": {
             "outlinewidth": 0,
             "ticks": ""
            },
            "colorscale": [
             [
              0,
              "#0d0887"
             ],
             [
              0.1111111111111111,
              "#46039f"
             ],
             [
              0.2222222222222222,
              "#7201a8"
             ],
             [
              0.3333333333333333,
              "#9c179e"
             ],
             [
              0.4444444444444444,
              "#bd3786"
             ],
             [
              0.5555555555555556,
              "#d8576b"
             ],
             [
              0.6666666666666666,
              "#ed7953"
             ],
             [
              0.7777777777777778,
              "#fb9f3a"
             ],
             [
              0.8888888888888888,
              "#fdca26"
             ],
             [
              1,
              "#f0f921"
             ]
            ],
            "type": "surface"
           }
          ],
          "table": [
           {
            "cells": {
             "fill": {
              "color": "#EBF0F8"
             },
             "line": {
              "color": "white"
             }
            },
            "header": {
             "fill": {
              "color": "#C8D4E3"
             },
             "line": {
              "color": "white"
             }
            },
            "type": "table"
           }
          ]
         },
         "layout": {
          "annotationdefaults": {
           "arrowcolor": "#2a3f5f",
           "arrowhead": 0,
           "arrowwidth": 1
          },
          "autotypenumbers": "strict",
          "coloraxis": {
           "colorbar": {
            "outlinewidth": 0,
            "ticks": ""
           }
          },
          "colorscale": {
           "diverging": [
            [
             0,
             "#8e0152"
            ],
            [
             0.1,
             "#c51b7d"
            ],
            [
             0.2,
             "#de77ae"
            ],
            [
             0.3,
             "#f1b6da"
            ],
            [
             0.4,
             "#fde0ef"
            ],
            [
             0.5,
             "#f7f7f7"
            ],
            [
             0.6,
             "#e6f5d0"
            ],
            [
             0.7,
             "#b8e186"
            ],
            [
             0.8,
             "#7fbc41"
            ],
            [
             0.9,
             "#4d9221"
            ],
            [
             1,
             "#276419"
            ]
           ],
           "sequential": [
            [
             0,
             "#0d0887"
            ],
            [
             0.1111111111111111,
             "#46039f"
            ],
            [
             0.2222222222222222,
             "#7201a8"
            ],
            [
             0.3333333333333333,
             "#9c179e"
            ],
            [
             0.4444444444444444,
             "#bd3786"
            ],
            [
             0.5555555555555556,
             "#d8576b"
            ],
            [
             0.6666666666666666,
             "#ed7953"
            ],
            [
             0.7777777777777778,
             "#fb9f3a"
            ],
            [
             0.8888888888888888,
             "#fdca26"
            ],
            [
             1,
             "#f0f921"
            ]
           ],
           "sequentialminus": [
            [
             0,
             "#0d0887"
            ],
            [
             0.1111111111111111,
             "#46039f"
            ],
            [
             0.2222222222222222,
             "#7201a8"
            ],
            [
             0.3333333333333333,
             "#9c179e"
            ],
            [
             0.4444444444444444,
             "#bd3786"
            ],
            [
             0.5555555555555556,
             "#d8576b"
            ],
            [
             0.6666666666666666,
             "#ed7953"
            ],
            [
             0.7777777777777778,
             "#fb9f3a"
            ],
            [
             0.8888888888888888,
             "#fdca26"
            ],
            [
             1,
             "#f0f921"
            ]
           ]
          },
          "colorway": [
           "#636efa",
           "#EF553B",
           "#00cc96",
           "#ab63fa",
           "#FFA15A",
           "#19d3f3",
           "#FF6692",
           "#B6E880",
           "#FF97FF",
           "#FECB52"
          ],
          "font": {
           "color": "#2a3f5f"
          },
          "geo": {
           "bgcolor": "white",
           "lakecolor": "white",
           "landcolor": "#E5ECF6",
           "showlakes": true,
           "showland": true,
           "subunitcolor": "white"
          },
          "hoverlabel": {
           "align": "left"
          },
          "hovermode": "closest",
          "mapbox": {
           "style": "light"
          },
          "paper_bgcolor": "white",
          "plot_bgcolor": "#E5ECF6",
          "polar": {
           "angularaxis": {
            "gridcolor": "white",
            "linecolor": "white",
            "ticks": ""
           },
           "bgcolor": "#E5ECF6",
           "radialaxis": {
            "gridcolor": "white",
            "linecolor": "white",
            "ticks": ""
           }
          },
          "scene": {
           "xaxis": {
            "backgroundcolor": "#E5ECF6",
            "gridcolor": "white",
            "gridwidth": 2,
            "linecolor": "white",
            "showbackground": true,
            "ticks": "",
            "zerolinecolor": "white"
           },
           "yaxis": {
            "backgroundcolor": "#E5ECF6",
            "gridcolor": "white",
            "gridwidth": 2,
            "linecolor": "white",
            "showbackground": true,
            "ticks": "",
            "zerolinecolor": "white"
           },
           "zaxis": {
            "backgroundcolor": "#E5ECF6",
            "gridcolor": "white",
            "gridwidth": 2,
            "linecolor": "white",
            "showbackground": true,
            "ticks": "",
            "zerolinecolor": "white"
           }
          },
          "shapedefaults": {
           "line": {
            "color": "#2a3f5f"
           }
          },
          "ternary": {
           "aaxis": {
            "gridcolor": "white",
            "linecolor": "white",
            "ticks": ""
           },
           "baxis": {
            "gridcolor": "white",
            "linecolor": "white",
            "ticks": ""
           },
           "bgcolor": "#E5ECF6",
           "caxis": {
            "gridcolor": "white",
            "linecolor": "white",
            "ticks": ""
           }
          },
          "title": {
           "x": 0.05
          },
          "xaxis": {
           "automargin": true,
           "gridcolor": "white",
           "linecolor": "white",
           "ticks": "",
           "title": {
            "standoff": 15
           },
           "zerolinecolor": "white",
           "zerolinewidth": 2
          },
          "yaxis": {
           "automargin": true,
           "gridcolor": "white",
           "linecolor": "white",
           "ticks": "",
           "title": {
            "standoff": 15
           },
           "zerolinecolor": "white",
           "zerolinewidth": 2
          }
         }
        },
        "title": {
         "text": "Olympic medals"
        }
       }
      },
      "text/html": [
       "<div>                            <div id=\"9c8676a2-90f5-458a-b443-31690f38cad1\" class=\"plotly-graph-div\" style=\"height:525px; width:100%;\"></div>            <script type=\"text/javascript\">                require([\"plotly\"], function(Plotly) {                    window.PLOTLYENV=window.PLOTLYENV || {};                                    if (document.getElementById(\"9c8676a2-90f5-458a-b443-31690f38cad1\")) {                    Plotly.newPlot(                        \"9c8676a2-90f5-458a-b443-31690f38cad1\",                        [{\"marker\": {\"color\": \"#FFD700\"}, \"name\": \"Gold\", \"type\": \"bar\", \"x\": [\"Norway\", \"Germany\", \"Canada\", \"United States\", \"Netherlands\", \"Sweden\", \"Republic of Korea\", \"Switzerland\", \"France\", \"Austria\", \"Japan\", \"Italy\", \"OAR\", \"Czech Republic\", \"Belarus\", \"China\", \"Slovakia\", \"Finland\", \"Great Britain\", \"Poland\", \"Hungary\", \"Ukraine\", \"Australia\", \"Slovenia\", \"Belgium\", \"Spain\", \"New Zealand\", \"Kazakhstan\", \"Latvia\", \"Liechtenstein\"], \"y\": [14, 14, 11, 9, 8, 7, 5, 5, 5, 5, 4, 3, 2, 2, 2, 1, 1, 1, 1, 1, 1, 1, 0, 0, 0, 0, 0, 0, 0, 0]}, {\"marker\": {\"color\": \"#C0C0C0\"}, \"name\": \"Silver\", \"type\": \"bar\", \"x\": [\"Norway\", \"Germany\", \"Canada\", \"United States\", \"Netherlands\", \"Sweden\", \"Republic of Korea\", \"Switzerland\", \"France\", \"Austria\", \"Japan\", \"Italy\", \"OAR\", \"Czech Republic\", \"Belarus\", \"China\", \"Slovakia\", \"Finland\", \"Great Britain\", \"Poland\", \"Hungary\", \"Ukraine\", \"Australia\", \"Slovenia\", \"Belgium\", \"Spain\", \"New Zealand\", \"Kazakhstan\", \"Latvia\", \"Liechtenstein\"], \"y\": [14, 10, 8, 8, 6, 6, 8, 6, 4, 3, 5, 2, 6, 2, 1, 6, 2, 1, 0, 0, 0, 0, 2, 1, 1, 0, 0, 0, 0, 0]}, {\"marker\": {\"color\": \"#CD7F32\"}, \"name\": \"Bronze\", \"type\": \"bar\", \"x\": [\"Norway\", \"Germany\", \"Canada\", \"United States\", \"Netherlands\", \"Sweden\", \"Republic of Korea\", \"Switzerland\", \"France\", \"Austria\", \"Japan\", \"Italy\", \"OAR\", \"Czech Republic\", \"Belarus\", \"China\", \"Slovakia\", \"Finland\", \"Great Britain\", \"Poland\", \"Hungary\", \"Ukraine\", \"Australia\", \"Slovenia\", \"Belgium\", \"Spain\", \"New Zealand\", \"Kazakhstan\", \"Latvia\", \"Liechtenstein\"], \"y\": [11, 7, 10, 6, 6, 1, 4, 4, 6, 6, 4, 5, 9, 3, 0, 2, 0, 4, 4, 1, 0, 0, 1, 1, 0, 2, 2, 1, 1, 1]}],                        {\"template\": {\"data\": {\"bar\": [{\"error_x\": {\"color\": \"#2a3f5f\"}, \"error_y\": {\"color\": \"#2a3f5f\"}, \"marker\": {\"line\": {\"color\": \"#E5ECF6\", \"width\": 0.5}}, \"type\": \"bar\"}], \"barpolar\": [{\"marker\": {\"line\": {\"color\": \"#E5ECF6\", \"width\": 0.5}}, \"type\": \"barpolar\"}], \"carpet\": [{\"aaxis\": {\"endlinecolor\": \"#2a3f5f\", \"gridcolor\": \"white\", \"linecolor\": \"white\", \"minorgridcolor\": \"white\", \"startlinecolor\": \"#2a3f5f\"}, \"baxis\": {\"endlinecolor\": \"#2a3f5f\", \"gridcolor\": \"white\", \"linecolor\": \"white\", \"minorgridcolor\": \"white\", \"startlinecolor\": \"#2a3f5f\"}, \"type\": \"carpet\"}], \"choropleth\": [{\"colorbar\": {\"outlinewidth\": 0, \"ticks\": \"\"}, \"type\": \"choropleth\"}], \"contour\": [{\"colorbar\": {\"outlinewidth\": 0, \"ticks\": \"\"}, \"colorscale\": [[0.0, \"#0d0887\"], [0.1111111111111111, \"#46039f\"], [0.2222222222222222, \"#7201a8\"], [0.3333333333333333, \"#9c179e\"], [0.4444444444444444, \"#bd3786\"], [0.5555555555555556, \"#d8576b\"], [0.6666666666666666, \"#ed7953\"], [0.7777777777777778, \"#fb9f3a\"], [0.8888888888888888, \"#fdca26\"], [1.0, \"#f0f921\"]], \"type\": \"contour\"}], \"contourcarpet\": [{\"colorbar\": {\"outlinewidth\": 0, \"ticks\": \"\"}, \"type\": \"contourcarpet\"}], \"heatmap\": [{\"colorbar\": {\"outlinewidth\": 0, \"ticks\": \"\"}, \"colorscale\": [[0.0, \"#0d0887\"], [0.1111111111111111, \"#46039f\"], [0.2222222222222222, \"#7201a8\"], [0.3333333333333333, \"#9c179e\"], [0.4444444444444444, \"#bd3786\"], [0.5555555555555556, \"#d8576b\"], [0.6666666666666666, \"#ed7953\"], [0.7777777777777778, \"#fb9f3a\"], [0.8888888888888888, \"#fdca26\"], [1.0, \"#f0f921\"]], \"type\": \"heatmap\"}], \"heatmapgl\": [{\"colorbar\": {\"outlinewidth\": 0, \"ticks\": \"\"}, \"colorscale\": [[0.0, \"#0d0887\"], [0.1111111111111111, \"#46039f\"], [0.2222222222222222, \"#7201a8\"], [0.3333333333333333, \"#9c179e\"], [0.4444444444444444, \"#bd3786\"], [0.5555555555555556, \"#d8576b\"], [0.6666666666666666, \"#ed7953\"], [0.7777777777777778, \"#fb9f3a\"], [0.8888888888888888, \"#fdca26\"], [1.0, \"#f0f921\"]], \"type\": \"heatmapgl\"}], \"histogram\": [{\"marker\": {\"colorbar\": {\"outlinewidth\": 0, \"ticks\": \"\"}}, \"type\": \"histogram\"}], \"histogram2d\": [{\"colorbar\": {\"outlinewidth\": 0, \"ticks\": \"\"}, \"colorscale\": [[0.0, \"#0d0887\"], [0.1111111111111111, \"#46039f\"], [0.2222222222222222, \"#7201a8\"], [0.3333333333333333, \"#9c179e\"], [0.4444444444444444, \"#bd3786\"], [0.5555555555555556, \"#d8576b\"], [0.6666666666666666, \"#ed7953\"], [0.7777777777777778, \"#fb9f3a\"], [0.8888888888888888, \"#fdca26\"], [1.0, \"#f0f921\"]], \"type\": \"histogram2d\"}], \"histogram2dcontour\": [{\"colorbar\": {\"outlinewidth\": 0, \"ticks\": \"\"}, \"colorscale\": [[0.0, \"#0d0887\"], [0.1111111111111111, \"#46039f\"], [0.2222222222222222, \"#7201a8\"], [0.3333333333333333, \"#9c179e\"], [0.4444444444444444, \"#bd3786\"], [0.5555555555555556, \"#d8576b\"], [0.6666666666666666, \"#ed7953\"], [0.7777777777777778, \"#fb9f3a\"], [0.8888888888888888, \"#fdca26\"], [1.0, \"#f0f921\"]], \"type\": \"histogram2dcontour\"}], \"mesh3d\": [{\"colorbar\": {\"outlinewidth\": 0, \"ticks\": \"\"}, \"type\": \"mesh3d\"}], \"parcoords\": [{\"line\": {\"colorbar\": {\"outlinewidth\": 0, \"ticks\": \"\"}}, \"type\": \"parcoords\"}], \"pie\": [{\"automargin\": true, \"type\": \"pie\"}], \"scatter\": [{\"marker\": {\"colorbar\": {\"outlinewidth\": 0, \"ticks\": \"\"}}, \"type\": \"scatter\"}], \"scatter3d\": [{\"line\": {\"colorbar\": {\"outlinewidth\": 0, \"ticks\": \"\"}}, \"marker\": {\"colorbar\": {\"outlinewidth\": 0, \"ticks\": \"\"}}, \"type\": \"scatter3d\"}], \"scattercarpet\": [{\"marker\": {\"colorbar\": {\"outlinewidth\": 0, \"ticks\": \"\"}}, \"type\": \"scattercarpet\"}], \"scattergeo\": [{\"marker\": {\"colorbar\": {\"outlinewidth\": 0, \"ticks\": \"\"}}, \"type\": \"scattergeo\"}], \"scattergl\": [{\"marker\": {\"colorbar\": {\"outlinewidth\": 0, \"ticks\": \"\"}}, \"type\": \"scattergl\"}], \"scattermapbox\": [{\"marker\": {\"colorbar\": {\"outlinewidth\": 0, \"ticks\": \"\"}}, \"type\": \"scattermapbox\"}], \"scatterpolar\": [{\"marker\": {\"colorbar\": {\"outlinewidth\": 0, \"ticks\": \"\"}}, \"type\": \"scatterpolar\"}], \"scatterpolargl\": [{\"marker\": {\"colorbar\": {\"outlinewidth\": 0, \"ticks\": \"\"}}, \"type\": \"scatterpolargl\"}], \"scatterternary\": [{\"marker\": {\"colorbar\": {\"outlinewidth\": 0, \"ticks\": \"\"}}, \"type\": \"scatterternary\"}], \"surface\": [{\"colorbar\": {\"outlinewidth\": 0, \"ticks\": \"\"}, \"colorscale\": [[0.0, \"#0d0887\"], [0.1111111111111111, \"#46039f\"], [0.2222222222222222, \"#7201a8\"], [0.3333333333333333, \"#9c179e\"], [0.4444444444444444, \"#bd3786\"], [0.5555555555555556, \"#d8576b\"], [0.6666666666666666, \"#ed7953\"], [0.7777777777777778, \"#fb9f3a\"], [0.8888888888888888, \"#fdca26\"], [1.0, \"#f0f921\"]], \"type\": \"surface\"}], \"table\": [{\"cells\": {\"fill\": {\"color\": \"#EBF0F8\"}, \"line\": {\"color\": \"white\"}}, \"header\": {\"fill\": {\"color\": \"#C8D4E3\"}, \"line\": {\"color\": \"white\"}}, \"type\": \"table\"}]}, \"layout\": {\"annotationdefaults\": {\"arrowcolor\": \"#2a3f5f\", \"arrowhead\": 0, \"arrowwidth\": 1}, \"autotypenumbers\": \"strict\", \"coloraxis\": {\"colorbar\": {\"outlinewidth\": 0, \"ticks\": \"\"}}, \"colorscale\": {\"diverging\": [[0, \"#8e0152\"], [0.1, \"#c51b7d\"], [0.2, \"#de77ae\"], [0.3, \"#f1b6da\"], [0.4, \"#fde0ef\"], [0.5, \"#f7f7f7\"], [0.6, \"#e6f5d0\"], [0.7, \"#b8e186\"], [0.8, \"#7fbc41\"], [0.9, \"#4d9221\"], [1, \"#276419\"]], \"sequential\": [[0.0, \"#0d0887\"], [0.1111111111111111, \"#46039f\"], [0.2222222222222222, \"#7201a8\"], [0.3333333333333333, \"#9c179e\"], [0.4444444444444444, \"#bd3786\"], [0.5555555555555556, \"#d8576b\"], [0.6666666666666666, \"#ed7953\"], [0.7777777777777778, \"#fb9f3a\"], [0.8888888888888888, \"#fdca26\"], [1.0, \"#f0f921\"]], \"sequentialminus\": [[0.0, \"#0d0887\"], [0.1111111111111111, \"#46039f\"], [0.2222222222222222, \"#7201a8\"], [0.3333333333333333, \"#9c179e\"], [0.4444444444444444, \"#bd3786\"], [0.5555555555555556, \"#d8576b\"], [0.6666666666666666, \"#ed7953\"], [0.7777777777777778, \"#fb9f3a\"], [0.8888888888888888, \"#fdca26\"], [1.0, \"#f0f921\"]]}, \"colorway\": [\"#636efa\", \"#EF553B\", \"#00cc96\", \"#ab63fa\", \"#FFA15A\", \"#19d3f3\", \"#FF6692\", \"#B6E880\", \"#FF97FF\", \"#FECB52\"], \"font\": {\"color\": \"#2a3f5f\"}, \"geo\": {\"bgcolor\": \"white\", \"lakecolor\": \"white\", \"landcolor\": \"#E5ECF6\", \"showlakes\": true, \"showland\": true, \"subunitcolor\": \"white\"}, \"hoverlabel\": {\"align\": \"left\"}, \"hovermode\": \"closest\", \"mapbox\": {\"style\": \"light\"}, \"paper_bgcolor\": \"white\", \"plot_bgcolor\": \"#E5ECF6\", \"polar\": {\"angularaxis\": {\"gridcolor\": \"white\", \"linecolor\": \"white\", \"ticks\": \"\"}, \"bgcolor\": \"#E5ECF6\", \"radialaxis\": {\"gridcolor\": \"white\", \"linecolor\": \"white\", \"ticks\": \"\"}}, \"scene\": {\"xaxis\": {\"backgroundcolor\": \"#E5ECF6\", \"gridcolor\": \"white\", \"gridwidth\": 2, \"linecolor\": \"white\", \"showbackground\": true, \"ticks\": \"\", \"zerolinecolor\": \"white\"}, \"yaxis\": {\"backgroundcolor\": \"#E5ECF6\", \"gridcolor\": \"white\", \"gridwidth\": 2, \"linecolor\": \"white\", \"showbackground\": true, \"ticks\": \"\", \"zerolinecolor\": \"white\"}, \"zaxis\": {\"backgroundcolor\": \"#E5ECF6\", \"gridcolor\": \"white\", \"gridwidth\": 2, \"linecolor\": \"white\", \"showbackground\": true, \"ticks\": \"\", \"zerolinecolor\": \"white\"}}, \"shapedefaults\": {\"line\": {\"color\": \"#2a3f5f\"}}, \"ternary\": {\"aaxis\": {\"gridcolor\": \"white\", \"linecolor\": \"white\", \"ticks\": \"\"}, \"baxis\": {\"gridcolor\": \"white\", \"linecolor\": \"white\", \"ticks\": \"\"}, \"bgcolor\": \"#E5ECF6\", \"caxis\": {\"gridcolor\": \"white\", \"linecolor\": \"white\", \"ticks\": \"\"}}, \"title\": {\"x\": 0.05}, \"xaxis\": {\"automargin\": true, \"gridcolor\": \"white\", \"linecolor\": \"white\", \"ticks\": \"\", \"title\": {\"standoff\": 15}, \"zerolinecolor\": \"white\", \"zerolinewidth\": 2}, \"yaxis\": {\"automargin\": true, \"gridcolor\": \"white\", \"linecolor\": \"white\", \"ticks\": \"\", \"title\": {\"standoff\": 15}, \"zerolinecolor\": \"white\", \"zerolinewidth\": 2}}}, \"title\": {\"text\": \"Olympic medals\"}},                        {\"responsive\": true}                    ).then(function(){\n",
       "                            \n",
       "var gd = document.getElementById('9c8676a2-90f5-458a-b443-31690f38cad1');\n",
       "var x = new MutationObserver(function (mutations, observer) {{\n",
       "        var display = window.getComputedStyle(gd).display;\n",
       "        if (!display || display === 'none') {{\n",
       "            console.log([gd, 'removed!']);\n",
       "            Plotly.purge(gd);\n",
       "            observer.disconnect();\n",
       "        }}\n",
       "}});\n",
       "\n",
       "// Listen for the removal of the full notebook cells\n",
       "var notebookContainer = gd.closest('#notebook-container');\n",
       "if (notebookContainer) {{\n",
       "    x.observe(notebookContainer, {childList: true});\n",
       "}}\n",
       "\n",
       "// Listen for the clearing of the current output cell\n",
       "var outputEl = gd.closest('.output');\n",
       "if (outputEl) {{\n",
       "    x.observe(outputEl, {childList: true});\n",
       "}}\n",
       "\n",
       "                        })                };                });            </script>        </div>"
      ]
     },
     "metadata": {},
     "output_type": "display_data"
    }
   ],
   "source": [
    "import pandas as pd\n",
    "import plotly.offline as pyo\n",
    "import plotly.graph_objs as go\n",
    "\n",
    "df = pd.read_csv(\"../../data/bronze/plotlydash/2018WinterOlympics.csv\")\n",
    "trace1 = go.Bar(x=df[\"NOC\"], y=df[\"Gold\"], name=\"Gold\", marker=dict(color=\"#FFD700\"))\n",
    "trace2 = go.Bar(x=df[\"NOC\"], y=df[\"Silver\"], name=\"Silver\", marker=dict(color=\"#C0C0C0\"))\n",
    "trace3 = go.Bar(x=df[\"NOC\"], y=df[\"Bronze\"], name=\"Bronze\", marker=dict(color=\"#CD7F32\"))\n",
    "\n",
    "data = [trace1, trace2, trace3]\n",
    "layout = go.Layout(title=\"Olympic medals\")\n",
    "fig = go.Figure(data=data, layout=layout)\n",
    "pyo.iplot(fig)"
   ]
  },
  {
   "cell_type": "markdown",
   "metadata": {},
   "source": [
    "## bubble plot"
   ]
  },
  {
   "cell_type": "code",
   "execution_count": 36,
   "metadata": {},
   "outputs": [
    {
     "data": {
      "application/vnd.plotly.v1+json": {
       "config": {
        "linkText": "Export to plot.ly",
        "plotlyServerURL": "https://plot.ly",
        "showLink": false
       },
       "data": [
        {
         "marker": {
          "color": [
           8,
           8,
           8,
           8,
           8,
           8,
           8,
           8,
           8,
           8,
           8,
           8,
           8,
           8,
           4,
           6,
           6,
           6,
           4,
           4,
           4,
           4,
           4,
           4,
           6,
           8,
           8,
           8,
           8,
           4,
           4,
           4,
           4,
           6,
           6,
           6,
           6,
           6,
           8,
           8,
           8,
           8,
           8,
           8,
           8,
           6,
           4,
           6,
           6,
           4,
           4,
           4,
           4,
           4,
           4,
           4,
           4,
           4,
           4,
           4,
           4,
           4,
           8,
           8,
           8,
           8,
           8,
           8,
           8,
           8,
           8,
           3,
           8,
           8,
           8,
           8,
           4,
           4,
           4,
           4,
           4,
           4,
           4,
           4,
           4,
           8,
           8,
           8,
           8,
           8,
           8,
           8,
           8,
           8,
           8,
           8,
           8,
           6,
           6,
           6,
           6,
           6,
           4,
           8,
           8,
           8,
           8,
           6,
           4,
           4,
           4,
           3,
           4,
           6,
           4,
           8,
           8,
           4,
           4,
           4,
           4,
           8,
           4,
           6,
           8,
           6,
           6,
           6,
           6,
           4,
           4,
           4,
           4,
           6,
           6,
           6,
           8,
           8,
           8,
           8,
           8,
           4,
           4,
           4,
           4,
           4,
           4,
           4,
           4,
           4,
           4,
           4,
           6,
           6,
           6,
           6,
           8,
           8,
           8,
           8,
           6,
           6,
           6,
           6,
           6,
           8,
           8,
           4,
           4,
           6,
           4,
           4,
           4,
           4,
           6,
           4,
           6,
           4,
           4,
           4,
           4,
           4,
           4,
           4,
           4,
           4,
           4,
           8,
           8,
           8,
           8,
           6,
           6,
           6,
           6,
           4,
           4,
           4,
           4,
           6,
           6,
           6,
           6,
           4,
           4,
           4,
           4,
           4,
           8,
           4,
           6,
           6,
           8,
           8,
           8,
           8,
           4,
           4,
           4,
           4,
           4,
           8,
           8,
           8,
           8,
           6,
           6,
           6,
           6,
           8,
           8,
           8,
           8,
           4,
           4,
           4,
           4,
           4,
           4,
           4,
           4,
           6,
           4,
           3,
           4,
           4,
           4,
           4,
           4,
           8,
           8,
           8,
           6,
           6,
           6,
           4,
           6,
           6,
           6,
           6,
           6,
           6,
           8,
           6,
           8,
           8,
           4,
           4,
           4,
           4,
           4,
           4,
           4,
           4,
           5,
           6,
           4,
           6,
           4,
           4,
           6,
           6,
           4,
           6,
           6,
           8,
           8,
           8,
           8,
           8,
           8,
           8,
           8,
           4,
           4,
           4,
           4,
           5,
           8,
           4,
           8,
           4,
           4,
           4,
           4,
           4,
           6,
           6,
           4,
           4,
           4,
           4,
           4,
           4,
           4,
           4,
           6,
           4,
           4,
           4,
           4,
           4,
           4,
           4,
           4,
           4,
           4,
           5,
           4,
           4,
           4,
           4,
           4,
           6,
           3,
           4,
           4,
           4,
           4,
           4,
           4,
           6,
           4,
           4,
           4,
           4,
           4,
           4,
           4,
           4,
           4,
           4,
           4,
           4,
           4,
           4,
           4,
           4,
           4,
           4,
           6,
           6,
           6,
           6,
           8,
           6,
           6,
           4,
           4,
           4,
           4,
           4,
           4,
           4,
           4,
           4,
           4,
           4,
           4,
           4,
           4,
           4,
           4,
           4,
           4,
           4,
           6,
           6,
           4,
           6,
           4,
           4,
           4,
           4,
           4,
           4,
           4,
           4
          ],
          "showscale": true,
          "size": [
           8.76,
           9.2325,
           8.59,
           8.5825,
           8.6225,
           10.8525,
           10.885,
           10.78,
           11.0625,
           9.625,
           8.9075,
           9.0225,
           9.4025,
           7.715,
           5.93,
           7.0825,
           6.935,
           6.4675,
           5.325,
           4.5875,
           6.68,
           6.075,
           5.9375,
           5.585,
           6.62,
           11.5375,
           10.94,
           10.955,
           11.83,
           5.325,
           5.66,
           5.57,
           5.115,
           6.585,
           8.5975,
           8.3225,
           8.255,
           8.22,
           10.5225,
           11.16,
           10.385,
           10.24,
           12.3875,
           11.865,
           12.85,
           7.405,
           6.02,
           8.205,
           7.8475,
           5.55,
           5.3075,
           5.185,
           5.1625,
           4.4325,
           4.0325,
           4.585,
           4.8875,
           5.695,
           5.315,
           5.635,
           6.02,
           5.565,
           10.685,
           10.9625,
           10.3375,
           10.3225,
           9.18,
           11.5825,
           11.255,
           11.14,
           11.055,
           5.825,
           9.73,
           10.245,
           10.735,
           10.1925,
           7.3325,
           6.2775,
           7.4475,
           5.4725,
           5.9875,
           5.72,
           6.265,
           5.41,
           5.25,
           10.25,
           9.18,
           9.97,
           10.105,
           9.4425,
           12.38,
           11.16,
           10.9075,
           10.5925,
           11.8375,
           12.3775,
           9.5525,
           7.8025,
           8.195,
           7.3625,
           7.5525,
           7.26,
           4.875,
           12.4925,
           12.265,
           11.635,
           11.2475,
           6.9725,
           5.6975,
           6.0025,
           5.9475,
           5.31,
           5.775,
           6.18,
           5.6625,
           10.205,
           10.695,
           4.6675,
           5.395,
           6.455,
           7.17,
           8.4975,
           6.65,
           7.0175,
           9.16,
           7.755,
           7.1875,
           7.2525,
           8.34,
           4.875,
           6.1275,
           4.59,
           6.355,
           9.4525,
           9.08,
           9.0325,
           10.3525,
           11.7475,
           11.1425,
           11.595,
           10.6425,
           5.5475,
           4.9075,
           5.75,
           4.1225,
           5.0075,
           5.3125,
           5.27,
           5.615,
           6.2225,
           5.9775,
           5,
           8.16,
           8.6475,
           8.58,
           7.895,
           11.67,
           11.1,
           11.245,
           11.6425,
           9.7675,
           9.7425,
           9.325,
           9.4625,
           7.5975,
           8.0525,
           7.9225,
           5.4275,
           6.5975,
           7.285,
           6.48,
           6.755,
           5.5575,
           6.3625,
           7.46,
           4.8425,
           8.0275,
           6.735,
           7.3925,
           7.3625,
           6.6775,
           4.4875,
           6.16,
           5.55,
           6.43,
           5.6375,
           5.505,
           10.5375,
           10.475,
           9.905,
           10.5375,
           8.0825,
           8.3825,
           7.53,
           7.7125,
           5.0875,
           5.41,
           4.8425,
           4.4875,
           9.1275,
           8.935,
           9.1125,
           7.9825,
           4.5625,
           4.975,
           5.3875,
           6.4125,
           7.875,
           9.85,
           8.175,
           7.325,
           9.55,
           10.95,
           10.1375,
           9.675,
           9.3875,
           5.1125,
           5.3875,
           4.5625,
           5.75,
           4.8625,
           9.7,
           10.15,
           10.35,
           10.7375,
           8.8,
           8.5625,
           9.075,
           8.8125,
           10.55,
           10.4125,
           10.8125,
           10.8375,
           4.85,
           6.85,
           5.6625,
           6.8875,
           5.1275,
           5.1875,
           4.9625,
           5.475,
           7.0375,
           6.5,
           6.8,
           4.9625,
           4.5,
           4.9625,
           5.175,
           4.5,
           8.4125,
           9.3375,
           8.925,
           8.8375,
           7.8875,
           7.4125,
           6.8,
           8.575,
           8.025,
           8.45,
           7.675,
           9.05,
           8.525,
           8.5625,
           8.6125,
           8.0125,
           10.2,
           5.3875,
           6.4,
           5.75,
           5.575,
           6.2875,
           6.8625,
           7.1375,
           6.0125,
           7.075,
           7.85,
           6.9875,
           8.525,
           4.975,
           5.3375,
           8.1125,
           7.475,
           7.225,
           8.1625,
           8.4,
           9.6,
           9.3125,
           9.8875,
           9.575,
           10.9,
           10.135,
           9.0125,
           9.85,
           4.8125,
           4.9375,
           4.7875,
           6.675,
           8.825,
           9.75,
           7.975,
           8.55,
           5.5,
           5.375,
           5.05,
           5.325,
           6.675,
           6.4875,
           6.75,
           6.39,
           5.36,
           4.92,
           5.3,
           5.0475,
           6.695,
           7.175,
           7.5075,
           8.4525,
           5.47,
           6.7775,
           6.355,
           6.085,
           5.6625,
           5.275,
           7,
           5.275,
           5.2125,
           5.8375,
           7.375,
           8.125,
           4.625,
           4.5875,
           5.3625,
           4.6125,
           7.275,
           6.05,
           6.25,
           7.2625,
           5.725,
           6.225,
           6.5875,
           6.55,
           6.8125,
           5.9625,
           4.3875,
           4.6875,
           4.4,
           5.1625,
           4.9375,
           5.125,
           4.9625,
           5.5375,
           5.1125,
           5.95,
           5.475,
           5.8,
           5.525,
           5.875,
           6.5375,
           6.5875,
           8.075,
           7.9,
           7.25,
           7.325,
           8.5375,
           9.3125,
           7.65,
           8.6625,
           6.5125,
           6.6,
           5.9875,
           6.4375,
           6.3125,
           6.8375,
           7.1625,
           7.5875,
           4.95,
           5.0625,
           4.925,
           5.3125,
           5.3125,
           5.4,
           5.5125,
           5.6125,
           4.9125,
           4.9125,
           4.9875,
           7.3625,
           7.5375,
           6.4625,
           7.0875,
           6.6625,
           5.925,
           7.375,
           6.975,
           5.325,
           5.7375,
           6.5625,
           6.8
          ]
         },
         "mode": "markers",
         "text": [
          "chevrolet chevelle malibu",
          "buick skylark 320",
          "plymouth satellite",
          "amc rebel sst",
          "ford torino",
          "ford galaxie 500",
          "chevrolet impala",
          "plymouth fury iii",
          "pontiac catalina",
          "amc ambassador dpl",
          "dodge challenger se",
          "plymouth 'cuda 340",
          "chevrolet monte carlo",
          "buick estate wagon (sw)",
          "toyota corona mark ii",
          "plymouth duster",
          "amc hornet",
          "ford maverick",
          "datsun pl510",
          "volkswagen 1131 deluxe sedan",
          "peugeot 504",
          "audi 100 ls",
          "saab 99e",
          "bmw 2002",
          "amc gremlin",
          "ford f250",
          "chevy c20",
          "dodge d200",
          "hi 1200d",
          "datsun pl510",
          "chevrolet vega 2300",
          "toyota corona",
          "ford pinto",
          "amc gremlin",
          "plymouth satellite custom",
          "chevrolet chevelle malibu",
          "ford torino 500",
          "amc matador",
          "chevrolet impala",
          "pontiac catalina brougham",
          "ford galaxie 500",
          "plymouth fury iii",
          "dodge monaco (sw)",
          "ford country squire (sw)",
          "pontiac safari (sw)",
          "amc hornet sportabout (sw)",
          "chevrolet vega (sw)",
          "pontiac firebird",
          "ford mustang",
          "mercury capri 2000",
          "opel 1900",
          "peugeot 304",
          "fiat 124b",
          "toyota corolla 1200",
          "datsun 1200",
          "volkswagen model 111",
          "plymouth cricket",
          "toyota corona hardtop",
          "dodge colt hardtop",
          "volkswagen type 3",
          "chevrolet vega",
          "ford pinto runabout",
          "chevrolet impala",
          "pontiac catalina",
          "plymouth fury iii",
          "ford galaxie 500",
          "amc ambassador sst",
          "mercury marquis",
          "buick lesabre custom",
          "oldsmobile delta 88 royale",
          "chrysler newport royal",
          "mazda rx2 coupe",
          "amc matador (sw)",
          "chevrolet chevelle concours (sw)",
          "ford gran torino (sw)",
          "plymouth satellite custom (sw)",
          "volvo 145e (sw)",
          "volkswagen 411 (sw)",
          "peugeot 504 (sw)",
          "renault 12 (sw)",
          "ford pinto (sw)",
          "datsun 510 (sw)",
          "toyouta corona mark ii (sw)",
          "dodge colt (sw)",
          "toyota corolla 1600 (sw)",
          "buick century 350",
          "amc matador",
          "chevrolet malibu",
          "ford gran torino",
          "dodge coronet custom",
          "mercury marquis brougham",
          "chevrolet caprice classic",
          "ford ltd",
          "plymouth fury gran sedan",
          "chrysler new yorker brougham",
          "buick electra 225 custom",
          "amc ambassador brougham",
          "plymouth valiant",
          "chevrolet nova custom",
          "amc hornet",
          "ford maverick",
          "plymouth duster",
          "volkswagen super beetle",
          "chevrolet impala",
          "ford country",
          "plymouth custom suburb",
          "oldsmobile vista cruiser",
          "amc gremlin",
          "toyota carina",
          "chevrolet vega",
          "datsun 610",
          "maxda rx3",
          "ford pinto",
          "mercury capri v6",
          "fiat 124 sport coupe",
          "chevrolet monte carlo s",
          "pontiac grand prix",
          "fiat 128",
          "opel manta",
          "audi 100ls",
          "volvo 144ea",
          "dodge dart custom",
          "saab 99le",
          "toyota mark ii",
          "oldsmobile omega",
          "plymouth duster",
          "ford maverick",
          "amc hornet",
          "chevrolet nova",
          "datsun b210",
          "ford pinto",
          "toyota corolla 1200",
          "chevrolet vega",
          "chevrolet chevelle malibu classic",
          "amc matador",
          "plymouth satellite sebring",
          "ford gran torino",
          "buick century luxus (sw)",
          "dodge coronet custom (sw)",
          "ford gran torino (sw)",
          "amc matador (sw)",
          "audi fox",
          "volkswagen dasher",
          "opel manta",
          "toyota corona",
          "datsun 710",
          "dodge colt",
          "fiat 128",
          "fiat 124 tc",
          "honda civic",
          "subaru",
          "fiat x1.9",
          "plymouth valiant custom",
          "chevrolet nova",
          "mercury monarch",
          "ford maverick",
          "pontiac catalina",
          "chevrolet bel air",
          "plymouth grand fury",
          "ford ltd",
          "buick century",
          "chevroelt chevelle malibu",
          "amc matador",
          "plymouth fury",
          "buick skyhawk",
          "chevrolet monza 2+2",
          "ford mustang ii",
          "toyota corolla",
          "ford pinto",
          "amc gremlin",
          "pontiac astro",
          "toyota corona",
          "volkswagen dasher",
          "datsun 710",
          "ford pinto",
          "volkswagen rabbit",
          "amc pacer",
          "audi 100ls",
          "peugeot 504",
          "volvo 244dl",
          "saab 99le",
          "honda civic cvcc",
          "fiat 131",
          "opel 1900",
          "capri ii",
          "dodge colt",
          "renault 12tl",
          "chevrolet chevelle malibu classic",
          "dodge coronet brougham",
          "amc matador",
          "ford gran torino",
          "plymouth valiant",
          "chevrolet nova",
          "ford maverick",
          "amc hornet",
          "chevrolet chevette",
          "chevrolet woody",
          "vw rabbit",
          "honda civic",
          "dodge aspen se",
          "ford granada ghia",
          "pontiac ventura sj",
          "amc pacer d/l",
          "volkswagen rabbit",
          "datsun b-210",
          "toyota corolla",
          "ford pinto",
          "volvo 245",
          "plymouth volare premier v8",
          "peugeot 504",
          "toyota mark ii",
          "mercedes-benz 280s",
          "cadillac seville",
          "chevy c10",
          "ford f108",
          "dodge d100",
          "honda accord cvcc",
          "buick opel isuzu deluxe",
          "renault 5 gtl",
          "plymouth arrow gs",
          "datsun f-10 hatchback",
          "chevrolet caprice classic",
          "oldsmobile cutlass supreme",
          "dodge monaco brougham",
          "mercury cougar brougham",
          "chevrolet concours",
          "buick skylark",
          "plymouth volare custom",
          "ford granada",
          "pontiac grand prix lj",
          "chevrolet monte carlo landau",
          "chrysler cordoba",
          "ford thunderbird",
          "volkswagen rabbit custom",
          "pontiac sunbird coupe",
          "toyota corolla liftback",
          "ford mustang ii 2+2",
          "chevrolet chevette",
          "dodge colt m/m",
          "subaru dl",
          "volkswagen dasher",
          "datsun 810",
          "bmw 320i",
          "mazda rx-4",
          "volkswagen rabbit custom diesel",
          "ford fiesta",
          "mazda glc deluxe",
          "datsun b210 gx",
          "honda civic cvcc",
          "oldsmobile cutlass salon brougham",
          "dodge diplomat",
          "mercury monarch ghia",
          "pontiac phoenix lj",
          "chevrolet malibu",
          "ford fairmont (auto)",
          "ford fairmont (man)",
          "plymouth volare",
          "amc concord",
          "buick century special",
          "mercury zephyr",
          "dodge aspen",
          "amc concord d/l",
          "chevrolet monte carlo landau",
          "buick regal sport coupe (turbo)",
          "ford futura",
          "dodge magnum xe",
          "chevrolet chevette",
          "toyota corona",
          "datsun 510",
          "dodge omni",
          "toyota celica gt liftback",
          "plymouth sapporo",
          "oldsmobile starfire sx",
          "datsun 200-sx",
          "audi 5000",
          "volvo 264gl",
          "saab 99gle",
          "peugeot 604sl",
          "volkswagen scirocco",
          "honda accord lx",
          "pontiac lemans v6",
          "mercury zephyr 6",
          "ford fairmont 4",
          "amc concord dl 6",
          "dodge aspen 6",
          "chevrolet caprice classic",
          "ford ltd landau",
          "mercury grand marquis",
          "dodge st. regis",
          "buick estate wagon (sw)",
          "ford country squire (sw)",
          "chevrolet malibu classic (sw)",
          "chrysler lebaron town @ country (sw)",
          "vw rabbit custom",
          "maxda glc deluxe",
          "dodge colt hatchback custom",
          "amc spirit dl",
          "mercedes benz 300d",
          "cadillac eldorado",
          "peugeot 504",
          "oldsmobile cutlass salon brougham",
          "plymouth horizon",
          "plymouth horizon tc3",
          "datsun 210",
          "fiat strada custom",
          "buick skylark limited",
          "chevrolet citation",
          "oldsmobile omega brougham",
          "pontiac phoenix",
          "vw rabbit",
          "toyota corolla tercel",
          "chevrolet chevette",
          "datsun 310",
          "chevrolet citation",
          "ford fairmont",
          "amc concord",
          "dodge aspen",
          "audi 4000",
          "toyota corona liftback",
          "mazda 626",
          "datsun 510 hatchback",
          "toyota corolla",
          "mazda glc",
          "dodge colt",
          "datsun 210",
          "vw rabbit c (diesel)",
          "vw dasher (diesel)",
          "audi 5000s (diesel)",
          "mercedes-benz 240d",
          "honda civic 1500 gl",
          "renault lecar deluxe",
          "subaru dl",
          "vokswagen rabbit",
          "datsun 280-zx",
          "mazda rx-7 gs",
          "triumph tr7 coupe",
          "ford mustang cobra",
          "honda accord",
          "plymouth reliant",
          "buick skylark",
          "dodge aries wagon (sw)",
          "chevrolet citation",
          "plymouth reliant",
          "toyota starlet",
          "plymouth champ",
          "honda civic 1300",
          "subaru",
          "datsun 210 mpg",
          "toyota tercel",
          "mazda glc 4",
          "plymouth horizon 4",
          "ford escort 4w",
          "ford escort 2h",
          "volkswagen jetta",
          "renault 18i",
          "honda prelude",
          "toyota corolla",
          "datsun 200sx",
          "mazda 626",
          "peugeot 505s turbo diesel",
          "volvo diesel",
          "toyota cressida",
          "datsun 810 maxima",
          "buick century",
          "oldsmobile cutlass ls",
          "ford granada gl",
          "chrysler lebaron salon",
          "chevrolet cavalier",
          "chevrolet cavalier wagon",
          "chevrolet cavalier 2-door",
          "pontiac j2000 se hatchback",
          "dodge aries se",
          "pontiac phoenix",
          "ford fairmont futura",
          "amc concord dl",
          "volkswagen rabbit l",
          "mazda glc custom l",
          "mazda glc custom",
          "plymouth horizon miser",
          "mercury lynx l",
          "nissan stanza xe",
          "honda accord",
          "toyota corolla",
          "honda civic",
          "honda civic (auto)",
          "datsun 310 gx",
          "buick century limited",
          "oldsmobile cutlass ciera (diesel)",
          "chrysler lebaron medallion",
          "ford granada l",
          "toyota celica gt",
          "dodge charger 2.2",
          "chevrolet camaro",
          "ford mustang gl",
          "vw pickup",
          "dodge rampage",
          "ford ranger",
          "chevy s-10"
         ],
         "type": "scatter",
         "x": [
          307,
          350,
          318,
          304,
          302,
          429,
          454,
          440,
          455,
          390,
          383,
          340,
          400,
          455,
          113,
          198,
          199,
          200,
          97,
          97,
          110,
          107,
          104,
          121,
          199,
          360,
          307,
          318,
          304,
          97,
          140,
          113,
          98,
          232,
          225,
          250,
          250,
          232,
          350,
          400,
          351,
          318,
          383,
          400,
          400,
          258,
          140,
          250,
          250,
          122,
          116,
          79,
          88,
          71,
          72,
          97,
          91,
          113,
          97.5,
          97,
          140,
          122,
          350,
          400,
          318,
          351,
          304,
          429,
          350,
          350,
          400,
          70,
          304,
          307,
          302,
          318,
          121,
          121,
          120,
          96,
          122,
          97,
          120,
          98,
          97,
          350,
          304,
          350,
          302,
          318,
          429,
          400,
          351,
          318,
          440,
          455,
          360,
          225,
          250,
          232,
          250,
          198,
          97,
          400,
          400,
          360,
          350,
          232,
          97,
          140,
          108,
          70,
          122,
          155,
          98,
          350,
          400,
          68,
          116,
          114,
          121,
          318,
          121,
          156,
          350,
          198,
          200,
          232,
          250,
          79,
          122,
          71,
          140,
          250,
          258,
          225,
          302,
          350,
          318,
          302,
          304,
          98,
          79,
          97,
          76,
          83,
          90,
          90,
          116,
          120,
          108,
          79,
          225,
          250,
          250,
          250,
          400,
          350,
          318,
          351,
          231,
          250,
          258,
          225,
          231,
          262,
          302,
          97,
          140,
          232,
          140,
          134,
          90,
          119,
          171,
          90,
          232,
          115,
          120,
          121,
          121,
          91,
          107,
          116,
          140,
          98,
          101,
          305,
          318,
          304,
          351,
          225,
          250,
          200,
          232,
          85,
          98,
          90,
          91,
          225,
          250,
          250,
          258,
          97,
          85,
          97,
          140,
          130,
          318,
          120,
          156,
          168,
          350,
          350,
          302,
          318,
          98,
          111,
          79,
          122,
          85,
          305,
          260,
          318,
          302,
          250,
          231,
          225,
          250,
          400,
          350,
          400,
          351,
          97,
          151,
          97,
          140,
          98,
          98,
          97,
          97,
          146,
          121,
          80,
          90,
          98,
          78,
          85,
          91,
          260,
          318,
          302,
          231,
          200,
          200,
          140,
          225,
          232,
          231,
          200,
          225,
          258,
          305,
          231,
          302,
          318,
          98,
          134,
          119,
          105,
          134,
          156,
          151,
          119,
          131,
          163,
          121,
          163,
          89,
          98,
          231,
          200,
          140,
          232,
          225,
          305,
          302,
          351,
          318,
          350,
          351,
          267,
          360,
          89,
          86,
          98,
          121,
          183,
          350,
          141,
          260,
          105,
          105,
          85,
          91,
          151,
          173,
          173,
          151,
          98,
          89,
          98,
          86,
          151,
          140,
          151,
          225,
          97,
          134,
          120,
          119,
          108,
          86,
          156,
          85,
          90,
          90,
          121,
          146,
          91,
          85,
          97,
          89,
          168,
          70,
          122,
          140,
          107,
          135,
          151,
          156,
          173,
          135,
          79,
          86,
          81,
          97,
          85,
          89,
          91,
          105,
          98,
          98,
          105,
          100,
          107,
          108,
          119,
          120,
          141,
          145,
          168,
          146,
          231,
          350,
          200,
          225,
          112,
          112,
          112,
          112,
          135,
          151,
          140,
          151,
          105,
          91,
          91,
          105,
          98,
          120,
          107,
          108,
          91,
          91,
          91,
          181,
          262,
          156,
          232,
          144,
          135,
          151,
          140,
          97,
          135,
          120,
          119
         ],
         "y": [
          12,
          11.5,
          11,
          12,
          10.5,
          10,
          9,
          8.5,
          10,
          8.5,
          10,
          8,
          9.5,
          10,
          15,
          15.5,
          15.5,
          16,
          14.5,
          20.5,
          17.5,
          14.5,
          17.5,
          12.5,
          15,
          14,
          15,
          13.5,
          18.5,
          14.5,
          15.5,
          14,
          19,
          13,
          15.5,
          15.5,
          15.5,
          15.5,
          12,
          11.5,
          13.5,
          13,
          11.5,
          12,
          12,
          13.5,
          19,
          15,
          14.5,
          14,
          14,
          19.5,
          14.5,
          19,
          18,
          19,
          20.5,
          15.5,
          17,
          23.5,
          19.5,
          16.5,
          12,
          12,
          13.5,
          13,
          11.5,
          11,
          13.5,
          13.5,
          12.5,
          13.5,
          12.5,
          14,
          16,
          14,
          14.5,
          18,
          19.5,
          18,
          16,
          17,
          14.5,
          15,
          16.5,
          13,
          11.5,
          13,
          14.5,
          12.5,
          11.5,
          12,
          13,
          14.5,
          11,
          11,
          11,
          16.5,
          18,
          16,
          16.5,
          16,
          21,
          14,
          12.5,
          13,
          12.5,
          15,
          19,
          19.5,
          16.5,
          13.5,
          18.5,
          14,
          15.5,
          13,
          9.5,
          19.5,
          15.5,
          14,
          15.5,
          11,
          14,
          13.5,
          11,
          16.5,
          17,
          16,
          17,
          19,
          16.5,
          21,
          17,
          17,
          18,
          16.5,
          14,
          14.5,
          13.5,
          16,
          15.5,
          16.5,
          15.5,
          14.5,
          16.5,
          19,
          14.5,
          15.5,
          14,
          15,
          15.5,
          16,
          16,
          16,
          21,
          19.5,
          11.5,
          14,
          14.5,
          13.5,
          21,
          18.5,
          19,
          19,
          15,
          13.5,
          12,
          16,
          17,
          16,
          18.5,
          13.5,
          16.5,
          17,
          14.5,
          14,
          17,
          15,
          17,
          14.5,
          13.5,
          17.5,
          15.5,
          16.9,
          14.9,
          17.7,
          15.3,
          13,
          13,
          13.9,
          12.8,
          15.4,
          14.5,
          17.6,
          17.6,
          22.2,
          22.1,
          14.2,
          17.4,
          17.7,
          21,
          16.2,
          17.8,
          12.2,
          17,
          16.4,
          13.6,
          15.7,
          13.2,
          21.9,
          15.5,
          16.7,
          12.1,
          12,
          15,
          14,
          18.5,
          14.8,
          18.6,
          15.5,
          16.8,
          12.5,
          19,
          13.7,
          14.9,
          16.4,
          16.9,
          17.7,
          19,
          11.1,
          11.4,
          12.2,
          14.5,
          14.5,
          16,
          18.2,
          15.8,
          17,
          15.9,
          16.4,
          14.1,
          14.5,
          12.8,
          13.5,
          21.5,
          14.4,
          19.4,
          18.6,
          16.4,
          15.5,
          13.2,
          12.8,
          19.2,
          18.2,
          15.8,
          15.4,
          17.2,
          17.2,
          15.8,
          16.7,
          18.7,
          15.1,
          13.2,
          13.4,
          11.2,
          13.7,
          16.5,
          14.2,
          14.7,
          14.5,
          14.8,
          16.7,
          17.6,
          14.9,
          15.9,
          13.6,
          15.7,
          15.8,
          14.9,
          16.6,
          15.4,
          18.2,
          17.3,
          18.2,
          16.6,
          15.4,
          13.4,
          13.2,
          15.2,
          14.9,
          14.3,
          15,
          13,
          14,
          15.2,
          14.4,
          15,
          20.1,
          17.4,
          24.8,
          22.2,
          13.2,
          14.9,
          19.2,
          14.7,
          16,
          11.3,
          12.9,
          13.2,
          14.7,
          18.8,
          15.5,
          16.4,
          16.5,
          18.1,
          20.1,
          18.7,
          15.8,
          15.5,
          17.5,
          15,
          15.2,
          17.9,
          14.4,
          19.2,
          21.7,
          23.7,
          19.9,
          21.8,
          13.8,
          17.3,
          18,
          15.3,
          11.4,
          12.5,
          15.1,
          14.3,
          17,
          15.7,
          16.4,
          14.4,
          12.6,
          12.9,
          16.9,
          16.4,
          16.1,
          17.8,
          19.4,
          17.3,
          16,
          14.9,
          16.2,
          20.7,
          14.2,
          15.8,
          14.4,
          16.8,
          14.8,
          18.3,
          20.4,
          19.6,
          12.6,
          13.8,
          15.8,
          19,
          17.1,
          16.6,
          19.6,
          18.6,
          18,
          16.2,
          16,
          18,
          16.4,
          20.5,
          15.3,
          18.2,
          17.6,
          14.7,
          17.3,
          14.5,
          14.5,
          16.9,
          15,
          15.7,
          16.2,
          16.4,
          17,
          14.5,
          14.7,
          13.9,
          13,
          17.3,
          15.6,
          24.6,
          11.6,
          18.6,
          19.4
         ]
        }
       ],
       "layout": {
        "hovermode": "closest",
        "template": {
         "data": {
          "bar": [
           {
            "error_x": {
             "color": "#2a3f5f"
            },
            "error_y": {
             "color": "#2a3f5f"
            },
            "marker": {
             "line": {
              "color": "#E5ECF6",
              "width": 0.5
             }
            },
            "type": "bar"
           }
          ],
          "barpolar": [
           {
            "marker": {
             "line": {
              "color": "#E5ECF6",
              "width": 0.5
             }
            },
            "type": "barpolar"
           }
          ],
          "carpet": [
           {
            "aaxis": {
             "endlinecolor": "#2a3f5f",
             "gridcolor": "white",
             "linecolor": "white",
             "minorgridcolor": "white",
             "startlinecolor": "#2a3f5f"
            },
            "baxis": {
             "endlinecolor": "#2a3f5f",
             "gridcolor": "white",
             "linecolor": "white",
             "minorgridcolor": "white",
             "startlinecolor": "#2a3f5f"
            },
            "type": "carpet"
           }
          ],
          "choropleth": [
           {
            "colorbar": {
             "outlinewidth": 0,
             "ticks": ""
            },
            "type": "choropleth"
           }
          ],
          "contour": [
           {
            "colorbar": {
             "outlinewidth": 0,
             "ticks": ""
            },
            "colorscale": [
             [
              0,
              "#0d0887"
             ],
             [
              0.1111111111111111,
              "#46039f"
             ],
             [
              0.2222222222222222,
              "#7201a8"
             ],
             [
              0.3333333333333333,
              "#9c179e"
             ],
             [
              0.4444444444444444,
              "#bd3786"
             ],
             [
              0.5555555555555556,
              "#d8576b"
             ],
             [
              0.6666666666666666,
              "#ed7953"
             ],
             [
              0.7777777777777778,
              "#fb9f3a"
             ],
             [
              0.8888888888888888,
              "#fdca26"
             ],
             [
              1,
              "#f0f921"
             ]
            ],
            "type": "contour"
           }
          ],
          "contourcarpet": [
           {
            "colorbar": {
             "outlinewidth": 0,
             "ticks": ""
            },
            "type": "contourcarpet"
           }
          ],
          "heatmap": [
           {
            "colorbar": {
             "outlinewidth": 0,
             "ticks": ""
            },
            "colorscale": [
             [
              0,
              "#0d0887"
             ],
             [
              0.1111111111111111,
              "#46039f"
             ],
             [
              0.2222222222222222,
              "#7201a8"
             ],
             [
              0.3333333333333333,
              "#9c179e"
             ],
             [
              0.4444444444444444,
              "#bd3786"
             ],
             [
              0.5555555555555556,
              "#d8576b"
             ],
             [
              0.6666666666666666,
              "#ed7953"
             ],
             [
              0.7777777777777778,
              "#fb9f3a"
             ],
             [
              0.8888888888888888,
              "#fdca26"
             ],
             [
              1,
              "#f0f921"
             ]
            ],
            "type": "heatmap"
           }
          ],
          "heatmapgl": [
           {
            "colorbar": {
             "outlinewidth": 0,
             "ticks": ""
            },
            "colorscale": [
             [
              0,
              "#0d0887"
             ],
             [
              0.1111111111111111,
              "#46039f"
             ],
             [
              0.2222222222222222,
              "#7201a8"
             ],
             [
              0.3333333333333333,
              "#9c179e"
             ],
             [
              0.4444444444444444,
              "#bd3786"
             ],
             [
              0.5555555555555556,
              "#d8576b"
             ],
             [
              0.6666666666666666,
              "#ed7953"
             ],
             [
              0.7777777777777778,
              "#fb9f3a"
             ],
             [
              0.8888888888888888,
              "#fdca26"
             ],
             [
              1,
              "#f0f921"
             ]
            ],
            "type": "heatmapgl"
           }
          ],
          "histogram": [
           {
            "marker": {
             "colorbar": {
              "outlinewidth": 0,
              "ticks": ""
             }
            },
            "type": "histogram"
           }
          ],
          "histogram2d": [
           {
            "colorbar": {
             "outlinewidth": 0,
             "ticks": ""
            },
            "colorscale": [
             [
              0,
              "#0d0887"
             ],
             [
              0.1111111111111111,
              "#46039f"
             ],
             [
              0.2222222222222222,
              "#7201a8"
             ],
             [
              0.3333333333333333,
              "#9c179e"
             ],
             [
              0.4444444444444444,
              "#bd3786"
             ],
             [
              0.5555555555555556,
              "#d8576b"
             ],
             [
              0.6666666666666666,
              "#ed7953"
             ],
             [
              0.7777777777777778,
              "#fb9f3a"
             ],
             [
              0.8888888888888888,
              "#fdca26"
             ],
             [
              1,
              "#f0f921"
             ]
            ],
            "type": "histogram2d"
           }
          ],
          "histogram2dcontour": [
           {
            "colorbar": {
             "outlinewidth": 0,
             "ticks": ""
            },
            "colorscale": [
             [
              0,
              "#0d0887"
             ],
             [
              0.1111111111111111,
              "#46039f"
             ],
             [
              0.2222222222222222,
              "#7201a8"
             ],
             [
              0.3333333333333333,
              "#9c179e"
             ],
             [
              0.4444444444444444,
              "#bd3786"
             ],
             [
              0.5555555555555556,
              "#d8576b"
             ],
             [
              0.6666666666666666,
              "#ed7953"
             ],
             [
              0.7777777777777778,
              "#fb9f3a"
             ],
             [
              0.8888888888888888,
              "#fdca26"
             ],
             [
              1,
              "#f0f921"
             ]
            ],
            "type": "histogram2dcontour"
           }
          ],
          "mesh3d": [
           {
            "colorbar": {
             "outlinewidth": 0,
             "ticks": ""
            },
            "type": "mesh3d"
           }
          ],
          "parcoords": [
           {
            "line": {
             "colorbar": {
              "outlinewidth": 0,
              "ticks": ""
             }
            },
            "type": "parcoords"
           }
          ],
          "pie": [
           {
            "automargin": true,
            "type": "pie"
           }
          ],
          "scatter": [
           {
            "marker": {
             "colorbar": {
              "outlinewidth": 0,
              "ticks": ""
             }
            },
            "type": "scatter"
           }
          ],
          "scatter3d": [
           {
            "line": {
             "colorbar": {
              "outlinewidth": 0,
              "ticks": ""
             }
            },
            "marker": {
             "colorbar": {
              "outlinewidth": 0,
              "ticks": ""
             }
            },
            "type": "scatter3d"
           }
          ],
          "scattercarpet": [
           {
            "marker": {
             "colorbar": {
              "outlinewidth": 0,
              "ticks": ""
             }
            },
            "type": "scattercarpet"
           }
          ],
          "scattergeo": [
           {
            "marker": {
             "colorbar": {
              "outlinewidth": 0,
              "ticks": ""
             }
            },
            "type": "scattergeo"
           }
          ],
          "scattergl": [
           {
            "marker": {
             "colorbar": {
              "outlinewidth": 0,
              "ticks": ""
             }
            },
            "type": "scattergl"
           }
          ],
          "scattermapbox": [
           {
            "marker": {
             "colorbar": {
              "outlinewidth": 0,
              "ticks": ""
             }
            },
            "type": "scattermapbox"
           }
          ],
          "scatterpolar": [
           {
            "marker": {
             "colorbar": {
              "outlinewidth": 0,
              "ticks": ""
             }
            },
            "type": "scatterpolar"
           }
          ],
          "scatterpolargl": [
           {
            "marker": {
             "colorbar": {
              "outlinewidth": 0,
              "ticks": ""
             }
            },
            "type": "scatterpolargl"
           }
          ],
          "scatterternary": [
           {
            "marker": {
             "colorbar": {
              "outlinewidth": 0,
              "ticks": ""
             }
            },
            "type": "scatterternary"
           }
          ],
          "surface": [
           {
            "colorbar": {
             "outlinewidth": 0,
             "ticks": ""
            },
            "colorscale": [
             [
              0,
              "#0d0887"
             ],
             [
              0.1111111111111111,
              "#46039f"
             ],
             [
              0.2222222222222222,
              "#7201a8"
             ],
             [
              0.3333333333333333,
              "#9c179e"
             ],
             [
              0.4444444444444444,
              "#bd3786"
             ],
             [
              0.5555555555555556,
              "#d8576b"
             ],
             [
              0.6666666666666666,
              "#ed7953"
             ],
             [
              0.7777777777777778,
              "#fb9f3a"
             ],
             [
              0.8888888888888888,
              "#fdca26"
             ],
             [
              1,
              "#f0f921"
             ]
            ],
            "type": "surface"
           }
          ],
          "table": [
           {
            "cells": {
             "fill": {
              "color": "#EBF0F8"
             },
             "line": {
              "color": "white"
             }
            },
            "header": {
             "fill": {
              "color": "#C8D4E3"
             },
             "line": {
              "color": "white"
             }
            },
            "type": "table"
           }
          ]
         },
         "layout": {
          "annotationdefaults": {
           "arrowcolor": "#2a3f5f",
           "arrowhead": 0,
           "arrowwidth": 1
          },
          "autotypenumbers": "strict",
          "coloraxis": {
           "colorbar": {
            "outlinewidth": 0,
            "ticks": ""
           }
          },
          "colorscale": {
           "diverging": [
            [
             0,
             "#8e0152"
            ],
            [
             0.1,
             "#c51b7d"
            ],
            [
             0.2,
             "#de77ae"
            ],
            [
             0.3,
             "#f1b6da"
            ],
            [
             0.4,
             "#fde0ef"
            ],
            [
             0.5,
             "#f7f7f7"
            ],
            [
             0.6,
             "#e6f5d0"
            ],
            [
             0.7,
             "#b8e186"
            ],
            [
             0.8,
             "#7fbc41"
            ],
            [
             0.9,
             "#4d9221"
            ],
            [
             1,
             "#276419"
            ]
           ],
           "sequential": [
            [
             0,
             "#0d0887"
            ],
            [
             0.1111111111111111,
             "#46039f"
            ],
            [
             0.2222222222222222,
             "#7201a8"
            ],
            [
             0.3333333333333333,
             "#9c179e"
            ],
            [
             0.4444444444444444,
             "#bd3786"
            ],
            [
             0.5555555555555556,
             "#d8576b"
            ],
            [
             0.6666666666666666,
             "#ed7953"
            ],
            [
             0.7777777777777778,
             "#fb9f3a"
            ],
            [
             0.8888888888888888,
             "#fdca26"
            ],
            [
             1,
             "#f0f921"
            ]
           ],
           "sequentialminus": [
            [
             0,
             "#0d0887"
            ],
            [
             0.1111111111111111,
             "#46039f"
            ],
            [
             0.2222222222222222,
             "#7201a8"
            ],
            [
             0.3333333333333333,
             "#9c179e"
            ],
            [
             0.4444444444444444,
             "#bd3786"
            ],
            [
             0.5555555555555556,
             "#d8576b"
            ],
            [
             0.6666666666666666,
             "#ed7953"
            ],
            [
             0.7777777777777778,
             "#fb9f3a"
            ],
            [
             0.8888888888888888,
             "#fdca26"
            ],
            [
             1,
             "#f0f921"
            ]
           ]
          },
          "colorway": [
           "#636efa",
           "#EF553B",
           "#00cc96",
           "#ab63fa",
           "#FFA15A",
           "#19d3f3",
           "#FF6692",
           "#B6E880",
           "#FF97FF",
           "#FECB52"
          ],
          "font": {
           "color": "#2a3f5f"
          },
          "geo": {
           "bgcolor": "white",
           "lakecolor": "white",
           "landcolor": "#E5ECF6",
           "showlakes": true,
           "showland": true,
           "subunitcolor": "white"
          },
          "hoverlabel": {
           "align": "left"
          },
          "hovermode": "closest",
          "mapbox": {
           "style": "light"
          },
          "paper_bgcolor": "white",
          "plot_bgcolor": "#E5ECF6",
          "polar": {
           "angularaxis": {
            "gridcolor": "white",
            "linecolor": "white",
            "ticks": ""
           },
           "bgcolor": "#E5ECF6",
           "radialaxis": {
            "gridcolor": "white",
            "linecolor": "white",
            "ticks": ""
           }
          },
          "scene": {
           "xaxis": {
            "backgroundcolor": "#E5ECF6",
            "gridcolor": "white",
            "gridwidth": 2,
            "linecolor": "white",
            "showbackground": true,
            "ticks": "",
            "zerolinecolor": "white"
           },
           "yaxis": {
            "backgroundcolor": "#E5ECF6",
            "gridcolor": "white",
            "gridwidth": 2,
            "linecolor": "white",
            "showbackground": true,
            "ticks": "",
            "zerolinecolor": "white"
           },
           "zaxis": {
            "backgroundcolor": "#E5ECF6",
            "gridcolor": "white",
            "gridwidth": 2,
            "linecolor": "white",
            "showbackground": true,
            "ticks": "",
            "zerolinecolor": "white"
           }
          },
          "shapedefaults": {
           "line": {
            "color": "#2a3f5f"
           }
          },
          "ternary": {
           "aaxis": {
            "gridcolor": "white",
            "linecolor": "white",
            "ticks": ""
           },
           "baxis": {
            "gridcolor": "white",
            "linecolor": "white",
            "ticks": ""
           },
           "bgcolor": "#E5ECF6",
           "caxis": {
            "gridcolor": "white",
            "linecolor": "white",
            "ticks": ""
           }
          },
          "title": {
           "x": 0.05
          },
          "xaxis": {
           "automargin": true,
           "gridcolor": "white",
           "linecolor": "white",
           "ticks": "",
           "title": {
            "standoff": 15
           },
           "zerolinecolor": "white",
           "zerolinewidth": 2
          },
          "yaxis": {
           "automargin": true,
           "gridcolor": "white",
           "linecolor": "white",
           "ticks": "",
           "title": {
            "standoff": 15
           },
           "zerolinecolor": "white",
           "zerolinewidth": 2
          }
         }
        },
        "title": {
         "text": "Vehicles Bubble Chart"
        },
        "xaxis": {
         "title": {
          "text": "displacement"
         }
        },
        "yaxis": {
         "title": {
          "text": "acceleration"
         }
        }
       }
      },
      "text/html": [
       "<div>                            <div id=\"e349c4f4-7e36-4cbe-9100-c9e3adfe526b\" class=\"plotly-graph-div\" style=\"height:525px; width:100%;\"></div>            <script type=\"text/javascript\">                require([\"plotly\"], function(Plotly) {                    window.PLOTLYENV=window.PLOTLYENV || {};                                    if (document.getElementById(\"e349c4f4-7e36-4cbe-9100-c9e3adfe526b\")) {                    Plotly.newPlot(                        \"e349c4f4-7e36-4cbe-9100-c9e3adfe526b\",                        [{\"marker\": {\"color\": [8, 8, 8, 8, 8, 8, 8, 8, 8, 8, 8, 8, 8, 8, 4, 6, 6, 6, 4, 4, 4, 4, 4, 4, 6, 8, 8, 8, 8, 4, 4, 4, 4, 6, 6, 6, 6, 6, 8, 8, 8, 8, 8, 8, 8, 6, 4, 6, 6, 4, 4, 4, 4, 4, 4, 4, 4, 4, 4, 4, 4, 4, 8, 8, 8, 8, 8, 8, 8, 8, 8, 3, 8, 8, 8, 8, 4, 4, 4, 4, 4, 4, 4, 4, 4, 8, 8, 8, 8, 8, 8, 8, 8, 8, 8, 8, 8, 6, 6, 6, 6, 6, 4, 8, 8, 8, 8, 6, 4, 4, 4, 3, 4, 6, 4, 8, 8, 4, 4, 4, 4, 8, 4, 6, 8, 6, 6, 6, 6, 4, 4, 4, 4, 6, 6, 6, 8, 8, 8, 8, 8, 4, 4, 4, 4, 4, 4, 4, 4, 4, 4, 4, 6, 6, 6, 6, 8, 8, 8, 8, 6, 6, 6, 6, 6, 8, 8, 4, 4, 6, 4, 4, 4, 4, 6, 4, 6, 4, 4, 4, 4, 4, 4, 4, 4, 4, 4, 8, 8, 8, 8, 6, 6, 6, 6, 4, 4, 4, 4, 6, 6, 6, 6, 4, 4, 4, 4, 4, 8, 4, 6, 6, 8, 8, 8, 8, 4, 4, 4, 4, 4, 8, 8, 8, 8, 6, 6, 6, 6, 8, 8, 8, 8, 4, 4, 4, 4, 4, 4, 4, 4, 6, 4, 3, 4, 4, 4, 4, 4, 8, 8, 8, 6, 6, 6, 4, 6, 6, 6, 6, 6, 6, 8, 6, 8, 8, 4, 4, 4, 4, 4, 4, 4, 4, 5, 6, 4, 6, 4, 4, 6, 6, 4, 6, 6, 8, 8, 8, 8, 8, 8, 8, 8, 4, 4, 4, 4, 5, 8, 4, 8, 4, 4, 4, 4, 4, 6, 6, 4, 4, 4, 4, 4, 4, 4, 4, 6, 4, 4, 4, 4, 4, 4, 4, 4, 4, 4, 5, 4, 4, 4, 4, 4, 6, 3, 4, 4, 4, 4, 4, 4, 6, 4, 4, 4, 4, 4, 4, 4, 4, 4, 4, 4, 4, 4, 4, 4, 4, 4, 4, 6, 6, 6, 6, 8, 6, 6, 4, 4, 4, 4, 4, 4, 4, 4, 4, 4, 4, 4, 4, 4, 4, 4, 4, 4, 4, 6, 6, 4, 6, 4, 4, 4, 4, 4, 4, 4, 4], \"showscale\": true, \"size\": [8.76, 9.2325, 8.59, 8.5825, 8.6225, 10.8525, 10.885, 10.78, 11.0625, 9.625, 8.9075, 9.0225, 9.4025, 7.715, 5.93, 7.0825, 6.935, 6.4675, 5.325, 4.5875, 6.68, 6.075, 5.9375, 5.585, 6.62, 11.5375, 10.94, 10.955, 11.83, 5.325, 5.66, 5.57, 5.115, 6.585, 8.5975, 8.3225, 8.255, 8.22, 10.5225, 11.16, 10.385, 10.24, 12.3875, 11.865, 12.85, 7.405, 6.02, 8.205, 7.8475, 5.55, 5.3075, 5.185, 5.1625, 4.4325, 4.0325, 4.585, 4.8875, 5.695, 5.315, 5.635, 6.02, 5.565, 10.685, 10.9625, 10.3375, 10.3225, 9.18, 11.5825, 11.255, 11.14, 11.055, 5.825, 9.73, 10.245, 10.735, 10.1925, 7.3325, 6.2775, 7.4475, 5.4725, 5.9875, 5.72, 6.265, 5.41, 5.25, 10.25, 9.18, 9.97, 10.105, 9.4425, 12.38, 11.16, 10.9075, 10.5925, 11.8375, 12.3775, 9.5525, 7.8025, 8.195, 7.3625, 7.5525, 7.26, 4.875, 12.4925, 12.265, 11.635, 11.2475, 6.9725, 5.6975, 6.0025, 5.9475, 5.31, 5.775, 6.18, 5.6625, 10.205, 10.695, 4.6675, 5.395, 6.455, 7.17, 8.4975, 6.65, 7.0175, 9.16, 7.755, 7.1875, 7.2525, 8.34, 4.875, 6.1275, 4.59, 6.355, 9.4525, 9.08, 9.0325, 10.3525, 11.7475, 11.1425, 11.595, 10.6425, 5.5475, 4.9075, 5.75, 4.1225, 5.0075, 5.3125, 5.27, 5.615, 6.2225, 5.9775, 5.0, 8.16, 8.6475, 8.58, 7.895, 11.67, 11.1, 11.245, 11.6425, 9.7675, 9.7425, 9.325, 9.4625, 7.5975, 8.0525, 7.9225, 5.4275, 6.5975, 7.285, 6.48, 6.755, 5.5575, 6.3625, 7.46, 4.8425, 8.0275, 6.735, 7.3925, 7.3625, 6.6775, 4.4875, 6.16, 5.55, 6.43, 5.6375, 5.505, 10.5375, 10.475, 9.905, 10.5375, 8.0825, 8.3825, 7.53, 7.7125, 5.0875, 5.41, 4.8425, 4.4875, 9.1275, 8.935, 9.1125, 7.9825, 4.5625, 4.975, 5.3875, 6.4125, 7.875, 9.85, 8.175, 7.325, 9.55, 10.95, 10.1375, 9.675, 9.3875, 5.1125, 5.3875, 4.5625, 5.75, 4.8625, 9.7, 10.15, 10.35, 10.7375, 8.8, 8.5625, 9.075, 8.8125, 10.55, 10.4125, 10.8125, 10.8375, 4.85, 6.85, 5.6625, 6.8875, 5.1275, 5.1875, 4.9625, 5.475, 7.0375, 6.5, 6.8, 4.9625, 4.5, 4.9625, 5.175, 4.5, 8.4125, 9.3375, 8.925, 8.8375, 7.8875, 7.4125, 6.8, 8.575, 8.025, 8.45, 7.675, 9.05, 8.525, 8.5625, 8.6125, 8.0125, 10.2, 5.3875, 6.4, 5.75, 5.575, 6.2875, 6.8625, 7.1375, 6.0125, 7.075, 7.85, 6.9875, 8.525, 4.975, 5.3375, 8.1125, 7.475, 7.225, 8.1625, 8.4, 9.6, 9.3125, 9.8875, 9.575, 10.9, 10.135, 9.0125, 9.85, 4.8125, 4.9375, 4.7875, 6.675, 8.825, 9.75, 7.975, 8.55, 5.5, 5.375, 5.05, 5.325, 6.675, 6.4875, 6.75, 6.39, 5.36, 4.92, 5.3, 5.0475, 6.695, 7.175, 7.5075, 8.4525, 5.47, 6.7775, 6.355, 6.085, 5.6625, 5.275, 7.0, 5.275, 5.2125, 5.8375, 7.375, 8.125, 4.625, 4.5875, 5.3625, 4.6125, 7.275, 6.05, 6.25, 7.2625, 5.725, 6.225, 6.5875, 6.55, 6.8125, 5.9625, 4.3875, 4.6875, 4.4, 5.1625, 4.9375, 5.125, 4.9625, 5.5375, 5.1125, 5.95, 5.475, 5.8, 5.525, 5.875, 6.5375, 6.5875, 8.075, 7.9, 7.25, 7.325, 8.5375, 9.3125, 7.65, 8.6625, 6.5125, 6.6, 5.9875, 6.4375, 6.3125, 6.8375, 7.1625, 7.5875, 4.95, 5.0625, 4.925, 5.3125, 5.3125, 5.4, 5.5125, 5.6125, 4.9125, 4.9125, 4.9875, 7.3625, 7.5375, 6.4625, 7.0875, 6.6625, 5.925, 7.375, 6.975, 5.325, 5.7375, 6.5625, 6.8]}, \"mode\": \"markers\", \"text\": [\"chevrolet chevelle malibu\", \"buick skylark 320\", \"plymouth satellite\", \"amc rebel sst\", \"ford torino\", \"ford galaxie 500\", \"chevrolet impala\", \"plymouth fury iii\", \"pontiac catalina\", \"amc ambassador dpl\", \"dodge challenger se\", \"plymouth 'cuda 340\", \"chevrolet monte carlo\", \"buick estate wagon (sw)\", \"toyota corona mark ii\", \"plymouth duster\", \"amc hornet\", \"ford maverick\", \"datsun pl510\", \"volkswagen 1131 deluxe sedan\", \"peugeot 504\", \"audi 100 ls\", \"saab 99e\", \"bmw 2002\", \"amc gremlin\", \"ford f250\", \"chevy c20\", \"dodge d200\", \"hi 1200d\", \"datsun pl510\", \"chevrolet vega 2300\", \"toyota corona\", \"ford pinto\", \"amc gremlin\", \"plymouth satellite custom\", \"chevrolet chevelle malibu\", \"ford torino 500\", \"amc matador\", \"chevrolet impala\", \"pontiac catalina brougham\", \"ford galaxie 500\", \"plymouth fury iii\", \"dodge monaco (sw)\", \"ford country squire (sw)\", \"pontiac safari (sw)\", \"amc hornet sportabout (sw)\", \"chevrolet vega (sw)\", \"pontiac firebird\", \"ford mustang\", \"mercury capri 2000\", \"opel 1900\", \"peugeot 304\", \"fiat 124b\", \"toyota corolla 1200\", \"datsun 1200\", \"volkswagen model 111\", \"plymouth cricket\", \"toyota corona hardtop\", \"dodge colt hardtop\", \"volkswagen type 3\", \"chevrolet vega\", \"ford pinto runabout\", \"chevrolet impala\", \"pontiac catalina\", \"plymouth fury iii\", \"ford galaxie 500\", \"amc ambassador sst\", \"mercury marquis\", \"buick lesabre custom\", \"oldsmobile delta 88 royale\", \"chrysler newport royal\", \"mazda rx2 coupe\", \"amc matador (sw)\", \"chevrolet chevelle concours (sw)\", \"ford gran torino (sw)\", \"plymouth satellite custom (sw)\", \"volvo 145e (sw)\", \"volkswagen 411 (sw)\", \"peugeot 504 (sw)\", \"renault 12 (sw)\", \"ford pinto (sw)\", \"datsun 510 (sw)\", \"toyouta corona mark ii (sw)\", \"dodge colt (sw)\", \"toyota corolla 1600 (sw)\", \"buick century 350\", \"amc matador\", \"chevrolet malibu\", \"ford gran torino\", \"dodge coronet custom\", \"mercury marquis brougham\", \"chevrolet caprice classic\", \"ford ltd\", \"plymouth fury gran sedan\", \"chrysler new yorker brougham\", \"buick electra 225 custom\", \"amc ambassador brougham\", \"plymouth valiant\", \"chevrolet nova custom\", \"amc hornet\", \"ford maverick\", \"plymouth duster\", \"volkswagen super beetle\", \"chevrolet impala\", \"ford country\", \"plymouth custom suburb\", \"oldsmobile vista cruiser\", \"amc gremlin\", \"toyota carina\", \"chevrolet vega\", \"datsun 610\", \"maxda rx3\", \"ford pinto\", \"mercury capri v6\", \"fiat 124 sport coupe\", \"chevrolet monte carlo s\", \"pontiac grand prix\", \"fiat 128\", \"opel manta\", \"audi 100ls\", \"volvo 144ea\", \"dodge dart custom\", \"saab 99le\", \"toyota mark ii\", \"oldsmobile omega\", \"plymouth duster\", \"ford maverick\", \"amc hornet\", \"chevrolet nova\", \"datsun b210\", \"ford pinto\", \"toyota corolla 1200\", \"chevrolet vega\", \"chevrolet chevelle malibu classic\", \"amc matador\", \"plymouth satellite sebring\", \"ford gran torino\", \"buick century luxus (sw)\", \"dodge coronet custom (sw)\", \"ford gran torino (sw)\", \"amc matador (sw)\", \"audi fox\", \"volkswagen dasher\", \"opel manta\", \"toyota corona\", \"datsun 710\", \"dodge colt\", \"fiat 128\", \"fiat 124 tc\", \"honda civic\", \"subaru\", \"fiat x1.9\", \"plymouth valiant custom\", \"chevrolet nova\", \"mercury monarch\", \"ford maverick\", \"pontiac catalina\", \"chevrolet bel air\", \"plymouth grand fury\", \"ford ltd\", \"buick century\", \"chevroelt chevelle malibu\", \"amc matador\", \"plymouth fury\", \"buick skyhawk\", \"chevrolet monza 2+2\", \"ford mustang ii\", \"toyota corolla\", \"ford pinto\", \"amc gremlin\", \"pontiac astro\", \"toyota corona\", \"volkswagen dasher\", \"datsun 710\", \"ford pinto\", \"volkswagen rabbit\", \"amc pacer\", \"audi 100ls\", \"peugeot 504\", \"volvo 244dl\", \"saab 99le\", \"honda civic cvcc\", \"fiat 131\", \"opel 1900\", \"capri ii\", \"dodge colt\", \"renault 12tl\", \"chevrolet chevelle malibu classic\", \"dodge coronet brougham\", \"amc matador\", \"ford gran torino\", \"plymouth valiant\", \"chevrolet nova\", \"ford maverick\", \"amc hornet\", \"chevrolet chevette\", \"chevrolet woody\", \"vw rabbit\", \"honda civic\", \"dodge aspen se\", \"ford granada ghia\", \"pontiac ventura sj\", \"amc pacer d/l\", \"volkswagen rabbit\", \"datsun b-210\", \"toyota corolla\", \"ford pinto\", \"volvo 245\", \"plymouth volare premier v8\", \"peugeot 504\", \"toyota mark ii\", \"mercedes-benz 280s\", \"cadillac seville\", \"chevy c10\", \"ford f108\", \"dodge d100\", \"honda accord cvcc\", \"buick opel isuzu deluxe\", \"renault 5 gtl\", \"plymouth arrow gs\", \"datsun f-10 hatchback\", \"chevrolet caprice classic\", \"oldsmobile cutlass supreme\", \"dodge monaco brougham\", \"mercury cougar brougham\", \"chevrolet concours\", \"buick skylark\", \"plymouth volare custom\", \"ford granada\", \"pontiac grand prix lj\", \"chevrolet monte carlo landau\", \"chrysler cordoba\", \"ford thunderbird\", \"volkswagen rabbit custom\", \"pontiac sunbird coupe\", \"toyota corolla liftback\", \"ford mustang ii 2+2\", \"chevrolet chevette\", \"dodge colt m/m\", \"subaru dl\", \"volkswagen dasher\", \"datsun 810\", \"bmw 320i\", \"mazda rx-4\", \"volkswagen rabbit custom diesel\", \"ford fiesta\", \"mazda glc deluxe\", \"datsun b210 gx\", \"honda civic cvcc\", \"oldsmobile cutlass salon brougham\", \"dodge diplomat\", \"mercury monarch ghia\", \"pontiac phoenix lj\", \"chevrolet malibu\", \"ford fairmont (auto)\", \"ford fairmont (man)\", \"plymouth volare\", \"amc concord\", \"buick century special\", \"mercury zephyr\", \"dodge aspen\", \"amc concord d/l\", \"chevrolet monte carlo landau\", \"buick regal sport coupe (turbo)\", \"ford futura\", \"dodge magnum xe\", \"chevrolet chevette\", \"toyota corona\", \"datsun 510\", \"dodge omni\", \"toyota celica gt liftback\", \"plymouth sapporo\", \"oldsmobile starfire sx\", \"datsun 200-sx\", \"audi 5000\", \"volvo 264gl\", \"saab 99gle\", \"peugeot 604sl\", \"volkswagen scirocco\", \"honda accord lx\", \"pontiac lemans v6\", \"mercury zephyr 6\", \"ford fairmont 4\", \"amc concord dl 6\", \"dodge aspen 6\", \"chevrolet caprice classic\", \"ford ltd landau\", \"mercury grand marquis\", \"dodge st. regis\", \"buick estate wagon (sw)\", \"ford country squire (sw)\", \"chevrolet malibu classic (sw)\", \"chrysler lebaron town @ country (sw)\", \"vw rabbit custom\", \"maxda glc deluxe\", \"dodge colt hatchback custom\", \"amc spirit dl\", \"mercedes benz 300d\", \"cadillac eldorado\", \"peugeot 504\", \"oldsmobile cutlass salon brougham\", \"plymouth horizon\", \"plymouth horizon tc3\", \"datsun 210\", \"fiat strada custom\", \"buick skylark limited\", \"chevrolet citation\", \"oldsmobile omega brougham\", \"pontiac phoenix\", \"vw rabbit\", \"toyota corolla tercel\", \"chevrolet chevette\", \"datsun 310\", \"chevrolet citation\", \"ford fairmont\", \"amc concord\", \"dodge aspen\", \"audi 4000\", \"toyota corona liftback\", \"mazda 626\", \"datsun 510 hatchback\", \"toyota corolla\", \"mazda glc\", \"dodge colt\", \"datsun 210\", \"vw rabbit c (diesel)\", \"vw dasher (diesel)\", \"audi 5000s (diesel)\", \"mercedes-benz 240d\", \"honda civic 1500 gl\", \"renault lecar deluxe\", \"subaru dl\", \"vokswagen rabbit\", \"datsun 280-zx\", \"mazda rx-7 gs\", \"triumph tr7 coupe\", \"ford mustang cobra\", \"honda accord\", \"plymouth reliant\", \"buick skylark\", \"dodge aries wagon (sw)\", \"chevrolet citation\", \"plymouth reliant\", \"toyota starlet\", \"plymouth champ\", \"honda civic 1300\", \"subaru\", \"datsun 210 mpg\", \"toyota tercel\", \"mazda glc 4\", \"plymouth horizon 4\", \"ford escort 4w\", \"ford escort 2h\", \"volkswagen jetta\", \"renault 18i\", \"honda prelude\", \"toyota corolla\", \"datsun 200sx\", \"mazda 626\", \"peugeot 505s turbo diesel\", \"volvo diesel\", \"toyota cressida\", \"datsun 810 maxima\", \"buick century\", \"oldsmobile cutlass ls\", \"ford granada gl\", \"chrysler lebaron salon\", \"chevrolet cavalier\", \"chevrolet cavalier wagon\", \"chevrolet cavalier 2-door\", \"pontiac j2000 se hatchback\", \"dodge aries se\", \"pontiac phoenix\", \"ford fairmont futura\", \"amc concord dl\", \"volkswagen rabbit l\", \"mazda glc custom l\", \"mazda glc custom\", \"plymouth horizon miser\", \"mercury lynx l\", \"nissan stanza xe\", \"honda accord\", \"toyota corolla\", \"honda civic\", \"honda civic (auto)\", \"datsun 310 gx\", \"buick century limited\", \"oldsmobile cutlass ciera (diesel)\", \"chrysler lebaron medallion\", \"ford granada l\", \"toyota celica gt\", \"dodge charger 2.2\", \"chevrolet camaro\", \"ford mustang gl\", \"vw pickup\", \"dodge rampage\", \"ford ranger\", \"chevy s-10\"], \"type\": \"scatter\", \"x\": [307.0, 350.0, 318.0, 304.0, 302.0, 429.0, 454.0, 440.0, 455.0, 390.0, 383.0, 340.0, 400.0, 455.0, 113.0, 198.0, 199.0, 200.0, 97.0, 97.0, 110.0, 107.0, 104.0, 121.0, 199.0, 360.0, 307.0, 318.0, 304.0, 97.0, 140.0, 113.0, 98.0, 232.0, 225.0, 250.0, 250.0, 232.0, 350.0, 400.0, 351.0, 318.0, 383.0, 400.0, 400.0, 258.0, 140.0, 250.0, 250.0, 122.0, 116.0, 79.0, 88.0, 71.0, 72.0, 97.0, 91.0, 113.0, 97.5, 97.0, 140.0, 122.0, 350.0, 400.0, 318.0, 351.0, 304.0, 429.0, 350.0, 350.0, 400.0, 70.0, 304.0, 307.0, 302.0, 318.0, 121.0, 121.0, 120.0, 96.0, 122.0, 97.0, 120.0, 98.0, 97.0, 350.0, 304.0, 350.0, 302.0, 318.0, 429.0, 400.0, 351.0, 318.0, 440.0, 455.0, 360.0, 225.0, 250.0, 232.0, 250.0, 198.0, 97.0, 400.0, 400.0, 360.0, 350.0, 232.0, 97.0, 140.0, 108.0, 70.0, 122.0, 155.0, 98.0, 350.0, 400.0, 68.0, 116.0, 114.0, 121.0, 318.0, 121.0, 156.0, 350.0, 198.0, 200.0, 232.0, 250.0, 79.0, 122.0, 71.0, 140.0, 250.0, 258.0, 225.0, 302.0, 350.0, 318.0, 302.0, 304.0, 98.0, 79.0, 97.0, 76.0, 83.0, 90.0, 90.0, 116.0, 120.0, 108.0, 79.0, 225.0, 250.0, 250.0, 250.0, 400.0, 350.0, 318.0, 351.0, 231.0, 250.0, 258.0, 225.0, 231.0, 262.0, 302.0, 97.0, 140.0, 232.0, 140.0, 134.0, 90.0, 119.0, 171.0, 90.0, 232.0, 115.0, 120.0, 121.0, 121.0, 91.0, 107.0, 116.0, 140.0, 98.0, 101.0, 305.0, 318.0, 304.0, 351.0, 225.0, 250.0, 200.0, 232.0, 85.0, 98.0, 90.0, 91.0, 225.0, 250.0, 250.0, 258.0, 97.0, 85.0, 97.0, 140.0, 130.0, 318.0, 120.0, 156.0, 168.0, 350.0, 350.0, 302.0, 318.0, 98.0, 111.0, 79.0, 122.0, 85.0, 305.0, 260.0, 318.0, 302.0, 250.0, 231.0, 225.0, 250.0, 400.0, 350.0, 400.0, 351.0, 97.0, 151.0, 97.0, 140.0, 98.0, 98.0, 97.0, 97.0, 146.0, 121.0, 80.0, 90.0, 98.0, 78.0, 85.0, 91.0, 260.0, 318.0, 302.0, 231.0, 200.0, 200.0, 140.0, 225.0, 232.0, 231.0, 200.0, 225.0, 258.0, 305.0, 231.0, 302.0, 318.0, 98.0, 134.0, 119.0, 105.0, 134.0, 156.0, 151.0, 119.0, 131.0, 163.0, 121.0, 163.0, 89.0, 98.0, 231.0, 200.0, 140.0, 232.0, 225.0, 305.0, 302.0, 351.0, 318.0, 350.0, 351.0, 267.0, 360.0, 89.0, 86.0, 98.0, 121.0, 183.0, 350.0, 141.0, 260.0, 105.0, 105.0, 85.0, 91.0, 151.0, 173.0, 173.0, 151.0, 98.0, 89.0, 98.0, 86.0, 151.0, 140.0, 151.0, 225.0, 97.0, 134.0, 120.0, 119.0, 108.0, 86.0, 156.0, 85.0, 90.0, 90.0, 121.0, 146.0, 91.0, 85.0, 97.0, 89.0, 168.0, 70.0, 122.0, 140.0, 107.0, 135.0, 151.0, 156.0, 173.0, 135.0, 79.0, 86.0, 81.0, 97.0, 85.0, 89.0, 91.0, 105.0, 98.0, 98.0, 105.0, 100.0, 107.0, 108.0, 119.0, 120.0, 141.0, 145.0, 168.0, 146.0, 231.0, 350.0, 200.0, 225.0, 112.0, 112.0, 112.0, 112.0, 135.0, 151.0, 140.0, 151.0, 105.0, 91.0, 91.0, 105.0, 98.0, 120.0, 107.0, 108.0, 91.0, 91.0, 91.0, 181.0, 262.0, 156.0, 232.0, 144.0, 135.0, 151.0, 140.0, 97.0, 135.0, 120.0, 119.0], \"y\": [12.0, 11.5, 11.0, 12.0, 10.5, 10.0, 9.0, 8.5, 10.0, 8.5, 10.0, 8.0, 9.5, 10.0, 15.0, 15.5, 15.5, 16.0, 14.5, 20.5, 17.5, 14.5, 17.5, 12.5, 15.0, 14.0, 15.0, 13.5, 18.5, 14.5, 15.5, 14.0, 19.0, 13.0, 15.5, 15.5, 15.5, 15.5, 12.0, 11.5, 13.5, 13.0, 11.5, 12.0, 12.0, 13.5, 19.0, 15.0, 14.5, 14.0, 14.0, 19.5, 14.5, 19.0, 18.0, 19.0, 20.5, 15.5, 17.0, 23.5, 19.5, 16.5, 12.0, 12.0, 13.5, 13.0, 11.5, 11.0, 13.5, 13.5, 12.5, 13.5, 12.5, 14.0, 16.0, 14.0, 14.5, 18.0, 19.5, 18.0, 16.0, 17.0, 14.5, 15.0, 16.5, 13.0, 11.5, 13.0, 14.5, 12.5, 11.5, 12.0, 13.0, 14.5, 11.0, 11.0, 11.0, 16.5, 18.0, 16.0, 16.5, 16.0, 21.0, 14.0, 12.5, 13.0, 12.5, 15.0, 19.0, 19.5, 16.5, 13.5, 18.5, 14.0, 15.5, 13.0, 9.5, 19.5, 15.5, 14.0, 15.5, 11.0, 14.0, 13.5, 11.0, 16.5, 17.0, 16.0, 17.0, 19.0, 16.5, 21.0, 17.0, 17.0, 18.0, 16.5, 14.0, 14.5, 13.5, 16.0, 15.5, 16.5, 15.5, 14.5, 16.5, 19.0, 14.5, 15.5, 14.0, 15.0, 15.5, 16.0, 16.0, 16.0, 21.0, 19.5, 11.5, 14.0, 14.5, 13.5, 21.0, 18.5, 19.0, 19.0, 15.0, 13.5, 12.0, 16.0, 17.0, 16.0, 18.5, 13.5, 16.5, 17.0, 14.5, 14.0, 17.0, 15.0, 17.0, 14.5, 13.5, 17.5, 15.5, 16.9, 14.9, 17.7, 15.3, 13.0, 13.0, 13.9, 12.8, 15.4, 14.5, 17.6, 17.6, 22.2, 22.1, 14.2, 17.4, 17.7, 21.0, 16.2, 17.8, 12.2, 17.0, 16.4, 13.6, 15.7, 13.2, 21.9, 15.5, 16.7, 12.1, 12.0, 15.0, 14.0, 18.5, 14.8, 18.6, 15.5, 16.8, 12.5, 19.0, 13.7, 14.9, 16.4, 16.9, 17.7, 19.0, 11.1, 11.4, 12.2, 14.5, 14.5, 16.0, 18.2, 15.8, 17.0, 15.9, 16.4, 14.1, 14.5, 12.8, 13.5, 21.5, 14.4, 19.4, 18.6, 16.4, 15.5, 13.2, 12.8, 19.2, 18.2, 15.8, 15.4, 17.2, 17.2, 15.8, 16.7, 18.7, 15.1, 13.2, 13.4, 11.2, 13.7, 16.5, 14.2, 14.7, 14.5, 14.8, 16.7, 17.6, 14.9, 15.9, 13.6, 15.7, 15.8, 14.9, 16.6, 15.4, 18.2, 17.3, 18.2, 16.6, 15.4, 13.4, 13.2, 15.2, 14.9, 14.3, 15.0, 13.0, 14.0, 15.2, 14.4, 15.0, 20.1, 17.4, 24.8, 22.2, 13.2, 14.9, 19.2, 14.7, 16.0, 11.3, 12.9, 13.2, 14.7, 18.8, 15.5, 16.4, 16.5, 18.1, 20.1, 18.7, 15.8, 15.5, 17.5, 15.0, 15.2, 17.9, 14.4, 19.2, 21.7, 23.7, 19.9, 21.8, 13.8, 17.3, 18.0, 15.3, 11.4, 12.5, 15.1, 14.3, 17.0, 15.7, 16.4, 14.4, 12.6, 12.9, 16.9, 16.4, 16.1, 17.8, 19.4, 17.3, 16.0, 14.9, 16.2, 20.7, 14.2, 15.8, 14.4, 16.8, 14.8, 18.3, 20.4, 19.6, 12.6, 13.8, 15.8, 19.0, 17.1, 16.6, 19.6, 18.6, 18.0, 16.2, 16.0, 18.0, 16.4, 20.5, 15.3, 18.2, 17.6, 14.7, 17.3, 14.5, 14.5, 16.9, 15.0, 15.7, 16.2, 16.4, 17.0, 14.5, 14.7, 13.9, 13.0, 17.3, 15.6, 24.6, 11.6, 18.6, 19.4]}],                        {\"hovermode\": \"closest\", \"template\": {\"data\": {\"bar\": [{\"error_x\": {\"color\": \"#2a3f5f\"}, \"error_y\": {\"color\": \"#2a3f5f\"}, \"marker\": {\"line\": {\"color\": \"#E5ECF6\", \"width\": 0.5}}, \"type\": \"bar\"}], \"barpolar\": [{\"marker\": {\"line\": {\"color\": \"#E5ECF6\", \"width\": 0.5}}, \"type\": \"barpolar\"}], \"carpet\": [{\"aaxis\": {\"endlinecolor\": \"#2a3f5f\", \"gridcolor\": \"white\", \"linecolor\": \"white\", \"minorgridcolor\": \"white\", \"startlinecolor\": \"#2a3f5f\"}, \"baxis\": {\"endlinecolor\": \"#2a3f5f\", \"gridcolor\": \"white\", \"linecolor\": \"white\", \"minorgridcolor\": \"white\", \"startlinecolor\": \"#2a3f5f\"}, \"type\": \"carpet\"}], \"choropleth\": [{\"colorbar\": {\"outlinewidth\": 0, \"ticks\": \"\"}, \"type\": \"choropleth\"}], \"contour\": [{\"colorbar\": {\"outlinewidth\": 0, \"ticks\": \"\"}, \"colorscale\": [[0.0, \"#0d0887\"], [0.1111111111111111, \"#46039f\"], [0.2222222222222222, \"#7201a8\"], [0.3333333333333333, \"#9c179e\"], [0.4444444444444444, \"#bd3786\"], [0.5555555555555556, \"#d8576b\"], [0.6666666666666666, \"#ed7953\"], [0.7777777777777778, \"#fb9f3a\"], [0.8888888888888888, \"#fdca26\"], [1.0, \"#f0f921\"]], \"type\": \"contour\"}], \"contourcarpet\": [{\"colorbar\": {\"outlinewidth\": 0, \"ticks\": \"\"}, \"type\": \"contourcarpet\"}], \"heatmap\": [{\"colorbar\": {\"outlinewidth\": 0, \"ticks\": \"\"}, \"colorscale\": [[0.0, \"#0d0887\"], [0.1111111111111111, \"#46039f\"], [0.2222222222222222, \"#7201a8\"], [0.3333333333333333, \"#9c179e\"], [0.4444444444444444, \"#bd3786\"], [0.5555555555555556, \"#d8576b\"], [0.6666666666666666, \"#ed7953\"], [0.7777777777777778, \"#fb9f3a\"], [0.8888888888888888, \"#fdca26\"], [1.0, \"#f0f921\"]], \"type\": \"heatmap\"}], \"heatmapgl\": [{\"colorbar\": {\"outlinewidth\": 0, \"ticks\": \"\"}, \"colorscale\": [[0.0, \"#0d0887\"], [0.1111111111111111, \"#46039f\"], [0.2222222222222222, \"#7201a8\"], [0.3333333333333333, \"#9c179e\"], [0.4444444444444444, \"#bd3786\"], [0.5555555555555556, \"#d8576b\"], [0.6666666666666666, \"#ed7953\"], [0.7777777777777778, \"#fb9f3a\"], [0.8888888888888888, \"#fdca26\"], [1.0, \"#f0f921\"]], \"type\": \"heatmapgl\"}], \"histogram\": [{\"marker\": {\"colorbar\": {\"outlinewidth\": 0, \"ticks\": \"\"}}, \"type\": \"histogram\"}], \"histogram2d\": [{\"colorbar\": {\"outlinewidth\": 0, \"ticks\": \"\"}, \"colorscale\": [[0.0, \"#0d0887\"], [0.1111111111111111, \"#46039f\"], [0.2222222222222222, \"#7201a8\"], [0.3333333333333333, \"#9c179e\"], [0.4444444444444444, \"#bd3786\"], [0.5555555555555556, \"#d8576b\"], [0.6666666666666666, \"#ed7953\"], [0.7777777777777778, \"#fb9f3a\"], [0.8888888888888888, \"#fdca26\"], [1.0, \"#f0f921\"]], \"type\": \"histogram2d\"}], \"histogram2dcontour\": [{\"colorbar\": {\"outlinewidth\": 0, \"ticks\": \"\"}, \"colorscale\": [[0.0, \"#0d0887\"], [0.1111111111111111, \"#46039f\"], [0.2222222222222222, \"#7201a8\"], [0.3333333333333333, \"#9c179e\"], [0.4444444444444444, \"#bd3786\"], [0.5555555555555556, \"#d8576b\"], [0.6666666666666666, \"#ed7953\"], [0.7777777777777778, \"#fb9f3a\"], [0.8888888888888888, \"#fdca26\"], [1.0, \"#f0f921\"]], \"type\": \"histogram2dcontour\"}], \"mesh3d\": [{\"colorbar\": {\"outlinewidth\": 0, \"ticks\": \"\"}, \"type\": \"mesh3d\"}], \"parcoords\": [{\"line\": {\"colorbar\": {\"outlinewidth\": 0, \"ticks\": \"\"}}, \"type\": \"parcoords\"}], \"pie\": [{\"automargin\": true, \"type\": \"pie\"}], \"scatter\": [{\"marker\": {\"colorbar\": {\"outlinewidth\": 0, \"ticks\": \"\"}}, \"type\": \"scatter\"}], \"scatter3d\": [{\"line\": {\"colorbar\": {\"outlinewidth\": 0, \"ticks\": \"\"}}, \"marker\": {\"colorbar\": {\"outlinewidth\": 0, \"ticks\": \"\"}}, \"type\": \"scatter3d\"}], \"scattercarpet\": [{\"marker\": {\"colorbar\": {\"outlinewidth\": 0, \"ticks\": \"\"}}, \"type\": \"scattercarpet\"}], \"scattergeo\": [{\"marker\": {\"colorbar\": {\"outlinewidth\": 0, \"ticks\": \"\"}}, \"type\": \"scattergeo\"}], \"scattergl\": [{\"marker\": {\"colorbar\": {\"outlinewidth\": 0, \"ticks\": \"\"}}, \"type\": \"scattergl\"}], \"scattermapbox\": [{\"marker\": {\"colorbar\": {\"outlinewidth\": 0, \"ticks\": \"\"}}, \"type\": \"scattermapbox\"}], \"scatterpolar\": [{\"marker\": {\"colorbar\": {\"outlinewidth\": 0, \"ticks\": \"\"}}, \"type\": \"scatterpolar\"}], \"scatterpolargl\": [{\"marker\": {\"colorbar\": {\"outlinewidth\": 0, \"ticks\": \"\"}}, \"type\": \"scatterpolargl\"}], \"scatterternary\": [{\"marker\": {\"colorbar\": {\"outlinewidth\": 0, \"ticks\": \"\"}}, \"type\": \"scatterternary\"}], \"surface\": [{\"colorbar\": {\"outlinewidth\": 0, \"ticks\": \"\"}, \"colorscale\": [[0.0, \"#0d0887\"], [0.1111111111111111, \"#46039f\"], [0.2222222222222222, \"#7201a8\"], [0.3333333333333333, \"#9c179e\"], [0.4444444444444444, \"#bd3786\"], [0.5555555555555556, \"#d8576b\"], [0.6666666666666666, \"#ed7953\"], [0.7777777777777778, \"#fb9f3a\"], [0.8888888888888888, \"#fdca26\"], [1.0, \"#f0f921\"]], \"type\": \"surface\"}], \"table\": [{\"cells\": {\"fill\": {\"color\": \"#EBF0F8\"}, \"line\": {\"color\": \"white\"}}, \"header\": {\"fill\": {\"color\": \"#C8D4E3\"}, \"line\": {\"color\": \"white\"}}, \"type\": \"table\"}]}, \"layout\": {\"annotationdefaults\": {\"arrowcolor\": \"#2a3f5f\", \"arrowhead\": 0, \"arrowwidth\": 1}, \"autotypenumbers\": \"strict\", \"coloraxis\": {\"colorbar\": {\"outlinewidth\": 0, \"ticks\": \"\"}}, \"colorscale\": {\"diverging\": [[0, \"#8e0152\"], [0.1, \"#c51b7d\"], [0.2, \"#de77ae\"], [0.3, \"#f1b6da\"], [0.4, \"#fde0ef\"], [0.5, \"#f7f7f7\"], [0.6, \"#e6f5d0\"], [0.7, \"#b8e186\"], [0.8, \"#7fbc41\"], [0.9, \"#4d9221\"], [1, \"#276419\"]], \"sequential\": [[0.0, \"#0d0887\"], [0.1111111111111111, \"#46039f\"], [0.2222222222222222, \"#7201a8\"], [0.3333333333333333, \"#9c179e\"], [0.4444444444444444, \"#bd3786\"], [0.5555555555555556, \"#d8576b\"], [0.6666666666666666, \"#ed7953\"], [0.7777777777777778, \"#fb9f3a\"], [0.8888888888888888, \"#fdca26\"], [1.0, \"#f0f921\"]], \"sequentialminus\": [[0.0, \"#0d0887\"], [0.1111111111111111, \"#46039f\"], [0.2222222222222222, \"#7201a8\"], [0.3333333333333333, \"#9c179e\"], [0.4444444444444444, \"#bd3786\"], [0.5555555555555556, \"#d8576b\"], [0.6666666666666666, \"#ed7953\"], [0.7777777777777778, \"#fb9f3a\"], [0.8888888888888888, \"#fdca26\"], [1.0, \"#f0f921\"]]}, \"colorway\": [\"#636efa\", \"#EF553B\", \"#00cc96\", \"#ab63fa\", \"#FFA15A\", \"#19d3f3\", \"#FF6692\", \"#B6E880\", \"#FF97FF\", \"#FECB52\"], \"font\": {\"color\": \"#2a3f5f\"}, \"geo\": {\"bgcolor\": \"white\", \"lakecolor\": \"white\", \"landcolor\": \"#E5ECF6\", \"showlakes\": true, \"showland\": true, \"subunitcolor\": \"white\"}, \"hoverlabel\": {\"align\": \"left\"}, \"hovermode\": \"closest\", \"mapbox\": {\"style\": \"light\"}, \"paper_bgcolor\": \"white\", \"plot_bgcolor\": \"#E5ECF6\", \"polar\": {\"angularaxis\": {\"gridcolor\": \"white\", \"linecolor\": \"white\", \"ticks\": \"\"}, \"bgcolor\": \"#E5ECF6\", \"radialaxis\": {\"gridcolor\": \"white\", \"linecolor\": \"white\", \"ticks\": \"\"}}, \"scene\": {\"xaxis\": {\"backgroundcolor\": \"#E5ECF6\", \"gridcolor\": \"white\", \"gridwidth\": 2, \"linecolor\": \"white\", \"showbackground\": true, \"ticks\": \"\", \"zerolinecolor\": \"white\"}, \"yaxis\": {\"backgroundcolor\": \"#E5ECF6\", \"gridcolor\": \"white\", \"gridwidth\": 2, \"linecolor\": \"white\", \"showbackground\": true, \"ticks\": \"\", \"zerolinecolor\": \"white\"}, \"zaxis\": {\"backgroundcolor\": \"#E5ECF6\", \"gridcolor\": \"white\", \"gridwidth\": 2, \"linecolor\": \"white\", \"showbackground\": true, \"ticks\": \"\", \"zerolinecolor\": \"white\"}}, \"shapedefaults\": {\"line\": {\"color\": \"#2a3f5f\"}}, \"ternary\": {\"aaxis\": {\"gridcolor\": \"white\", \"linecolor\": \"white\", \"ticks\": \"\"}, \"baxis\": {\"gridcolor\": \"white\", \"linecolor\": \"white\", \"ticks\": \"\"}, \"bgcolor\": \"#E5ECF6\", \"caxis\": {\"gridcolor\": \"white\", \"linecolor\": \"white\", \"ticks\": \"\"}}, \"title\": {\"x\": 0.05}, \"xaxis\": {\"automargin\": true, \"gridcolor\": \"white\", \"linecolor\": \"white\", \"ticks\": \"\", \"title\": {\"standoff\": 15}, \"zerolinecolor\": \"white\", \"zerolinewidth\": 2}, \"yaxis\": {\"automargin\": true, \"gridcolor\": \"white\", \"linecolor\": \"white\", \"ticks\": \"\", \"title\": {\"standoff\": 15}, \"zerolinecolor\": \"white\", \"zerolinewidth\": 2}}}, \"title\": {\"text\": \"Vehicles Bubble Chart\"}, \"xaxis\": {\"title\": {\"text\": \"displacement\"}}, \"yaxis\": {\"title\": {\"text\": \"acceleration\"}}},                        {\"responsive\": true}                    ).then(function(){\n",
       "                            \n",
       "var gd = document.getElementById('e349c4f4-7e36-4cbe-9100-c9e3adfe526b');\n",
       "var x = new MutationObserver(function (mutations, observer) {{\n",
       "        var display = window.getComputedStyle(gd).display;\n",
       "        if (!display || display === 'none') {{\n",
       "            console.log([gd, 'removed!']);\n",
       "            Plotly.purge(gd);\n",
       "            observer.disconnect();\n",
       "        }}\n",
       "}});\n",
       "\n",
       "// Listen for the removal of the full notebook cells\n",
       "var notebookContainer = gd.closest('#notebook-container');\n",
       "if (notebookContainer) {{\n",
       "    x.observe(notebookContainer, {childList: true});\n",
       "}}\n",
       "\n",
       "// Listen for the clearing of the current output cell\n",
       "var outputEl = gd.closest('.output');\n",
       "if (outputEl) {{\n",
       "    x.observe(outputEl, {childList: true});\n",
       "}}\n",
       "\n",
       "                        })                };                });            </script>        </div>"
      ]
     },
     "metadata": {},
     "output_type": "display_data"
    }
   ],
   "source": [
    "import pandas as pd\n",
    "import plotly.offline as pyo\n",
    "import plotly.graph_objs as go\n",
    "\n",
    "df = pd.read_csv('../../data/bronze/plotlydash/mpg.csv')\n",
    "\n",
    "# create data by choosing fields for x, y and marker size attributes\n",
    "data = [go.Scatter(x=df[\"displacement\"],\n",
    "                   y=df[\"acceleration\"],\n",
    "                   mode='markers',\n",
    "                   text=df[\"name\"],\n",
    "                   marker=dict(size=df[\"weight\"]/400,\n",
    "                               color=df[\"cylinders\"],\n",
    "                               showscale=True))]\n",
    "# create a layout with title and axis labels\n",
    "layout = go.Layout(title=\"Vehicles Bubble Chart\",\n",
    "                   xaxis=dict(title=\"displacement\"),\n",
    "                   yaxis=dict(title=\"acceleration\"),\n",
    "                   hovermode='closest')\n",
    "# create a fig from data & layout, and plot the fig\n",
    "fig = go.Figure(data=data, layout=layout)\n",
    "pyo.iplot(fig)"
   ]
  },
  {
   "cell_type": "markdown",
   "metadata": {},
   "source": [
    "## box plot"
   ]
  },
  {
   "cell_type": "code",
   "execution_count": 37,
   "metadata": {},
   "outputs": [
    {
     "data": {
      "application/vnd.plotly.v1+json": {
       "config": {
        "linkText": "Export to plot.ly",
        "plotlyServerURL": "https://plot.ly",
        "showLink": false
       },
       "data": [
        {
         "name": "A",
         "type": "box",
         "y": [
          8,
          11,
          4,
          8,
          9,
          9,
          11,
          10,
          8,
          11,
          11,
          10,
          6,
          9,
          10,
          12,
          10,
          6,
          7,
          9,
          12,
          15,
          9,
          8,
          8,
          8,
          17,
          9,
          8,
          12,
          8,
          9,
          9,
          8,
          9,
          15,
          7,
          9,
          7,
          9,
          9,
          10,
          11,
          7,
          8,
          17,
          14,
          9,
          19,
          5,
          9,
          9,
          13,
          5,
          10,
          9,
          7,
          11,
          10,
          13,
          5,
          6,
          9,
          9,
          7,
          10,
          7,
          10,
          10,
          9,
          11,
          11,
          12,
          22,
          9,
          8,
          7,
          6,
          7,
          13,
          4,
          8,
          14,
          13,
          11,
          7,
          8,
          9,
          6,
          6,
          8,
          10,
          8,
          11,
          10,
          6,
          12,
          9,
          11,
          8,
          14,
          11,
          10,
          10,
          11,
          12,
          9,
          10,
          7,
          9,
          8,
          20,
          5,
          10,
          11,
          11,
          15,
          8,
          11,
          22,
          8,
          8,
          18,
          16,
          7,
          8,
          10,
          8,
          7,
          9,
          11,
          9,
          12,
          11,
          9,
          11,
          6,
          7,
          13,
          10,
          4,
          6,
          14,
          8,
          7,
          9,
          11,
          10,
          7,
          10,
          17,
          10,
          9,
          11,
          8,
          9,
          5,
          11,
          8,
          8,
          7,
          11,
          10,
          9,
          12,
          9,
          9,
          8,
          11,
          9,
          7,
          11,
          9,
          10,
          9,
          10,
          7,
          14,
          13,
          5,
          10,
          7,
          11,
          7,
          6,
          8,
          4,
          12,
          11,
          8,
          8,
          11,
          11,
          10,
          8,
          15,
          19,
          6,
          8,
          9,
          9,
          9,
          14,
          18,
          11,
          7,
          7,
          10,
          11,
          13,
          14,
          12,
          8,
          8,
          8,
          11,
          9,
          11,
          8,
          19,
          10,
          17,
          7,
          10,
          12,
          9,
          10,
          6,
          8,
          7,
          11,
          9,
          8,
          8,
          11,
          6,
          8,
          8,
          8,
          12,
          13,
          7,
          7,
          6,
          7,
          8,
          14,
          14,
          8,
          9,
          10,
          7,
          7,
          10,
          8,
          5,
          9,
          9,
          9,
          14,
          7,
          18,
          10,
          11,
          5,
          11,
          12,
          12,
          11,
          10,
          10,
          24,
          7,
          9,
          4,
          9,
          10,
          15,
          10,
          12,
          12,
          8,
          11,
          8,
          6,
          12,
          8,
          13,
          11,
          7,
          10,
          16,
          8,
          6,
          8,
          10,
          8,
          12,
          9,
          11,
          8,
          10,
          14,
          12,
          13,
          11,
          15,
          8,
          6,
          23,
          11,
          6,
          9,
          8,
          9,
          13,
          12,
          9,
          8,
          9,
          17,
          15,
          9,
          6,
          13,
          8,
          10,
          19,
          27,
          12,
          10,
          9,
          8,
          11,
          7,
          5,
          15,
          10,
          8,
          8,
          7,
          8,
          9,
          9,
          12,
          10,
          7,
          8,
          21,
          10,
          11,
          11,
          8,
          11,
          5,
          7,
          12,
          9,
          10,
          9,
          15,
          9,
          15,
          7,
          10,
          6,
          10,
          6,
          6,
          10,
          7,
          9,
          10,
          13,
          6,
          12,
          19,
          11,
          10,
          16,
          10,
          9,
          10,
          13,
          8,
          11,
          13,
          6,
          9,
          14,
          8,
          8,
          10,
          7,
          12,
          14,
          10,
          11,
          7,
          6
         ]
        },
        {
         "name": "B",
         "type": "box",
         "y": [
          7,
          9,
          17,
          9,
          7,
          9,
          9,
          11,
          8,
          10,
          11,
          7,
          11,
          13,
          10,
          9,
          10,
          8,
          7,
          7,
          9,
          6,
          8,
          13,
          13,
          5,
          12,
          12,
          11,
          15,
          11,
          6,
          18,
          6,
          9,
          15,
          8,
          9,
          9,
          14,
          8,
          10,
          10,
          11,
          11,
          12,
          9,
          12,
          11,
          9,
          9,
          18,
          8,
          13,
          10,
          9,
          13,
          6,
          11,
          12,
          15,
          10,
          7,
          16,
          12,
          4,
          9,
          6,
          8,
          9,
          11,
          20,
          6,
          8,
          7,
          9,
          7,
          8,
          13,
          18,
          10,
          10,
          10,
          5,
          9,
          11,
          11,
          10,
          10,
          10,
          12,
          8,
          11,
          9,
          8,
          8,
          10,
          10,
          20,
          7,
          14,
          10,
          12,
          7,
          13,
          8,
          12,
          8,
          16,
          8,
          8,
          21,
          14,
          16,
          12,
          5,
          7,
          16,
          10,
          11,
          7,
          9,
          13,
          11,
          8,
          15,
          10,
          8,
          8,
          12,
          6,
          10,
          9,
          8,
          13,
          7,
          8,
          12,
          12,
          8,
          10,
          12,
          11,
          12,
          9,
          8,
          8,
          18,
          7,
          10,
          11,
          13,
          8,
          9,
          10,
          8,
          8,
          9,
          10,
          6,
          11,
          8,
          17,
          4,
          6,
          8,
          8,
          9,
          9,
          10,
          8,
          12,
          5,
          9,
          10,
          11,
          10,
          10,
          11,
          5,
          9,
          14,
          8,
          10,
          10,
          9,
          7,
          13,
          9,
          6,
          14,
          10,
          10,
          13,
          8,
          9,
          9,
          13,
          8,
          9,
          10,
          11,
          6,
          8,
          9,
          11,
          7,
          8,
          8,
          4,
          12,
          14,
          6,
          20,
          3,
          4,
          10,
          8,
          11,
          9,
          9,
          5,
          8,
          6,
          8,
          17,
          10,
          6,
          6,
          7,
          4,
          8,
          12,
          13,
          10,
          9,
          14,
          8,
          12,
          10,
          8,
          9,
          8,
          10,
          4,
          8,
          7,
          10,
          11,
          13,
          10,
          23,
          10,
          11,
          11,
          7,
          9,
          15,
          7,
          11,
          9,
          8,
          7,
          8,
          11,
          8,
          5,
          13,
          11,
          19,
          10,
          10,
          6,
          6,
          10,
          10,
          9,
          9,
          8,
          12,
          9,
          14,
          11,
          6,
          9,
          9,
          10,
          15,
          10,
          7,
          12,
          9,
          19,
          10,
          5,
          11,
          14,
          8,
          8,
          5,
          10,
          6,
          11,
          9,
          8,
          8,
          14,
          9,
          11,
          7,
          10,
          10,
          9,
          10,
          9,
          10,
          12,
          10,
          12,
          13,
          8,
          5,
          11,
          9,
          7,
          12,
          7,
          12,
          14,
          10,
          19,
          11,
          12,
          9,
          6,
          8,
          10,
          12,
          10,
          5,
          10,
          10,
          8,
          7,
          9,
          8,
          16,
          7,
          9,
          10,
          6,
          8,
          9,
          7,
          7,
          5,
          16,
          9,
          8,
          9,
          6,
          9,
          11,
          10,
          12,
          4,
          11,
          14,
          8,
          8,
          8,
          9,
          11,
          8,
          7,
          12,
          12,
          9,
          16,
          10,
          11,
          7,
          9,
          6,
          12,
          8,
          10,
          6,
          5,
          12,
          8,
          9,
          10,
          11,
          9,
          7,
          9,
          16,
          9,
          11,
          9,
          6,
          17,
          6,
          7,
          9,
          9,
          8,
          8,
          4,
          10,
          11,
          9,
          8,
          10,
          5,
          9,
          12,
          9,
          11,
          11,
          11,
          10,
          10,
          9,
          10,
          5,
          13,
          10,
          10,
          10,
          10,
          9,
          13,
          8,
          19,
          6,
          10,
          7,
          13,
          12,
          9,
          10,
          9,
          7,
          6,
          10,
          8,
          11,
          9,
          7,
          11,
          7,
          11,
          17,
          11,
          9,
          9,
          12,
          11,
          12,
          9,
          7,
          7,
          10,
          10,
          11,
          11,
          9,
          9,
          7,
          7,
          9,
          7,
          12,
          6,
          7,
          5,
          6,
          11,
          13,
          11,
          13,
          10,
          6,
          7,
          8,
          13,
          5,
          11,
          6,
          10,
          12,
          6,
          13,
          11,
          11,
          12,
          9,
          12,
          11,
          13,
          20,
          7,
          11,
          11,
          10,
          9,
          15,
          6,
          11,
          6,
          8,
          9,
          5,
          7,
          21,
          6,
          10,
          6,
          9,
          9,
          9,
          8,
          8,
          13,
          11,
          10,
          11,
          10,
          11,
          10,
          6,
          10,
          11,
          10,
          9,
          9,
          12,
          24,
          5,
          9,
          7,
          5,
          7,
          10,
          9,
          13,
          12,
          8,
          9,
          10,
          7,
          8,
          7,
          11,
          12,
          15,
          10,
          16,
          7,
          9,
          13,
          12,
          7,
          3,
          8,
          10,
          8,
          8,
          14,
          9,
          8,
          13,
          8,
          14,
          9,
          10,
          12,
          17,
          8,
          7,
          15,
          9,
          14,
          9,
          10,
          19,
          3,
          15,
          10,
          10,
          8,
          10,
          10,
          7,
          19,
          11,
          8,
          7,
          8,
          8,
          7,
          12,
          8,
          7,
          10,
          9,
          9,
          16,
          7,
          12,
          8,
          6,
          6,
          13,
          8,
          11,
          11,
          10,
          11,
          10,
          13,
          7,
          6,
          8,
          6,
          7,
          24,
          7,
          9,
          15,
          8,
          9,
          9,
          8,
          9,
          9,
          17,
          8,
          7,
          8,
          9,
          5,
          8,
          10,
          10,
          9,
          18,
          11,
          9,
          15,
          11,
          12,
          11,
          6,
          9,
          9,
          5,
          11,
          9,
          14,
          8,
          15,
          7,
          5,
          13,
          11,
          11,
          9,
          6,
          11,
          9,
          9,
          15,
          9,
          9,
          6,
          10,
          20,
          11,
          11,
          10,
          9,
          9,
          10,
          12,
          11,
          7,
          10,
          10,
          17,
          8,
          7,
          9,
          16,
          9,
          11,
          11,
          7,
          6,
          9,
          10,
          11,
          10,
          11,
          8,
          8,
          10,
          8,
          6,
          18,
          9,
          10,
          8,
          9,
          16,
          11,
          8,
          12,
          6,
          8,
          5,
          11,
          15,
          8,
          8,
          8,
          10,
          8,
          9,
          14,
          9,
          10,
          6,
          13,
          6,
          9,
          11,
          20,
          10,
          15,
          11,
          11,
          8,
          10,
          3,
          5,
          8,
          9,
          9,
          8,
          10,
          8,
          10,
          8,
          11,
          17,
          10,
          7,
          10,
          18,
          8,
          9,
          9,
          6,
          12,
          12,
          11,
          5,
          4,
          11,
          13,
          11,
          5,
          17,
          9,
          9,
          10,
          10,
          7,
          10,
          20,
          10,
          11,
          8,
          10,
          10,
          10,
          19,
          9,
          14,
          5,
          12,
          9,
          8,
          10,
          7,
          8,
          17
         ]
        }
       ],
       "layout": {
        "template": {
         "data": {
          "bar": [
           {
            "error_x": {
             "color": "#2a3f5f"
            },
            "error_y": {
             "color": "#2a3f5f"
            },
            "marker": {
             "line": {
              "color": "#E5ECF6",
              "width": 0.5
             }
            },
            "type": "bar"
           }
          ],
          "barpolar": [
           {
            "marker": {
             "line": {
              "color": "#E5ECF6",
              "width": 0.5
             }
            },
            "type": "barpolar"
           }
          ],
          "carpet": [
           {
            "aaxis": {
             "endlinecolor": "#2a3f5f",
             "gridcolor": "white",
             "linecolor": "white",
             "minorgridcolor": "white",
             "startlinecolor": "#2a3f5f"
            },
            "baxis": {
             "endlinecolor": "#2a3f5f",
             "gridcolor": "white",
             "linecolor": "white",
             "minorgridcolor": "white",
             "startlinecolor": "#2a3f5f"
            },
            "type": "carpet"
           }
          ],
          "choropleth": [
           {
            "colorbar": {
             "outlinewidth": 0,
             "ticks": ""
            },
            "type": "choropleth"
           }
          ],
          "contour": [
           {
            "colorbar": {
             "outlinewidth": 0,
             "ticks": ""
            },
            "colorscale": [
             [
              0,
              "#0d0887"
             ],
             [
              0.1111111111111111,
              "#46039f"
             ],
             [
              0.2222222222222222,
              "#7201a8"
             ],
             [
              0.3333333333333333,
              "#9c179e"
             ],
             [
              0.4444444444444444,
              "#bd3786"
             ],
             [
              0.5555555555555556,
              "#d8576b"
             ],
             [
              0.6666666666666666,
              "#ed7953"
             ],
             [
              0.7777777777777778,
              "#fb9f3a"
             ],
             [
              0.8888888888888888,
              "#fdca26"
             ],
             [
              1,
              "#f0f921"
             ]
            ],
            "type": "contour"
           }
          ],
          "contourcarpet": [
           {
            "colorbar": {
             "outlinewidth": 0,
             "ticks": ""
            },
            "type": "contourcarpet"
           }
          ],
          "heatmap": [
           {
            "colorbar": {
             "outlinewidth": 0,
             "ticks": ""
            },
            "colorscale": [
             [
              0,
              "#0d0887"
             ],
             [
              0.1111111111111111,
              "#46039f"
             ],
             [
              0.2222222222222222,
              "#7201a8"
             ],
             [
              0.3333333333333333,
              "#9c179e"
             ],
             [
              0.4444444444444444,
              "#bd3786"
             ],
             [
              0.5555555555555556,
              "#d8576b"
             ],
             [
              0.6666666666666666,
              "#ed7953"
             ],
             [
              0.7777777777777778,
              "#fb9f3a"
             ],
             [
              0.8888888888888888,
              "#fdca26"
             ],
             [
              1,
              "#f0f921"
             ]
            ],
            "type": "heatmap"
           }
          ],
          "heatmapgl": [
           {
            "colorbar": {
             "outlinewidth": 0,
             "ticks": ""
            },
            "colorscale": [
             [
              0,
              "#0d0887"
             ],
             [
              0.1111111111111111,
              "#46039f"
             ],
             [
              0.2222222222222222,
              "#7201a8"
             ],
             [
              0.3333333333333333,
              "#9c179e"
             ],
             [
              0.4444444444444444,
              "#bd3786"
             ],
             [
              0.5555555555555556,
              "#d8576b"
             ],
             [
              0.6666666666666666,
              "#ed7953"
             ],
             [
              0.7777777777777778,
              "#fb9f3a"
             ],
             [
              0.8888888888888888,
              "#fdca26"
             ],
             [
              1,
              "#f0f921"
             ]
            ],
            "type": "heatmapgl"
           }
          ],
          "histogram": [
           {
            "marker": {
             "colorbar": {
              "outlinewidth": 0,
              "ticks": ""
             }
            },
            "type": "histogram"
           }
          ],
          "histogram2d": [
           {
            "colorbar": {
             "outlinewidth": 0,
             "ticks": ""
            },
            "colorscale": [
             [
              0,
              "#0d0887"
             ],
             [
              0.1111111111111111,
              "#46039f"
             ],
             [
              0.2222222222222222,
              "#7201a8"
             ],
             [
              0.3333333333333333,
              "#9c179e"
             ],
             [
              0.4444444444444444,
              "#bd3786"
             ],
             [
              0.5555555555555556,
              "#d8576b"
             ],
             [
              0.6666666666666666,
              "#ed7953"
             ],
             [
              0.7777777777777778,
              "#fb9f3a"
             ],
             [
              0.8888888888888888,
              "#fdca26"
             ],
             [
              1,
              "#f0f921"
             ]
            ],
            "type": "histogram2d"
           }
          ],
          "histogram2dcontour": [
           {
            "colorbar": {
             "outlinewidth": 0,
             "ticks": ""
            },
            "colorscale": [
             [
              0,
              "#0d0887"
             ],
             [
              0.1111111111111111,
              "#46039f"
             ],
             [
              0.2222222222222222,
              "#7201a8"
             ],
             [
              0.3333333333333333,
              "#9c179e"
             ],
             [
              0.4444444444444444,
              "#bd3786"
             ],
             [
              0.5555555555555556,
              "#d8576b"
             ],
             [
              0.6666666666666666,
              "#ed7953"
             ],
             [
              0.7777777777777778,
              "#fb9f3a"
             ],
             [
              0.8888888888888888,
              "#fdca26"
             ],
             [
              1,
              "#f0f921"
             ]
            ],
            "type": "histogram2dcontour"
           }
          ],
          "mesh3d": [
           {
            "colorbar": {
             "outlinewidth": 0,
             "ticks": ""
            },
            "type": "mesh3d"
           }
          ],
          "parcoords": [
           {
            "line": {
             "colorbar": {
              "outlinewidth": 0,
              "ticks": ""
             }
            },
            "type": "parcoords"
           }
          ],
          "pie": [
           {
            "automargin": true,
            "type": "pie"
           }
          ],
          "scatter": [
           {
            "marker": {
             "colorbar": {
              "outlinewidth": 0,
              "ticks": ""
             }
            },
            "type": "scatter"
           }
          ],
          "scatter3d": [
           {
            "line": {
             "colorbar": {
              "outlinewidth": 0,
              "ticks": ""
             }
            },
            "marker": {
             "colorbar": {
              "outlinewidth": 0,
              "ticks": ""
             }
            },
            "type": "scatter3d"
           }
          ],
          "scattercarpet": [
           {
            "marker": {
             "colorbar": {
              "outlinewidth": 0,
              "ticks": ""
             }
            },
            "type": "scattercarpet"
           }
          ],
          "scattergeo": [
           {
            "marker": {
             "colorbar": {
              "outlinewidth": 0,
              "ticks": ""
             }
            },
            "type": "scattergeo"
           }
          ],
          "scattergl": [
           {
            "marker": {
             "colorbar": {
              "outlinewidth": 0,
              "ticks": ""
             }
            },
            "type": "scattergl"
           }
          ],
          "scattermapbox": [
           {
            "marker": {
             "colorbar": {
              "outlinewidth": 0,
              "ticks": ""
             }
            },
            "type": "scattermapbox"
           }
          ],
          "scatterpolar": [
           {
            "marker": {
             "colorbar": {
              "outlinewidth": 0,
              "ticks": ""
             }
            },
            "type": "scatterpolar"
           }
          ],
          "scatterpolargl": [
           {
            "marker": {
             "colorbar": {
              "outlinewidth": 0,
              "ticks": ""
             }
            },
            "type": "scatterpolargl"
           }
          ],
          "scatterternary": [
           {
            "marker": {
             "colorbar": {
              "outlinewidth": 0,
              "ticks": ""
             }
            },
            "type": "scatterternary"
           }
          ],
          "surface": [
           {
            "colorbar": {
             "outlinewidth": 0,
             "ticks": ""
            },
            "colorscale": [
             [
              0,
              "#0d0887"
             ],
             [
              0.1111111111111111,
              "#46039f"
             ],
             [
              0.2222222222222222,
              "#7201a8"
             ],
             [
              0.3333333333333333,
              "#9c179e"
             ],
             [
              0.4444444444444444,
              "#bd3786"
             ],
             [
              0.5555555555555556,
              "#d8576b"
             ],
             [
              0.6666666666666666,
              "#ed7953"
             ],
             [
              0.7777777777777778,
              "#fb9f3a"
             ],
             [
              0.8888888888888888,
              "#fdca26"
             ],
             [
              1,
              "#f0f921"
             ]
            ],
            "type": "surface"
           }
          ],
          "table": [
           {
            "cells": {
             "fill": {
              "color": "#EBF0F8"
             },
             "line": {
              "color": "white"
             }
            },
            "header": {
             "fill": {
              "color": "#C8D4E3"
             },
             "line": {
              "color": "white"
             }
            },
            "type": "table"
           }
          ]
         },
         "layout": {
          "annotationdefaults": {
           "arrowcolor": "#2a3f5f",
           "arrowhead": 0,
           "arrowwidth": 1
          },
          "autotypenumbers": "strict",
          "coloraxis": {
           "colorbar": {
            "outlinewidth": 0,
            "ticks": ""
           }
          },
          "colorscale": {
           "diverging": [
            [
             0,
             "#8e0152"
            ],
            [
             0.1,
             "#c51b7d"
            ],
            [
             0.2,
             "#de77ae"
            ],
            [
             0.3,
             "#f1b6da"
            ],
            [
             0.4,
             "#fde0ef"
            ],
            [
             0.5,
             "#f7f7f7"
            ],
            [
             0.6,
             "#e6f5d0"
            ],
            [
             0.7,
             "#b8e186"
            ],
            [
             0.8,
             "#7fbc41"
            ],
            [
             0.9,
             "#4d9221"
            ],
            [
             1,
             "#276419"
            ]
           ],
           "sequential": [
            [
             0,
             "#0d0887"
            ],
            [
             0.1111111111111111,
             "#46039f"
            ],
            [
             0.2222222222222222,
             "#7201a8"
            ],
            [
             0.3333333333333333,
             "#9c179e"
            ],
            [
             0.4444444444444444,
             "#bd3786"
            ],
            [
             0.5555555555555556,
             "#d8576b"
            ],
            [
             0.6666666666666666,
             "#ed7953"
            ],
            [
             0.7777777777777778,
             "#fb9f3a"
            ],
            [
             0.8888888888888888,
             "#fdca26"
            ],
            [
             1,
             "#f0f921"
            ]
           ],
           "sequentialminus": [
            [
             0,
             "#0d0887"
            ],
            [
             0.1111111111111111,
             "#46039f"
            ],
            [
             0.2222222222222222,
             "#7201a8"
            ],
            [
             0.3333333333333333,
             "#9c179e"
            ],
            [
             0.4444444444444444,
             "#bd3786"
            ],
            [
             0.5555555555555556,
             "#d8576b"
            ],
            [
             0.6666666666666666,
             "#ed7953"
            ],
            [
             0.7777777777777778,
             "#fb9f3a"
            ],
            [
             0.8888888888888888,
             "#fdca26"
            ],
            [
             1,
             "#f0f921"
            ]
           ]
          },
          "colorway": [
           "#636efa",
           "#EF553B",
           "#00cc96",
           "#ab63fa",
           "#FFA15A",
           "#19d3f3",
           "#FF6692",
           "#B6E880",
           "#FF97FF",
           "#FECB52"
          ],
          "font": {
           "color": "#2a3f5f"
          },
          "geo": {
           "bgcolor": "white",
           "lakecolor": "white",
           "landcolor": "#E5ECF6",
           "showlakes": true,
           "showland": true,
           "subunitcolor": "white"
          },
          "hoverlabel": {
           "align": "left"
          },
          "hovermode": "closest",
          "mapbox": {
           "style": "light"
          },
          "paper_bgcolor": "white",
          "plot_bgcolor": "#E5ECF6",
          "polar": {
           "angularaxis": {
            "gridcolor": "white",
            "linecolor": "white",
            "ticks": ""
           },
           "bgcolor": "#E5ECF6",
           "radialaxis": {
            "gridcolor": "white",
            "linecolor": "white",
            "ticks": ""
           }
          },
          "scene": {
           "xaxis": {
            "backgroundcolor": "#E5ECF6",
            "gridcolor": "white",
            "gridwidth": 2,
            "linecolor": "white",
            "showbackground": true,
            "ticks": "",
            "zerolinecolor": "white"
           },
           "yaxis": {
            "backgroundcolor": "#E5ECF6",
            "gridcolor": "white",
            "gridwidth": 2,
            "linecolor": "white",
            "showbackground": true,
            "ticks": "",
            "zerolinecolor": "white"
           },
           "zaxis": {
            "backgroundcolor": "#E5ECF6",
            "gridcolor": "white",
            "gridwidth": 2,
            "linecolor": "white",
            "showbackground": true,
            "ticks": "",
            "zerolinecolor": "white"
           }
          },
          "shapedefaults": {
           "line": {
            "color": "#2a3f5f"
           }
          },
          "ternary": {
           "aaxis": {
            "gridcolor": "white",
            "linecolor": "white",
            "ticks": ""
           },
           "baxis": {
            "gridcolor": "white",
            "linecolor": "white",
            "ticks": ""
           },
           "bgcolor": "#E5ECF6",
           "caxis": {
            "gridcolor": "white",
            "linecolor": "white",
            "ticks": ""
           }
          },
          "title": {
           "x": 0.05
          },
          "xaxis": {
           "automargin": true,
           "gridcolor": "white",
           "linecolor": "white",
           "ticks": "",
           "title": {
            "standoff": 15
           },
           "zerolinecolor": "white",
           "zerolinewidth": 2
          },
          "yaxis": {
           "automargin": true,
           "gridcolor": "white",
           "linecolor": "white",
           "ticks": "",
           "title": {
            "standoff": 15
           },
           "zerolinecolor": "white",
           "zerolinewidth": 2
          }
         }
        },
        "title": {
         "text": "Boxplot comparison of 2 samples"
        }
       }
      },
      "text/html": [
       "<div>                            <div id=\"6444a60d-03c0-4b60-9a03-c74e50beba66\" class=\"plotly-graph-div\" style=\"height:525px; width:100%;\"></div>            <script type=\"text/javascript\">                require([\"plotly\"], function(Plotly) {                    window.PLOTLYENV=window.PLOTLYENV || {};                                    if (document.getElementById(\"6444a60d-03c0-4b60-9a03-c74e50beba66\")) {                    Plotly.newPlot(                        \"6444a60d-03c0-4b60-9a03-c74e50beba66\",                        [{\"name\": \"A\", \"type\": \"box\", \"y\": [8, 11, 4, 8, 9, 9, 11, 10, 8, 11, 11, 10, 6, 9, 10, 12, 10, 6, 7, 9, 12, 15, 9, 8, 8, 8, 17, 9, 8, 12, 8, 9, 9, 8, 9, 15, 7, 9, 7, 9, 9, 10, 11, 7, 8, 17, 14, 9, 19, 5, 9, 9, 13, 5, 10, 9, 7, 11, 10, 13, 5, 6, 9, 9, 7, 10, 7, 10, 10, 9, 11, 11, 12, 22, 9, 8, 7, 6, 7, 13, 4, 8, 14, 13, 11, 7, 8, 9, 6, 6, 8, 10, 8, 11, 10, 6, 12, 9, 11, 8, 14, 11, 10, 10, 11, 12, 9, 10, 7, 9, 8, 20, 5, 10, 11, 11, 15, 8, 11, 22, 8, 8, 18, 16, 7, 8, 10, 8, 7, 9, 11, 9, 12, 11, 9, 11, 6, 7, 13, 10, 4, 6, 14, 8, 7, 9, 11, 10, 7, 10, 17, 10, 9, 11, 8, 9, 5, 11, 8, 8, 7, 11, 10, 9, 12, 9, 9, 8, 11, 9, 7, 11, 9, 10, 9, 10, 7, 14, 13, 5, 10, 7, 11, 7, 6, 8, 4, 12, 11, 8, 8, 11, 11, 10, 8, 15, 19, 6, 8, 9, 9, 9, 14, 18, 11, 7, 7, 10, 11, 13, 14, 12, 8, 8, 8, 11, 9, 11, 8, 19, 10, 17, 7, 10, 12, 9, 10, 6, 8, 7, 11, 9, 8, 8, 11, 6, 8, 8, 8, 12, 13, 7, 7, 6, 7, 8, 14, 14, 8, 9, 10, 7, 7, 10, 8, 5, 9, 9, 9, 14, 7, 18, 10, 11, 5, 11, 12, 12, 11, 10, 10, 24, 7, 9, 4, 9, 10, 15, 10, 12, 12, 8, 11, 8, 6, 12, 8, 13, 11, 7, 10, 16, 8, 6, 8, 10, 8, 12, 9, 11, 8, 10, 14, 12, 13, 11, 15, 8, 6, 23, 11, 6, 9, 8, 9, 13, 12, 9, 8, 9, 17, 15, 9, 6, 13, 8, 10, 19, 27, 12, 10, 9, 8, 11, 7, 5, 15, 10, 8, 8, 7, 8, 9, 9, 12, 10, 7, 8, 21, 10, 11, 11, 8, 11, 5, 7, 12, 9, 10, 9, 15, 9, 15, 7, 10, 6, 10, 6, 6, 10, 7, 9, 10, 13, 6, 12, 19, 11, 10, 16, 10, 9, 10, 13, 8, 11, 13, 6, 9, 14, 8, 8, 10, 7, 12, 14, 10, 11, 7, 6]}, {\"name\": \"B\", \"type\": \"box\", \"y\": [7, 9, 17, 9, 7, 9, 9, 11, 8, 10, 11, 7, 11, 13, 10, 9, 10, 8, 7, 7, 9, 6, 8, 13, 13, 5, 12, 12, 11, 15, 11, 6, 18, 6, 9, 15, 8, 9, 9, 14, 8, 10, 10, 11, 11, 12, 9, 12, 11, 9, 9, 18, 8, 13, 10, 9, 13, 6, 11, 12, 15, 10, 7, 16, 12, 4, 9, 6, 8, 9, 11, 20, 6, 8, 7, 9, 7, 8, 13, 18, 10, 10, 10, 5, 9, 11, 11, 10, 10, 10, 12, 8, 11, 9, 8, 8, 10, 10, 20, 7, 14, 10, 12, 7, 13, 8, 12, 8, 16, 8, 8, 21, 14, 16, 12, 5, 7, 16, 10, 11, 7, 9, 13, 11, 8, 15, 10, 8, 8, 12, 6, 10, 9, 8, 13, 7, 8, 12, 12, 8, 10, 12, 11, 12, 9, 8, 8, 18, 7, 10, 11, 13, 8, 9, 10, 8, 8, 9, 10, 6, 11, 8, 17, 4, 6, 8, 8, 9, 9, 10, 8, 12, 5, 9, 10, 11, 10, 10, 11, 5, 9, 14, 8, 10, 10, 9, 7, 13, 9, 6, 14, 10, 10, 13, 8, 9, 9, 13, 8, 9, 10, 11, 6, 8, 9, 11, 7, 8, 8, 4, 12, 14, 6, 20, 3, 4, 10, 8, 11, 9, 9, 5, 8, 6, 8, 17, 10, 6, 6, 7, 4, 8, 12, 13, 10, 9, 14, 8, 12, 10, 8, 9, 8, 10, 4, 8, 7, 10, 11, 13, 10, 23, 10, 11, 11, 7, 9, 15, 7, 11, 9, 8, 7, 8, 11, 8, 5, 13, 11, 19, 10, 10, 6, 6, 10, 10, 9, 9, 8, 12, 9, 14, 11, 6, 9, 9, 10, 15, 10, 7, 12, 9, 19, 10, 5, 11, 14, 8, 8, 5, 10, 6, 11, 9, 8, 8, 14, 9, 11, 7, 10, 10, 9, 10, 9, 10, 12, 10, 12, 13, 8, 5, 11, 9, 7, 12, 7, 12, 14, 10, 19, 11, 12, 9, 6, 8, 10, 12, 10, 5, 10, 10, 8, 7, 9, 8, 16, 7, 9, 10, 6, 8, 9, 7, 7, 5, 16, 9, 8, 9, 6, 9, 11, 10, 12, 4, 11, 14, 8, 8, 8, 9, 11, 8, 7, 12, 12, 9, 16, 10, 11, 7, 9, 6, 12, 8, 10, 6, 5, 12, 8, 9, 10, 11, 9, 7, 9, 16, 9, 11, 9, 6, 17, 6, 7, 9, 9, 8, 8, 4, 10, 11, 9, 8, 10, 5, 9, 12, 9, 11, 11, 11, 10, 10, 9, 10, 5, 13, 10, 10, 10, 10, 9, 13, 8, 19, 6, 10, 7, 13, 12, 9, 10, 9, 7, 6, 10, 8, 11, 9, 7, 11, 7, 11, 17, 11, 9, 9, 12, 11, 12, 9, 7, 7, 10, 10, 11, 11, 9, 9, 7, 7, 9, 7, 12, 6, 7, 5, 6, 11, 13, 11, 13, 10, 6, 7, 8, 13, 5, 11, 6, 10, 12, 6, 13, 11, 11, 12, 9, 12, 11, 13, 20, 7, 11, 11, 10, 9, 15, 6, 11, 6, 8, 9, 5, 7, 21, 6, 10, 6, 9, 9, 9, 8, 8, 13, 11, 10, 11, 10, 11, 10, 6, 10, 11, 10, 9, 9, 12, 24, 5, 9, 7, 5, 7, 10, 9, 13, 12, 8, 9, 10, 7, 8, 7, 11, 12, 15, 10, 16, 7, 9, 13, 12, 7, 3, 8, 10, 8, 8, 14, 9, 8, 13, 8, 14, 9, 10, 12, 17, 8, 7, 15, 9, 14, 9, 10, 19, 3, 15, 10, 10, 8, 10, 10, 7, 19, 11, 8, 7, 8, 8, 7, 12, 8, 7, 10, 9, 9, 16, 7, 12, 8, 6, 6, 13, 8, 11, 11, 10, 11, 10, 13, 7, 6, 8, 6, 7, 24, 7, 9, 15, 8, 9, 9, 8, 9, 9, 17, 8, 7, 8, 9, 5, 8, 10, 10, 9, 18, 11, 9, 15, 11, 12, 11, 6, 9, 9, 5, 11, 9, 14, 8, 15, 7, 5, 13, 11, 11, 9, 6, 11, 9, 9, 15, 9, 9, 6, 10, 20, 11, 11, 10, 9, 9, 10, 12, 11, 7, 10, 10, 17, 8, 7, 9, 16, 9, 11, 11, 7, 6, 9, 10, 11, 10, 11, 8, 8, 10, 8, 6, 18, 9, 10, 8, 9, 16, 11, 8, 12, 6, 8, 5, 11, 15, 8, 8, 8, 10, 8, 9, 14, 9, 10, 6, 13, 6, 9, 11, 20, 10, 15, 11, 11, 8, 10, 3, 5, 8, 9, 9, 8, 10, 8, 10, 8, 11, 17, 10, 7, 10, 18, 8, 9, 9, 6, 12, 12, 11, 5, 4, 11, 13, 11, 5, 17, 9, 9, 10, 10, 7, 10, 20, 10, 11, 8, 10, 10, 10, 19, 9, 14, 5, 12, 9, 8, 10, 7, 8, 17]}],                        {\"template\": {\"data\": {\"bar\": [{\"error_x\": {\"color\": \"#2a3f5f\"}, \"error_y\": {\"color\": \"#2a3f5f\"}, \"marker\": {\"line\": {\"color\": \"#E5ECF6\", \"width\": 0.5}}, \"type\": \"bar\"}], \"barpolar\": [{\"marker\": {\"line\": {\"color\": \"#E5ECF6\", \"width\": 0.5}}, \"type\": \"barpolar\"}], \"carpet\": [{\"aaxis\": {\"endlinecolor\": \"#2a3f5f\", \"gridcolor\": \"white\", \"linecolor\": \"white\", \"minorgridcolor\": \"white\", \"startlinecolor\": \"#2a3f5f\"}, \"baxis\": {\"endlinecolor\": \"#2a3f5f\", \"gridcolor\": \"white\", \"linecolor\": \"white\", \"minorgridcolor\": \"white\", \"startlinecolor\": \"#2a3f5f\"}, \"type\": \"carpet\"}], \"choropleth\": [{\"colorbar\": {\"outlinewidth\": 0, \"ticks\": \"\"}, \"type\": \"choropleth\"}], \"contour\": [{\"colorbar\": {\"outlinewidth\": 0, \"ticks\": \"\"}, \"colorscale\": [[0.0, \"#0d0887\"], [0.1111111111111111, \"#46039f\"], [0.2222222222222222, \"#7201a8\"], [0.3333333333333333, \"#9c179e\"], [0.4444444444444444, \"#bd3786\"], [0.5555555555555556, \"#d8576b\"], [0.6666666666666666, \"#ed7953\"], [0.7777777777777778, \"#fb9f3a\"], [0.8888888888888888, \"#fdca26\"], [1.0, \"#f0f921\"]], \"type\": \"contour\"}], \"contourcarpet\": [{\"colorbar\": {\"outlinewidth\": 0, \"ticks\": \"\"}, \"type\": \"contourcarpet\"}], \"heatmap\": [{\"colorbar\": {\"outlinewidth\": 0, \"ticks\": \"\"}, \"colorscale\": [[0.0, \"#0d0887\"], [0.1111111111111111, \"#46039f\"], [0.2222222222222222, \"#7201a8\"], [0.3333333333333333, \"#9c179e\"], [0.4444444444444444, \"#bd3786\"], [0.5555555555555556, \"#d8576b\"], [0.6666666666666666, \"#ed7953\"], [0.7777777777777778, \"#fb9f3a\"], [0.8888888888888888, \"#fdca26\"], [1.0, \"#f0f921\"]], \"type\": \"heatmap\"}], \"heatmapgl\": [{\"colorbar\": {\"outlinewidth\": 0, \"ticks\": \"\"}, \"colorscale\": [[0.0, \"#0d0887\"], [0.1111111111111111, \"#46039f\"], [0.2222222222222222, \"#7201a8\"], [0.3333333333333333, \"#9c179e\"], [0.4444444444444444, \"#bd3786\"], [0.5555555555555556, \"#d8576b\"], [0.6666666666666666, \"#ed7953\"], [0.7777777777777778, \"#fb9f3a\"], [0.8888888888888888, \"#fdca26\"], [1.0, \"#f0f921\"]], \"type\": \"heatmapgl\"}], \"histogram\": [{\"marker\": {\"colorbar\": {\"outlinewidth\": 0, \"ticks\": \"\"}}, \"type\": \"histogram\"}], \"histogram2d\": [{\"colorbar\": {\"outlinewidth\": 0, \"ticks\": \"\"}, \"colorscale\": [[0.0, \"#0d0887\"], [0.1111111111111111, \"#46039f\"], [0.2222222222222222, \"#7201a8\"], [0.3333333333333333, \"#9c179e\"], [0.4444444444444444, \"#bd3786\"], [0.5555555555555556, \"#d8576b\"], [0.6666666666666666, \"#ed7953\"], [0.7777777777777778, \"#fb9f3a\"], [0.8888888888888888, \"#fdca26\"], [1.0, \"#f0f921\"]], \"type\": \"histogram2d\"}], \"histogram2dcontour\": [{\"colorbar\": {\"outlinewidth\": 0, \"ticks\": \"\"}, \"colorscale\": [[0.0, \"#0d0887\"], [0.1111111111111111, \"#46039f\"], [0.2222222222222222, \"#7201a8\"], [0.3333333333333333, \"#9c179e\"], [0.4444444444444444, \"#bd3786\"], [0.5555555555555556, \"#d8576b\"], [0.6666666666666666, \"#ed7953\"], [0.7777777777777778, \"#fb9f3a\"], [0.8888888888888888, \"#fdca26\"], [1.0, \"#f0f921\"]], \"type\": \"histogram2dcontour\"}], \"mesh3d\": [{\"colorbar\": {\"outlinewidth\": 0, \"ticks\": \"\"}, \"type\": \"mesh3d\"}], \"parcoords\": [{\"line\": {\"colorbar\": {\"outlinewidth\": 0, \"ticks\": \"\"}}, \"type\": \"parcoords\"}], \"pie\": [{\"automargin\": true, \"type\": \"pie\"}], \"scatter\": [{\"marker\": {\"colorbar\": {\"outlinewidth\": 0, \"ticks\": \"\"}}, \"type\": \"scatter\"}], \"scatter3d\": [{\"line\": {\"colorbar\": {\"outlinewidth\": 0, \"ticks\": \"\"}}, \"marker\": {\"colorbar\": {\"outlinewidth\": 0, \"ticks\": \"\"}}, \"type\": \"scatter3d\"}], \"scattercarpet\": [{\"marker\": {\"colorbar\": {\"outlinewidth\": 0, \"ticks\": \"\"}}, \"type\": \"scattercarpet\"}], \"scattergeo\": [{\"marker\": {\"colorbar\": {\"outlinewidth\": 0, \"ticks\": \"\"}}, \"type\": \"scattergeo\"}], \"scattergl\": [{\"marker\": {\"colorbar\": {\"outlinewidth\": 0, \"ticks\": \"\"}}, \"type\": \"scattergl\"}], \"scattermapbox\": [{\"marker\": {\"colorbar\": {\"outlinewidth\": 0, \"ticks\": \"\"}}, \"type\": \"scattermapbox\"}], \"scatterpolar\": [{\"marker\": {\"colorbar\": {\"outlinewidth\": 0, \"ticks\": \"\"}}, \"type\": \"scatterpolar\"}], \"scatterpolargl\": [{\"marker\": {\"colorbar\": {\"outlinewidth\": 0, \"ticks\": \"\"}}, \"type\": \"scatterpolargl\"}], \"scatterternary\": [{\"marker\": {\"colorbar\": {\"outlinewidth\": 0, \"ticks\": \"\"}}, \"type\": \"scatterternary\"}], \"surface\": [{\"colorbar\": {\"outlinewidth\": 0, \"ticks\": \"\"}, \"colorscale\": [[0.0, \"#0d0887\"], [0.1111111111111111, \"#46039f\"], [0.2222222222222222, \"#7201a8\"], [0.3333333333333333, \"#9c179e\"], [0.4444444444444444, \"#bd3786\"], [0.5555555555555556, \"#d8576b\"], [0.6666666666666666, \"#ed7953\"], [0.7777777777777778, \"#fb9f3a\"], [0.8888888888888888, \"#fdca26\"], [1.0, \"#f0f921\"]], \"type\": \"surface\"}], \"table\": [{\"cells\": {\"fill\": {\"color\": \"#EBF0F8\"}, \"line\": {\"color\": \"white\"}}, \"header\": {\"fill\": {\"color\": \"#C8D4E3\"}, \"line\": {\"color\": \"white\"}}, \"type\": \"table\"}]}, \"layout\": {\"annotationdefaults\": {\"arrowcolor\": \"#2a3f5f\", \"arrowhead\": 0, \"arrowwidth\": 1}, \"autotypenumbers\": \"strict\", \"coloraxis\": {\"colorbar\": {\"outlinewidth\": 0, \"ticks\": \"\"}}, \"colorscale\": {\"diverging\": [[0, \"#8e0152\"], [0.1, \"#c51b7d\"], [0.2, \"#de77ae\"], [0.3, \"#f1b6da\"], [0.4, \"#fde0ef\"], [0.5, \"#f7f7f7\"], [0.6, \"#e6f5d0\"], [0.7, \"#b8e186\"], [0.8, \"#7fbc41\"], [0.9, \"#4d9221\"], [1, \"#276419\"]], \"sequential\": [[0.0, \"#0d0887\"], [0.1111111111111111, \"#46039f\"], [0.2222222222222222, \"#7201a8\"], [0.3333333333333333, \"#9c179e\"], [0.4444444444444444, \"#bd3786\"], [0.5555555555555556, \"#d8576b\"], [0.6666666666666666, \"#ed7953\"], [0.7777777777777778, \"#fb9f3a\"], [0.8888888888888888, \"#fdca26\"], [1.0, \"#f0f921\"]], \"sequentialminus\": [[0.0, \"#0d0887\"], [0.1111111111111111, \"#46039f\"], [0.2222222222222222, \"#7201a8\"], [0.3333333333333333, \"#9c179e\"], [0.4444444444444444, \"#bd3786\"], [0.5555555555555556, \"#d8576b\"], [0.6666666666666666, \"#ed7953\"], [0.7777777777777778, \"#fb9f3a\"], [0.8888888888888888, \"#fdca26\"], [1.0, \"#f0f921\"]]}, \"colorway\": [\"#636efa\", \"#EF553B\", \"#00cc96\", \"#ab63fa\", \"#FFA15A\", \"#19d3f3\", \"#FF6692\", \"#B6E880\", \"#FF97FF\", \"#FECB52\"], \"font\": {\"color\": \"#2a3f5f\"}, \"geo\": {\"bgcolor\": \"white\", \"lakecolor\": \"white\", \"landcolor\": \"#E5ECF6\", \"showlakes\": true, \"showland\": true, \"subunitcolor\": \"white\"}, \"hoverlabel\": {\"align\": \"left\"}, \"hovermode\": \"closest\", \"mapbox\": {\"style\": \"light\"}, \"paper_bgcolor\": \"white\", \"plot_bgcolor\": \"#E5ECF6\", \"polar\": {\"angularaxis\": {\"gridcolor\": \"white\", \"linecolor\": \"white\", \"ticks\": \"\"}, \"bgcolor\": \"#E5ECF6\", \"radialaxis\": {\"gridcolor\": \"white\", \"linecolor\": \"white\", \"ticks\": \"\"}}, \"scene\": {\"xaxis\": {\"backgroundcolor\": \"#E5ECF6\", \"gridcolor\": \"white\", \"gridwidth\": 2, \"linecolor\": \"white\", \"showbackground\": true, \"ticks\": \"\", \"zerolinecolor\": \"white\"}, \"yaxis\": {\"backgroundcolor\": \"#E5ECF6\", \"gridcolor\": \"white\", \"gridwidth\": 2, \"linecolor\": \"white\", \"showbackground\": true, \"ticks\": \"\", \"zerolinecolor\": \"white\"}, \"zaxis\": {\"backgroundcolor\": \"#E5ECF6\", \"gridcolor\": \"white\", \"gridwidth\": 2, \"linecolor\": \"white\", \"showbackground\": true, \"ticks\": \"\", \"zerolinecolor\": \"white\"}}, \"shapedefaults\": {\"line\": {\"color\": \"#2a3f5f\"}}, \"ternary\": {\"aaxis\": {\"gridcolor\": \"white\", \"linecolor\": \"white\", \"ticks\": \"\"}, \"baxis\": {\"gridcolor\": \"white\", \"linecolor\": \"white\", \"ticks\": \"\"}, \"bgcolor\": \"#E5ECF6\", \"caxis\": {\"gridcolor\": \"white\", \"linecolor\": \"white\", \"ticks\": \"\"}}, \"title\": {\"x\": 0.05}, \"xaxis\": {\"automargin\": true, \"gridcolor\": \"white\", \"linecolor\": \"white\", \"ticks\": \"\", \"title\": {\"standoff\": 15}, \"zerolinecolor\": \"white\", \"zerolinewidth\": 2}, \"yaxis\": {\"automargin\": true, \"gridcolor\": \"white\", \"linecolor\": \"white\", \"ticks\": \"\", \"title\": {\"standoff\": 15}, \"zerolinecolor\": \"white\", \"zerolinewidth\": 2}}}, \"title\": {\"text\": \"Boxplot comparison of 2 samples\"}},                        {\"responsive\": true}                    ).then(function(){\n",
       "                            \n",
       "var gd = document.getElementById('6444a60d-03c0-4b60-9a03-c74e50beba66');\n",
       "var x = new MutationObserver(function (mutations, observer) {{\n",
       "        var display = window.getComputedStyle(gd).display;\n",
       "        if (!display || display === 'none') {{\n",
       "            console.log([gd, 'removed!']);\n",
       "            Plotly.purge(gd);\n",
       "            observer.disconnect();\n",
       "        }}\n",
       "}});\n",
       "\n",
       "// Listen for the removal of the full notebook cells\n",
       "var notebookContainer = gd.closest('#notebook-container');\n",
       "if (notebookContainer) {{\n",
       "    x.observe(notebookContainer, {childList: true});\n",
       "}}\n",
       "\n",
       "// Listen for the clearing of the current output cell\n",
       "var outputEl = gd.closest('.output');\n",
       "if (outputEl) {{\n",
       "    x.observe(outputEl, {childList: true});\n",
       "}}\n",
       "\n",
       "                        })                };                });            </script>        </div>"
      ]
     },
     "metadata": {},
     "output_type": "display_data"
    }
   ],
   "source": [
    "# Use box plots to show that the samples do derive from the same population.\n",
    "import plotly.graph_objs as go\n",
    "import plotly.offline as pyo\n",
    "import pandas as pd\n",
    "import numpy as np\n",
    "\n",
    "df = pd.read_csv('../../data/bronze/plotlydash/abalone.csv')\n",
    "\n",
    "# take two random samples of different sizes:\n",
    "df1 = df.sample(400)\n",
    "df2 = df.sample(800)\n",
    "\n",
    "# create a data variable with two Box plots:\n",
    "trace1 = go.Box(y=df1[\"rings\"], name='A')\n",
    "trace2 = go.Box(y=df2[\"rings\"], name='B')\n",
    "data = [trace1, trace2]\n",
    "layout = go.Layout(title=\"Boxplot comparison of 2 samples\")\n",
    "fig = go.Figure(data=data, layout=layout)\n",
    "pyo.iplot(fig)"
   ]
  },
  {
   "cell_type": "markdown",
   "metadata": {},
   "source": [
    "## histogram"
   ]
  },
  {
   "cell_type": "code",
   "execution_count": 38,
   "metadata": {},
   "outputs": [
    {
     "data": {
      "application/vnd.plotly.v1+json": {
       "config": {
        "linkText": "Export to plot.ly",
        "plotlyServerURL": "https://plot.ly",
        "showLink": false
       },
       "data": [
        {
         "type": "histogram",
         "x": [
          0.455,
          0.35,
          0.53,
          0.44,
          0.33,
          0.425,
          0.53,
          0.545,
          0.475,
          0.55,
          0.525,
          0.43,
          0.49,
          0.535,
          0.47,
          0.5,
          0.355,
          0.44,
          0.365,
          0.45,
          0.355,
          0.38,
          0.565,
          0.55,
          0.615,
          0.56,
          0.58,
          0.59,
          0.605,
          0.575,
          0.58,
          0.68,
          0.665,
          0.68,
          0.705,
          0.465,
          0.54,
          0.45,
          0.575,
          0.355,
          0.45,
          0.55,
          0.24,
          0.205,
          0.21,
          0.39,
          0.47,
          0.46,
          0.325,
          0.525,
          0.52,
          0.4,
          0.485,
          0.47,
          0.405,
          0.5,
          0.445,
          0.47,
          0.245,
          0.505,
          0.45,
          0.505,
          0.53,
          0.425,
          0.52,
          0.475,
          0.565,
          0.595,
          0.475,
          0.31,
          0.555,
          0.4,
          0.595,
          0.57,
          0.605,
          0.6,
          0.595,
          0.6,
          0.555,
          0.615,
          0.575,
          0.62,
          0.52,
          0.595,
          0.58,
          0.57,
          0.625,
          0.56,
          0.46,
          0.575,
          0.565,
          0.555,
          0.595,
          0.625,
          0.695,
          0.665,
          0.535,
          0.47,
          0.47,
          0.475,
          0.36,
          0.55,
          0.53,
          0.53,
          0.605,
          0.52,
          0.545,
          0.5,
          0.51,
          0.435,
          0.495,
          0.465,
          0.435,
          0.425,
          0.545,
          0.53,
          0.49,
          0.44,
          0.56,
          0.405,
          0.47,
          0.385,
          0.515,
          0.37,
          0.36,
          0.27,
          0.375,
          0.385,
          0.7,
          0.71,
          0.595,
          0.44,
          0.325,
          0.35,
          0.265,
          0.425,
          0.305,
          0.345,
          0.405,
          0.375,
          0.565,
          0.55,
          0.65,
          0.56,
          0.475,
          0.49,
          0.46,
          0.28,
          0.175,
          0.17,
          0.59,
          0.605,
          0.635,
          0.605,
          0.565,
          0.515,
          0.575,
          0.645,
          0.58,
          0.575,
          0.605,
          0.605,
          0.61,
          0.725,
          0.65,
          0.725,
          0.725,
          0.68,
          0.705,
          0.68,
          0.695,
          0.53,
          0.525,
          0.52,
          0.235,
          0.36,
          0.315,
          0.315,
          0.225,
          0.58,
          0.57,
          0.64,
          0.56,
          0.62,
          0.645,
          0.62,
          0.63,
          0.63,
          0.63,
          0.585,
          0.615,
          0.61,
          0.58,
          0.355,
          0.51,
          0.5,
          0.505,
          0.64,
          0.56,
          0.585,
          0.45,
          0.5,
          0.5,
          0.53,
          0.42,
          0.44,
          0.4,
          0.435,
          0.525,
          0.37,
          0.49,
          0.335,
          0.415,
          0.5,
          0.485,
          0.55,
          0.45,
          0.405,
          0.47,
          0.415,
          0.445,
          0.47,
          0.49,
          0.445,
          0.425,
          0.5,
          0.39,
          0.365,
          0.58,
          0.53,
          0.555,
          0.565,
          0.625,
          0.275,
          0.44,
          0.295,
          0.075,
          0.13,
          0.11,
          0.16,
          0.565,
          0.27,
          0.23,
          0.3,
          0.33,
          0.35,
          0.32,
          0.36,
          0.305,
          0.345,
          0.33,
          0.59,
          0.595,
          0.575,
          0.6,
          0.56,
          0.56,
          0.545,
          0.635,
          0.59,
          0.54,
          0.57,
          0.53,
          0.245,
          0.27,
          0.46,
          0.52,
          0.35,
          0.47,
          0.45,
          0.64,
          0.59,
          0.62,
          0.63,
          0.63,
          0.655,
          0.66,
          0.61,
          0.635,
          0.515,
          0.535,
          0.36,
          0.455,
          0.485,
          0.515,
          0.535,
          0.53,
          0.495,
          0.44,
          0.535,
          0.54,
          0.565,
          0.61,
          0.565,
          0.6,
          0.295,
          0.275,
          0.28,
          0.49,
          0.37,
          0.405,
          0.54,
          0.37,
          0.36,
          0.47,
          0.2,
          0.165,
          0.645,
          0.55,
          0.57,
          0.63,
          0.56,
          0.595,
          0.62,
          0.63,
          0.45,
          0.635,
          0.45,
          0.58,
          0.33,
          0.265,
          0.19,
          0.385,
          0.265,
          0.335,
          0.355,
          0.32,
          0.51,
          0.36,
          0.36,
          0.5,
          0.4,
          0.3,
          0.235,
          0.74,
          0.62,
          0.6,
          0.59,
          0.62,
          0.565,
          0.575,
          0.62,
          0.62,
          0.505,
          0.46,
          0.49,
          0.525,
          0.34,
          0.375,
          0.61,
          0.61,
          0.585,
          0.57,
          0.58,
          0.635,
          0.7,
          0.675,
          0.645,
          0.745,
          0.685,
          0.605,
          0.59,
          0.65,
          0.6,
          0.62,
          0.63,
          0.58,
          0.58,
          0.63,
          0.69,
          0.65,
          0.66,
          0.68,
          0.7,
          0.685,
          0.675,
          0.63,
          0.585,
          0.565,
          0.61,
          0.605,
          0.535,
          0.485,
          0.47,
          0.545,
          0.455,
          0.54,
          0.46,
          0.49,
          0.465,
          0.415,
          0.475,
          0.47,
          0.365,
          0.345,
          0.39,
          0.5,
          0.47,
          0.535,
          0.585,
          0.485,
          0.515,
          0.435,
          0.515,
          0.44,
          0.525,
          0.45,
          0.59,
          0.555,
          0.57,
          0.59,
          0.585,
          0.58,
          0.545,
          0.605,
          0.62,
          0.63,
          0.63,
          0.63,
          0.545,
          0.67,
          0.49,
          0.49,
          0.29,
          0.26,
          0.58,
          0.61,
          0.6,
          0.56,
          0.575,
          0.57,
          0.6,
          0.565,
          0.545,
          0.44,
          0.5,
          0.36,
          0.385,
          0.39,
          0.5,
          0.36,
          0.335,
          0.505,
          0.395,
          0.41,
          0.56,
          0.565,
          0.565,
          0.605,
          0.565,
          0.725,
          0.675,
          0.665,
          0.565,
          0.645,
          0.575,
          0.64,
          0.36,
          0.415,
          0.525,
          0.38,
          0.585,
          0.24,
          0.22,
          0.255,
          0.175,
          0.67,
          0.655,
          0.68,
          0.675,
          0.53,
          0.515,
          0.43,
          0.52,
          0.545,
          0.53,
          0.465,
          0.665,
          0.735,
          0.66,
          0.7,
          0.575,
          0.57,
          0.58,
          0.63,
          0.585,
          0.55,
          0.625,
          0.54,
          0.57,
          0.59,
          0.58,
          0.655,
          0.655,
          0.625,
          0.625,
          0.64,
          0.605,
          0.615,
          0.555,
          0.58,
          0.62,
          0.62,
          0.6,
          0.625,
          0.6,
          0.56,
          0.585,
          0.56,
          0.56,
          0.68,
          0.455,
          0.49,
          0.31,
          0.275,
          0.27,
          0.4,
          0.28,
          0.325,
          0.345,
          0.21,
          0.36,
          0.365,
          0.2,
          0.235,
          0.175,
          0.155,
          0.57,
          0.57,
          0.385,
          0.53,
          0.46,
          0.47,
          0.435,
          0.47,
          0.465,
          0.52,
          0.29,
          0.275,
          0.375,
          0.5,
          0.44,
          0.42,
          0.445,
          0.38,
          0.32,
          0.255,
          0.205,
          0.565,
          0.555,
          0.65,
          0.615,
          0.56,
          0.48,
          0.485,
          0.5,
          0.525,
          0.66,
          0.66,
          0.52,
          0.44,
          0.515,
          0.475,
          0.545,
          0.47,
          0.35,
          0.485,
          0.435,
          0.28,
          0.41,
          0.45,
          0.45,
          0.59,
          0.57,
          0.61,
          0.61,
          0.56,
          0.585,
          0.58,
          0.63,
          0.625,
          0.55,
          0.645,
          0.46,
          0.41,
          0.495,
          0.52,
          0.55,
          0.45,
          0.405,
          0.51,
          0.37,
          0.525,
          0.66,
          0.535,
          0.575,
          0.55,
          0.605,
          0.605,
          0.56,
          0.535,
          0.385,
          0.39,
          0.47,
          0.515,
          0.425,
          0.345,
          0.485,
          0.37,
          0.35,
          0.44,
          0.195,
          0.325,
          0.495,
          0.45,
          0.415,
          0.47,
          0.32,
          0.31,
          0.235,
          0.345,
          0.485,
          0.5,
          0.5,
          0.465,
          0.525,
          0.425,
          0.38,
          0.53,
          0.34,
          0.475,
          0.43,
          0.46,
          0.47,
          0.36,
          0.355,
          0.38,
          0.355,
          0.44,
          0.51,
          0.325,
          0.62,
          0.59,
          0.33,
          0.45,
          0.445,
          0.33,
          0.48,
          0.46,
          0.475,
          0.255,
          0.335,
          0.47,
          0.31,
          0.37,
          0.295,
          0.555,
          0.615,
          0.58,
          0.585,
          0.65,
          0.535,
          0.415,
          0.38,
          0.45,
          0.395,
          0.455,
          0.485,
          0.55,
          0.45,
          0.475,
          0.5,
          0.53,
          0.49,
          0.49,
          0.52,
          0.54,
          0.5,
          0.45,
          0.37,
          0.37,
          0.485,
          0.435,
          0.535,
          0.51,
          0.565,
          0.535,
          0.535,
          0.525,
          0.59,
          0.5,
          0.255,
          0.43,
          0.38,
          0.165,
          0.315,
          0.155,
          0.28,
          0.43,
          0.395,
          0.385,
          0.48,
          0.445,
          0.395,
          0.4,
          0.415,
          0.315,
          0.345,
          0.36,
          0.295,
          0.325,
          0.375,
          0.28,
          0.355,
          0.35,
          0.275,
          0.29,
          0.25,
          0.18,
          0.15,
          0.16,
          0.555,
          0.555,
          0.525,
          0.465,
          0.49,
          0.4,
          0.48,
          0.505,
          0.52,
          0.525,
          0.545,
          0.52,
          0.505,
          0.525,
          0.51,
          0.52,
          0.52,
          0.535,
          0.445,
          0.53,
          0.36,
          0.535,
          0.52,
          0.53,
          0.53,
          0.66,
          0.52,
          0.535,
          0.695,
          0.51,
          0.485,
          0.605,
          0.58,
          0.65,
          0.62,
          0.615,
          0.605,
          0.57,
          0.57,
          0.585,
          0.55,
          0.54,
          0.64,
          0.61,
          0.545,
          0.59,
          0.345,
          0.55,
          0.53,
          0.53,
          0.485,
          0.385,
          0.455,
          0.49,
          0.53,
          0.505,
          0.49,
          0.465,
          0.47,
          0.56,
          0.505,
          0.515,
          0.385,
          0.215,
          0.55,
          0.515,
          0.495,
          0.505,
          0.6,
          0.57,
          0.485,
          0.47,
          0.575,
          0.58,
          0.515,
          0.53,
          0.44,
          0.52,
          0.425,
          0.46,
          0.45,
          0.425,
          0.37,
          0.515,
          0.405,
          0.28,
          0.48,
          0.44,
          0.52,
          0.505,
          0.49,
          0.235,
          0.255,
          0.315,
          0.325,
          0.335,
          0.35,
          0.35,
          0.36,
          0.365,
          0.37,
          0.38,
          0.385,
          0.385,
          0.395,
          0.395,
          0.4,
          0.41,
          0.415,
          0.415,
          0.425,
          0.44,
          0.445,
          0.445,
          0.45,
          0.47,
          0.475,
          0.48,
          0.485,
          0.49,
          0.495,
          0.5,
          0.505,
          0.525,
          0.54,
          0.54,
          0.545,
          0.55,
          0.55,
          0.55,
          0.555,
          0.565,
          0.57,
          0.57,
          0.575,
          0.59,
          0.59,
          0.595,
          0.595,
          0.595,
          0.595,
          0.6,
          0.6,
          0.6,
          0.605,
          0.605,
          0.615,
          0.615,
          0.615,
          0.615,
          0.62,
          0.62,
          0.625,
          0.625,
          0.63,
          0.635,
          0.635,
          0.635,
          0.64,
          0.65,
          0.655,
          0.655,
          0.66,
          0.66,
          0.67,
          0.675,
          0.675,
          0.68,
          0.685,
          0.695,
          0.73,
          0.205,
          0.24,
          0.24,
          0.255,
          0.255,
          0.265,
          0.28,
          0.295,
          0.3,
          0.3,
          0.305,
          0.315,
          0.315,
          0.32,
          0.325,
          0.33,
          0.335,
          0.335,
          0.34,
          0.34,
          0.345,
          0.37,
          0.37,
          0.375,
          0.385,
          0.41,
          0.41,
          0.41,
          0.415,
          0.42,
          0.42,
          0.425,
          0.425,
          0.43,
          0.43,
          0.435,
          0.435,
          0.44,
          0.44,
          0.445,
          0.445,
          0.45,
          0.45,
          0.45,
          0.45,
          0.455,
          0.455,
          0.46,
          0.46,
          0.465,
          0.465,
          0.465,
          0.465,
          0.47,
          0.47,
          0.475,
          0.475,
          0.48,
          0.48,
          0.48,
          0.48,
          0.485,
          0.49,
          0.495,
          0.495,
          0.5,
          0.5,
          0.5,
          0.5,
          0.505,
          0.505,
          0.505,
          0.505,
          0.51,
          0.51,
          0.51,
          0.51,
          0.51,
          0.515,
          0.515,
          0.525,
          0.525,
          0.53,
          0.53,
          0.53,
          0.535,
          0.535,
          0.535,
          0.55,
          0.55,
          0.56,
          0.565,
          0.57,
          0.57,
          0.57,
          0.57,
          0.57,
          0.575,
          0.575,
          0.58,
          0.58,
          0.58,
          0.58,
          0.58,
          0.59,
          0.59,
          0.59,
          0.595,
          0.595,
          0.595,
          0.595,
          0.595,
          0.605,
          0.605,
          0.605,
          0.61,
          0.61,
          0.615,
          0.62,
          0.625,
          0.625,
          0.625,
          0.625,
          0.625,
          0.63,
          0.63,
          0.63,
          0.635,
          0.635,
          0.64,
          0.64,
          0.64,
          0.645,
          0.645,
          0.645,
          0.645,
          0.645,
          0.645,
          0.645,
          0.65,
          0.65,
          0.65,
          0.655,
          0.655,
          0.66,
          0.66,
          0.66,
          0.66,
          0.67,
          0.675,
          0.675,
          0.68,
          0.69,
          0.69,
          0.695,
          0.705,
          0.71,
          0.715,
          0.715,
          0.735,
          0.765,
          0.185,
          0.195,
          0.195,
          0.2,
          0.225,
          0.245,
          0.25,
          0.265,
          0.275,
          0.28,
          0.285,
          0.3,
          0.315,
          0.32,
          0.34,
          0.37,
          0.375,
          0.375,
          0.385,
          0.4,
          0.405,
          0.41,
          0.41,
          0.42,
          0.42,
          0.42,
          0.425,
          0.43,
          0.435,
          0.435,
          0.44,
          0.445,
          0.445,
          0.445,
          0.45,
          0.45,
          0.45,
          0.45,
          0.45,
          0.46,
          0.47,
          0.47,
          0.475,
          0.475,
          0.48,
          0.49,
          0.5,
          0.5,
          0.5,
          0.5,
          0.505,
          0.51,
          0.51,
          0.51,
          0.51,
          0.515,
          0.52,
          0.52,
          0.52,
          0.52,
          0.525,
          0.525,
          0.525,
          0.525,
          0.53,
          0.535,
          0.54,
          0.545,
          0.545,
          0.545,
          0.55,
          0.55,
          0.55,
          0.56,
          0.56,
          0.56,
          0.56,
          0.565,
          0.565,
          0.565,
          0.57,
          0.57,
          0.57,
          0.575,
          0.575,
          0.575,
          0.575,
          0.575,
          0.575,
          0.575,
          0.575,
          0.58,
          0.58,
          0.58,
          0.58,
          0.58,
          0.58,
          0.585,
          0.585,
          0.59,
          0.6,
          0.6,
          0.6,
          0.6,
          0.605,
          0.605,
          0.605,
          0.605,
          0.61,
          0.61,
          0.61,
          0.615,
          0.615,
          0.615,
          0.62,
          0.62,
          0.62,
          0.625,
          0.625,
          0.63,
          0.63,
          0.635,
          0.64,
          0.645,
          0.645,
          0.65,
          0.65,
          0.655,
          0.655,
          0.66,
          0.665,
          0.665,
          0.67,
          0.685,
          0.685,
          0.69,
          0.69,
          0.69,
          0.695,
          0.7,
          0.7,
          0.7,
          0.705,
          0.71,
          0.715,
          0.715,
          0.72,
          0.72,
          0.72,
          0.725,
          0.73,
          0.735,
          0.745,
          0.75,
          0.755,
          0.755,
          0.78,
          0.185,
          0.245,
          0.25,
          0.25,
          0.275,
          0.305,
          0.31,
          0.315,
          0.315,
          0.325,
          0.33,
          0.33,
          0.335,
          0.34,
          0.345,
          0.345,
          0.35,
          0.35,
          0.36,
          0.365,
          0.365,
          0.365,
          0.37,
          0.37,
          0.375,
          0.375,
          0.375,
          0.375,
          0.375,
          0.375,
          0.38,
          0.38,
          0.385,
          0.385,
          0.385,
          0.385,
          0.39,
          0.395,
          0.395,
          0.395,
          0.4,
          0.405,
          0.41,
          0.42,
          0.425,
          0.425,
          0.425,
          0.43,
          0.43,
          0.435,
          0.44,
          0.45,
          0.455,
          0.455,
          0.455,
          0.46,
          0.46,
          0.46,
          0.465,
          0.47,
          0.47,
          0.47,
          0.475,
          0.475,
          0.475,
          0.48,
          0.48,
          0.48,
          0.495,
          0.495,
          0.495,
          0.5,
          0.5,
          0.5,
          0.5,
          0.5,
          0.5,
          0.505,
          0.505,
          0.505,
          0.515,
          0.515,
          0.515,
          0.52,
          0.52,
          0.525,
          0.525,
          0.53,
          0.53,
          0.53,
          0.53,
          0.535,
          0.535,
          0.535,
          0.535,
          0.54,
          0.54,
          0.545,
          0.545,
          0.545,
          0.545,
          0.55,
          0.55,
          0.55,
          0.55,
          0.55,
          0.555,
          0.555,
          0.555,
          0.555,
          0.56,
          0.56,
          0.56,
          0.56,
          0.565,
          0.565,
          0.565,
          0.565,
          0.57,
          0.57,
          0.57,
          0.57,
          0.57,
          0.57,
          0.575,
          0.575,
          0.575,
          0.58,
          0.58,
          0.58,
          0.585,
          0.585,
          0.585,
          0.585,
          0.585,
          0.585,
          0.585,
          0.59,
          0.59,
          0.59,
          0.595,
          0.595,
          0.6,
          0.6,
          0.6,
          0.6,
          0.6,
          0.6,
          0.605,
          0.605,
          0.605,
          0.605,
          0.605,
          0.61,
          0.61,
          0.61,
          0.61,
          0.61,
          0.61,
          0.615,
          0.615,
          0.615,
          0.615,
          0.615,
          0.615,
          0.615,
          0.62,
          0.62,
          0.62,
          0.62,
          0.625,
          0.625,
          0.625,
          0.625,
          0.63,
          0.63,
          0.63,
          0.63,
          0.63,
          0.635,
          0.635,
          0.635,
          0.635,
          0.635,
          0.64,
          0.64,
          0.645,
          0.645,
          0.645,
          0.65,
          0.65,
          0.65,
          0.65,
          0.65,
          0.655,
          0.655,
          0.655,
          0.655,
          0.66,
          0.66,
          0.665,
          0.67,
          0.67,
          0.675,
          0.685,
          0.695,
          0.7,
          0.705,
          0.705,
          0.705,
          0.71,
          0.72,
          0.72,
          0.725,
          0.73,
          0.735,
          0.745,
          0.75,
          0.815,
          0.14,
          0.23,
          0.365,
          0.365,
          0.37,
          0.375,
          0.385,
          0.395,
          0.4,
          0.4,
          0.405,
          0.405,
          0.405,
          0.41,
          0.415,
          0.425,
          0.43,
          0.44,
          0.44,
          0.44,
          0.45,
          0.455,
          0.46,
          0.47,
          0.47,
          0.47,
          0.475,
          0.475,
          0.475,
          0.48,
          0.485,
          0.485,
          0.485,
          0.495,
          0.505,
          0.505,
          0.515,
          0.515,
          0.515,
          0.52,
          0.525,
          0.53,
          0.53,
          0.545,
          0.55,
          0.55,
          0.56,
          0.56,
          0.57,
          0.575,
          0.575,
          0.58,
          0.58,
          0.585,
          0.59,
          0.59,
          0.59,
          0.595,
          0.6,
          0.6,
          0.605,
          0.605,
          0.605,
          0.61,
          0.615,
          0.62,
          0.62,
          0.62,
          0.625,
          0.625,
          0.63,
          0.63,
          0.63,
          0.63,
          0.63,
          0.635,
          0.635,
          0.64,
          0.645,
          0.645,
          0.645,
          0.65,
          0.65,
          0.65,
          0.65,
          0.655,
          0.655,
          0.66,
          0.665,
          0.67,
          0.67,
          0.67,
          0.68,
          0.68,
          0.69,
          0.7,
          0.7,
          0.705,
          0.72,
          0.725,
          0.74,
          0.75,
          0.21,
          0.285,
          0.295,
          0.3,
          0.305,
          0.335,
          0.35,
          0.355,
          0.355,
          0.36,
          0.36,
          0.36,
          0.365,
          0.37,
          0.375,
          0.38,
          0.38,
          0.385,
          0.385,
          0.385,
          0.39,
          0.39,
          0.39,
          0.41,
          0.41,
          0.415,
          0.425,
          0.425,
          0.435,
          0.435,
          0.45,
          0.45,
          0.455,
          0.46,
          0.46,
          0.465,
          0.465,
          0.47,
          0.475,
          0.475,
          0.475,
          0.48,
          0.48,
          0.48,
          0.485,
          0.49,
          0.49,
          0.495,
          0.495,
          0.5,
          0.5,
          0.5,
          0.51,
          0.515,
          0.515,
          0.515,
          0.515,
          0.515,
          0.52,
          0.52,
          0.525,
          0.525,
          0.525,
          0.525,
          0.525,
          0.53,
          0.53,
          0.53,
          0.53,
          0.535,
          0.54,
          0.54,
          0.54,
          0.54,
          0.54,
          0.54,
          0.54,
          0.545,
          0.545,
          0.545,
          0.55,
          0.55,
          0.55,
          0.55,
          0.55,
          0.555,
          0.555,
          0.555,
          0.56,
          0.56,
          0.56,
          0.565,
          0.565,
          0.565,
          0.565,
          0.57,
          0.57,
          0.57,
          0.57,
          0.57,
          0.57,
          0.575,
          0.575,
          0.575,
          0.575,
          0.575,
          0.575,
          0.575,
          0.575,
          0.575,
          0.575,
          0.575,
          0.58,
          0.58,
          0.58,
          0.58,
          0.585,
          0.59,
          0.59,
          0.59,
          0.595,
          0.595,
          0.595,
          0.595,
          0.6,
          0.6,
          0.6,
          0.6,
          0.6,
          0.6,
          0.6,
          0.605,
          0.605,
          0.605,
          0.605,
          0.605,
          0.605,
          0.61,
          0.61,
          0.61,
          0.61,
          0.61,
          0.61,
          0.61,
          0.61,
          0.615,
          0.615,
          0.62,
          0.62,
          0.62,
          0.62,
          0.62,
          0.62,
          0.62,
          0.62,
          0.62,
          0.62,
          0.625,
          0.625,
          0.625,
          0.625,
          0.625,
          0.625,
          0.63,
          0.63,
          0.63,
          0.63,
          0.63,
          0.635,
          0.635,
          0.635,
          0.635,
          0.64,
          0.64,
          0.64,
          0.645,
          0.645,
          0.645,
          0.645,
          0.645,
          0.645,
          0.645,
          0.645,
          0.645,
          0.645,
          0.645,
          0.65,
          0.65,
          0.65,
          0.65,
          0.655,
          0.655,
          0.655,
          0.655,
          0.66,
          0.66,
          0.66,
          0.66,
          0.665,
          0.665,
          0.665,
          0.665,
          0.665,
          0.67,
          0.67,
          0.67,
          0.67,
          0.67,
          0.675,
          0.675,
          0.68,
          0.68,
          0.685,
          0.685,
          0.69,
          0.7,
          0.7,
          0.705,
          0.71,
          0.71,
          0.71,
          0.71,
          0.72,
          0.72,
          0.72,
          0.725,
          0.73,
          0.735,
          0.74,
          0.75,
          0.75,
          0.77,
          0.775,
          0.275,
          0.375,
          0.375,
          0.39,
          0.435,
          0.445,
          0.455,
          0.455,
          0.455,
          0.465,
          0.465,
          0.485,
          0.485,
          0.485,
          0.49,
          0.5,
          0.515,
          0.515,
          0.525,
          0.525,
          0.53,
          0.535,
          0.535,
          0.545,
          0.545,
          0.545,
          0.55,
          0.55,
          0.57,
          0.575,
          0.575,
          0.58,
          0.585,
          0.585,
          0.6,
          0.6,
          0.605,
          0.605,
          0.61,
          0.615,
          0.62,
          0.625,
          0.625,
          0.635,
          0.635,
          0.64,
          0.645,
          0.65,
          0.65,
          0.655,
          0.655,
          0.665,
          0.675,
          0.685,
          0.695,
          0.695,
          0.705,
          0.72,
          0.72,
          0.73,
          0.185,
          0.24,
          0.31,
          0.34,
          0.35,
          0.365,
          0.365,
          0.365,
          0.39,
          0.405,
          0.41,
          0.41,
          0.415,
          0.415,
          0.415,
          0.42,
          0.43,
          0.435,
          0.435,
          0.435,
          0.435,
          0.445,
          0.465,
          0.47,
          0.475,
          0.485,
          0.485,
          0.485,
          0.495,
          0.495,
          0.495,
          0.5,
          0.505,
          0.505,
          0.51,
          0.515,
          0.515,
          0.515,
          0.52,
          0.52,
          0.52,
          0.52,
          0.52,
          0.525,
          0.525,
          0.525,
          0.53,
          0.53,
          0.53,
          0.53,
          0.535,
          0.54,
          0.54,
          0.54,
          0.545,
          0.545,
          0.55,
          0.55,
          0.555,
          0.555,
          0.555,
          0.555,
          0.555,
          0.56,
          0.565,
          0.565,
          0.565,
          0.565,
          0.565,
          0.565,
          0.57,
          0.57,
          0.57,
          0.57,
          0.57,
          0.575,
          0.575,
          0.575,
          0.575,
          0.575,
          0.575,
          0.575,
          0.575,
          0.575,
          0.575,
          0.58,
          0.58,
          0.58,
          0.58,
          0.58,
          0.595,
          0.6,
          0.6,
          0.6,
          0.6,
          0.605,
          0.605,
          0.605,
          0.61,
          0.61,
          0.61,
          0.61,
          0.615,
          0.615,
          0.615,
          0.615,
          0.62,
          0.62,
          0.62,
          0.62,
          0.62,
          0.62,
          0.625,
          0.625,
          0.625,
          0.625,
          0.625,
          0.625,
          0.63,
          0.635,
          0.635,
          0.635,
          0.635,
          0.635,
          0.635,
          0.64,
          0.64,
          0.64,
          0.64,
          0.64,
          0.64,
          0.645,
          0.645,
          0.645,
          0.65,
          0.65,
          0.65,
          0.655,
          0.655,
          0.655,
          0.66,
          0.66,
          0.665,
          0.665,
          0.665,
          0.67,
          0.675,
          0.675,
          0.68,
          0.68,
          0.685,
          0.69,
          0.695,
          0.7,
          0.7,
          0.7,
          0.705,
          0.72,
          0.72,
          0.725,
          0.75,
          0.76,
          0.135,
          0.16,
          0.21,
          0.28,
          0.28,
          0.285,
          0.29,
          0.29,
          0.29,
          0.32,
          0.325,
          0.335,
          0.35,
          0.35,
          0.355,
          0.36,
          0.36,
          0.375,
          0.375,
          0.395,
          0.405,
          0.415,
          0.425,
          0.43,
          0.435,
          0.45,
          0.46,
          0.47,
          0.47,
          0.475,
          0.505,
          0.505,
          0.505,
          0.51,
          0.515,
          0.525,
          0.53,
          0.53,
          0.545,
          0.55,
          0.56,
          0.565,
          0.57,
          0.58,
          0.59,
          0.6,
          0.605,
          0.61,
          0.625,
          0.66,
          0.255,
          0.27,
          0.28,
          0.285,
          0.32,
          0.325,
          0.385,
          0.395,
          0.4,
          0.405,
          0.415,
          0.42,
          0.44,
          0.445,
          0.45,
          0.455,
          0.46,
          0.46,
          0.465,
          0.465,
          0.475,
          0.48,
          0.485,
          0.49,
          0.5,
          0.5,
          0.505,
          0.525,
          0.535,
          0.535,
          0.54,
          0.54,
          0.545,
          0.55,
          0.55,
          0.565,
          0.58,
          0.58,
          0.585,
          0.595,
          0.6,
          0.61,
          0.61,
          0.62,
          0.645,
          0.65,
          0.665,
          0.685,
          0.69,
          0.705,
          0.71,
          0.72,
          0.72,
          0.73,
          0.775,
          0.505,
          0.53,
          0.505,
          0.405,
          0.415,
          0.5,
          0.425,
          0.47,
          0.4,
          0.37,
          0.5,
          0.41,
          0.375,
          0.49,
          0.585,
          0.595,
          0.675,
          0.665,
          0.62,
          0.325,
          0.455,
          0.525,
          0.385,
          0.13,
          0.18,
          0.31,
          0.375,
          0.48,
          0.455,
          0.425,
          0.475,
          0.435,
          0.29,
          0.385,
          0.47,
          0.5,
          0.4,
          0.62,
          0.595,
          0.585,
          0.32,
          0.52,
          0.44,
          0.44,
          0.565,
          0.56,
          0.59,
          0.57,
          0.68,
          0.45,
          0.32,
          0.46,
          0.47,
          0.455,
          0.415,
          0.465,
          0.46,
          0.415,
          0.27,
          0.445,
          0.745,
          0.4,
          0.28,
          0.55,
          0.58,
          0.61,
          0.62,
          0.56,
          0.64,
          0.69,
          0.715,
          0.71,
          0.55,
          0.375,
          0.61,
          0.38,
          0.37,
          0.335,
          0.165,
          0.285,
          0.19,
          0.215,
          0.595,
          0.645,
          0.575,
          0.57,
          0.58,
          0.595,
          0.595,
          0.625,
          0.535,
          0.55,
          0.495,
          0.32,
          0.445,
          0.52,
          0.495,
          0.47,
          0.49,
          0.58,
          0.645,
          0.575,
          0.215,
          0.43,
          0.26,
          0.37,
          0.405,
          0.27,
          0.68,
          0.65,
          0.645,
          0.57,
          0.615,
          0.42,
          0.275,
          0.29,
          0.42,
          0.625,
          0.55,
          0.66,
          0.565,
          0.595,
          0.63,
          0.43,
          0.455,
          0.33,
          0.515,
          0.495,
          0.485,
          0.535,
          0.58,
          0.625,
          0.555,
          0.55,
          0.59,
          0.355,
          0.275,
          0.505,
          0.37,
          0.555,
          0.505,
          0.56,
          0.595,
          0.57,
          0.6,
          0.56,
          0.585,
          0.46,
          0.46,
          0.415,
          0.435,
          0.475,
          0.465,
          0.355,
          0.46,
          0.38,
          0.47,
          0.36,
          0.585,
          0.655,
          0.6,
          0.57,
          0.645,
          0.65,
          0.51,
          0.52,
          0.495,
          0.43,
          0.59,
          0.55,
          0.585,
          0.58,
          0.62,
          0.59,
          0.72,
          0.635,
          0.61,
          0.545,
          0.57,
          0.6,
          0.52,
          0.635,
          0.67,
          0.695,
          0.655,
          0.62,
          0.6,
          0.51,
          0.525,
          0.44,
          0.485,
          0.495,
          0.435,
          0.405,
          0.42,
          0.5,
          0.385,
          0.33,
          0.58,
          0.325,
          0.475,
          0.38,
          0.34,
          0.525,
          0.52,
          0.535,
          0.475,
          0.415,
          0.495,
          0.48,
          0.52,
          0.46,
          0.58,
          0.59,
          0.55,
          0.65,
          0.465,
          0.455,
          0.47,
          0.435,
          0.35,
          0.315,
          0.595,
          0.58,
          0.575,
          0.535,
          0.515,
          0.505,
          0.505,
          0.4,
          0.49,
          0.53,
          0.395,
          0.665,
          0.415,
          0.43,
          0.475,
          0.525,
          0.48,
          0.42,
          0.59,
          0.515,
          0.695,
          0.8,
          0.61,
          0.565,
          0.56,
          0.655,
          0.64,
          0.59,
          0.31,
          0.255,
          0.17,
          0.67,
          0.71,
          0.56,
          0.505,
          0.525,
          0.45,
          0.515,
          0.59,
          0.7,
          0.72,
          0.635,
          0.555,
          0.575,
          0.585,
          0.61,
          0.645,
          0.545,
          0.55,
          0.66,
          0.57,
          0.6,
          0.63,
          0.695,
          0.65,
          0.72,
          0.56,
          0.42,
          0.18,
          0.405,
          0.5,
          0.435,
          0.34,
          0.43,
          0.535,
          0.415,
          0.36,
          0.175,
          0.155,
          0.525,
          0.525,
          0.44,
          0.45,
          0.485,
          0.47,
          0.515,
          0.42,
          0.455,
          0.37,
          0.33,
          0.3,
          0.625,
          0.61,
          0.625,
          0.635,
          0.5,
          0.53,
          0.445,
          0.585,
          0.44,
          0.29,
          0.555,
          0.655,
          0.58,
          0.625,
          0.62,
          0.64,
          0.505,
          0.5,
          0.31,
          0.505,
          0.42,
          0.4,
          0.425,
          0.31,
          0.465,
          0.465,
          0.35,
          0.52,
          0.475,
          0.41,
          0.26,
          0.575,
          0.565,
          0.26,
          0.53,
          0.34,
          0.52,
          0.635,
          0.61,
          0.66,
          0.635,
          0.465,
          0.515,
          0.335,
          0.515,
          0.345,
          0.465,
          0.54,
          0.475,
          0.445,
          0.5,
          0.5,
          0.55,
          0.275,
          0.35,
          0.37,
          0.42,
          0.35,
          0.395,
          0.325,
          0.275,
          0.235,
          0.25,
          0.25,
          0.2,
          0.585,
          0.445,
          0.5,
          0.44,
          0.515,
          0.52,
          0.5,
          0.425,
          0.51,
          0.37,
          0.54,
          0.615,
          0.565,
          0.645,
          0.615,
          0.605,
          0.59,
          0.645,
          0.57,
          0.47,
          0.5,
          0.52,
          0.39,
          0.52,
          0.54,
          0.46,
          0.355,
          0.49,
          0.63,
          0.5,
          0.49,
          0.44,
          0.515,
          0.475,
          0.42,
          0.4,
          0.45,
          0.52,
          0.505,
          0.495,
          0.54,
          0.48,
          0.33,
          0.285,
          0.3,
          0.31,
          0.34,
          0.375,
          0.415,
          0.415,
          0.415,
          0.42,
          0.425,
          0.465,
          0.465,
          0.47,
          0.47,
          0.475,
          0.48,
          0.5,
          0.505,
          0.525,
          0.54,
          0.545,
          0.565,
          0.58,
          0.59,
          0.59,
          0.595,
          0.6,
          0.6,
          0.6,
          0.605,
          0.625,
          0.63,
          0.64,
          0.64,
          0.655,
          0.66,
          0.66,
          0.675,
          0.675,
          0.69,
          0.695,
          0.7,
          0.73,
          0.205,
          0.225,
          0.23,
          0.275,
          0.28,
          0.28,
          0.295,
          0.31,
          0.315,
          0.34,
          0.37,
          0.38,
          0.39,
          0.405,
          0.415,
          0.44,
          0.44,
          0.44,
          0.44,
          0.45,
          0.45,
          0.455,
          0.46,
          0.46,
          0.46,
          0.465,
          0.465,
          0.475,
          0.475,
          0.48,
          0.5,
          0.5,
          0.505,
          0.515,
          0.525,
          0.525,
          0.53,
          0.53,
          0.53,
          0.54,
          0.55,
          0.555,
          0.57,
          0.57,
          0.575,
          0.58,
          0.585,
          0.59,
          0.595,
          0.595,
          0.595,
          0.6,
          0.6,
          0.6,
          0.61,
          0.615,
          0.615,
          0.615,
          0.62,
          0.62,
          0.62,
          0.625,
          0.625,
          0.625,
          0.63,
          0.63,
          0.63,
          0.635,
          0.635,
          0.645,
          0.645,
          0.65,
          0.67,
          0.69,
          0.69,
          0.695,
          0.695,
          0.7,
          0.705,
          0.765,
          0.77,
          0.22,
          0.275,
          0.29,
          0.33,
          0.355,
          0.375,
          0.415,
          0.425,
          0.425,
          0.43,
          0.44,
          0.44,
          0.46,
          0.46,
          0.465,
          0.475,
          0.475,
          0.485,
          0.49,
          0.49,
          0.495,
          0.5,
          0.5,
          0.505,
          0.51,
          0.51,
          0.515,
          0.52,
          0.545,
          0.545,
          0.545,
          0.545,
          0.55,
          0.55,
          0.555,
          0.565,
          0.57,
          0.57,
          0.57,
          0.575,
          0.58,
          0.585,
          0.585,
          0.59,
          0.59,
          0.59,
          0.595,
          0.595,
          0.595,
          0.6,
          0.605,
          0.615,
          0.615,
          0.615,
          0.615,
          0.62,
          0.62,
          0.625,
          0.625,
          0.625,
          0.63,
          0.63,
          0.63,
          0.645,
          0.645,
          0.645,
          0.65,
          0.65,
          0.65,
          0.65,
          0.65,
          0.66,
          0.665,
          0.67,
          0.67,
          0.675,
          0.68,
          0.68,
          0.7,
          0.7,
          0.725,
          0.725,
          0.735,
          0.74,
          0.75,
          0.19,
          0.21,
          0.25,
          0.29,
          0.335,
          0.34,
          0.345,
          0.355,
          0.36,
          0.37,
          0.375,
          0.375,
          0.385,
          0.385,
          0.395,
          0.4,
          0.405,
          0.405,
          0.405,
          0.405,
          0.41,
          0.41,
          0.415,
          0.42,
          0.42,
          0.43,
          0.445,
          0.45,
          0.45,
          0.455,
          0.46,
          0.46,
          0.475,
          0.48,
          0.485,
          0.485,
          0.49,
          0.505,
          0.505,
          0.51,
          0.515,
          0.515,
          0.515,
          0.525,
          0.525,
          0.525,
          0.525,
          0.535,
          0.545,
          0.55,
          0.55,
          0.55,
          0.55,
          0.55,
          0.555,
          0.555,
          0.56,
          0.56,
          0.565,
          0.57,
          0.575,
          0.58,
          0.58,
          0.58,
          0.585,
          0.585,
          0.585,
          0.585,
          0.59,
          0.59,
          0.595,
          0.6,
          0.6,
          0.6,
          0.6,
          0.61,
          0.61,
          0.615,
          0.62,
          0.62,
          0.625,
          0.625,
          0.63,
          0.63,
          0.63,
          0.63,
          0.64,
          0.64,
          0.64,
          0.64,
          0.64,
          0.65,
          0.65,
          0.66,
          0.66,
          0.675,
          0.7,
          0.705,
          0.71,
          0.72,
          0.725,
          0.24,
          0.255,
          0.275,
          0.32,
          0.325,
          0.33,
          0.36,
          0.375,
          0.375,
          0.39,
          0.45,
          0.455,
          0.46,
          0.495,
          0.5,
          0.5,
          0.52,
          0.52,
          0.525,
          0.535,
          0.54,
          0.54,
          0.57,
          0.57,
          0.58,
          0.58,
          0.59,
          0.59,
          0.59,
          0.595,
          0.6,
          0.6,
          0.605,
          0.62,
          0.625,
          0.625,
          0.625,
          0.63,
          0.63,
          0.635,
          0.645,
          0.645,
          0.65,
          0.655,
          0.655,
          0.665,
          0.695,
          0.72,
          0.72,
          0.72,
          0.735,
          0.74,
          0.31,
          0.315,
          0.32,
          0.325,
          0.335,
          0.37,
          0.37,
          0.375,
          0.4,
          0.41,
          0.425,
          0.435,
          0.445,
          0.46,
          0.465,
          0.47,
          0.475,
          0.495,
          0.5,
          0.5,
          0.505,
          0.505,
          0.505,
          0.51,
          0.51,
          0.52,
          0.52,
          0.53,
          0.53,
          0.535,
          0.54,
          0.54,
          0.545,
          0.545,
          0.55,
          0.55,
          0.55,
          0.56,
          0.56,
          0.575,
          0.575,
          0.575,
          0.58,
          0.58,
          0.58,
          0.58,
          0.58,
          0.58,
          0.585,
          0.59,
          0.59,
          0.59,
          0.595,
          0.595,
          0.6,
          0.6,
          0.6,
          0.6,
          0.6,
          0.605,
          0.605,
          0.605,
          0.61,
          0.61,
          0.61,
          0.61,
          0.615,
          0.615,
          0.615,
          0.615,
          0.62,
          0.62,
          0.625,
          0.625,
          0.625,
          0.625,
          0.625,
          0.63,
          0.63,
          0.63,
          0.63,
          0.635,
          0.635,
          0.635,
          0.635,
          0.635,
          0.64,
          0.64,
          0.645,
          0.645,
          0.645,
          0.65,
          0.65,
          0.655,
          0.655,
          0.66,
          0.66,
          0.665,
          0.67,
          0.67,
          0.67,
          0.67,
          0.67,
          0.68,
          0.68,
          0.685,
          0.69,
          0.715,
          0.72,
          0.735,
          0.745,
          0.32,
          0.43,
          0.43,
          0.485,
          0.49,
          0.5,
          0.505,
          0.51,
          0.525,
          0.535,
          0.535,
          0.535,
          0.555,
          0.555,
          0.56,
          0.59,
          0.595,
          0.595,
          0.595,
          0.61,
          0.61,
          0.62,
          0.625,
          0.635,
          0.635,
          0.64,
          0.64,
          0.645,
          0.655,
          0.67,
          0.68,
          0.7,
          0.73,
          0.75,
          0.255,
          0.375,
          0.375,
          0.39,
          0.39,
          0.395,
          0.42,
          0.435,
          0.435,
          0.44,
          0.45,
          0.45,
          0.455,
          0.46,
          0.47,
          0.475,
          0.495,
          0.495,
          0.5,
          0.515,
          0.52,
          0.52,
          0.525,
          0.535,
          0.535,
          0.54,
          0.55,
          0.55,
          0.56,
          0.565,
          0.57,
          0.57,
          0.575,
          0.575,
          0.575,
          0.575,
          0.58,
          0.585,
          0.59,
          0.59,
          0.59,
          0.595,
          0.595,
          0.595,
          0.6,
          0.6,
          0.61,
          0.615,
          0.615,
          0.62,
          0.625,
          0.63,
          0.63,
          0.635,
          0.635,
          0.635,
          0.64,
          0.64,
          0.65,
          0.65,
          0.655,
          0.655,
          0.655,
          0.66,
          0.665,
          0.675,
          0.68,
          0.68,
          0.685,
          0.695,
          0.7,
          0.71,
          0.73,
          0.755,
          0.225,
          0.23,
          0.255,
          0.355,
          0.425,
          0.425,
          0.455,
          0.46,
          0.495,
          0.51,
          0.52,
          0.525,
          0.53,
          0.53,
          0.545,
          0.55,
          0.575,
          0.58,
          0.595,
          0.6,
          0.645,
          0.66,
          0.29,
          0.3,
          0.37,
          0.375,
          0.38,
          0.395,
          0.41,
          0.415,
          0.425,
          0.44,
          0.44,
          0.465,
          0.47,
          0.51,
          0.525,
          0.525,
          0.55,
          0.56,
          0.575,
          0.575,
          0.585,
          0.615,
          0.62,
          0.63,
          0.63,
          0.67,
          0.675,
          0.685,
          0.485,
          0.46,
          0.46,
          0.535,
          0.465,
          0.51,
          0.335,
          0.55,
          0.18,
          0.215,
          0.2,
          0.625,
          0.55,
          0.585,
          0.645,
          0.71,
          0.7,
          0.655,
          0.665,
          0.47,
          0.425,
          0.54,
          0.505,
          0.535,
          0.43,
          0.55,
          0.34,
          0.275,
          0.335,
          0.64,
          0.55,
          0.64,
          0.545,
          0.64,
          0.605,
          0.605,
          0.56,
          0.57,
          0.525,
          0.505,
          0.35,
          0.45,
          0.51,
          0.49,
          0.505,
          0.38,
          0.27,
          0.37,
          0.5,
          0.645,
          0.565,
          0.67,
          0.59,
          0.47,
          0.51,
          0.72,
          0.55,
          0.2,
          0.65,
          0.525,
          0.565,
          0.61,
          0.545,
          0.325,
          0.31,
          0.45,
          0.49,
          0.505,
          0.385,
          0.62,
          0.635,
          0.665,
          0.335,
          0.295,
          0.48,
          0.32,
          0.43,
          0.565,
          0.6,
          0.585,
          0.555,
          0.57,
          0.62,
          0.63,
          0.425,
          0.64,
          0.675,
          0.5,
          0.385,
          0.52,
          0.52,
          0.64,
          0.44,
          0.42,
          0.45,
          0.42,
          0.64,
          0.57,
          0.41,
          0.485,
          0.61,
          0.59,
          0.665,
          0.345,
          0.635,
          0.695,
          0.69,
          0.555,
          0.65,
          0.635,
          0.655,
          0.69,
          0.695,
          0.55,
          0.61,
          0.595,
          0.3,
          0.435,
          0.455,
          0.48,
          0.43,
          0.435,
          0.3,
          0.575,
          0.505,
          0.455,
          0.64,
          0.56,
          0.645,
          0.595,
          0.565,
          0.655,
          0.48,
          0.495,
          0.4,
          0.41,
          0.595,
          0.625,
          0.52,
          0.465,
          0.475,
          0.5,
          0.46,
          0.485,
          0.465,
          0.525,
          0.655,
          0.69,
          0.55,
          0.58,
          0.59,
          0.565,
          0.665,
          0.62,
          0.55,
          0.605,
          0.535,
          0.51,
          0.53,
          0.495,
          0.575,
          0.63,
          0.59,
          0.605,
          0.645,
          0.62,
          0.605,
          0.615,
          0.66,
          0.71,
          0.565,
          0.57,
          0.6,
          0.41,
          0.45,
          0.275,
          0.485,
          0.62,
          0.48,
          0.505,
          0.4,
          0.45,
          0.35,
          0.44,
          0.265,
          0.165,
          0.705,
          0.535,
          0.49,
          0.48,
          0.395,
          0.375,
          0.345,
          0.55,
          0.635,
          0.575,
          0.545,
          0.385,
          0.51,
          0.44,
          0.45,
          0.39,
          0.425,
          0.45,
          0.66,
          0.685,
          0.585,
          0.54,
          0.49,
          0.43,
          0.455,
          0.495,
          0.48,
          0.47,
          0.415,
          0.49,
          0.47,
          0.445,
          0.51,
          0.52,
          0.475,
          0.455,
          0.435,
          0.39,
          0.375,
          0.285,
          0.58,
          0.58,
          0.41,
          0.41,
          0.54,
          0.33,
          0.44,
          0.28,
          0.59,
          0.61,
          0.61,
          0.455,
          0.33,
          0.44,
          0.54,
          0.475,
          0.46,
          0.31,
          0.255,
          0.335,
          0.295,
          0.19,
          0.545,
          0.495,
          0.5,
          0.305,
          0.475,
          0.515,
          0.545,
          0.74,
          0.565,
          0.56,
          0.545,
          0.645,
          0.575,
          0.62,
          0.605,
          0.605,
          0.475,
          0.365,
          0.46,
          0.53,
          0.48,
          0.455,
          0.35,
          0.37,
          0.34,
          0.35,
          0.35,
          0.39,
          0.395,
          0.415,
          0.43,
          0.48,
          0.49,
          0.49,
          0.56,
          0.56,
          0.58,
          0.58,
          0.59,
          0.595,
          0.6,
          0.61,
          0.63,
          0.64,
          0.65,
          0.71,
          0.74,
          0.25,
          0.28,
          0.325,
          0.35,
          0.36,
          0.365,
          0.37,
          0.375,
          0.38,
          0.395,
          0.43,
          0.44,
          0.465,
          0.465,
          0.48,
          0.485,
          0.49,
          0.495,
          0.5,
          0.505,
          0.52,
          0.52,
          0.525,
          0.55,
          0.555,
          0.555,
          0.575,
          0.6,
          0.61,
          0.61,
          0.61,
          0.615,
          0.62,
          0.625,
          0.625,
          0.625,
          0.635,
          0.64,
          0.64,
          0.66,
          0.665,
          0.715,
          0.72,
          0.725,
          0.165,
          0.21,
          0.355,
          0.4,
          0.4,
          0.4,
          0.435,
          0.44,
          0.45,
          0.465,
          0.47,
          0.47,
          0.475,
          0.485,
          0.505,
          0.51,
          0.52,
          0.53,
          0.535,
          0.55,
          0.555,
          0.555,
          0.555,
          0.56,
          0.575,
          0.585,
          0.59,
          0.595,
          0.6,
          0.6,
          0.61,
          0.615,
          0.62,
          0.625,
          0.625,
          0.64,
          0.64,
          0.645,
          0.65,
          0.655,
          0.655,
          0.66,
          0.67,
          0.69,
          0.7,
          0.7,
          0.71,
          0.715,
          0.72,
          0.215,
          0.24,
          0.26,
          0.32,
          0.33,
          0.335,
          0.35,
          0.35,
          0.36,
          0.36,
          0.365,
          0.38,
          0.4,
          0.4,
          0.4,
          0.425,
          0.43,
          0.435,
          0.435,
          0.445,
          0.45,
          0.455,
          0.46,
          0.475,
          0.475,
          0.475,
          0.48,
          0.495,
          0.5,
          0.505,
          0.515,
          0.525,
          0.53,
          0.53,
          0.535,
          0.535,
          0.54,
          0.55,
          0.565,
          0.57,
          0.57,
          0.57,
          0.575,
          0.575,
          0.575,
          0.575,
          0.58,
          0.58,
          0.58,
          0.58,
          0.585,
          0.585,
          0.595,
          0.6,
          0.6,
          0.6,
          0.6,
          0.6,
          0.6,
          0.62,
          0.625,
          0.625,
          0.625,
          0.625,
          0.625,
          0.63,
          0.635,
          0.65,
          0.65,
          0.65,
          0.65,
          0.655,
          0.655,
          0.66,
          0.66,
          0.675,
          0.685,
          0.715,
          0.735,
          0.175,
          0.37,
          0.395,
          0.42,
          0.455,
          0.495,
          0.51,
          0.515,
          0.545,
          0.555,
          0.58,
          0.59,
          0.6,
          0.61,
          0.615,
          0.615,
          0.615,
          0.62,
          0.63,
          0.64,
          0.64,
          0.655,
          0.655,
          0.66,
          0.665,
          0.67,
          0.69,
          0.715,
          0.735,
          0.27,
          0.285,
          0.295,
          0.3,
          0.3,
          0.36,
          0.37,
          0.39,
          0.435,
          0.44,
          0.44,
          0.445,
          0.465,
          0.465,
          0.47,
          0.475,
          0.475,
          0.475,
          0.485,
          0.49,
          0.515,
          0.52,
          0.525,
          0.525,
          0.53,
          0.53,
          0.53,
          0.53,
          0.535,
          0.535,
          0.545,
          0.545,
          0.55,
          0.55,
          0.55,
          0.555,
          0.575,
          0.575,
          0.585,
          0.585,
          0.585,
          0.59,
          0.595,
          0.595,
          0.595,
          0.595,
          0.6,
          0.6,
          0.605,
          0.605,
          0.61,
          0.61,
          0.615,
          0.62,
          0.62,
          0.62,
          0.62,
          0.625,
          0.625,
          0.63,
          0.63,
          0.64,
          0.645,
          0.65,
          0.65,
          0.65,
          0.65,
          0.65,
          0.65,
          0.65,
          0.65,
          0.66,
          0.66,
          0.665,
          0.67,
          0.67,
          0.67,
          0.675,
          0.675,
          0.675,
          0.685,
          0.685,
          0.705,
          0.705,
          0.71,
          0.725,
          0.78,
          0.235,
          0.35,
          0.36,
          0.38,
          0.38,
          0.43,
          0.465,
          0.47,
          0.485,
          0.495,
          0.5,
          0.505,
          0.51,
          0.51,
          0.515,
          0.55,
          0.575,
          0.605,
          0.615,
          0.615,
          0.625,
          0.625,
          0.635,
          0.65,
          0.65,
          0.67,
          0.695,
          0.705,
          0.275,
          0.285,
          0.36,
          0.385,
          0.4,
          0.43,
          0.435,
          0.45,
          0.475,
          0.475,
          0.485,
          0.51,
          0.515,
          0.52,
          0.525,
          0.53,
          0.53,
          0.53,
          0.53,
          0.53,
          0.535,
          0.535,
          0.555,
          0.555,
          0.56,
          0.56,
          0.565,
          0.575,
          0.575,
          0.575,
          0.58,
          0.58,
          0.585,
          0.585,
          0.59,
          0.595,
          0.615,
          0.615,
          0.62,
          0.62,
          0.62,
          0.625,
          0.625,
          0.63,
          0.63,
          0.645,
          0.65,
          0.65,
          0.655,
          0.665,
          0.67,
          0.675,
          0.675,
          0.695,
          0.695,
          0.705,
          0.74,
          0.205,
          0.305,
          0.32,
          0.355,
          0.425,
          0.425,
          0.45,
          0.515,
          0.52,
          0.525,
          0.555,
          0.61,
          0.35,
          0.38,
          0.46,
          0.465,
          0.475,
          0.565,
          0.57,
          0.57,
          0.595,
          0.605,
          0.615,
          0.62,
          0.625,
          0.68,
          0.68,
          0.68,
          0.71,
          0.5,
          0.545,
          0.46,
          0.535,
          0.335,
          0.425,
          0.41,
          0.17,
          0.335,
          0.52,
          0.53,
          0.5,
          0.615,
          0.575,
          0.57,
          0.455,
          0.37,
          0.445,
          0.675,
          0.385,
          0.375,
          0.56,
          0.55,
          0.57,
          0.485,
          0.41,
          0.335,
          0.655,
          0.565,
          0.57,
          0.55,
          0.63,
          0.475,
          0.655,
          0.32,
          0.525,
          0.525,
          0.5,
          0.44,
          0.49,
          0.545,
          0.45,
          0.515,
          0.33,
          0.525,
          0.295,
          0.545,
          0.645,
          0.45,
          0.61,
          0.38,
          0.565,
          0.67,
          0.54,
          0.29,
          0.41,
          0.46,
          0.56,
          0.575,
          0.62,
          0.515,
          0.56,
          0.5,
          0.435,
          0.495,
          0.595,
          0.76,
          0.615,
          0.565,
          0.14,
          0.445,
          0.525,
          0.16,
          0.635,
          0.575,
          0.38,
          0.245,
          0.48,
          0.455,
          0.455,
          0.455,
          0.355,
          0.52,
          0.54,
          0.52,
          0.56,
          0.52,
          0.615,
          0.645,
          0.565,
          0.295,
          0.375,
          0.525,
          0.395,
          0.5,
          0.47,
          0.58,
          0.5,
          0.725,
          0.65,
          0.67,
          0.55,
          0.49,
          0.235,
          0.235,
          0.52,
          0.475,
          0.53,
          0.35,
          0.555,
          0.505,
          0.54,
          0.525,
          0.55,
          0.55,
          0.235,
          0.525,
          0.475,
          0.53,
          0.525,
          0.53,
          0.465,
          0.315,
          0.465,
          0.485,
          0.49,
          0.515,
          0.555,
          0.61,
          0.68,
          0.69,
          0.695,
          0.72,
          0.27,
          0.27,
          0.295,
          0.295,
          0.315,
          0.375,
          0.38,
          0.385,
          0.4,
          0.415,
          0.415,
          0.42,
          0.44,
          0.45,
          0.475,
          0.485,
          0.495,
          0.525,
          0.565,
          0.58,
          0.585,
          0.6,
          0.63,
          0.645,
          0.655,
          0.665,
          0.67,
          0.67,
          0.685,
          0.7,
          0.72,
          0.185,
          0.245,
          0.315,
          0.36,
          0.375,
          0.415,
          0.455,
          0.48,
          0.485,
          0.51,
          0.52,
          0.555,
          0.585,
          0.585,
          0.585,
          0.61,
          0.61,
          0.615,
          0.62,
          0.625,
          0.625,
          0.635,
          0.64,
          0.66,
          0.66,
          0.66,
          0.68,
          0.69,
          0.72,
          0.275,
          0.33,
          0.33,
          0.365,
          0.365,
          0.42,
          0.435,
          0.435,
          0.44,
          0.485,
          0.495,
          0.51,
          0.52,
          0.54,
          0.54,
          0.55,
          0.56,
          0.575,
          0.575,
          0.575,
          0.58,
          0.58,
          0.59,
          0.6,
          0.62,
          0.625,
          0.625,
          0.625,
          0.625,
          0.625,
          0.625,
          0.635,
          0.645,
          0.645,
          0.69,
          0.695,
          0.515,
          0.545,
          0.62,
          0.63,
          0.63,
          0.64,
          0.37,
          0.395,
          0.4,
          0.41,
          0.455,
          0.48,
          0.485,
          0.5,
          0.515,
          0.52,
          0.545,
          0.545,
          0.55,
          0.55,
          0.55,
          0.555,
          0.56,
          0.565,
          0.57,
          0.575,
          0.585,
          0.59,
          0.595,
          0.6,
          0.61,
          0.615,
          0.625,
          0.625,
          0.63,
          0.63,
          0.635,
          0.635,
          0.635,
          0.65,
          0.67,
          0.675,
          0.675,
          0.68,
          0.7,
          0.71,
          0.715,
          0.72,
          0.42,
          0.48,
          0.48,
          0.51,
          0.515,
          0.56,
          0.56,
          0.57,
          0.605,
          0.625,
          0.64,
          0.65,
          0.3,
          0.35,
          0.455,
          0.46,
          0.49,
          0.5,
          0.54,
          0.55,
          0.55,
          0.555,
          0.57,
          0.58,
          0.58,
          0.585,
          0.585,
          0.595,
          0.6,
          0.615,
          0.63,
          0.63,
          0.635,
          0.645,
          0.65,
          0.655,
          0.655,
          0.67,
          0.67,
          0.695,
          0.695,
          0.77,
          0.28,
          0.33,
          0.35,
          0.37,
          0.43,
          0.435,
          0.44,
          0.475,
          0.475,
          0.48,
          0.56,
          0.585,
          0.585,
          0.385,
          0.39,
          0.39,
          0.405,
          0.475,
          0.5,
          0.515,
          0.52,
          0.55,
          0.56,
          0.565,
          0.59,
          0.6,
          0.625,
          0.71
         ],
         "xbins": {
          "end": 1,
          "size": 0.02,
          "start": 0
         }
        }
       ],
       "layout": {
        "template": {
         "data": {
          "bar": [
           {
            "error_x": {
             "color": "#2a3f5f"
            },
            "error_y": {
             "color": "#2a3f5f"
            },
            "marker": {
             "line": {
              "color": "#E5ECF6",
              "width": 0.5
             }
            },
            "type": "bar"
           }
          ],
          "barpolar": [
           {
            "marker": {
             "line": {
              "color": "#E5ECF6",
              "width": 0.5
             }
            },
            "type": "barpolar"
           }
          ],
          "carpet": [
           {
            "aaxis": {
             "endlinecolor": "#2a3f5f",
             "gridcolor": "white",
             "linecolor": "white",
             "minorgridcolor": "white",
             "startlinecolor": "#2a3f5f"
            },
            "baxis": {
             "endlinecolor": "#2a3f5f",
             "gridcolor": "white",
             "linecolor": "white",
             "minorgridcolor": "white",
             "startlinecolor": "#2a3f5f"
            },
            "type": "carpet"
           }
          ],
          "choropleth": [
           {
            "colorbar": {
             "outlinewidth": 0,
             "ticks": ""
            },
            "type": "choropleth"
           }
          ],
          "contour": [
           {
            "colorbar": {
             "outlinewidth": 0,
             "ticks": ""
            },
            "colorscale": [
             [
              0,
              "#0d0887"
             ],
             [
              0.1111111111111111,
              "#46039f"
             ],
             [
              0.2222222222222222,
              "#7201a8"
             ],
             [
              0.3333333333333333,
              "#9c179e"
             ],
             [
              0.4444444444444444,
              "#bd3786"
             ],
             [
              0.5555555555555556,
              "#d8576b"
             ],
             [
              0.6666666666666666,
              "#ed7953"
             ],
             [
              0.7777777777777778,
              "#fb9f3a"
             ],
             [
              0.8888888888888888,
              "#fdca26"
             ],
             [
              1,
              "#f0f921"
             ]
            ],
            "type": "contour"
           }
          ],
          "contourcarpet": [
           {
            "colorbar": {
             "outlinewidth": 0,
             "ticks": ""
            },
            "type": "contourcarpet"
           }
          ],
          "heatmap": [
           {
            "colorbar": {
             "outlinewidth": 0,
             "ticks": ""
            },
            "colorscale": [
             [
              0,
              "#0d0887"
             ],
             [
              0.1111111111111111,
              "#46039f"
             ],
             [
              0.2222222222222222,
              "#7201a8"
             ],
             [
              0.3333333333333333,
              "#9c179e"
             ],
             [
              0.4444444444444444,
              "#bd3786"
             ],
             [
              0.5555555555555556,
              "#d8576b"
             ],
             [
              0.6666666666666666,
              "#ed7953"
             ],
             [
              0.7777777777777778,
              "#fb9f3a"
             ],
             [
              0.8888888888888888,
              "#fdca26"
             ],
             [
              1,
              "#f0f921"
             ]
            ],
            "type": "heatmap"
           }
          ],
          "heatmapgl": [
           {
            "colorbar": {
             "outlinewidth": 0,
             "ticks": ""
            },
            "colorscale": [
             [
              0,
              "#0d0887"
             ],
             [
              0.1111111111111111,
              "#46039f"
             ],
             [
              0.2222222222222222,
              "#7201a8"
             ],
             [
              0.3333333333333333,
              "#9c179e"
             ],
             [
              0.4444444444444444,
              "#bd3786"
             ],
             [
              0.5555555555555556,
              "#d8576b"
             ],
             [
              0.6666666666666666,
              "#ed7953"
             ],
             [
              0.7777777777777778,
              "#fb9f3a"
             ],
             [
              0.8888888888888888,
              "#fdca26"
             ],
             [
              1,
              "#f0f921"
             ]
            ],
            "type": "heatmapgl"
           }
          ],
          "histogram": [
           {
            "marker": {
             "colorbar": {
              "outlinewidth": 0,
              "ticks": ""
             }
            },
            "type": "histogram"
           }
          ],
          "histogram2d": [
           {
            "colorbar": {
             "outlinewidth": 0,
             "ticks": ""
            },
            "colorscale": [
             [
              0,
              "#0d0887"
             ],
             [
              0.1111111111111111,
              "#46039f"
             ],
             [
              0.2222222222222222,
              "#7201a8"
             ],
             [
              0.3333333333333333,
              "#9c179e"
             ],
             [
              0.4444444444444444,
              "#bd3786"
             ],
             [
              0.5555555555555556,
              "#d8576b"
             ],
             [
              0.6666666666666666,
              "#ed7953"
             ],
             [
              0.7777777777777778,
              "#fb9f3a"
             ],
             [
              0.8888888888888888,
              "#fdca26"
             ],
             [
              1,
              "#f0f921"
             ]
            ],
            "type": "histogram2d"
           }
          ],
          "histogram2dcontour": [
           {
            "colorbar": {
             "outlinewidth": 0,
             "ticks": ""
            },
            "colorscale": [
             [
              0,
              "#0d0887"
             ],
             [
              0.1111111111111111,
              "#46039f"
             ],
             [
              0.2222222222222222,
              "#7201a8"
             ],
             [
              0.3333333333333333,
              "#9c179e"
             ],
             [
              0.4444444444444444,
              "#bd3786"
             ],
             [
              0.5555555555555556,
              "#d8576b"
             ],
             [
              0.6666666666666666,
              "#ed7953"
             ],
             [
              0.7777777777777778,
              "#fb9f3a"
             ],
             [
              0.8888888888888888,
              "#fdca26"
             ],
             [
              1,
              "#f0f921"
             ]
            ],
            "type": "histogram2dcontour"
           }
          ],
          "mesh3d": [
           {
            "colorbar": {
             "outlinewidth": 0,
             "ticks": ""
            },
            "type": "mesh3d"
           }
          ],
          "parcoords": [
           {
            "line": {
             "colorbar": {
              "outlinewidth": 0,
              "ticks": ""
             }
            },
            "type": "parcoords"
           }
          ],
          "pie": [
           {
            "automargin": true,
            "type": "pie"
           }
          ],
          "scatter": [
           {
            "marker": {
             "colorbar": {
              "outlinewidth": 0,
              "ticks": ""
             }
            },
            "type": "scatter"
           }
          ],
          "scatter3d": [
           {
            "line": {
             "colorbar": {
              "outlinewidth": 0,
              "ticks": ""
             }
            },
            "marker": {
             "colorbar": {
              "outlinewidth": 0,
              "ticks": ""
             }
            },
            "type": "scatter3d"
           }
          ],
          "scattercarpet": [
           {
            "marker": {
             "colorbar": {
              "outlinewidth": 0,
              "ticks": ""
             }
            },
            "type": "scattercarpet"
           }
          ],
          "scattergeo": [
           {
            "marker": {
             "colorbar": {
              "outlinewidth": 0,
              "ticks": ""
             }
            },
            "type": "scattergeo"
           }
          ],
          "scattergl": [
           {
            "marker": {
             "colorbar": {
              "outlinewidth": 0,
              "ticks": ""
             }
            },
            "type": "scattergl"
           }
          ],
          "scattermapbox": [
           {
            "marker": {
             "colorbar": {
              "outlinewidth": 0,
              "ticks": ""
             }
            },
            "type": "scattermapbox"
           }
          ],
          "scatterpolar": [
           {
            "marker": {
             "colorbar": {
              "outlinewidth": 0,
              "ticks": ""
             }
            },
            "type": "scatterpolar"
           }
          ],
          "scatterpolargl": [
           {
            "marker": {
             "colorbar": {
              "outlinewidth": 0,
              "ticks": ""
             }
            },
            "type": "scatterpolargl"
           }
          ],
          "scatterternary": [
           {
            "marker": {
             "colorbar": {
              "outlinewidth": 0,
              "ticks": ""
             }
            },
            "type": "scatterternary"
           }
          ],
          "surface": [
           {
            "colorbar": {
             "outlinewidth": 0,
             "ticks": ""
            },
            "colorscale": [
             [
              0,
              "#0d0887"
             ],
             [
              0.1111111111111111,
              "#46039f"
             ],
             [
              0.2222222222222222,
              "#7201a8"
             ],
             [
              0.3333333333333333,
              "#9c179e"
             ],
             [
              0.4444444444444444,
              "#bd3786"
             ],
             [
              0.5555555555555556,
              "#d8576b"
             ],
             [
              0.6666666666666666,
              "#ed7953"
             ],
             [
              0.7777777777777778,
              "#fb9f3a"
             ],
             [
              0.8888888888888888,
              "#fdca26"
             ],
             [
              1,
              "#f0f921"
             ]
            ],
            "type": "surface"
           }
          ],
          "table": [
           {
            "cells": {
             "fill": {
              "color": "#EBF0F8"
             },
             "line": {
              "color": "white"
             }
            },
            "header": {
             "fill": {
              "color": "#C8D4E3"
             },
             "line": {
              "color": "white"
             }
            },
            "type": "table"
           }
          ]
         },
         "layout": {
          "annotationdefaults": {
           "arrowcolor": "#2a3f5f",
           "arrowhead": 0,
           "arrowwidth": 1
          },
          "autotypenumbers": "strict",
          "coloraxis": {
           "colorbar": {
            "outlinewidth": 0,
            "ticks": ""
           }
          },
          "colorscale": {
           "diverging": [
            [
             0,
             "#8e0152"
            ],
            [
             0.1,
             "#c51b7d"
            ],
            [
             0.2,
             "#de77ae"
            ],
            [
             0.3,
             "#f1b6da"
            ],
            [
             0.4,
             "#fde0ef"
            ],
            [
             0.5,
             "#f7f7f7"
            ],
            [
             0.6,
             "#e6f5d0"
            ],
            [
             0.7,
             "#b8e186"
            ],
            [
             0.8,
             "#7fbc41"
            ],
            [
             0.9,
             "#4d9221"
            ],
            [
             1,
             "#276419"
            ]
           ],
           "sequential": [
            [
             0,
             "#0d0887"
            ],
            [
             0.1111111111111111,
             "#46039f"
            ],
            [
             0.2222222222222222,
             "#7201a8"
            ],
            [
             0.3333333333333333,
             "#9c179e"
            ],
            [
             0.4444444444444444,
             "#bd3786"
            ],
            [
             0.5555555555555556,
             "#d8576b"
            ],
            [
             0.6666666666666666,
             "#ed7953"
            ],
            [
             0.7777777777777778,
             "#fb9f3a"
            ],
            [
             0.8888888888888888,
             "#fdca26"
            ],
            [
             1,
             "#f0f921"
            ]
           ],
           "sequentialminus": [
            [
             0,
             "#0d0887"
            ],
            [
             0.1111111111111111,
             "#46039f"
            ],
            [
             0.2222222222222222,
             "#7201a8"
            ],
            [
             0.3333333333333333,
             "#9c179e"
            ],
            [
             0.4444444444444444,
             "#bd3786"
            ],
            [
             0.5555555555555556,
             "#d8576b"
            ],
            [
             0.6666666666666666,
             "#ed7953"
            ],
            [
             0.7777777777777778,
             "#fb9f3a"
            ],
            [
             0.8888888888888888,
             "#fdca26"
            ],
            [
             1,
             "#f0f921"
            ]
           ]
          },
          "colorway": [
           "#636efa",
           "#EF553B",
           "#00cc96",
           "#ab63fa",
           "#FFA15A",
           "#19d3f3",
           "#FF6692",
           "#B6E880",
           "#FF97FF",
           "#FECB52"
          ],
          "font": {
           "color": "#2a3f5f"
          },
          "geo": {
           "bgcolor": "white",
           "lakecolor": "white",
           "landcolor": "#E5ECF6",
           "showlakes": true,
           "showland": true,
           "subunitcolor": "white"
          },
          "hoverlabel": {
           "align": "left"
          },
          "hovermode": "closest",
          "mapbox": {
           "style": "light"
          },
          "paper_bgcolor": "white",
          "plot_bgcolor": "#E5ECF6",
          "polar": {
           "angularaxis": {
            "gridcolor": "white",
            "linecolor": "white",
            "ticks": ""
           },
           "bgcolor": "#E5ECF6",
           "radialaxis": {
            "gridcolor": "white",
            "linecolor": "white",
            "ticks": ""
           }
          },
          "scene": {
           "xaxis": {
            "backgroundcolor": "#E5ECF6",
            "gridcolor": "white",
            "gridwidth": 2,
            "linecolor": "white",
            "showbackground": true,
            "ticks": "",
            "zerolinecolor": "white"
           },
           "yaxis": {
            "backgroundcolor": "#E5ECF6",
            "gridcolor": "white",
            "gridwidth": 2,
            "linecolor": "white",
            "showbackground": true,
            "ticks": "",
            "zerolinecolor": "white"
           },
           "zaxis": {
            "backgroundcolor": "#E5ECF6",
            "gridcolor": "white",
            "gridwidth": 2,
            "linecolor": "white",
            "showbackground": true,
            "ticks": "",
            "zerolinecolor": "white"
           }
          },
          "shapedefaults": {
           "line": {
            "color": "#2a3f5f"
           }
          },
          "ternary": {
           "aaxis": {
            "gridcolor": "white",
            "linecolor": "white",
            "ticks": ""
           },
           "baxis": {
            "gridcolor": "white",
            "linecolor": "white",
            "ticks": ""
           },
           "bgcolor": "#E5ECF6",
           "caxis": {
            "gridcolor": "white",
            "linecolor": "white",
            "ticks": ""
           }
          },
          "title": {
           "x": 0.05
          },
          "xaxis": {
           "automargin": true,
           "gridcolor": "white",
           "linecolor": "white",
           "ticks": "",
           "title": {
            "standoff": 15
           },
           "zerolinecolor": "white",
           "zerolinewidth": 2
          },
          "yaxis": {
           "automargin": true,
           "gridcolor": "white",
           "linecolor": "white",
           "ticks": "",
           "title": {
            "standoff": 15
           },
           "zerolinecolor": "white",
           "zerolinewidth": 2
          }
         }
        },
        "title": {
         "text": "Histogram"
        },
        "xaxis": {
         "title": {
          "text": "length (mm)"
         }
        }
       }
      },
      "text/html": [
       "<div>                            <div id=\"43029539-1875-428b-a686-e7b6512e23e8\" class=\"plotly-graph-div\" style=\"height:525px; width:100%;\"></div>            <script type=\"text/javascript\">                require([\"plotly\"], function(Plotly) {                    window.PLOTLYENV=window.PLOTLYENV || {};                                    if (document.getElementById(\"43029539-1875-428b-a686-e7b6512e23e8\")) {                    Plotly.newPlot(                        \"43029539-1875-428b-a686-e7b6512e23e8\",                        [{\"type\": \"histogram\", \"x\": [0.455, 0.35, 0.53, 0.44, 0.33, 0.425, 0.53, 0.545, 0.475, 0.55, 0.525, 0.43, 0.49, 0.535, 0.47, 0.5, 0.355, 0.44, 0.365, 0.45, 0.355, 0.38, 0.565, 0.55, 0.615, 0.56, 0.58, 0.59, 0.605, 0.575, 0.58, 0.68, 0.665, 0.68, 0.705, 0.465, 0.54, 0.45, 0.575, 0.355, 0.45, 0.55, 0.24, 0.205, 0.21, 0.39, 0.47, 0.46, 0.325, 0.525, 0.52, 0.4, 0.485, 0.47, 0.405, 0.5, 0.445, 0.47, 0.245, 0.505, 0.45, 0.505, 0.53, 0.425, 0.52, 0.475, 0.565, 0.595, 0.475, 0.31, 0.555, 0.4, 0.595, 0.57, 0.605, 0.6, 0.595, 0.6, 0.555, 0.615, 0.575, 0.62, 0.52, 0.595, 0.58, 0.57, 0.625, 0.56, 0.46, 0.575, 0.565, 0.555, 0.595, 0.625, 0.695, 0.665, 0.535, 0.47, 0.47, 0.475, 0.36, 0.55, 0.53, 0.53, 0.605, 0.52, 0.545, 0.5, 0.51, 0.435, 0.495, 0.465, 0.435, 0.425, 0.545, 0.53, 0.49, 0.44, 0.56, 0.405, 0.47, 0.385, 0.515, 0.37, 0.36, 0.27, 0.375, 0.385, 0.7, 0.71, 0.595, 0.44, 0.325, 0.35, 0.265, 0.425, 0.305, 0.345, 0.405, 0.375, 0.565, 0.55, 0.65, 0.56, 0.475, 0.49, 0.46, 0.28, 0.175, 0.17, 0.59, 0.605, 0.635, 0.605, 0.565, 0.515, 0.575, 0.645, 0.58, 0.575, 0.605, 0.605, 0.61, 0.725, 0.65, 0.725, 0.725, 0.68, 0.705, 0.68, 0.695, 0.53, 0.525, 0.52, 0.235, 0.36, 0.315, 0.315, 0.225, 0.58, 0.57, 0.64, 0.56, 0.62, 0.645, 0.62, 0.63, 0.63, 0.63, 0.585, 0.615, 0.61, 0.58, 0.355, 0.51, 0.5, 0.505, 0.64, 0.56, 0.585, 0.45, 0.5, 0.5, 0.53, 0.42, 0.44, 0.4, 0.435, 0.525, 0.37, 0.49, 0.335, 0.415, 0.5, 0.485, 0.55, 0.45, 0.405, 0.47, 0.415, 0.445, 0.47, 0.49, 0.445, 0.425, 0.5, 0.39, 0.365, 0.58, 0.53, 0.555, 0.565, 0.625, 0.275, 0.44, 0.295, 0.075, 0.13, 0.11, 0.16, 0.565, 0.27, 0.23, 0.3, 0.33, 0.35, 0.32, 0.36, 0.305, 0.345, 0.33, 0.59, 0.595, 0.575, 0.6, 0.56, 0.56, 0.545, 0.635, 0.59, 0.54, 0.57, 0.53, 0.245, 0.27, 0.46, 0.52, 0.35, 0.47, 0.45, 0.64, 0.59, 0.62, 0.63, 0.63, 0.655, 0.66, 0.61, 0.635, 0.515, 0.535, 0.36, 0.455, 0.485, 0.515, 0.535, 0.53, 0.495, 0.44, 0.535, 0.54, 0.565, 0.61, 0.565, 0.6, 0.295, 0.275, 0.28, 0.49, 0.37, 0.405, 0.54, 0.37, 0.36, 0.47, 0.2, 0.165, 0.645, 0.55, 0.57, 0.63, 0.56, 0.595, 0.62, 0.63, 0.45, 0.635, 0.45, 0.58, 0.33, 0.265, 0.19, 0.385, 0.265, 0.335, 0.355, 0.32, 0.51, 0.36, 0.36, 0.5, 0.4, 0.3, 0.235, 0.74, 0.62, 0.6, 0.59, 0.62, 0.565, 0.575, 0.62, 0.62, 0.505, 0.46, 0.49, 0.525, 0.34, 0.375, 0.61, 0.61, 0.585, 0.57, 0.58, 0.635, 0.7, 0.675, 0.645, 0.745, 0.685, 0.605, 0.59, 0.65, 0.6, 0.62, 0.63, 0.58, 0.58, 0.63, 0.69, 0.65, 0.66, 0.68, 0.7, 0.685, 0.675, 0.63, 0.585, 0.565, 0.61, 0.605, 0.535, 0.485, 0.47, 0.545, 0.455, 0.54, 0.46, 0.49, 0.465, 0.415, 0.475, 0.47, 0.365, 0.345, 0.39, 0.5, 0.47, 0.535, 0.585, 0.485, 0.515, 0.435, 0.515, 0.44, 0.525, 0.45, 0.59, 0.555, 0.57, 0.59, 0.585, 0.58, 0.545, 0.605, 0.62, 0.63, 0.63, 0.63, 0.545, 0.67, 0.49, 0.49, 0.29, 0.26, 0.58, 0.61, 0.6, 0.56, 0.575, 0.57, 0.6, 0.565, 0.545, 0.44, 0.5, 0.36, 0.385, 0.39, 0.5, 0.36, 0.335, 0.505, 0.395, 0.41, 0.56, 0.565, 0.565, 0.605, 0.565, 0.725, 0.675, 0.665, 0.565, 0.645, 0.575, 0.64, 0.36, 0.415, 0.525, 0.38, 0.585, 0.24, 0.22, 0.255, 0.175, 0.67, 0.655, 0.68, 0.675, 0.53, 0.515, 0.43, 0.52, 0.545, 0.53, 0.465, 0.665, 0.735, 0.66, 0.7, 0.575, 0.57, 0.58, 0.63, 0.585, 0.55, 0.625, 0.54, 0.57, 0.59, 0.58, 0.655, 0.655, 0.625, 0.625, 0.64, 0.605, 0.615, 0.555, 0.58, 0.62, 0.62, 0.6, 0.625, 0.6, 0.56, 0.585, 0.56, 0.56, 0.68, 0.455, 0.49, 0.31, 0.275, 0.27, 0.4, 0.28, 0.325, 0.345, 0.21, 0.36, 0.365, 0.2, 0.235, 0.175, 0.155, 0.57, 0.57, 0.385, 0.53, 0.46, 0.47, 0.435, 0.47, 0.465, 0.52, 0.29, 0.275, 0.375, 0.5, 0.44, 0.42, 0.445, 0.38, 0.32, 0.255, 0.205, 0.565, 0.555, 0.65, 0.615, 0.56, 0.48, 0.485, 0.5, 0.525, 0.66, 0.66, 0.52, 0.44, 0.515, 0.475, 0.545, 0.47, 0.35, 0.485, 0.435, 0.28, 0.41, 0.45, 0.45, 0.59, 0.57, 0.61, 0.61, 0.56, 0.585, 0.58, 0.63, 0.625, 0.55, 0.645, 0.46, 0.41, 0.495, 0.52, 0.55, 0.45, 0.405, 0.51, 0.37, 0.525, 0.66, 0.535, 0.575, 0.55, 0.605, 0.605, 0.56, 0.535, 0.385, 0.39, 0.47, 0.515, 0.425, 0.345, 0.485, 0.37, 0.35, 0.44, 0.195, 0.325, 0.495, 0.45, 0.415, 0.47, 0.32, 0.31, 0.235, 0.345, 0.485, 0.5, 0.5, 0.465, 0.525, 0.425, 0.38, 0.53, 0.34, 0.475, 0.43, 0.46, 0.47, 0.36, 0.355, 0.38, 0.355, 0.44, 0.51, 0.325, 0.62, 0.59, 0.33, 0.45, 0.445, 0.33, 0.48, 0.46, 0.475, 0.255, 0.335, 0.47, 0.31, 0.37, 0.295, 0.555, 0.615, 0.58, 0.585, 0.65, 0.535, 0.415, 0.38, 0.45, 0.395, 0.455, 0.485, 0.55, 0.45, 0.475, 0.5, 0.53, 0.49, 0.49, 0.52, 0.54, 0.5, 0.45, 0.37, 0.37, 0.485, 0.435, 0.535, 0.51, 0.565, 0.535, 0.535, 0.525, 0.59, 0.5, 0.255, 0.43, 0.38, 0.165, 0.315, 0.155, 0.28, 0.43, 0.395, 0.385, 0.48, 0.445, 0.395, 0.4, 0.415, 0.315, 0.345, 0.36, 0.295, 0.325, 0.375, 0.28, 0.355, 0.35, 0.275, 0.29, 0.25, 0.18, 0.15, 0.16, 0.555, 0.555, 0.525, 0.465, 0.49, 0.4, 0.48, 0.505, 0.52, 0.525, 0.545, 0.52, 0.505, 0.525, 0.51, 0.52, 0.52, 0.535, 0.445, 0.53, 0.36, 0.535, 0.52, 0.53, 0.53, 0.66, 0.52, 0.535, 0.695, 0.51, 0.485, 0.605, 0.58, 0.65, 0.62, 0.615, 0.605, 0.57, 0.57, 0.585, 0.55, 0.54, 0.64, 0.61, 0.545, 0.59, 0.345, 0.55, 0.53, 0.53, 0.485, 0.385, 0.455, 0.49, 0.53, 0.505, 0.49, 0.465, 0.47, 0.56, 0.505, 0.515, 0.385, 0.215, 0.55, 0.515, 0.495, 0.505, 0.6, 0.57, 0.485, 0.47, 0.575, 0.58, 0.515, 0.53, 0.44, 0.52, 0.425, 0.46, 0.45, 0.425, 0.37, 0.515, 0.405, 0.28, 0.48, 0.44, 0.52, 0.505, 0.49, 0.235, 0.255, 0.315, 0.325, 0.335, 0.35, 0.35, 0.36, 0.365, 0.37, 0.38, 0.385, 0.385, 0.395, 0.395, 0.4, 0.41, 0.415, 0.415, 0.425, 0.44, 0.445, 0.445, 0.45, 0.47, 0.475, 0.48, 0.485, 0.49, 0.495, 0.5, 0.505, 0.525, 0.54, 0.54, 0.545, 0.55, 0.55, 0.55, 0.555, 0.565, 0.57, 0.57, 0.575, 0.59, 0.59, 0.595, 0.595, 0.595, 0.595, 0.6, 0.6, 0.6, 0.605, 0.605, 0.615, 0.615, 0.615, 0.615, 0.62, 0.62, 0.625, 0.625, 0.63, 0.635, 0.635, 0.635, 0.64, 0.65, 0.655, 0.655, 0.66, 0.66, 0.67, 0.675, 0.675, 0.68, 0.685, 0.695, 0.73, 0.205, 0.24, 0.24, 0.255, 0.255, 0.265, 0.28, 0.295, 0.3, 0.3, 0.305, 0.315, 0.315, 0.32, 0.325, 0.33, 0.335, 0.335, 0.34, 0.34, 0.345, 0.37, 0.37, 0.375, 0.385, 0.41, 0.41, 0.41, 0.415, 0.42, 0.42, 0.425, 0.425, 0.43, 0.43, 0.435, 0.435, 0.44, 0.44, 0.445, 0.445, 0.45, 0.45, 0.45, 0.45, 0.455, 0.455, 0.46, 0.46, 0.465, 0.465, 0.465, 0.465, 0.47, 0.47, 0.475, 0.475, 0.48, 0.48, 0.48, 0.48, 0.485, 0.49, 0.495, 0.495, 0.5, 0.5, 0.5, 0.5, 0.505, 0.505, 0.505, 0.505, 0.51, 0.51, 0.51, 0.51, 0.51, 0.515, 0.515, 0.525, 0.525, 0.53, 0.53, 0.53, 0.535, 0.535, 0.535, 0.55, 0.55, 0.56, 0.565, 0.57, 0.57, 0.57, 0.57, 0.57, 0.575, 0.575, 0.58, 0.58, 0.58, 0.58, 0.58, 0.59, 0.59, 0.59, 0.595, 0.595, 0.595, 0.595, 0.595, 0.605, 0.605, 0.605, 0.61, 0.61, 0.615, 0.62, 0.625, 0.625, 0.625, 0.625, 0.625, 0.63, 0.63, 0.63, 0.635, 0.635, 0.64, 0.64, 0.64, 0.645, 0.645, 0.645, 0.645, 0.645, 0.645, 0.645, 0.65, 0.65, 0.65, 0.655, 0.655, 0.66, 0.66, 0.66, 0.66, 0.67, 0.675, 0.675, 0.68, 0.69, 0.69, 0.695, 0.705, 0.71, 0.715, 0.715, 0.735, 0.765, 0.185, 0.195, 0.195, 0.2, 0.225, 0.245, 0.25, 0.265, 0.275, 0.28, 0.285, 0.3, 0.315, 0.32, 0.34, 0.37, 0.375, 0.375, 0.385, 0.4, 0.405, 0.41, 0.41, 0.42, 0.42, 0.42, 0.425, 0.43, 0.435, 0.435, 0.44, 0.445, 0.445, 0.445, 0.45, 0.45, 0.45, 0.45, 0.45, 0.46, 0.47, 0.47, 0.475, 0.475, 0.48, 0.49, 0.5, 0.5, 0.5, 0.5, 0.505, 0.51, 0.51, 0.51, 0.51, 0.515, 0.52, 0.52, 0.52, 0.52, 0.525, 0.525, 0.525, 0.525, 0.53, 0.535, 0.54, 0.545, 0.545, 0.545, 0.55, 0.55, 0.55, 0.56, 0.56, 0.56, 0.56, 0.565, 0.565, 0.565, 0.57, 0.57, 0.57, 0.575, 0.575, 0.575, 0.575, 0.575, 0.575, 0.575, 0.575, 0.58, 0.58, 0.58, 0.58, 0.58, 0.58, 0.585, 0.585, 0.59, 0.6, 0.6, 0.6, 0.6, 0.605, 0.605, 0.605, 0.605, 0.61, 0.61, 0.61, 0.615, 0.615, 0.615, 0.62, 0.62, 0.62, 0.625, 0.625, 0.63, 0.63, 0.635, 0.64, 0.645, 0.645, 0.65, 0.65, 0.655, 0.655, 0.66, 0.665, 0.665, 0.67, 0.685, 0.685, 0.69, 0.69, 0.69, 0.695, 0.7, 0.7, 0.7, 0.705, 0.71, 0.715, 0.715, 0.72, 0.72, 0.72, 0.725, 0.73, 0.735, 0.745, 0.75, 0.755, 0.755, 0.78, 0.185, 0.245, 0.25, 0.25, 0.275, 0.305, 0.31, 0.315, 0.315, 0.325, 0.33, 0.33, 0.335, 0.34, 0.345, 0.345, 0.35, 0.35, 0.36, 0.365, 0.365, 0.365, 0.37, 0.37, 0.375, 0.375, 0.375, 0.375, 0.375, 0.375, 0.38, 0.38, 0.385, 0.385, 0.385, 0.385, 0.39, 0.395, 0.395, 0.395, 0.4, 0.405, 0.41, 0.42, 0.425, 0.425, 0.425, 0.43, 0.43, 0.435, 0.44, 0.45, 0.455, 0.455, 0.455, 0.46, 0.46, 0.46, 0.465, 0.47, 0.47, 0.47, 0.475, 0.475, 0.475, 0.48, 0.48, 0.48, 0.495, 0.495, 0.495, 0.5, 0.5, 0.5, 0.5, 0.5, 0.5, 0.505, 0.505, 0.505, 0.515, 0.515, 0.515, 0.52, 0.52, 0.525, 0.525, 0.53, 0.53, 0.53, 0.53, 0.535, 0.535, 0.535, 0.535, 0.54, 0.54, 0.545, 0.545, 0.545, 0.545, 0.55, 0.55, 0.55, 0.55, 0.55, 0.555, 0.555, 0.555, 0.555, 0.56, 0.56, 0.56, 0.56, 0.565, 0.565, 0.565, 0.565, 0.57, 0.57, 0.57, 0.57, 0.57, 0.57, 0.575, 0.575, 0.575, 0.58, 0.58, 0.58, 0.585, 0.585, 0.585, 0.585, 0.585, 0.585, 0.585, 0.59, 0.59, 0.59, 0.595, 0.595, 0.6, 0.6, 0.6, 0.6, 0.6, 0.6, 0.605, 0.605, 0.605, 0.605, 0.605, 0.61, 0.61, 0.61, 0.61, 0.61, 0.61, 0.615, 0.615, 0.615, 0.615, 0.615, 0.615, 0.615, 0.62, 0.62, 0.62, 0.62, 0.625, 0.625, 0.625, 0.625, 0.63, 0.63, 0.63, 0.63, 0.63, 0.635, 0.635, 0.635, 0.635, 0.635, 0.64, 0.64, 0.645, 0.645, 0.645, 0.65, 0.65, 0.65, 0.65, 0.65, 0.655, 0.655, 0.655, 0.655, 0.66, 0.66, 0.665, 0.67, 0.67, 0.675, 0.685, 0.695, 0.7, 0.705, 0.705, 0.705, 0.71, 0.72, 0.72, 0.725, 0.73, 0.735, 0.745, 0.75, 0.815, 0.14, 0.23, 0.365, 0.365, 0.37, 0.375, 0.385, 0.395, 0.4, 0.4, 0.405, 0.405, 0.405, 0.41, 0.415, 0.425, 0.43, 0.44, 0.44, 0.44, 0.45, 0.455, 0.46, 0.47, 0.47, 0.47, 0.475, 0.475, 0.475, 0.48, 0.485, 0.485, 0.485, 0.495, 0.505, 0.505, 0.515, 0.515, 0.515, 0.52, 0.525, 0.53, 0.53, 0.545, 0.55, 0.55, 0.56, 0.56, 0.57, 0.575, 0.575, 0.58, 0.58, 0.585, 0.59, 0.59, 0.59, 0.595, 0.6, 0.6, 0.605, 0.605, 0.605, 0.61, 0.615, 0.62, 0.62, 0.62, 0.625, 0.625, 0.63, 0.63, 0.63, 0.63, 0.63, 0.635, 0.635, 0.64, 0.645, 0.645, 0.645, 0.65, 0.65, 0.65, 0.65, 0.655, 0.655, 0.66, 0.665, 0.67, 0.67, 0.67, 0.68, 0.68, 0.69, 0.7, 0.7, 0.705, 0.72, 0.725, 0.74, 0.75, 0.21, 0.285, 0.295, 0.3, 0.305, 0.335, 0.35, 0.355, 0.355, 0.36, 0.36, 0.36, 0.365, 0.37, 0.375, 0.38, 0.38, 0.385, 0.385, 0.385, 0.39, 0.39, 0.39, 0.41, 0.41, 0.415, 0.425, 0.425, 0.435, 0.435, 0.45, 0.45, 0.455, 0.46, 0.46, 0.465, 0.465, 0.47, 0.475, 0.475, 0.475, 0.48, 0.48, 0.48, 0.485, 0.49, 0.49, 0.495, 0.495, 0.5, 0.5, 0.5, 0.51, 0.515, 0.515, 0.515, 0.515, 0.515, 0.52, 0.52, 0.525, 0.525, 0.525, 0.525, 0.525, 0.53, 0.53, 0.53, 0.53, 0.535, 0.54, 0.54, 0.54, 0.54, 0.54, 0.54, 0.54, 0.545, 0.545, 0.545, 0.55, 0.55, 0.55, 0.55, 0.55, 0.555, 0.555, 0.555, 0.56, 0.56, 0.56, 0.565, 0.565, 0.565, 0.565, 0.57, 0.57, 0.57, 0.57, 0.57, 0.57, 0.575, 0.575, 0.575, 0.575, 0.575, 0.575, 0.575, 0.575, 0.575, 0.575, 0.575, 0.58, 0.58, 0.58, 0.58, 0.585, 0.59, 0.59, 0.59, 0.595, 0.595, 0.595, 0.595, 0.6, 0.6, 0.6, 0.6, 0.6, 0.6, 0.6, 0.605, 0.605, 0.605, 0.605, 0.605, 0.605, 0.61, 0.61, 0.61, 0.61, 0.61, 0.61, 0.61, 0.61, 0.615, 0.615, 0.62, 0.62, 0.62, 0.62, 0.62, 0.62, 0.62, 0.62, 0.62, 0.62, 0.625, 0.625, 0.625, 0.625, 0.625, 0.625, 0.63, 0.63, 0.63, 0.63, 0.63, 0.635, 0.635, 0.635, 0.635, 0.64, 0.64, 0.64, 0.645, 0.645, 0.645, 0.645, 0.645, 0.645, 0.645, 0.645, 0.645, 0.645, 0.645, 0.65, 0.65, 0.65, 0.65, 0.655, 0.655, 0.655, 0.655, 0.66, 0.66, 0.66, 0.66, 0.665, 0.665, 0.665, 0.665, 0.665, 0.67, 0.67, 0.67, 0.67, 0.67, 0.675, 0.675, 0.68, 0.68, 0.685, 0.685, 0.69, 0.7, 0.7, 0.705, 0.71, 0.71, 0.71, 0.71, 0.72, 0.72, 0.72, 0.725, 0.73, 0.735, 0.74, 0.75, 0.75, 0.77, 0.775, 0.275, 0.375, 0.375, 0.39, 0.435, 0.445, 0.455, 0.455, 0.455, 0.465, 0.465, 0.485, 0.485, 0.485, 0.49, 0.5, 0.515, 0.515, 0.525, 0.525, 0.53, 0.535, 0.535, 0.545, 0.545, 0.545, 0.55, 0.55, 0.57, 0.575, 0.575, 0.58, 0.585, 0.585, 0.6, 0.6, 0.605, 0.605, 0.61, 0.615, 0.62, 0.625, 0.625, 0.635, 0.635, 0.64, 0.645, 0.65, 0.65, 0.655, 0.655, 0.665, 0.675, 0.685, 0.695, 0.695, 0.705, 0.72, 0.72, 0.73, 0.185, 0.24, 0.31, 0.34, 0.35, 0.365, 0.365, 0.365, 0.39, 0.405, 0.41, 0.41, 0.415, 0.415, 0.415, 0.42, 0.43, 0.435, 0.435, 0.435, 0.435, 0.445, 0.465, 0.47, 0.475, 0.485, 0.485, 0.485, 0.495, 0.495, 0.495, 0.5, 0.505, 0.505, 0.51, 0.515, 0.515, 0.515, 0.52, 0.52, 0.52, 0.52, 0.52, 0.525, 0.525, 0.525, 0.53, 0.53, 0.53, 0.53, 0.535, 0.54, 0.54, 0.54, 0.545, 0.545, 0.55, 0.55, 0.555, 0.555, 0.555, 0.555, 0.555, 0.56, 0.565, 0.565, 0.565, 0.565, 0.565, 0.565, 0.57, 0.57, 0.57, 0.57, 0.57, 0.575, 0.575, 0.575, 0.575, 0.575, 0.575, 0.575, 0.575, 0.575, 0.575, 0.58, 0.58, 0.58, 0.58, 0.58, 0.595, 0.6, 0.6, 0.6, 0.6, 0.605, 0.605, 0.605, 0.61, 0.61, 0.61, 0.61, 0.615, 0.615, 0.615, 0.615, 0.62, 0.62, 0.62, 0.62, 0.62, 0.62, 0.625, 0.625, 0.625, 0.625, 0.625, 0.625, 0.63, 0.635, 0.635, 0.635, 0.635, 0.635, 0.635, 0.64, 0.64, 0.64, 0.64, 0.64, 0.64, 0.645, 0.645, 0.645, 0.65, 0.65, 0.65, 0.655, 0.655, 0.655, 0.66, 0.66, 0.665, 0.665, 0.665, 0.67, 0.675, 0.675, 0.68, 0.68, 0.685, 0.69, 0.695, 0.7, 0.7, 0.7, 0.705, 0.72, 0.72, 0.725, 0.75, 0.76, 0.135, 0.16, 0.21, 0.28, 0.28, 0.285, 0.29, 0.29, 0.29, 0.32, 0.325, 0.335, 0.35, 0.35, 0.355, 0.36, 0.36, 0.375, 0.375, 0.395, 0.405, 0.415, 0.425, 0.43, 0.435, 0.45, 0.46, 0.47, 0.47, 0.475, 0.505, 0.505, 0.505, 0.51, 0.515, 0.525, 0.53, 0.53, 0.545, 0.55, 0.56, 0.565, 0.57, 0.58, 0.59, 0.6, 0.605, 0.61, 0.625, 0.66, 0.255, 0.27, 0.28, 0.285, 0.32, 0.325, 0.385, 0.395, 0.4, 0.405, 0.415, 0.42, 0.44, 0.445, 0.45, 0.455, 0.46, 0.46, 0.465, 0.465, 0.475, 0.48, 0.485, 0.49, 0.5, 0.5, 0.505, 0.525, 0.535, 0.535, 0.54, 0.54, 0.545, 0.55, 0.55, 0.565, 0.58, 0.58, 0.585, 0.595, 0.6, 0.61, 0.61, 0.62, 0.645, 0.65, 0.665, 0.685, 0.69, 0.705, 0.71, 0.72, 0.72, 0.73, 0.775, 0.505, 0.53, 0.505, 0.405, 0.415, 0.5, 0.425, 0.47, 0.4, 0.37, 0.5, 0.41, 0.375, 0.49, 0.585, 0.595, 0.675, 0.665, 0.62, 0.325, 0.455, 0.525, 0.385, 0.13, 0.18, 0.31, 0.375, 0.48, 0.455, 0.425, 0.475, 0.435, 0.29, 0.385, 0.47, 0.5, 0.4, 0.62, 0.595, 0.585, 0.32, 0.52, 0.44, 0.44, 0.565, 0.56, 0.59, 0.57, 0.68, 0.45, 0.32, 0.46, 0.47, 0.455, 0.415, 0.465, 0.46, 0.415, 0.27, 0.445, 0.745, 0.4, 0.28, 0.55, 0.58, 0.61, 0.62, 0.56, 0.64, 0.69, 0.715, 0.71, 0.55, 0.375, 0.61, 0.38, 0.37, 0.335, 0.165, 0.285, 0.19, 0.215, 0.595, 0.645, 0.575, 0.57, 0.58, 0.595, 0.595, 0.625, 0.535, 0.55, 0.495, 0.32, 0.445, 0.52, 0.495, 0.47, 0.49, 0.58, 0.645, 0.575, 0.215, 0.43, 0.26, 0.37, 0.405, 0.27, 0.68, 0.65, 0.645, 0.57, 0.615, 0.42, 0.275, 0.29, 0.42, 0.625, 0.55, 0.66, 0.565, 0.595, 0.63, 0.43, 0.455, 0.33, 0.515, 0.495, 0.485, 0.535, 0.58, 0.625, 0.555, 0.55, 0.59, 0.355, 0.275, 0.505, 0.37, 0.555, 0.505, 0.56, 0.595, 0.57, 0.6, 0.56, 0.585, 0.46, 0.46, 0.415, 0.435, 0.475, 0.465, 0.355, 0.46, 0.38, 0.47, 0.36, 0.585, 0.655, 0.6, 0.57, 0.645, 0.65, 0.51, 0.52, 0.495, 0.43, 0.59, 0.55, 0.585, 0.58, 0.62, 0.59, 0.72, 0.635, 0.61, 0.545, 0.57, 0.6, 0.52, 0.635, 0.67, 0.695, 0.655, 0.62, 0.6, 0.51, 0.525, 0.44, 0.485, 0.495, 0.435, 0.405, 0.42, 0.5, 0.385, 0.33, 0.58, 0.325, 0.475, 0.38, 0.34, 0.525, 0.52, 0.535, 0.475, 0.415, 0.495, 0.48, 0.52, 0.46, 0.58, 0.59, 0.55, 0.65, 0.465, 0.455, 0.47, 0.435, 0.35, 0.315, 0.595, 0.58, 0.575, 0.535, 0.515, 0.505, 0.505, 0.4, 0.49, 0.53, 0.395, 0.665, 0.415, 0.43, 0.475, 0.525, 0.48, 0.42, 0.59, 0.515, 0.695, 0.8, 0.61, 0.565, 0.56, 0.655, 0.64, 0.59, 0.31, 0.255, 0.17, 0.67, 0.71, 0.56, 0.505, 0.525, 0.45, 0.515, 0.59, 0.7, 0.72, 0.635, 0.555, 0.575, 0.585, 0.61, 0.645, 0.545, 0.55, 0.66, 0.57, 0.6, 0.63, 0.695, 0.65, 0.72, 0.56, 0.42, 0.18, 0.405, 0.5, 0.435, 0.34, 0.43, 0.535, 0.415, 0.36, 0.175, 0.155, 0.525, 0.525, 0.44, 0.45, 0.485, 0.47, 0.515, 0.42, 0.455, 0.37, 0.33, 0.3, 0.625, 0.61, 0.625, 0.635, 0.5, 0.53, 0.445, 0.585, 0.44, 0.29, 0.555, 0.655, 0.58, 0.625, 0.62, 0.64, 0.505, 0.5, 0.31, 0.505, 0.42, 0.4, 0.425, 0.31, 0.465, 0.465, 0.35, 0.52, 0.475, 0.41, 0.26, 0.575, 0.565, 0.26, 0.53, 0.34, 0.52, 0.635, 0.61, 0.66, 0.635, 0.465, 0.515, 0.335, 0.515, 0.345, 0.465, 0.54, 0.475, 0.445, 0.5, 0.5, 0.55, 0.275, 0.35, 0.37, 0.42, 0.35, 0.395, 0.325, 0.275, 0.235, 0.25, 0.25, 0.2, 0.585, 0.445, 0.5, 0.44, 0.515, 0.52, 0.5, 0.425, 0.51, 0.37, 0.54, 0.615, 0.565, 0.645, 0.615, 0.605, 0.59, 0.645, 0.57, 0.47, 0.5, 0.52, 0.39, 0.52, 0.54, 0.46, 0.355, 0.49, 0.63, 0.5, 0.49, 0.44, 0.515, 0.475, 0.42, 0.4, 0.45, 0.52, 0.505, 0.495, 0.54, 0.48, 0.33, 0.285, 0.3, 0.31, 0.34, 0.375, 0.415, 0.415, 0.415, 0.42, 0.425, 0.465, 0.465, 0.47, 0.47, 0.475, 0.48, 0.5, 0.505, 0.525, 0.54, 0.545, 0.565, 0.58, 0.59, 0.59, 0.595, 0.6, 0.6, 0.6, 0.605, 0.625, 0.63, 0.64, 0.64, 0.655, 0.66, 0.66, 0.675, 0.675, 0.69, 0.695, 0.7, 0.73, 0.205, 0.225, 0.23, 0.275, 0.28, 0.28, 0.295, 0.31, 0.315, 0.34, 0.37, 0.38, 0.39, 0.405, 0.415, 0.44, 0.44, 0.44, 0.44, 0.45, 0.45, 0.455, 0.46, 0.46, 0.46, 0.465, 0.465, 0.475, 0.475, 0.48, 0.5, 0.5, 0.505, 0.515, 0.525, 0.525, 0.53, 0.53, 0.53, 0.54, 0.55, 0.555, 0.57, 0.57, 0.575, 0.58, 0.585, 0.59, 0.595, 0.595, 0.595, 0.6, 0.6, 0.6, 0.61, 0.615, 0.615, 0.615, 0.62, 0.62, 0.62, 0.625, 0.625, 0.625, 0.63, 0.63, 0.63, 0.635, 0.635, 0.645, 0.645, 0.65, 0.67, 0.69, 0.69, 0.695, 0.695, 0.7, 0.705, 0.765, 0.77, 0.22, 0.275, 0.29, 0.33, 0.355, 0.375, 0.415, 0.425, 0.425, 0.43, 0.44, 0.44, 0.46, 0.46, 0.465, 0.475, 0.475, 0.485, 0.49, 0.49, 0.495, 0.5, 0.5, 0.505, 0.51, 0.51, 0.515, 0.52, 0.545, 0.545, 0.545, 0.545, 0.55, 0.55, 0.555, 0.565, 0.57, 0.57, 0.57, 0.575, 0.58, 0.585, 0.585, 0.59, 0.59, 0.59, 0.595, 0.595, 0.595, 0.6, 0.605, 0.615, 0.615, 0.615, 0.615, 0.62, 0.62, 0.625, 0.625, 0.625, 0.63, 0.63, 0.63, 0.645, 0.645, 0.645, 0.65, 0.65, 0.65, 0.65, 0.65, 0.66, 0.665, 0.67, 0.67, 0.675, 0.68, 0.68, 0.7, 0.7, 0.725, 0.725, 0.735, 0.74, 0.75, 0.19, 0.21, 0.25, 0.29, 0.335, 0.34, 0.345, 0.355, 0.36, 0.37, 0.375, 0.375, 0.385, 0.385, 0.395, 0.4, 0.405, 0.405, 0.405, 0.405, 0.41, 0.41, 0.415, 0.42, 0.42, 0.43, 0.445, 0.45, 0.45, 0.455, 0.46, 0.46, 0.475, 0.48, 0.485, 0.485, 0.49, 0.505, 0.505, 0.51, 0.515, 0.515, 0.515, 0.525, 0.525, 0.525, 0.525, 0.535, 0.545, 0.55, 0.55, 0.55, 0.55, 0.55, 0.555, 0.555, 0.56, 0.56, 0.565, 0.57, 0.575, 0.58, 0.58, 0.58, 0.585, 0.585, 0.585, 0.585, 0.59, 0.59, 0.595, 0.6, 0.6, 0.6, 0.6, 0.61, 0.61, 0.615, 0.62, 0.62, 0.625, 0.625, 0.63, 0.63, 0.63, 0.63, 0.64, 0.64, 0.64, 0.64, 0.64, 0.65, 0.65, 0.66, 0.66, 0.675, 0.7, 0.705, 0.71, 0.72, 0.725, 0.24, 0.255, 0.275, 0.32, 0.325, 0.33, 0.36, 0.375, 0.375, 0.39, 0.45, 0.455, 0.46, 0.495, 0.5, 0.5, 0.52, 0.52, 0.525, 0.535, 0.54, 0.54, 0.57, 0.57, 0.58, 0.58, 0.59, 0.59, 0.59, 0.595, 0.6, 0.6, 0.605, 0.62, 0.625, 0.625, 0.625, 0.63, 0.63, 0.635, 0.645, 0.645, 0.65, 0.655, 0.655, 0.665, 0.695, 0.72, 0.72, 0.72, 0.735, 0.74, 0.31, 0.315, 0.32, 0.325, 0.335, 0.37, 0.37, 0.375, 0.4, 0.41, 0.425, 0.435, 0.445, 0.46, 0.465, 0.47, 0.475, 0.495, 0.5, 0.5, 0.505, 0.505, 0.505, 0.51, 0.51, 0.52, 0.52, 0.53, 0.53, 0.535, 0.54, 0.54, 0.545, 0.545, 0.55, 0.55, 0.55, 0.56, 0.56, 0.575, 0.575, 0.575, 0.58, 0.58, 0.58, 0.58, 0.58, 0.58, 0.585, 0.59, 0.59, 0.59, 0.595, 0.595, 0.6, 0.6, 0.6, 0.6, 0.6, 0.605, 0.605, 0.605, 0.61, 0.61, 0.61, 0.61, 0.615, 0.615, 0.615, 0.615, 0.62, 0.62, 0.625, 0.625, 0.625, 0.625, 0.625, 0.63, 0.63, 0.63, 0.63, 0.635, 0.635, 0.635, 0.635, 0.635, 0.64, 0.64, 0.645, 0.645, 0.645, 0.65, 0.65, 0.655, 0.655, 0.66, 0.66, 0.665, 0.67, 0.67, 0.67, 0.67, 0.67, 0.68, 0.68, 0.685, 0.69, 0.715, 0.72, 0.735, 0.745, 0.32, 0.43, 0.43, 0.485, 0.49, 0.5, 0.505, 0.51, 0.525, 0.535, 0.535, 0.535, 0.555, 0.555, 0.56, 0.59, 0.595, 0.595, 0.595, 0.61, 0.61, 0.62, 0.625, 0.635, 0.635, 0.64, 0.64, 0.645, 0.655, 0.67, 0.68, 0.7, 0.73, 0.75, 0.255, 0.375, 0.375, 0.39, 0.39, 0.395, 0.42, 0.435, 0.435, 0.44, 0.45, 0.45, 0.455, 0.46, 0.47, 0.475, 0.495, 0.495, 0.5, 0.515, 0.52, 0.52, 0.525, 0.535, 0.535, 0.54, 0.55, 0.55, 0.56, 0.565, 0.57, 0.57, 0.575, 0.575, 0.575, 0.575, 0.58, 0.585, 0.59, 0.59, 0.59, 0.595, 0.595, 0.595, 0.6, 0.6, 0.61, 0.615, 0.615, 0.62, 0.625, 0.63, 0.63, 0.635, 0.635, 0.635, 0.64, 0.64, 0.65, 0.65, 0.655, 0.655, 0.655, 0.66, 0.665, 0.675, 0.68, 0.68, 0.685, 0.695, 0.7, 0.71, 0.73, 0.755, 0.225, 0.23, 0.255, 0.355, 0.425, 0.425, 0.455, 0.46, 0.495, 0.51, 0.52, 0.525, 0.53, 0.53, 0.545, 0.55, 0.575, 0.58, 0.595, 0.6, 0.645, 0.66, 0.29, 0.3, 0.37, 0.375, 0.38, 0.395, 0.41, 0.415, 0.425, 0.44, 0.44, 0.465, 0.47, 0.51, 0.525, 0.525, 0.55, 0.56, 0.575, 0.575, 0.585, 0.615, 0.62, 0.63, 0.63, 0.67, 0.675, 0.685, 0.485, 0.46, 0.46, 0.535, 0.465, 0.51, 0.335, 0.55, 0.18, 0.215, 0.2, 0.625, 0.55, 0.585, 0.645, 0.71, 0.7, 0.655, 0.665, 0.47, 0.425, 0.54, 0.505, 0.535, 0.43, 0.55, 0.34, 0.275, 0.335, 0.64, 0.55, 0.64, 0.545, 0.64, 0.605, 0.605, 0.56, 0.57, 0.525, 0.505, 0.35, 0.45, 0.51, 0.49, 0.505, 0.38, 0.27, 0.37, 0.5, 0.645, 0.565, 0.67, 0.59, 0.47, 0.51, 0.72, 0.55, 0.2, 0.65, 0.525, 0.565, 0.61, 0.545, 0.325, 0.31, 0.45, 0.49, 0.505, 0.385, 0.62, 0.635, 0.665, 0.335, 0.295, 0.48, 0.32, 0.43, 0.565, 0.6, 0.585, 0.555, 0.57, 0.62, 0.63, 0.425, 0.64, 0.675, 0.5, 0.385, 0.52, 0.52, 0.64, 0.44, 0.42, 0.45, 0.42, 0.64, 0.57, 0.41, 0.485, 0.61, 0.59, 0.665, 0.345, 0.635, 0.695, 0.69, 0.555, 0.65, 0.635, 0.655, 0.69, 0.695, 0.55, 0.61, 0.595, 0.3, 0.435, 0.455, 0.48, 0.43, 0.435, 0.3, 0.575, 0.505, 0.455, 0.64, 0.56, 0.645, 0.595, 0.565, 0.655, 0.48, 0.495, 0.4, 0.41, 0.595, 0.625, 0.52, 0.465, 0.475, 0.5, 0.46, 0.485, 0.465, 0.525, 0.655, 0.69, 0.55, 0.58, 0.59, 0.565, 0.665, 0.62, 0.55, 0.605, 0.535, 0.51, 0.53, 0.495, 0.575, 0.63, 0.59, 0.605, 0.645, 0.62, 0.605, 0.615, 0.66, 0.71, 0.565, 0.57, 0.6, 0.41, 0.45, 0.275, 0.485, 0.62, 0.48, 0.505, 0.4, 0.45, 0.35, 0.44, 0.265, 0.165, 0.705, 0.535, 0.49, 0.48, 0.395, 0.375, 0.345, 0.55, 0.635, 0.575, 0.545, 0.385, 0.51, 0.44, 0.45, 0.39, 0.425, 0.45, 0.66, 0.685, 0.585, 0.54, 0.49, 0.43, 0.455, 0.495, 0.48, 0.47, 0.415, 0.49, 0.47, 0.445, 0.51, 0.52, 0.475, 0.455, 0.435, 0.39, 0.375, 0.285, 0.58, 0.58, 0.41, 0.41, 0.54, 0.33, 0.44, 0.28, 0.59, 0.61, 0.61, 0.455, 0.33, 0.44, 0.54, 0.475, 0.46, 0.31, 0.255, 0.335, 0.295, 0.19, 0.545, 0.495, 0.5, 0.305, 0.475, 0.515, 0.545, 0.74, 0.565, 0.56, 0.545, 0.645, 0.575, 0.62, 0.605, 0.605, 0.475, 0.365, 0.46, 0.53, 0.48, 0.455, 0.35, 0.37, 0.34, 0.35, 0.35, 0.39, 0.395, 0.415, 0.43, 0.48, 0.49, 0.49, 0.56, 0.56, 0.58, 0.58, 0.59, 0.595, 0.6, 0.61, 0.63, 0.64, 0.65, 0.71, 0.74, 0.25, 0.28, 0.325, 0.35, 0.36, 0.365, 0.37, 0.375, 0.38, 0.395, 0.43, 0.44, 0.465, 0.465, 0.48, 0.485, 0.49, 0.495, 0.5, 0.505, 0.52, 0.52, 0.525, 0.55, 0.555, 0.555, 0.575, 0.6, 0.61, 0.61, 0.61, 0.615, 0.62, 0.625, 0.625, 0.625, 0.635, 0.64, 0.64, 0.66, 0.665, 0.715, 0.72, 0.725, 0.165, 0.21, 0.355, 0.4, 0.4, 0.4, 0.435, 0.44, 0.45, 0.465, 0.47, 0.47, 0.475, 0.485, 0.505, 0.51, 0.52, 0.53, 0.535, 0.55, 0.555, 0.555, 0.555, 0.56, 0.575, 0.585, 0.59, 0.595, 0.6, 0.6, 0.61, 0.615, 0.62, 0.625, 0.625, 0.64, 0.64, 0.645, 0.65, 0.655, 0.655, 0.66, 0.67, 0.69, 0.7, 0.7, 0.71, 0.715, 0.72, 0.215, 0.24, 0.26, 0.32, 0.33, 0.335, 0.35, 0.35, 0.36, 0.36, 0.365, 0.38, 0.4, 0.4, 0.4, 0.425, 0.43, 0.435, 0.435, 0.445, 0.45, 0.455, 0.46, 0.475, 0.475, 0.475, 0.48, 0.495, 0.5, 0.505, 0.515, 0.525, 0.53, 0.53, 0.535, 0.535, 0.54, 0.55, 0.565, 0.57, 0.57, 0.57, 0.575, 0.575, 0.575, 0.575, 0.58, 0.58, 0.58, 0.58, 0.585, 0.585, 0.595, 0.6, 0.6, 0.6, 0.6, 0.6, 0.6, 0.62, 0.625, 0.625, 0.625, 0.625, 0.625, 0.63, 0.635, 0.65, 0.65, 0.65, 0.65, 0.655, 0.655, 0.66, 0.66, 0.675, 0.685, 0.715, 0.735, 0.175, 0.37, 0.395, 0.42, 0.455, 0.495, 0.51, 0.515, 0.545, 0.555, 0.58, 0.59, 0.6, 0.61, 0.615, 0.615, 0.615, 0.62, 0.63, 0.64, 0.64, 0.655, 0.655, 0.66, 0.665, 0.67, 0.69, 0.715, 0.735, 0.27, 0.285, 0.295, 0.3, 0.3, 0.36, 0.37, 0.39, 0.435, 0.44, 0.44, 0.445, 0.465, 0.465, 0.47, 0.475, 0.475, 0.475, 0.485, 0.49, 0.515, 0.52, 0.525, 0.525, 0.53, 0.53, 0.53, 0.53, 0.535, 0.535, 0.545, 0.545, 0.55, 0.55, 0.55, 0.555, 0.575, 0.575, 0.585, 0.585, 0.585, 0.59, 0.595, 0.595, 0.595, 0.595, 0.6, 0.6, 0.605, 0.605, 0.61, 0.61, 0.615, 0.62, 0.62, 0.62, 0.62, 0.625, 0.625, 0.63, 0.63, 0.64, 0.645, 0.65, 0.65, 0.65, 0.65, 0.65, 0.65, 0.65, 0.65, 0.66, 0.66, 0.665, 0.67, 0.67, 0.67, 0.675, 0.675, 0.675, 0.685, 0.685, 0.705, 0.705, 0.71, 0.725, 0.78, 0.235, 0.35, 0.36, 0.38, 0.38, 0.43, 0.465, 0.47, 0.485, 0.495, 0.5, 0.505, 0.51, 0.51, 0.515, 0.55, 0.575, 0.605, 0.615, 0.615, 0.625, 0.625, 0.635, 0.65, 0.65, 0.67, 0.695, 0.705, 0.275, 0.285, 0.36, 0.385, 0.4, 0.43, 0.435, 0.45, 0.475, 0.475, 0.485, 0.51, 0.515, 0.52, 0.525, 0.53, 0.53, 0.53, 0.53, 0.53, 0.535, 0.535, 0.555, 0.555, 0.56, 0.56, 0.565, 0.575, 0.575, 0.575, 0.58, 0.58, 0.585, 0.585, 0.59, 0.595, 0.615, 0.615, 0.62, 0.62, 0.62, 0.625, 0.625, 0.63, 0.63, 0.645, 0.65, 0.65, 0.655, 0.665, 0.67, 0.675, 0.675, 0.695, 0.695, 0.705, 0.74, 0.205, 0.305, 0.32, 0.355, 0.425, 0.425, 0.45, 0.515, 0.52, 0.525, 0.555, 0.61, 0.35, 0.38, 0.46, 0.465, 0.475, 0.565, 0.57, 0.57, 0.595, 0.605, 0.615, 0.62, 0.625, 0.68, 0.68, 0.68, 0.71, 0.5, 0.545, 0.46, 0.535, 0.335, 0.425, 0.41, 0.17, 0.335, 0.52, 0.53, 0.5, 0.615, 0.575, 0.57, 0.455, 0.37, 0.445, 0.675, 0.385, 0.375, 0.56, 0.55, 0.57, 0.485, 0.41, 0.335, 0.655, 0.565, 0.57, 0.55, 0.63, 0.475, 0.655, 0.32, 0.525, 0.525, 0.5, 0.44, 0.49, 0.545, 0.45, 0.515, 0.33, 0.525, 0.295, 0.545, 0.645, 0.45, 0.61, 0.38, 0.565, 0.67, 0.54, 0.29, 0.41, 0.46, 0.56, 0.575, 0.62, 0.515, 0.56, 0.5, 0.435, 0.495, 0.595, 0.76, 0.615, 0.565, 0.14, 0.445, 0.525, 0.16, 0.635, 0.575, 0.38, 0.245, 0.48, 0.455, 0.455, 0.455, 0.355, 0.52, 0.54, 0.52, 0.56, 0.52, 0.615, 0.645, 0.565, 0.295, 0.375, 0.525, 0.395, 0.5, 0.47, 0.58, 0.5, 0.725, 0.65, 0.67, 0.55, 0.49, 0.235, 0.235, 0.52, 0.475, 0.53, 0.35, 0.555, 0.505, 0.54, 0.525, 0.55, 0.55, 0.235, 0.525, 0.475, 0.53, 0.525, 0.53, 0.465, 0.315, 0.465, 0.485, 0.49, 0.515, 0.555, 0.61, 0.68, 0.69, 0.695, 0.72, 0.27, 0.27, 0.295, 0.295, 0.315, 0.375, 0.38, 0.385, 0.4, 0.415, 0.415, 0.42, 0.44, 0.45, 0.475, 0.485, 0.495, 0.525, 0.565, 0.58, 0.585, 0.6, 0.63, 0.645, 0.655, 0.665, 0.67, 0.67, 0.685, 0.7, 0.72, 0.185, 0.245, 0.315, 0.36, 0.375, 0.415, 0.455, 0.48, 0.485, 0.51, 0.52, 0.555, 0.585, 0.585, 0.585, 0.61, 0.61, 0.615, 0.62, 0.625, 0.625, 0.635, 0.64, 0.66, 0.66, 0.66, 0.68, 0.69, 0.72, 0.275, 0.33, 0.33, 0.365, 0.365, 0.42, 0.435, 0.435, 0.44, 0.485, 0.495, 0.51, 0.52, 0.54, 0.54, 0.55, 0.56, 0.575, 0.575, 0.575, 0.58, 0.58, 0.59, 0.6, 0.62, 0.625, 0.625, 0.625, 0.625, 0.625, 0.625, 0.635, 0.645, 0.645, 0.69, 0.695, 0.515, 0.545, 0.62, 0.63, 0.63, 0.64, 0.37, 0.395, 0.4, 0.41, 0.455, 0.48, 0.485, 0.5, 0.515, 0.52, 0.545, 0.545, 0.55, 0.55, 0.55, 0.555, 0.56, 0.565, 0.57, 0.575, 0.585, 0.59, 0.595, 0.6, 0.61, 0.615, 0.625, 0.625, 0.63, 0.63, 0.635, 0.635, 0.635, 0.65, 0.67, 0.675, 0.675, 0.68, 0.7, 0.71, 0.715, 0.72, 0.42, 0.48, 0.48, 0.51, 0.515, 0.56, 0.56, 0.57, 0.605, 0.625, 0.64, 0.65, 0.3, 0.35, 0.455, 0.46, 0.49, 0.5, 0.54, 0.55, 0.55, 0.555, 0.57, 0.58, 0.58, 0.585, 0.585, 0.595, 0.6, 0.615, 0.63, 0.63, 0.635, 0.645, 0.65, 0.655, 0.655, 0.67, 0.67, 0.695, 0.695, 0.77, 0.28, 0.33, 0.35, 0.37, 0.43, 0.435, 0.44, 0.475, 0.475, 0.48, 0.56, 0.585, 0.585, 0.385, 0.39, 0.39, 0.405, 0.475, 0.5, 0.515, 0.52, 0.55, 0.56, 0.565, 0.59, 0.6, 0.625, 0.71], \"xbins\": {\"end\": 1, \"size\": 0.02, \"start\": 0}}],                        {\"template\": {\"data\": {\"bar\": [{\"error_x\": {\"color\": \"#2a3f5f\"}, \"error_y\": {\"color\": \"#2a3f5f\"}, \"marker\": {\"line\": {\"color\": \"#E5ECF6\", \"width\": 0.5}}, \"type\": \"bar\"}], \"barpolar\": [{\"marker\": {\"line\": {\"color\": \"#E5ECF6\", \"width\": 0.5}}, \"type\": \"barpolar\"}], \"carpet\": [{\"aaxis\": {\"endlinecolor\": \"#2a3f5f\", \"gridcolor\": \"white\", \"linecolor\": \"white\", \"minorgridcolor\": \"white\", \"startlinecolor\": \"#2a3f5f\"}, \"baxis\": {\"endlinecolor\": \"#2a3f5f\", \"gridcolor\": \"white\", \"linecolor\": \"white\", \"minorgridcolor\": \"white\", \"startlinecolor\": \"#2a3f5f\"}, \"type\": \"carpet\"}], \"choropleth\": [{\"colorbar\": {\"outlinewidth\": 0, \"ticks\": \"\"}, \"type\": \"choropleth\"}], \"contour\": [{\"colorbar\": {\"outlinewidth\": 0, \"ticks\": \"\"}, \"colorscale\": [[0.0, \"#0d0887\"], [0.1111111111111111, \"#46039f\"], [0.2222222222222222, \"#7201a8\"], [0.3333333333333333, \"#9c179e\"], [0.4444444444444444, \"#bd3786\"], [0.5555555555555556, \"#d8576b\"], [0.6666666666666666, \"#ed7953\"], [0.7777777777777778, \"#fb9f3a\"], [0.8888888888888888, \"#fdca26\"], [1.0, \"#f0f921\"]], \"type\": \"contour\"}], \"contourcarpet\": [{\"colorbar\": {\"outlinewidth\": 0, \"ticks\": \"\"}, \"type\": \"contourcarpet\"}], \"heatmap\": [{\"colorbar\": {\"outlinewidth\": 0, \"ticks\": \"\"}, \"colorscale\": [[0.0, \"#0d0887\"], [0.1111111111111111, \"#46039f\"], [0.2222222222222222, \"#7201a8\"], [0.3333333333333333, \"#9c179e\"], [0.4444444444444444, \"#bd3786\"], [0.5555555555555556, \"#d8576b\"], [0.6666666666666666, \"#ed7953\"], [0.7777777777777778, \"#fb9f3a\"], [0.8888888888888888, \"#fdca26\"], [1.0, \"#f0f921\"]], \"type\": \"heatmap\"}], \"heatmapgl\": [{\"colorbar\": {\"outlinewidth\": 0, \"ticks\": \"\"}, \"colorscale\": [[0.0, \"#0d0887\"], [0.1111111111111111, \"#46039f\"], [0.2222222222222222, \"#7201a8\"], [0.3333333333333333, \"#9c179e\"], [0.4444444444444444, \"#bd3786\"], [0.5555555555555556, \"#d8576b\"], [0.6666666666666666, \"#ed7953\"], [0.7777777777777778, \"#fb9f3a\"], [0.8888888888888888, \"#fdca26\"], [1.0, \"#f0f921\"]], \"type\": \"heatmapgl\"}], \"histogram\": [{\"marker\": {\"colorbar\": {\"outlinewidth\": 0, \"ticks\": \"\"}}, \"type\": \"histogram\"}], \"histogram2d\": [{\"colorbar\": {\"outlinewidth\": 0, \"ticks\": \"\"}, \"colorscale\": [[0.0, \"#0d0887\"], [0.1111111111111111, \"#46039f\"], [0.2222222222222222, \"#7201a8\"], [0.3333333333333333, \"#9c179e\"], [0.4444444444444444, \"#bd3786\"], [0.5555555555555556, \"#d8576b\"], [0.6666666666666666, \"#ed7953\"], [0.7777777777777778, \"#fb9f3a\"], [0.8888888888888888, \"#fdca26\"], [1.0, \"#f0f921\"]], \"type\": \"histogram2d\"}], \"histogram2dcontour\": [{\"colorbar\": {\"outlinewidth\": 0, \"ticks\": \"\"}, \"colorscale\": [[0.0, \"#0d0887\"], [0.1111111111111111, \"#46039f\"], [0.2222222222222222, \"#7201a8\"], [0.3333333333333333, \"#9c179e\"], [0.4444444444444444, \"#bd3786\"], [0.5555555555555556, \"#d8576b\"], [0.6666666666666666, \"#ed7953\"], [0.7777777777777778, \"#fb9f3a\"], [0.8888888888888888, \"#fdca26\"], [1.0, \"#f0f921\"]], \"type\": \"histogram2dcontour\"}], \"mesh3d\": [{\"colorbar\": {\"outlinewidth\": 0, \"ticks\": \"\"}, \"type\": \"mesh3d\"}], \"parcoords\": [{\"line\": {\"colorbar\": {\"outlinewidth\": 0, \"ticks\": \"\"}}, \"type\": \"parcoords\"}], \"pie\": [{\"automargin\": true, \"type\": \"pie\"}], \"scatter\": [{\"marker\": {\"colorbar\": {\"outlinewidth\": 0, \"ticks\": \"\"}}, \"type\": \"scatter\"}], \"scatter3d\": [{\"line\": {\"colorbar\": {\"outlinewidth\": 0, \"ticks\": \"\"}}, \"marker\": {\"colorbar\": {\"outlinewidth\": 0, \"ticks\": \"\"}}, \"type\": \"scatter3d\"}], \"scattercarpet\": [{\"marker\": {\"colorbar\": {\"outlinewidth\": 0, \"ticks\": \"\"}}, \"type\": \"scattercarpet\"}], \"scattergeo\": [{\"marker\": {\"colorbar\": {\"outlinewidth\": 0, \"ticks\": \"\"}}, \"type\": \"scattergeo\"}], \"scattergl\": [{\"marker\": {\"colorbar\": {\"outlinewidth\": 0, \"ticks\": \"\"}}, \"type\": \"scattergl\"}], \"scattermapbox\": [{\"marker\": {\"colorbar\": {\"outlinewidth\": 0, \"ticks\": \"\"}}, \"type\": \"scattermapbox\"}], \"scatterpolar\": [{\"marker\": {\"colorbar\": {\"outlinewidth\": 0, \"ticks\": \"\"}}, \"type\": \"scatterpolar\"}], \"scatterpolargl\": [{\"marker\": {\"colorbar\": {\"outlinewidth\": 0, \"ticks\": \"\"}}, \"type\": \"scatterpolargl\"}], \"scatterternary\": [{\"marker\": {\"colorbar\": {\"outlinewidth\": 0, \"ticks\": \"\"}}, \"type\": \"scatterternary\"}], \"surface\": [{\"colorbar\": {\"outlinewidth\": 0, \"ticks\": \"\"}, \"colorscale\": [[0.0, \"#0d0887\"], [0.1111111111111111, \"#46039f\"], [0.2222222222222222, \"#7201a8\"], [0.3333333333333333, \"#9c179e\"], [0.4444444444444444, \"#bd3786\"], [0.5555555555555556, \"#d8576b\"], [0.6666666666666666, \"#ed7953\"], [0.7777777777777778, \"#fb9f3a\"], [0.8888888888888888, \"#fdca26\"], [1.0, \"#f0f921\"]], \"type\": \"surface\"}], \"table\": [{\"cells\": {\"fill\": {\"color\": \"#EBF0F8\"}, \"line\": {\"color\": \"white\"}}, \"header\": {\"fill\": {\"color\": \"#C8D4E3\"}, \"line\": {\"color\": \"white\"}}, \"type\": \"table\"}]}, \"layout\": {\"annotationdefaults\": {\"arrowcolor\": \"#2a3f5f\", \"arrowhead\": 0, \"arrowwidth\": 1}, \"autotypenumbers\": \"strict\", \"coloraxis\": {\"colorbar\": {\"outlinewidth\": 0, \"ticks\": \"\"}}, \"colorscale\": {\"diverging\": [[0, \"#8e0152\"], [0.1, \"#c51b7d\"], [0.2, \"#de77ae\"], [0.3, \"#f1b6da\"], [0.4, \"#fde0ef\"], [0.5, \"#f7f7f7\"], [0.6, \"#e6f5d0\"], [0.7, \"#b8e186\"], [0.8, \"#7fbc41\"], [0.9, \"#4d9221\"], [1, \"#276419\"]], \"sequential\": [[0.0, \"#0d0887\"], [0.1111111111111111, \"#46039f\"], [0.2222222222222222, \"#7201a8\"], [0.3333333333333333, \"#9c179e\"], [0.4444444444444444, \"#bd3786\"], [0.5555555555555556, \"#d8576b\"], [0.6666666666666666, \"#ed7953\"], [0.7777777777777778, \"#fb9f3a\"], [0.8888888888888888, \"#fdca26\"], [1.0, \"#f0f921\"]], \"sequentialminus\": [[0.0, \"#0d0887\"], [0.1111111111111111, \"#46039f\"], [0.2222222222222222, \"#7201a8\"], [0.3333333333333333, \"#9c179e\"], [0.4444444444444444, \"#bd3786\"], [0.5555555555555556, \"#d8576b\"], [0.6666666666666666, \"#ed7953\"], [0.7777777777777778, \"#fb9f3a\"], [0.8888888888888888, \"#fdca26\"], [1.0, \"#f0f921\"]]}, \"colorway\": [\"#636efa\", \"#EF553B\", \"#00cc96\", \"#ab63fa\", \"#FFA15A\", \"#19d3f3\", \"#FF6692\", \"#B6E880\", \"#FF97FF\", \"#FECB52\"], \"font\": {\"color\": \"#2a3f5f\"}, \"geo\": {\"bgcolor\": \"white\", \"lakecolor\": \"white\", \"landcolor\": \"#E5ECF6\", \"showlakes\": true, \"showland\": true, \"subunitcolor\": \"white\"}, \"hoverlabel\": {\"align\": \"left\"}, \"hovermode\": \"closest\", \"mapbox\": {\"style\": \"light\"}, \"paper_bgcolor\": \"white\", \"plot_bgcolor\": \"#E5ECF6\", \"polar\": {\"angularaxis\": {\"gridcolor\": \"white\", \"linecolor\": \"white\", \"ticks\": \"\"}, \"bgcolor\": \"#E5ECF6\", \"radialaxis\": {\"gridcolor\": \"white\", \"linecolor\": \"white\", \"ticks\": \"\"}}, \"scene\": {\"xaxis\": {\"backgroundcolor\": \"#E5ECF6\", \"gridcolor\": \"white\", \"gridwidth\": 2, \"linecolor\": \"white\", \"showbackground\": true, \"ticks\": \"\", \"zerolinecolor\": \"white\"}, \"yaxis\": {\"backgroundcolor\": \"#E5ECF6\", \"gridcolor\": \"white\", \"gridwidth\": 2, \"linecolor\": \"white\", \"showbackground\": true, \"ticks\": \"\", \"zerolinecolor\": \"white\"}, \"zaxis\": {\"backgroundcolor\": \"#E5ECF6\", \"gridcolor\": \"white\", \"gridwidth\": 2, \"linecolor\": \"white\", \"showbackground\": true, \"ticks\": \"\", \"zerolinecolor\": \"white\"}}, \"shapedefaults\": {\"line\": {\"color\": \"#2a3f5f\"}}, \"ternary\": {\"aaxis\": {\"gridcolor\": \"white\", \"linecolor\": \"white\", \"ticks\": \"\"}, \"baxis\": {\"gridcolor\": \"white\", \"linecolor\": \"white\", \"ticks\": \"\"}, \"bgcolor\": \"#E5ECF6\", \"caxis\": {\"gridcolor\": \"white\", \"linecolor\": \"white\", \"ticks\": \"\"}}, \"title\": {\"x\": 0.05}, \"xaxis\": {\"automargin\": true, \"gridcolor\": \"white\", \"linecolor\": \"white\", \"ticks\": \"\", \"title\": {\"standoff\": 15}, \"zerolinecolor\": \"white\", \"zerolinewidth\": 2}, \"yaxis\": {\"automargin\": true, \"gridcolor\": \"white\", \"linecolor\": \"white\", \"ticks\": \"\", \"title\": {\"standoff\": 15}, \"zerolinecolor\": \"white\", \"zerolinewidth\": 2}}}, \"title\": {\"text\": \"Histogram\"}, \"xaxis\": {\"title\": {\"text\": \"length (mm)\"}}},                        {\"responsive\": true}                    ).then(function(){\n",
       "                            \n",
       "var gd = document.getElementById('43029539-1875-428b-a686-e7b6512e23e8');\n",
       "var x = new MutationObserver(function (mutations, observer) {{\n",
       "        var display = window.getComputedStyle(gd).display;\n",
       "        if (!display || display === 'none') {{\n",
       "            console.log([gd, 'removed!']);\n",
       "            Plotly.purge(gd);\n",
       "            observer.disconnect();\n",
       "        }}\n",
       "}});\n",
       "\n",
       "// Listen for the removal of the full notebook cells\n",
       "var notebookContainer = gd.closest('#notebook-container');\n",
       "if (notebookContainer) {{\n",
       "    x.observe(notebookContainer, {childList: true});\n",
       "}}\n",
       "\n",
       "// Listen for the clearing of the current output cell\n",
       "var outputEl = gd.closest('.output');\n",
       "if (outputEl) {{\n",
       "    x.observe(outputEl, {childList: true});\n",
       "}}\n",
       "\n",
       "                        })                };                });            </script>        </div>"
      ]
     },
     "metadata": {},
     "output_type": "display_data"
    }
   ],
   "source": [
    "import plotly.graph_objs as go\n",
    "import plotly.offline as pyo\n",
    "import pandas as pd\n",
    "import numpy as np\n",
    "\n",
    "df = pd.read_csv('../../data/bronze/plotlydash/abalone.csv')\n",
    "\n",
    "data = [go.Histogram(x=df[\"length\"],\n",
    "                     xbins=dict(start=0,\n",
    "                                end=1,\n",
    "                                size=0.02))]\n",
    "layout = go.Layout(title=\"Histogram\",\n",
    "                   xaxis=dict(title=\"length (mm)\"))\n",
    "fig = go.Figure(data=data, layout=layout)\n",
    "pyo.iplot(fig)"
   ]
  },
  {
   "cell_type": "markdown",
   "metadata": {},
   "source": [
    "## heatmap"
   ]
  },
  {
   "cell_type": "code",
   "execution_count": 39,
   "metadata": {},
   "outputs": [
    {
     "data": {
      "application/vnd.plotly.v1+json": {
       "config": {
        "linkText": "Export to plot.ly",
        "plotlyServerURL": "https://plot.ly",
        "showLink": false
       },
       "data": [
        {
         "type": "heatmap",
         "x": [
          1949,
          1949,
          1949,
          1949,
          1949,
          1949,
          1949,
          1949,
          1949,
          1949,
          1949,
          1949,
          1950,
          1950,
          1950,
          1950,
          1950,
          1950,
          1950,
          1950,
          1950,
          1950,
          1950,
          1950,
          1951,
          1951,
          1951,
          1951,
          1951,
          1951,
          1951,
          1951,
          1951,
          1951,
          1951,
          1951,
          1952,
          1952,
          1952,
          1952,
          1952,
          1952,
          1952,
          1952,
          1952,
          1952,
          1952,
          1952,
          1953,
          1953,
          1953,
          1953,
          1953,
          1953,
          1953,
          1953,
          1953,
          1953,
          1953,
          1953,
          1954,
          1954,
          1954,
          1954,
          1954,
          1954,
          1954,
          1954,
          1954,
          1954,
          1954,
          1954,
          1955,
          1955,
          1955,
          1955,
          1955,
          1955,
          1955,
          1955,
          1955,
          1955,
          1955,
          1955,
          1956,
          1956,
          1956,
          1956,
          1956,
          1956,
          1956,
          1956,
          1956,
          1956,
          1956,
          1956,
          1957,
          1957,
          1957,
          1957,
          1957,
          1957,
          1957,
          1957,
          1957,
          1957,
          1957,
          1957,
          1958,
          1958,
          1958,
          1958,
          1958,
          1958,
          1958,
          1958,
          1958,
          1958,
          1958,
          1958,
          1959,
          1959,
          1959,
          1959,
          1959,
          1959,
          1959,
          1959,
          1959,
          1959,
          1959,
          1959,
          1960,
          1960,
          1960,
          1960,
          1960,
          1960,
          1960,
          1960,
          1960,
          1960,
          1960,
          1960
         ],
         "y": [
          "January",
          "February",
          "March",
          "April",
          "May",
          "June",
          "July",
          "August",
          "September",
          "October",
          "November",
          "December",
          "January",
          "February",
          "March",
          "April",
          "May",
          "June",
          "July",
          "August",
          "September",
          "October",
          "November",
          "December",
          "January",
          "February",
          "March",
          "April",
          "May",
          "June",
          "July",
          "August",
          "September",
          "October",
          "November",
          "December",
          "January",
          "February",
          "March",
          "April",
          "May",
          "June",
          "July",
          "August",
          "September",
          "October",
          "November",
          "December",
          "January",
          "February",
          "March",
          "April",
          "May",
          "June",
          "July",
          "August",
          "September",
          "October",
          "November",
          "December",
          "January",
          "February",
          "March",
          "April",
          "May",
          "June",
          "July",
          "August",
          "September",
          "October",
          "November",
          "December",
          "January",
          "February",
          "March",
          "April",
          "May",
          "June",
          "July",
          "August",
          "September",
          "October",
          "November",
          "December",
          "January",
          "February",
          "March",
          "April",
          "May",
          "June",
          "July",
          "August",
          "September",
          "October",
          "November",
          "December",
          "January",
          "February",
          "March",
          "April",
          "May",
          "June",
          "July",
          "August",
          "September",
          "October",
          "November",
          "December",
          "January",
          "February",
          "March",
          "April",
          "May",
          "June",
          "July",
          "August",
          "September",
          "October",
          "November",
          "December",
          "January",
          "February",
          "March",
          "April",
          "May",
          "June",
          "July",
          "August",
          "September",
          "October",
          "November",
          "December",
          "January",
          "February",
          "March",
          "April",
          "May",
          "June",
          "July",
          "August",
          "September",
          "October",
          "November",
          "December"
         ],
         "z": [
          112,
          118,
          132,
          129,
          121,
          135,
          148,
          148,
          136,
          119,
          104,
          118,
          115,
          126,
          141,
          135,
          125,
          149,
          170,
          170,
          158,
          133,
          114,
          140,
          145,
          150,
          178,
          163,
          172,
          178,
          199,
          199,
          184,
          162,
          146,
          166,
          171,
          180,
          193,
          181,
          183,
          218,
          230,
          242,
          209,
          191,
          172,
          194,
          196,
          196,
          236,
          235,
          229,
          243,
          264,
          272,
          237,
          211,
          180,
          201,
          204,
          188,
          235,
          227,
          234,
          264,
          302,
          293,
          259,
          229,
          203,
          229,
          242,
          233,
          267,
          269,
          270,
          315,
          364,
          347,
          312,
          274,
          237,
          278,
          284,
          277,
          317,
          313,
          318,
          374,
          413,
          405,
          355,
          306,
          271,
          306,
          315,
          301,
          356,
          348,
          355,
          422,
          465,
          467,
          404,
          347,
          305,
          336,
          340,
          318,
          362,
          348,
          363,
          435,
          491,
          505,
          404,
          359,
          310,
          337,
          360,
          342,
          406,
          396,
          420,
          472,
          548,
          559,
          463,
          407,
          362,
          405,
          417,
          391,
          419,
          461,
          472,
          535,
          622,
          606,
          508,
          461,
          390,
          432
         ]
        }
       ],
       "layout": {
        "template": {
         "data": {
          "bar": [
           {
            "error_x": {
             "color": "#2a3f5f"
            },
            "error_y": {
             "color": "#2a3f5f"
            },
            "marker": {
             "line": {
              "color": "#E5ECF6",
              "width": 0.5
             }
            },
            "type": "bar"
           }
          ],
          "barpolar": [
           {
            "marker": {
             "line": {
              "color": "#E5ECF6",
              "width": 0.5
             }
            },
            "type": "barpolar"
           }
          ],
          "carpet": [
           {
            "aaxis": {
             "endlinecolor": "#2a3f5f",
             "gridcolor": "white",
             "linecolor": "white",
             "minorgridcolor": "white",
             "startlinecolor": "#2a3f5f"
            },
            "baxis": {
             "endlinecolor": "#2a3f5f",
             "gridcolor": "white",
             "linecolor": "white",
             "minorgridcolor": "white",
             "startlinecolor": "#2a3f5f"
            },
            "type": "carpet"
           }
          ],
          "choropleth": [
           {
            "colorbar": {
             "outlinewidth": 0,
             "ticks": ""
            },
            "type": "choropleth"
           }
          ],
          "contour": [
           {
            "colorbar": {
             "outlinewidth": 0,
             "ticks": ""
            },
            "colorscale": [
             [
              0,
              "#0d0887"
             ],
             [
              0.1111111111111111,
              "#46039f"
             ],
             [
              0.2222222222222222,
              "#7201a8"
             ],
             [
              0.3333333333333333,
              "#9c179e"
             ],
             [
              0.4444444444444444,
              "#bd3786"
             ],
             [
              0.5555555555555556,
              "#d8576b"
             ],
             [
              0.6666666666666666,
              "#ed7953"
             ],
             [
              0.7777777777777778,
              "#fb9f3a"
             ],
             [
              0.8888888888888888,
              "#fdca26"
             ],
             [
              1,
              "#f0f921"
             ]
            ],
            "type": "contour"
           }
          ],
          "contourcarpet": [
           {
            "colorbar": {
             "outlinewidth": 0,
             "ticks": ""
            },
            "type": "contourcarpet"
           }
          ],
          "heatmap": [
           {
            "colorbar": {
             "outlinewidth": 0,
             "ticks": ""
            },
            "colorscale": [
             [
              0,
              "#0d0887"
             ],
             [
              0.1111111111111111,
              "#46039f"
             ],
             [
              0.2222222222222222,
              "#7201a8"
             ],
             [
              0.3333333333333333,
              "#9c179e"
             ],
             [
              0.4444444444444444,
              "#bd3786"
             ],
             [
              0.5555555555555556,
              "#d8576b"
             ],
             [
              0.6666666666666666,
              "#ed7953"
             ],
             [
              0.7777777777777778,
              "#fb9f3a"
             ],
             [
              0.8888888888888888,
              "#fdca26"
             ],
             [
              1,
              "#f0f921"
             ]
            ],
            "type": "heatmap"
           }
          ],
          "heatmapgl": [
           {
            "colorbar": {
             "outlinewidth": 0,
             "ticks": ""
            },
            "colorscale": [
             [
              0,
              "#0d0887"
             ],
             [
              0.1111111111111111,
              "#46039f"
             ],
             [
              0.2222222222222222,
              "#7201a8"
             ],
             [
              0.3333333333333333,
              "#9c179e"
             ],
             [
              0.4444444444444444,
              "#bd3786"
             ],
             [
              0.5555555555555556,
              "#d8576b"
             ],
             [
              0.6666666666666666,
              "#ed7953"
             ],
             [
              0.7777777777777778,
              "#fb9f3a"
             ],
             [
              0.8888888888888888,
              "#fdca26"
             ],
             [
              1,
              "#f0f921"
             ]
            ],
            "type": "heatmapgl"
           }
          ],
          "histogram": [
           {
            "marker": {
             "colorbar": {
              "outlinewidth": 0,
              "ticks": ""
             }
            },
            "type": "histogram"
           }
          ],
          "histogram2d": [
           {
            "colorbar": {
             "outlinewidth": 0,
             "ticks": ""
            },
            "colorscale": [
             [
              0,
              "#0d0887"
             ],
             [
              0.1111111111111111,
              "#46039f"
             ],
             [
              0.2222222222222222,
              "#7201a8"
             ],
             [
              0.3333333333333333,
              "#9c179e"
             ],
             [
              0.4444444444444444,
              "#bd3786"
             ],
             [
              0.5555555555555556,
              "#d8576b"
             ],
             [
              0.6666666666666666,
              "#ed7953"
             ],
             [
              0.7777777777777778,
              "#fb9f3a"
             ],
             [
              0.8888888888888888,
              "#fdca26"
             ],
             [
              1,
              "#f0f921"
             ]
            ],
            "type": "histogram2d"
           }
          ],
          "histogram2dcontour": [
           {
            "colorbar": {
             "outlinewidth": 0,
             "ticks": ""
            },
            "colorscale": [
             [
              0,
              "#0d0887"
             ],
             [
              0.1111111111111111,
              "#46039f"
             ],
             [
              0.2222222222222222,
              "#7201a8"
             ],
             [
              0.3333333333333333,
              "#9c179e"
             ],
             [
              0.4444444444444444,
              "#bd3786"
             ],
             [
              0.5555555555555556,
              "#d8576b"
             ],
             [
              0.6666666666666666,
              "#ed7953"
             ],
             [
              0.7777777777777778,
              "#fb9f3a"
             ],
             [
              0.8888888888888888,
              "#fdca26"
             ],
             [
              1,
              "#f0f921"
             ]
            ],
            "type": "histogram2dcontour"
           }
          ],
          "mesh3d": [
           {
            "colorbar": {
             "outlinewidth": 0,
             "ticks": ""
            },
            "type": "mesh3d"
           }
          ],
          "parcoords": [
           {
            "line": {
             "colorbar": {
              "outlinewidth": 0,
              "ticks": ""
             }
            },
            "type": "parcoords"
           }
          ],
          "pie": [
           {
            "automargin": true,
            "type": "pie"
           }
          ],
          "scatter": [
           {
            "marker": {
             "colorbar": {
              "outlinewidth": 0,
              "ticks": ""
             }
            },
            "type": "scatter"
           }
          ],
          "scatter3d": [
           {
            "line": {
             "colorbar": {
              "outlinewidth": 0,
              "ticks": ""
             }
            },
            "marker": {
             "colorbar": {
              "outlinewidth": 0,
              "ticks": ""
             }
            },
            "type": "scatter3d"
           }
          ],
          "scattercarpet": [
           {
            "marker": {
             "colorbar": {
              "outlinewidth": 0,
              "ticks": ""
             }
            },
            "type": "scattercarpet"
           }
          ],
          "scattergeo": [
           {
            "marker": {
             "colorbar": {
              "outlinewidth": 0,
              "ticks": ""
             }
            },
            "type": "scattergeo"
           }
          ],
          "scattergl": [
           {
            "marker": {
             "colorbar": {
              "outlinewidth": 0,
              "ticks": ""
             }
            },
            "type": "scattergl"
           }
          ],
          "scattermapbox": [
           {
            "marker": {
             "colorbar": {
              "outlinewidth": 0,
              "ticks": ""
             }
            },
            "type": "scattermapbox"
           }
          ],
          "scatterpolar": [
           {
            "marker": {
             "colorbar": {
              "outlinewidth": 0,
              "ticks": ""
             }
            },
            "type": "scatterpolar"
           }
          ],
          "scatterpolargl": [
           {
            "marker": {
             "colorbar": {
              "outlinewidth": 0,
              "ticks": ""
             }
            },
            "type": "scatterpolargl"
           }
          ],
          "scatterternary": [
           {
            "marker": {
             "colorbar": {
              "outlinewidth": 0,
              "ticks": ""
             }
            },
            "type": "scatterternary"
           }
          ],
          "surface": [
           {
            "colorbar": {
             "outlinewidth": 0,
             "ticks": ""
            },
            "colorscale": [
             [
              0,
              "#0d0887"
             ],
             [
              0.1111111111111111,
              "#46039f"
             ],
             [
              0.2222222222222222,
              "#7201a8"
             ],
             [
              0.3333333333333333,
              "#9c179e"
             ],
             [
              0.4444444444444444,
              "#bd3786"
             ],
             [
              0.5555555555555556,
              "#d8576b"
             ],
             [
              0.6666666666666666,
              "#ed7953"
             ],
             [
              0.7777777777777778,
              "#fb9f3a"
             ],
             [
              0.8888888888888888,
              "#fdca26"
             ],
             [
              1,
              "#f0f921"
             ]
            ],
            "type": "surface"
           }
          ],
          "table": [
           {
            "cells": {
             "fill": {
              "color": "#EBF0F8"
             },
             "line": {
              "color": "white"
             }
            },
            "header": {
             "fill": {
              "color": "#C8D4E3"
             },
             "line": {
              "color": "white"
             }
            },
            "type": "table"
           }
          ]
         },
         "layout": {
          "annotationdefaults": {
           "arrowcolor": "#2a3f5f",
           "arrowhead": 0,
           "arrowwidth": 1
          },
          "autotypenumbers": "strict",
          "coloraxis": {
           "colorbar": {
            "outlinewidth": 0,
            "ticks": ""
           }
          },
          "colorscale": {
           "diverging": [
            [
             0,
             "#8e0152"
            ],
            [
             0.1,
             "#c51b7d"
            ],
            [
             0.2,
             "#de77ae"
            ],
            [
             0.3,
             "#f1b6da"
            ],
            [
             0.4,
             "#fde0ef"
            ],
            [
             0.5,
             "#f7f7f7"
            ],
            [
             0.6,
             "#e6f5d0"
            ],
            [
             0.7,
             "#b8e186"
            ],
            [
             0.8,
             "#7fbc41"
            ],
            [
             0.9,
             "#4d9221"
            ],
            [
             1,
             "#276419"
            ]
           ],
           "sequential": [
            [
             0,
             "#0d0887"
            ],
            [
             0.1111111111111111,
             "#46039f"
            ],
            [
             0.2222222222222222,
             "#7201a8"
            ],
            [
             0.3333333333333333,
             "#9c179e"
            ],
            [
             0.4444444444444444,
             "#bd3786"
            ],
            [
             0.5555555555555556,
             "#d8576b"
            ],
            [
             0.6666666666666666,
             "#ed7953"
            ],
            [
             0.7777777777777778,
             "#fb9f3a"
            ],
            [
             0.8888888888888888,
             "#fdca26"
            ],
            [
             1,
             "#f0f921"
            ]
           ],
           "sequentialminus": [
            [
             0,
             "#0d0887"
            ],
            [
             0.1111111111111111,
             "#46039f"
            ],
            [
             0.2222222222222222,
             "#7201a8"
            ],
            [
             0.3333333333333333,
             "#9c179e"
            ],
            [
             0.4444444444444444,
             "#bd3786"
            ],
            [
             0.5555555555555556,
             "#d8576b"
            ],
            [
             0.6666666666666666,
             "#ed7953"
            ],
            [
             0.7777777777777778,
             "#fb9f3a"
            ],
            [
             0.8888888888888888,
             "#fdca26"
            ],
            [
             1,
             "#f0f921"
            ]
           ]
          },
          "colorway": [
           "#636efa",
           "#EF553B",
           "#00cc96",
           "#ab63fa",
           "#FFA15A",
           "#19d3f3",
           "#FF6692",
           "#B6E880",
           "#FF97FF",
           "#FECB52"
          ],
          "font": {
           "color": "#2a3f5f"
          },
          "geo": {
           "bgcolor": "white",
           "lakecolor": "white",
           "landcolor": "#E5ECF6",
           "showlakes": true,
           "showland": true,
           "subunitcolor": "white"
          },
          "hoverlabel": {
           "align": "left"
          },
          "hovermode": "closest",
          "mapbox": {
           "style": "light"
          },
          "paper_bgcolor": "white",
          "plot_bgcolor": "#E5ECF6",
          "polar": {
           "angularaxis": {
            "gridcolor": "white",
            "linecolor": "white",
            "ticks": ""
           },
           "bgcolor": "#E5ECF6",
           "radialaxis": {
            "gridcolor": "white",
            "linecolor": "white",
            "ticks": ""
           }
          },
          "scene": {
           "xaxis": {
            "backgroundcolor": "#E5ECF6",
            "gridcolor": "white",
            "gridwidth": 2,
            "linecolor": "white",
            "showbackground": true,
            "ticks": "",
            "zerolinecolor": "white"
           },
           "yaxis": {
            "backgroundcolor": "#E5ECF6",
            "gridcolor": "white",
            "gridwidth": 2,
            "linecolor": "white",
            "showbackground": true,
            "ticks": "",
            "zerolinecolor": "white"
           },
           "zaxis": {
            "backgroundcolor": "#E5ECF6",
            "gridcolor": "white",
            "gridwidth": 2,
            "linecolor": "white",
            "showbackground": true,
            "ticks": "",
            "zerolinecolor": "white"
           }
          },
          "shapedefaults": {
           "line": {
            "color": "#2a3f5f"
           }
          },
          "ternary": {
           "aaxis": {
            "gridcolor": "white",
            "linecolor": "white",
            "ticks": ""
           },
           "baxis": {
            "gridcolor": "white",
            "linecolor": "white",
            "ticks": ""
           },
           "bgcolor": "#E5ECF6",
           "caxis": {
            "gridcolor": "white",
            "linecolor": "white",
            "ticks": ""
           }
          },
          "title": {
           "x": 0.05
          },
          "xaxis": {
           "automargin": true,
           "gridcolor": "white",
           "linecolor": "white",
           "ticks": "",
           "title": {
            "standoff": 15
           },
           "zerolinecolor": "white",
           "zerolinewidth": 2
          },
          "yaxis": {
           "automargin": true,
           "gridcolor": "white",
           "linecolor": "white",
           "ticks": "",
           "title": {
            "standoff": 15
           },
           "zerolinecolor": "white",
           "zerolinewidth": 2
          }
         }
        },
        "title": {
         "text": "Heatmap flight passengers"
        }
       }
      },
      "text/html": [
       "<div>                            <div id=\"72998184-b333-4882-9d69-e34774b21925\" class=\"plotly-graph-div\" style=\"height:525px; width:100%;\"></div>            <script type=\"text/javascript\">                require([\"plotly\"], function(Plotly) {                    window.PLOTLYENV=window.PLOTLYENV || {};                                    if (document.getElementById(\"72998184-b333-4882-9d69-e34774b21925\")) {                    Plotly.newPlot(                        \"72998184-b333-4882-9d69-e34774b21925\",                        [{\"type\": \"heatmap\", \"x\": [1949, 1949, 1949, 1949, 1949, 1949, 1949, 1949, 1949, 1949, 1949, 1949, 1950, 1950, 1950, 1950, 1950, 1950, 1950, 1950, 1950, 1950, 1950, 1950, 1951, 1951, 1951, 1951, 1951, 1951, 1951, 1951, 1951, 1951, 1951, 1951, 1952, 1952, 1952, 1952, 1952, 1952, 1952, 1952, 1952, 1952, 1952, 1952, 1953, 1953, 1953, 1953, 1953, 1953, 1953, 1953, 1953, 1953, 1953, 1953, 1954, 1954, 1954, 1954, 1954, 1954, 1954, 1954, 1954, 1954, 1954, 1954, 1955, 1955, 1955, 1955, 1955, 1955, 1955, 1955, 1955, 1955, 1955, 1955, 1956, 1956, 1956, 1956, 1956, 1956, 1956, 1956, 1956, 1956, 1956, 1956, 1957, 1957, 1957, 1957, 1957, 1957, 1957, 1957, 1957, 1957, 1957, 1957, 1958, 1958, 1958, 1958, 1958, 1958, 1958, 1958, 1958, 1958, 1958, 1958, 1959, 1959, 1959, 1959, 1959, 1959, 1959, 1959, 1959, 1959, 1959, 1959, 1960, 1960, 1960, 1960, 1960, 1960, 1960, 1960, 1960, 1960, 1960, 1960], \"y\": [\"January\", \"February\", \"March\", \"April\", \"May\", \"June\", \"July\", \"August\", \"September\", \"October\", \"November\", \"December\", \"January\", \"February\", \"March\", \"April\", \"May\", \"June\", \"July\", \"August\", \"September\", \"October\", \"November\", \"December\", \"January\", \"February\", \"March\", \"April\", \"May\", \"June\", \"July\", \"August\", \"September\", \"October\", \"November\", \"December\", \"January\", \"February\", \"March\", \"April\", \"May\", \"June\", \"July\", \"August\", \"September\", \"October\", \"November\", \"December\", \"January\", \"February\", \"March\", \"April\", \"May\", \"June\", \"July\", \"August\", \"September\", \"October\", \"November\", \"December\", \"January\", \"February\", \"March\", \"April\", \"May\", \"June\", \"July\", \"August\", \"September\", \"October\", \"November\", \"December\", \"January\", \"February\", \"March\", \"April\", \"May\", \"June\", \"July\", \"August\", \"September\", \"October\", \"November\", \"December\", \"January\", \"February\", \"March\", \"April\", \"May\", \"June\", \"July\", \"August\", \"September\", \"October\", \"November\", \"December\", \"January\", \"February\", \"March\", \"April\", \"May\", \"June\", \"July\", \"August\", \"September\", \"October\", \"November\", \"December\", \"January\", \"February\", \"March\", \"April\", \"May\", \"June\", \"July\", \"August\", \"September\", \"October\", \"November\", \"December\", \"January\", \"February\", \"March\", \"April\", \"May\", \"June\", \"July\", \"August\", \"September\", \"October\", \"November\", \"December\", \"January\", \"February\", \"March\", \"April\", \"May\", \"June\", \"July\", \"August\", \"September\", \"October\", \"November\", \"December\"], \"z\": [112, 118, 132, 129, 121, 135, 148, 148, 136, 119, 104, 118, 115, 126, 141, 135, 125, 149, 170, 170, 158, 133, 114, 140, 145, 150, 178, 163, 172, 178, 199, 199, 184, 162, 146, 166, 171, 180, 193, 181, 183, 218, 230, 242, 209, 191, 172, 194, 196, 196, 236, 235, 229, 243, 264, 272, 237, 211, 180, 201, 204, 188, 235, 227, 234, 264, 302, 293, 259, 229, 203, 229, 242, 233, 267, 269, 270, 315, 364, 347, 312, 274, 237, 278, 284, 277, 317, 313, 318, 374, 413, 405, 355, 306, 271, 306, 315, 301, 356, 348, 355, 422, 465, 467, 404, 347, 305, 336, 340, 318, 362, 348, 363, 435, 491, 505, 404, 359, 310, 337, 360, 342, 406, 396, 420, 472, 548, 559, 463, 407, 362, 405, 417, 391, 419, 461, 472, 535, 622, 606, 508, 461, 390, 432]}],                        {\"template\": {\"data\": {\"bar\": [{\"error_x\": {\"color\": \"#2a3f5f\"}, \"error_y\": {\"color\": \"#2a3f5f\"}, \"marker\": {\"line\": {\"color\": \"#E5ECF6\", \"width\": 0.5}}, \"type\": \"bar\"}], \"barpolar\": [{\"marker\": {\"line\": {\"color\": \"#E5ECF6\", \"width\": 0.5}}, \"type\": \"barpolar\"}], \"carpet\": [{\"aaxis\": {\"endlinecolor\": \"#2a3f5f\", \"gridcolor\": \"white\", \"linecolor\": \"white\", \"minorgridcolor\": \"white\", \"startlinecolor\": \"#2a3f5f\"}, \"baxis\": {\"endlinecolor\": \"#2a3f5f\", \"gridcolor\": \"white\", \"linecolor\": \"white\", \"minorgridcolor\": \"white\", \"startlinecolor\": \"#2a3f5f\"}, \"type\": \"carpet\"}], \"choropleth\": [{\"colorbar\": {\"outlinewidth\": 0, \"ticks\": \"\"}, \"type\": \"choropleth\"}], \"contour\": [{\"colorbar\": {\"outlinewidth\": 0, \"ticks\": \"\"}, \"colorscale\": [[0.0, \"#0d0887\"], [0.1111111111111111, \"#46039f\"], [0.2222222222222222, \"#7201a8\"], [0.3333333333333333, \"#9c179e\"], [0.4444444444444444, \"#bd3786\"], [0.5555555555555556, \"#d8576b\"], [0.6666666666666666, \"#ed7953\"], [0.7777777777777778, \"#fb9f3a\"], [0.8888888888888888, \"#fdca26\"], [1.0, \"#f0f921\"]], \"type\": \"contour\"}], \"contourcarpet\": [{\"colorbar\": {\"outlinewidth\": 0, \"ticks\": \"\"}, \"type\": \"contourcarpet\"}], \"heatmap\": [{\"colorbar\": {\"outlinewidth\": 0, \"ticks\": \"\"}, \"colorscale\": [[0.0, \"#0d0887\"], [0.1111111111111111, \"#46039f\"], [0.2222222222222222, \"#7201a8\"], [0.3333333333333333, \"#9c179e\"], [0.4444444444444444, \"#bd3786\"], [0.5555555555555556, \"#d8576b\"], [0.6666666666666666, \"#ed7953\"], [0.7777777777777778, \"#fb9f3a\"], [0.8888888888888888, \"#fdca26\"], [1.0, \"#f0f921\"]], \"type\": \"heatmap\"}], \"heatmapgl\": [{\"colorbar\": {\"outlinewidth\": 0, \"ticks\": \"\"}, \"colorscale\": [[0.0, \"#0d0887\"], [0.1111111111111111, \"#46039f\"], [0.2222222222222222, \"#7201a8\"], [0.3333333333333333, \"#9c179e\"], [0.4444444444444444, \"#bd3786\"], [0.5555555555555556, \"#d8576b\"], [0.6666666666666666, \"#ed7953\"], [0.7777777777777778, \"#fb9f3a\"], [0.8888888888888888, \"#fdca26\"], [1.0, \"#f0f921\"]], \"type\": \"heatmapgl\"}], \"histogram\": [{\"marker\": {\"colorbar\": {\"outlinewidth\": 0, \"ticks\": \"\"}}, \"type\": \"histogram\"}], \"histogram2d\": [{\"colorbar\": {\"outlinewidth\": 0, \"ticks\": \"\"}, \"colorscale\": [[0.0, \"#0d0887\"], [0.1111111111111111, \"#46039f\"], [0.2222222222222222, \"#7201a8\"], [0.3333333333333333, \"#9c179e\"], [0.4444444444444444, \"#bd3786\"], [0.5555555555555556, \"#d8576b\"], [0.6666666666666666, \"#ed7953\"], [0.7777777777777778, \"#fb9f3a\"], [0.8888888888888888, \"#fdca26\"], [1.0, \"#f0f921\"]], \"type\": \"histogram2d\"}], \"histogram2dcontour\": [{\"colorbar\": {\"outlinewidth\": 0, \"ticks\": \"\"}, \"colorscale\": [[0.0, \"#0d0887\"], [0.1111111111111111, \"#46039f\"], [0.2222222222222222, \"#7201a8\"], [0.3333333333333333, \"#9c179e\"], [0.4444444444444444, \"#bd3786\"], [0.5555555555555556, \"#d8576b\"], [0.6666666666666666, \"#ed7953\"], [0.7777777777777778, \"#fb9f3a\"], [0.8888888888888888, \"#fdca26\"], [1.0, \"#f0f921\"]], \"type\": \"histogram2dcontour\"}], \"mesh3d\": [{\"colorbar\": {\"outlinewidth\": 0, \"ticks\": \"\"}, \"type\": \"mesh3d\"}], \"parcoords\": [{\"line\": {\"colorbar\": {\"outlinewidth\": 0, \"ticks\": \"\"}}, \"type\": \"parcoords\"}], \"pie\": [{\"automargin\": true, \"type\": \"pie\"}], \"scatter\": [{\"marker\": {\"colorbar\": {\"outlinewidth\": 0, \"ticks\": \"\"}}, \"type\": \"scatter\"}], \"scatter3d\": [{\"line\": {\"colorbar\": {\"outlinewidth\": 0, \"ticks\": \"\"}}, \"marker\": {\"colorbar\": {\"outlinewidth\": 0, \"ticks\": \"\"}}, \"type\": \"scatter3d\"}], \"scattercarpet\": [{\"marker\": {\"colorbar\": {\"outlinewidth\": 0, \"ticks\": \"\"}}, \"type\": \"scattercarpet\"}], \"scattergeo\": [{\"marker\": {\"colorbar\": {\"outlinewidth\": 0, \"ticks\": \"\"}}, \"type\": \"scattergeo\"}], \"scattergl\": [{\"marker\": {\"colorbar\": {\"outlinewidth\": 0, \"ticks\": \"\"}}, \"type\": \"scattergl\"}], \"scattermapbox\": [{\"marker\": {\"colorbar\": {\"outlinewidth\": 0, \"ticks\": \"\"}}, \"type\": \"scattermapbox\"}], \"scatterpolar\": [{\"marker\": {\"colorbar\": {\"outlinewidth\": 0, \"ticks\": \"\"}}, \"type\": \"scatterpolar\"}], \"scatterpolargl\": [{\"marker\": {\"colorbar\": {\"outlinewidth\": 0, \"ticks\": \"\"}}, \"type\": \"scatterpolargl\"}], \"scatterternary\": [{\"marker\": {\"colorbar\": {\"outlinewidth\": 0, \"ticks\": \"\"}}, \"type\": \"scatterternary\"}], \"surface\": [{\"colorbar\": {\"outlinewidth\": 0, \"ticks\": \"\"}, \"colorscale\": [[0.0, \"#0d0887\"], [0.1111111111111111, \"#46039f\"], [0.2222222222222222, \"#7201a8\"], [0.3333333333333333, \"#9c179e\"], [0.4444444444444444, \"#bd3786\"], [0.5555555555555556, \"#d8576b\"], [0.6666666666666666, \"#ed7953\"], [0.7777777777777778, \"#fb9f3a\"], [0.8888888888888888, \"#fdca26\"], [1.0, \"#f0f921\"]], \"type\": \"surface\"}], \"table\": [{\"cells\": {\"fill\": {\"color\": \"#EBF0F8\"}, \"line\": {\"color\": \"white\"}}, \"header\": {\"fill\": {\"color\": \"#C8D4E3\"}, \"line\": {\"color\": \"white\"}}, \"type\": \"table\"}]}, \"layout\": {\"annotationdefaults\": {\"arrowcolor\": \"#2a3f5f\", \"arrowhead\": 0, \"arrowwidth\": 1}, \"autotypenumbers\": \"strict\", \"coloraxis\": {\"colorbar\": {\"outlinewidth\": 0, \"ticks\": \"\"}}, \"colorscale\": {\"diverging\": [[0, \"#8e0152\"], [0.1, \"#c51b7d\"], [0.2, \"#de77ae\"], [0.3, \"#f1b6da\"], [0.4, \"#fde0ef\"], [0.5, \"#f7f7f7\"], [0.6, \"#e6f5d0\"], [0.7, \"#b8e186\"], [0.8, \"#7fbc41\"], [0.9, \"#4d9221\"], [1, \"#276419\"]], \"sequential\": [[0.0, \"#0d0887\"], [0.1111111111111111, \"#46039f\"], [0.2222222222222222, \"#7201a8\"], [0.3333333333333333, \"#9c179e\"], [0.4444444444444444, \"#bd3786\"], [0.5555555555555556, \"#d8576b\"], [0.6666666666666666, \"#ed7953\"], [0.7777777777777778, \"#fb9f3a\"], [0.8888888888888888, \"#fdca26\"], [1.0, \"#f0f921\"]], \"sequentialminus\": [[0.0, \"#0d0887\"], [0.1111111111111111, \"#46039f\"], [0.2222222222222222, \"#7201a8\"], [0.3333333333333333, \"#9c179e\"], [0.4444444444444444, \"#bd3786\"], [0.5555555555555556, \"#d8576b\"], [0.6666666666666666, \"#ed7953\"], [0.7777777777777778, \"#fb9f3a\"], [0.8888888888888888, \"#fdca26\"], [1.0, \"#f0f921\"]]}, \"colorway\": [\"#636efa\", \"#EF553B\", \"#00cc96\", \"#ab63fa\", \"#FFA15A\", \"#19d3f3\", \"#FF6692\", \"#B6E880\", \"#FF97FF\", \"#FECB52\"], \"font\": {\"color\": \"#2a3f5f\"}, \"geo\": {\"bgcolor\": \"white\", \"lakecolor\": \"white\", \"landcolor\": \"#E5ECF6\", \"showlakes\": true, \"showland\": true, \"subunitcolor\": \"white\"}, \"hoverlabel\": {\"align\": \"left\"}, \"hovermode\": \"closest\", \"mapbox\": {\"style\": \"light\"}, \"paper_bgcolor\": \"white\", \"plot_bgcolor\": \"#E5ECF6\", \"polar\": {\"angularaxis\": {\"gridcolor\": \"white\", \"linecolor\": \"white\", \"ticks\": \"\"}, \"bgcolor\": \"#E5ECF6\", \"radialaxis\": {\"gridcolor\": \"white\", \"linecolor\": \"white\", \"ticks\": \"\"}}, \"scene\": {\"xaxis\": {\"backgroundcolor\": \"#E5ECF6\", \"gridcolor\": \"white\", \"gridwidth\": 2, \"linecolor\": \"white\", \"showbackground\": true, \"ticks\": \"\", \"zerolinecolor\": \"white\"}, \"yaxis\": {\"backgroundcolor\": \"#E5ECF6\", \"gridcolor\": \"white\", \"gridwidth\": 2, \"linecolor\": \"white\", \"showbackground\": true, \"ticks\": \"\", \"zerolinecolor\": \"white\"}, \"zaxis\": {\"backgroundcolor\": \"#E5ECF6\", \"gridcolor\": \"white\", \"gridwidth\": 2, \"linecolor\": \"white\", \"showbackground\": true, \"ticks\": \"\", \"zerolinecolor\": \"white\"}}, \"shapedefaults\": {\"line\": {\"color\": \"#2a3f5f\"}}, \"ternary\": {\"aaxis\": {\"gridcolor\": \"white\", \"linecolor\": \"white\", \"ticks\": \"\"}, \"baxis\": {\"gridcolor\": \"white\", \"linecolor\": \"white\", \"ticks\": \"\"}, \"bgcolor\": \"#E5ECF6\", \"caxis\": {\"gridcolor\": \"white\", \"linecolor\": \"white\", \"ticks\": \"\"}}, \"title\": {\"x\": 0.05}, \"xaxis\": {\"automargin\": true, \"gridcolor\": \"white\", \"linecolor\": \"white\", \"ticks\": \"\", \"title\": {\"standoff\": 15}, \"zerolinecolor\": \"white\", \"zerolinewidth\": 2}, \"yaxis\": {\"automargin\": true, \"gridcolor\": \"white\", \"linecolor\": \"white\", \"ticks\": \"\", \"title\": {\"standoff\": 15}, \"zerolinecolor\": \"white\", \"zerolinewidth\": 2}}}, \"title\": {\"text\": \"Heatmap flight passengers\"}},                        {\"responsive\": true}                    ).then(function(){\n",
       "                            \n",
       "var gd = document.getElementById('72998184-b333-4882-9d69-e34774b21925');\n",
       "var x = new MutationObserver(function (mutations, observer) {{\n",
       "        var display = window.getComputedStyle(gd).display;\n",
       "        if (!display || display === 'none') {{\n",
       "            console.log([gd, 'removed!']);\n",
       "            Plotly.purge(gd);\n",
       "            observer.disconnect();\n",
       "        }}\n",
       "}});\n",
       "\n",
       "// Listen for the removal of the full notebook cells\n",
       "var notebookContainer = gd.closest('#notebook-container');\n",
       "if (notebookContainer) {{\n",
       "    x.observe(notebookContainer, {childList: true});\n",
       "}}\n",
       "\n",
       "// Listen for the clearing of the current output cell\n",
       "var outputEl = gd.closest('.output');\n",
       "if (outputEl) {{\n",
       "    x.observe(outputEl, {childList: true});\n",
       "}}\n",
       "\n",
       "                        })                };                });            </script>        </div>"
      ]
     },
     "metadata": {},
     "output_type": "display_data"
    }
   ],
   "source": [
    "# create a heatmap with the following parameters:\n",
    "# x-axis=\"year\"\n",
    "# y-axis=\"month\"\n",
    "# z-axis(color)=\"passengers\"\n",
    "import plotly.graph_objs as go\n",
    "import plotly.offline as pyo\n",
    "import pandas as pd\n",
    "\n",
    "df = pd.read_csv('../../data/bronze/plotlydash/flights.csv')\n",
    "\n",
    "data = [go.Heatmap(x=df['year'],\n",
    "                   y=df['month'],\n",
    "                   z=df['passengers'])]\n",
    "layout = go.Layout(title='Heatmap flight passengers')\n",
    "fig = go.Figure(data=data, layout=layout)\n",
    "pyo.iplot(fig)"
   ]
  },
  {
   "cell_type": "markdown",
   "metadata": {},
   "source": [
    "## geographic map"
   ]
  },
  {
   "cell_type": "code",
   "execution_count": 40,
   "metadata": {},
   "outputs": [
    {
     "data": {
      "application/vnd.plotly.v1+json": {
       "config": {
        "linkText": "Export to plot.ly",
        "plotlyServerURL": "https://plot.ly",
        "showLink": false
       },
       "data": [
        {
         "lat": [
          "51.020103"
         ],
         "lon": [
          "4.466802"
         ],
         "marker": {
          "size": 14
         },
         "mode": "markers",
         "text": [
          "Mechelen"
         ],
         "type": "scattermapbox"
        }
       ],
       "layout": {
        "autosize": true,
        "hovermode": "closest",
        "mapbox": {
         "accesstoken": "pk.eyJ1IjoiYmVpcmUyMDE5IiwiYSI6ImNqdXNiczJpdDF6cXI0ZG11bXB1YW56b3EifQ.Y5l7KpKcJiKlf6fGiisbIg",
         "bearing": 0,
         "center": {
          "lat": 51,
          "lon": 4
         },
         "pitch": 0,
         "zoom": 5
        },
        "template": {
         "data": {
          "bar": [
           {
            "error_x": {
             "color": "#2a3f5f"
            },
            "error_y": {
             "color": "#2a3f5f"
            },
            "marker": {
             "line": {
              "color": "#E5ECF6",
              "width": 0.5
             }
            },
            "type": "bar"
           }
          ],
          "barpolar": [
           {
            "marker": {
             "line": {
              "color": "#E5ECF6",
              "width": 0.5
             }
            },
            "type": "barpolar"
           }
          ],
          "carpet": [
           {
            "aaxis": {
             "endlinecolor": "#2a3f5f",
             "gridcolor": "white",
             "linecolor": "white",
             "minorgridcolor": "white",
             "startlinecolor": "#2a3f5f"
            },
            "baxis": {
             "endlinecolor": "#2a3f5f",
             "gridcolor": "white",
             "linecolor": "white",
             "minorgridcolor": "white",
             "startlinecolor": "#2a3f5f"
            },
            "type": "carpet"
           }
          ],
          "choropleth": [
           {
            "colorbar": {
             "outlinewidth": 0,
             "ticks": ""
            },
            "type": "choropleth"
           }
          ],
          "contour": [
           {
            "colorbar": {
             "outlinewidth": 0,
             "ticks": ""
            },
            "colorscale": [
             [
              0,
              "#0d0887"
             ],
             [
              0.1111111111111111,
              "#46039f"
             ],
             [
              0.2222222222222222,
              "#7201a8"
             ],
             [
              0.3333333333333333,
              "#9c179e"
             ],
             [
              0.4444444444444444,
              "#bd3786"
             ],
             [
              0.5555555555555556,
              "#d8576b"
             ],
             [
              0.6666666666666666,
              "#ed7953"
             ],
             [
              0.7777777777777778,
              "#fb9f3a"
             ],
             [
              0.8888888888888888,
              "#fdca26"
             ],
             [
              1,
              "#f0f921"
             ]
            ],
            "type": "contour"
           }
          ],
          "contourcarpet": [
           {
            "colorbar": {
             "outlinewidth": 0,
             "ticks": ""
            },
            "type": "contourcarpet"
           }
          ],
          "heatmap": [
           {
            "colorbar": {
             "outlinewidth": 0,
             "ticks": ""
            },
            "colorscale": [
             [
              0,
              "#0d0887"
             ],
             [
              0.1111111111111111,
              "#46039f"
             ],
             [
              0.2222222222222222,
              "#7201a8"
             ],
             [
              0.3333333333333333,
              "#9c179e"
             ],
             [
              0.4444444444444444,
              "#bd3786"
             ],
             [
              0.5555555555555556,
              "#d8576b"
             ],
             [
              0.6666666666666666,
              "#ed7953"
             ],
             [
              0.7777777777777778,
              "#fb9f3a"
             ],
             [
              0.8888888888888888,
              "#fdca26"
             ],
             [
              1,
              "#f0f921"
             ]
            ],
            "type": "heatmap"
           }
          ],
          "heatmapgl": [
           {
            "colorbar": {
             "outlinewidth": 0,
             "ticks": ""
            },
            "colorscale": [
             [
              0,
              "#0d0887"
             ],
             [
              0.1111111111111111,
              "#46039f"
             ],
             [
              0.2222222222222222,
              "#7201a8"
             ],
             [
              0.3333333333333333,
              "#9c179e"
             ],
             [
              0.4444444444444444,
              "#bd3786"
             ],
             [
              0.5555555555555556,
              "#d8576b"
             ],
             [
              0.6666666666666666,
              "#ed7953"
             ],
             [
              0.7777777777777778,
              "#fb9f3a"
             ],
             [
              0.8888888888888888,
              "#fdca26"
             ],
             [
              1,
              "#f0f921"
             ]
            ],
            "type": "heatmapgl"
           }
          ],
          "histogram": [
           {
            "marker": {
             "colorbar": {
              "outlinewidth": 0,
              "ticks": ""
             }
            },
            "type": "histogram"
           }
          ],
          "histogram2d": [
           {
            "colorbar": {
             "outlinewidth": 0,
             "ticks": ""
            },
            "colorscale": [
             [
              0,
              "#0d0887"
             ],
             [
              0.1111111111111111,
              "#46039f"
             ],
             [
              0.2222222222222222,
              "#7201a8"
             ],
             [
              0.3333333333333333,
              "#9c179e"
             ],
             [
              0.4444444444444444,
              "#bd3786"
             ],
             [
              0.5555555555555556,
              "#d8576b"
             ],
             [
              0.6666666666666666,
              "#ed7953"
             ],
             [
              0.7777777777777778,
              "#fb9f3a"
             ],
             [
              0.8888888888888888,
              "#fdca26"
             ],
             [
              1,
              "#f0f921"
             ]
            ],
            "type": "histogram2d"
           }
          ],
          "histogram2dcontour": [
           {
            "colorbar": {
             "outlinewidth": 0,
             "ticks": ""
            },
            "colorscale": [
             [
              0,
              "#0d0887"
             ],
             [
              0.1111111111111111,
              "#46039f"
             ],
             [
              0.2222222222222222,
              "#7201a8"
             ],
             [
              0.3333333333333333,
              "#9c179e"
             ],
             [
              0.4444444444444444,
              "#bd3786"
             ],
             [
              0.5555555555555556,
              "#d8576b"
             ],
             [
              0.6666666666666666,
              "#ed7953"
             ],
             [
              0.7777777777777778,
              "#fb9f3a"
             ],
             [
              0.8888888888888888,
              "#fdca26"
             ],
             [
              1,
              "#f0f921"
             ]
            ],
            "type": "histogram2dcontour"
           }
          ],
          "mesh3d": [
           {
            "colorbar": {
             "outlinewidth": 0,
             "ticks": ""
            },
            "type": "mesh3d"
           }
          ],
          "parcoords": [
           {
            "line": {
             "colorbar": {
              "outlinewidth": 0,
              "ticks": ""
             }
            },
            "type": "parcoords"
           }
          ],
          "pie": [
           {
            "automargin": true,
            "type": "pie"
           }
          ],
          "scatter": [
           {
            "marker": {
             "colorbar": {
              "outlinewidth": 0,
              "ticks": ""
             }
            },
            "type": "scatter"
           }
          ],
          "scatter3d": [
           {
            "line": {
             "colorbar": {
              "outlinewidth": 0,
              "ticks": ""
             }
            },
            "marker": {
             "colorbar": {
              "outlinewidth": 0,
              "ticks": ""
             }
            },
            "type": "scatter3d"
           }
          ],
          "scattercarpet": [
           {
            "marker": {
             "colorbar": {
              "outlinewidth": 0,
              "ticks": ""
             }
            },
            "type": "scattercarpet"
           }
          ],
          "scattergeo": [
           {
            "marker": {
             "colorbar": {
              "outlinewidth": 0,
              "ticks": ""
             }
            },
            "type": "scattergeo"
           }
          ],
          "scattergl": [
           {
            "marker": {
             "colorbar": {
              "outlinewidth": 0,
              "ticks": ""
             }
            },
            "type": "scattergl"
           }
          ],
          "scattermapbox": [
           {
            "marker": {
             "colorbar": {
              "outlinewidth": 0,
              "ticks": ""
             }
            },
            "type": "scattermapbox"
           }
          ],
          "scatterpolar": [
           {
            "marker": {
             "colorbar": {
              "outlinewidth": 0,
              "ticks": ""
             }
            },
            "type": "scatterpolar"
           }
          ],
          "scatterpolargl": [
           {
            "marker": {
             "colorbar": {
              "outlinewidth": 0,
              "ticks": ""
             }
            },
            "type": "scatterpolargl"
           }
          ],
          "scatterternary": [
           {
            "marker": {
             "colorbar": {
              "outlinewidth": 0,
              "ticks": ""
             }
            },
            "type": "scatterternary"
           }
          ],
          "surface": [
           {
            "colorbar": {
             "outlinewidth": 0,
             "ticks": ""
            },
            "colorscale": [
             [
              0,
              "#0d0887"
             ],
             [
              0.1111111111111111,
              "#46039f"
             ],
             [
              0.2222222222222222,
              "#7201a8"
             ],
             [
              0.3333333333333333,
              "#9c179e"
             ],
             [
              0.4444444444444444,
              "#bd3786"
             ],
             [
              0.5555555555555556,
              "#d8576b"
             ],
             [
              0.6666666666666666,
              "#ed7953"
             ],
             [
              0.7777777777777778,
              "#fb9f3a"
             ],
             [
              0.8888888888888888,
              "#fdca26"
             ],
             [
              1,
              "#f0f921"
             ]
            ],
            "type": "surface"
           }
          ],
          "table": [
           {
            "cells": {
             "fill": {
              "color": "#EBF0F8"
             },
             "line": {
              "color": "white"
             }
            },
            "header": {
             "fill": {
              "color": "#C8D4E3"
             },
             "line": {
              "color": "white"
             }
            },
            "type": "table"
           }
          ]
         },
         "layout": {
          "annotationdefaults": {
           "arrowcolor": "#2a3f5f",
           "arrowhead": 0,
           "arrowwidth": 1
          },
          "autotypenumbers": "strict",
          "coloraxis": {
           "colorbar": {
            "outlinewidth": 0,
            "ticks": ""
           }
          },
          "colorscale": {
           "diverging": [
            [
             0,
             "#8e0152"
            ],
            [
             0.1,
             "#c51b7d"
            ],
            [
             0.2,
             "#de77ae"
            ],
            [
             0.3,
             "#f1b6da"
            ],
            [
             0.4,
             "#fde0ef"
            ],
            [
             0.5,
             "#f7f7f7"
            ],
            [
             0.6,
             "#e6f5d0"
            ],
            [
             0.7,
             "#b8e186"
            ],
            [
             0.8,
             "#7fbc41"
            ],
            [
             0.9,
             "#4d9221"
            ],
            [
             1,
             "#276419"
            ]
           ],
           "sequential": [
            [
             0,
             "#0d0887"
            ],
            [
             0.1111111111111111,
             "#46039f"
            ],
            [
             0.2222222222222222,
             "#7201a8"
            ],
            [
             0.3333333333333333,
             "#9c179e"
            ],
            [
             0.4444444444444444,
             "#bd3786"
            ],
            [
             0.5555555555555556,
             "#d8576b"
            ],
            [
             0.6666666666666666,
             "#ed7953"
            ],
            [
             0.7777777777777778,
             "#fb9f3a"
            ],
            [
             0.8888888888888888,
             "#fdca26"
            ],
            [
             1,
             "#f0f921"
            ]
           ],
           "sequentialminus": [
            [
             0,
             "#0d0887"
            ],
            [
             0.1111111111111111,
             "#46039f"
            ],
            [
             0.2222222222222222,
             "#7201a8"
            ],
            [
             0.3333333333333333,
             "#9c179e"
            ],
            [
             0.4444444444444444,
             "#bd3786"
            ],
            [
             0.5555555555555556,
             "#d8576b"
            ],
            [
             0.6666666666666666,
             "#ed7953"
            ],
            [
             0.7777777777777778,
             "#fb9f3a"
            ],
            [
             0.8888888888888888,
             "#fdca26"
            ],
            [
             1,
             "#f0f921"
            ]
           ]
          },
          "colorway": [
           "#636efa",
           "#EF553B",
           "#00cc96",
           "#ab63fa",
           "#FFA15A",
           "#19d3f3",
           "#FF6692",
           "#B6E880",
           "#FF97FF",
           "#FECB52"
          ],
          "font": {
           "color": "#2a3f5f"
          },
          "geo": {
           "bgcolor": "white",
           "lakecolor": "white",
           "landcolor": "#E5ECF6",
           "showlakes": true,
           "showland": true,
           "subunitcolor": "white"
          },
          "hoverlabel": {
           "align": "left"
          },
          "hovermode": "closest",
          "mapbox": {
           "style": "light"
          },
          "paper_bgcolor": "white",
          "plot_bgcolor": "#E5ECF6",
          "polar": {
           "angularaxis": {
            "gridcolor": "white",
            "linecolor": "white",
            "ticks": ""
           },
           "bgcolor": "#E5ECF6",
           "radialaxis": {
            "gridcolor": "white",
            "linecolor": "white",
            "ticks": ""
           }
          },
          "scene": {
           "xaxis": {
            "backgroundcolor": "#E5ECF6",
            "gridcolor": "white",
            "gridwidth": 2,
            "linecolor": "white",
            "showbackground": true,
            "ticks": "",
            "zerolinecolor": "white"
           },
           "yaxis": {
            "backgroundcolor": "#E5ECF6",
            "gridcolor": "white",
            "gridwidth": 2,
            "linecolor": "white",
            "showbackground": true,
            "ticks": "",
            "zerolinecolor": "white"
           },
           "zaxis": {
            "backgroundcolor": "#E5ECF6",
            "gridcolor": "white",
            "gridwidth": 2,
            "linecolor": "white",
            "showbackground": true,
            "ticks": "",
            "zerolinecolor": "white"
           }
          },
          "shapedefaults": {
           "line": {
            "color": "#2a3f5f"
           }
          },
          "ternary": {
           "aaxis": {
            "gridcolor": "white",
            "linecolor": "white",
            "ticks": ""
           },
           "baxis": {
            "gridcolor": "white",
            "linecolor": "white",
            "ticks": ""
           },
           "bgcolor": "#E5ECF6",
           "caxis": {
            "gridcolor": "white",
            "linecolor": "white",
            "ticks": ""
           }
          },
          "title": {
           "x": 0.05
          },
          "xaxis": {
           "automargin": true,
           "gridcolor": "white",
           "linecolor": "white",
           "ticks": "",
           "title": {
            "standoff": 15
           },
           "zerolinecolor": "white",
           "zerolinewidth": 2
          },
          "yaxis": {
           "automargin": true,
           "gridcolor": "white",
           "linecolor": "white",
           "ticks": "",
           "title": {
            "standoff": 15
           },
           "zerolinecolor": "white",
           "zerolinewidth": 2
          }
         }
        }
       }
      },
      "text/html": [
       "<div>                            <div id=\"a222e938-da13-459f-b400-0a9fe1044bfd\" class=\"plotly-graph-div\" style=\"height:525px; width:100%;\"></div>            <script type=\"text/javascript\">                require([\"plotly\"], function(Plotly) {                    window.PLOTLYENV=window.PLOTLYENV || {};                                    if (document.getElementById(\"a222e938-da13-459f-b400-0a9fe1044bfd\")) {                    Plotly.newPlot(                        \"a222e938-da13-459f-b400-0a9fe1044bfd\",                        [{\"lat\": [\"51.020103\"], \"lon\": [\"4.466802\"], \"marker\": {\"size\": 14}, \"mode\": \"markers\", \"text\": [\"Mechelen\"], \"type\": \"scattermapbox\"}],                        {\"autosize\": true, \"hovermode\": \"closest\", \"mapbox\": {\"accesstoken\": \"pk.eyJ1IjoiYmVpcmUyMDE5IiwiYSI6ImNqdXNiczJpdDF6cXI0ZG11bXB1YW56b3EifQ.Y5l7KpKcJiKlf6fGiisbIg\", \"bearing\": 0, \"center\": {\"lat\": 51, \"lon\": 4}, \"pitch\": 0, \"zoom\": 5}, \"template\": {\"data\": {\"bar\": [{\"error_x\": {\"color\": \"#2a3f5f\"}, \"error_y\": {\"color\": \"#2a3f5f\"}, \"marker\": {\"line\": {\"color\": \"#E5ECF6\", \"width\": 0.5}}, \"type\": \"bar\"}], \"barpolar\": [{\"marker\": {\"line\": {\"color\": \"#E5ECF6\", \"width\": 0.5}}, \"type\": \"barpolar\"}], \"carpet\": [{\"aaxis\": {\"endlinecolor\": \"#2a3f5f\", \"gridcolor\": \"white\", \"linecolor\": \"white\", \"minorgridcolor\": \"white\", \"startlinecolor\": \"#2a3f5f\"}, \"baxis\": {\"endlinecolor\": \"#2a3f5f\", \"gridcolor\": \"white\", \"linecolor\": \"white\", \"minorgridcolor\": \"white\", \"startlinecolor\": \"#2a3f5f\"}, \"type\": \"carpet\"}], \"choropleth\": [{\"colorbar\": {\"outlinewidth\": 0, \"ticks\": \"\"}, \"type\": \"choropleth\"}], \"contour\": [{\"colorbar\": {\"outlinewidth\": 0, \"ticks\": \"\"}, \"colorscale\": [[0.0, \"#0d0887\"], [0.1111111111111111, \"#46039f\"], [0.2222222222222222, \"#7201a8\"], [0.3333333333333333, \"#9c179e\"], [0.4444444444444444, \"#bd3786\"], [0.5555555555555556, \"#d8576b\"], [0.6666666666666666, \"#ed7953\"], [0.7777777777777778, \"#fb9f3a\"], [0.8888888888888888, \"#fdca26\"], [1.0, \"#f0f921\"]], \"type\": \"contour\"}], \"contourcarpet\": [{\"colorbar\": {\"outlinewidth\": 0, \"ticks\": \"\"}, \"type\": \"contourcarpet\"}], \"heatmap\": [{\"colorbar\": {\"outlinewidth\": 0, \"ticks\": \"\"}, \"colorscale\": [[0.0, \"#0d0887\"], [0.1111111111111111, \"#46039f\"], [0.2222222222222222, \"#7201a8\"], [0.3333333333333333, \"#9c179e\"], [0.4444444444444444, \"#bd3786\"], [0.5555555555555556, \"#d8576b\"], [0.6666666666666666, \"#ed7953\"], [0.7777777777777778, \"#fb9f3a\"], [0.8888888888888888, \"#fdca26\"], [1.0, \"#f0f921\"]], \"type\": \"heatmap\"}], \"heatmapgl\": [{\"colorbar\": {\"outlinewidth\": 0, \"ticks\": \"\"}, \"colorscale\": [[0.0, \"#0d0887\"], [0.1111111111111111, \"#46039f\"], [0.2222222222222222, \"#7201a8\"], [0.3333333333333333, \"#9c179e\"], [0.4444444444444444, \"#bd3786\"], [0.5555555555555556, \"#d8576b\"], [0.6666666666666666, \"#ed7953\"], [0.7777777777777778, \"#fb9f3a\"], [0.8888888888888888, \"#fdca26\"], [1.0, \"#f0f921\"]], \"type\": \"heatmapgl\"}], \"histogram\": [{\"marker\": {\"colorbar\": {\"outlinewidth\": 0, \"ticks\": \"\"}}, \"type\": \"histogram\"}], \"histogram2d\": [{\"colorbar\": {\"outlinewidth\": 0, \"ticks\": \"\"}, \"colorscale\": [[0.0, \"#0d0887\"], [0.1111111111111111, \"#46039f\"], [0.2222222222222222, \"#7201a8\"], [0.3333333333333333, \"#9c179e\"], [0.4444444444444444, \"#bd3786\"], [0.5555555555555556, \"#d8576b\"], [0.6666666666666666, \"#ed7953\"], [0.7777777777777778, \"#fb9f3a\"], [0.8888888888888888, \"#fdca26\"], [1.0, \"#f0f921\"]], \"type\": \"histogram2d\"}], \"histogram2dcontour\": [{\"colorbar\": {\"outlinewidth\": 0, \"ticks\": \"\"}, \"colorscale\": [[0.0, \"#0d0887\"], [0.1111111111111111, \"#46039f\"], [0.2222222222222222, \"#7201a8\"], [0.3333333333333333, \"#9c179e\"], [0.4444444444444444, \"#bd3786\"], [0.5555555555555556, \"#d8576b\"], [0.6666666666666666, \"#ed7953\"], [0.7777777777777778, \"#fb9f3a\"], [0.8888888888888888, \"#fdca26\"], [1.0, \"#f0f921\"]], \"type\": \"histogram2dcontour\"}], \"mesh3d\": [{\"colorbar\": {\"outlinewidth\": 0, \"ticks\": \"\"}, \"type\": \"mesh3d\"}], \"parcoords\": [{\"line\": {\"colorbar\": {\"outlinewidth\": 0, \"ticks\": \"\"}}, \"type\": \"parcoords\"}], \"pie\": [{\"automargin\": true, \"type\": \"pie\"}], \"scatter\": [{\"marker\": {\"colorbar\": {\"outlinewidth\": 0, \"ticks\": \"\"}}, \"type\": \"scatter\"}], \"scatter3d\": [{\"line\": {\"colorbar\": {\"outlinewidth\": 0, \"ticks\": \"\"}}, \"marker\": {\"colorbar\": {\"outlinewidth\": 0, \"ticks\": \"\"}}, \"type\": \"scatter3d\"}], \"scattercarpet\": [{\"marker\": {\"colorbar\": {\"outlinewidth\": 0, \"ticks\": \"\"}}, \"type\": \"scattercarpet\"}], \"scattergeo\": [{\"marker\": {\"colorbar\": {\"outlinewidth\": 0, \"ticks\": \"\"}}, \"type\": \"scattergeo\"}], \"scattergl\": [{\"marker\": {\"colorbar\": {\"outlinewidth\": 0, \"ticks\": \"\"}}, \"type\": \"scattergl\"}], \"scattermapbox\": [{\"marker\": {\"colorbar\": {\"outlinewidth\": 0, \"ticks\": \"\"}}, \"type\": \"scattermapbox\"}], \"scatterpolar\": [{\"marker\": {\"colorbar\": {\"outlinewidth\": 0, \"ticks\": \"\"}}, \"type\": \"scatterpolar\"}], \"scatterpolargl\": [{\"marker\": {\"colorbar\": {\"outlinewidth\": 0, \"ticks\": \"\"}}, \"type\": \"scatterpolargl\"}], \"scatterternary\": [{\"marker\": {\"colorbar\": {\"outlinewidth\": 0, \"ticks\": \"\"}}, \"type\": \"scatterternary\"}], \"surface\": [{\"colorbar\": {\"outlinewidth\": 0, \"ticks\": \"\"}, \"colorscale\": [[0.0, \"#0d0887\"], [0.1111111111111111, \"#46039f\"], [0.2222222222222222, \"#7201a8\"], [0.3333333333333333, \"#9c179e\"], [0.4444444444444444, \"#bd3786\"], [0.5555555555555556, \"#d8576b\"], [0.6666666666666666, \"#ed7953\"], [0.7777777777777778, \"#fb9f3a\"], [0.8888888888888888, \"#fdca26\"], [1.0, \"#f0f921\"]], \"type\": \"surface\"}], \"table\": [{\"cells\": {\"fill\": {\"color\": \"#EBF0F8\"}, \"line\": {\"color\": \"white\"}}, \"header\": {\"fill\": {\"color\": \"#C8D4E3\"}, \"line\": {\"color\": \"white\"}}, \"type\": \"table\"}]}, \"layout\": {\"annotationdefaults\": {\"arrowcolor\": \"#2a3f5f\", \"arrowhead\": 0, \"arrowwidth\": 1}, \"autotypenumbers\": \"strict\", \"coloraxis\": {\"colorbar\": {\"outlinewidth\": 0, \"ticks\": \"\"}}, \"colorscale\": {\"diverging\": [[0, \"#8e0152\"], [0.1, \"#c51b7d\"], [0.2, \"#de77ae\"], [0.3, \"#f1b6da\"], [0.4, \"#fde0ef\"], [0.5, \"#f7f7f7\"], [0.6, \"#e6f5d0\"], [0.7, \"#b8e186\"], [0.8, \"#7fbc41\"], [0.9, \"#4d9221\"], [1, \"#276419\"]], \"sequential\": [[0.0, \"#0d0887\"], [0.1111111111111111, \"#46039f\"], [0.2222222222222222, \"#7201a8\"], [0.3333333333333333, \"#9c179e\"], [0.4444444444444444, \"#bd3786\"], [0.5555555555555556, \"#d8576b\"], [0.6666666666666666, \"#ed7953\"], [0.7777777777777778, \"#fb9f3a\"], [0.8888888888888888, \"#fdca26\"], [1.0, \"#f0f921\"]], \"sequentialminus\": [[0.0, \"#0d0887\"], [0.1111111111111111, \"#46039f\"], [0.2222222222222222, \"#7201a8\"], [0.3333333333333333, \"#9c179e\"], [0.4444444444444444, \"#bd3786\"], [0.5555555555555556, \"#d8576b\"], [0.6666666666666666, \"#ed7953\"], [0.7777777777777778, \"#fb9f3a\"], [0.8888888888888888, \"#fdca26\"], [1.0, \"#f0f921\"]]}, \"colorway\": [\"#636efa\", \"#EF553B\", \"#00cc96\", \"#ab63fa\", \"#FFA15A\", \"#19d3f3\", \"#FF6692\", \"#B6E880\", \"#FF97FF\", \"#FECB52\"], \"font\": {\"color\": \"#2a3f5f\"}, \"geo\": {\"bgcolor\": \"white\", \"lakecolor\": \"white\", \"landcolor\": \"#E5ECF6\", \"showlakes\": true, \"showland\": true, \"subunitcolor\": \"white\"}, \"hoverlabel\": {\"align\": \"left\"}, \"hovermode\": \"closest\", \"mapbox\": {\"style\": \"light\"}, \"paper_bgcolor\": \"white\", \"plot_bgcolor\": \"#E5ECF6\", \"polar\": {\"angularaxis\": {\"gridcolor\": \"white\", \"linecolor\": \"white\", \"ticks\": \"\"}, \"bgcolor\": \"#E5ECF6\", \"radialaxis\": {\"gridcolor\": \"white\", \"linecolor\": \"white\", \"ticks\": \"\"}}, \"scene\": {\"xaxis\": {\"backgroundcolor\": \"#E5ECF6\", \"gridcolor\": \"white\", \"gridwidth\": 2, \"linecolor\": \"white\", \"showbackground\": true, \"ticks\": \"\", \"zerolinecolor\": \"white\"}, \"yaxis\": {\"backgroundcolor\": \"#E5ECF6\", \"gridcolor\": \"white\", \"gridwidth\": 2, \"linecolor\": \"white\", \"showbackground\": true, \"ticks\": \"\", \"zerolinecolor\": \"white\"}, \"zaxis\": {\"backgroundcolor\": \"#E5ECF6\", \"gridcolor\": \"white\", \"gridwidth\": 2, \"linecolor\": \"white\", \"showbackground\": true, \"ticks\": \"\", \"zerolinecolor\": \"white\"}}, \"shapedefaults\": {\"line\": {\"color\": \"#2a3f5f\"}}, \"ternary\": {\"aaxis\": {\"gridcolor\": \"white\", \"linecolor\": \"white\", \"ticks\": \"\"}, \"baxis\": {\"gridcolor\": \"white\", \"linecolor\": \"white\", \"ticks\": \"\"}, \"bgcolor\": \"#E5ECF6\", \"caxis\": {\"gridcolor\": \"white\", \"linecolor\": \"white\", \"ticks\": \"\"}}, \"title\": {\"x\": 0.05}, \"xaxis\": {\"automargin\": true, \"gridcolor\": \"white\", \"linecolor\": \"white\", \"ticks\": \"\", \"title\": {\"standoff\": 15}, \"zerolinecolor\": \"white\", \"zerolinewidth\": 2}, \"yaxis\": {\"automargin\": true, \"gridcolor\": \"white\", \"linecolor\": \"white\", \"ticks\": \"\", \"title\": {\"standoff\": 15}, \"zerolinecolor\": \"white\", \"zerolinewidth\": 2}}}},                        {\"responsive\": true}                    ).then(function(){\n",
       "                            \n",
       "var gd = document.getElementById('a222e938-da13-459f-b400-0a9fe1044bfd');\n",
       "var x = new MutationObserver(function (mutations, observer) {{\n",
       "        var display = window.getComputedStyle(gd).display;\n",
       "        if (!display || display === 'none') {{\n",
       "            console.log([gd, 'removed!']);\n",
       "            Plotly.purge(gd);\n",
       "            observer.disconnect();\n",
       "        }}\n",
       "}});\n",
       "\n",
       "// Listen for the removal of the full notebook cells\n",
       "var notebookContainer = gd.closest('#notebook-container');\n",
       "if (notebookContainer) {{\n",
       "    x.observe(notebookContainer, {childList: true});\n",
       "}}\n",
       "\n",
       "// Listen for the clearing of the current output cell\n",
       "var outputEl = gd.closest('.output');\n",
       "if (outputEl) {{\n",
       "    x.observe(outputEl, {childList: true});\n",
       "}}\n",
       "\n",
       "                        })                };                });            </script>        </div>"
      ]
     },
     "metadata": {},
     "output_type": "display_data"
    }
   ],
   "source": [
    "# a scatter plot on a geographic map\n",
    "import plotly.graph_objs as go\n",
    "import plotly.offline as pyo\n",
    "\n",
    "# generate account, https://account.mapbox.com/access-tokens/\n",
    "mapbox_access_token = 'pk.eyJ1IjoiYmVpcmUyMDE5IiwiYSI6ImNqdXNiczJpdDF6cXI0ZG11bXB1YW56b3EifQ.Y5l7KpKcJiKlf6fGiisbIg'\n",
    "\n",
    "data = [go.Scattermapbox(lat=['51.020103'],\n",
    "                         lon=['4.466802'],\n",
    "                         mode='markers',\n",
    "                         marker=go.scattermapbox.Marker(size=14),\n",
    "                         text=['Mechelen'])]\n",
    "\n",
    "layout = go.Layout(autosize=True,\n",
    "                   hovermode='closest',\n",
    "                   mapbox=go.layout.Mapbox(accesstoken=mapbox_access_token,\n",
    "                                           bearing=0,\n",
    "                                           center=go.layout.mapbox.Center(lat=51,\n",
    "                                                                          lon=4),\n",
    "                                           pitch=0,\n",
    "                                           zoom=5))\n",
    "\n",
    "fig = go.Figure(data=data, layout=layout)\n",
    "pyo.iplot(fig)"
   ]
  },
  {
   "cell_type": "code",
   "execution_count": null,
   "metadata": {},
   "outputs": [],
   "source": []
  }
 ],
 "metadata": {
  "kernelspec": {
   "display_name": "py38_dashboard",
   "language": "python",
   "name": "conda-env-py38_dashboard-py"
  },
  "language_info": {
   "codemirror_mode": {
    "name": "ipython",
    "version": 3
   },
   "file_extension": ".py",
   "mimetype": "text/x-python",
   "name": "python",
   "nbconvert_exporter": "python",
   "pygments_lexer": "ipython3",
   "version": "3.8.8"
  }
 },
 "nbformat": 4,
 "nbformat_minor": 4
}
