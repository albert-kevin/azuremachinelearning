{
 "cells": [
  {
   "cell_type": "markdown",
   "metadata": {},
   "source": [
    "Author: Kevin ALBERT  \n",
    "\n",
    "Created: September 2020  "
   ]
  },
  {
   "cell_type": "markdown",
   "metadata": {},
   "source": [
    "# Datareport\n",
    "_**How to generate an interactive and static report.**_"
   ]
  },
  {
   "cell_type": "code",
   "execution_count": null,
   "metadata": {},
   "outputs": [],
   "source": [
    "# install python modules\n",
    "!conda install -y -c conda-forge pandas-profiling dtale seaborn pyarrow fastparquet xlrd"
   ]
  },
  {
   "cell_type": "code",
   "execution_count": 1,
   "metadata": {},
   "outputs": [],
   "source": [
    "import pandas as pd\n",
    "import dtale\n",
    "import pandas_profiling as pp\n",
    "from IPython.display import Javascript"
   ]
  },
  {
   "cell_type": "code",
   "execution_count": 2,
   "metadata": {},
   "outputs": [
    {
     "name": "stdout",
     "output_type": "stream",
     "text": [
      "conda 4.8.4\n",
      "Python 3.8.5\n",
      "pandas                    1.1.0            py38h950e882_0    conda-forge\n",
      "pandas-profiling          2.8.0              pyh9f0ad1d_1    conda-forge\n",
      "dtale                     1.15.2             pyh9f0ad1d_1    conda-forge\n"
     ]
    }
   ],
   "source": [
    "# check versions\n",
    "!conda -V\n",
    "!python -V\n",
    "!conda list |grep pandas\n",
    "!conda list |grep pandas_profiling\n",
    "!conda list |grep dtale"
   ]
  },
  {
   "cell_type": "markdown",
   "metadata": {},
   "source": [
    "### load data"
   ]
  },
  {
   "cell_type": "code",
   "execution_count": 3,
   "metadata": {},
   "outputs": [],
   "source": [
    "# demo with clean '*.parquet' data: ../bronze/ -> silver -> gold -> platinum\n",
    "df = pd.read_parquet('../../data/platinum/diabetes.parquet')"
   ]
  },
  {
   "cell_type": "markdown",
   "metadata": {},
   "source": [
    "### summary"
   ]
  },
  {
   "cell_type": "code",
   "execution_count": 4,
   "metadata": {},
   "outputs": [
    {
     "name": "stdout",
     "output_type": "stream",
     "text": [
      "<class 'pandas.core.frame.DataFrame'>\n",
      "RangeIndex: 10000 entries, 0 to 9999\n",
      "Data columns (total 10 columns):\n",
      " #   Column                  Non-Null Count  Dtype  \n",
      "---  ------                  --------------  -----  \n",
      " 0   PatientID               10000 non-null  int64  \n",
      " 1   Pregnancies             10000 non-null  int64  \n",
      " 2   PlasmaGlucose           10000 non-null  int64  \n",
      " 3   DiastolicBloodPressure  10000 non-null  int64  \n",
      " 4   TricepsThickness        10000 non-null  int64  \n",
      " 5   SerumInsulin            10000 non-null  int64  \n",
      " 6   BMI                     10000 non-null  float64\n",
      " 7   DiabetesPedigree        10000 non-null  float64\n",
      " 8   Age                     10000 non-null  int64  \n",
      " 9   Diabetic                10000 non-null  int64  \n",
      "dtypes: float64(2), int64(8)\n",
      "memory usage: 781.4 KB\n"
     ]
    }
   ],
   "source": [
    "# concise summary (shape, memory use, data types, nan's)\n",
    "df.info()"
   ]
  },
  {
   "cell_type": "markdown",
   "metadata": {},
   "source": [
    "### interactive report"
   ]
  },
  {
   "cell_type": "code",
   "execution_count": 5,
   "metadata": {},
   "outputs": [],
   "source": [
    "# start webapp (change IP, port)\n",
    "d = dtale.show(df, host=\"52.174.238.247\", port=\"40000\", ignore_duplicate=True, drop_index=True, reaper_on=False)"
   ]
  },
  {
   "cell_type": "code",
   "execution_count": 6,
   "metadata": {},
   "outputs": [
    {
     "name": "stdout",
     "output_type": "stream",
     "text": [
      "http://52.174.238.247:40000/dtale/main/1\n"
     ]
    }
   ],
   "source": [
    "# show all running instances\n",
    "d.main_url()"
   ]
  },
  {
   "cell_type": "code",
   "execution_count": 7,
   "metadata": {},
   "outputs": [
    {
     "name": "stdout",
     "output_type": "stream",
     "text": [
      "Executing shutdown...\n"
     ]
    },
    {
     "name": "stderr",
     "output_type": "stream",
     "text": [
      "2020-09-27 15:38:50,014 - INFO     - Executing shutdown...\n"
     ]
    }
   ],
   "source": [
    "# stop webapp\n",
    "d.kill()"
   ]
  },
  {
   "cell_type": "markdown",
   "metadata": {},
   "source": [
    "### static report"
   ]
  },
  {
   "cell_type": "code",
   "execution_count": 8,
   "metadata": {},
   "outputs": [],
   "source": [
    "reportFile = \"../../data/report/diabetes_report.html\""
   ]
  },
  {
   "cell_type": "code",
   "execution_count": 9,
   "metadata": {},
   "outputs": [
    {
     "data": {
      "application/vnd.jupyter.widget-view+json": {
       "model_id": "777b9613c1004c0db06ff0301de1385e",
       "version_major": 2,
       "version_minor": 0
      },
      "text/plain": [
       "HBox(children=(FloatProgress(value=0.0, description='Summarize dataset', max=20.0, style=ProgressStyle(descrip…"
      ]
     },
     "metadata": {},
     "output_type": "display_data"
    },
    {
     "name": "stdout",
     "output_type": "stream",
     "text": [
      "\n"
     ]
    },
    {
     "data": {
      "application/vnd.jupyter.widget-view+json": {
       "model_id": "abd020b9049046f3acf7807de683c024",
       "version_major": 2,
       "version_minor": 0
      },
      "text/plain": [
       "HBox(children=(FloatProgress(value=0.0, description='Generate report structure', max=1.0, style=ProgressStyle(…"
      ]
     },
     "metadata": {},
     "output_type": "display_data"
    },
    {
     "name": "stdout",
     "output_type": "stream",
     "text": [
      "\n"
     ]
    },
    {
     "data": {
      "application/vnd.jupyter.widget-view+json": {
       "model_id": "2741e37d4ef1419182f13ac673addc16",
       "version_major": 2,
       "version_minor": 0
      },
      "text/plain": [
       "HBox(children=(FloatProgress(value=0.0, description='Render HTML', max=1.0, style=ProgressStyle(description_wi…"
      ]
     },
     "metadata": {},
     "output_type": "display_data"
    },
    {
     "name": "stdout",
     "output_type": "stream",
     "text": [
      "\n"
     ]
    },
    {
     "data": {
      "application/vnd.jupyter.widget-view+json": {
       "model_id": "cb973b43602c40ea9e140bcaa3abccea",
       "version_major": 2,
       "version_minor": 0
      },
      "text/plain": [
       "HBox(children=(FloatProgress(value=0.0, description='Export report to file', max=1.0, style=ProgressStyle(desc…"
      ]
     },
     "metadata": {},
     "output_type": "display_data"
    },
    {
     "name": "stdout",
     "output_type": "stream",
     "text": [
      "\n"
     ]
    }
   ],
   "source": [
    "# quick report on 100% records (no correlation matrix stuff)\n",
    "pp.ProfileReport(df=df.sample(frac=1),\n",
    "                 minimal=True,\n",
    "                 correlations={\"cramers\": {\"calculate\": False}}).to_file(reportFile)"
   ]
  },
  {
   "cell_type": "code",
   "execution_count": 10,
   "metadata": {},
   "outputs": [
    {
     "data": {
      "application/javascript": [
       "window.open(\"../../data/report/diabetes_report.html\");"
      ],
      "text/plain": [
       "<IPython.core.display.Javascript object>"
      ]
     },
     "metadata": {},
     "output_type": "display_data"
    }
   ],
   "source": [
    "# open the report (*.html)\n",
    "display(Javascript('window.open(\"{url}\");'.format(url=reportFile)))"
   ]
  },
  {
   "cell_type": "markdown",
   "metadata": {},
   "source": [
    "#### then further generate code to clean the dataset..."
   ]
  }
 ],
 "metadata": {
  "kernelspec": {
   "display_name": "py38_datareport",
   "language": "python",
   "name": "conda-env-py38_datareport-py"
  },
  "language_info": {
   "codemirror_mode": {
    "name": "ipython",
    "version": 3
   },
   "file_extension": ".py",
   "mimetype": "text/x-python",
   "name": "python",
   "nbconvert_exporter": "python",
   "pygments_lexer": "ipython3",
   "version": "3.8.5"
  }
 },
 "nbformat": 4,
 "nbformat_minor": 4
}
